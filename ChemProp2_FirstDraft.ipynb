{
 "cells": [
  {
   "cell_type": "markdown",
   "id": "2dc69c1a",
   "metadata": {},
   "source": [
    "## ChemProp2\n",
    "Authors: Abzer Kelminal (abzer.shah@uni-tuebingen.de) <br>\n",
    "Edited by:  <br>\n",
    "Input file format: .txt files <br>\n",
    "Outputs: .csv files  <br>\n",
    "Dependencies: library(ggplot2)"
   ]
  },
  {
   "cell_type": "markdown",
   "id": "5c043b6b",
   "metadata": {},
   "source": [
    "### About Input files:\n",
    "- **Feature_file** is obtained by performing Feature based Molecular Networking on the data using MZmine software.\n",
    "- **Nw_edge file** has the information of Feature IDs that are similar (not the same) in the columns 'Feature_ID_1' & 'Feature_ID_2'\n",
    "- **Nw_edge file** is an output of GNPS. "
   ]
  },
  {
   "cell_type": "code",
   "execution_count": 5,
   "id": "af397ed3",
   "metadata": {},
   "outputs": [],
   "source": [
    "# setting the current directory as the working directory\n",
    "setwd('Downloads/ChemProp2_Test') #Example\n",
    "#install.packages('ggplot2') # install the package if not present\n",
    "library(ggplot2)\n",
    "\n",
    "Feature_file <- read.table(\"feature_table_ChemProp2.txt\", sep=\"\\t\", header=TRUE, row.names = 1) # By applying 'row.names = 1', the 1st column 'ID' becomes the row names\n",
    "Meta_File <-read.table(\"metadata_ChemProp2.txt\", sep=\"\\t\",header=TRUE, row.names = 1)\n",
    "Nw_edge <-read.table(\"Network_Edges_ChemProp2.txt\", sep=\"\\t\", header = TRUE)"
   ]
  },
  {
   "cell_type": "code",
   "execution_count": 6,
   "id": "8f6aecc7",
   "metadata": {},
   "outputs": [
    {
     "data": {
      "text/html": [
       "<table>\n",
       "<thead><tr><th></th><th scope=col>row.m.z</th><th scope=col>row.retention.time</th><th scope=col>Sulfa.Acetyl_100.0_3.mzXML</th><th scope=col>Sulfa.Acetyl_100.0_5.mzXML</th><th scope=col>Sulfa.Acetyl_100.0_2.mzXML</th><th scope=col>Sulfa.Acetyl_0.100_5.mzXML</th><th scope=col>Sulfa.Acetyl_0.100_2.mzXML</th><th scope=col>Sulfa.Acetyl_0.100_3.mzXML</th><th scope=col>Sulfa.Acetyl_0.100_4.mzXML</th><th scope=col>Sulfa.Acetyl_100.0_4.mzXML</th><th scope=col>...</th><th scope=col>Sulfa.Acetyl_98.2_1.mzXML</th><th scope=col>Sulfa.Acetyl_75.25_3.mzXML</th><th scope=col>Sulfa.Acetyl_50.50_4.mzXML</th><th scope=col>Sulfa.Acetyl_98.2_4.mzXML</th><th scope=col>Sulfa.Acetyl_75.25_2.mzXML</th><th scope=col>Sulfa.Acetyl_25.75_5.mzXML</th><th scope=col>Sulfa.Acetyl_98.2_5.mzXML</th><th scope=col>Sulfa.Acetyl_50.50_5.mzXML</th><th scope=col>Sulfa.Acetyl_75.25_4.mzXML</th><th scope=col>Sulfa.Acetyl_75.25_5.mzXML</th></tr></thead>\n",
       "<tbody>\n",
       "\t<tr><th scope=row>1</th><td>254.0596 </td><td>3.059484 </td><td>1.12e+10 </td><td>1.11e+10 </td><td>1.13e+10 </td><td>9621102.1</td><td>9972965.4</td><td>9677200.6</td><td>9671055.1</td><td>1.12e+10 </td><td>...      </td><td>1.04e+10 </td><td>9.11e+09 </td><td>6.18e+09 </td><td>1.08e+10 </td><td>8.82e+09 </td><td>3.29e+09 </td><td>1.10e+10 </td><td>6.20e+09 </td><td>8.86e+09 </td><td>9.21e+09 </td></tr>\n",
       "\t<tr><th scope=row>3</th><td>507.1113 </td><td>3.057618 </td><td>2.88e+08 </td><td>2.93e+08 </td><td>2.91e+08 </td><td>      0.0</td><td>      0.0</td><td>      0.0</td><td>      0.0</td><td>2.87e+08 </td><td>...      </td><td>2.68e+08 </td><td>2.05e+08 </td><td>1.09e+08 </td><td>2.73e+08 </td><td>2.00e+08 </td><td>3.61e+07 </td><td>2.84e+08 </td><td>1.08e+08 </td><td>2.00e+08 </td><td>2.14e+08 </td></tr>\n",
       "\t<tr><th scope=row>4</th><td>276.0411 </td><td>3.058777 </td><td>2.14e+08 </td><td>2.10e+08 </td><td>2.15e+08 </td><td> 269585.8</td><td> 153706.5</td><td> 367341.2</td><td> 118730.7</td><td>2.11e+08 </td><td>...      </td><td>2.00e+08 </td><td>1.98e+08 </td><td>1.77e+08 </td><td>2.09e+08 </td><td>1.95e+08 </td><td>1.14e+08 </td><td>2.15e+08 </td><td>1.65e+08 </td><td>1.95e+08 </td><td>2.07e+08 </td></tr>\n",
       "\t<tr><th scope=row>5</th><td>299.1170 </td><td>3.059736 </td><td>1.26e+08 </td><td>1.34e+08 </td><td>1.23e+08 </td><td>1401872.4</td><td>1447159.0</td><td>1413433.2</td><td>1406092.4</td><td>1.32e+08 </td><td>...      </td><td>1.24e+08 </td><td>1.22e+08 </td><td>9.52e+07 </td><td>1.32e+08 </td><td>1.18e+08 </td><td>6.50e+07 </td><td>1.37e+08 </td><td>9.24e+07 </td><td>1.18e+08 </td><td>1.26e+08 </td></tr>\n",
       "\t<tr><th scope=row>6</th><td>399.5587 </td><td>3.058914 </td><td>9.45e+07 </td><td>9.16e+07 </td><td>9.20e+07 </td><td>      0.0</td><td>      0.0</td><td>      0.0</td><td>      0.0</td><td>9.21e+07 </td><td>...      </td><td>8.53e+07 </td><td>7.81e+07 </td><td>6.04e+07 </td><td>8.90e+07 </td><td>7.67e+07 </td><td>3.14e+07 </td><td>8.94e+07 </td><td>5.87e+07 </td><td>7.65e+07 </td><td>8.13e+07 </td></tr>\n",
       "\t<tr><th scope=row>7</th><td>529.0927 </td><td>3.059591 </td><td>8.07e+07 </td><td>8.24e+07 </td><td>8.68e+07 </td><td>      0.0</td><td>      0.0</td><td>      0.0</td><td>      0.0</td><td>8.46e+07 </td><td>...      </td><td>7.78e+07 </td><td>7.21e+07 </td><td>6.44e+07 </td><td>8.10e+07 </td><td>7.25e+07 </td><td>4.00e+07 </td><td>8.35e+07 </td><td>5.90e+07 </td><td>7.12e+07 </td><td>7.59e+07 </td></tr>\n",
       "</tbody>\n",
       "</table>\n"
      ],
      "text/latex": [
       "\\begin{tabular}{r|lllllllllllllllllllllllllllllllllll}\n",
       "  & row.m.z & row.retention.time & Sulfa.Acetyl\\_100.0\\_3.mzXML & Sulfa.Acetyl\\_100.0\\_5.mzXML & Sulfa.Acetyl\\_100.0\\_2.mzXML & Sulfa.Acetyl\\_0.100\\_5.mzXML & Sulfa.Acetyl\\_0.100\\_2.mzXML & Sulfa.Acetyl\\_0.100\\_3.mzXML & Sulfa.Acetyl\\_0.100\\_4.mzXML & Sulfa.Acetyl\\_100.0\\_4.mzXML & ... & Sulfa.Acetyl\\_98.2\\_1.mzXML & Sulfa.Acetyl\\_75.25\\_3.mzXML & Sulfa.Acetyl\\_50.50\\_4.mzXML & Sulfa.Acetyl\\_98.2\\_4.mzXML & Sulfa.Acetyl\\_75.25\\_2.mzXML & Sulfa.Acetyl\\_25.75\\_5.mzXML & Sulfa.Acetyl\\_98.2\\_5.mzXML & Sulfa.Acetyl\\_50.50\\_5.mzXML & Sulfa.Acetyl\\_75.25\\_4.mzXML & Sulfa.Acetyl\\_75.25\\_5.mzXML\\\\\n",
       "\\hline\n",
       "\t1 & 254.0596  & 3.059484  & 1.12e+10  & 1.11e+10  & 1.13e+10  & 9621102.1 & 9972965.4 & 9677200.6 & 9671055.1 & 1.12e+10  & ...       & 1.04e+10  & 9.11e+09  & 6.18e+09  & 1.08e+10  & 8.82e+09  & 3.29e+09  & 1.10e+10  & 6.20e+09  & 8.86e+09  & 9.21e+09 \\\\\n",
       "\t3 & 507.1113  & 3.057618  & 2.88e+08  & 2.93e+08  & 2.91e+08  &       0.0 &       0.0 &       0.0 &       0.0 & 2.87e+08  & ...       & 2.68e+08  & 2.05e+08  & 1.09e+08  & 2.73e+08  & 2.00e+08  & 3.61e+07  & 2.84e+08  & 1.08e+08  & 2.00e+08  & 2.14e+08 \\\\\n",
       "\t4 & 276.0411  & 3.058777  & 2.14e+08  & 2.10e+08  & 2.15e+08  &  269585.8 &  153706.5 &  367341.2 &  118730.7 & 2.11e+08  & ...       & 2.00e+08  & 1.98e+08  & 1.77e+08  & 2.09e+08  & 1.95e+08  & 1.14e+08  & 2.15e+08  & 1.65e+08  & 1.95e+08  & 2.07e+08 \\\\\n",
       "\t5 & 299.1170  & 3.059736  & 1.26e+08  & 1.34e+08  & 1.23e+08  & 1401872.4 & 1447159.0 & 1413433.2 & 1406092.4 & 1.32e+08  & ...       & 1.24e+08  & 1.22e+08  & 9.52e+07  & 1.32e+08  & 1.18e+08  & 6.50e+07  & 1.37e+08  & 9.24e+07  & 1.18e+08  & 1.26e+08 \\\\\n",
       "\t6 & 399.5587  & 3.058914  & 9.45e+07  & 9.16e+07  & 9.20e+07  &       0.0 &       0.0 &       0.0 &       0.0 & 9.21e+07  & ...       & 8.53e+07  & 7.81e+07  & 6.04e+07  & 8.90e+07  & 7.67e+07  & 3.14e+07  & 8.94e+07  & 5.87e+07  & 7.65e+07  & 8.13e+07 \\\\\n",
       "\t7 & 529.0927  & 3.059591  & 8.07e+07  & 8.24e+07  & 8.68e+07  &       0.0 &       0.0 &       0.0 &       0.0 & 8.46e+07  & ...       & 7.78e+07  & 7.21e+07  & 6.44e+07  & 8.10e+07  & 7.25e+07  & 4.00e+07  & 8.35e+07  & 5.90e+07  & 7.12e+07  & 7.59e+07 \\\\\n",
       "\\end{tabular}\n"
      ],
      "text/markdown": [
       "\n",
       "| <!--/--> | row.m.z | row.retention.time | Sulfa.Acetyl_100.0_3.mzXML | Sulfa.Acetyl_100.0_5.mzXML | Sulfa.Acetyl_100.0_2.mzXML | Sulfa.Acetyl_0.100_5.mzXML | Sulfa.Acetyl_0.100_2.mzXML | Sulfa.Acetyl_0.100_3.mzXML | Sulfa.Acetyl_0.100_4.mzXML | Sulfa.Acetyl_100.0_4.mzXML | ... | Sulfa.Acetyl_98.2_1.mzXML | Sulfa.Acetyl_75.25_3.mzXML | Sulfa.Acetyl_50.50_4.mzXML | Sulfa.Acetyl_98.2_4.mzXML | Sulfa.Acetyl_75.25_2.mzXML | Sulfa.Acetyl_25.75_5.mzXML | Sulfa.Acetyl_98.2_5.mzXML | Sulfa.Acetyl_50.50_5.mzXML | Sulfa.Acetyl_75.25_4.mzXML | Sulfa.Acetyl_75.25_5.mzXML |\n",
       "|---|---|---|---|---|---|---|---|---|---|---|---|---|---|---|---|---|---|---|---|---|---|\n",
       "| 1 | 254.0596  | 3.059484  | 1.12e+10  | 1.11e+10  | 1.13e+10  | 9621102.1 | 9972965.4 | 9677200.6 | 9671055.1 | 1.12e+10  | ...       | 1.04e+10  | 9.11e+09  | 6.18e+09  | 1.08e+10  | 8.82e+09  | 3.29e+09  | 1.10e+10  | 6.20e+09  | 8.86e+09  | 9.21e+09  |\n",
       "| 3 | 507.1113  | 3.057618  | 2.88e+08  | 2.93e+08  | 2.91e+08  |       0.0 |       0.0 |       0.0 |       0.0 | 2.87e+08  | ...       | 2.68e+08  | 2.05e+08  | 1.09e+08  | 2.73e+08  | 2.00e+08  | 3.61e+07  | 2.84e+08  | 1.08e+08  | 2.00e+08  | 2.14e+08  |\n",
       "| 4 | 276.0411  | 3.058777  | 2.14e+08  | 2.10e+08  | 2.15e+08  |  269585.8 |  153706.5 |  367341.2 |  118730.7 | 2.11e+08  | ...       | 2.00e+08  | 1.98e+08  | 1.77e+08  | 2.09e+08  | 1.95e+08  | 1.14e+08  | 2.15e+08  | 1.65e+08  | 1.95e+08  | 2.07e+08  |\n",
       "| 5 | 299.1170  | 3.059736  | 1.26e+08  | 1.34e+08  | 1.23e+08  | 1401872.4 | 1447159.0 | 1413433.2 | 1406092.4 | 1.32e+08  | ...       | 1.24e+08  | 1.22e+08  | 9.52e+07  | 1.32e+08  | 1.18e+08  | 6.50e+07  | 1.37e+08  | 9.24e+07  | 1.18e+08  | 1.26e+08  |\n",
       "| 6 | 399.5587  | 3.058914  | 9.45e+07  | 9.16e+07  | 9.20e+07  |       0.0 |       0.0 |       0.0 |       0.0 | 9.21e+07  | ...       | 8.53e+07  | 7.81e+07  | 6.04e+07  | 8.90e+07  | 7.67e+07  | 3.14e+07  | 8.94e+07  | 5.87e+07  | 7.65e+07  | 8.13e+07  |\n",
       "| 7 | 529.0927  | 3.059591  | 8.07e+07  | 8.24e+07  | 8.68e+07  |       0.0 |       0.0 |       0.0 |       0.0 | 8.46e+07  | ...       | 7.78e+07  | 7.21e+07  | 6.44e+07  | 8.10e+07  | 7.25e+07  | 4.00e+07  | 8.35e+07  | 5.90e+07  | 7.12e+07  | 7.59e+07  |\n",
       "\n"
      ],
      "text/plain": [
       "  row.m.z  row.retention.time Sulfa.Acetyl_100.0_3.mzXML\n",
       "1 254.0596 3.059484           1.12e+10                  \n",
       "3 507.1113 3.057618           2.88e+08                  \n",
       "4 276.0411 3.058777           2.14e+08                  \n",
       "5 299.1170 3.059736           1.26e+08                  \n",
       "6 399.5587 3.058914           9.45e+07                  \n",
       "7 529.0927 3.059591           8.07e+07                  \n",
       "  Sulfa.Acetyl_100.0_5.mzXML Sulfa.Acetyl_100.0_2.mzXML\n",
       "1 1.11e+10                   1.13e+10                  \n",
       "3 2.93e+08                   2.91e+08                  \n",
       "4 2.10e+08                   2.15e+08                  \n",
       "5 1.34e+08                   1.23e+08                  \n",
       "6 9.16e+07                   9.20e+07                  \n",
       "7 8.24e+07                   8.68e+07                  \n",
       "  Sulfa.Acetyl_0.100_5.mzXML Sulfa.Acetyl_0.100_2.mzXML\n",
       "1 9621102.1                  9972965.4                 \n",
       "3       0.0                        0.0                 \n",
       "4  269585.8                   153706.5                 \n",
       "5 1401872.4                  1447159.0                 \n",
       "6       0.0                        0.0                 \n",
       "7       0.0                        0.0                 \n",
       "  Sulfa.Acetyl_0.100_3.mzXML Sulfa.Acetyl_0.100_4.mzXML\n",
       "1 9677200.6                  9671055.1                 \n",
       "3       0.0                        0.0                 \n",
       "4  367341.2                   118730.7                 \n",
       "5 1413433.2                  1406092.4                 \n",
       "6       0.0                        0.0                 \n",
       "7       0.0                        0.0                 \n",
       "  Sulfa.Acetyl_100.0_4.mzXML ... Sulfa.Acetyl_98.2_1.mzXML\n",
       "1 1.12e+10                   ... 1.04e+10                 \n",
       "3 2.87e+08                   ... 2.68e+08                 \n",
       "4 2.11e+08                   ... 2.00e+08                 \n",
       "5 1.32e+08                   ... 1.24e+08                 \n",
       "6 9.21e+07                   ... 8.53e+07                 \n",
       "7 8.46e+07                   ... 7.78e+07                 \n",
       "  Sulfa.Acetyl_75.25_3.mzXML Sulfa.Acetyl_50.50_4.mzXML\n",
       "1 9.11e+09                   6.18e+09                  \n",
       "3 2.05e+08                   1.09e+08                  \n",
       "4 1.98e+08                   1.77e+08                  \n",
       "5 1.22e+08                   9.52e+07                  \n",
       "6 7.81e+07                   6.04e+07                  \n",
       "7 7.21e+07                   6.44e+07                  \n",
       "  Sulfa.Acetyl_98.2_4.mzXML Sulfa.Acetyl_75.25_2.mzXML\n",
       "1 1.08e+10                  8.82e+09                  \n",
       "3 2.73e+08                  2.00e+08                  \n",
       "4 2.09e+08                  1.95e+08                  \n",
       "5 1.32e+08                  1.18e+08                  \n",
       "6 8.90e+07                  7.67e+07                  \n",
       "7 8.10e+07                  7.25e+07                  \n",
       "  Sulfa.Acetyl_25.75_5.mzXML Sulfa.Acetyl_98.2_5.mzXML\n",
       "1 3.29e+09                   1.10e+10                 \n",
       "3 3.61e+07                   2.84e+08                 \n",
       "4 1.14e+08                   2.15e+08                 \n",
       "5 6.50e+07                   1.37e+08                 \n",
       "6 3.14e+07                   8.94e+07                 \n",
       "7 4.00e+07                   8.35e+07                 \n",
       "  Sulfa.Acetyl_50.50_5.mzXML Sulfa.Acetyl_75.25_4.mzXML\n",
       "1 6.20e+09                   8.86e+09                  \n",
       "3 1.08e+08                   2.00e+08                  \n",
       "4 1.65e+08                   1.95e+08                  \n",
       "5 9.24e+07                   1.18e+08                  \n",
       "6 5.87e+07                   7.65e+07                  \n",
       "7 5.90e+07                   7.12e+07                  \n",
       "  Sulfa.Acetyl_75.25_5.mzXML\n",
       "1 9.21e+09                  \n",
       "3 2.14e+08                  \n",
       "4 2.07e+08                  \n",
       "5 1.26e+08                  \n",
       "6 8.13e+07                  \n",
       "7 7.59e+07                  "
      ]
     },
     "metadata": {},
     "output_type": "display_data"
    },
    {
     "data": {
      "text/html": [
       "<table>\n",
       "<thead><tr><th></th><th scope=col>Sulfa.Acetyl_0.100_2.mzXML</th><th scope=col>Sulfa.Acetyl_0.100_3.mzXML</th><th scope=col>Sulfa.Acetyl_0.100_4.mzXML</th><th scope=col>Sulfa.Acetyl_0.100_5.mzXML</th><th scope=col>Sulfa.Acetyl_100.0_2.mzXML</th><th scope=col>Sulfa.Acetyl_100.0_3.mzXML</th><th scope=col>Sulfa.Acetyl_100.0_4.mzXML</th><th scope=col>Sulfa.Acetyl_100.0_5.mzXML</th><th scope=col>Sulfa.Acetyl_25.75_1.mzXML</th><th scope=col>Sulfa.Acetyl_25.75_2.mzXML</th><th scope=col>...</th><th scope=col>Sulfa.Acetyl_75.25_1.mzXML</th><th scope=col>Sulfa.Acetyl_75.25_2.mzXML</th><th scope=col>Sulfa.Acetyl_75.25_3.mzXML</th><th scope=col>Sulfa.Acetyl_75.25_4.mzXML</th><th scope=col>Sulfa.Acetyl_75.25_5.mzXML</th><th scope=col>Sulfa.Acetyl_98.2_1.mzXML</th><th scope=col>Sulfa.Acetyl_98.2_2.mzXML</th><th scope=col>Sulfa.Acetyl_98.2_3.mzXML</th><th scope=col>Sulfa.Acetyl_98.2_4.mzXML</th><th scope=col>Sulfa.Acetyl_98.2_5.mzXML</th></tr></thead>\n",
       "<tbody>\n",
       "\t<tr><th scope=row>Timepoint</th><td>100</td><td>100</td><td>100</td><td>100</td><td>0  </td><td>0  </td><td>0  </td><td>0  </td><td>75 </td><td>75 </td><td>...</td><td>25 </td><td>25 </td><td>25 </td><td>25 </td><td>25 </td><td>2  </td><td>2  </td><td>2  </td><td>2  </td><td>2  </td></tr>\n",
       "</tbody>\n",
       "</table>\n"
      ],
      "text/latex": [
       "\\begin{tabular}{r|lllllllllllllllllllllllllllllllll}\n",
       "  & Sulfa.Acetyl\\_0.100\\_2.mzXML & Sulfa.Acetyl\\_0.100\\_3.mzXML & Sulfa.Acetyl\\_0.100\\_4.mzXML & Sulfa.Acetyl\\_0.100\\_5.mzXML & Sulfa.Acetyl\\_100.0\\_2.mzXML & Sulfa.Acetyl\\_100.0\\_3.mzXML & Sulfa.Acetyl\\_100.0\\_4.mzXML & Sulfa.Acetyl\\_100.0\\_5.mzXML & Sulfa.Acetyl\\_25.75\\_1.mzXML & Sulfa.Acetyl\\_25.75\\_2.mzXML & ... & Sulfa.Acetyl\\_75.25\\_1.mzXML & Sulfa.Acetyl\\_75.25\\_2.mzXML & Sulfa.Acetyl\\_75.25\\_3.mzXML & Sulfa.Acetyl\\_75.25\\_4.mzXML & Sulfa.Acetyl\\_75.25\\_5.mzXML & Sulfa.Acetyl\\_98.2\\_1.mzXML & Sulfa.Acetyl\\_98.2\\_2.mzXML & Sulfa.Acetyl\\_98.2\\_3.mzXML & Sulfa.Acetyl\\_98.2\\_4.mzXML & Sulfa.Acetyl\\_98.2\\_5.mzXML\\\\\n",
       "\\hline\n",
       "\tTimepoint & 100 & 100 & 100 & 100 & 0   & 0   & 0   & 0   & 75  & 75  & ... & 25  & 25  & 25  & 25  & 25  & 2   & 2   & 2   & 2   & 2  \\\\\n",
       "\\end{tabular}\n"
      ],
      "text/markdown": [
       "\n",
       "| <!--/--> | Sulfa.Acetyl_0.100_2.mzXML | Sulfa.Acetyl_0.100_3.mzXML | Sulfa.Acetyl_0.100_4.mzXML | Sulfa.Acetyl_0.100_5.mzXML | Sulfa.Acetyl_100.0_2.mzXML | Sulfa.Acetyl_100.0_3.mzXML | Sulfa.Acetyl_100.0_4.mzXML | Sulfa.Acetyl_100.0_5.mzXML | Sulfa.Acetyl_25.75_1.mzXML | Sulfa.Acetyl_25.75_2.mzXML | ... | Sulfa.Acetyl_75.25_1.mzXML | Sulfa.Acetyl_75.25_2.mzXML | Sulfa.Acetyl_75.25_3.mzXML | Sulfa.Acetyl_75.25_4.mzXML | Sulfa.Acetyl_75.25_5.mzXML | Sulfa.Acetyl_98.2_1.mzXML | Sulfa.Acetyl_98.2_2.mzXML | Sulfa.Acetyl_98.2_3.mzXML | Sulfa.Acetyl_98.2_4.mzXML | Sulfa.Acetyl_98.2_5.mzXML |\n",
       "|---|---|---|---|---|---|---|---|---|---|---|---|---|---|---|---|---|---|---|---|---|---|\n",
       "| Timepoint | 100 | 100 | 100 | 100 | 0   | 0   | 0   | 0   | 75  | 75  | ... | 25  | 25  | 25  | 25  | 25  | 2   | 2   | 2   | 2   | 2   |\n",
       "\n"
      ],
      "text/plain": [
       "          Sulfa.Acetyl_0.100_2.mzXML Sulfa.Acetyl_0.100_3.mzXML\n",
       "Timepoint 100                        100                       \n",
       "          Sulfa.Acetyl_0.100_4.mzXML Sulfa.Acetyl_0.100_5.mzXML\n",
       "Timepoint 100                        100                       \n",
       "          Sulfa.Acetyl_100.0_2.mzXML Sulfa.Acetyl_100.0_3.mzXML\n",
       "Timepoint 0                          0                         \n",
       "          Sulfa.Acetyl_100.0_4.mzXML Sulfa.Acetyl_100.0_5.mzXML\n",
       "Timepoint 0                          0                         \n",
       "          Sulfa.Acetyl_25.75_1.mzXML Sulfa.Acetyl_25.75_2.mzXML ...\n",
       "Timepoint 75                         75                         ...\n",
       "          Sulfa.Acetyl_75.25_1.mzXML Sulfa.Acetyl_75.25_2.mzXML\n",
       "Timepoint 25                         25                        \n",
       "          Sulfa.Acetyl_75.25_3.mzXML Sulfa.Acetyl_75.25_4.mzXML\n",
       "Timepoint 25                         25                        \n",
       "          Sulfa.Acetyl_75.25_5.mzXML Sulfa.Acetyl_98.2_1.mzXML\n",
       "Timepoint 25                         2                        \n",
       "          Sulfa.Acetyl_98.2_2.mzXML Sulfa.Acetyl_98.2_3.mzXML\n",
       "Timepoint 2                         2                        \n",
       "          Sulfa.Acetyl_98.2_4.mzXML Sulfa.Acetyl_98.2_5.mzXML\n",
       "Timepoint 2                         2                        "
      ]
     },
     "metadata": {},
     "output_type": "display_data"
    },
    {
     "data": {
      "text/html": [
       "<table>\n",
       "<thead><tr><th scope=col>Feature_ID_1</th><th scope=col>Feature_ID_2</th><th scope=col>DeltaMZ</th><th scope=col>MEH</th><th scope=col>Cosine</th><th scope=col>OtherScore</th><th scope=col>ComponentIndex</th><th scope=col>EdgeAnnotation</th></tr></thead>\n",
       "<tbody>\n",
       "\t<tr><td> 20     </td><td>224     </td><td> -23.015</td><td> 20     </td><td>0.8233  </td><td> 20     </td><td>1       </td><td>        </td></tr>\n",
       "\t<tr><td> 51     </td><td>219     </td><td>-465.081</td><td> 51     </td><td>0.8726  </td><td> 51     </td><td>1       </td><td>        </td></tr>\n",
       "\t<tr><td>219     </td><td>224     </td><td> 465.081</td><td>219     </td><td>0.8651  </td><td>219     </td><td>1       </td><td>        </td></tr>\n",
       "\t<tr><td> 20     </td><td>266     </td><td>  -0.001</td><td> 20     </td><td>0.9110  </td><td> 20     </td><td>1       </td><td>        </td></tr>\n",
       "\t<tr><td>  6     </td><td>266     </td><td> 235.042</td><td>  6     </td><td>0.8579  </td><td>  6     </td><td>1       </td><td>        </td></tr>\n",
       "\t<tr><td>  6     </td><td>224     </td><td> 212.028</td><td>  6     </td><td>0.9395  </td><td>  6     </td><td>1       </td><td>        </td></tr>\n",
       "</tbody>\n",
       "</table>\n"
      ],
      "text/latex": [
       "\\begin{tabular}{r|llllllll}\n",
       " Feature\\_ID\\_1 & Feature\\_ID\\_2 & DeltaMZ & MEH & Cosine & OtherScore & ComponentIndex & EdgeAnnotation\\\\\n",
       "\\hline\n",
       "\t  20      & 224      &  -23.015 &  20      & 0.8233   &  20      & 1        &         \\\\\n",
       "\t  51      & 219      & -465.081 &  51      & 0.8726   &  51      & 1        &         \\\\\n",
       "\t 219      & 224      &  465.081 & 219      & 0.8651   & 219      & 1        &         \\\\\n",
       "\t  20      & 266      &   -0.001 &  20      & 0.9110   &  20      & 1        &         \\\\\n",
       "\t   6      & 266      &  235.042 &   6      & 0.8579   &   6      & 1        &         \\\\\n",
       "\t   6      & 224      &  212.028 &   6      & 0.9395   &   6      & 1        &         \\\\\n",
       "\\end{tabular}\n"
      ],
      "text/markdown": [
       "\n",
       "| Feature_ID_1 | Feature_ID_2 | DeltaMZ | MEH | Cosine | OtherScore | ComponentIndex | EdgeAnnotation |\n",
       "|---|---|---|---|---|---|---|---|\n",
       "|  20      | 224      |  -23.015 |  20      | 0.8233   |  20      | 1        |          |\n",
       "|  51      | 219      | -465.081 |  51      | 0.8726   |  51      | 1        |          |\n",
       "| 219      | 224      |  465.081 | 219      | 0.8651   | 219      | 1        |          |\n",
       "|  20      | 266      |   -0.001 |  20      | 0.9110   |  20      | 1        |          |\n",
       "|   6      | 266      |  235.042 |   6      | 0.8579   |   6      | 1        |          |\n",
       "|   6      | 224      |  212.028 |   6      | 0.9395   |   6      | 1        |          |\n",
       "\n"
      ],
      "text/plain": [
       "  Feature_ID_1 Feature_ID_2 DeltaMZ  MEH Cosine OtherScore ComponentIndex\n",
       "1  20          224           -23.015  20 0.8233  20        1             \n",
       "2  51          219          -465.081  51 0.8726  51        1             \n",
       "3 219          224           465.081 219 0.8651 219        1             \n",
       "4  20          266            -0.001  20 0.9110  20        1             \n",
       "5   6          266           235.042   6 0.8579   6        1             \n",
       "6   6          224           212.028   6 0.9395   6        1             \n",
       "  EdgeAnnotation\n",
       "1               \n",
       "2               \n",
       "3               \n",
       "4               \n",
       "5               \n",
       "6               "
      ]
     },
     "metadata": {},
     "output_type": "display_data"
    }
   ],
   "source": [
    "# head function returns the header (upto first 6 rows)of each files. This gives an idea about the content of the files.\n",
    "head(Feature_file)\n",
    "head(Meta_File)\n",
    "head(Nw_edge)"
   ]
  },
  {
   "cell_type": "code",
   "execution_count": 8,
   "id": "d1413146",
   "metadata": {},
   "outputs": [
    {
     "name": "stdout",
     "output_type": "stream",
     "text": [
      "Enter the MetaData Name:Timepoint\n"
     ]
    }
   ],
   "source": [
    "# If Meta_File Info given in Column-wise\n",
    "#Meta_Data <- Meta_File %>% select(contains(readline('Enter the MetaData Name:')))\n",
    "# If Meta_File Info given in Row-wise\n",
    "Meta_Data <- Meta_File[(readline('Enter the MetaData Name:')),]"
   ]
  },
  {
   "cell_type": "markdown",
   "id": "3831156e",
   "metadata": {},
   "source": [
    "The below code adds a column of *Chemical Proportionality score* to the Nw_edge file. In addition to that, columns with information such as absolute values of ChemProp score and the sign of Chemprop scores are also added."
   ]
  },
  {
   "cell_type": "code",
   "execution_count": 10,
   "id": "44797b82",
   "metadata": {},
   "outputs": [],
   "source": [
    "ChemProp2 <- c()\n",
    "\n",
    "for (i in 1:NROW(Nw_edge)) {\n",
    "  \n",
    "  x<- subset(Feature_file, rownames(Feature_file) == Nw_edge$Feature_ID_1[i]) # rownames(Feature_file) is the feature ID. This line gets the 'Feature ID 1' from the first column of Nw_edge i.e., Feature_ID_1. Then picks the corresponding \n",
    "  x<- rbind(x,subset(Feature_file, rownames(Feature_file) == Nw_edge$Feature_ID_2[i]))\n",
    "  # x is the subset data which has the Feature ID 1 and 2 which are similar according to Nw_edge file.\n",
    "  x<-x[,c(-1:-2)] # Removing the first two columns --> Row m/z and Row Retention Time information\n",
    "  A<-colnames(x) \n",
    "  B<-colnames(Meta_Data)\n",
    "  A==B # Checking the column names of the subset data x against that of meta data.\n",
    "  reorder_id<-match(B,A) #Match gives the position in which B (the column names of Meta data) is present in A (subset data) and store the position info in reorder_id \n",
    "  reordered_x <- x[reorder_id] #Rearranging x (subset data) with respect to the new positions\n",
    "  reordered_x <- rbind(Meta_Data[1,],reordered_x) # With positions of both x and meta data being the same now, it can be combined\n",
    "  \n",
    "  reordered_x <-data.frame(t(reordered_x))  # Transposing the data, thus it contains 3 columns, 'Metadata info. For ex: Time', 'Feature ID 1', 'Feature ID 2'\n",
    "  \n",
    "  corr_result<-cor(reordered_x, method = \"pearson\") # Performing Pearson correlation\n",
    "  ChemProp_score <- (corr_result[1,3] - corr_result[1,2]) / 2 # ChemProp2 score is obtained by: (Pearson(Feature ID 2) - Pearson(Feature ID 1)) / 2\n",
    "  \n",
    "  ChemProp2 <- rbind(ChemProp2, ChemProp_score)\n",
    "}\n",
    " \n",
    "rownames(ChemProp2) <- NULL\n",
    "colnames(ChemProp2) <- 'ChemProp2'\n",
    "\n",
    "Nw_edge_new <- cbind (Nw_edge, ChemProp2)\n",
    "Nw_edge_new <- Nw_edge_new[order(Nw_edge_new$ChemProp2, decreasing = TRUE), ] # Rearranging Nw_edge_new in the decreasing order of ChemProp2 score\n",
    "Abs_ChemProp2 <- abs(Nw_edge_new$ChemProp2)\n",
    "Sign_ChemProp2 <- sign(Nw_edge_new$ChemProp2)\n",
    "\n",
    "ChemProp2_file <- cbind(Nw_edge_new,Abs_ChemProp2,Sign_ChemProp2)\n",
    "write.csv(ChemProp2_file, 'With_ChemProp2_score.csv')"
   ]
  },
  {
   "cell_type": "markdown",
   "id": "3a2e3349",
   "metadata": {},
   "source": [
    "To visualize the distribution of the sample data against the normal distribution of random numbers:"
   ]
  },
  {
   "cell_type": "code",
   "execution_count": 12,
   "id": "4bb82115",
   "metadata": {},
   "outputs": [
    {
     "name": "stdout",
     "output_type": "stream",
     "text": [
      "Enter dodge or identity:dodge\n"
     ]
    },
    {
     "name": "stderr",
     "output_type": "stream",
     "text": [
      "`stat_bin()` using `bins = 30`. Pick better value with `binwidth`.\n"
     ]
    },
    {
     "data": {
      "image/png": "[encoded data removed]",
      "text/plain": [
       "plot without title"
      ]
     },
     "metadata": {},
     "output_type": "display_data"
    }
   ],
   "source": [
    "histplot1 <- data.frame(Length = ChemProp2_file$ChemProp2)\n",
    "histplot2 <- data.frame(Length = rnorm(nrow(histplot1)))\n",
    "\n",
    "histplot1$Type <- 'Sample-Data'\n",
    "histplot2$Type <- 'Random Values'\n",
    "HistPlot <- rbind(histplot1,histplot2)\n",
    "\n",
    "ggplot(HistPlot, aes(Length, fill = Type)) +\n",
    "  geom_histogram(alpha = 0.5, aes(y = ..density..), position = readline('Enter dodge or identity:'))"
   ]
  },
  {
   "cell_type": "code",
   "execution_count": null,
   "id": "5e740ef3",
   "metadata": {},
   "outputs": [],
   "source": []
  }
 ],
 "metadata": {
  "kernelspec": {
   "display_name": "R",
   "language": "R",
   "name": "ir"
  },
  "language_info": {
   "codemirror_mode": "r",
   "file_extension": ".r",
   "mimetype": "text/x-r-source",
   "name": "R",
   "pygments_lexer": "r",
   "version": "3.6.1"
  }
 },
 "nbformat": 4,
 "nbformat_minor": 5
}
