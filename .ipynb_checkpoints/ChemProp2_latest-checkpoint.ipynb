{
 "cells": [
  {
   "cell_type": "markdown",
   "id": "19473e13",
   "metadata": {},
   "source": [
    "# ChemProp2: Prioritizing Biotransformations in non-targeted metabolomics Data"
   ]
  },
  {
   "cell_type": "markdown",
   "id": "f95d371c",
   "metadata": {
    "id": "55766981"
   },
   "source": [
    "**Updated on:** 2023-03-06 14:17:28 CET\n",
    "\n",
    "In this Jupyter Notebook we perform correlation between a node pair in a molecular network to know if there is a potential biotransformation.\n",
    "\n",
    "<div class=\"alert alert-block alert-info\">\n",
    "    \n",
    "**Authors**: Abzer Kelminal (abzer.shah@uni-tuebingen.de), Daniel Petras (daniel.petras@uni-tuebingen.de)<br>\n",
    "**Input files**: Feature table, metadata, network node pair file, annotation file (optional) <br>\n",
    "**Input file format**: .txt,.tsv and .csv files <br>\n",
    "**Outputs**: .csv files, .pdf & .svg images  <br>\n",
    "**Dependencies:** ggplot2, dplyr, svglite\n",
    "    \n",
    "The session info at the end of this notebook gives info about the versions of all the packages used here.\n",
    "    </div>"
   ]
  },
  {
   "cell_type": "markdown",
   "id": "c233c371-004a-4c5d-80ed-9162988a3787",
   "metadata": {},
   "source": [
    "A guide on how to run R within a Jupyter Notebook can be found here: [Installing via Anaconda Navigator](https://github.com/Functional-Metabolomics-Lab/Jupyter-Notebook-Installation/blob/main/Anaconda_Rkernel_installation_JupyterNotebook_JupyterLab.pdf), [Installation of R Jupyter Notebook through command terminal](https://developers.refinitiv.com/en/article-catalog/article/setup-jupyter-notebook-r)"
   ]
  },
  {
   "cell_type": "markdown",
   "id": "f0d4c4db-e4ce-4657-9339-674d5537429f",
   "metadata": {},
   "source": [
    "---\n",
    "\n",
    "<b> Before starting to run this notebook with your own data, remember to save a copy of this notebook in your own Google Drive! Do so by clicking on File &rarr; Save a copy in Drive. You can give whatever meaningful name to your notebook.\n",
    "This file should be located in a new folder of your Google Drive named 'Colab Notebooks'. You can also download this notebook: File &rarr; Download &rarr; Download .ipynb.</b>\n",
    "\n",
    "---"
   ]
  },
  {
   "cell_type": "markdown",
   "id": "2d6d122b-5daa-4ee2-9a28-3a7e7504ac7a",
   "metadata": {},
   "source": [
    "<div class=\"alert alert-block alert-warning\">\n",
    "<b><font size=3> SPECIAL NOTE: Please read the comments before proceeding with the code and let us know if you run into any errors and if you think it could be commented better. We would highly appreciate your suggestions and comments!!</font> </b> </div>"
   ]
  },
  {
   "cell_type": "markdown",
   "id": "84f52a93-d4c6-4a18-8196-8291f09ecbe5",
   "metadata": {
    "tags": []
   },
   "source": [
    "# <font color ='blue'> 1. Introduction </font>\n",
    "<a name='intro'></a>\n",
    "\n",
    "<font size=3><i>(To be edited) </i></br>\n",
    "    \n",
    "-  <p style='text-align: justify;'> Using this notebook, you will be able to determine the Chemical Proportionality (also known as ChemProp2) scores of the putative pairs in your feature-based molecular network (FBMN) and prioritize potential biotransformations within those networks. </p>\n",
    "-  <p style='text-align: justify;'> The ChemProp2 script uses information from FBMN ouput, such as Network edge pair file, which contains information about all the pairs of nodes in a feature-based molecular network, the pairs being two structurally or chemically related compounds that are connected by an edge in the network.</p>\n",
    "-  <p style='text-align: justify;'> <font color='red'>It is important to have sequential data (with respect to time or space) to perform ChemProp2 and a minimum of 2 sequential points (eg: a starting timepoint and an end timepoint) are necessary to observe the biotransformation.</font> ChemProp2 considers all data points in the sequence to find the correlation score between these possibly related compounds. </p> \n",
    "-  <p style='text-align: justify;'><b>The score ranges from -1 to 1. The + or - sign indicates the direction of potential biotransformation and the value between 0 and 1 indicates the strength of correlation.</b>  These scores can be then used to prioritize and visualize the directionality of these potential biochemical alterations directly in the molecular network. </p>\n",
    "\n",
    "[Click the link for a better understanding of ChemProp2](https://www.functional-metabolomics.com/chemprop2)\n",
    "<i>(Link to be changed in the future) </i>\n",
    "\n",
    "---"
   ]
  },
  {
   "cell_type": "markdown",
   "id": "4f9bfddc-f1c8-4c07-a96d-e3799a010038",
   "metadata": {
    "tags": []
   },
   "source": [
    "## The input files needed for ChemProp:\n",
    "<font color='red'>(To be edited)</font>\n",
    "\n",
    "1. <p style='text-align: justify;'> <b> Feature table (or Quantification table): </b> A typical output file of an LC-MS/MS metabolomics experiment, containing all mass spectral features (or peaks) with their corresponding relative intensities across samples. The feature table we use in this tutorial was obtained from MZmine3. (Filetype: .csv file) </p>\n",
    "2. <p style='text-align: justify;'> <b> Metadada: </b> An Excel file saved in .txt format that is created by the user, providing additional information about the samples (e.g. sample type, tissue type, species, timepoint of collection etc.) In this tutorial we are using the <a href=\"https://ccms-ucsd.github.io/GNPSDocumentation/metadata/\">metadata format recognized by GNPS workflows</a>. The first column should be named 'filename' and all remaining column headers should be prefixed with ATTRIBUTE_: e.g. ATTRIBUTE_SampleType, ATTRIBUTE_timepoint etc. (Filetype: .txt file) </p>\n",
    "3. <p style='text-align: justify;'><b> Network edge file </b> has the information of Feature IDs that are similar (not the same) in the columns 'Feature_ID_1' & 'Feature_ID_2'. This file is an output of GNPS </p>\n",
    "4. <b> OPTIONAL: Annotation table </b> <br>\n",
    "   One can provide the files for molecular annotations such as SIRIUS, CANOPUS, and GNPS annotation files.\n",
    "      - SIRIUS performs molecular formula prediction.\n",
    "      - CANOPUS performs chemical class predictions.\n",
    "      - GNPS annotation files are obtained by performing FBMN analysis on the feature table.\n",
    "<a href=\"https://gnps.ucsd.edu/ProteoSAFe/status.jsp?task=43cf48acbe24401e84a50ab2069b3d26\">The FBMN job is also publicly available.</a> <i> (change the link)</p>"
   ]
  },
  {
   "cell_type": "markdown",
   "id": "43a74f62-220a-4c4d-9024-de646c57e880",
   "metadata": {},
   "source": [
    "   <p style='text-align: justify;'>FBMN also offers the option to annotate compounds through GNPS spectral library search or an advanced analog search. These annotated files can be found in the sub-folders <b>\"DB_result\"</b> and <b>\"DB_analog_result\"</b> (if analog search is performed). Analog search method searches for structurally related molecules within the molecular network using a score threshold, such as a minimum cosine score that MS/MS spectra should achieve in spectral matching with MS/MS spectral libraries to be considered an annotation.</p>\n",
    "\n",
    "Feature table and metadata used in this tutorial can be accessed at <a href=\"https://github.com/Functional-Metabolomics-Lab/ChemProp2/tree/main/ChemProp2_%20Test\">our Functional Metabolomics Git Repository.</a>\n",
    "\n",
    "\n",
    "[![More on MZmine](https://img.shields.io/badge/More%20on-MZmine-blue)](https://www.nature.com/articles/s41587-023-01690-2)\n",
    "[![More on GNPS](https://img.shields.io/badge/More%20on-GNPS-informational)](https://www.nature.com/articles/nbt.3597#Abs2)\n",
    "[![More on FBMN](https://img.shields.io/badge/More%20on-FBMN-blue)](https://www.nature.com/articles/s41592-020-0933-6) \n",
    "[![More on SIRIUS](https://img.shields.io/badge/More%20on-SIRIUS-blue)](https://boecker-lab.github.io/docs.sirius.github.io/)\n",
    "\n",
    "---"
   ]
  },
  {
   "cell_type": "markdown",
   "id": "d4a453c4-2a30-434a-bb33-5463aeb94220",
   "metadata": {
    "tags": []
   },
   "source": [
    "# <font color ='blue'> 2. Preliminary setup for the notebook </font>\n",
    "<a name='Section-2'>"
   ]
  },
  {
   "cell_type": "markdown",
   "id": "c3a7637c",
   "metadata": {
    "id": "a4705b9a",
    "tags": []
   },
   "source": [
    "## <font color ='darkblue'> 2.1 Package installation </font>\n",
    "<a id = 'pkg_install'></a>"
   ]
  },
  {
   "cell_type": "code",
   "execution_count": null,
   "id": "cda5d267-a607-4e22-aaf4-5222834a6e4a",
   "metadata": {},
   "outputs": [],
   "source": [
    "options(install.packages.compile.from.source=\"never\")"
   ]
  },
  {
   "cell_type": "code",
   "execution_count": 3,
   "id": "5511b39c-eff4-4f3d-9248-6856e2e0b837",
   "metadata": {},
   "outputs": [
    {
     "name": "stderr",
     "output_type": "stream",
     "text": [
      "Loading required package: pacman\n",
      "\n"
     ]
    }
   ],
   "source": [
    "if (!require(\"pacman\")) install.packages(\"pacman\") #Installing pacman if not present"
   ]
  },
  {
   "cell_type": "markdown",
   "id": "43789224-c865-46de-96df-039ec1afb47c",
   "metadata": {},
   "source": [
    "<font color=\"red\"><font size=3> Installation will take about 15 mins !!</font>"
   ]
  },
  {
   "cell_type": "code",
   "execution_count": 4,
   "id": "e77a734c-9896-48b5-bf3b-f308369c22cb",
   "metadata": {},
   "outputs": [],
   "source": [
    "pacman::p_load(\"tidyverse\",\"factoextra\",\"KODAMA\",\"vegan\",\"IRdisplay\",\"svglite\")"
   ]
  },
  {
   "cell_type": "markdown",
   "id": "b74b158b-15bd-4c06-b8ed-64cbba8f50e9",
   "metadata": {},
   "source": [
    "- tidyverse - used for data science. The eight core packages inside this library are: ggplot2 (data visualisation), dplyr (data manipulation), tidyr, readr, purrr, tibble, stringr, and forcats\n",
    "- factoextra - for extracting and visualizing outputs of multivariate analyses such as PCA, k-means\n",
    "- vegan - popular library for analysing ecological diversity and for multivariate analysis of community data. Here, we use it for PCoA\n",
    "- IRdisplay - better display of output cells in Jupyter Notebooks running iwth IRKernel. Library not needed when running the script in RStudio\n",
    "- KODAMA - to use the normalisation function\n",
    "- svglite - to save plots in .svg format: although 'ggsave' function is provided in ggplot2 to save as .svg, for plots that are not ggplots, such as heatmaps, 'ggsave' will not work. Hence, we use svglite\n",
    "- ggsci - provides color palettes for ggplot2 that can be used for scientific journals\n",
    "- matrixStats - contains highly optimized functions to perform statistics on matrix data\n",
    "- cowplot - efficient functions to arrange several plots"
   ]
  },
  {
   "cell_type": "markdown",
   "id": "04ab1caf",
   "metadata": {},
   "source": [
    "We also set some global options to adjust plot size throughout the notebook"
   ]
  },
  {
   "cell_type": "code",
   "execution_count": 5,
   "id": "1dd6d9cf",
   "metadata": {
    "id": "2cdbe42b-a042-4416-b754-096abd19273f"
   },
   "outputs": [],
   "source": [
    "#Global settings for plot size in the output cell:\n",
    "options(repr.plot.width=10, repr.plot.height=10,res=600) # the parameters: width, height & resolution can be changed"
   ]
  },
  {
   "cell_type": "markdown",
   "id": "6cf2facd",
   "metadata": {
    "tags": []
   },
   "source": [
    "## <font color ='darkblue'> 2.2 Setting a local working directory </font>\n",
    "<a name = \"set_dir\"></a>\n",
    "\n",
    "<p style='text-align: justify;'> When we set a folder (or directory) as the working directory, we can access the files within the folder just by its names without mentioning the entire file path everytime we use it. Also, all the output files will be saved under the working directory. So, before proceeding with the script further, if you are trying to use your own files for the notebook, then please make sure to include all the necessary input files in one local folder and set it as your working directory. </p>"
   ]
  },
  {
   "cell_type": "markdown",
   "id": "00513f7e-26f3-4dd7-be00-030d4c04659c",
   "metadata": {},
   "source": [
    "<div class=\"alert alert-block alert-warning\">\n",
    "<b>NOTE:</b> When you run the next cell, it will display an output box where you can simply enter the path of the folder containing all your input files in your local computer. For example: D:\\User\\Project\\Test_Data </div>"
   ]
  },
  {
   "cell_type": "markdown",
   "id": "f48d16ea-4ab7-426a-9870-ef421ddec5ef",
   "metadata": {},
   "source": [
    "It will be set as your working directory and you can access all the files within it. <b> Whenever you see an output box asking for user input, please note, the script will not proceed further without your input. Hence, make sure to run the notebook cell-by-cell instead of running all cells in the notebook simultaneously. </b> "
   ]
  },
  {
   "cell_type": "markdown",
   "id": "0018adcc-8ef6-4aa9-bb26-e05f009213a1",
   "metadata": {},
   "source": [
    "<p style='text-align: justify;'>In Google Colab homepage &rarr; there are 3 icons on the upper left corner. Click on the 3 dots to see the contents of the notebook. To create a folder with your input files, click on the folder icon &rarr; Right-click anywhere on the empty space within the left section in Google Colab &rarr; Select 'new folder' &rarr; Copy the path and paste in the output box of next cell </p>"
   ]
  },
  {
   "cell_type": "code",
   "execution_count": 54,
   "id": "d69c4520",
   "metadata": {},
   "outputs": [
    {
     "name": "stdin",
     "output_type": "stream",
     "text": [
      "Enter the folder path in the output box:  D:\\Projects\\Abzer\\ChemProp2\\20220907_Avermectin_GutBacteria\\ChemProp Inputs\n"
     ]
    }
   ],
   "source": [
    "Directory <- normalizePath(readline(\"Enter the folder path in the output box: \"),\"/\",mustWork=FALSE)\n",
    "setwd(Directory)"
   ]
  },
  {
   "cell_type": "markdown",
   "id": "5f7f6e30-c00c-421a-9f29-3d0db1afe803",
   "metadata": {},
   "source": [
    "---"
   ]
  },
  {
   "cell_type": "markdown",
   "id": "e36d2e95-e7b3-4ed5-8257-0b5cb416af61",
   "metadata": {},
   "source": [
    "## <font color ='darkblue'> 2.3 Loading in and exploring the input files </font>\n",
    "<a name='load_ip'></a>"
   ]
  },
  {
   "cell_type": "markdown",
   "id": "4e272bf2-c214-4f2a-b842-bca077570b2c",
   "metadata": {},
   "source": [
    "<b>To upload files into Google Colab &rarr; Right-click on the folder you created to 'upload' the necessary files from your computer into the cloud session.</b>"
   ]
  },
  {
   "cell_type": "markdown",
   "id": "d76ab4e2",
   "metadata": {
    "id": "3a31eafc",
    "tags": []
   },
   "source": [
    "### 2.3.1 Loading the data: Use one of the methods \n",
    "We can load the data files into the script either from the local working directory or from the web using url."
   ]
  },
  {
   "cell_type": "markdown",
   "id": "33f0b237-10a1-401e-afa0-3012fddc9c7f",
   "metadata": {
    "tags": []
   },
   "source": [
    "#### a. Loading files from a local folder"
   ]
  },
  {
   "cell_type": "markdown",
   "id": "c2f75c46-a18d-4f8b-b323-64458bdb95f7",
   "metadata": {},
   "source": [
    "Please make sure to include all the necessary input files in the folder you have set as working directory"
   ]
  },
  {
   "cell_type": "code",
   "execution_count": 75,
   "id": "314b8fef",
   "metadata": {},
   "outputs": [
    {
     "name": "stdout",
     "output_type": "stream",
     "text": [
      "[ 1 ] 20220919_GutBacteria_Avermectin_quant.csv \n",
      "[ 2 ] 20220919_metadata_avermectin_gutbacteria.txt \n",
      "[ 3 ] clustersummary_file.tsv \n",
      "[ 4 ] DB_analogresult.tsv \n",
      "[ 5 ] DB_result.tsv \n",
      "[ 6 ] Final_metadata_without_blanks.csv \n",
      "[ 7 ] Helper_functions_Chemprop2.ipynb \n",
      "[ 8 ] Helper_functions_Chemprop2.r \n",
      "[ 9 ] network_edge.tsv \n",
      "[ 10 ] Normalised_Quant_table.csv \n"
     ]
    }
   ],
   "source": [
    "file_names <- list.files('.') #list all the files in the working directory (mentioned by 'dot symbol')\n",
    "\n",
    "# Loop through file_names and print each filename\n",
    "for (i in 1:length(file_names)) {\n",
    "  cat(\"[\",i,\"]\", file_names[i], \"\\n\")\n",
    "}"
   ]
  },
  {
   "cell_type": "markdown",
   "id": "3ac6bd36-b22d-45b8-9a06-affb874dc136",
   "metadata": {},
   "source": [
    "<p style='text-align: justify;'><font color=\"red\"> For your own dataset, change the file numbers in the next cell accordingly. </font> Here, we are importing three tables: the feature table (<b>ft</b>), the metadata table (<b>md</b>), and the network node pair table (<b>nw</b>).</p> "
   ]
  },
  {
   "cell_type": "code",
   "execution_count": 77,
   "id": "922e36cb-dc35-4a4d-8378-c7df5f4c1c9f",
   "metadata": {},
   "outputs": [],
   "source": [
    "ft <- read.csv(file_names[1], header = T, check.names = F)             \n",
    "md <- read.csv(file_names[2], header = T, check.names = F, sep = '\\t') # mention seperator as \"\\t\"(tab-separated) in case of txt or tsv files\n",
    "nw <- read.csv(file_names[9], header = T, check.names = F, sep = '\\t') "
   ]
  },
  {
   "cell_type": "code",
   "execution_count": 76,
   "id": "106b9c55-3325-40cb-a3cd-59be6379e9b7",
   "metadata": {},
   "outputs": [],
   "source": [
    "gnps_an <- read.csv(file_names[4], header = T, check.names = F, sep = '\\t')\n",
    "gnps <- read.csv(file_names[5], header = T, check.names = F, sep = '\\t')\n",
    "\n",
    "#give names for sirius and canopus as well"
   ]
  },
  {
   "cell_type": "markdown",
   "id": "f2619482-7632-4048-a56a-506fd21cccf6",
   "metadata": {},
   "source": [
    "<p style='text-align: justify;'>When importing each file, it is important to ensure that the separator used is specified correctly. By default, the read.csv function uses a comma (',') as the separator. However, if you are importing files with different separators, you will need to change the separator parameter accordingly.</p>"
   ]
  },
  {
   "cell_type": "markdown",
   "id": "5af17ffe-9e3c-4a4f-bdc4-b39b25690acf",
   "metadata": {},
   "source": [
    "Once the files are loaded, you can view the files as shown in [Section 2.3.3](#view_ip)"
   ]
  },
  {
   "cell_type": "markdown",
   "id": "99803004-bf40-4142-8e2c-15355861c14e",
   "metadata": {
    "tags": []
   },
   "source": [
    "#### b. Loading files using URL (skip this now)"
   ]
  },
  {
   "cell_type": "markdown",
   "id": "79c23612-4e5d-430d-a644-3a7ab26f4d46",
   "metadata": {},
   "source": [
    "<p style='text-align: justify;'> In this section, we provide an example of how to retrieve data from a URL. If you are working with your own dataset in a Google Colab environment, you can obtain the file URL by first loading the input files into the Colab workspace, right-clicking on the file, selecting \"Copy path\", and then replacing the URL in the subsequent cell.</p>"
   ]
  },
  {
   "cell_type": "code",
   "execution_count": 17,
   "id": "f324201b",
   "metadata": {
    "id": "7988ffd6"
   },
   "outputs": [],
   "source": [
    "ft_url <- 'https://raw.githubusercontent.com/Functional-Metabolomics-Lab/ChemProp2/main/ChemProp2_%20Test/feature_table_ChemProp2.txt'\n",
    "md_url <- 'https://raw.githubusercontent.com/Functional-Metabolomics-Lab/ChemProp2/main/ChemProp2_%20Test/metadata_ChemProp2.txt'\n",
    "nw_url <- 'https://raw.githubusercontent.com/Functional-Metabolomics-Lab/ChemProp2/main/ChemProp2_%20Test/Network_Edges_ChemProp2.txt'"
   ]
  },
  {
   "cell_type": "markdown",
   "id": "4e75a063-3c3d-4950-8c8a-e222443e91d0",
   "metadata": {
    "tags": []
   },
   "source": [
    "#### c. Loading files directly from GNPS (skip this now)"
   ]
  },
  {
   "cell_type": "markdown",
   "id": "eb0a005b-7e48-44e9-aa9a-e5ae00371313",
   "metadata": {},
   "source": [
    "One can also load the files directly from the repositories [MassIVE](https://massive.ucsd.edu/ProteoSAFe/static/massive.jsp) or [GNPS](https://gnps.ucsd.edu/ProteoSAFe/static/gnps-splash.jsp). If one has performed FBMN on their feature table, the files (both, input and output files from FBMN) can be accessed by  providing the task ID in the next cell. Task ID can be found by:  Go to your <b>MassIVE</b> or <b>GNPS</b> account &rarr; Jobs &rarr; unique ID is provided for each job in  'Description' column.\n",
    "\n",
    "<table>\n",
    "<thead>\n",
    "<tr><th>Description</th><th>User</th><th>Workflow</th><th>Workflow Version</th><th>Status</th><th>Protected</th><th>Create Time</th><th>Total Size</th><th>Site</th><th>Delete Task</th></tr>\n",
    "</thead>\n",
    "<tbody>\n",
    "<tr><td><font color=\"red\">ID given here</font></td><td>-</td><td>FBMN</td><td>-</td><td>-</td><td>-</td><td>-</td><td>-</td><td>GNPS</td><td>-</td></tr>\n",
    "</tbody>\n",
    "</table>"
   ]
  },
  {
   "cell_type": "code",
   "execution_count": null,
   "id": "bb966752-dfce-4892-9329-07098ea2f64f",
   "metadata": {},
   "outputs": [],
   "source": [
    "taskID <- \"43cf48acbe24401e84a50ab2069b3d26\" # Enter the task ID here"
   ]
  },
  {
   "cell_type": "code",
   "execution_count": null,
   "id": "714d523f-9895-4eda-84c4-e1870ac60aa1",
   "metadata": {},
   "outputs": [],
   "source": [
    "ft_url <- paste0('https://proteomics2.ucsd.edu/ProteoSAFe/DownloadResultFile?task=',taskID,'&file=quantification_table_reformatted/&block=main')\n",
    "an_url <- paste0('https://proteomics2.ucsd.edu/ProteoSAFe/DownloadResultFile?task=',taskID,'&file=DB_analogresult/&block=main')\n",
    "md_url <- paste0('https://proteomics2.ucsd.edu/ProteoSAFe/DownloadResultFile?task=',taskID,'&file=metadata_merged/&block=main')"
   ]
  },
  {
   "cell_type": "markdown",
   "id": "5fbb9058-be41-452c-a089-ba0fbcab22e9",
   "metadata": {},
   "source": [
    "<blockquote>Make sure your metadata has enough columns (ATTRIBUTES) describing your data. The metadata given for FBMN might contain only few columns, however for downstream statistical analysis, one might need more attributes. In such cases, load the metadata file from a local folder</blockquote>"
   ]
  },
  {
   "cell_type": "markdown",
   "id": "9c6834f6-38a4-407f-b7fa-c098150b4cf2",
   "metadata": {},
   "source": [
    "### 2.3.2 Reading the url from options b,c"
   ]
  },
  {
   "cell_type": "code",
   "execution_count": 47,
   "id": "ab4eaa9a",
   "metadata": {
    "id": "3ad9e910"
   },
   "outputs": [],
   "source": [
    "ft <- read.csv(ft_url, header = T, check.names = F, sep = '\\t') \n",
    "md <- read.csv(md_url, header = T, check.names = F, sep = '\\t')\n",
    "nw <- read.csv(nw_url, header = T, check.names = F, sep = '\\t')"
   ]
  },
  {
   "cell_type": "markdown",
   "id": "fbd66a50-5b71-4bb5-b5a3-2dbedb318223",
   "metadata": {
    "tags": []
   },
   "source": [
    "### 2.3.3 Viewing the input files\n",
    "<a id='view_ip'></a>"
   ]
  },
  {
   "cell_type": "markdown",
   "id": "8af43602",
   "metadata": {
    "id": "4f12e24c"
   },
   "source": [
    "Lets check how the data looks, the below lines of code show the first 6 rows of the feature and metadata tables as well as their dimensions (numbers of rows and columns)"
   ]
  },
  {
   "cell_type": "code",
   "execution_count": 57,
   "id": "235b4762",
   "metadata": {
    "colab": {
     "base_uri": "https://localhost:8080/",
     "height": 358
    },
    "id": "429ff705",
    "outputId": "80d5f776-afb5-408f-a5e2-8f793da4eb5f"
   },
   "outputs": [
    {
     "data": {
      "text/html": [
       "<table class=\"dataframe\">\n",
       "<caption>A data.frame: 6 × 100</caption>\n",
       "<thead>\n",
       "\t<tr><th></th><th scope=col>row ID</th><th scope=col>row m/z</th><th scope=col>row retention time</th><th scope=col>row ion mobility</th><th scope=col>row ion mobility unit</th><th scope=col>row CCS</th><th scope=col>correlation group ID</th><th scope=col>annotation network number</th><th scope=col>best ion</th><th scope=col>auto MS2 verify</th><th scope=col>...</th><th scope=col>GutBac_Rep3_t240.mzML Peak area</th><th scope=col>GutBac_Rep3_t20.mzML Peak area</th><th scope=col>GutBac_Rep3_t30.mzML Peak area</th><th scope=col>GutBac_Rep3_t720.mzML Peak area</th><th scope=col>GutBac_Rep3_t180.mzML Peak area</th><th scope=col>GutBac_Rep2_t20.mzML Peak area</th><th scope=col>GutBac_Rep2_t720.mzML Peak area</th><th scope=col>GutBac_Rep3_t1.mzML Peak area</th><th scope=col>GutBac_Rep3_t120.mzML Peak area</th><th scope=col></th></tr>\n",
       "\t<tr><th></th><th scope=col>&lt;int&gt;</th><th scope=col>&lt;dbl&gt;</th><th scope=col>&lt;dbl&gt;</th><th scope=col>&lt;lgl&gt;</th><th scope=col>&lt;lgl&gt;</th><th scope=col>&lt;lgl&gt;</th><th scope=col>&lt;int&gt;</th><th scope=col>&lt;int&gt;</th><th scope=col>&lt;chr&gt;</th><th scope=col>&lt;lgl&gt;</th><th scope=col>...</th><th scope=col>&lt;dbl&gt;</th><th scope=col>&lt;dbl&gt;</th><th scope=col>&lt;dbl&gt;</th><th scope=col>&lt;dbl&gt;</th><th scope=col>&lt;dbl&gt;</th><th scope=col>&lt;dbl&gt;</th><th scope=col>&lt;dbl&gt;</th><th scope=col>&lt;dbl&gt;</th><th scope=col>&lt;dbl&gt;</th><th scope=col>&lt;lgl&gt;</th></tr>\n",
       "</thead>\n",
       "<tbody>\n",
       "\t<tr><th scope=row>1</th><td> 524</td><td>150.0775</td><td>0.3365059</td><td>NA</td><td>NA</td><td>NA</td><td> NA</td><td>NA</td><td></td><td>NA</td><td>...</td><td> 3550.589</td><td>18084.871</td><td> 8549.794</td><td> 5532.6200</td><td> 3984.891</td><td>16944.318</td><td> 6679.828</td><td>29543.668</td><td>10915.597</td><td>NA</td></tr>\n",
       "\t<tr><th scope=row>2</th><td>3485</td><td>150.0915</td><td>2.1897998</td><td>NA</td><td>NA</td><td>NA</td><td> NA</td><td>NA</td><td></td><td>NA</td><td>...</td><td> 2634.089</td><td>15989.818</td><td> 6038.420</td><td>  771.2174</td><td> 6162.024</td><td> 7341.516</td><td> 5103.895</td><td> 8737.668</td><td> 9706.458</td><td>NA</td></tr>\n",
       "\t<tr><th scope=row>3</th><td>3214</td><td>150.0915</td><td>1.9750485</td><td>NA</td><td>NA</td><td>NA</td><td> NA</td><td>NA</td><td></td><td>NA</td><td>...</td><td> 1656.589</td><td> 3361.084</td><td> 4352.861</td><td> 4754.7285</td><td> 7141.970</td><td> 5365.618</td><td> 9812.270</td><td> 1868.412</td><td> 9656.993</td><td>NA</td></tr>\n",
       "\t<tr><th scope=row>4</th><td>3042</td><td>150.0915</td><td>1.8714100</td><td>NA</td><td>NA</td><td>NA</td><td>144</td><td>NA</td><td></td><td>NA</td><td>...</td><td>13241.183</td><td>37411.246</td><td>15790.604</td><td>17183.4000</td><td>20183.488</td><td>16907.220</td><td>46171.043</td><td>22879.967</td><td>49095.688</td><td>NA</td></tr>\n",
       "\t<tr><th scope=row>5</th><td>3626</td><td>150.0915</td><td>2.2835596</td><td>NA</td><td>NA</td><td>NA</td><td>271</td><td>NA</td><td></td><td>NA</td><td>...</td><td>29847.133</td><td>29131.953</td><td>25287.785</td><td>38065.9650</td><td>40818.773</td><td>24881.709</td><td>55919.880</td><td>31423.201</td><td>23706.062</td><td>NA</td></tr>\n",
       "\t<tr><th scope=row>6</th><td> 384</td><td>150.9512</td><td>0.2635833</td><td>NA</td><td>NA</td><td>NA</td><td> NA</td><td>NA</td><td></td><td>NA</td><td>...</td><td>    0.000</td><td>    0.000</td><td>    0.000</td><td>    0.0000</td><td>    0.000</td><td>    0.000</td><td>    0.000</td><td>    0.000</td><td>    0.000</td><td>NA</td></tr>\n",
       "</tbody>\n",
       "</table>\n"
      ],
      "text/latex": [
       "A data.frame: 6 × 100\n",
       "\\begin{tabular}{r|lllllllllllllllllllll}\n",
       "  & row ID & row m/z & row retention time & row ion mobility & row ion mobility unit & row CCS & correlation group ID & annotation network number & best ion & auto MS2 verify & ... & GutBac\\_Rep3\\_t240.mzML Peak area & GutBac\\_Rep3\\_t20.mzML Peak area & GutBac\\_Rep3\\_t30.mzML Peak area & GutBac\\_Rep3\\_t720.mzML Peak area & GutBac\\_Rep3\\_t180.mzML Peak area & GutBac\\_Rep2\\_t20.mzML Peak area & GutBac\\_Rep2\\_t720.mzML Peak area & GutBac\\_Rep3\\_t1.mzML Peak area & GutBac\\_Rep3\\_t120.mzML Peak area & \\\\\n",
       "  & <int> & <dbl> & <dbl> & <lgl> & <lgl> & <lgl> & <int> & <int> & <chr> & <lgl> & ... & <dbl> & <dbl> & <dbl> & <dbl> & <dbl> & <dbl> & <dbl> & <dbl> & <dbl> & <lgl>\\\\\n",
       "\\hline\n",
       "\t1 &  524 & 150.0775 & 0.3365059 & NA & NA & NA &  NA & NA &  & NA & ... &  3550.589 & 18084.871 &  8549.794 &  5532.6200 &  3984.891 & 16944.318 &  6679.828 & 29543.668 & 10915.597 & NA\\\\\n",
       "\t2 & 3485 & 150.0915 & 2.1897998 & NA & NA & NA &  NA & NA &  & NA & ... &  2634.089 & 15989.818 &  6038.420 &   771.2174 &  6162.024 &  7341.516 &  5103.895 &  8737.668 &  9706.458 & NA\\\\\n",
       "\t3 & 3214 & 150.0915 & 1.9750485 & NA & NA & NA &  NA & NA &  & NA & ... &  1656.589 &  3361.084 &  4352.861 &  4754.7285 &  7141.970 &  5365.618 &  9812.270 &  1868.412 &  9656.993 & NA\\\\\n",
       "\t4 & 3042 & 150.0915 & 1.8714100 & NA & NA & NA & 144 & NA &  & NA & ... & 13241.183 & 37411.246 & 15790.604 & 17183.4000 & 20183.488 & 16907.220 & 46171.043 & 22879.967 & 49095.688 & NA\\\\\n",
       "\t5 & 3626 & 150.0915 & 2.2835596 & NA & NA & NA & 271 & NA &  & NA & ... & 29847.133 & 29131.953 & 25287.785 & 38065.9650 & 40818.773 & 24881.709 & 55919.880 & 31423.201 & 23706.062 & NA\\\\\n",
       "\t6 &  384 & 150.9512 & 0.2635833 & NA & NA & NA &  NA & NA &  & NA & ... &     0.000 &     0.000 &     0.000 &     0.0000 &     0.000 &     0.000 &     0.000 &     0.000 &     0.000 & NA\\\\\n",
       "\\end{tabular}\n"
      ],
      "text/markdown": [
       "\n",
       "A data.frame: 6 × 100\n",
       "\n",
       "| <!--/--> | row ID &lt;int&gt; | row m/z &lt;dbl&gt; | row retention time &lt;dbl&gt; | row ion mobility &lt;lgl&gt; | row ion mobility unit &lt;lgl&gt; | row CCS &lt;lgl&gt; | correlation group ID &lt;int&gt; | annotation network number &lt;int&gt; | best ion &lt;chr&gt; | auto MS2 verify &lt;lgl&gt; | ... ... | GutBac_Rep3_t240.mzML Peak area &lt;dbl&gt; | GutBac_Rep3_t20.mzML Peak area &lt;dbl&gt; | GutBac_Rep3_t30.mzML Peak area &lt;dbl&gt; | GutBac_Rep3_t720.mzML Peak area &lt;dbl&gt; | GutBac_Rep3_t180.mzML Peak area &lt;dbl&gt; | GutBac_Rep2_t20.mzML Peak area &lt;dbl&gt; | GutBac_Rep2_t720.mzML Peak area &lt;dbl&gt; | GutBac_Rep3_t1.mzML Peak area &lt;dbl&gt; | GutBac_Rep3_t120.mzML Peak area &lt;dbl&gt; | <!----> &lt;lgl&gt; |\n",
       "|---|---|---|---|---|---|---|---|---|---|---|---|---|---|---|---|---|---|---|---|---|---|\n",
       "| 1 |  524 | 150.0775 | 0.3365059 | NA | NA | NA |  NA | NA | <!----> | NA | ... |  3550.589 | 18084.871 |  8549.794 |  5532.6200 |  3984.891 | 16944.318 |  6679.828 | 29543.668 | 10915.597 | NA |\n",
       "| 2 | 3485 | 150.0915 | 2.1897998 | NA | NA | NA |  NA | NA | <!----> | NA | ... |  2634.089 | 15989.818 |  6038.420 |   771.2174 |  6162.024 |  7341.516 |  5103.895 |  8737.668 |  9706.458 | NA |\n",
       "| 3 | 3214 | 150.0915 | 1.9750485 | NA | NA | NA |  NA | NA | <!----> | NA | ... |  1656.589 |  3361.084 |  4352.861 |  4754.7285 |  7141.970 |  5365.618 |  9812.270 |  1868.412 |  9656.993 | NA |\n",
       "| 4 | 3042 | 150.0915 | 1.8714100 | NA | NA | NA | 144 | NA | <!----> | NA | ... | 13241.183 | 37411.246 | 15790.604 | 17183.4000 | 20183.488 | 16907.220 | 46171.043 | 22879.967 | 49095.688 | NA |\n",
       "| 5 | 3626 | 150.0915 | 2.2835596 | NA | NA | NA | 271 | NA | <!----> | NA | ... | 29847.133 | 29131.953 | 25287.785 | 38065.9650 | 40818.773 | 24881.709 | 55919.880 | 31423.201 | 23706.062 | NA |\n",
       "| 6 |  384 | 150.9512 | 0.2635833 | NA | NA | NA |  NA | NA | <!----> | NA | ... |     0.000 |     0.000 |     0.000 |     0.0000 |     0.000 |     0.000 |     0.000 |     0.000 |     0.000 | NA |\n",
       "\n"
      ],
      "text/plain": [
       "  row ID row m/z  row retention time row ion mobility row ion mobility unit\n",
       "1  524   150.0775 0.3365059          NA               NA                   \n",
       "2 3485   150.0915 2.1897998          NA               NA                   \n",
       "3 3214   150.0915 1.9750485          NA               NA                   \n",
       "4 3042   150.0915 1.8714100          NA               NA                   \n",
       "5 3626   150.0915 2.2835596          NA               NA                   \n",
       "6  384   150.9512 0.2635833          NA               NA                   \n",
       "  row CCS correlation group ID annotation network number best ion\n",
       "1 NA       NA                  NA                                \n",
       "2 NA       NA                  NA                                \n",
       "3 NA       NA                  NA                                \n",
       "4 NA      144                  NA                                \n",
       "5 NA      271                  NA                                \n",
       "6 NA       NA                  NA                                \n",
       "  auto MS2 verify ... GutBac_Rep3_t240.mzML Peak area\n",
       "1 NA              ...  3550.589                      \n",
       "2 NA              ...  2634.089                      \n",
       "3 NA              ...  1656.589                      \n",
       "4 NA              ... 13241.183                      \n",
       "5 NA              ... 29847.133                      \n",
       "6 NA              ...     0.000                      \n",
       "  GutBac_Rep3_t20.mzML Peak area GutBac_Rep3_t30.mzML Peak area\n",
       "1 18084.871                       8549.794                     \n",
       "2 15989.818                       6038.420                     \n",
       "3  3361.084                       4352.861                     \n",
       "4 37411.246                      15790.604                     \n",
       "5 29131.953                      25287.785                     \n",
       "6     0.000                          0.000                     \n",
       "  GutBac_Rep3_t720.mzML Peak area GutBac_Rep3_t180.mzML Peak area\n",
       "1  5532.6200                       3984.891                      \n",
       "2   771.2174                       6162.024                      \n",
       "3  4754.7285                       7141.970                      \n",
       "4 17183.4000                      20183.488                      \n",
       "5 38065.9650                      40818.773                      \n",
       "6     0.0000                          0.000                      \n",
       "  GutBac_Rep2_t20.mzML Peak area GutBac_Rep2_t720.mzML Peak area\n",
       "1 16944.318                       6679.828                      \n",
       "2  7341.516                       5103.895                      \n",
       "3  5365.618                       9812.270                      \n",
       "4 16907.220                      46171.043                      \n",
       "5 24881.709                      55919.880                      \n",
       "6     0.000                          0.000                      \n",
       "  GutBac_Rep3_t1.mzML Peak area GutBac_Rep3_t120.mzML Peak area   \n",
       "1 29543.668                     10915.597                       NA\n",
       "2  8737.668                      9706.458                       NA\n",
       "3  1868.412                      9656.993                       NA\n",
       "4 22879.967                     49095.688                       NA\n",
       "5 31423.201                     23706.062                       NA\n",
       "6     0.000                         0.000                       NA"
      ]
     },
     "metadata": {},
     "output_type": "display_data"
    },
    {
     "data": {
      "text/html": [
       "<style>\n",
       ".list-inline {list-style: none; margin:0; padding: 0}\n",
       ".list-inline>li {display: inline-block}\n",
       ".list-inline>li:not(:last-child)::after {content: \"\\00b7\"; padding: 0 .5ex}\n",
       "</style>\n",
       "<ol class=list-inline><li>3412</li><li>100</li></ol>\n"
      ],
      "text/latex": [
       "\\begin{enumerate*}\n",
       "\\item 3412\n",
       "\\item 100\n",
       "\\end{enumerate*}\n"
      ],
      "text/markdown": [
       "1. 3412\n",
       "2. 100\n",
       "\n",
       "\n"
      ],
      "text/plain": [
       "[1] 3412  100"
      ]
     },
     "metadata": {},
     "output_type": "display_data"
    }
   ],
   "source": [
    "head(ft) #returns the first 6 rows as default\n",
    "dim(ft) # gives the number of rows and  columns"
   ]
  },
  {
   "cell_type": "code",
   "execution_count": 58,
   "id": "8b97f15f",
   "metadata": {
    "colab": {
     "base_uri": "https://localhost:8080/",
     "height": 428
    },
    "id": "a7bf0865",
    "outputId": "8e4c68a6-6e99-4deb-c169-bbc754a97c0f"
   },
   "outputs": [
    {
     "data": {
      "text/html": [
       "<table class=\"dataframe\">\n",
       "<caption>A data.frame: 2 × 4</caption>\n",
       "<thead>\n",
       "\t<tr><th></th><th scope=col>filename</th><th scope=col>ATTRIBUTE_sample</th><th scope=col>ATTRIBUTE_replicates</th><th scope=col>ATTRIBUTE_timepoint_minutes</th></tr>\n",
       "\t<tr><th></th><th scope=col>&lt;chr&gt;</th><th scope=col>&lt;chr&gt;</th><th scope=col>&lt;int&gt;</th><th scope=col>&lt;int&gt;</th></tr>\n",
       "</thead>\n",
       "<tbody>\n",
       "\t<tr><th scope=row>1</th><td>Avr_Bac_Rep1_t0.mzML Peak area</td><td>Avermectin + Gut bacteria</td><td>1</td><td>0</td></tr>\n",
       "\t<tr><th scope=row>2</th><td>Avr_Bac_Rep1_t1.mzML Peak area</td><td>Avermectin + Gut bacteria</td><td>1</td><td>1</td></tr>\n",
       "</tbody>\n",
       "</table>\n"
      ],
      "text/latex": [
       "A data.frame: 2 × 4\n",
       "\\begin{tabular}{r|llll}\n",
       "  & filename & ATTRIBUTE\\_sample & ATTRIBUTE\\_replicates & ATTRIBUTE\\_timepoint\\_minutes\\\\\n",
       "  & <chr> & <chr> & <int> & <int>\\\\\n",
       "\\hline\n",
       "\t1 & Avr\\_Bac\\_Rep1\\_t0.mzML Peak area & Avermectin + Gut bacteria & 1 & 0\\\\\n",
       "\t2 & Avr\\_Bac\\_Rep1\\_t1.mzML Peak area & Avermectin + Gut bacteria & 1 & 1\\\\\n",
       "\\end{tabular}\n"
      ],
      "text/markdown": [
       "\n",
       "A data.frame: 2 × 4\n",
       "\n",
       "| <!--/--> | filename &lt;chr&gt; | ATTRIBUTE_sample &lt;chr&gt; | ATTRIBUTE_replicates &lt;int&gt; | ATTRIBUTE_timepoint_minutes &lt;int&gt; |\n",
       "|---|---|---|---|---|\n",
       "| 1 | Avr_Bac_Rep1_t0.mzML Peak area | Avermectin + Gut bacteria | 1 | 0 |\n",
       "| 2 | Avr_Bac_Rep1_t1.mzML Peak area | Avermectin + Gut bacteria | 1 | 1 |\n",
       "\n"
      ],
      "text/plain": [
       "  filename                       ATTRIBUTE_sample          ATTRIBUTE_replicates\n",
       "1 Avr_Bac_Rep1_t0.mzML Peak area Avermectin + Gut bacteria 1                   \n",
       "2 Avr_Bac_Rep1_t1.mzML Peak area Avermectin + Gut bacteria 1                   \n",
       "  ATTRIBUTE_timepoint_minutes\n",
       "1 0                          \n",
       "2 1                          "
      ]
     },
     "metadata": {},
     "output_type": "display_data"
    },
    {
     "data": {
      "text/html": [
       "<style>\n",
       ".list-inline {list-style: none; margin:0; padding: 0}\n",
       ".list-inline>li {display: inline-block}\n",
       ".list-inline>li:not(:last-child)::after {content: \"\\00b7\"; padding: 0 .5ex}\n",
       "</style>\n",
       "<ol class=list-inline><li>86</li><li>4</li></ol>\n"
      ],
      "text/latex": [
       "\\begin{enumerate*}\n",
       "\\item 86\n",
       "\\item 4\n",
       "\\end{enumerate*}\n"
      ],
      "text/markdown": [
       "1. 86\n",
       "2. 4\n",
       "\n",
       "\n"
      ],
      "text/plain": [
       "[1] 86  4"
      ]
     },
     "metadata": {},
     "output_type": "display_data"
    }
   ],
   "source": [
    "head(md, n=2) #returns the first 2 rows of md\n",
    "dim(md)"
   ]
  },
  {
   "cell_type": "code",
   "execution_count": 61,
   "id": "f20438a9",
   "metadata": {},
   "outputs": [
    {
     "data": {
      "text/html": [
       "<table class=\"dataframe\">\n",
       "<caption>A data.frame: 2 × 5</caption>\n",
       "<thead>\n",
       "\t<tr><th></th><th scope=col>CLUSTERID1</th><th scope=col>CLUSTERID2</th><th scope=col>ComponentIndex</th><th scope=col>Cosine</th><th scope=col>DeltaMZ</th></tr>\n",
       "\t<tr><th></th><th scope=col>&lt;int&gt;</th><th scope=col>&lt;int&gt;</th><th scope=col>&lt;int&gt;</th><th scope=col>&lt;dbl&gt;</th><th scope=col>&lt;dbl&gt;</th></tr>\n",
       "</thead>\n",
       "<tbody>\n",
       "\t<tr><th scope=row>1</th><td>4665</td><td>5180</td><td>1</td><td>0.7252</td><td>18.010</td></tr>\n",
       "\t<tr><th scope=row>2</th><td>2991</td><td>3274</td><td>2</td><td>0.8399</td><td> 0.021</td></tr>\n",
       "</tbody>\n",
       "</table>\n"
      ],
      "text/latex": [
       "A data.frame: 2 × 5\n",
       "\\begin{tabular}{r|lllll}\n",
       "  & CLUSTERID1 & CLUSTERID2 & ComponentIndex & Cosine & DeltaMZ\\\\\n",
       "  & <int> & <int> & <int> & <dbl> & <dbl>\\\\\n",
       "\\hline\n",
       "\t1 & 4665 & 5180 & 1 & 0.7252 & 18.010\\\\\n",
       "\t2 & 2991 & 3274 & 2 & 0.8399 &  0.021\\\\\n",
       "\\end{tabular}\n"
      ],
      "text/markdown": [
       "\n",
       "A data.frame: 2 × 5\n",
       "\n",
       "| <!--/--> | CLUSTERID1 &lt;int&gt; | CLUSTERID2 &lt;int&gt; | ComponentIndex &lt;int&gt; | Cosine &lt;dbl&gt; | DeltaMZ &lt;dbl&gt; |\n",
       "|---|---|---|---|---|---|\n",
       "| 1 | 4665 | 5180 | 1 | 0.7252 | 18.010 |\n",
       "| 2 | 2991 | 3274 | 2 | 0.8399 |  0.021 |\n",
       "\n"
      ],
      "text/plain": [
       "  CLUSTERID1 CLUSTERID2 ComponentIndex Cosine DeltaMZ\n",
       "1 4665       5180       1              0.7252 18.010 \n",
       "2 2991       3274       2              0.8399  0.021 "
      ]
     },
     "metadata": {},
     "output_type": "display_data"
    },
    {
     "data": {
      "text/html": [
       "<style>\n",
       ".list-inline {list-style: none; margin:0; padding: 0}\n",
       ".list-inline>li {display: inline-block}\n",
       ".list-inline>li:not(:last-child)::after {content: \"\\00b7\"; padding: 0 .5ex}\n",
       "</style>\n",
       "<ol class=list-inline><li>2843</li><li>5</li></ol>\n"
      ],
      "text/latex": [
       "\\begin{enumerate*}\n",
       "\\item 2843\n",
       "\\item 5\n",
       "\\end{enumerate*}\n"
      ],
      "text/markdown": [
       "1. 2843\n",
       "2. 5\n",
       "\n",
       "\n"
      ],
      "text/plain": [
       "[1] 2843    5"
      ]
     },
     "metadata": {},
     "output_type": "display_data"
    }
   ],
   "source": [
    "head(nw, n=2) #returns the first 2 rows of an\n",
    "dim(nw)"
   ]
  },
  {
   "cell_type": "markdown",
   "id": "bef154b6",
   "metadata": {
    "id": "7da5af06-1073-414a-b306-c9f5f6bae852",
    "tags": []
   },
   "source": [
    "---\n",
    "### 2.3.4 Exploring the metadata\n",
    "<a name='explore_md'></a>"
   ]
  },
  {
   "cell_type": "code",
   "execution_count": 62,
   "id": "8c590d59-2cd6-4407-8f51-5f916c315668",
   "metadata": {},
   "outputs": [],
   "source": [
    "#Loading in the helper functions from the additional R script:\n",
    "source('https://raw.githubusercontent.com/Functional-Metabolomics-Lab/ChemProp2/main/Helper_functions_Chemprop2.r')"
   ]
  },
  {
   "cell_type": "code",
   "execution_count": 63,
   "id": "c6208a16-a519-4fd7-a815-6936ab4ab97d",
   "metadata": {
    "tags": []
   },
   "outputs": [
    {
     "data": {
      "text/html": [
       "4"
      ],
      "text/latex": [
       "4"
      ],
      "text/markdown": [
       "4"
      ],
      "text/plain": [
       "[1] 4"
      ]
     },
     "metadata": {},
     "output_type": "display_data"
    }
   ],
   "source": [
    "ncol(md) #number of columnns of metadata"
   ]
  },
  {
   "cell_type": "code",
   "execution_count": 64,
   "id": "58a71f49",
   "metadata": {
    "colab": {
     "base_uri": "https://localhost:8080/",
     "height": 616
    },
    "id": "535d67d6-3e74-4eec-885c-06c434381110",
    "outputId": "297bf73e-ece4-426a-eb51-e7c393ab7b85"
   },
   "outputs": [
    {
     "data": {
      "text/html": [
       "<table class=\"dataframe\">\n",
       "<caption>A data.frame: 3 × 5</caption>\n",
       "<thead>\n",
       "\t<tr><th scope=col>INDEX</th><th scope=col>ATTRIBUTES</th><th scope=col>LEVELS</th><th scope=col>COUNT</th><th scope=col>ATTRIBUTE_CLASS</th></tr>\n",
       "\t<tr><th scope=col>&lt;int&gt;</th><th scope=col>&lt;chr&gt;</th><th scope=col>&lt;chr&gt;</th><th scope=col>&lt;chr&gt;</th><th scope=col>&lt;chr&gt;</th></tr>\n",
       "</thead>\n",
       "<tbody>\n",
       "\t<tr><td>1</td><td>ATTRIBUTE_sample           </td><td>Avermectin + Gut bacteria, Blank, Only Avermectin drug, Only Gut bacteria</td><td>23, 3, 30, 30               </td><td>character</td></tr>\n",
       "\t<tr><td>2</td><td>ATTRIBUTE_replicates       </td><td>1, 2, 3                                                                  </td><td>30, 30, 23                  </td><td>integer  </td></tr>\n",
       "\t<tr><td>3</td><td>ATTRIBUTE_timepoint_minutes</td><td>0, 1, 10, 20, 30, 60, 120, 180, 240, 720                                 </td><td>9, 9, 9, 8, 8, 8, 8, 8, 8, 8</td><td>integer  </td></tr>\n",
       "</tbody>\n",
       "</table>\n"
      ],
      "text/latex": [
       "A data.frame: 3 × 5\n",
       "\\begin{tabular}{lllll}\n",
       " INDEX & ATTRIBUTES & LEVELS & COUNT & ATTRIBUTE\\_CLASS\\\\\n",
       " <int> & <chr> & <chr> & <chr> & <chr>\\\\\n",
       "\\hline\n",
       "\t 1 & ATTRIBUTE\\_sample            & Avermectin + Gut bacteria, Blank, Only Avermectin drug, Only Gut bacteria & 23, 3, 30, 30                & character\\\\\n",
       "\t 2 & ATTRIBUTE\\_replicates        & 1, 2, 3                                                                   & 30, 30, 23                   & integer  \\\\\n",
       "\t 3 & ATTRIBUTE\\_timepoint\\_minutes & 0, 1, 10, 20, 30, 60, 120, 180, 240, 720                                  & 9, 9, 9, 8, 8, 8, 8, 8, 8, 8 & integer  \\\\\n",
       "\\end{tabular}\n"
      ],
      "text/markdown": [
       "\n",
       "A data.frame: 3 × 5\n",
       "\n",
       "| INDEX &lt;int&gt; | ATTRIBUTES &lt;chr&gt; | LEVELS &lt;chr&gt; | COUNT &lt;chr&gt; | ATTRIBUTE_CLASS &lt;chr&gt; |\n",
       "|---|---|---|---|---|\n",
       "| 1 | ATTRIBUTE_sample            | Avermectin + Gut bacteria, Blank, Only Avermectin drug, Only Gut bacteria | 23, 3, 30, 30                | character |\n",
       "| 2 | ATTRIBUTE_replicates        | 1, 2, 3                                                                   | 30, 30, 23                   | integer   |\n",
       "| 3 | ATTRIBUTE_timepoint_minutes | 0, 1, 10, 20, 30, 60, 120, 180, 240, 720                                  | 9, 9, 9, 8, 8, 8, 8, 8, 8, 8 | integer   |\n",
       "\n"
      ],
      "text/plain": [
       "  INDEX ATTRIBUTES                 \n",
       "1 1     ATTRIBUTE_sample           \n",
       "2 2     ATTRIBUTE_replicates       \n",
       "3 3     ATTRIBUTE_timepoint_minutes\n",
       "  LEVELS                                                                   \n",
       "1 Avermectin + Gut bacteria, Blank, Only Avermectin drug, Only Gut bacteria\n",
       "2 1, 2, 3                                                                  \n",
       "3 0, 1, 10, 20, 30, 60, 120, 180, 240, 720                                 \n",
       "  COUNT                        ATTRIBUTE_CLASS\n",
       "1 23, 3, 30, 30                character      \n",
       "2 30, 30, 23                   integer        \n",
       "3 9, 9, 9, 8, 8, 8, 8, 8, 8, 8 integer        "
      ]
     },
     "metadata": {},
     "output_type": "display_data"
    }
   ],
   "source": [
    "InsideLevels(md[,2:ncol(md)]) #excluding 1st filename"
   ]
  },
  {
   "cell_type": "markdown",
   "id": "99ae13e7",
   "metadata": {
    "id": "3rHvKfUD9kAw"
   },
   "source": [
    "<p style='text-align: justify;'> The above table is a summary of our metadata table. For example, the 1st row says the different types of samples under 'ATTRIBUTE_sample', namely \"Blank\" and \"Sample\". The number of files corresponding to each of these categories is given in the COUNT column. For example, we have 3 files belonging to the \"Blank\" sample type. </p>"
   ]
  },
  {
   "cell_type": "markdown",
   "id": "d9b973f9-ba67-48ca-8fff-4bbee4515e48",
   "metadata": {},
   "source": [
    "----\n",
    "## <font color ='darkblue'> 2.4 Merging annotations with feature table</font>\n",
    "<a name=\"merge_ft\"></a>"
   ]
  },
  {
   "cell_type": "code",
   "execution_count": null,
   "id": "0f251afb-60b5-4b8b-9a5e-7a9319d313fc",
   "metadata": {},
   "outputs": [],
   "source": [
    "# Load the SIRIUS or CANOPUS summary table\n",
    "# summary <- read.table(\"your_summary_table.txt\", header = TRUE, stringsAsFactors = FALSE) # replace with your actual summary table file"
   ]
  },
  {
   "cell_type": "code",
   "execution_count": 79,
   "id": "2da74779-e1c2-4dcc-bcac-bb30f9af8356",
   "metadata": {},
   "outputs": [
    {
     "data": {
      "text/html": [
       "<table class=\"dataframe\">\n",
       "<caption>A data.frame: 2 × 46</caption>\n",
       "<thead>\n",
       "\t<tr><th></th><th scope=col>SpectrumID</th><th scope=col>Compound_Name</th><th scope=col>Ion_Source</th><th scope=col>Instrument</th><th scope=col>Compound_Source</th><th scope=col>PI</th><th scope=col>Data_Collector</th><th scope=col>Adduct</th><th scope=col>Precursor_MZ</th><th scope=col>ExactMass</th><th scope=col>...</th><th scope=col>MoleculeExplorerDatasets</th><th scope=col>MoleculeExplorerFiles</th><th scope=col>InChIKey</th><th scope=col>InChIKey-Planar</th><th scope=col>superclass</th><th scope=col>class</th><th scope=col>subclass</th><th scope=col>npclassifier_superclass</th><th scope=col>npclassifier_class</th><th scope=col>npclassifier_pathway</th></tr>\n",
       "\t<tr><th></th><th scope=col>&lt;chr&gt;</th><th scope=col>&lt;chr&gt;</th><th scope=col>&lt;chr&gt;</th><th scope=col>&lt;chr&gt;</th><th scope=col>&lt;chr&gt;</th><th scope=col>&lt;chr&gt;</th><th scope=col>&lt;chr&gt;</th><th scope=col>&lt;chr&gt;</th><th scope=col>&lt;dbl&gt;</th><th scope=col>&lt;dbl&gt;</th><th scope=col>...</th><th scope=col>&lt;int&gt;</th><th scope=col>&lt;int&gt;</th><th scope=col>&lt;chr&gt;</th><th scope=col>&lt;chr&gt;</th><th scope=col>&lt;chr&gt;</th><th scope=col>&lt;chr&gt;</th><th scope=col>&lt;chr&gt;</th><th scope=col>&lt;chr&gt;</th><th scope=col>&lt;chr&gt;</th><th scope=col>&lt;chr&gt;</th></tr>\n",
       "</thead>\n",
       "<tbody>\n",
       "\t<tr><th scope=row>1</th><td>CCMSLIB00003135371</td><td>Spectral Match to DL-Phenylalanine from NIST14</td><td>ESI</td><td>QQQ </td><td>Isolated</td><td>Data from Pieter Dorrestein</td><td>Data deposited by lfnothias</td><td>M+H</td><td>166.083</td><td>165.079</td><td>...</td><td> 57</td><td> 2653</td><td>COLNVLDHVKWLRT-UHFFFAOYSA-N</td><td>COLNVLDHVKWLRT</td><td>Organic acids and derivatives</td><td>Carboxylic acids and derivatives   </td><td>Amino acids, peptides, and analogues</td><td>Small peptides</td><td>Aminoacids</td><td>Amino acids and Peptides|Shikimates and Phenylpropanoids</td></tr>\n",
       "\t<tr><th scope=row>2</th><td>CCMSLIB00003138938</td><td>Spectral Match to Sulfadimethoxine from NIST14</td><td>ESI</td><td>qTof</td><td>Isolated</td><td>Data from Joshua Wollam    </td><td>Data deposited by fevargas </td><td>M+H</td><td>311.080</td><td>310.074</td><td>...</td><td>133</td><td>24184</td><td>ZZORFUFYDOWNEF-UHFFFAOYSA-N</td><td>ZZORFUFYDOWNEF</td><td>Benzenoids                   </td><td>Benzene and substituted derivatives</td><td>Benzenesulfonamides                 </td><td>              </td><td>          </td><td>Alkaloids                                               </td></tr>\n",
       "</tbody>\n",
       "</table>\n"
      ],
      "text/latex": [
       "A data.frame: 2 × 46\n",
       "\\begin{tabular}{r|lllllllllllllllllllll}\n",
       "  & SpectrumID & Compound\\_Name & Ion\\_Source & Instrument & Compound\\_Source & PI & Data\\_Collector & Adduct & Precursor\\_MZ & ExactMass & ... & MoleculeExplorerDatasets & MoleculeExplorerFiles & InChIKey & InChIKey-Planar & superclass & class & subclass & npclassifier\\_superclass & npclassifier\\_class & npclassifier\\_pathway\\\\\n",
       "  & <chr> & <chr> & <chr> & <chr> & <chr> & <chr> & <chr> & <chr> & <dbl> & <dbl> & ... & <int> & <int> & <chr> & <chr> & <chr> & <chr> & <chr> & <chr> & <chr> & <chr>\\\\\n",
       "\\hline\n",
       "\t1 & CCMSLIB00003135371 & Spectral Match to DL-Phenylalanine from NIST14 & ESI & QQQ  & Isolated & Data from Pieter Dorrestein & Data deposited by lfnothias & M+H & 166.083 & 165.079 & ... &  57 &  2653 & COLNVLDHVKWLRT-UHFFFAOYSA-N & COLNVLDHVKWLRT & Organic acids and derivatives & Carboxylic acids and derivatives    & Amino acids, peptides, and analogues & Small peptides & Aminoacids & Amino acids and Peptides\\textbar{}Shikimates and Phenylpropanoids\\\\\n",
       "\t2 & CCMSLIB00003138938 & Spectral Match to Sulfadimethoxine from NIST14 & ESI & qTof & Isolated & Data from Joshua Wollam     & Data deposited by fevargas  & M+H & 311.080 & 310.074 & ... & 133 & 24184 & ZZORFUFYDOWNEF-UHFFFAOYSA-N & ZZORFUFYDOWNEF & Benzenoids                    & Benzene and substituted derivatives & Benzenesulfonamides                  &                &            & Alkaloids                                               \\\\\n",
       "\\end{tabular}\n"
      ],
      "text/markdown": [
       "\n",
       "A data.frame: 2 × 46\n",
       "\n",
       "| <!--/--> | SpectrumID &lt;chr&gt; | Compound_Name &lt;chr&gt; | Ion_Source &lt;chr&gt; | Instrument &lt;chr&gt; | Compound_Source &lt;chr&gt; | PI &lt;chr&gt; | Data_Collector &lt;chr&gt; | Adduct &lt;chr&gt; | Precursor_MZ &lt;dbl&gt; | ExactMass &lt;dbl&gt; | ... ... | MoleculeExplorerDatasets &lt;int&gt; | MoleculeExplorerFiles &lt;int&gt; | InChIKey &lt;chr&gt; | InChIKey-Planar &lt;chr&gt; | superclass &lt;chr&gt; | class &lt;chr&gt; | subclass &lt;chr&gt; | npclassifier_superclass &lt;chr&gt; | npclassifier_class &lt;chr&gt; | npclassifier_pathway &lt;chr&gt; |\n",
       "|---|---|---|---|---|---|---|---|---|---|---|---|---|---|---|---|---|---|---|---|---|---|\n",
       "| 1 | CCMSLIB00003135371 | Spectral Match to DL-Phenylalanine from NIST14 | ESI | QQQ  | Isolated | Data from Pieter Dorrestein | Data deposited by lfnothias | M+H | 166.083 | 165.079 | ... |  57 |  2653 | COLNVLDHVKWLRT-UHFFFAOYSA-N | COLNVLDHVKWLRT | Organic acids and derivatives | Carboxylic acids and derivatives    | Amino acids, peptides, and analogues | Small peptides | Aminoacids | Amino acids and Peptides|Shikimates and Phenylpropanoids |\n",
       "| 2 | CCMSLIB00003138938 | Spectral Match to Sulfadimethoxine from NIST14 | ESI | qTof | Isolated | Data from Joshua Wollam     | Data deposited by fevargas  | M+H | 311.080 | 310.074 | ... | 133 | 24184 | ZZORFUFYDOWNEF-UHFFFAOYSA-N | ZZORFUFYDOWNEF | Benzenoids                    | Benzene and substituted derivatives | Benzenesulfonamides                  | <!----> | <!----> | Alkaloids                                                |\n",
       "\n"
      ],
      "text/plain": [
       "  SpectrumID         Compound_Name                                  Ion_Source\n",
       "1 CCMSLIB00003135371 Spectral Match to DL-Phenylalanine from NIST14 ESI       \n",
       "2 CCMSLIB00003138938 Spectral Match to Sulfadimethoxine from NIST14 ESI       \n",
       "  Instrument Compound_Source PI                         \n",
       "1 QQQ        Isolated        Data from Pieter Dorrestein\n",
       "2 qTof       Isolated        Data from Joshua Wollam    \n",
       "  Data_Collector              Adduct Precursor_MZ ExactMass ...\n",
       "1 Data deposited by lfnothias M+H    166.083      165.079   ...\n",
       "2 Data deposited by fevargas  M+H    311.080      310.074   ...\n",
       "  MoleculeExplorerDatasets MoleculeExplorerFiles InChIKey                   \n",
       "1  57                       2653                 COLNVLDHVKWLRT-UHFFFAOYSA-N\n",
       "2 133                      24184                 ZZORFUFYDOWNEF-UHFFFAOYSA-N\n",
       "  InChIKey-Planar superclass                   \n",
       "1 COLNVLDHVKWLRT  Organic acids and derivatives\n",
       "2 ZZORFUFYDOWNEF  Benzenoids                   \n",
       "  class                               subclass                            \n",
       "1 Carboxylic acids and derivatives    Amino acids, peptides, and analogues\n",
       "2 Benzene and substituted derivatives Benzenesulfonamides                 \n",
       "  npclassifier_superclass npclassifier_class\n",
       "1 Small peptides          Aminoacids        \n",
       "2                                           \n",
       "  npclassifier_pathway                                    \n",
       "1 Amino acids and Peptides|Shikimates and Phenylpropanoids\n",
       "2 Alkaloids                                               "
      ]
     },
     "metadata": {},
     "output_type": "display_data"
    }
   ],
   "source": [
    "head(gnps,2)"
   ]
  },
  {
   "cell_type": "code",
   "execution_count": 80,
   "id": "57264d80-7ba6-4e9c-839b-e03f2526d7c4",
   "metadata": {},
   "outputs": [
    {
     "data": {
      "text/html": [
       "<table class=\"dataframe\">\n",
       "<caption>A data.frame: 2 × 46</caption>\n",
       "<thead>\n",
       "\t<tr><th></th><th scope=col>SpectrumID</th><th scope=col>Compound_Name</th><th scope=col>Ion_Source</th><th scope=col>Instrument</th><th scope=col>Compound_Source</th><th scope=col>PI</th><th scope=col>Data_Collector</th><th scope=col>Adduct</th><th scope=col>Precursor_MZ</th><th scope=col>ExactMass</th><th scope=col>...</th><th scope=col>MoleculeExplorerDatasets</th><th scope=col>MoleculeExplorerFiles</th><th scope=col>InChIKey</th><th scope=col>InChIKey-Planar</th><th scope=col>superclass</th><th scope=col>class</th><th scope=col>subclass</th><th scope=col>npclassifier_superclass</th><th scope=col>npclassifier_class</th><th scope=col>npclassifier_pathway</th></tr>\n",
       "\t<tr><th></th><th scope=col>&lt;chr&gt;</th><th scope=col>&lt;chr&gt;</th><th scope=col>&lt;chr&gt;</th><th scope=col>&lt;chr&gt;</th><th scope=col>&lt;chr&gt;</th><th scope=col>&lt;chr&gt;</th><th scope=col>&lt;chr&gt;</th><th scope=col>&lt;chr&gt;</th><th scope=col>&lt;dbl&gt;</th><th scope=col>&lt;dbl&gt;</th><th scope=col>...</th><th scope=col>&lt;int&gt;</th><th scope=col>&lt;int&gt;</th><th scope=col>&lt;chr&gt;</th><th scope=col>&lt;chr&gt;</th><th scope=col>&lt;chr&gt;</th><th scope=col>&lt;chr&gt;</th><th scope=col>&lt;chr&gt;</th><th scope=col>&lt;chr&gt;</th><th scope=col>&lt;chr&gt;</th><th scope=col>&lt;chr&gt;</th></tr>\n",
       "</thead>\n",
       "<tbody>\n",
       "\t<tr><th scope=row>1</th><td>CCMSLIB00003135371</td><td>Spectral Match to DL-Phenylalanine from NIST14</td><td>ESI</td><td>QQQ </td><td>Isolated</td><td>Data from Pieter Dorrestein</td><td>Data deposited by lfnothias</td><td>M+H</td><td>166.083</td><td>165.079</td><td>...</td><td> 57</td><td> 2653</td><td>COLNVLDHVKWLRT-UHFFFAOYSA-N</td><td>COLNVLDHVKWLRT</td><td>Organic acids and derivatives</td><td>Carboxylic acids and derivatives   </td><td>Amino acids, peptides, and analogues</td><td>Small peptides</td><td>Aminoacids</td><td>Amino acids and Peptides|Shikimates and Phenylpropanoids</td></tr>\n",
       "\t<tr><th scope=row>2</th><td>CCMSLIB00003138938</td><td>Spectral Match to Sulfadimethoxine from NIST14</td><td>ESI</td><td>qTof</td><td>Isolated</td><td>Data from Joshua Wollam    </td><td>Data deposited by fevargas </td><td>M+H</td><td>311.080</td><td>310.074</td><td>...</td><td>133</td><td>24184</td><td>ZZORFUFYDOWNEF-UHFFFAOYSA-N</td><td>ZZORFUFYDOWNEF</td><td>Benzenoids                   </td><td>Benzene and substituted derivatives</td><td>Benzenesulfonamides                 </td><td>              </td><td>          </td><td>Alkaloids                                               </td></tr>\n",
       "</tbody>\n",
       "</table>\n"
      ],
      "text/latex": [
       "A data.frame: 2 × 46\n",
       "\\begin{tabular}{r|lllllllllllllllllllll}\n",
       "  & SpectrumID & Compound\\_Name & Ion\\_Source & Instrument & Compound\\_Source & PI & Data\\_Collector & Adduct & Precursor\\_MZ & ExactMass & ... & MoleculeExplorerDatasets & MoleculeExplorerFiles & InChIKey & InChIKey-Planar & superclass & class & subclass & npclassifier\\_superclass & npclassifier\\_class & npclassifier\\_pathway\\\\\n",
       "  & <chr> & <chr> & <chr> & <chr> & <chr> & <chr> & <chr> & <chr> & <dbl> & <dbl> & ... & <int> & <int> & <chr> & <chr> & <chr> & <chr> & <chr> & <chr> & <chr> & <chr>\\\\\n",
       "\\hline\n",
       "\t1 & CCMSLIB00003135371 & Spectral Match to DL-Phenylalanine from NIST14 & ESI & QQQ  & Isolated & Data from Pieter Dorrestein & Data deposited by lfnothias & M+H & 166.083 & 165.079 & ... &  57 &  2653 & COLNVLDHVKWLRT-UHFFFAOYSA-N & COLNVLDHVKWLRT & Organic acids and derivatives & Carboxylic acids and derivatives    & Amino acids, peptides, and analogues & Small peptides & Aminoacids & Amino acids and Peptides\\textbar{}Shikimates and Phenylpropanoids\\\\\n",
       "\t2 & CCMSLIB00003138938 & Spectral Match to Sulfadimethoxine from NIST14 & ESI & qTof & Isolated & Data from Joshua Wollam     & Data deposited by fevargas  & M+H & 311.080 & 310.074 & ... & 133 & 24184 & ZZORFUFYDOWNEF-UHFFFAOYSA-N & ZZORFUFYDOWNEF & Benzenoids                    & Benzene and substituted derivatives & Benzenesulfonamides                  &                &            & Alkaloids                                               \\\\\n",
       "\\end{tabular}\n"
      ],
      "text/markdown": [
       "\n",
       "A data.frame: 2 × 46\n",
       "\n",
       "| <!--/--> | SpectrumID &lt;chr&gt; | Compound_Name &lt;chr&gt; | Ion_Source &lt;chr&gt; | Instrument &lt;chr&gt; | Compound_Source &lt;chr&gt; | PI &lt;chr&gt; | Data_Collector &lt;chr&gt; | Adduct &lt;chr&gt; | Precursor_MZ &lt;dbl&gt; | ExactMass &lt;dbl&gt; | ... ... | MoleculeExplorerDatasets &lt;int&gt; | MoleculeExplorerFiles &lt;int&gt; | InChIKey &lt;chr&gt; | InChIKey-Planar &lt;chr&gt; | superclass &lt;chr&gt; | class &lt;chr&gt; | subclass &lt;chr&gt; | npclassifier_superclass &lt;chr&gt; | npclassifier_class &lt;chr&gt; | npclassifier_pathway &lt;chr&gt; |\n",
       "|---|---|---|---|---|---|---|---|---|---|---|---|---|---|---|---|---|---|---|---|---|---|\n",
       "| 1 | CCMSLIB00003135371 | Spectral Match to DL-Phenylalanine from NIST14 | ESI | QQQ  | Isolated | Data from Pieter Dorrestein | Data deposited by lfnothias | M+H | 166.083 | 165.079 | ... |  57 |  2653 | COLNVLDHVKWLRT-UHFFFAOYSA-N | COLNVLDHVKWLRT | Organic acids and derivatives | Carboxylic acids and derivatives    | Amino acids, peptides, and analogues | Small peptides | Aminoacids | Amino acids and Peptides|Shikimates and Phenylpropanoids |\n",
       "| 2 | CCMSLIB00003138938 | Spectral Match to Sulfadimethoxine from NIST14 | ESI | qTof | Isolated | Data from Joshua Wollam     | Data deposited by fevargas  | M+H | 311.080 | 310.074 | ... | 133 | 24184 | ZZORFUFYDOWNEF-UHFFFAOYSA-N | ZZORFUFYDOWNEF | Benzenoids                    | Benzene and substituted derivatives | Benzenesulfonamides                  | <!----> | <!----> | Alkaloids                                                |\n",
       "\n"
      ],
      "text/plain": [
       "  SpectrumID         Compound_Name                                  Ion_Source\n",
       "1 CCMSLIB00003135371 Spectral Match to DL-Phenylalanine from NIST14 ESI       \n",
       "2 CCMSLIB00003138938 Spectral Match to Sulfadimethoxine from NIST14 ESI       \n",
       "  Instrument Compound_Source PI                         \n",
       "1 QQQ        Isolated        Data from Pieter Dorrestein\n",
       "2 qTof       Isolated        Data from Joshua Wollam    \n",
       "  Data_Collector              Adduct Precursor_MZ ExactMass ...\n",
       "1 Data deposited by lfnothias M+H    166.083      165.079   ...\n",
       "2 Data deposited by fevargas  M+H    311.080      310.074   ...\n",
       "  MoleculeExplorerDatasets MoleculeExplorerFiles InChIKey                   \n",
       "1  57                       2653                 COLNVLDHVKWLRT-UHFFFAOYSA-N\n",
       "2 133                      24184                 ZZORFUFYDOWNEF-UHFFFAOYSA-N\n",
       "  InChIKey-Planar superclass                   \n",
       "1 COLNVLDHVKWLRT  Organic acids and derivatives\n",
       "2 ZZORFUFYDOWNEF  Benzenoids                   \n",
       "  class                               subclass                            \n",
       "1 Carboxylic acids and derivatives    Amino acids, peptides, and analogues\n",
       "2 Benzene and substituted derivatives Benzenesulfonamides                 \n",
       "  npclassifier_superclass npclassifier_class\n",
       "1 Small peptides          Aminoacids        \n",
       "2                                           \n",
       "  npclassifier_pathway                                    \n",
       "1 Amino acids and Peptides|Shikimates and Phenylpropanoids\n",
       "2 Alkaloids                                               "
      ]
     },
     "metadata": {},
     "output_type": "display_data"
    }
   ],
   "source": [
    "head(gnps_an,2)"
   ]
  },
  {
   "cell_type": "code",
   "execution_count": 97,
   "id": "73d93d0a-a42c-4ac2-8261-461efe8fab80",
   "metadata": {},
   "outputs": [
    {
     "name": "stdin",
     "output_type": "stream",
     "text": [
      "Do you want to merge your feature table with other annotation tables? (Y/N)  y\n"
     ]
    },
    {
     "data": {
      "text/html": [
       "<table class=\"dataframe\">\n",
       "<caption>A data.frame: 5 × 2</caption>\n",
       "<thead>\n",
       "\t<tr><th scope=col>ID</th><th scope=col>Tables</th></tr>\n",
       "\t<tr><th scope=col>&lt;int&gt;</th><th scope=col>&lt;chr&gt;</th></tr>\n",
       "</thead>\n",
       "<tbody>\n",
       "\t<tr><td>1</td><td>GNPS annotation       </td></tr>\n",
       "\t<tr><td>2</td><td>GNPS analog annotation</td></tr>\n",
       "\t<tr><td>3</td><td>SIRIUS                </td></tr>\n",
       "\t<tr><td>4</td><td>CANOPUS               </td></tr>\n",
       "\t<tr><td>5</td><td>Escape                </td></tr>\n",
       "</tbody>\n",
       "</table>\n"
      ],
      "text/latex": [
       "A data.frame: 5 × 2\n",
       "\\begin{tabular}{ll}\n",
       " ID & Tables\\\\\n",
       " <int> & <chr>\\\\\n",
       "\\hline\n",
       "\t 1 & GNPS annotation       \\\\\n",
       "\t 2 & GNPS analog annotation\\\\\n",
       "\t 3 & SIRIUS                \\\\\n",
       "\t 4 & CANOPUS               \\\\\n",
       "\t 5 & Escape                \\\\\n",
       "\\end{tabular}\n"
      ],
      "text/markdown": [
       "\n",
       "A data.frame: 5 × 2\n",
       "\n",
       "| ID &lt;int&gt; | Tables &lt;chr&gt; |\n",
       "|---|---|\n",
       "| 1 | GNPS annotation        |\n",
       "| 2 | GNPS analog annotation |\n",
       "| 3 | SIRIUS                 |\n",
       "| 4 | CANOPUS                |\n",
       "| 5 | Escape                 |\n",
       "\n"
      ],
      "text/plain": [
       "  ID Tables                \n",
       "1 1  GNPS annotation       \n",
       "2 2  GNPS analog annotation\n",
       "3 3  SIRIUS                \n",
       "4 4  CANOPUS               \n",
       "5 5  Escape                "
      ]
     },
     "metadata": {},
     "output_type": "display_data"
    },
    {
     "name": "stdout",
     "output_type": "stream",
     "text": [
      "Please enter the numbers corresponding to the tables you want to merge with the feature table, separated by commas:\n"
     ]
    },
    {
     "name": "stdin",
     "output_type": "stream",
     "text": [
      "Your choices:  1\n"
     ]
    },
    {
     "data": {
      "text/html": [
       "<table class=\"dataframe\">\n",
       "<caption>A data.frame: 1 × 2</caption>\n",
       "<thead>\n",
       "\t<tr><th></th><th scope=col>ID</th><th scope=col>Tables</th></tr>\n",
       "\t<tr><th></th><th scope=col>&lt;int&gt;</th><th scope=col>&lt;chr&gt;</th></tr>\n",
       "</thead>\n",
       "<tbody>\n",
       "\t<tr><th scope=row>1</th><td>1</td><td>GNPS annotation</td></tr>\n",
       "</tbody>\n",
       "</table>\n"
      ],
      "text/latex": [
       "A data.frame: 1 × 2\n",
       "\\begin{tabular}{r|ll}\n",
       "  & ID & Tables\\\\\n",
       "  & <int> & <chr>\\\\\n",
       "\\hline\n",
       "\t1 & 1 & GNPS annotation\\\\\n",
       "\\end{tabular}\n"
      ],
      "text/markdown": [
       "\n",
       "A data.frame: 1 × 2\n",
       "\n",
       "| <!--/--> | ID &lt;int&gt; | Tables &lt;chr&gt; |\n",
       "|---|---|---|\n",
       "| 1 | 1 | GNPS annotation |\n",
       "\n"
      ],
      "text/plain": [
       "  ID Tables         \n",
       "1 1  GNPS annotation"
      ]
     },
     "metadata": {},
     "output_type": "display_data"
    },
    {
     "data": {
      "text/html": [
       "<table class=\"dataframe\">\n",
       "<caption>A data.frame: 2 × 145</caption>\n",
       "<thead>\n",
       "\t<tr><th></th><th scope=col>row ID</th><th scope=col>row m/z</th><th scope=col>row retention time</th><th scope=col>row ion mobility</th><th scope=col>row ion mobility unit</th><th scope=col>row CCS</th><th scope=col>correlation group ID</th><th scope=col>annotation network number</th><th scope=col>best ion</th><th scope=col>auto MS2 verify</th><th scope=col>...</th><th scope=col>MoleculeExplorerDatasets</th><th scope=col>MoleculeExplorerFiles</th><th scope=col>InChIKey</th><th scope=col>InChIKey-Planar</th><th scope=col>superclass</th><th scope=col>class</th><th scope=col>subclass</th><th scope=col>npclassifier_superclass</th><th scope=col>npclassifier_class</th><th scope=col>npclassifier_pathway</th></tr>\n",
       "\t<tr><th></th><th scope=col>&lt;int&gt;</th><th scope=col>&lt;dbl&gt;</th><th scope=col>&lt;dbl&gt;</th><th scope=col>&lt;lgl&gt;</th><th scope=col>&lt;lgl&gt;</th><th scope=col>&lt;lgl&gt;</th><th scope=col>&lt;int&gt;</th><th scope=col>&lt;int&gt;</th><th scope=col>&lt;chr&gt;</th><th scope=col>&lt;lgl&gt;</th><th scope=col>...</th><th scope=col>&lt;int&gt;</th><th scope=col>&lt;int&gt;</th><th scope=col>&lt;chr&gt;</th><th scope=col>&lt;chr&gt;</th><th scope=col>&lt;chr&gt;</th><th scope=col>&lt;chr&gt;</th><th scope=col>&lt;chr&gt;</th><th scope=col>&lt;chr&gt;</th><th scope=col>&lt;chr&gt;</th><th scope=col>&lt;chr&gt;</th></tr>\n",
       "</thead>\n",
       "<tbody>\n",
       "\t<tr><th scope=row>1</th><td>2</td><td>285.0096</td><td>0.02633856</td><td>NA</td><td>NA</td><td>NA</td><td>NA</td><td>NA</td><td></td><td>NA</td><td>...</td><td>NA</td><td>NA</td><td>NA</td><td>NA</td><td>NA</td><td>NA</td><td>NA</td><td>NA</td><td>NA</td><td>NA</td></tr>\n",
       "\t<tr><th scope=row>2</th><td>4</td><td>166.1227</td><td>0.05413009</td><td>NA</td><td>NA</td><td>NA</td><td>NA</td><td>NA</td><td></td><td>NA</td><td>...</td><td>NA</td><td>NA</td><td>NA</td><td>NA</td><td>NA</td><td>NA</td><td>NA</td><td>NA</td><td>NA</td><td>NA</td></tr>\n",
       "</tbody>\n",
       "</table>\n"
      ],
      "text/latex": [
       "A data.frame: 2 × 145\n",
       "\\begin{tabular}{r|lllllllllllllllllllll}\n",
       "  & row ID & row m/z & row retention time & row ion mobility & row ion mobility unit & row CCS & correlation group ID & annotation network number & best ion & auto MS2 verify & ... & MoleculeExplorerDatasets & MoleculeExplorerFiles & InChIKey & InChIKey-Planar & superclass & class & subclass & npclassifier\\_superclass & npclassifier\\_class & npclassifier\\_pathway\\\\\n",
       "  & <int> & <dbl> & <dbl> & <lgl> & <lgl> & <lgl> & <int> & <int> & <chr> & <lgl> & ... & <int> & <int> & <chr> & <chr> & <chr> & <chr> & <chr> & <chr> & <chr> & <chr>\\\\\n",
       "\\hline\n",
       "\t1 & 2 & 285.0096 & 0.02633856 & NA & NA & NA & NA & NA &  & NA & ... & NA & NA & NA & NA & NA & NA & NA & NA & NA & NA\\\\\n",
       "\t2 & 4 & 166.1227 & 0.05413009 & NA & NA & NA & NA & NA &  & NA & ... & NA & NA & NA & NA & NA & NA & NA & NA & NA & NA\\\\\n",
       "\\end{tabular}\n"
      ],
      "text/markdown": [
       "\n",
       "A data.frame: 2 × 145\n",
       "\n",
       "| <!--/--> | row ID &lt;int&gt; | row m/z &lt;dbl&gt; | row retention time &lt;dbl&gt; | row ion mobility &lt;lgl&gt; | row ion mobility unit &lt;lgl&gt; | row CCS &lt;lgl&gt; | correlation group ID &lt;int&gt; | annotation network number &lt;int&gt; | best ion &lt;chr&gt; | auto MS2 verify &lt;lgl&gt; | ... ... | MoleculeExplorerDatasets &lt;int&gt; | MoleculeExplorerFiles &lt;int&gt; | InChIKey &lt;chr&gt; | InChIKey-Planar &lt;chr&gt; | superclass &lt;chr&gt; | class &lt;chr&gt; | subclass &lt;chr&gt; | npclassifier_superclass &lt;chr&gt; | npclassifier_class &lt;chr&gt; | npclassifier_pathway &lt;chr&gt; |\n",
       "|---|---|---|---|---|---|---|---|---|---|---|---|---|---|---|---|---|---|---|---|---|---|\n",
       "| 1 | 2 | 285.0096 | 0.02633856 | NA | NA | NA | NA | NA | <!----> | NA | ... | NA | NA | NA | NA | NA | NA | NA | NA | NA | NA |\n",
       "| 2 | 4 | 166.1227 | 0.05413009 | NA | NA | NA | NA | NA | <!----> | NA | ... | NA | NA | NA | NA | NA | NA | NA | NA | NA | NA |\n",
       "\n"
      ],
      "text/plain": [
       "  row ID row m/z  row retention time row ion mobility row ion mobility unit\n",
       "1 2      285.0096 0.02633856         NA               NA                   \n",
       "2 4      166.1227 0.05413009         NA               NA                   \n",
       "  row CCS correlation group ID annotation network number best ion\n",
       "1 NA      NA                   NA                                \n",
       "2 NA      NA                   NA                                \n",
       "  auto MS2 verify ... MoleculeExplorerDatasets MoleculeExplorerFiles InChIKey\n",
       "1 NA              ... NA                       NA                    NA      \n",
       "2 NA              ... NA                       NA                    NA      \n",
       "  InChIKey-Planar superclass class subclass npclassifier_superclass\n",
       "1 NA              NA         NA    NA       NA                     \n",
       "2 NA              NA         NA    NA       NA                     \n",
       "  npclassifier_class npclassifier_pathway\n",
       "1 NA                 NA                  \n",
       "2 NA                 NA                  "
      ]
     },
     "metadata": {},
     "output_type": "display_data"
    },
    {
     "name": "stdout",
     "output_type": "stream",
     "text": [
      "The merged table 'merge_table' is given as follows:"
     ]
    }
   ],
   "source": [
    "merge_annotation <- readline(\"Do you want to merge your feature table with other annotation tables? (Y/N) \")\n",
    "\n",
    "# Check if the response is 'Y' or 'y'\n",
    "if (toupper(merge_annotation) == \"Y\") {\n",
    "  # Source your R script\n",
    "  source(\"C:/Users/abzer/OneDrive/Documents/GitHub/ChemProp2/ChemProp2_scripts/datacleanup_scripts/merge_annotations.r\")\n",
    "}\n"
   ]
  },
  {
   "cell_type": "markdown",
   "id": "81940757",
   "metadata": {
    "id": "0ebcf409-e945-480d-9501-a70da21454c9",
    "tags": []
   },
   "source": [
    "---\n",
    "\n",
    "## <font color ='darkblue'> 2.5 Arranging metadata and feature table in the same order</font>\n",
    "<a name=\"arr_input_files\"></a>"
   ]
  },
  {
   "cell_type": "code",
   "execution_count": 101,
   "id": "83615ee7-52d5-41ed-8111-3503b9921eae",
   "metadata": {},
   "outputs": [
    {
     "name": "stderr",
     "output_type": "stream",
     "text": [
      "Your new_ft table:\n",
      "\n"
     ]
    },
    {
     "data": {
      "text/html": [
       "<table class=\"dataframe\">\n",
       "<caption>A data.frame: 2 × 95</caption>\n",
       "<thead>\n",
       "\t<tr><th></th><th scope=col>row ID</th><th scope=col>row m/z</th><th scope=col>row retention time</th><th scope=col>correlation group ID</th><th scope=col>annotation network number</th><th scope=col>best ion</th><th scope=col>identified by n=</th><th scope=col>partners</th><th scope=col>neutral M mass</th><th scope=col>Avr_Bac_Rep2_t10.mzML</th><th scope=col>...</th><th scope=col>GutBac_Rep2_t180.mzML</th><th scope=col>GutBac_Rep3_t240.mzML</th><th scope=col>GutBac_Rep3_t20.mzML</th><th scope=col>GutBac_Rep3_t30.mzML</th><th scope=col>GutBac_Rep3_t720.mzML</th><th scope=col>GutBac_Rep3_t180.mzML</th><th scope=col>GutBac_Rep2_t20.mzML</th><th scope=col>GutBac_Rep2_t720.mzML</th><th scope=col>GutBac_Rep3_t1.mzML</th><th scope=col>GutBac_Rep3_t120.mzML</th></tr>\n",
       "\t<tr><th></th><th scope=col>&lt;int&gt;</th><th scope=col>&lt;dbl&gt;</th><th scope=col>&lt;dbl&gt;</th><th scope=col>&lt;int&gt;</th><th scope=col>&lt;int&gt;</th><th scope=col>&lt;chr&gt;</th><th scope=col>&lt;int&gt;</th><th scope=col>&lt;chr&gt;</th><th scope=col>&lt;dbl&gt;</th><th scope=col>&lt;dbl&gt;</th><th scope=col>...</th><th scope=col>&lt;dbl&gt;</th><th scope=col>&lt;dbl&gt;</th><th scope=col>&lt;dbl&gt;</th><th scope=col>&lt;dbl&gt;</th><th scope=col>&lt;dbl&gt;</th><th scope=col>&lt;dbl&gt;</th><th scope=col>&lt;dbl&gt;</th><th scope=col>&lt;dbl&gt;</th><th scope=col>&lt;dbl&gt;</th><th scope=col>&lt;dbl&gt;</th></tr>\n",
       "</thead>\n",
       "<tbody>\n",
       "\t<tr><th scope=row>X2_285.01_0.026_NA</th><td>2</td><td>285.0096</td><td>0.02633856</td><td>NA</td><td>NA</td><td></td><td>NA</td><td></td><td>NA</td><td>31352.27</td><td>...</td><td>21206.94</td><td> 7105.003</td><td>19034.215</td><td>27222.57</td><td> 5091.567</td><td>18300.857</td><td>27369.81</td><td>29424.068</td><td>31372.82</td><td>8301.374</td></tr>\n",
       "\t<tr><th scope=row>X4_166.123_0.054_NA</th><td>4</td><td>166.1227</td><td>0.05413009</td><td>NA</td><td>NA</td><td></td><td>NA</td><td></td><td>NA</td><td>35725.56</td><td>...</td><td>28648.79</td><td>36226.734</td><td> 2841.817</td><td>33543.08</td><td>29613.550</td><td> 1586.277</td><td>31765.92</td><td> 4924.068</td><td>41463.85</td><td>9741.186</td></tr>\n",
       "</tbody>\n",
       "</table>\n"
      ],
      "text/latex": [
       "A data.frame: 2 × 95\n",
       "\\begin{tabular}{r|lllllllllllllllllllll}\n",
       "  & row ID & row m/z & row retention time & correlation group ID & annotation network number & best ion & identified by n= & partners & neutral M mass & Avr\\_Bac\\_Rep2\\_t10.mzML & ... & GutBac\\_Rep2\\_t180.mzML & GutBac\\_Rep3\\_t240.mzML & GutBac\\_Rep3\\_t20.mzML & GutBac\\_Rep3\\_t30.mzML & GutBac\\_Rep3\\_t720.mzML & GutBac\\_Rep3\\_t180.mzML & GutBac\\_Rep2\\_t20.mzML & GutBac\\_Rep2\\_t720.mzML & GutBac\\_Rep3\\_t1.mzML & GutBac\\_Rep3\\_t120.mzML\\\\\n",
       "  & <int> & <dbl> & <dbl> & <int> & <int> & <chr> & <int> & <chr> & <dbl> & <dbl> & ... & <dbl> & <dbl> & <dbl> & <dbl> & <dbl> & <dbl> & <dbl> & <dbl> & <dbl> & <dbl>\\\\\n",
       "\\hline\n",
       "\tX2\\_285.01\\_0.026\\_NA & 2 & 285.0096 & 0.02633856 & NA & NA &  & NA &  & NA & 31352.27 & ... & 21206.94 &  7105.003 & 19034.215 & 27222.57 &  5091.567 & 18300.857 & 27369.81 & 29424.068 & 31372.82 & 8301.374\\\\\n",
       "\tX4\\_166.123\\_0.054\\_NA & 4 & 166.1227 & 0.05413009 & NA & NA &  & NA &  & NA & 35725.56 & ... & 28648.79 & 36226.734 &  2841.817 & 33543.08 & 29613.550 &  1586.277 & 31765.92 &  4924.068 & 41463.85 & 9741.186\\\\\n",
       "\\end{tabular}\n"
      ],
      "text/markdown": [
       "\n",
       "A data.frame: 2 × 95\n",
       "\n",
       "| <!--/--> | row ID &lt;int&gt; | row m/z &lt;dbl&gt; | row retention time &lt;dbl&gt; | correlation group ID &lt;int&gt; | annotation network number &lt;int&gt; | best ion &lt;chr&gt; | identified by n= &lt;int&gt; | partners &lt;chr&gt; | neutral M mass &lt;dbl&gt; | Avr_Bac_Rep2_t10.mzML &lt;dbl&gt; | ... ... | GutBac_Rep2_t180.mzML &lt;dbl&gt; | GutBac_Rep3_t240.mzML &lt;dbl&gt; | GutBac_Rep3_t20.mzML &lt;dbl&gt; | GutBac_Rep3_t30.mzML &lt;dbl&gt; | GutBac_Rep3_t720.mzML &lt;dbl&gt; | GutBac_Rep3_t180.mzML &lt;dbl&gt; | GutBac_Rep2_t20.mzML &lt;dbl&gt; | GutBac_Rep2_t720.mzML &lt;dbl&gt; | GutBac_Rep3_t1.mzML &lt;dbl&gt; | GutBac_Rep3_t120.mzML &lt;dbl&gt; |\n",
       "|---|---|---|---|---|---|---|---|---|---|---|---|---|---|---|---|---|---|---|---|---|---|\n",
       "| X2_285.01_0.026_NA | 2 | 285.0096 | 0.02633856 | NA | NA | <!----> | NA | <!----> | NA | 31352.27 | ... | 21206.94 |  7105.003 | 19034.215 | 27222.57 |  5091.567 | 18300.857 | 27369.81 | 29424.068 | 31372.82 | 8301.374 |\n",
       "| X4_166.123_0.054_NA | 4 | 166.1227 | 0.05413009 | NA | NA | <!----> | NA | <!----> | NA | 35725.56 | ... | 28648.79 | 36226.734 |  2841.817 | 33543.08 | 29613.550 |  1586.277 | 31765.92 |  4924.068 | 41463.85 | 9741.186 |\n",
       "\n"
      ],
      "text/plain": [
       "                    row ID row m/z  row retention time correlation group ID\n",
       "X2_285.01_0.026_NA  2      285.0096 0.02633856         NA                  \n",
       "X4_166.123_0.054_NA 4      166.1227 0.05413009         NA                  \n",
       "                    annotation network number best ion identified by n=\n",
       "X2_285.01_0.026_NA  NA                                 NA              \n",
       "X4_166.123_0.054_NA NA                                 NA              \n",
       "                    partners neutral M mass Avr_Bac_Rep2_t10.mzML ...\n",
       "X2_285.01_0.026_NA           NA             31352.27              ...\n",
       "X4_166.123_0.054_NA          NA             35725.56              ...\n",
       "                    GutBac_Rep2_t180.mzML GutBac_Rep3_t240.mzML\n",
       "X2_285.01_0.026_NA  21206.94               7105.003            \n",
       "X4_166.123_0.054_NA 28648.79              36226.734            \n",
       "                    GutBac_Rep3_t20.mzML GutBac_Rep3_t30.mzML\n",
       "X2_285.01_0.026_NA  19034.215            27222.57            \n",
       "X4_166.123_0.054_NA  2841.817            33543.08            \n",
       "                    GutBac_Rep3_t720.mzML GutBac_Rep3_t180.mzML\n",
       "X2_285.01_0.026_NA   5091.567             18300.857            \n",
       "X4_166.123_0.054_NA 29613.550              1586.277            \n",
       "                    GutBac_Rep2_t20.mzML GutBac_Rep2_t720.mzML\n",
       "X2_285.01_0.026_NA  27369.81             29424.068            \n",
       "X4_166.123_0.054_NA 31765.92              4924.068            \n",
       "                    GutBac_Rep3_t1.mzML GutBac_Rep3_t120.mzML\n",
       "X2_285.01_0.026_NA  31372.82            8301.374             \n",
       "X4_166.123_0.054_NA 41463.85            9741.186             "
      ]
     },
     "metadata": {},
     "output_type": "display_data"
    },
    {
     "name": "stderr",
     "output_type": "stream",
     "text": [
      "Your new_md table:\n",
      "\n"
     ]
    },
    {
     "data": {
      "text/html": [
       "<table class=\"dataframe\">\n",
       "<caption>A data.frame: 2 × 4</caption>\n",
       "<thead>\n",
       "\t<tr><th></th><th scope=col>filename</th><th scope=col>ATTRIBUTE_sample</th><th scope=col>ATTRIBUTE_replicates</th><th scope=col>ATTRIBUTE_timepoint_minutes</th></tr>\n",
       "\t<tr><th></th><th scope=col>&lt;chr&gt;</th><th scope=col>&lt;chr&gt;</th><th scope=col>&lt;chr&gt;</th><th scope=col>&lt;chr&gt;</th></tr>\n",
       "</thead>\n",
       "<tbody>\n",
       "\t<tr><th scope=row>1</th><td>Avr_Bac_Rep1_t0.mzML</td><td>Avermectin + Gut bacteria</td><td>1</td><td>0</td></tr>\n",
       "\t<tr><th scope=row>2</th><td>Avr_Bac_Rep1_t1.mzML</td><td>Avermectin + Gut bacteria</td><td>1</td><td>1</td></tr>\n",
       "</tbody>\n",
       "</table>\n"
      ],
      "text/latex": [
       "A data.frame: 2 × 4\n",
       "\\begin{tabular}{r|llll}\n",
       "  & filename & ATTRIBUTE\\_sample & ATTRIBUTE\\_replicates & ATTRIBUTE\\_timepoint\\_minutes\\\\\n",
       "  & <chr> & <chr> & <chr> & <chr>\\\\\n",
       "\\hline\n",
       "\t1 & Avr\\_Bac\\_Rep1\\_t0.mzML & Avermectin + Gut bacteria & 1 & 0\\\\\n",
       "\t2 & Avr\\_Bac\\_Rep1\\_t1.mzML & Avermectin + Gut bacteria & 1 & 1\\\\\n",
       "\\end{tabular}\n"
      ],
      "text/markdown": [
       "\n",
       "A data.frame: 2 × 4\n",
       "\n",
       "| <!--/--> | filename &lt;chr&gt; | ATTRIBUTE_sample &lt;chr&gt; | ATTRIBUTE_replicates &lt;chr&gt; | ATTRIBUTE_timepoint_minutes &lt;chr&gt; |\n",
       "|---|---|---|---|---|\n",
       "| 1 | Avr_Bac_Rep1_t0.mzML | Avermectin + Gut bacteria | 1 | 0 |\n",
       "| 2 | Avr_Bac_Rep1_t1.mzML | Avermectin + Gut bacteria | 1 | 1 |\n",
       "\n"
      ],
      "text/plain": [
       "  filename             ATTRIBUTE_sample          ATTRIBUTE_replicates\n",
       "1 Avr_Bac_Rep1_t0.mzML Avermectin + Gut bacteria 1                   \n",
       "2 Avr_Bac_Rep1_t1.mzML Avermectin + Gut bacteria 1                   \n",
       "  ATTRIBUTE_timepoint_minutes\n",
       "1 0                          \n",
       "2 1                          "
      ]
     },
     "metadata": {},
     "output_type": "display_data"
    },
    {
     "name": "stdout",
     "output_type": "stream",
     "text": [
      "[1] \"You have all mzML files.\"\n"
     ]
    },
    {
     "name": "stderr",
     "output_type": "stream",
     "text": [
      "Number of files in the metadata also present in the feature table: 86\n",
      "\n",
      "All filenames in the metadata match those in the feature table.\n",
      "\n",
      "The number of rows and columns in our original feature table is: 3412 x 100\n",
      "\n",
      "\n",
      "The number of rows and columns in our new feature table is: 3412 x 86\n",
      "\n",
      "\n",
      "The number of rows and columns in our new metadata is: 86 x 4\n",
      "\n"
     ]
    }
   ],
   "source": [
    "source(\"C:/Users/abzer/OneDrive/Documents/GitHub/ChemProp2/ChemProp2_scripts/datacleanup_scripts/arrange_ft_md.r\")"
   ]
  },
  {
   "cell_type": "markdown",
   "id": "5df9f459",
   "metadata": {
    "id": "ed594448"
   },
   "source": [
    "Notice that the number of columns of the new feature table is the same as the number of rows in our new metadata. Now, we have both our feature table and metadata in the same order.\n",
    "\n",
    "---"
   ]
  },
  {
   "cell_type": "markdown",
   "id": "b2f05b50",
   "metadata": {
    "tags": []
   },
   "source": [
    "# <font color ='blue'> 3. Data-cleanup </font>\n",
    "<a name =\"data_cleanup\"></a>"
   ]
  },
  {
   "cell_type": "code",
   "execution_count": 102,
   "id": "235b7689",
   "metadata": {
    "tags": []
   },
   "outputs": [
    {
     "data": {
      "text/html": [
       "TRUE"
      ],
      "text/latex": [
       "TRUE"
      ],
      "text/markdown": [
       "TRUE"
      ],
      "text/plain": [
       "[1] TRUE"
      ]
     },
     "metadata": {},
     "output_type": "display_data"
    }
   ],
   "source": [
    "ft_t <- as.data.frame(t(new_ft)) #transposing the ft\n",
    "ft_t <- ft_t %>% mutate_all(as.numeric)  #converting all values to numeric\n",
    "identical(new_md$filename,rownames(ft_t)) #should return TRUE now"
   ]
  },
  {
   "cell_type": "code",
   "execution_count": 115,
   "id": "c27edf0f-cd18-4acd-b4fb-51f4241e39a6",
   "metadata": {},
   "outputs": [],
   "source": [
    "source(\"C:/Users/abzer/OneDrive/Documents/GitHub/ChemProp2/ChemProp2_scripts/datacleanup_scripts/plot_PCoA.r\")"
   ]
  },
  {
   "cell_type": "markdown",
   "id": "4d634377-e9cc-40bd-a4ee-babf6d1203fe",
   "metadata": {},
   "source": [
    "Use the function as follows:  \n",
    "plotPCoA(ft, md, distmetric = c(\"bray\",\"euclidean\", \"maximum\", \"manhattan\",\"canberra\", \"binary\", \"minkowski\"), title = 'Principal coordinates plot'"
   ]
  },
  {
   "cell_type": "code",
   "execution_count": 118,
   "id": "b24df962-ace2-4b6e-94c2-6cd16205423b",
   "metadata": {},
   "outputs": [
    {
     "data": {
      "text/html": [
       "<table class=\"dataframe\">\n",
       "<caption>A data.frame: 4 × 2</caption>\n",
       "<thead>\n",
       "\t<tr><th scope=col>ID</th><th scope=col>Column_Names_Metadata</th></tr>\n",
       "\t<tr><th scope=col>&lt;int&gt;</th><th scope=col>&lt;chr&gt;</th></tr>\n",
       "</thead>\n",
       "<tbody>\n",
       "\t<tr><td>1</td><td>filename                   </td></tr>\n",
       "\t<tr><td>2</td><td>ATTRIBUTE_sample           </td></tr>\n",
       "\t<tr><td>3</td><td>ATTRIBUTE_replicates       </td></tr>\n",
       "\t<tr><td>4</td><td>ATTRIBUTE_timepoint_minutes</td></tr>\n",
       "</tbody>\n",
       "</table>\n"
      ],
      "text/latex": [
       "A data.frame: 4 × 2\n",
       "\\begin{tabular}{ll}\n",
       " ID & Column\\_Names\\_Metadata\\\\\n",
       " <int> & <chr>\\\\\n",
       "\\hline\n",
       "\t 1 & filename                   \\\\\n",
       "\t 2 & ATTRIBUTE\\_sample           \\\\\n",
       "\t 3 & ATTRIBUTE\\_replicates       \\\\\n",
       "\t 4 & ATTRIBUTE\\_timepoint\\_minutes\\\\\n",
       "\\end{tabular}\n"
      ],
      "text/markdown": [
       "\n",
       "A data.frame: 4 × 2\n",
       "\n",
       "| ID &lt;int&gt; | Column_Names_Metadata &lt;chr&gt; |\n",
       "|---|---|\n",
       "| 1 | filename                    |\n",
       "| 2 | ATTRIBUTE_sample            |\n",
       "| 3 | ATTRIBUTE_replicates        |\n",
       "| 4 | ATTRIBUTE_timepoint_minutes |\n",
       "\n"
      ],
      "text/plain": [
       "  ID Column_Names_Metadata      \n",
       "1 1  filename                   \n",
       "2 2  ATTRIBUTE_sample           \n",
       "3 3  ATTRIBUTE_replicates       \n",
       "4 4  ATTRIBUTE_timepoint_minutes"
      ]
     },
     "metadata": {},
     "output_type": "display_data"
    },
    {
     "name": "stdin",
     "output_type": "stream",
     "text": [
      "Enter the number corresponding to the metadata column you want to use for PCoA:  2\n"
     ]
    },
    {
     "data": {
      "image/png": "[encoded data removed]",
      "text/plain": [
       "plot without title"
      ]
     },
     "metadata": {
      "image/png": {
       "height": 600,
       "width": 600
      }
     },
     "output_type": "display_data"
    }
   ],
   "source": [
    "before_cleanup <- plotPCoA(ft_t, new_md, distmetric = 'canberra', title = \"Scores plot - Before Data Cleanup\")\n",
    "before_cleanup"
   ]
  },
  {
   "cell_type": "code",
   "execution_count": 119,
   "id": "8d623b7d-94ae-4a2d-89d6-a1780e96ec70",
   "metadata": {},
   "outputs": [
    {
     "name": "stderr",
     "output_type": "stream",
     "text": [
      "\u001b[1m\u001b[22mSaving 6.67 x 6.67 in image\n"
     ]
    }
   ],
   "source": [
    "ggsave(\"PCoA_plot_before_blankremoval.svg\",before_cleanup) #saving the plot"
   ]
  },
  {
   "cell_type": "markdown",
   "id": "13b7311d",
   "metadata": {},
   "source": [
    "As a first step of data-cleanup step, lets merge the metadata and feature table (transposed) together."
   ]
  },
  {
   "cell_type": "code",
   "execution_count": 37,
   "id": "4f19221f",
   "metadata": {},
   "outputs": [
    {
     "data": {
      "text/html": [
       "<table class=\"dataframe\">\n",
       "<caption>A data.frame: 3 × 11231</caption>\n",
       "<thead>\n",
       "\t<tr><th></th><th scope=col>filename</th><th scope=col>ATTRIBUTE_Sample.Type</th><th scope=col>ATTRIBUTE_Batch</th><th scope=col>ATTRIBUTE_Month</th><th scope=col>ATTRIBUTE_Year</th><th scope=col>ATTRIBUTE_Sample_Location</th><th scope=col>ATTRIBUTE_Replicate</th><th scope=col>ATTRIBUTE_Spot</th><th scope=col>ATTRIBUTE_Latitude</th><th scope=col>ATTRIBUTE_Longitude</th><th scope=col>...</th><th scope=col>X92628_241.068_14.313_NA</th><th scope=col>X92636_182.985_14.571_HARMANE CollisionEnergy:102040</th><th scope=col>X92638_208.039_14.764_\"methyl 3-oxo-2-[(3,4,5-trimethoxyphenyl)methylene]benzo[b]furan-5-carboxylate CollisionEnergy:102040\"</th><th scope=col>X92639_167.013_14.697_NA</th><th scope=col>X92640_193.974_14.62_NA</th><th scope=col>X92641_194.117_14.485_NA</th><th scope=col>X92647_158.961_14.747_NA</th><th scope=col>X92648_154.99_14.807_NA</th><th scope=col>X92649_226.951_14.813_TRYPTOPHAN</th><th scope=col>X92651_172.956_14.611_\"6-methoxypurine, oxamethane CollisionEnergy:205060\"</th></tr>\n",
       "\t<tr><th></th><th scope=col>&lt;chr&gt;</th><th scope=col>&lt;chr&gt;</th><th scope=col>&lt;int&gt;</th><th scope=col>&lt;chr&gt;</th><th scope=col>&lt;int&gt;</th><th scope=col>&lt;int&gt;</th><th scope=col>&lt;chr&gt;</th><th scope=col>&lt;int&gt;</th><th scope=col>&lt;dbl&gt;</th><th scope=col>&lt;dbl&gt;</th><th scope=col>...</th><th scope=col>&lt;dbl&gt;</th><th scope=col>&lt;dbl&gt;</th><th scope=col>&lt;dbl&gt;</th><th scope=col>&lt;dbl&gt;</th><th scope=col>&lt;dbl&gt;</th><th scope=col>&lt;dbl&gt;</th><th scope=col>&lt;dbl&gt;</th><th scope=col>&lt;dbl&gt;</th><th scope=col>&lt;dbl&gt;</th><th scope=col>&lt;dbl&gt;</th></tr>\n",
       "</thead>\n",
       "<tbody>\n",
       "\t<tr><th scope=row>1</th><td>SD_01-2018_1_a.mzXML </td><td>Sample</td><td>2</td><td>Jan</td><td>2018</td><td> 1</td><td>a</td><td> 1</td><td>32.93365</td><td>-117.2648</td><td>...</td><td>36845.35</td><td>109542.04</td><td>68948.27</td><td>302706.5</td><td>42332.20</td><td>843127.0</td><td>22739.375</td><td> 7517.194</td><td>0</td><td>0</td></tr>\n",
       "\t<tr><th scope=row>2</th><td>SD_01-2018_1_b.mzXML </td><td>Sample</td><td>2</td><td>Jan</td><td>2018</td><td> 1</td><td>b</td><td> 1</td><td>32.93365</td><td>-117.2648</td><td>...</td><td>37898.94</td><td>114407.76</td><td>44469.50</td><td>298204.2</td><td>19698.92</td><td>824746.4</td><td> 4960.220</td><td>10084.678</td><td>0</td><td>0</td></tr>\n",
       "\t<tr><th scope=row>3</th><td>SD_01-2018_10_a.mzXML</td><td>Sample</td><td>2</td><td>Jan</td><td>2018</td><td>10</td><td>a</td><td>10</td><td>32.86261</td><td>-117.2604</td><td>...</td><td>32835.04</td><td> 74416.95</td><td>12208.32</td><td>334345.6</td><td>28667.01</td><td>876652.8</td><td> 5619.828</td><td> 3481.216</td><td>0</td><td>0</td></tr>\n",
       "</tbody>\n",
       "</table>\n"
      ],
      "text/latex": [
       "A data.frame: 3 × 11231\n",
       "\\begin{tabular}{r|lllllllllllllllllllll}\n",
       "  & filename & ATTRIBUTE\\_Sample.Type & ATTRIBUTE\\_Batch & ATTRIBUTE\\_Month & ATTRIBUTE\\_Year & ATTRIBUTE\\_Sample\\_Location & ATTRIBUTE\\_Replicate & ATTRIBUTE\\_Spot & ATTRIBUTE\\_Latitude & ATTRIBUTE\\_Longitude & ... & X92628\\_241.068\\_14.313\\_NA & X92636\\_182.985\\_14.571\\_HARMANE CollisionEnergy:102040 & X92638\\_208.039\\_14.764\\_\"methyl 3-oxo-2-{[}(3,4,5-trimethoxyphenyl)methylene{]}benzo{[}b{]}furan-5-carboxylate CollisionEnergy:102040\" & X92639\\_167.013\\_14.697\\_NA & X92640\\_193.974\\_14.62\\_NA & X92641\\_194.117\\_14.485\\_NA & X92647\\_158.961\\_14.747\\_NA & X92648\\_154.99\\_14.807\\_NA & X92649\\_226.951\\_14.813\\_TRYPTOPHAN & X92651\\_172.956\\_14.611\\_\"6-methoxypurine, oxamethane CollisionEnergy:205060\"\\\\\n",
       "  & <chr> & <chr> & <int> & <chr> & <int> & <int> & <chr> & <int> & <dbl> & <dbl> & ... & <dbl> & <dbl> & <dbl> & <dbl> & <dbl> & <dbl> & <dbl> & <dbl> & <dbl> & <dbl>\\\\\n",
       "\\hline\n",
       "\t1 & SD\\_01-2018\\_1\\_a.mzXML  & Sample & 2 & Jan & 2018 &  1 & a &  1 & 32.93365 & -117.2648 & ... & 36845.35 & 109542.04 & 68948.27 & 302706.5 & 42332.20 & 843127.0 & 22739.375 &  7517.194 & 0 & 0\\\\\n",
       "\t2 & SD\\_01-2018\\_1\\_b.mzXML  & Sample & 2 & Jan & 2018 &  1 & b &  1 & 32.93365 & -117.2648 & ... & 37898.94 & 114407.76 & 44469.50 & 298204.2 & 19698.92 & 824746.4 &  4960.220 & 10084.678 & 0 & 0\\\\\n",
       "\t3 & SD\\_01-2018\\_10\\_a.mzXML & Sample & 2 & Jan & 2018 & 10 & a & 10 & 32.86261 & -117.2604 & ... & 32835.04 &  74416.95 & 12208.32 & 334345.6 & 28667.01 & 876652.8 &  5619.828 &  3481.216 & 0 & 0\\\\\n",
       "\\end{tabular}\n"
      ],
      "text/markdown": [
       "\n",
       "A data.frame: 3 × 11231\n",
       "\n",
       "| <!--/--> | filename &lt;chr&gt; | ATTRIBUTE_Sample.Type &lt;chr&gt; | ATTRIBUTE_Batch &lt;int&gt; | ATTRIBUTE_Month &lt;chr&gt; | ATTRIBUTE_Year &lt;int&gt; | ATTRIBUTE_Sample_Location &lt;int&gt; | ATTRIBUTE_Replicate &lt;chr&gt; | ATTRIBUTE_Spot &lt;int&gt; | ATTRIBUTE_Latitude &lt;dbl&gt; | ATTRIBUTE_Longitude &lt;dbl&gt; | ... ... | X92628_241.068_14.313_NA &lt;dbl&gt; | X92636_182.985_14.571_HARMANE CollisionEnergy:102040 &lt;dbl&gt; | X92638_208.039_14.764_\"methyl 3-oxo-2-[(3,4,5-trimethoxyphenyl)methylene]benzo[b]furan-5-carboxylate CollisionEnergy:102040\" &lt;dbl&gt; | X92639_167.013_14.697_NA &lt;dbl&gt; | X92640_193.974_14.62_NA &lt;dbl&gt; | X92641_194.117_14.485_NA &lt;dbl&gt; | X92647_158.961_14.747_NA &lt;dbl&gt; | X92648_154.99_14.807_NA &lt;dbl&gt; | X92649_226.951_14.813_TRYPTOPHAN &lt;dbl&gt; | X92651_172.956_14.611_\"6-methoxypurine, oxamethane CollisionEnergy:205060\" &lt;dbl&gt; |\n",
       "|---|---|---|---|---|---|---|---|---|---|---|---|---|---|---|---|---|---|---|---|---|---|\n",
       "| 1 | SD_01-2018_1_a.mzXML  | Sample | 2 | Jan | 2018 |  1 | a |  1 | 32.93365 | -117.2648 | ... | 36845.35 | 109542.04 | 68948.27 | 302706.5 | 42332.20 | 843127.0 | 22739.375 |  7517.194 | 0 | 0 |\n",
       "| 2 | SD_01-2018_1_b.mzXML  | Sample | 2 | Jan | 2018 |  1 | b |  1 | 32.93365 | -117.2648 | ... | 37898.94 | 114407.76 | 44469.50 | 298204.2 | 19698.92 | 824746.4 |  4960.220 | 10084.678 | 0 | 0 |\n",
       "| 3 | SD_01-2018_10_a.mzXML | Sample | 2 | Jan | 2018 | 10 | a | 10 | 32.86261 | -117.2604 | ... | 32835.04 |  74416.95 | 12208.32 | 334345.6 | 28667.01 | 876652.8 |  5619.828 |  3481.216 | 0 | 0 |\n",
       "\n"
      ],
      "text/plain": [
       "  filename              ATTRIBUTE_Sample.Type ATTRIBUTE_Batch ATTRIBUTE_Month\n",
       "1 SD_01-2018_1_a.mzXML  Sample                2               Jan            \n",
       "2 SD_01-2018_1_b.mzXML  Sample                2               Jan            \n",
       "3 SD_01-2018_10_a.mzXML Sample                2               Jan            \n",
       "  ATTRIBUTE_Year ATTRIBUTE_Sample_Location ATTRIBUTE_Replicate ATTRIBUTE_Spot\n",
       "1 2018            1                        a                    1            \n",
       "2 2018            1                        b                    1            \n",
       "3 2018           10                        a                   10            \n",
       "  ATTRIBUTE_Latitude ATTRIBUTE_Longitude ... X92628_241.068_14.313_NA\n",
       "1 32.93365           -117.2648           ... 36845.35                \n",
       "2 32.93365           -117.2648           ... 37898.94                \n",
       "3 32.86261           -117.2604           ... 32835.04                \n",
       "  X92636_182.985_14.571_HARMANE CollisionEnergy:102040\n",
       "1 109542.04                                           \n",
       "2 114407.76                                           \n",
       "3  74416.95                                           \n",
       "  X92638_208.039_14.764_\"methyl 3-oxo-2-[(3,4,5-trimethoxyphenyl)methylene]benzo[b]furan-5-carboxylate CollisionEnergy:102040\"\n",
       "1 68948.27                                                                                                                    \n",
       "2 44469.50                                                                                                                    \n",
       "3 12208.32                                                                                                                    \n",
       "  X92639_167.013_14.697_NA X92640_193.974_14.62_NA X92641_194.117_14.485_NA\n",
       "1 302706.5                 42332.20                843127.0                \n",
       "2 298204.2                 19698.92                824746.4                \n",
       "3 334345.6                 28667.01                876652.8                \n",
       "  X92647_158.961_14.747_NA X92648_154.99_14.807_NA\n",
       "1 22739.375                 7517.194              \n",
       "2  4960.220                10084.678              \n",
       "3  5619.828                 3481.216              \n",
       "  X92649_226.951_14.813_TRYPTOPHAN\n",
       "1 0                               \n",
       "2 0                               \n",
       "3 0                               \n",
       "  X92651_172.956_14.611_\"6-methoxypurine, oxamethane CollisionEnergy:205060\"\n",
       "1 0                                                                         \n",
       "2 0                                                                         \n",
       "3 0                                                                         "
      ]
     },
     "metadata": {},
     "output_type": "display_data"
    }
   ],
   "source": [
    "#merging metadata (new_md) and transposed feature table based on the sample names\n",
    "ft_merged <- merge(new_md,ft_t, by.x= \"filename\", by.y=0,all.x=TRUE) #by.x=\"filename\" picks the filename column of new_md, by.y =0 indicates the rownames of ft_t\n",
    "head(ft_merged, 3)"
   ]
  },
  {
   "cell_type": "code",
   "execution_count": 52,
   "id": "27de3214-dbba-40c1-8a52-0a0059d96289",
   "metadata": {},
   "outputs": [],
   "source": [
    "write.csv(ft_merged,paste0(Sys.Date(),'_Ft_md_merged.csv'),row.names =TRUE) # This file can be used for batch correction"
   ]
  },
  {
   "cell_type": "markdown",
   "id": "def44fab-20ec-40b5-bef9-16487e26457f",
   "metadata": {},
   "source": [
    "<div class=\"alert alert-block alert-warning\">\n",
    "<b><font size=3> Skip the Batch correction section if you do not have multiple batches !! </font> </b> </div>"
   ]
  },
  {
   "cell_type": "markdown",
   "id": "446b2784-61d5-4ee8-b16d-d9154a1aee22",
   "metadata": {
    "tags": [],
    "toc-hr-collapsed": true
   },
   "source": [
    "## <font color ='darkblue'> 3.1. Batch Correction (Optional) </font>\n",
    "<a name=\"batch_corr\"></a>"
   ]
  },
  {
   "cell_type": "markdown",
   "id": "af0d396d-5ddd-4fa6-9f83-8b2412812436",
   "metadata": {},
   "source": [
    "Follow the notebook for Batch Correction: [![Open in Colab](https://colab.research.google.com/assets/colab-badge.svg)](https://colab.research.google.com/github/Functional-Metabolomics-Lab/FBMN-STATS/blob/main/Individual_Notebooks/R-Notebooks/Batch_Correction.ipynb)"
   ]
  },
  {
   "cell_type": "markdown",
   "id": "aa48ace4",
   "metadata": {
    "id": "4f45b589",
    "tags": []
   },
   "source": [
    "## <font color ='darkblue'> 3.2 Blank removal </font>  \n",
    "<a name=\"blank_rem\"></a>"
   ]
  },
  {
   "cell_type": "markdown",
   "id": "6ef76ce7-424e-4380-a615-d17862ae1e91",
   "metadata": {},
   "source": [
    "<p style='text-align: justify;'> Blank samples contain no analytes of interest and consist, for example, of the solvent, matrix, tissue or growth media that was used to prepare or dissolve the samples and analytes of interest. Such as the analytes, the mass spectral features deriving from blank samples are also detected by the LC-MS/MS instrument.\n",
    "We need to remove these blank features to obtain accurate results.</p>\n",
    "\n",
    "<p style='text-align: justify;'>To eliminate these blank features, we initially split the feature table into blanks and samples, and then employ a cutoff filter. Next, we compute the average feature intensities for the blanks and samples, and subsequently calculate the ratio of average_feature_blanks to average_feature_sample. We compare this ratio against the user-defined cutoff to determine which features to be removed. When the cutoff is set to 0.3, it implies that for any feature, up to 30% contribution from the blank and 70% from the sample are allowed. Hence any feature with a ratio greater than 0.3 is removed. By using a lower cutoff, such as 10% (0.1), we would demand a greater contribution from the sample (90%) and restrict the blank's contribution to 10%. Raising the cutoff leads to fewer background features being identified and more analyte features being observed. Conversely, lowering the cutoff is more rigorous and leads to the removal of more features.</p>"
   ]
  },
  {
   "cell_type": "markdown",
   "id": "ff8f42a0",
   "metadata": {},
   "source": [
    "### 3.2.1 Splitting data into blanks and samples using metadata\n",
    "<a name=\"blank_split\"></a>"
   ]
  },
  {
   "cell_type": "markdown",
   "id": "703a7b69-b623-4011-9011-6af6c6e9efbf",
   "metadata": {},
   "source": [
    "In order to remove blank features from our samples, we first split our feature table into blanks and samples using the metadata and our InsideLevels function created in [Section 2.3.2](#explore_md)."
   ]
  },
  {
   "cell_type": "markdown",
   "id": "097ea422",
   "metadata": {
    "id": "74eaf47e"
   },
   "source": [
    "**<font color='red'> We use a cutoff of 0.3 </font>**, meaning that in order for a feature to be considered of interest, it needs to have a ratio of average_feature_blanks vs average_feature_sample <30%. <b>In the below cell you can interactively change the threshold to any value between 0.1 and 1. </b>"
   ]
  },
  {
   "cell_type": "code",
   "execution_count": 120,
   "id": "d8f51b95",
   "metadata": {
    "colab": {
     "base_uri": "https://localhost:8080/",
     "height": 616
    },
    "id": "bad9deff-ec2d-4ea6-a60d-079364afbfb9",
    "outputId": "8ec2ae9b-9454-4470-e699-99424507bee6"
   },
   "outputs": [
    {
     "data": {
      "text/html": [
       "<table class=\"dataframe\">\n",
       "<caption>A data.frame: 3 × 5</caption>\n",
       "<thead>\n",
       "\t<tr><th scope=col>INDEX</th><th scope=col>ATTRIBUTES</th><th scope=col>LEVELS</th><th scope=col>COUNT</th><th scope=col>ATTRIBUTE_CLASS</th></tr>\n",
       "\t<tr><th scope=col>&lt;int&gt;</th><th scope=col>&lt;chr&gt;</th><th scope=col>&lt;chr&gt;</th><th scope=col>&lt;chr&gt;</th><th scope=col>&lt;chr&gt;</th></tr>\n",
       "</thead>\n",
       "<tbody>\n",
       "\t<tr><td>1</td><td>ATTRIBUTE_sample           </td><td>Avermectin + Gut bacteria, Blank, Only Avermectin drug, Only Gut bacteria</td><td>23, 3, 30, 30               </td><td>character</td></tr>\n",
       "\t<tr><td>2</td><td>ATTRIBUTE_replicates       </td><td>1, 2, 3                                                                  </td><td>30, 30, 23                  </td><td>character</td></tr>\n",
       "\t<tr><td>3</td><td>ATTRIBUTE_timepoint_minutes</td><td>0, 1, 10, 120, 180, 20, 240, 30, 60, 720                                 </td><td>9, 9, 9, 8, 8, 8, 8, 8, 8, 8</td><td>character</td></tr>\n",
       "</tbody>\n",
       "</table>\n"
      ],
      "text/latex": [
       "A data.frame: 3 × 5\n",
       "\\begin{tabular}{lllll}\n",
       " INDEX & ATTRIBUTES & LEVELS & COUNT & ATTRIBUTE\\_CLASS\\\\\n",
       " <int> & <chr> & <chr> & <chr> & <chr>\\\\\n",
       "\\hline\n",
       "\t 1 & ATTRIBUTE\\_sample            & Avermectin + Gut bacteria, Blank, Only Avermectin drug, Only Gut bacteria & 23, 3, 30, 30                & character\\\\\n",
       "\t 2 & ATTRIBUTE\\_replicates        & 1, 2, 3                                                                   & 30, 30, 23                   & character\\\\\n",
       "\t 3 & ATTRIBUTE\\_timepoint\\_minutes & 0, 1, 10, 120, 180, 20, 240, 30, 60, 720                                  & 9, 9, 9, 8, 8, 8, 8, 8, 8, 8 & character\\\\\n",
       "\\end{tabular}\n"
      ],
      "text/markdown": [
       "\n",
       "A data.frame: 3 × 5\n",
       "\n",
       "| INDEX &lt;int&gt; | ATTRIBUTES &lt;chr&gt; | LEVELS &lt;chr&gt; | COUNT &lt;chr&gt; | ATTRIBUTE_CLASS &lt;chr&gt; |\n",
       "|---|---|---|---|---|\n",
       "| 1 | ATTRIBUTE_sample            | Avermectin + Gut bacteria, Blank, Only Avermectin drug, Only Gut bacteria | 23, 3, 30, 30                | character |\n",
       "| 2 | ATTRIBUTE_replicates        | 1, 2, 3                                                                   | 30, 30, 23                   | character |\n",
       "| 3 | ATTRIBUTE_timepoint_minutes | 0, 1, 10, 120, 180, 20, 240, 30, 60, 720                                  | 9, 9, 9, 8, 8, 8, 8, 8, 8, 8 | character |\n",
       "\n"
      ],
      "text/plain": [
       "  INDEX ATTRIBUTES                 \n",
       "1 1     ATTRIBUTE_sample           \n",
       "2 2     ATTRIBUTE_replicates       \n",
       "3 3     ATTRIBUTE_timepoint_minutes\n",
       "  LEVELS                                                                   \n",
       "1 Avermectin + Gut bacteria, Blank, Only Avermectin drug, Only Gut bacteria\n",
       "2 1, 2, 3                                                                  \n",
       "3 0, 1, 10, 120, 180, 20, 240, 30, 60, 720                                 \n",
       "  COUNT                        ATTRIBUTE_CLASS\n",
       "1 23, 3, 30, 30                character      \n",
       "2 30, 30, 23                   character      \n",
       "3 9, 9, 9, 8, 8, 8, 8, 8, 8, 8 character      "
      ]
     },
     "metadata": {},
     "output_type": "display_data"
    }
   ],
   "source": [
    "InsideLevels(new_md[2:ncol(new_md)])"
   ]
  },
  {
   "cell_type": "code",
   "execution_count": 157,
   "id": "12b8d859-6790-4d35-a6d0-1cd2f9308d60",
   "metadata": {},
   "outputs": [],
   "source": [
    "source(\"C:/Users/abzer/OneDrive/Documents/GitHub/ChemProp2/ChemProp2_scripts/datacleanup_scripts/remove_blanks.r\")"
   ]
  },
  {
   "cell_type": "code",
   "execution_count": 146,
   "id": "afc1ffb6-9d42-4000-8420-67e7ea3d2cc2",
   "metadata": {},
   "outputs": [
    {
     "name": "stdin",
     "output_type": "stream",
     "text": [
      "Enter the column name for Sample Type in metadata:  ATTRIBUTE_sample\n"
     ]
    },
    {
     "name": "stderr",
     "output_type": "stream",
     "text": [
      "Please enter the ID numbers corresponding to the labels for blanks and samples, separated by commas:\n",
      "\n",
      "\n"
     ]
    },
    {
     "data": {
      "text/html": [
       "<table class=\"dataframe\">\n",
       "<caption>A data.frame: 4 × 2</caption>\n",
       "<thead>\n",
       "\t<tr><th scope=col>ID</th><th scope=col>levels</th></tr>\n",
       "\t<tr><th scope=col>&lt;int&gt;</th><th scope=col>&lt;chr&gt;</th></tr>\n",
       "</thead>\n",
       "<tbody>\n",
       "\t<tr><td>1</td><td>Avermectin + Gut bacteria</td></tr>\n",
       "\t<tr><td>2</td><td>Only Avermectin drug     </td></tr>\n",
       "\t<tr><td>3</td><td>Blank                    </td></tr>\n",
       "\t<tr><td>4</td><td>Only Gut bacteria        </td></tr>\n",
       "</tbody>\n",
       "</table>\n"
      ],
      "text/latex": [
       "A data.frame: 4 × 2\n",
       "\\begin{tabular}{ll}\n",
       " ID & levels\\\\\n",
       " <int> & <chr>\\\\\n",
       "\\hline\n",
       "\t 1 & Avermectin + Gut bacteria\\\\\n",
       "\t 2 & Only Avermectin drug     \\\\\n",
       "\t 3 & Blank                    \\\\\n",
       "\t 4 & Only Gut bacteria        \\\\\n",
       "\\end{tabular}\n"
      ],
      "text/markdown": [
       "\n",
       "A data.frame: 4 × 2\n",
       "\n",
       "| ID &lt;int&gt; | levels &lt;chr&gt; |\n",
       "|---|---|\n",
       "| 1 | Avermectin + Gut bacteria |\n",
       "| 2 | Only Avermectin drug      |\n",
       "| 3 | Blank                     |\n",
       "| 4 | Only Gut bacteria         |\n",
       "\n"
      ],
      "text/plain": [
       "  ID levels                   \n",
       "1 1  Avermectin + Gut bacteria\n",
       "2 2  Only Avermectin drug     \n",
       "3 3  Blank                    \n",
       "4 4  Only Gut bacteria        "
      ]
     },
     "metadata": {},
     "output_type": "display_data"
    },
    {
     "name": "stdin",
     "output_type": "stream",
     "text": [
      "Enter the numbers for blanks:  3\n",
      "Enter the numbers for samples:  1,2,4\n",
      "Enter Cutoff value between 0.1 & 1:  0.3\n"
     ]
    },
    {
     "name": "stdout",
     "output_type": "stream",
     "text": [
      "[1] \"Total no.of features: 3412\"\n",
      "[1] \"No.of Background or noise features: 903\"\n",
      "[1] \"No.of features after excluding noise: 2509\"\n"
     ]
    },
    {
     "name": "stderr",
     "output_type": "stream",
     "text": [
      "Your Blank removed table: head(blk_rem,3)\n",
      "\n"
     ]
    },
    {
     "data": {
      "text/html": [
       "<table class=\"dataframe\">\n",
       "<caption>A data.frame: 3 × 83</caption>\n",
       "<thead>\n",
       "\t<tr><th></th><th scope=col>Avr_Bac_Rep1_t0.mzML</th><th scope=col>Avr_Bac_Rep1_t1.mzML</th><th scope=col>Avr_Bac_Rep1_t10.mzML</th><th scope=col>Avr_Bac_Rep1_t120.mzML</th><th scope=col>Avr_Bac_Rep1_t180.mzML</th><th scope=col>Avr_Bac_Rep1_t20.mzML</th><th scope=col>Avr_Bac_Rep1_t240.mzML</th><th scope=col>Avr_Bac_Rep1_t30.mzML</th><th scope=col>Avr_Bac_Rep1_t60.mzML</th><th scope=col>Avr_Bac_Rep1_t720.mzML</th><th scope=col>...</th><th scope=col>GutBac_Rep3_t0.mzML</th><th scope=col>GutBac_Rep3_t1.mzML</th><th scope=col>GutBac_Rep3_t10.mzML</th><th scope=col>GutBac_Rep3_t120.mzML</th><th scope=col>GutBac_Rep3_t180.mzML</th><th scope=col>GutBac_Rep3_t20.mzML</th><th scope=col>GutBac_Rep3_t240.mzML</th><th scope=col>GutBac_Rep3_t30.mzML</th><th scope=col>GutBac_Rep3_t60.mzML</th><th scope=col>GutBac_Rep3_t720.mzML</th></tr>\n",
       "\t<tr><th></th><th scope=col>&lt;dbl&gt;</th><th scope=col>&lt;dbl&gt;</th><th scope=col>&lt;dbl&gt;</th><th scope=col>&lt;dbl&gt;</th><th scope=col>&lt;dbl&gt;</th><th scope=col>&lt;dbl&gt;</th><th scope=col>&lt;dbl&gt;</th><th scope=col>&lt;dbl&gt;</th><th scope=col>&lt;dbl&gt;</th><th scope=col>&lt;dbl&gt;</th><th scope=col>...</th><th scope=col>&lt;dbl&gt;</th><th scope=col>&lt;dbl&gt;</th><th scope=col>&lt;dbl&gt;</th><th scope=col>&lt;dbl&gt;</th><th scope=col>&lt;dbl&gt;</th><th scope=col>&lt;dbl&gt;</th><th scope=col>&lt;dbl&gt;</th><th scope=col>&lt;dbl&gt;</th><th scope=col>&lt;dbl&gt;</th><th scope=col>&lt;dbl&gt;</th></tr>\n",
       "</thead>\n",
       "<tbody>\n",
       "\t<tr><th scope=row>X1002_231.17_0.715_NA</th><td>50298.31</td><td>21635.83</td><td>20397.348</td><td>13253.05</td><td> 3267.277</td><td>34023.77</td><td>  222.8398</td><td>27353.08</td><td>15001.777</td><td> 4962.125</td><td>...</td><td> 57204.70</td><td>52072.95</td><td>45729.56</td><td>    0.00</td><td>12095.42</td><td>38591.56</td><td> 6135.828</td><td>29454.15</td><td>20424.07</td><td> 6025.128</td></tr>\n",
       "\t<tr><th scope=row>X1003_175.025_0.717_NA</th><td>27311.99</td><td>12652.35</td><td> 9864.077</td><td>21843.31</td><td>23645.285</td><td>17389.87</td><td>12652.0980</td><td>15746.20</td><td> 9692.443</td><td>19453.031</td><td>...</td><td> 32019.19</td><td>30412.88</td><td>25575.12</td><td>30980.42</td><td>25124.41</td><td>22108.58</td><td>15796.289</td><td>20447.47</td><td>24534.11</td><td>19263.518</td></tr>\n",
       "\t<tr><th scope=row>X1006_206.064_0.733_NA</th><td>96254.45</td><td>20015.02</td><td>19539.650</td><td>36158.43</td><td>45152.387</td><td>38794.57</td><td>16259.9180</td><td>29461.41</td><td>18119.111</td><td>21798.707</td><td>...</td><td>100331.62</td><td>87393.12</td><td>74795.55</td><td>74507.01</td><td>52874.42</td><td>56854.07</td><td>31590.785</td><td>45773.31</td><td>69054.88</td><td>23354.123</td></tr>\n",
       "</tbody>\n",
       "</table>\n"
      ],
      "text/latex": [
       "A data.frame: 3 × 83\n",
       "\\begin{tabular}{r|lllllllllllllllllllll}\n",
       "  & Avr\\_Bac\\_Rep1\\_t0.mzML & Avr\\_Bac\\_Rep1\\_t1.mzML & Avr\\_Bac\\_Rep1\\_t10.mzML & Avr\\_Bac\\_Rep1\\_t120.mzML & Avr\\_Bac\\_Rep1\\_t180.mzML & Avr\\_Bac\\_Rep1\\_t20.mzML & Avr\\_Bac\\_Rep1\\_t240.mzML & Avr\\_Bac\\_Rep1\\_t30.mzML & Avr\\_Bac\\_Rep1\\_t60.mzML & Avr\\_Bac\\_Rep1\\_t720.mzML & ... & GutBac\\_Rep3\\_t0.mzML & GutBac\\_Rep3\\_t1.mzML & GutBac\\_Rep3\\_t10.mzML & GutBac\\_Rep3\\_t120.mzML & GutBac\\_Rep3\\_t180.mzML & GutBac\\_Rep3\\_t20.mzML & GutBac\\_Rep3\\_t240.mzML & GutBac\\_Rep3\\_t30.mzML & GutBac\\_Rep3\\_t60.mzML & GutBac\\_Rep3\\_t720.mzML\\\\\n",
       "  & <dbl> & <dbl> & <dbl> & <dbl> & <dbl> & <dbl> & <dbl> & <dbl> & <dbl> & <dbl> & ... & <dbl> & <dbl> & <dbl> & <dbl> & <dbl> & <dbl> & <dbl> & <dbl> & <dbl> & <dbl>\\\\\n",
       "\\hline\n",
       "\tX1002\\_231.17\\_0.715\\_NA & 50298.31 & 21635.83 & 20397.348 & 13253.05 &  3267.277 & 34023.77 &   222.8398 & 27353.08 & 15001.777 &  4962.125 & ... &  57204.70 & 52072.95 & 45729.56 &     0.00 & 12095.42 & 38591.56 &  6135.828 & 29454.15 & 20424.07 &  6025.128\\\\\n",
       "\tX1003\\_175.025\\_0.717\\_NA & 27311.99 & 12652.35 &  9864.077 & 21843.31 & 23645.285 & 17389.87 & 12652.0980 & 15746.20 &  9692.443 & 19453.031 & ... &  32019.19 & 30412.88 & 25575.12 & 30980.42 & 25124.41 & 22108.58 & 15796.289 & 20447.47 & 24534.11 & 19263.518\\\\\n",
       "\tX1006\\_206.064\\_0.733\\_NA & 96254.45 & 20015.02 & 19539.650 & 36158.43 & 45152.387 & 38794.57 & 16259.9180 & 29461.41 & 18119.111 & 21798.707 & ... & 100331.62 & 87393.12 & 74795.55 & 74507.01 & 52874.42 & 56854.07 & 31590.785 & 45773.31 & 69054.88 & 23354.123\\\\\n",
       "\\end{tabular}\n"
      ],
      "text/markdown": [
       "\n",
       "A data.frame: 3 × 83\n",
       "\n",
       "| <!--/--> | Avr_Bac_Rep1_t0.mzML &lt;dbl&gt; | Avr_Bac_Rep1_t1.mzML &lt;dbl&gt; | Avr_Bac_Rep1_t10.mzML &lt;dbl&gt; | Avr_Bac_Rep1_t120.mzML &lt;dbl&gt; | Avr_Bac_Rep1_t180.mzML &lt;dbl&gt; | Avr_Bac_Rep1_t20.mzML &lt;dbl&gt; | Avr_Bac_Rep1_t240.mzML &lt;dbl&gt; | Avr_Bac_Rep1_t30.mzML &lt;dbl&gt; | Avr_Bac_Rep1_t60.mzML &lt;dbl&gt; | Avr_Bac_Rep1_t720.mzML &lt;dbl&gt; | ... ... | GutBac_Rep3_t0.mzML &lt;dbl&gt; | GutBac_Rep3_t1.mzML &lt;dbl&gt; | GutBac_Rep3_t10.mzML &lt;dbl&gt; | GutBac_Rep3_t120.mzML &lt;dbl&gt; | GutBac_Rep3_t180.mzML &lt;dbl&gt; | GutBac_Rep3_t20.mzML &lt;dbl&gt; | GutBac_Rep3_t240.mzML &lt;dbl&gt; | GutBac_Rep3_t30.mzML &lt;dbl&gt; | GutBac_Rep3_t60.mzML &lt;dbl&gt; | GutBac_Rep3_t720.mzML &lt;dbl&gt; |\n",
       "|---|---|---|---|---|---|---|---|---|---|---|---|---|---|---|---|---|---|---|---|---|---|\n",
       "| X1002_231.17_0.715_NA | 50298.31 | 21635.83 | 20397.348 | 13253.05 |  3267.277 | 34023.77 |   222.8398 | 27353.08 | 15001.777 |  4962.125 | ... |  57204.70 | 52072.95 | 45729.56 |     0.00 | 12095.42 | 38591.56 |  6135.828 | 29454.15 | 20424.07 |  6025.128 |\n",
       "| X1003_175.025_0.717_NA | 27311.99 | 12652.35 |  9864.077 | 21843.31 | 23645.285 | 17389.87 | 12652.0980 | 15746.20 |  9692.443 | 19453.031 | ... |  32019.19 | 30412.88 | 25575.12 | 30980.42 | 25124.41 | 22108.58 | 15796.289 | 20447.47 | 24534.11 | 19263.518 |\n",
       "| X1006_206.064_0.733_NA | 96254.45 | 20015.02 | 19539.650 | 36158.43 | 45152.387 | 38794.57 | 16259.9180 | 29461.41 | 18119.111 | 21798.707 | ... | 100331.62 | 87393.12 | 74795.55 | 74507.01 | 52874.42 | 56854.07 | 31590.785 | 45773.31 | 69054.88 | 23354.123 |\n",
       "\n"
      ],
      "text/plain": [
       "                       Avr_Bac_Rep1_t0.mzML Avr_Bac_Rep1_t1.mzML\n",
       "X1002_231.17_0.715_NA  50298.31             21635.83            \n",
       "X1003_175.025_0.717_NA 27311.99             12652.35            \n",
       "X1006_206.064_0.733_NA 96254.45             20015.02            \n",
       "                       Avr_Bac_Rep1_t10.mzML Avr_Bac_Rep1_t120.mzML\n",
       "X1002_231.17_0.715_NA  20397.348             13253.05              \n",
       "X1003_175.025_0.717_NA  9864.077             21843.31              \n",
       "X1006_206.064_0.733_NA 19539.650             36158.43              \n",
       "                       Avr_Bac_Rep1_t180.mzML Avr_Bac_Rep1_t20.mzML\n",
       "X1002_231.17_0.715_NA   3267.277              34023.77             \n",
       "X1003_175.025_0.717_NA 23645.285              17389.87             \n",
       "X1006_206.064_0.733_NA 45152.387              38794.57             \n",
       "                       Avr_Bac_Rep1_t240.mzML Avr_Bac_Rep1_t30.mzML\n",
       "X1002_231.17_0.715_NA    222.8398             27353.08             \n",
       "X1003_175.025_0.717_NA 12652.0980             15746.20             \n",
       "X1006_206.064_0.733_NA 16259.9180             29461.41             \n",
       "                       Avr_Bac_Rep1_t60.mzML Avr_Bac_Rep1_t720.mzML ...\n",
       "X1002_231.17_0.715_NA  15001.777              4962.125              ...\n",
       "X1003_175.025_0.717_NA  9692.443             19453.031              ...\n",
       "X1006_206.064_0.733_NA 18119.111             21798.707              ...\n",
       "                       GutBac_Rep3_t0.mzML GutBac_Rep3_t1.mzML\n",
       "X1002_231.17_0.715_NA   57204.70           52072.95           \n",
       "X1003_175.025_0.717_NA  32019.19           30412.88           \n",
       "X1006_206.064_0.733_NA 100331.62           87393.12           \n",
       "                       GutBac_Rep3_t10.mzML GutBac_Rep3_t120.mzML\n",
       "X1002_231.17_0.715_NA  45729.56                 0.00             \n",
       "X1003_175.025_0.717_NA 25575.12             30980.42             \n",
       "X1006_206.064_0.733_NA 74795.55             74507.01             \n",
       "                       GutBac_Rep3_t180.mzML GutBac_Rep3_t20.mzML\n",
       "X1002_231.17_0.715_NA  12095.42              38591.56            \n",
       "X1003_175.025_0.717_NA 25124.41              22108.58            \n",
       "X1006_206.064_0.733_NA 52874.42              56854.07            \n",
       "                       GutBac_Rep3_t240.mzML GutBac_Rep3_t30.mzML\n",
       "X1002_231.17_0.715_NA   6135.828             29454.15            \n",
       "X1003_175.025_0.717_NA 15796.289             20447.47            \n",
       "X1006_206.064_0.733_NA 31590.785             45773.31            \n",
       "                       GutBac_Rep3_t60.mzML GutBac_Rep3_t720.mzML\n",
       "X1002_231.17_0.715_NA  20424.07              6025.128            \n",
       "X1003_175.025_0.717_NA 24534.11             19263.518            \n",
       "X1006_206.064_0.733_NA 69054.88             23354.123            "
      ]
     },
     "metadata": {},
     "output_type": "display_data"
    },
    {
     "name": "stderr",
     "output_type": "stream",
     "text": [
      "head(md_Samples,3)\n",
      "\n"
     ]
    },
    {
     "data": {
      "text/html": [
       "<table class=\"dataframe\">\n",
       "<caption>A data.frame: 3 × 4</caption>\n",
       "<thead>\n",
       "\t<tr><th></th><th scope=col>filename</th><th scope=col>ATTRIBUTE_sample</th><th scope=col>ATTRIBUTE_replicates</th><th scope=col>ATTRIBUTE_timepoint_minutes</th></tr>\n",
       "\t<tr><th></th><th scope=col>&lt;chr&gt;</th><th scope=col>&lt;chr&gt;</th><th scope=col>&lt;chr&gt;</th><th scope=col>&lt;chr&gt;</th></tr>\n",
       "</thead>\n",
       "<tbody>\n",
       "\t<tr><th scope=row>1</th><td>Avr_Bac_Rep1_t0.mzML </td><td>Avermectin + Gut bacteria</td><td>1</td><td>0 </td></tr>\n",
       "\t<tr><th scope=row>2</th><td>Avr_Bac_Rep1_t1.mzML </td><td>Avermectin + Gut bacteria</td><td>1</td><td>1 </td></tr>\n",
       "\t<tr><th scope=row>3</th><td>Avr_Bac_Rep1_t10.mzML</td><td>Avermectin + Gut bacteria</td><td>1</td><td>10</td></tr>\n",
       "</tbody>\n",
       "</table>\n"
      ],
      "text/latex": [
       "A data.frame: 3 × 4\n",
       "\\begin{tabular}{r|llll}\n",
       "  & filename & ATTRIBUTE\\_sample & ATTRIBUTE\\_replicates & ATTRIBUTE\\_timepoint\\_minutes\\\\\n",
       "  & <chr> & <chr> & <chr> & <chr>\\\\\n",
       "\\hline\n",
       "\t1 & Avr\\_Bac\\_Rep1\\_t0.mzML  & Avermectin + Gut bacteria & 1 & 0 \\\\\n",
       "\t2 & Avr\\_Bac\\_Rep1\\_t1.mzML  & Avermectin + Gut bacteria & 1 & 1 \\\\\n",
       "\t3 & Avr\\_Bac\\_Rep1\\_t10.mzML & Avermectin + Gut bacteria & 1 & 10\\\\\n",
       "\\end{tabular}\n"
      ],
      "text/markdown": [
       "\n",
       "A data.frame: 3 × 4\n",
       "\n",
       "| <!--/--> | filename &lt;chr&gt; | ATTRIBUTE_sample &lt;chr&gt; | ATTRIBUTE_replicates &lt;chr&gt; | ATTRIBUTE_timepoint_minutes &lt;chr&gt; |\n",
       "|---|---|---|---|---|\n",
       "| 1 | Avr_Bac_Rep1_t0.mzML  | Avermectin + Gut bacteria | 1 | 0  |\n",
       "| 2 | Avr_Bac_Rep1_t1.mzML  | Avermectin + Gut bacteria | 1 | 1  |\n",
       "| 3 | Avr_Bac_Rep1_t10.mzML | Avermectin + Gut bacteria | 1 | 10 |\n",
       "\n"
      ],
      "text/plain": [
       "  filename              ATTRIBUTE_sample          ATTRIBUTE_replicates\n",
       "1 Avr_Bac_Rep1_t0.mzML  Avermectin + Gut bacteria 1                   \n",
       "2 Avr_Bac_Rep1_t1.mzML  Avermectin + Gut bacteria 1                   \n",
       "3 Avr_Bac_Rep1_t10.mzML Avermectin + Gut bacteria 1                   \n",
       "  ATTRIBUTE_timepoint_minutes\n",
       "1 0                          \n",
       "2 1                          \n",
       "3 10                         "
      ]
     },
     "metadata": {},
     "output_type": "display_data"
    }
   ],
   "source": [
    "blk_rem_results <- remove_blanks(ft_t,new_md)"
   ]
  },
  {
   "cell_type": "code",
   "execution_count": 148,
   "id": "bdfa4482-4541-4b9f-91e4-438fba8b516d",
   "metadata": {},
   "outputs": [
    {
     "data": {
      "text/html": [
       "<style>\n",
       ".dl-inline {width: auto; margin:0; padding: 0}\n",
       ".dl-inline>dt, .dl-inline>dd {float: none; width: auto; display: inline-block}\n",
       ".dl-inline>dt::after {content: \":\\0020\"; padding-right: .5ex}\n",
       ".dl-inline>dt:not(:first-of-type) {padding-left: .5ex}\n",
       "</style><dl class=dl-inline><dt>blk_rem</dt><dd>83</dd><dt>md_Samples</dt><dd>4</dd></dl>\n"
      ],
      "text/latex": [
       "\\begin{description*}\n",
       "\\item[blk\\textbackslash{}\\_rem] 83\n",
       "\\item[md\\textbackslash{}\\_Samples] 4\n",
       "\\end{description*}\n"
      ],
      "text/markdown": [
       "blk_rem\n",
       ":   83md_Samples\n",
       ":   4\n",
       "\n"
      ],
      "text/plain": [
       "   blk_rem md_Samples \n",
       "        83          4 "
      ]
     },
     "metadata": {},
     "output_type": "display_data"
    }
   ],
   "source": [
    "lengths(blk_rem_results)"
   ]
  },
  {
   "cell_type": "code",
   "execution_count": null,
   "id": "46eb78e1-2786-43bf-a460-770d5d244a40",
   "metadata": {},
   "outputs": [],
   "source": [
    "blk_rem <- blk_rem_results$blk_rem\n",
    "md_Samples <- blk_rem_results$md_Samples"
   ]
  },
  {
   "cell_type": "code",
   "execution_count": 44,
   "id": "791e273d",
   "metadata": {
    "id": "80ac7878"
   },
   "outputs": [],
   "source": [
    "write.csv(blk_rem, paste0(Sys.Date(),'_Blanks_Removed_with_cutoff_',Cutoff,'.csv'),row.names =TRUE)"
   ]
  },
  {
   "cell_type": "code",
   "execution_count": null,
   "id": "28af5b88-07be-4bdd-b889-b0d4640c175b",
   "metadata": {},
   "outputs": [],
   "source": [
    "after_blk_rem <- plotPCoA(blk_rem, \n",
    "                          md_Samples, \n",
    "                          distmetric = 'canberra', \n",
    "                          title = \"Scores plot - After Blank Removal\")\n",
    "after_blk_rem"
   ]
  },
  {
   "cell_type": "markdown",
   "id": "8035dcd3",
   "metadata": {
    "id": "b4210007",
    "tags": [],
    "toc-hr-collapsed": true
   },
   "source": [
    "## <font color ='darkblue'> 3.3 Imputation </font>\n",
    "<a name = 'imp'></a>\n",
    "\n",
    "<p style='text-align: justify;'> For several reasons, real world datasets might have some missing values in it, in the form of NA, NANs or 0s. Eventhough the gapfilling step of MZmine fills the missing values, we still end up with some missing values or 0s in our feature table. This could be problematic for statistical analysis. We cannot simply discard those rows or columns with missing values as we will lose valuable data. Instead we can try imputing or replacing the missing values in the data with a meaningful, reasonable guess. Here, first, we use the blank-removed feature table to assess frequencies across relative intensities. The plot from the below cell shows us how many features have which relative intensities. We then create random values between 0 and the minimum value in our blank-removed table and randomly replace all 0s with these random values. </p>"
   ]
  },
  {
   "cell_type": "code",
   "execution_count": 158,
   "id": "a437bdc6-729e-4370-ae27-ac62624f236d",
   "metadata": {},
   "outputs": [
    {
     "name": "stderr",
     "output_type": "stream",
     "text": [
      "The limit of detection (LOD) is: 118\n",
      "\n",
      "Creating random variables (between 0 and LOD) to replace all zeros...\n",
      "\n",
      "The first 10 of the generated random values: 102.2, 24.2, 33.4, 26.8, 17.4, 15.1, 69, 107.6, 105.9, 27.6\n",
      "\n",
      "Resulting imputed table: head(imp,3)\n",
      "\n"
     ]
    },
    {
     "data": {
      "text/html": [
       "<table class=\"dataframe\">\n",
       "<caption>A data.frame: 3 × 83</caption>\n",
       "<thead>\n",
       "\t<tr><th></th><th scope=col>Avr_Bac_Rep1_t0.mzML</th><th scope=col>Avr_Bac_Rep1_t1.mzML</th><th scope=col>Avr_Bac_Rep1_t10.mzML</th><th scope=col>Avr_Bac_Rep1_t120.mzML</th><th scope=col>Avr_Bac_Rep1_t180.mzML</th><th scope=col>Avr_Bac_Rep1_t20.mzML</th><th scope=col>Avr_Bac_Rep1_t240.mzML</th><th scope=col>Avr_Bac_Rep1_t30.mzML</th><th scope=col>Avr_Bac_Rep1_t60.mzML</th><th scope=col>Avr_Bac_Rep1_t720.mzML</th><th scope=col>...</th><th scope=col>GutBac_Rep3_t0.mzML</th><th scope=col>GutBac_Rep3_t1.mzML</th><th scope=col>GutBac_Rep3_t10.mzML</th><th scope=col>GutBac_Rep3_t120.mzML</th><th scope=col>GutBac_Rep3_t180.mzML</th><th scope=col>GutBac_Rep3_t20.mzML</th><th scope=col>GutBac_Rep3_t240.mzML</th><th scope=col>GutBac_Rep3_t30.mzML</th><th scope=col>GutBac_Rep3_t60.mzML</th><th scope=col>GutBac_Rep3_t720.mzML</th></tr>\n",
       "\t<tr><th></th><th scope=col>&lt;dbl&gt;</th><th scope=col>&lt;dbl&gt;</th><th scope=col>&lt;dbl&gt;</th><th scope=col>&lt;dbl&gt;</th><th scope=col>&lt;dbl&gt;</th><th scope=col>&lt;dbl&gt;</th><th scope=col>&lt;dbl&gt;</th><th scope=col>&lt;dbl&gt;</th><th scope=col>&lt;dbl&gt;</th><th scope=col>&lt;dbl&gt;</th><th scope=col>...</th><th scope=col>&lt;dbl&gt;</th><th scope=col>&lt;dbl&gt;</th><th scope=col>&lt;dbl&gt;</th><th scope=col>&lt;dbl&gt;</th><th scope=col>&lt;dbl&gt;</th><th scope=col>&lt;dbl&gt;</th><th scope=col>&lt;dbl&gt;</th><th scope=col>&lt;dbl&gt;</th><th scope=col>&lt;dbl&gt;</th><th scope=col>&lt;dbl&gt;</th></tr>\n",
       "</thead>\n",
       "<tbody>\n",
       "\t<tr><th scope=row>X1002_231.17_0.715_NA</th><td>50298.31</td><td>21635.83</td><td>20397.348</td><td>13253.05</td><td> 3267.277</td><td>34023.77</td><td>  222.8398</td><td>27353.08</td><td>15001.777</td><td> 4962.125</td><td>...</td><td> 57204.70</td><td>52072.95</td><td>45729.56</td><td>  102.20</td><td>12095.42</td><td>38591.56</td><td> 6135.828</td><td>29454.15</td><td>20424.07</td><td> 6025.128</td></tr>\n",
       "\t<tr><th scope=row>X1003_175.025_0.717_NA</th><td>27311.99</td><td>12652.35</td><td> 9864.077</td><td>21843.31</td><td>23645.285</td><td>17389.87</td><td>12652.0980</td><td>15746.20</td><td> 9692.443</td><td>19453.031</td><td>...</td><td> 32019.19</td><td>30412.88</td><td>25575.12</td><td>30980.42</td><td>25124.41</td><td>22108.58</td><td>15796.289</td><td>20447.47</td><td>24534.11</td><td>19263.518</td></tr>\n",
       "\t<tr><th scope=row>X1006_206.064_0.733_NA</th><td>96254.45</td><td>20015.02</td><td>19539.650</td><td>36158.43</td><td>45152.387</td><td>38794.57</td><td>16259.9180</td><td>29461.41</td><td>18119.111</td><td>21798.707</td><td>...</td><td>100331.62</td><td>87393.12</td><td>74795.55</td><td>74507.01</td><td>52874.42</td><td>56854.07</td><td>31590.785</td><td>45773.31</td><td>69054.88</td><td>23354.123</td></tr>\n",
       "</tbody>\n",
       "</table>\n"
      ],
      "text/latex": [
       "A data.frame: 3 × 83\n",
       "\\begin{tabular}{r|lllllllllllllllllllll}\n",
       "  & Avr\\_Bac\\_Rep1\\_t0.mzML & Avr\\_Bac\\_Rep1\\_t1.mzML & Avr\\_Bac\\_Rep1\\_t10.mzML & Avr\\_Bac\\_Rep1\\_t120.mzML & Avr\\_Bac\\_Rep1\\_t180.mzML & Avr\\_Bac\\_Rep1\\_t20.mzML & Avr\\_Bac\\_Rep1\\_t240.mzML & Avr\\_Bac\\_Rep1\\_t30.mzML & Avr\\_Bac\\_Rep1\\_t60.mzML & Avr\\_Bac\\_Rep1\\_t720.mzML & ... & GutBac\\_Rep3\\_t0.mzML & GutBac\\_Rep3\\_t1.mzML & GutBac\\_Rep3\\_t10.mzML & GutBac\\_Rep3\\_t120.mzML & GutBac\\_Rep3\\_t180.mzML & GutBac\\_Rep3\\_t20.mzML & GutBac\\_Rep3\\_t240.mzML & GutBac\\_Rep3\\_t30.mzML & GutBac\\_Rep3\\_t60.mzML & GutBac\\_Rep3\\_t720.mzML\\\\\n",
       "  & <dbl> & <dbl> & <dbl> & <dbl> & <dbl> & <dbl> & <dbl> & <dbl> & <dbl> & <dbl> & ... & <dbl> & <dbl> & <dbl> & <dbl> & <dbl> & <dbl> & <dbl> & <dbl> & <dbl> & <dbl>\\\\\n",
       "\\hline\n",
       "\tX1002\\_231.17\\_0.715\\_NA & 50298.31 & 21635.83 & 20397.348 & 13253.05 &  3267.277 & 34023.77 &   222.8398 & 27353.08 & 15001.777 &  4962.125 & ... &  57204.70 & 52072.95 & 45729.56 &   102.20 & 12095.42 & 38591.56 &  6135.828 & 29454.15 & 20424.07 &  6025.128\\\\\n",
       "\tX1003\\_175.025\\_0.717\\_NA & 27311.99 & 12652.35 &  9864.077 & 21843.31 & 23645.285 & 17389.87 & 12652.0980 & 15746.20 &  9692.443 & 19453.031 & ... &  32019.19 & 30412.88 & 25575.12 & 30980.42 & 25124.41 & 22108.58 & 15796.289 & 20447.47 & 24534.11 & 19263.518\\\\\n",
       "\tX1006\\_206.064\\_0.733\\_NA & 96254.45 & 20015.02 & 19539.650 & 36158.43 & 45152.387 & 38794.57 & 16259.9180 & 29461.41 & 18119.111 & 21798.707 & ... & 100331.62 & 87393.12 & 74795.55 & 74507.01 & 52874.42 & 56854.07 & 31590.785 & 45773.31 & 69054.88 & 23354.123\\\\\n",
       "\\end{tabular}\n"
      ],
      "text/markdown": [
       "\n",
       "A data.frame: 3 × 83\n",
       "\n",
       "| <!--/--> | Avr_Bac_Rep1_t0.mzML &lt;dbl&gt; | Avr_Bac_Rep1_t1.mzML &lt;dbl&gt; | Avr_Bac_Rep1_t10.mzML &lt;dbl&gt; | Avr_Bac_Rep1_t120.mzML &lt;dbl&gt; | Avr_Bac_Rep1_t180.mzML &lt;dbl&gt; | Avr_Bac_Rep1_t20.mzML &lt;dbl&gt; | Avr_Bac_Rep1_t240.mzML &lt;dbl&gt; | Avr_Bac_Rep1_t30.mzML &lt;dbl&gt; | Avr_Bac_Rep1_t60.mzML &lt;dbl&gt; | Avr_Bac_Rep1_t720.mzML &lt;dbl&gt; | ... ... | GutBac_Rep3_t0.mzML &lt;dbl&gt; | GutBac_Rep3_t1.mzML &lt;dbl&gt; | GutBac_Rep3_t10.mzML &lt;dbl&gt; | GutBac_Rep3_t120.mzML &lt;dbl&gt; | GutBac_Rep3_t180.mzML &lt;dbl&gt; | GutBac_Rep3_t20.mzML &lt;dbl&gt; | GutBac_Rep3_t240.mzML &lt;dbl&gt; | GutBac_Rep3_t30.mzML &lt;dbl&gt; | GutBac_Rep3_t60.mzML &lt;dbl&gt; | GutBac_Rep3_t720.mzML &lt;dbl&gt; |\n",
       "|---|---|---|---|---|---|---|---|---|---|---|---|---|---|---|---|---|---|---|---|---|---|\n",
       "| X1002_231.17_0.715_NA | 50298.31 | 21635.83 | 20397.348 | 13253.05 |  3267.277 | 34023.77 |   222.8398 | 27353.08 | 15001.777 |  4962.125 | ... |  57204.70 | 52072.95 | 45729.56 |   102.20 | 12095.42 | 38591.56 |  6135.828 | 29454.15 | 20424.07 |  6025.128 |\n",
       "| X1003_175.025_0.717_NA | 27311.99 | 12652.35 |  9864.077 | 21843.31 | 23645.285 | 17389.87 | 12652.0980 | 15746.20 |  9692.443 | 19453.031 | ... |  32019.19 | 30412.88 | 25575.12 | 30980.42 | 25124.41 | 22108.58 | 15796.289 | 20447.47 | 24534.11 | 19263.518 |\n",
       "| X1006_206.064_0.733_NA | 96254.45 | 20015.02 | 19539.650 | 36158.43 | 45152.387 | 38794.57 | 16259.9180 | 29461.41 | 18119.111 | 21798.707 | ... | 100331.62 | 87393.12 | 74795.55 | 74507.01 | 52874.42 | 56854.07 | 31590.785 | 45773.31 | 69054.88 | 23354.123 |\n",
       "\n"
      ],
      "text/plain": [
       "                       Avr_Bac_Rep1_t0.mzML Avr_Bac_Rep1_t1.mzML\n",
       "X1002_231.17_0.715_NA  50298.31             21635.83            \n",
       "X1003_175.025_0.717_NA 27311.99             12652.35            \n",
       "X1006_206.064_0.733_NA 96254.45             20015.02            \n",
       "                       Avr_Bac_Rep1_t10.mzML Avr_Bac_Rep1_t120.mzML\n",
       "X1002_231.17_0.715_NA  20397.348             13253.05              \n",
       "X1003_175.025_0.717_NA  9864.077             21843.31              \n",
       "X1006_206.064_0.733_NA 19539.650             36158.43              \n",
       "                       Avr_Bac_Rep1_t180.mzML Avr_Bac_Rep1_t20.mzML\n",
       "X1002_231.17_0.715_NA   3267.277              34023.77             \n",
       "X1003_175.025_0.717_NA 23645.285              17389.87             \n",
       "X1006_206.064_0.733_NA 45152.387              38794.57             \n",
       "                       Avr_Bac_Rep1_t240.mzML Avr_Bac_Rep1_t30.mzML\n",
       "X1002_231.17_0.715_NA    222.8398             27353.08             \n",
       "X1003_175.025_0.717_NA 12652.0980             15746.20             \n",
       "X1006_206.064_0.733_NA 16259.9180             29461.41             \n",
       "                       Avr_Bac_Rep1_t60.mzML Avr_Bac_Rep1_t720.mzML ...\n",
       "X1002_231.17_0.715_NA  15001.777              4962.125              ...\n",
       "X1003_175.025_0.717_NA  9692.443             19453.031              ...\n",
       "X1006_206.064_0.733_NA 18119.111             21798.707              ...\n",
       "                       GutBac_Rep3_t0.mzML GutBac_Rep3_t1.mzML\n",
       "X1002_231.17_0.715_NA   57204.70           52072.95           \n",
       "X1003_175.025_0.717_NA  32019.19           30412.88           \n",
       "X1006_206.064_0.733_NA 100331.62           87393.12           \n",
       "                       GutBac_Rep3_t10.mzML GutBac_Rep3_t120.mzML\n",
       "X1002_231.17_0.715_NA  45729.56               102.20             \n",
       "X1003_175.025_0.717_NA 25575.12             30980.42             \n",
       "X1006_206.064_0.733_NA 74795.55             74507.01             \n",
       "                       GutBac_Rep3_t180.mzML GutBac_Rep3_t20.mzML\n",
       "X1002_231.17_0.715_NA  12095.42              38591.56            \n",
       "X1003_175.025_0.717_NA 25124.41              22108.58            \n",
       "X1006_206.064_0.733_NA 52874.42              56854.07            \n",
       "                       GutBac_Rep3_t240.mzML GutBac_Rep3_t30.mzML\n",
       "X1002_231.17_0.715_NA   6135.828             29454.15            \n",
       "X1003_175.025_0.717_NA 15796.289             20447.47            \n",
       "X1006_206.064_0.733_NA 31590.785             45773.31            \n",
       "                       GutBac_Rep3_t60.mzML GutBac_Rep3_t720.mzML\n",
       "X1002_231.17_0.715_NA  20424.07              6025.128            \n",
       "X1003_175.025_0.717_NA 24534.11             19263.518            \n",
       "X1006_206.064_0.733_NA 69054.88             23354.123            "
      ]
     },
     "metadata": {},
     "output_type": "display_data"
    }
   ],
   "source": [
    "impute_results <- impute_table(blk_rem_results$blk_rem)"
   ]
  },
  {
   "cell_type": "code",
   "execution_count": 159,
   "id": "10750d0e-6af4-4478-8f3a-d30435c28a3b",
   "metadata": {},
   "outputs": [
    {
     "data": {
      "text/html": [
       "<style>\n",
       ".dl-inline {width: auto; margin:0; padding: 0}\n",
       ".dl-inline>dt, .dl-inline>dd {float: none; width: auto; display: inline-block}\n",
       ".dl-inline>dt::after {content: \":\\0020\"; padding-right: .5ex}\n",
       ".dl-inline>dt:not(:first-of-type) {padding-left: .5ex}\n",
       "</style><dl class=dl-inline><dt>Plot</dt><dd>9</dd><dt>Table</dt><dd>83</dd></dl>\n"
      ],
      "text/latex": [
       "\\begin{description*}\n",
       "\\item[Plot] 9\n",
       "\\item[Table] 83\n",
       "\\end{description*}\n"
      ],
      "text/markdown": [
       "Plot\n",
       ":   9Table\n",
       ":   83\n",
       "\n"
      ],
      "text/plain": [
       " Plot Table \n",
       "    9    83 "
      ]
     },
     "metadata": {},
     "output_type": "display_data"
    }
   ],
   "source": [
    "lengths(impute_results)"
   ]
  },
  {
   "cell_type": "code",
   "execution_count": 160,
   "id": "b9e94198-2e0a-4837-95d7-9dfe2945e824",
   "metadata": {},
   "outputs": [
    {
     "data": {
      "image/png": "[encoded data removed]",
      "text/plain": [
       "plot without title"
      ]
     },
     "metadata": {
      "image/png": {
       "height": 600,
       "width": 600
      }
     },
     "output_type": "display_data"
    }
   ],
   "source": [
    "impute_results$Plot"
   ]
  },
  {
   "cell_type": "markdown",
   "id": "5b7a4152",
   "metadata": {
    "id": "ecf06fcf"
   },
   "source": [
    "The above histogram shows that, in our, blank-removed feature table, there are many zeros present. And no values in the range between 0 to 1E2. The minimum value greater than 0 in our dataframe is in between 1E2 & 1E3 (and that value is 892)."
   ]
  },
  {
   "cell_type": "code",
   "execution_count": 162,
   "id": "ef4f3148-b01b-4edd-9fb3-d7cc8ea34624",
   "metadata": {},
   "outputs": [],
   "source": [
    "imp <- impute_results$Table"
   ]
  },
  {
   "cell_type": "code",
   "execution_count": 163,
   "id": "c96475e1",
   "metadata": {
    "colab": {
     "base_uri": "https://localhost:8080/",
     "height": 34
    },
    "id": "acd45acb",
    "outputId": "a00844be-2e93-4208-b8e0-fb10c236617d"
   },
   "outputs": [
    {
     "data": {
      "text/html": [
       "0"
      ],
      "text/latex": [
       "0"
      ],
      "text/markdown": [
       "0"
      ],
      "text/plain": [
       "[1] 0"
      ]
     },
     "metadata": {},
     "output_type": "display_data"
    }
   ],
   "source": [
    "sum(imp==0) # checking if there are any zeros in our imputed table "
   ]
  },
  {
   "cell_type": "code",
   "execution_count": null,
   "id": "598313a2",
   "metadata": {
    "id": "ed071fa7"
   },
   "outputs": [],
   "source": [
    "write.csv(imp,paste0(Sys.Date(),'_Imputed_QuantTable.csv'),row.names =T)"
   ]
  },
  {
   "cell_type": "code",
   "execution_count": null,
   "id": "4cc30151-4b4b-44e7-95cb-a352c05e35f2",
   "metadata": {},
   "outputs": [],
   "source": [
    "after_imp <- plotPCoA(imp, \n",
    "                      md_Samples, \n",
    "                      distmetric = 'canberra', \n",
    "                      title = \"Scores plot - After Imputation\")\n",
    "after_imp"
   ]
  },
  {
   "cell_type": "markdown",
   "id": "ff917cf1",
   "metadata": {
    "id": "f06a2dd7",
    "tags": []
   },
   "source": [
    "## <font color ='darkblue'> 3.4 Normalization </font>\n",
    "<a name=\"norm\"></a>\n",
    "\n",
    "Normalization is performed to compensate for differences in total metabolite concentrations among samples (Y. Wu & Li,2016). Many normalization techniques can also correct the batch effects, such as those caused by sample pipetting or extraction. Here, we present 2 types of normalization: Total Ion Current(TIC) or (Probabilistic Quotient Normalization) PQN."
   ]
  },
  {
   "cell_type": "markdown",
   "id": "52170398",
   "metadata": {
    "id": "cd0d3561"
   },
   "source": [
    "### 3.4.1 Total Ion Current (TIC) or sample-centric normalization\n",
    "<a name=\"tic\"></a>"
   ]
  },
  {
   "cell_type": "code",
   "execution_count": 61,
   "id": "9b967ed2",
   "metadata": {
    "colab": {
     "base_uri": "https://localhost:8080/",
     "height": 233
    },
    "id": "13777a5d",
    "outputId": "ad499a9e-9ec2-405a-ebc7-02442a169b09"
   },
   "outputs": [
    {
     "data": {
      "text/html": [
       "<table class=\"dataframe\">\n",
       "<caption>A matrix: 3 × 9092 of type dbl</caption>\n",
       "<thead>\n",
       "\t<tr><th></th><th scope=col>X10015_282.169_2.763_NA</th><th scope=col>X10035_325.139_2.817_NA</th><th scope=col>X10037_216.123_2.847_NA</th><th scope=col>X10047_338.159_2.845_NA</th><th scope=col>X10058_280.117_2.961_NA</th><th scope=col>X10059_414.175_2.851_NA</th><th scope=col>X10072_305.157_2.851_NA</th><th scope=col>X10074_283.175_2.851_Spectral Match to Hexaethylene glycol from NIST14</th><th scope=col>X10078_300.201_2.851_Spectral Match to Hexaethylene glycol from NIST14</th><th scope=col>X10082_309.144_2.886_NA</th><th scope=col>...</th><th scope=col>X9833_268.175_2.821_NA</th><th scope=col>X9860_240.144_2.824_NA</th><th scope=col>X9876_414.139_2.761_NA</th><th scope=col>X9884_190.05_2.832_NA</th><th scope=col>X9897_333.144_2.881_NA</th><th scope=col>X9909_400.16_2.813_NA</th><th scope=col>X9918_252.123_2.833_NA</th><th scope=col>X9957_402.139_3.01_NA</th><th scope=col>X9972_323.123_2.716_NA</th><th scope=col>X9995_276.159_2.805_NA</th></tr>\n",
       "</thead>\n",
       "<tbody>\n",
       "\t<tr><th scope=row>SD_01-2018_1_a.mzXML</th><td>2.977175e-05</td><td>1.146287e-04</td><td>5.291461e-05</td><td>0.0002611555</td><td>0.0001068795</td><td>0.0000708781</td><td>0.0003597461</td><td>0.001172543</td><td>0.001577941</td><td>1.207643e-07</td><td>...</td><td>6.365962e-05</td><td>2.555712e-04</td><td>5.320822e-05</td><td>6.676027e-05</td><td>4.321289e-05</td><td>1.438268e-04</td><td>0.0002617082</td><td>5.041191e-04</td><td>0.0001164462</td><td>7.469366e-05</td></tr>\n",
       "\t<tr><th scope=row>SD_01-2018_1_b.mzXML</th><td>2.999528e-05</td><td>5.805570e-05</td><td>2.399888e-04</td><td>0.0001393665</td><td>0.0001598462</td><td>0.0001177603</td><td>0.0003073398</td><td>0.001129798</td><td>0.001603947</td><td>2.655696e-04</td><td>...</td><td>3.036384e-05</td><td>3.323701e-04</td><td>3.027890e-04</td><td>5.803523e-05</td><td>8.150427e-05</td><td>8.454055e-05</td><td>0.0004711154</td><td>4.532659e-04</td><td>0.0001187704</td><td>1.627856e-04</td></tr>\n",
       "\t<tr><th scope=row>SD_01-2018_10_a.mzXML</th><td>7.230727e-05</td><td>9.583535e-05</td><td>3.457870e-05</td><td>0.0002268790</td><td>0.0004349287</td><td>0.0000914086</td><td>0.0002488851</td><td>0.001006898</td><td>0.001440679</td><td>1.277168e-04</td><td>...</td><td>3.947752e-06</td><td>5.856588e-07</td><td>8.113338e-04</td><td>2.686943e-05</td><td>7.848346e-05</td><td>8.995930e-04</td><td>0.0007328199</td><td>6.864193e-05</td><td>0.0006325272</td><td>2.545104e-04</td></tr>\n",
       "</tbody>\n",
       "</table>\n"
      ],
      "text/latex": [
       "A matrix: 3 × 9092 of type dbl\n",
       "\\begin{tabular}{r|lllllllllllllllllllll}\n",
       "  & X10015\\_282.169\\_2.763\\_NA & X10035\\_325.139\\_2.817\\_NA & X10037\\_216.123\\_2.847\\_NA & X10047\\_338.159\\_2.845\\_NA & X10058\\_280.117\\_2.961\\_NA & X10059\\_414.175\\_2.851\\_NA & X10072\\_305.157\\_2.851\\_NA & X10074\\_283.175\\_2.851\\_Spectral Match to Hexaethylene glycol from NIST14 & X10078\\_300.201\\_2.851\\_Spectral Match to Hexaethylene glycol from NIST14 & X10082\\_309.144\\_2.886\\_NA & ... & X9833\\_268.175\\_2.821\\_NA & X9860\\_240.144\\_2.824\\_NA & X9876\\_414.139\\_2.761\\_NA & X9884\\_190.05\\_2.832\\_NA & X9897\\_333.144\\_2.881\\_NA & X9909\\_400.16\\_2.813\\_NA & X9918\\_252.123\\_2.833\\_NA & X9957\\_402.139\\_3.01\\_NA & X9972\\_323.123\\_2.716\\_NA & X9995\\_276.159\\_2.805\\_NA\\\\\n",
       "\\hline\n",
       "\tSD\\_01-2018\\_1\\_a.mzXML & 2.977175e-05 & 1.146287e-04 & 5.291461e-05 & 0.0002611555 & 0.0001068795 & 0.0000708781 & 0.0003597461 & 0.001172543 & 0.001577941 & 1.207643e-07 & ... & 6.365962e-05 & 2.555712e-04 & 5.320822e-05 & 6.676027e-05 & 4.321289e-05 & 1.438268e-04 & 0.0002617082 & 5.041191e-04 & 0.0001164462 & 7.469366e-05\\\\\n",
       "\tSD\\_01-2018\\_1\\_b.mzXML & 2.999528e-05 & 5.805570e-05 & 2.399888e-04 & 0.0001393665 & 0.0001598462 & 0.0001177603 & 0.0003073398 & 0.001129798 & 0.001603947 & 2.655696e-04 & ... & 3.036384e-05 & 3.323701e-04 & 3.027890e-04 & 5.803523e-05 & 8.150427e-05 & 8.454055e-05 & 0.0004711154 & 4.532659e-04 & 0.0001187704 & 1.627856e-04\\\\\n",
       "\tSD\\_01-2018\\_10\\_a.mzXML & 7.230727e-05 & 9.583535e-05 & 3.457870e-05 & 0.0002268790 & 0.0004349287 & 0.0000914086 & 0.0002488851 & 0.001006898 & 0.001440679 & 1.277168e-04 & ... & 3.947752e-06 & 5.856588e-07 & 8.113338e-04 & 2.686943e-05 & 7.848346e-05 & 8.995930e-04 & 0.0007328199 & 6.864193e-05 & 0.0006325272 & 2.545104e-04\\\\\n",
       "\\end{tabular}\n"
      ],
      "text/markdown": [
       "\n",
       "A matrix: 3 × 9092 of type dbl\n",
       "\n",
       "| <!--/--> | X10015_282.169_2.763_NA | X10035_325.139_2.817_NA | X10037_216.123_2.847_NA | X10047_338.159_2.845_NA | X10058_280.117_2.961_NA | X10059_414.175_2.851_NA | X10072_305.157_2.851_NA | X10074_283.175_2.851_Spectral Match to Hexaethylene glycol from NIST14 | X10078_300.201_2.851_Spectral Match to Hexaethylene glycol from NIST14 | X10082_309.144_2.886_NA | ... | X9833_268.175_2.821_NA | X9860_240.144_2.824_NA | X9876_414.139_2.761_NA | X9884_190.05_2.832_NA | X9897_333.144_2.881_NA | X9909_400.16_2.813_NA | X9918_252.123_2.833_NA | X9957_402.139_3.01_NA | X9972_323.123_2.716_NA | X9995_276.159_2.805_NA |\n",
       "|---|---|---|---|---|---|---|---|---|---|---|---|---|---|---|---|---|---|---|---|---|---|\n",
       "| SD_01-2018_1_a.mzXML | 2.977175e-05 | 1.146287e-04 | 5.291461e-05 | 0.0002611555 | 0.0001068795 | 0.0000708781 | 0.0003597461 | 0.001172543 | 0.001577941 | 1.207643e-07 | ... | 6.365962e-05 | 2.555712e-04 | 5.320822e-05 | 6.676027e-05 | 4.321289e-05 | 1.438268e-04 | 0.0002617082 | 5.041191e-04 | 0.0001164462 | 7.469366e-05 |\n",
       "| SD_01-2018_1_b.mzXML | 2.999528e-05 | 5.805570e-05 | 2.399888e-04 | 0.0001393665 | 0.0001598462 | 0.0001177603 | 0.0003073398 | 0.001129798 | 0.001603947 | 2.655696e-04 | ... | 3.036384e-05 | 3.323701e-04 | 3.027890e-04 | 5.803523e-05 | 8.150427e-05 | 8.454055e-05 | 0.0004711154 | 4.532659e-04 | 0.0001187704 | 1.627856e-04 |\n",
       "| SD_01-2018_10_a.mzXML | 7.230727e-05 | 9.583535e-05 | 3.457870e-05 | 0.0002268790 | 0.0004349287 | 0.0000914086 | 0.0002488851 | 0.001006898 | 0.001440679 | 1.277168e-04 | ... | 3.947752e-06 | 5.856588e-07 | 8.113338e-04 | 2.686943e-05 | 7.848346e-05 | 8.995930e-04 | 0.0007328199 | 6.864193e-05 | 0.0006325272 | 2.545104e-04 |\n",
       "\n"
      ],
      "text/plain": [
       "                      X10015_282.169_2.763_NA X10035_325.139_2.817_NA\n",
       "SD_01-2018_1_a.mzXML  2.977175e-05            1.146287e-04           \n",
       "SD_01-2018_1_b.mzXML  2.999528e-05            5.805570e-05           \n",
       "SD_01-2018_10_a.mzXML 7.230727e-05            9.583535e-05           \n",
       "                      X10037_216.123_2.847_NA X10047_338.159_2.845_NA\n",
       "SD_01-2018_1_a.mzXML  5.291461e-05            0.0002611555           \n",
       "SD_01-2018_1_b.mzXML  2.399888e-04            0.0001393665           \n",
       "SD_01-2018_10_a.mzXML 3.457870e-05            0.0002268790           \n",
       "                      X10058_280.117_2.961_NA X10059_414.175_2.851_NA\n",
       "SD_01-2018_1_a.mzXML  0.0001068795            0.0000708781           \n",
       "SD_01-2018_1_b.mzXML  0.0001598462            0.0001177603           \n",
       "SD_01-2018_10_a.mzXML 0.0004349287            0.0000914086           \n",
       "                      X10072_305.157_2.851_NA\n",
       "SD_01-2018_1_a.mzXML  0.0003597461           \n",
       "SD_01-2018_1_b.mzXML  0.0003073398           \n",
       "SD_01-2018_10_a.mzXML 0.0002488851           \n",
       "                      X10074_283.175_2.851_Spectral Match to Hexaethylene glycol from NIST14\n",
       "SD_01-2018_1_a.mzXML  0.001172543                                                           \n",
       "SD_01-2018_1_b.mzXML  0.001129798                                                           \n",
       "SD_01-2018_10_a.mzXML 0.001006898                                                           \n",
       "                      X10078_300.201_2.851_Spectral Match to Hexaethylene glycol from NIST14\n",
       "SD_01-2018_1_a.mzXML  0.001577941                                                           \n",
       "SD_01-2018_1_b.mzXML  0.001603947                                                           \n",
       "SD_01-2018_10_a.mzXML 0.001440679                                                           \n",
       "                      X10082_309.144_2.886_NA ... X9833_268.175_2.821_NA\n",
       "SD_01-2018_1_a.mzXML  1.207643e-07            ... 6.365962e-05          \n",
       "SD_01-2018_1_b.mzXML  2.655696e-04            ... 3.036384e-05          \n",
       "SD_01-2018_10_a.mzXML 1.277168e-04            ... 3.947752e-06          \n",
       "                      X9860_240.144_2.824_NA X9876_414.139_2.761_NA\n",
       "SD_01-2018_1_a.mzXML  2.555712e-04           5.320822e-05          \n",
       "SD_01-2018_1_b.mzXML  3.323701e-04           3.027890e-04          \n",
       "SD_01-2018_10_a.mzXML 5.856588e-07           8.113338e-04          \n",
       "                      X9884_190.05_2.832_NA X9897_333.144_2.881_NA\n",
       "SD_01-2018_1_a.mzXML  6.676027e-05          4.321289e-05          \n",
       "SD_01-2018_1_b.mzXML  5.803523e-05          8.150427e-05          \n",
       "SD_01-2018_10_a.mzXML 2.686943e-05          7.848346e-05          \n",
       "                      X9909_400.16_2.813_NA X9918_252.123_2.833_NA\n",
       "SD_01-2018_1_a.mzXML  1.438268e-04          0.0002617082          \n",
       "SD_01-2018_1_b.mzXML  8.454055e-05          0.0004711154          \n",
       "SD_01-2018_10_a.mzXML 8.995930e-04          0.0007328199          \n",
       "                      X9957_402.139_3.01_NA X9972_323.123_2.716_NA\n",
       "SD_01-2018_1_a.mzXML  5.041191e-04          0.0001164462          \n",
       "SD_01-2018_1_b.mzXML  4.532659e-04          0.0001187704          \n",
       "SD_01-2018_10_a.mzXML 6.864193e-05          0.0006325272          \n",
       "                      X9995_276.159_2.805_NA\n",
       "SD_01-2018_1_a.mzXML  7.469366e-05          \n",
       "SD_01-2018_1_b.mzXML  1.627856e-04          \n",
       "SD_01-2018_10_a.mzXML 2.545104e-04          "
      ]
     },
     "metadata": {},
     "output_type": "display_data"
    },
    {
     "data": {
      "text/html": [
       "<style>\n",
       ".list-inline {list-style: none; margin:0; padding: 0}\n",
       ".list-inline>li {display: inline-block}\n",
       ".list-inline>li:not(:last-child)::after {content: \"\\00b7\"; padding: 0 .5ex}\n",
       "</style>\n",
       "<ol class=list-inline><li>180</li><li>9092</li></ol>\n"
      ],
      "text/latex": [
       "\\begin{enumerate*}\n",
       "\\item 180\n",
       "\\item 9092\n",
       "\\end{enumerate*}\n"
      ],
      "text/markdown": [
       "1. 180\n",
       "2. 9092\n",
       "\n",
       "\n"
      ],
      "text/plain": [
       "[1]  180 9092"
      ]
     },
     "metadata": {},
     "output_type": "display_data"
    },
    {
     "name": "stdout",
     "output_type": "stream",
     "text": [
      "[1] \"No.of NA values in Normalized data: 0\"\n"
     ]
    }
   ],
   "source": [
    "norm_TIC <- normalization(t(imp), #performing normalization on transformed imputed data\n",
    "                            method = \"sum\")$newXtrain #here, samples are normalized to the sum of the absolute value of all variables for a given sample\n",
    "head(norm_TIC,n=3)\n",
    "dim(norm_TIC)\n",
    "print(paste('No.of NA values in Normalized data:',sum(is.na(norm_TIC)== T)))"
   ]
  },
  {
   "cell_type": "code",
   "execution_count": null,
   "id": "ec03acff",
   "metadata": {
    "id": "631760ca"
   },
   "outputs": [],
   "source": [
    "write.csv(norm_TIC, paste0(Sys.Date(),'_TIC_Normalised_table.csv'),row.names =T)"
   ]
  },
  {
   "cell_type": "code",
   "execution_count": null,
   "id": "96c151fc-1892-4f89-85f4-90fef65044ed",
   "metadata": {},
   "outputs": [],
   "source": [
    "tic_t <- as.data.frame(t(norm_TIC)) #transposing the ft\n",
    "tic_t <- tic_t %>% mutate_all(as.numeric)  #converting all values to numeric\n",
    "identical(md_Samples$filename,rownames(tic_t)) #should return TRUE now"
   ]
  },
  {
   "cell_type": "code",
   "execution_count": null,
   "id": "30ecf5ef-c8c4-497a-ad62-987024f74747",
   "metadata": {},
   "outputs": [],
   "source": [
    "after_tic <- plotPCoA(tic_t, \n",
    "                      md_Samples, \n",
    "                      distmetric = 'canberra', \n",
    "                      title = \"Scores plot - After TIC normalization\")\n",
    "after_tic"
   ]
  },
  {
   "cell_type": "markdown",
   "id": "39ad265b",
   "metadata": {
    "id": "51790f90"
   },
   "source": [
    "### 3.4.2 Probabilistic Quotient Normalization (PQN)\n",
    "<a name=\"pqn\"></a>"
   ]
  },
  {
   "cell_type": "code",
   "execution_count": 62,
   "id": "450b6347",
   "metadata": {
    "colab": {
     "base_uri": "https://localhost:8080/",
     "height": 233
    },
    "id": "856368aa",
    "outputId": "8ba3d2ed-4347-4c4a-fe85-e0e92361e6f9"
   },
   "outputs": [
    {
     "data": {
      "text/html": [
       "<table class=\"dataframe\">\n",
       "<caption>A matrix: 3 × 9092 of type dbl</caption>\n",
       "<thead>\n",
       "\t<tr><th></th><th scope=col>X10015_282.169_2.763_NA</th><th scope=col>X10035_325.139_2.817_NA</th><th scope=col>X10037_216.123_2.847_NA</th><th scope=col>X10047_338.159_2.845_NA</th><th scope=col>X10058_280.117_2.961_NA</th><th scope=col>X10059_414.175_2.851_NA</th><th scope=col>X10072_305.157_2.851_NA</th><th scope=col>X10074_283.175_2.851_Spectral Match to Hexaethylene glycol from NIST14</th><th scope=col>X10078_300.201_2.851_Spectral Match to Hexaethylene glycol from NIST14</th><th scope=col>X10082_309.144_2.886_NA</th><th scope=col>...</th><th scope=col>X9833_268.175_2.821_NA</th><th scope=col>X9860_240.144_2.824_NA</th><th scope=col>X9876_414.139_2.761_NA</th><th scope=col>X9884_190.05_2.832_NA</th><th scope=col>X9897_333.144_2.881_NA</th><th scope=col>X9909_400.16_2.813_NA</th><th scope=col>X9918_252.123_2.833_NA</th><th scope=col>X9957_402.139_3.01_NA</th><th scope=col>X9972_323.123_2.716_NA</th><th scope=col>X9995_276.159_2.805_NA</th></tr>\n",
       "</thead>\n",
       "<tbody>\n",
       "\t<tr><th scope=row>SD_01-2018_1_a.mzXML</th><td>3.540018e-05</td><td>1.362995e-04</td><td>6.291825e-05</td><td>0.0003105276</td><td>0.0001270854</td><td>8.427778e-05</td><td>0.0004277570</td><td>0.0013942151</td><td>0.001876255</td><td>1.435951e-07</td><td>...</td><td>7.569463e-05</td><td>3.038876e-04</td><td>6.326737e-05</td><td>7.938147e-05</td><td>5.138240e-05</td><td>1.710177e-04</td><td>0.0003111848</td><td>5.994241e-04</td><td>0.0001384606</td><td>8.881468e-05</td></tr>\n",
       "\t<tr><th scope=row>SD_01-2018_1_b.mzXML</th><td>3.017861e-05</td><td>5.841053e-05</td><td>2.414556e-04</td><td>0.0001402183</td><td>0.0001608232</td><td>1.184801e-04</td><td>0.0003092183</td><td>0.0011367027</td><td>0.001613750</td><td>2.671927e-04</td><td>...</td><td>3.054942e-05</td><td>3.344015e-04</td><td>3.046396e-04</td><td>5.838994e-05</td><td>8.200242e-05</td><td>8.505726e-05</td><td>0.0004739948</td><td>4.560362e-04</td><td>0.0001194963</td><td>1.637805e-04</td></tr>\n",
       "\t<tr><th scope=row>SD_01-2018_10_a.mzXML</th><td>5.255678e-05</td><td>6.965824e-05</td><td>2.513364e-05</td><td>0.0001649077</td><td>0.0003161294</td><td>6.644064e-05</td><td>0.0001809030</td><td>0.0007318671</td><td>0.001047162</td><td>9.283137e-05</td><td>...</td><td>2.869437e-06</td><td>4.256881e-07</td><td>5.897207e-04</td><td>1.953014e-05</td><td>5.704596e-05</td><td>6.538722e-04</td><td>0.0005326526</td><td>4.989262e-05</td><td>0.0004597545</td><td>1.849918e-04</td></tr>\n",
       "</tbody>\n",
       "</table>\n"
      ],
      "text/latex": [
       "A matrix: 3 × 9092 of type dbl\n",
       "\\begin{tabular}{r|lllllllllllllllllllll}\n",
       "  & X10015\\_282.169\\_2.763\\_NA & X10035\\_325.139\\_2.817\\_NA & X10037\\_216.123\\_2.847\\_NA & X10047\\_338.159\\_2.845\\_NA & X10058\\_280.117\\_2.961\\_NA & X10059\\_414.175\\_2.851\\_NA & X10072\\_305.157\\_2.851\\_NA & X10074\\_283.175\\_2.851\\_Spectral Match to Hexaethylene glycol from NIST14 & X10078\\_300.201\\_2.851\\_Spectral Match to Hexaethylene glycol from NIST14 & X10082\\_309.144\\_2.886\\_NA & ... & X9833\\_268.175\\_2.821\\_NA & X9860\\_240.144\\_2.824\\_NA & X9876\\_414.139\\_2.761\\_NA & X9884\\_190.05\\_2.832\\_NA & X9897\\_333.144\\_2.881\\_NA & X9909\\_400.16\\_2.813\\_NA & X9918\\_252.123\\_2.833\\_NA & X9957\\_402.139\\_3.01\\_NA & X9972\\_323.123\\_2.716\\_NA & X9995\\_276.159\\_2.805\\_NA\\\\\n",
       "\\hline\n",
       "\tSD\\_01-2018\\_1\\_a.mzXML & 3.540018e-05 & 1.362995e-04 & 6.291825e-05 & 0.0003105276 & 0.0001270854 & 8.427778e-05 & 0.0004277570 & 0.0013942151 & 0.001876255 & 1.435951e-07 & ... & 7.569463e-05 & 3.038876e-04 & 6.326737e-05 & 7.938147e-05 & 5.138240e-05 & 1.710177e-04 & 0.0003111848 & 5.994241e-04 & 0.0001384606 & 8.881468e-05\\\\\n",
       "\tSD\\_01-2018\\_1\\_b.mzXML & 3.017861e-05 & 5.841053e-05 & 2.414556e-04 & 0.0001402183 & 0.0001608232 & 1.184801e-04 & 0.0003092183 & 0.0011367027 & 0.001613750 & 2.671927e-04 & ... & 3.054942e-05 & 3.344015e-04 & 3.046396e-04 & 5.838994e-05 & 8.200242e-05 & 8.505726e-05 & 0.0004739948 & 4.560362e-04 & 0.0001194963 & 1.637805e-04\\\\\n",
       "\tSD\\_01-2018\\_10\\_a.mzXML & 5.255678e-05 & 6.965824e-05 & 2.513364e-05 & 0.0001649077 & 0.0003161294 & 6.644064e-05 & 0.0001809030 & 0.0007318671 & 0.001047162 & 9.283137e-05 & ... & 2.869437e-06 & 4.256881e-07 & 5.897207e-04 & 1.953014e-05 & 5.704596e-05 & 6.538722e-04 & 0.0005326526 & 4.989262e-05 & 0.0004597545 & 1.849918e-04\\\\\n",
       "\\end{tabular}\n"
      ],
      "text/markdown": [
       "\n",
       "A matrix: 3 × 9092 of type dbl\n",
       "\n",
       "| <!--/--> | X10015_282.169_2.763_NA | X10035_325.139_2.817_NA | X10037_216.123_2.847_NA | X10047_338.159_2.845_NA | X10058_280.117_2.961_NA | X10059_414.175_2.851_NA | X10072_305.157_2.851_NA | X10074_283.175_2.851_Spectral Match to Hexaethylene glycol from NIST14 | X10078_300.201_2.851_Spectral Match to Hexaethylene glycol from NIST14 | X10082_309.144_2.886_NA | ... | X9833_268.175_2.821_NA | X9860_240.144_2.824_NA | X9876_414.139_2.761_NA | X9884_190.05_2.832_NA | X9897_333.144_2.881_NA | X9909_400.16_2.813_NA | X9918_252.123_2.833_NA | X9957_402.139_3.01_NA | X9972_323.123_2.716_NA | X9995_276.159_2.805_NA |\n",
       "|---|---|---|---|---|---|---|---|---|---|---|---|---|---|---|---|---|---|---|---|---|---|\n",
       "| SD_01-2018_1_a.mzXML | 3.540018e-05 | 1.362995e-04 | 6.291825e-05 | 0.0003105276 | 0.0001270854 | 8.427778e-05 | 0.0004277570 | 0.0013942151 | 0.001876255 | 1.435951e-07 | ... | 7.569463e-05 | 3.038876e-04 | 6.326737e-05 | 7.938147e-05 | 5.138240e-05 | 1.710177e-04 | 0.0003111848 | 5.994241e-04 | 0.0001384606 | 8.881468e-05 |\n",
       "| SD_01-2018_1_b.mzXML | 3.017861e-05 | 5.841053e-05 | 2.414556e-04 | 0.0001402183 | 0.0001608232 | 1.184801e-04 | 0.0003092183 | 0.0011367027 | 0.001613750 | 2.671927e-04 | ... | 3.054942e-05 | 3.344015e-04 | 3.046396e-04 | 5.838994e-05 | 8.200242e-05 | 8.505726e-05 | 0.0004739948 | 4.560362e-04 | 0.0001194963 | 1.637805e-04 |\n",
       "| SD_01-2018_10_a.mzXML | 5.255678e-05 | 6.965824e-05 | 2.513364e-05 | 0.0001649077 | 0.0003161294 | 6.644064e-05 | 0.0001809030 | 0.0007318671 | 0.001047162 | 9.283137e-05 | ... | 2.869437e-06 | 4.256881e-07 | 5.897207e-04 | 1.953014e-05 | 5.704596e-05 | 6.538722e-04 | 0.0005326526 | 4.989262e-05 | 0.0004597545 | 1.849918e-04 |\n",
       "\n"
      ],
      "text/plain": [
       "                      X10015_282.169_2.763_NA X10035_325.139_2.817_NA\n",
       "SD_01-2018_1_a.mzXML  3.540018e-05            1.362995e-04           \n",
       "SD_01-2018_1_b.mzXML  3.017861e-05            5.841053e-05           \n",
       "SD_01-2018_10_a.mzXML 5.255678e-05            6.965824e-05           \n",
       "                      X10037_216.123_2.847_NA X10047_338.159_2.845_NA\n",
       "SD_01-2018_1_a.mzXML  6.291825e-05            0.0003105276           \n",
       "SD_01-2018_1_b.mzXML  2.414556e-04            0.0001402183           \n",
       "SD_01-2018_10_a.mzXML 2.513364e-05            0.0001649077           \n",
       "                      X10058_280.117_2.961_NA X10059_414.175_2.851_NA\n",
       "SD_01-2018_1_a.mzXML  0.0001270854            8.427778e-05           \n",
       "SD_01-2018_1_b.mzXML  0.0001608232            1.184801e-04           \n",
       "SD_01-2018_10_a.mzXML 0.0003161294            6.644064e-05           \n",
       "                      X10072_305.157_2.851_NA\n",
       "SD_01-2018_1_a.mzXML  0.0004277570           \n",
       "SD_01-2018_1_b.mzXML  0.0003092183           \n",
       "SD_01-2018_10_a.mzXML 0.0001809030           \n",
       "                      X10074_283.175_2.851_Spectral Match to Hexaethylene glycol from NIST14\n",
       "SD_01-2018_1_a.mzXML  0.0013942151                                                          \n",
       "SD_01-2018_1_b.mzXML  0.0011367027                                                          \n",
       "SD_01-2018_10_a.mzXML 0.0007318671                                                          \n",
       "                      X10078_300.201_2.851_Spectral Match to Hexaethylene glycol from NIST14\n",
       "SD_01-2018_1_a.mzXML  0.001876255                                                           \n",
       "SD_01-2018_1_b.mzXML  0.001613750                                                           \n",
       "SD_01-2018_10_a.mzXML 0.001047162                                                           \n",
       "                      X10082_309.144_2.886_NA ... X9833_268.175_2.821_NA\n",
       "SD_01-2018_1_a.mzXML  1.435951e-07            ... 7.569463e-05          \n",
       "SD_01-2018_1_b.mzXML  2.671927e-04            ... 3.054942e-05          \n",
       "SD_01-2018_10_a.mzXML 9.283137e-05            ... 2.869437e-06          \n",
       "                      X9860_240.144_2.824_NA X9876_414.139_2.761_NA\n",
       "SD_01-2018_1_a.mzXML  3.038876e-04           6.326737e-05          \n",
       "SD_01-2018_1_b.mzXML  3.344015e-04           3.046396e-04          \n",
       "SD_01-2018_10_a.mzXML 4.256881e-07           5.897207e-04          \n",
       "                      X9884_190.05_2.832_NA X9897_333.144_2.881_NA\n",
       "SD_01-2018_1_a.mzXML  7.938147e-05          5.138240e-05          \n",
       "SD_01-2018_1_b.mzXML  5.838994e-05          8.200242e-05          \n",
       "SD_01-2018_10_a.mzXML 1.953014e-05          5.704596e-05          \n",
       "                      X9909_400.16_2.813_NA X9918_252.123_2.833_NA\n",
       "SD_01-2018_1_a.mzXML  1.710177e-04          0.0003111848          \n",
       "SD_01-2018_1_b.mzXML  8.505726e-05          0.0004739948          \n",
       "SD_01-2018_10_a.mzXML 6.538722e-04          0.0005326526          \n",
       "                      X9957_402.139_3.01_NA X9972_323.123_2.716_NA\n",
       "SD_01-2018_1_a.mzXML  5.994241e-04          0.0001384606          \n",
       "SD_01-2018_1_b.mzXML  4.560362e-04          0.0001194963          \n",
       "SD_01-2018_10_a.mzXML 4.989262e-05          0.0004597545          \n",
       "                      X9995_276.159_2.805_NA\n",
       "SD_01-2018_1_a.mzXML  8.881468e-05          \n",
       "SD_01-2018_1_b.mzXML  1.637805e-04          \n",
       "SD_01-2018_10_a.mzXML 1.849918e-04          "
      ]
     },
     "metadata": {},
     "output_type": "display_data"
    },
    {
     "data": {
      "text/html": [
       "<style>\n",
       ".list-inline {list-style: none; margin:0; padding: 0}\n",
       ".list-inline>li {display: inline-block}\n",
       ".list-inline>li:not(:last-child)::after {content: \"\\00b7\"; padding: 0 .5ex}\n",
       "</style>\n",
       "<ol class=list-inline><li>180</li><li>9092</li></ol>\n"
      ],
      "text/latex": [
       "\\begin{enumerate*}\n",
       "\\item 180\n",
       "\\item 9092\n",
       "\\end{enumerate*}\n"
      ],
      "text/markdown": [
       "1. 180\n",
       "2. 9092\n",
       "\n",
       "\n"
      ],
      "text/plain": [
       "[1]  180 9092"
      ]
     },
     "metadata": {},
     "output_type": "display_data"
    },
    {
     "name": "stdout",
     "output_type": "stream",
     "text": [
      "[1] \"No.of NA values in Normalized data: 0\"\n"
     ]
    }
   ],
   "source": [
    "norm_pqn <- normalization(t(imp), \n",
    "                            method = \"pqn\")$newXtrain\n",
    "head(norm_pqn,n=3)\n",
    "dim(norm_pqn)\n",
    "print(paste('No.of NA values in Normalized data:',sum(is.na(norm_pqn)== T)))"
   ]
  },
  {
   "cell_type": "code",
   "execution_count": null,
   "id": "38e4c920",
   "metadata": {
    "id": "58fc407e"
   },
   "outputs": [],
   "source": [
    "write.csv(norm_pqn, paste0(Sys.Date(),'_PQN_Normalised_Quant_table.csv'),row.names =T)"
   ]
  },
  {
   "cell_type": "code",
   "execution_count": null,
   "id": "3685f9b6-a153-4c2d-a523-6e86ce47bb0a",
   "metadata": {},
   "outputs": [],
   "source": [
    "pqn_t <- as.data.frame(t(norm_pqn)) #transposing the ft\n",
    "pqn_t <- pqn_t %>% mutate_all(as.numeric)  #converting all values to numeric\n",
    "identical(md_Samples$filename,rownames(pqn_t)) #should return TRUE now"
   ]
  },
  {
   "cell_type": "code",
   "execution_count": null,
   "id": "f792387a-16cc-4675-9630-27674b48fd5f",
   "metadata": {},
   "outputs": [],
   "source": [
    "after_pqn <- plotPCoA(pqn_t, \n",
    "                      md_Samples, \n",
    "                      distmetric = 'canberra', \n",
    "                      title = \"Scores plot - After PQN normalization\")\n",
    "after_pqn"
   ]
  },
  {
   "cell_type": "markdown",
   "id": "266488d1",
   "metadata": {
    "id": "w7rYinojzPVx",
    "tags": []
   },
   "source": [
    "## <font color ='darkblue'> 3.5 Scaling </font>\n",
    "<a name='scaling'></a>"
   ]
  },
  {
   "cell_type": "markdown",
   "id": "27f571c9",
   "metadata": {},
   "source": [
    "One can also perform center-scaling after imputation. Scaling is typically done to make sure that the data is centered around 0 and has a consistent spread to adjust for differences in offset between high and low-abundant metabolites, thus leaving only relevant variation for analysis. "
   ]
  },
  {
   "cell_type": "code",
   "execution_count": 63,
   "id": "aa457708",
   "metadata": {
    "colab": {
     "base_uri": "https://localhost:8080/",
     "height": 264
    },
    "id": "il-MRXsvdUzg",
    "outputId": "f0aef6ab-3ff3-466e-bebb-797d838c6df4"
   },
   "outputs": [
    {
     "data": {
      "text/html": [
       "TRUE"
      ],
      "text/latex": [
       "TRUE"
      ],
      "text/markdown": [
       "TRUE"
      ],
      "text/plain": [
       "[1] TRUE"
      ]
     },
     "metadata": {},
     "output_type": "display_data"
    }
   ],
   "source": [
    "Imp_t <- as.data.frame(t(imp)) #transposing the imputed table\n",
    "Imp_t <- Imp_t[match(md_Samples$filename,rownames(Imp_t)),] # ordering the rows in the Imp_t table according to the order of fiilenames column of md_Samples\n",
    "identical(rownames(Imp_t),md_Samples$filename) #should return TRUE"
   ]
  },
  {
   "cell_type": "markdown",
   "id": "b43d00c7-201d-431b-bfee-bb9f7f5ed14b",
   "metadata": {},
   "source": [
    "When <b>center = TRUE</b>, then centering is done by subtracting the column means (omitting NAs) of x from their corresponding columns. No centering is done for <b>center=FALSE</b>.\n",
    "\n",
    "* If scale = TRUE, center=TRUE,  then scaling is performed by dividing the centered columns of x by their standard deviations.\n",
    "* If scale = TRUE, center=FALSE, then scaling is performed by dividing the columns of x by their root mean squares\n",
    "* If scale is FALSE, no scaling is done."
   ]
  },
  {
   "cell_type": "code",
   "execution_count": 64,
   "id": "b3f13b06",
   "metadata": {
    "colab": {
     "base_uri": "https://localhost:8080/",
     "height": 233
    },
    "id": "xhmUsvEddvfA",
    "outputId": "3d5cb5a1-2acc-425b-e47c-5b515e457008"
   },
   "outputs": [
    {
     "data": {
      "text/html": [
       "<table class=\"dataframe\">\n",
       "<caption>A matrix: 2 × 9092 of type dbl</caption>\n",
       "<thead>\n",
       "\t<tr><th></th><th scope=col>X10015_282.169_2.763_NA</th><th scope=col>X10035_325.139_2.817_NA</th><th scope=col>X10037_216.123_2.847_NA</th><th scope=col>X10047_338.159_2.845_NA</th><th scope=col>X10058_280.117_2.961_NA</th><th scope=col>X10059_414.175_2.851_NA</th><th scope=col>X10072_305.157_2.851_NA</th><th scope=col>X10074_283.175_2.851_Spectral Match to Hexaethylene glycol from NIST14</th><th scope=col>X10078_300.201_2.851_Spectral Match to Hexaethylene glycol from NIST14</th><th scope=col>X10082_309.144_2.886_NA</th><th scope=col>...</th><th scope=col>X9833_268.175_2.821_NA</th><th scope=col>X9860_240.144_2.824_NA</th><th scope=col>X9876_414.139_2.761_NA</th><th scope=col>X9884_190.05_2.832_NA</th><th scope=col>X9897_333.144_2.881_NA</th><th scope=col>X9909_400.16_2.813_NA</th><th scope=col>X9918_252.123_2.833_NA</th><th scope=col>X9957_402.139_3.01_NA</th><th scope=col>X9972_323.123_2.716_NA</th><th scope=col>X9995_276.159_2.805_NA</th></tr>\n",
       "</thead>\n",
       "<tbody>\n",
       "\t<tr><th scope=row>SD_01-2018_1_a.mzXML</th><td>-1.130474</td><td>-0.2996871</td><td>-0.1117275</td><td>2.2186171</td><td>-1.452146</td><td>-0.1759304</td><td>-0.3434611</td><td>-0.1778404</td><td>-0.1933466</td><td>-0.98676658</td><td>...</td><td>0.50953425</td><td>0.3411530</td><td>-0.9690079</td><td>-0.2136334</td><td>-1.0317304</td><td>-0.3097998</td><td>-0.177995</td><td>1.167922</td><td>-0.9536029</td><td>-0.720846274</td></tr>\n",
       "\t<tr><th scope=row>SD_01-2018_1_b.mzXML</th><td>-1.126516</td><td>-0.6037355</td><td> 1.9885898</td><td>0.2986375</td><td>-1.028317</td><td> 0.3848581</td><td>-0.3749450</td><td>-0.1894778</td><td>-0.1876122</td><td> 0.01064504</td><td>...</td><td>0.09238905</td><td>0.5326194</td><td> 1.0516269</td><td>-0.3038794</td><td>-0.1930184</td><td>-0.7478181</td><td> 1.252001</td><td>0.955153</td><td>-0.9361819</td><td>-0.008639177</td></tr>\n",
       "</tbody>\n",
       "</table>\n"
      ],
      "text/latex": [
       "A matrix: 2 × 9092 of type dbl\n",
       "\\begin{tabular}{r|lllllllllllllllllllll}\n",
       "  & X10015\\_282.169\\_2.763\\_NA & X10035\\_325.139\\_2.817\\_NA & X10037\\_216.123\\_2.847\\_NA & X10047\\_338.159\\_2.845\\_NA & X10058\\_280.117\\_2.961\\_NA & X10059\\_414.175\\_2.851\\_NA & X10072\\_305.157\\_2.851\\_NA & X10074\\_283.175\\_2.851\\_Spectral Match to Hexaethylene glycol from NIST14 & X10078\\_300.201\\_2.851\\_Spectral Match to Hexaethylene glycol from NIST14 & X10082\\_309.144\\_2.886\\_NA & ... & X9833\\_268.175\\_2.821\\_NA & X9860\\_240.144\\_2.824\\_NA & X9876\\_414.139\\_2.761\\_NA & X9884\\_190.05\\_2.832\\_NA & X9897\\_333.144\\_2.881\\_NA & X9909\\_400.16\\_2.813\\_NA & X9918\\_252.123\\_2.833\\_NA & X9957\\_402.139\\_3.01\\_NA & X9972\\_323.123\\_2.716\\_NA & X9995\\_276.159\\_2.805\\_NA\\\\\n",
       "\\hline\n",
       "\tSD\\_01-2018\\_1\\_a.mzXML & -1.130474 & -0.2996871 & -0.1117275 & 2.2186171 & -1.452146 & -0.1759304 & -0.3434611 & -0.1778404 & -0.1933466 & -0.98676658 & ... & 0.50953425 & 0.3411530 & -0.9690079 & -0.2136334 & -1.0317304 & -0.3097998 & -0.177995 & 1.167922 & -0.9536029 & -0.720846274\\\\\n",
       "\tSD\\_01-2018\\_1\\_b.mzXML & -1.126516 & -0.6037355 &  1.9885898 & 0.2986375 & -1.028317 &  0.3848581 & -0.3749450 & -0.1894778 & -0.1876122 &  0.01064504 & ... & 0.09238905 & 0.5326194 &  1.0516269 & -0.3038794 & -0.1930184 & -0.7478181 &  1.252001 & 0.955153 & -0.9361819 & -0.008639177\\\\\n",
       "\\end{tabular}\n"
      ],
      "text/markdown": [
       "\n",
       "A matrix: 2 × 9092 of type dbl\n",
       "\n",
       "| <!--/--> | X10015_282.169_2.763_NA | X10035_325.139_2.817_NA | X10037_216.123_2.847_NA | X10047_338.159_2.845_NA | X10058_280.117_2.961_NA | X10059_414.175_2.851_NA | X10072_305.157_2.851_NA | X10074_283.175_2.851_Spectral Match to Hexaethylene glycol from NIST14 | X10078_300.201_2.851_Spectral Match to Hexaethylene glycol from NIST14 | X10082_309.144_2.886_NA | ... | X9833_268.175_2.821_NA | X9860_240.144_2.824_NA | X9876_414.139_2.761_NA | X9884_190.05_2.832_NA | X9897_333.144_2.881_NA | X9909_400.16_2.813_NA | X9918_252.123_2.833_NA | X9957_402.139_3.01_NA | X9972_323.123_2.716_NA | X9995_276.159_2.805_NA |\n",
       "|---|---|---|---|---|---|---|---|---|---|---|---|---|---|---|---|---|---|---|---|---|---|\n",
       "| SD_01-2018_1_a.mzXML | -1.130474 | -0.2996871 | -0.1117275 | 2.2186171 | -1.452146 | -0.1759304 | -0.3434611 | -0.1778404 | -0.1933466 | -0.98676658 | ... | 0.50953425 | 0.3411530 | -0.9690079 | -0.2136334 | -1.0317304 | -0.3097998 | -0.177995 | 1.167922 | -0.9536029 | -0.720846274 |\n",
       "| SD_01-2018_1_b.mzXML | -1.126516 | -0.6037355 |  1.9885898 | 0.2986375 | -1.028317 |  0.3848581 | -0.3749450 | -0.1894778 | -0.1876122 |  0.01064504 | ... | 0.09238905 | 0.5326194 |  1.0516269 | -0.3038794 | -0.1930184 | -0.7478181 |  1.252001 | 0.955153 | -0.9361819 | -0.008639177 |\n",
       "\n"
      ],
      "text/plain": [
       "                     X10015_282.169_2.763_NA X10035_325.139_2.817_NA\n",
       "SD_01-2018_1_a.mzXML -1.130474               -0.2996871             \n",
       "SD_01-2018_1_b.mzXML -1.126516               -0.6037355             \n",
       "                     X10037_216.123_2.847_NA X10047_338.159_2.845_NA\n",
       "SD_01-2018_1_a.mzXML -0.1117275              2.2186171              \n",
       "SD_01-2018_1_b.mzXML  1.9885898              0.2986375              \n",
       "                     X10058_280.117_2.961_NA X10059_414.175_2.851_NA\n",
       "SD_01-2018_1_a.mzXML -1.452146               -0.1759304             \n",
       "SD_01-2018_1_b.mzXML -1.028317                0.3848581             \n",
       "                     X10072_305.157_2.851_NA\n",
       "SD_01-2018_1_a.mzXML -0.3434611             \n",
       "SD_01-2018_1_b.mzXML -0.3749450             \n",
       "                     X10074_283.175_2.851_Spectral Match to Hexaethylene glycol from NIST14\n",
       "SD_01-2018_1_a.mzXML -0.1778404                                                            \n",
       "SD_01-2018_1_b.mzXML -0.1894778                                                            \n",
       "                     X10078_300.201_2.851_Spectral Match to Hexaethylene glycol from NIST14\n",
       "SD_01-2018_1_a.mzXML -0.1933466                                                            \n",
       "SD_01-2018_1_b.mzXML -0.1876122                                                            \n",
       "                     X10082_309.144_2.886_NA ... X9833_268.175_2.821_NA\n",
       "SD_01-2018_1_a.mzXML -0.98676658             ... 0.50953425            \n",
       "SD_01-2018_1_b.mzXML  0.01064504             ... 0.09238905            \n",
       "                     X9860_240.144_2.824_NA X9876_414.139_2.761_NA\n",
       "SD_01-2018_1_a.mzXML 0.3411530              -0.9690079            \n",
       "SD_01-2018_1_b.mzXML 0.5326194               1.0516269            \n",
       "                     X9884_190.05_2.832_NA X9897_333.144_2.881_NA\n",
       "SD_01-2018_1_a.mzXML -0.2136334            -1.0317304            \n",
       "SD_01-2018_1_b.mzXML -0.3038794            -0.1930184            \n",
       "                     X9909_400.16_2.813_NA X9918_252.123_2.833_NA\n",
       "SD_01-2018_1_a.mzXML -0.3097998            -0.177995             \n",
       "SD_01-2018_1_b.mzXML -0.7478181             1.252001             \n",
       "                     X9957_402.139_3.01_NA X9972_323.123_2.716_NA\n",
       "SD_01-2018_1_a.mzXML 1.167922              -0.9536029            \n",
       "SD_01-2018_1_b.mzXML 0.955153              -0.9361819            \n",
       "                     X9995_276.159_2.805_NA\n",
       "SD_01-2018_1_a.mzXML -0.720846274          \n",
       "SD_01-2018_1_b.mzXML -0.008639177          "
      ]
     },
     "metadata": {},
     "output_type": "display_data"
    }
   ],
   "source": [
    "Imp_s <- scale(Imp_t, center = T, scale = T) # center and scale data\n",
    "head(Imp_s, n=2)"
   ]
  },
  {
   "cell_type": "code",
   "execution_count": null,
   "id": "6207ad81",
   "metadata": {
    "id": "5de82a5c"
   },
   "outputs": [],
   "source": [
    "write.csv(Imp_s, paste0(Sys.Date(),'_scaled_table.csv'),row.names =T)"
   ]
  },
  {
   "cell_type": "code",
   "execution_count": null,
   "id": "a594d8a3-6d2a-4036-8c12-d8bf0dd804ba",
   "metadata": {},
   "outputs": [],
   "source": []
  },
  {
   "cell_type": "code",
   "execution_count": null,
   "id": "0906f21e-b328-479b-aa89-9bcc300fd6ca",
   "metadata": {},
   "outputs": [],
   "source": [
    "after_scaling <- plotPCoA(Imp_s, \n",
    "                      blk_rem_results$md_Samples, \n",
    "                      distmetric = 'canberra', \n",
    "                      title = \"Scores plot - After TIC normalization\")\n",
    "after_scaling"
   ]
  },
  {
   "cell_type": "markdown",
   "id": "b813a931",
   "metadata": {
    "id": "D2nSoPFEhGat"
   },
   "source": [
    "### 5.1.1 PERMANOVA (skip this now)\n",
    "\n",
    "<p style='text-align: justify;'> Permutational multivariate analysis of variance (PERMANOVA) is a non-parametric method for multivariate ANOVA, where P-values are obtained using permutations. The metric was originally developed within the field of ecology <a href ='https://onlinelibrary.wiley.com/doi/full/10.1002/9781118445112.stat07841'>(Anderson, 2008)</a> but is today widely used in other fields, including the microbiome and metabolomics field. PERMANOVA is used to compare groups of samples and it tests whether the centroid and/or the spread of the samples is different among the groups. Here, H0 states no differences among the groups and it is rejected when there is a significance difference among the groups. </p>\n",
    "\n",
    "<p style='text-align: justify;'> The adonis2() function in the <a href ='https://cran.r-project.org/web/packages/vegan/index.html'>(vegan package)</a> can be used to perform a PERMANOVA. The input is any dissimilarity matrix and the test-statistic retrieved is a multivariate analogue to Fisher's F-ratio as well as an R2 value (Adonis R2). </p>"
   ]
  },
  {
   "cell_type": "code",
   "execution_count": 145,
   "id": "b16d2f28",
   "metadata": {
    "id": "oCIBLTAo9eac"
   },
   "outputs": [
    {
     "data": {
      "text/html": [
       "<table class=\"dataframe\">\n",
       "<caption>A anova.cca: 3 × 5</caption>\n",
       "<thead>\n",
       "\t<tr><th></th><th scope=col>Df</th><th scope=col>SumOfSqs</th><th scope=col>R2</th><th scope=col>F</th><th scope=col>Pr(&gt;F)</th></tr>\n",
       "\t<tr><th></th><th scope=col>&lt;dbl&gt;</th><th scope=col>&lt;dbl&gt;</th><th scope=col>&lt;dbl&gt;</th><th scope=col>&lt;dbl&gt;</th><th scope=col>&lt;dbl&gt;</th></tr>\n",
       "</thead>\n",
       "<tbody>\n",
       "\t<tr><th scope=row>md_Samples[, colnames(md_Samples) == \"ATTRIBUTE_Month\"]</th><td>  2</td><td> 385177.2</td><td>0.2366727</td><td>27.43978</td><td>0.001</td></tr>\n",
       "\t<tr><th scope=row>Residual</th><td>177</td><td>1242290.8</td><td>0.7633273</td><td>      NA</td><td>   NA</td></tr>\n",
       "\t<tr><th scope=row>Total</th><td>179</td><td>1627468.0</td><td>1.0000000</td><td>      NA</td><td>   NA</td></tr>\n",
       "</tbody>\n",
       "</table>\n"
      ],
      "text/latex": [
       "A anova.cca: 3 × 5\n",
       "\\begin{tabular}{r|lllll}\n",
       "  & Df & SumOfSqs & R2 & F & Pr(>F)\\\\\n",
       "  & <dbl> & <dbl> & <dbl> & <dbl> & <dbl>\\\\\n",
       "\\hline\n",
       "\tmd\\_Samples{[}, colnames(md\\_Samples) == \"ATTRIBUTE\\_Month\"{]} &   2 &  385177.2 & 0.2366727 & 27.43978 & 0.001\\\\\n",
       "\tResidual & 177 & 1242290.8 & 0.7633273 &       NA &    NA\\\\\n",
       "\tTotal & 179 & 1627468.0 & 1.0000000 &       NA &    NA\\\\\n",
       "\\end{tabular}\n"
      ],
      "text/markdown": [
       "\n",
       "A anova.cca: 3 × 5\n",
       "\n",
       "| <!--/--> | Df &lt;dbl&gt; | SumOfSqs &lt;dbl&gt; | R2 &lt;dbl&gt; | F &lt;dbl&gt; | Pr(&gt;F) &lt;dbl&gt; |\n",
       "|---|---|---|---|---|---|\n",
       "| md_Samples[, colnames(md_Samples) == \"ATTRIBUTE_Month\"] |   2 |  385177.2 | 0.2366727 | 27.43978 | 0.001 |\n",
       "| Residual | 177 | 1242290.8 | 0.7633273 |       NA |    NA |\n",
       "| Total | 179 | 1627468.0 | 1.0000000 |       NA |    NA |\n",
       "\n"
      ],
      "text/plain": [
       "                                                        Df  SumOfSqs  R2       \n",
       "md_Samples[, colnames(md_Samples) == \"ATTRIBUTE_Month\"]   2  385177.2 0.2366727\n",
       "Residual                                                177 1242290.8 0.7633273\n",
       "Total                                                   179 1627468.0 1.0000000\n",
       "                                                        F        Pr(>F)\n",
       "md_Samples[, colnames(md_Samples) == \"ATTRIBUTE_Month\"] 27.43978 0.001 \n",
       "Residual                                                      NA    NA \n",
       "Total                                                         NA    NA "
      ]
     },
     "metadata": {},
     "output_type": "display_data"
    }
   ],
   "source": [
    "adonres <- adonis2(distm ~ md_Samples[,colnames(md_Samples) == 'ATTRIBUTE_Month'])\n",
    "adonres"
   ]
  },
  {
   "cell_type": "markdown",
   "id": "7568b50e",
   "metadata": {
    "id": "m1OgAym4hXWJ"
   },
   "source": [
    "<p style='text-align: justify;'> The PERMANOVA test result tells us that there is a significant difference in the metabolomic profiles of seawater sampled during different months (PERMANOVA, P < 0.05, Adonis R2 = 0.2367) and that app. 23% of the variation in our data can be explained by month of sampling. As we already could clearly observe in the PCoA plot, this means that there are strong differences between the chemotypes of seawater sampled during different months. </p>"
   ]
  },
  {
   "cell_type": "markdown",
   "id": "4cbb3c9c",
   "metadata": {
    "id": "rwb6za0Rhpvz"
   },
   "source": [
    "### 5.1.2 Perform PCoA and assess separation using PERMANOVA\n",
    "\n",
    "<p style='text-align: justify;'> To speed up the analysis and so we don't have to rewrite the entire code when testing different parameters, we can define a function, which will perform a principal coordinates analysis (PCoA) using a distance metric of choice, calculate a PERMANOVA and plot results in a 2-D graph: </p>"
   ]
  },
  {
   "cell_type": "code",
   "execution_count": 146,
   "id": "5bfe0c2b",
   "metadata": {
    "id": "Vh_KSsThhqvx"
   },
   "outputs": [],
   "source": [
    "plotPCoA <- function(ft, \n",
    "                     md, \n",
    "                     distmetric = c(\"bray\",\"euclidean\", \"maximum\", \"manhattan\",\"canberra\", \"binary\", \"minkowski\"), \n",
    "                     collow = \"#810f7c\", colhigh =\"#f7fcb9\", catper = \"plate\", \n",
    "                     catcols = \"plate\", mdtype = 'categorical', \n",
    "                     cols = c('grey','black','orange','pink','darkgreen','darkred','brown','blue','skyblue3','green'),\n",
    "                     title = 'Principal coordinates plot'){\n",
    "    \n",
    "    catper <<- catper\n",
    "    distm <- vegdist(ft, method = distmetric)\n",
    "    d <- as.matrix(distm)\n",
    "\n",
    "    #Calculation perMANOVA\n",
    "    if (length(which(is.na(md[,colnames(md) == catper]))) !=0){\n",
    "          red <- as.dist(as.matrix(distm)[-which(is.na(md[,colnames(md) == catper])),-which(is.na(md[,colnames(md) == catper]))])\n",
    "          adonres <- adonis2(red ~ na.omit(md[,colnames(md) == catper]))\n",
    "          Rsq <- adonres$R2[1]\n",
    "          pval <- adonres$'Pr(>F)'[1]\n",
    "        } else {\n",
    "          adonres <- adonis2(distm ~ md[,colnames(md) == catper])\n",
    "          Rsq <- adonres$R2[1]\n",
    "          pval <- adonres$'Pr(>F)'[1]\n",
    "        }\n",
    "\n",
    "\n",
    "   #computing multi-dimensional scaling on distance matrix\n",
    "    PcoA <- cmdscale(distm, k =10, eig = T, add = T) # k=10 gets the first 10 Principal coordinates or PCOs\n",
    "    PcoA_points <- as.data.frame(PcoA$points) #getting the PCOs into dataframe\n",
    "    variance <- round(PcoA$eig*100/sum(PcoA$eig),1) # getting the variance explained by each PCo\n",
    "    names(PcoA_points)[1:10] <- paste0('PCoA', seq(1,10))  #naming the 10 PCos\n",
    "    PcoA_points$Group <- md[,colnames(md) == catcols][match(rownames(PcoA_points),rownames(md))]\n",
    "    \n",
    "    # plot\n",
    "    cbPalette <- cols\n",
    "\n",
    "    if (mdtype == 'continuous'){\n",
    "        Tr_PcoA <- ggplot(PcoA_points, # plot on PCoA_points dataframe\n",
    "                            aes(x = PCoA1, y = PCoA2, colour = Group, label = row.names(PcoA))) +\n",
    "        geom_point(size=2.5) +\n",
    "        scale_colour_gradient(low = collow, high = colhigh,space = \"Lab\", na.value = \"grey50\", guide = \"colourbar\",aesthetics = \"colour\") + \n",
    "        xlab(paste('PCoA1',variance[1],'%', sep = ' ')) +\n",
    "        ylab(paste('PCoA2',variance[2],'%', sep = ' ')) +\n",
    "        ggtitle(paste(title,paste0(\"(p=\",round(pval,4),\",\"),paste0(\"adonis-R2=\",round(Rsq,4),\")\"),sep=\" \")) +\n",
    "        theme(panel.background = element_blank(),\n",
    "              panel.border = element_rect(colour = \"black\", fill=NA, size=1)) \n",
    "\n",
    "        } else {\n",
    "        Tr_PcoA <- ggplot(PcoA_points, \n",
    "                          aes(x = PCoA1, y = PCoA2, colour = Group, label = row.names(PcoA))) + \n",
    "        geom_point(size=2.5) +\n",
    "        scale_colour_manual(values = cbPalette) +\n",
    "        xlab(paste('PCoA1',variance[1],'%', sep = ' ')) +\n",
    "        ylab(paste('PCoA2',variance[2],'%', sep = ' ')) +\n",
    "        ggtitle(paste(title,paste0(\"(p=\",round(pval,4),\",\"),paste0(\"adonis-R2=\",round(Rsq,4),\")\"),sep=\" \")) +\n",
    "        theme(panel.background = element_blank(),\n",
    "              panel.border = element_rect(colour = \"black\", fill=NA, size=1)) \n",
    "        }\n",
    "    \n",
    "    print(Tr_PcoA)\n",
    "}\n"
   ]
  },
  {
   "cell_type": "markdown",
   "id": "4fe1dff8",
   "metadata": {
    "id": "6M4lxNyRhx6B"
   },
   "source": [
    "<font size=3> **Parameters to define when using the plotPCoA function:**</font><br>\n",
    "By defining different parameters within the plotPCoA function, we can quickly draw the same PCoA plot as above and retrieve PERMANOVA test results at the same time. <br>\n",
    "\n",
    "- **distmetric:** A distance metric of your choice, including \"bray\", \"euclidean\", \"maximum\", \"manhattan\",\"canberra\", \"binary\", or \"minkowski\".\n",
    "- **catper:** How should the samples be grouped for PERMANOVA, this can be any column name of your metadata.\n",
    "- **catcols:** According to what groups should the samples be colored on the PCoA, this can be any column name of your metadata.\n",
    "- **mdtype: Either 'categorical' or 'continuous'**, this value defines whether a continuous or categorical color scale should be used for the PCoA.\n",
    "- **cols:** Colors used for plotting the groups in the PCoA. The length of this object should be equal to the number of groups plotted.\n",
    "- **title:** Any title of your choice you want to give the plot.<br>"
   ]
  },
  {
   "cell_type": "code",
   "execution_count": 147,
   "id": "2f0f7fba",
   "metadata": {
    "id": "Nhoaxu5iiDbw"
   },
   "outputs": [
    {
     "data": {
      "image/png": "[encoded data removed]",
      "text/plain": [
       "plot without title"
      ]
     },
     "metadata": {
      "image/png": {
       "height": 480,
       "width": 480
      }
     },
     "output_type": "display_data"
    }
   ],
   "source": [
    "#svglite('PCoA_imputed-scaled_euclidean_Month.svg', width=10, height=10, bg='white') #uncomment to save as svg plot\n",
    "\n",
    "plotPCoA(Imp_s, #desired feature table\n",
    "         md_Samples, #corresponding metadata table\n",
    "         distmetric = \"euclidean\", #desired distance metric\n",
    "         catper = \"ATTRIBUTE_Month\", #desired group for permanova calculation\n",
    "         catcols = \"ATTRIBUTE_Month\", #coloring the scores based on this group\n",
    "         mdtype = 'categorical', #type of the desired group\n",
    "         cols = c('orange','darkgreen','red','blue','black'),\n",
    "         title = 'Principal coordinates plot') #change the title as you prefer\n",
    "\n",
    "#dev.off() #uncomment while saving as svg plot"
   ]
  },
  {
   "cell_type": "markdown",
   "id": "b0179982",
   "metadata": {
    "id": "BoX4OwpuikPy"
   },
   "source": [
    "We can also test a different distance metric and look at the separation of samples. During data cleanup, we imputed all zero values. However, we can also use different distance metric that can deal better with missing values (e.g. Canberra)."
   ]
  },
  {
   "cell_type": "markdown",
   "id": "992cf9a4",
   "metadata": {},
   "source": [
    "We can also test whether there a significant differences in metabolomic profiles between different sample areas"
   ]
  },
  {
   "cell_type": "code",
   "execution_count": 149,
   "id": "999f4637",
   "metadata": {},
   "outputs": [
    {
     "data": {
      "image/png": "[encoded data removed]",
      "text/plain": [
       "plot without title"
      ]
     },
     "metadata": {
      "image/png": {
       "height": 480,
       "width": 480
      }
     },
     "output_type": "display_data"
    }
   ],
   "source": [
    "#svglite('PCoA_Imp_Scaled_NoCentering_bray_SampleArea.svg', width=10, height=10, bg='white') #uncomment to save as svg plot\n",
    "\n",
    "plotPCoA(Imp_s, # not-centered, but scaled data\n",
    "         md_Samples, \n",
    "         distmetric = \"canberra\", #canberra distance is used\n",
    "         catper = \"ATTRIBUTE_Sample_Area\", # now a different group is used\n",
    "         catcols = \"ATTRIBUTE_Sample_Area\", \n",
    "         mdtype = 'categorical', \n",
    "         cols = c('orange','darkgreen','red','blue','black','grey','purple'),\n",
    "         title = 'Principal coordinates plot')\n",
    "\n",
    "#dev.off() #uncomment while saving as svg plot"
   ]
  },
  {
   "cell_type": "markdown",
   "id": "a3577042",
   "metadata": {},
   "source": [
    "The results tell us that there are significant differences in the metabolomic profiles of seawater collected at different sampling areas (PERMANOVA p-value < 0.05). However, the differences are not as strong as the differences observed for month of sampling with only 7% (R2=0.0722) of the variation in the data explained by sampling area."
   ]
  },
  {
   "cell_type": "markdown",
   "id": "d9353bac-b69e-499a-af96-337f2beb6d9f",
   "metadata": {},
   "source": [
    "# <font color = 'blue'>  7. Conclusion </font>\n",
    "<a name=\"outro\"></a>"
   ]
  },
  {
   "cell_type": "code",
   "execution_count": null,
   "id": "d5244fc5-cf13-4811-9e41-87858801d842",
   "metadata": {},
   "outputs": [],
   "source": [
    "sessionInfo() # to see all the information about the current R session"
   ]
  },
  {
   "cell_type": "markdown",
   "id": "80b8d2f8-a242-4180-9dfa-9973587c4248",
   "metadata": {},
   "source": [
    "### Getting output files from Google Colab\n",
    "For Google Collab users, we can zip the result folder which contains all the output files using the next cell and download the zip file directly from the folder \"/content/My_TestData\" into the local system."
   ]
  },
  {
   "cell_type": "code",
   "execution_count": null,
   "id": "6eee3890-19e1-457d-8aea-4694a388a196",
   "metadata": {},
   "outputs": [],
   "source": [
    "#Only for Google Colab\n",
    "utils::zip(zipfile = 'TestData_Workflow_Results', files = \"/content/My_TestData_Workflow_Results/\")"
   ]
  }
 ],
 "metadata": {
  "colab": {
   "provenance": []
  },
  "kernelspec": {
   "display_name": "R",
   "language": "R",
   "name": "ir"
  },
  "language_info": {
   "codemirror_mode": "r",
   "file_extension": ".r",
   "mimetype": "text/x-r-source",
   "name": "R",
   "pygments_lexer": "r",
   "version": "4.1.3"
  },
  "toc": {
   "base_numbering": 1,
   "nav_menu": {},
   "number_sections": true,
   "sideBar": true,
   "skip_h1_title": false,
   "title_cell": "Table of Contents",
   "title_sidebar": "Contents",
   "toc_cell": false,
   "toc_position": {
    "height": "calc(100% - 180px)",
    "left": "10px",
    "top": "150px",
    "width": "301.797px"
   },
   "toc_section_display": true,
   "toc_window_display": true
  },
  "toc-autonumbering": false,
  "toc-showcode": false,
  "toc-showmarkdowntxt": false,
  "toc-showtags": false
 },
 "nbformat": 4,
 "nbformat_minor": 5
}
