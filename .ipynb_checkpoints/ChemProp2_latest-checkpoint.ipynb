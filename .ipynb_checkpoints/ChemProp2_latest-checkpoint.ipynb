{
 "cells": [
  {
   "cell_type": "markdown",
   "id": "19473e13",
   "metadata": {},
   "source": [
    "# ChemProp2: Prioritizing Biotransformations in non-targeted metabolomics Data"
   ]
  },
  {
   "cell_type": "markdown",
   "id": "f95d371c",
   "metadata": {
    "id": "55766981"
   },
   "source": [
    "**Updated on:** 2023-03-06 14:17:28 CET\n",
    "\n",
    "In this Jupyter Notebook we perform correlation between a node pair in a molecular network to know if there is a potential biotransformation.\n",
    "\n",
    "<div class=\"alert alert-block alert-info\">\n",
    "    \n",
    "**Authors**: Abzer Kelminal (abzer.shah@uni-tuebingen.de), Daniel Petras (daniel.petras@uni-tuebingen.de)<br>\n",
    "**Input files**: Feature table, metadata, network node pair file, annotation file (optional) <br>\n",
    "**Input file format**: .txt,.tsv and .csv files <br>\n",
    "**Outputs**: .csv files, .pdf & .svg images  <br>\n",
    "**Dependencies:** ggplot2, dplyr, svglite\n",
    "    \n",
    "The session info at the end of this notebook gives info about the versions of all the packages used here.\n",
    "    </div>"
   ]
  },
  {
   "cell_type": "markdown",
   "id": "c233c371-004a-4c5d-80ed-9162988a3787",
   "metadata": {},
   "source": [
    "A guide on how to run R within a Jupyter Notebook can be found here: [Installing via Anaconda Navigator](https://github.com/Functional-Metabolomics-Lab/Jupyter-Notebook-Installation/blob/main/Anaconda_Rkernel_installation_JupyterNotebook_JupyterLab.pdf), [Installation of R Jupyter Notebook through command terminal](https://developers.refinitiv.com/en/article-catalog/article/setup-jupyter-notebook-r)"
   ]
  },
  {
   "cell_type": "markdown",
   "id": "f0d4c4db-e4ce-4657-9339-674d5537429f",
   "metadata": {},
   "source": [
    "---\n",
    "\n",
    "<b> Before starting to run this notebook with your own data, remember to save a copy of this notebook in your own Google Drive! Do so by clicking on File &rarr; Save a copy in Drive. You can give whatever meaningful name to your notebook.\n",
    "This file should be located in a new folder of your Google Drive named 'Colab Notebooks'. You can also download this notebook: File &rarr; Download &rarr; Download .ipynb.</b>\n",
    "\n",
    "---"
   ]
  },
  {
   "cell_type": "markdown",
   "id": "2d6d122b-5daa-4ee2-9a28-3a7e7504ac7a",
   "metadata": {},
   "source": [
    "<div class=\"alert alert-block alert-warning\">\n",
    "<b><font size=3> SPECIAL NOTE: Please read the comments before proceeding with the code and let us know if you run into any errors and if you think it could be commented better. We would highly appreciate your suggestions and comments!!</font> </b> </div>"
   ]
  },
  {
   "cell_type": "markdown",
   "id": "84f52a93-d4c6-4a18-8196-8291f09ecbe5",
   "metadata": {
    "tags": []
   },
   "source": [
    "# <font color ='blue'> 1. Introduction </font>\n",
    "<a name='intro'></a>\n",
    "\n",
    "<font size=3><i>(To be edited) </i></br>\n",
    "    \n",
    "-  <p style='text-align: justify;'> Using this notebook, you will be able to determine the Chemical Proportionality (also known as ChemProp2) scores of the putative pairs in your feature-based molecular network (FBMN) and prioritize potential biotransformations within those networks. </p>\n",
    "-  <p style='text-align: justify;'> The ChemProp2 script uses information from FBMN ouput, such as Network edge pair file, which contains information about all the pairs of nodes in a feature-based molecular network, the pairs being two structurally or chemically related compounds that are connected by an edge in the network.</p>\n",
    "-  <p style='text-align: justify;'> <font color='red'>It is important to have sequential data (with respect to time or space) to perform ChemProp2 and a minimum of 2 sequential points (eg: a starting timepoint and an end timepoint) are necessary to observe the biotransformation.</font> ChemProp2 considers all data points in the sequence to find the correlation score between these possibly related compounds. </p> \n",
    "-  <p style='text-align: justify;'><b>The score ranges from -1 to 1. The + or - sign indicates the direction of potential biotransformation and the value between 0 and 1 indicates the strength of correlation.</b>  These scores can be then used to prioritize and visualize the directionality of these potential biochemical alterations directly in the molecular network. </p>\n",
    "\n",
    "[Click the link for a better understanding of ChemProp2](https://www.functional-metabolomics.com/chemprop2)\n",
    "<i>(Link to be changed in the future) </i>\n",
    "\n",
    "---"
   ]
  },
  {
   "cell_type": "markdown",
   "id": "4f9bfddc-f1c8-4c07-a96d-e3799a010038",
   "metadata": {
    "tags": []
   },
   "source": [
    "## The input files needed for ChemProp:\n",
    "<font color='red'>(To be edited)</font>\n",
    "\n",
    "1. <p style='text-align: justify;'> <b> Feature table (or Quantification table): </b> A typical output file of an LC-MS/MS metabolomics experiment, containing all mass spectral features (or peaks) with their corresponding relative intensities across samples. The feature table we use in this tutorial was obtained from MZmine3. (Filetype: .csv file) </p>\n",
    "2. <p style='text-align: justify;'> <b> Metadada: </b> An Excel file saved in .txt format that is created by the user, providing additional information about the samples (e.g. sample type, tissue type, species, timepoint of collection etc.) In this tutorial we are using the <a href=\"https://ccms-ucsd.github.io/GNPSDocumentation/metadata/\">metadata format recognized by GNPS workflows</a>. The first column should be named 'filename' and all remaining column headers should be prefixed with ATTRIBUTE_: e.g. ATTRIBUTE_SampleType, ATTRIBUTE_timepoint etc. (Filetype: .txt file) </p>\n",
    "3. <p style='text-align: justify;'><b> Network edge file </b> has the information of Feature IDs that are similar (not the same) in the columns 'Feature_ID_1' & 'Feature_ID_2'. This file is an output of GNPS </p>\n",
    "4. <b> OPTIONAL: Annotation table </b> <br>\n",
    "   One can provide the files for molecular annotations such as SIRIUS, CANOPUS, and GNPS annotation files.\n",
    "      - SIRIUS performs molecular formula prediction.\n",
    "      - CANOPUS performs chemical class predictions.\n",
    "      - GNPS annotation files are obtained by performing FBMN analysis on the feature table.\n",
    "<a href=\"https://gnps.ucsd.edu/ProteoSAFe/status.jsp?task=43cf48acbe24401e84a50ab2069b3d26\">The FBMN job is also publicly available.</a> <i> (change the link)</p>"
   ]
  },
  {
   "cell_type": "markdown",
   "id": "43a74f62-220a-4c4d-9024-de646c57e880",
   "metadata": {},
   "source": [
    "   <p style='text-align: justify;'>FBMN also offers the option to annotate compounds through GNPS spectral library search or an advanced analog search. These annotated files can be found in the sub-folders <b>\"DB_result\"</b> and <b>\"DB_analog_result\"</b> (if analog search is performed). Analog search method searches for structurally related molecules within the molecular network using a score threshold, such as a minimum cosine score that MS/MS spectra should achieve in spectral matching with MS/MS spectral libraries to be considered an annotation.</p>\n",
    "\n",
    "Feature table and metadata used in this tutorial can be accessed at <a href=\"https://github.com/Functional-Metabolomics-Lab/ChemProp2/tree/main/ChemProp2_%20Test\">our Functional Metabolomics Git Repository.</a>\n",
    "\n",
    "\n",
    "[![More on MZmine](https://img.shields.io/badge/More%20on-MZmine-blue)](https://www.nature.com/articles/s41587-023-01690-2)\n",
    "[![More on GNPS](https://img.shields.io/badge/More%20on-GNPS-informational)](https://www.nature.com/articles/nbt.3597#Abs2)\n",
    "[![More on FBMN](https://img.shields.io/badge/More%20on-FBMN-blue)](https://www.nature.com/articles/s41592-020-0933-6) \n",
    "[![More on SIRIUS](https://img.shields.io/badge/More%20on-SIRIUS-blue)](https://boecker-lab.github.io/docs.sirius.github.io/)\n",
    "\n",
    "---"
   ]
  },
  {
   "cell_type": "markdown",
   "id": "d4a453c4-2a30-434a-bb33-5463aeb94220",
   "metadata": {
    "tags": []
   },
   "source": [
    "# <font color ='blue'> 2. Preliminary setup for the notebook </font>\n",
    "<a name='Section-2'>"
   ]
  },
  {
   "cell_type": "markdown",
   "id": "c3a7637c",
   "metadata": {
    "id": "a4705b9a",
    "tags": []
   },
   "source": [
    "## <font color ='darkblue'> 2.1 Package installation </font>\n",
    "<a id = 'pkg_install'></a>"
   ]
  },
  {
   "cell_type": "code",
   "execution_count": 1,
   "id": "cda5d267-a607-4e22-aaf4-5222834a6e4a",
   "metadata": {},
   "outputs": [],
   "source": [
    "options(install.packages.compile.from.source=\"never\")"
   ]
  },
  {
   "cell_type": "code",
   "execution_count": 2,
   "id": "5511b39c-eff4-4f3d-9248-6856e2e0b837",
   "metadata": {},
   "outputs": [
    {
     "name": "stderr",
     "output_type": "stream",
     "text": [
      "Loading required package: pacman\n",
      "\n"
     ]
    }
   ],
   "source": [
    "if (!require(\"pacman\")) install.packages(\"pacman\") #Installing pacman if not present"
   ]
  },
  {
   "cell_type": "markdown",
   "id": "43789224-c865-46de-96df-039ec1afb47c",
   "metadata": {},
   "source": [
    "<font color=\"red\"><font size=3> Installation will take about 15 mins !!</font>"
   ]
  },
  {
   "cell_type": "code",
   "execution_count": 3,
   "id": "e77a734c-9896-48b5-bf3b-f308369c22cb",
   "metadata": {},
   "outputs": [],
   "source": [
    "pacman::p_load(\"tidyverse\",\"factoextra\",\"KODAMA\",\"vegan\",\"IRdisplay\",\"svglite\")"
   ]
  },
  {
   "cell_type": "markdown",
   "id": "b74b158b-15bd-4c06-b8ed-64cbba8f50e9",
   "metadata": {},
   "source": [
    "- tidyverse - used for data science. The eight core packages inside this library are: ggplot2 (data visualisation), dplyr (data manipulation), tidyr, readr, purrr, tibble, stringr, and forcats\n",
    "- factoextra - for extracting and visualizing outputs of multivariate analyses such as PCA, k-means\n",
    "- vegan - popular library for analysing ecological diversity and for multivariate analysis of community data. Here, we use it for PCoA\n",
    "- IRdisplay - better display of output cells in Jupyter Notebooks running iwth IRKernel. Library not needed when running the script in RStudio\n",
    "- KODAMA - to use the normalisation function\n",
    "- svglite - to save plots in .svg format: although 'ggsave' function is provided in ggplot2 to save as .svg, for plots that are not ggplots, such as heatmaps, 'ggsave' will not work. Hence, we use svglite\n",
    "- ggsci - provides color palettes for ggplot2 that can be used for scientific journals\n",
    "- matrixStats - contains highly optimized functions to perform statistics on matrix data\n",
    "- cowplot - efficient functions to arrange several plots"
   ]
  },
  {
   "cell_type": "markdown",
   "id": "04ab1caf",
   "metadata": {},
   "source": [
    "We also set some global options to adjust plot size throughout the notebook"
   ]
  },
  {
   "cell_type": "code",
   "execution_count": 4,
   "id": "1dd6d9cf",
   "metadata": {
    "id": "2cdbe42b-a042-4416-b754-096abd19273f"
   },
   "outputs": [],
   "source": [
    "#Global settings for plot size in the output cell:\n",
    "options(repr.plot.width=10, repr.plot.height=10,res=600) # the parameters: width, height & resolution can be changed"
   ]
  },
  {
   "cell_type": "markdown",
   "id": "6cf2facd",
   "metadata": {
    "tags": []
   },
   "source": [
    "## <font color ='darkblue'> 2.2 Setting a local working directory </font>\n",
    "<a name = \"set_dir\"></a>\n",
    "\n",
    "<p style='text-align: justify;'> When we set a folder (or directory) as the working directory, we can access the files within the folder just by its names without mentioning the entire file path everytime we use it. Also, all the output files will be saved under the working directory. So, before proceeding with the script further, if you are trying to use your own files for the notebook, then please make sure to include all the necessary input files in one local folder and set it as your working directory. </p>"
   ]
  },
  {
   "cell_type": "markdown",
   "id": "00513f7e-26f3-4dd7-be00-030d4c04659c",
   "metadata": {},
   "source": [
    "<div class=\"alert alert-block alert-warning\">\n",
    "<b>NOTE:</b> When you run the next cell, it will display an output box where you can simply enter the path of the folder containing all your input files in your local computer. For example: D:\\User\\Project\\Test_Data </div>"
   ]
  },
  {
   "cell_type": "markdown",
   "id": "f48d16ea-4ab7-426a-9870-ef421ddec5ef",
   "metadata": {},
   "source": [
    "It will be set as your working directory and you can access all the files within it. <b> Whenever you see an output box asking for user input, please note, the script will not proceed further without your input. Hence, make sure to run the notebook cell-by-cell instead of running all cells in the notebook simultaneously. </b> "
   ]
  },
  {
   "cell_type": "markdown",
   "id": "0018adcc-8ef6-4aa9-bb26-e05f009213a1",
   "metadata": {},
   "source": [
    "<p style='text-align: justify;'>In Google Colab homepage &rarr; there are 3 icons on the upper left corner. Click on the 3 dots to see the contents of the notebook. To create a folder with your input files, click on the folder icon &rarr; Right-click anywhere on the empty space within the left section in Google Colab &rarr; Select 'new folder' &rarr; Copy the path and paste in the output box of next cell </p>"
   ]
  },
  {
   "cell_type": "code",
   "execution_count": 5,
   "id": "d69c4520",
   "metadata": {},
   "outputs": [
    {
     "name": "stdin",
     "output_type": "stream",
     "text": [
      "Enter the folder path in the output box:  D:\\Projects\\Abzer\\ChemProp2\\20220907_Avermectin_GutBacteria\\ChemProp Inputs\n"
     ]
    }
   ],
   "source": [
    "Directory <- normalizePath(readline(\"Enter the folder path in the output box: \"),\"/\",mustWork=FALSE)\n",
    "setwd(Directory)"
   ]
  },
  {
   "cell_type": "markdown",
   "id": "cc5688cd-9f18-4233-b783-79122dd12bb1",
   "metadata": {},
   "source": [
    "### Creating a result directory to store all the output files:"
   ]
  },
  {
   "cell_type": "code",
   "execution_count": 14,
   "id": "13063c33-26c5-43cc-9646-f2083594a2c3",
   "metadata": {},
   "outputs": [],
   "source": [
    "# Getting all the files in the folder\n",
    "dirs <- dir(path=paste(getwd(), sep=\"\"), full.names=TRUE, recursive=TRUE)\n",
    "folders <- unique(dirname(dirs))\n",
    "files <- list.files(folders, full.names=TRUE)\n",
    "files_1 <- basename((files))\n",
    "files_2 <- dirname((files))\n",
    "\n",
    "# Creating a Result folder\n",
    "fName <-paste(files_2[[1]],\"_\",format(Sys.Date(), \"%Y%m%d\"),\"_ChemProp2_Results\", sep=\"\")\n",
    "dir.create(path=fName, showWarnings = TRUE)"
   ]
  },
  {
   "cell_type": "markdown",
   "id": "5f7f6e30-c00c-421a-9f29-3d0db1afe803",
   "metadata": {},
   "source": [
    "---"
   ]
  },
  {
   "cell_type": "markdown",
   "id": "e36d2e95-e7b3-4ed5-8257-0b5cb416af61",
   "metadata": {},
   "source": [
    "## <font color ='darkblue'> 2.3 Loading in and exploring the input files </font>\n",
    "<a name='load_ip'></a>"
   ]
  },
  {
   "cell_type": "markdown",
   "id": "4e272bf2-c214-4f2a-b842-bca077570b2c",
   "metadata": {},
   "source": [
    "<b>To upload files into Google Colab &rarr; Right-click on the folder you created to 'upload' the necessary files from your computer into the cloud session.</b>"
   ]
  },
  {
   "cell_type": "markdown",
   "id": "d76ab4e2",
   "metadata": {
    "id": "3a31eafc",
    "tags": []
   },
   "source": [
    "### 2.3.1 Loading the data: Use one of the methods \n",
    "We can load the data files into the script either from the local working directory or from the web using url."
   ]
  },
  {
   "cell_type": "markdown",
   "id": "33f0b237-10a1-401e-afa0-3012fddc9c7f",
   "metadata": {
    "tags": []
   },
   "source": [
    "#### a. Loading files from a local folder"
   ]
  },
  {
   "cell_type": "markdown",
   "id": "c2f75c46-a18d-4f8b-b323-64458bdb95f7",
   "metadata": {},
   "source": [
    "Please make sure to include all the necessary input files in the folder you have set as working directory"
   ]
  },
  {
   "cell_type": "code",
   "execution_count": 23,
   "id": "314b8fef",
   "metadata": {},
   "outputs": [
    {
     "name": "stdout",
     "output_type": "stream",
     "text": [
      "[ 1 ] 20220919_GutBacteria_Avermectin_quant.csv \n",
      "[ 2 ] 20220919_metadata_avermectin_gutbacteria.txt \n",
      "[ 3 ] 2023-07-16_Blanks_Removed_with_cutoff_0.3.csv \n",
      "[ 4 ] clustersummary_file.tsv \n",
      "[ 5 ] DB_analogresult.tsv \n",
      "[ 6 ] DB_result.tsv \n",
      "[ 7 ] Final_metadata_without_blanks.csv \n",
      "[ 8 ] Helper_functions_Chemprop2.ipynb \n",
      "[ 9 ] Helper_functions_Chemprop2.r \n",
      "[ 10 ] network_edge.tsv \n",
      "[ 11 ] Normalised_Quant_table.csv \n"
     ]
    }
   ],
   "source": [
    "file_names <- list.files('.') #list all the files in the working directory (mentioned by 'dot symbol')\n",
    "\n",
    "# Loop through file_names and print each filename\n",
    "for (i in 1:length(file_names)) {\n",
    "  cat(\"[\",i,\"]\", file_names[i], \"\\n\")\n",
    "}"
   ]
  },
  {
   "cell_type": "markdown",
   "id": "3ac6bd36-b22d-45b8-9a06-affb874dc136",
   "metadata": {},
   "source": [
    "<p style='text-align: justify;'><font color=\"red\"> For your own dataset, change the file numbers in the next cell accordingly. </font> Here, we are importing three tables: the feature table (<b>ft</b>), the metadata table (<b>md</b>), and the network node pair table (<b>nw</b>).</p> "
   ]
  },
  {
   "cell_type": "code",
   "execution_count": 24,
   "id": "922e36cb-dc35-4a4d-8378-c7df5f4c1c9f",
   "metadata": {},
   "outputs": [],
   "source": [
    "ft <- read.csv(file_names[1], header = T, check.names = F)             \n",
    "md <- read.csv(file_names[2], header = T, check.names = F, sep = '\\t') # mention seperator as \"\\t\"(tab-separated) in case of txt or tsv files\n",
    "nw <- read.csv(file_names[10], header = T, check.names = F, sep = '\\t') #network edge file"
   ]
  },
  {
   "cell_type": "markdown",
   "id": "9b599a08-0aa6-4485-9ecb-c1c6bd0afdcc",
   "metadata": {},
   "source": [
    "Give the annotation files if you have:"
   ]
  },
  {
   "cell_type": "code",
   "execution_count": 25,
   "id": "106b9c55-3325-40cb-a3cd-59be6379e9b7",
   "metadata": {},
   "outputs": [],
   "source": [
    "gnps_an <- read.csv(file_names[5], header = T, check.names = F, sep = '\\t')\n",
    "gnps <- read.csv(file_names[6], header = T, check.names = F, sep = '\\t')\n",
    "\n",
    "#give names for sirius and canopus as well if present. As of now, lets try adding annotations for gnps alone"
   ]
  },
  {
   "cell_type": "markdown",
   "id": "f2619482-7632-4048-a56a-506fd21cccf6",
   "metadata": {},
   "source": [
    "<p style='text-align: justify;'>When importing each file, it is important to ensure that the separator used is specified correctly. By default, the read.csv function uses a comma (',') as the separator. However, if you are importing files with different separators, you will need to change the separator parameter accordingly.</p>"
   ]
  },
  {
   "cell_type": "markdown",
   "id": "5af17ffe-9e3c-4a4f-bdc4-b39b25690acf",
   "metadata": {},
   "source": [
    "Once the files are loaded, you can view the files as shown in [Section 2.3.3](#view_ip)"
   ]
  },
  {
   "cell_type": "markdown",
   "id": "99803004-bf40-4142-8e2c-15355861c14e",
   "metadata": {
    "tags": []
   },
   "source": [
    "#### b. Loading files using URL (skip this now)"
   ]
  },
  {
   "cell_type": "markdown",
   "id": "79c23612-4e5d-430d-a644-3a7ab26f4d46",
   "metadata": {},
   "source": [
    "<p style='text-align: justify;'> In this section, we provide an example of how to retrieve data from a URL. If you are working with your own dataset in a Google Colab environment, you can obtain the file URL by first loading the input files into the Colab workspace, right-clicking on the file, selecting \"Copy path\", and then replacing the URL in the subsequent cell.</p>"
   ]
  },
  {
   "cell_type": "code",
   "execution_count": 17,
   "id": "f324201b",
   "metadata": {
    "id": "7988ffd6"
   },
   "outputs": [],
   "source": [
    "ft_url <- 'https://raw.githubusercontent.com/Functional-Metabolomics-Lab/ChemProp2/main/ChemProp2_%20Test/feature_table_ChemProp2.txt'\n",
    "md_url <- 'https://raw.githubusercontent.com/Functional-Metabolomics-Lab/ChemProp2/main/ChemProp2_%20Test/metadata_ChemProp2.txt'\n",
    "nw_url <- 'https://raw.githubusercontent.com/Functional-Metabolomics-Lab/ChemProp2/main/ChemProp2_%20Test/Network_Edges_ChemProp2.txt'"
   ]
  },
  {
   "cell_type": "markdown",
   "id": "4e75a063-3c3d-4950-8c8a-e222443e91d0",
   "metadata": {
    "tags": []
   },
   "source": [
    "#### c. Loading files directly from GNPS (skip this now)"
   ]
  },
  {
   "cell_type": "markdown",
   "id": "eb0a005b-7e48-44e9-aa9a-e5ae00371313",
   "metadata": {},
   "source": [
    "One can also load the files directly from the repositories [MassIVE](https://massive.ucsd.edu/ProteoSAFe/static/massive.jsp) or [GNPS](https://gnps.ucsd.edu/ProteoSAFe/static/gnps-splash.jsp). If one has performed FBMN on their feature table, the files (both, input and output files from FBMN) can be accessed by  providing the task ID in the next cell. Task ID can be found by:  Go to your <b>MassIVE</b> or <b>GNPS</b> account &rarr; Jobs &rarr; unique ID is provided for each job in  'Description' column.\n",
    "\n",
    "<table>\n",
    "<thead>\n",
    "<tr><th>Description</th><th>User</th><th>Workflow</th><th>Workflow Version</th><th>Status</th><th>Protected</th><th>Create Time</th><th>Total Size</th><th>Site</th><th>Delete Task</th></tr>\n",
    "</thead>\n",
    "<tbody>\n",
    "<tr><td><font color=\"red\">ID given here</font></td><td>-</td><td>FBMN</td><td>-</td><td>-</td><td>-</td><td>-</td><td>-</td><td>GNPS</td><td>-</td></tr>\n",
    "</tbody>\n",
    "</table>"
   ]
  },
  {
   "cell_type": "code",
   "execution_count": null,
   "id": "bb966752-dfce-4892-9329-07098ea2f64f",
   "metadata": {},
   "outputs": [],
   "source": [
    "taskID <- \"43cf48acbe24401e84a50ab2069b3d26\" # Enter the task ID here"
   ]
  },
  {
   "cell_type": "code",
   "execution_count": null,
   "id": "714d523f-9895-4eda-84c4-e1870ac60aa1",
   "metadata": {},
   "outputs": [],
   "source": [
    "ft_url <- paste0('https://proteomics2.ucsd.edu/ProteoSAFe/DownloadResultFile?task=',taskID,'&file=quantification_table_reformatted/&block=main')\n",
    "an_url <- paste0('https://proteomics2.ucsd.edu/ProteoSAFe/DownloadResultFile?task=',taskID,'&file=DB_analogresult/&block=main')\n",
    "md_url <- paste0('https://proteomics2.ucsd.edu/ProteoSAFe/DownloadResultFile?task=',taskID,'&file=metadata_merged/&block=main')"
   ]
  },
  {
   "cell_type": "markdown",
   "id": "5fbb9058-be41-452c-a089-ba0fbcab22e9",
   "metadata": {},
   "source": [
    "<blockquote>Make sure your metadata has enough columns (ATTRIBUTES) describing your data. The metadata given for FBMN might contain only few columns, however for downstream statistical analysis, one might need more attributes. In such cases, load the metadata file from a local folder</blockquote>"
   ]
  },
  {
   "cell_type": "markdown",
   "id": "9c6834f6-38a4-407f-b7fa-c098150b4cf2",
   "metadata": {},
   "source": [
    "### 2.3.2 Reading the url from options b,c"
   ]
  },
  {
   "cell_type": "code",
   "execution_count": null,
   "id": "ab4eaa9a",
   "metadata": {
    "id": "3ad9e910"
   },
   "outputs": [],
   "source": [
    "ft <- read.csv(ft_url, header = T, check.names = F, sep = '\\t') \n",
    "md <- read.csv(md_url, header = T, check.names = F, sep = '\\t')\n",
    "nw <- read.csv(nw_url, header = T, check.names = F, sep = '\\t')"
   ]
  },
  {
   "cell_type": "markdown",
   "id": "fbd66a50-5b71-4bb5-b5a3-2dbedb318223",
   "metadata": {
    "tags": []
   },
   "source": [
    "### 2.3.3 Viewing the input files\n",
    "<a id='view_ip'></a>"
   ]
  },
  {
   "cell_type": "markdown",
   "id": "8af43602",
   "metadata": {
    "id": "4f12e24c"
   },
   "source": [
    "Lets check how the data looks, the below lines of code show the first 6 rows of the feature and metadata tables as well as their dimensions (numbers of rows and columns)"
   ]
  },
  {
   "cell_type": "code",
   "execution_count": 27,
   "id": "235b4762",
   "metadata": {
    "colab": {
     "base_uri": "https://localhost:8080/",
     "height": 358
    },
    "id": "429ff705",
    "outputId": "80d5f776-afb5-408f-a5e2-8f793da4eb5f"
   },
   "outputs": [
    {
     "data": {
      "text/html": [
       "<table class=\"dataframe\">\n",
       "<caption>A data.frame: 6 × 100</caption>\n",
       "<thead>\n",
       "\t<tr><th></th><th scope=col>row ID</th><th scope=col>row m/z</th><th scope=col>row retention time</th><th scope=col>row ion mobility</th><th scope=col>row ion mobility unit</th><th scope=col>row CCS</th><th scope=col>correlation group ID</th><th scope=col>annotation network number</th><th scope=col>best ion</th><th scope=col>auto MS2 verify</th><th scope=col>...</th><th scope=col>GutBac_Rep3_t240.mzML Peak area</th><th scope=col>GutBac_Rep3_t20.mzML Peak area</th><th scope=col>GutBac_Rep3_t30.mzML Peak area</th><th scope=col>GutBac_Rep3_t720.mzML Peak area</th><th scope=col>GutBac_Rep3_t180.mzML Peak area</th><th scope=col>GutBac_Rep2_t20.mzML Peak area</th><th scope=col>GutBac_Rep2_t720.mzML Peak area</th><th scope=col>GutBac_Rep3_t1.mzML Peak area</th><th scope=col>GutBac_Rep3_t120.mzML Peak area</th><th scope=col></th></tr>\n",
       "\t<tr><th></th><th scope=col>&lt;int&gt;</th><th scope=col>&lt;dbl&gt;</th><th scope=col>&lt;dbl&gt;</th><th scope=col>&lt;lgl&gt;</th><th scope=col>&lt;lgl&gt;</th><th scope=col>&lt;lgl&gt;</th><th scope=col>&lt;int&gt;</th><th scope=col>&lt;int&gt;</th><th scope=col>&lt;chr&gt;</th><th scope=col>&lt;lgl&gt;</th><th scope=col>...</th><th scope=col>&lt;dbl&gt;</th><th scope=col>&lt;dbl&gt;</th><th scope=col>&lt;dbl&gt;</th><th scope=col>&lt;dbl&gt;</th><th scope=col>&lt;dbl&gt;</th><th scope=col>&lt;dbl&gt;</th><th scope=col>&lt;dbl&gt;</th><th scope=col>&lt;dbl&gt;</th><th scope=col>&lt;dbl&gt;</th><th scope=col>&lt;lgl&gt;</th></tr>\n",
       "</thead>\n",
       "<tbody>\n",
       "\t<tr><th scope=row>1</th><td> 524</td><td>150.0775</td><td>0.3365059</td><td>NA</td><td>NA</td><td>NA</td><td> NA</td><td>NA</td><td></td><td>NA</td><td>...</td><td> 3550.589</td><td>18084.871</td><td> 8549.794</td><td> 5532.6200</td><td> 3984.891</td><td>16944.318</td><td> 6679.828</td><td>29543.668</td><td>10915.597</td><td>NA</td></tr>\n",
       "\t<tr><th scope=row>2</th><td>3485</td><td>150.0915</td><td>2.1897998</td><td>NA</td><td>NA</td><td>NA</td><td> NA</td><td>NA</td><td></td><td>NA</td><td>...</td><td> 2634.089</td><td>15989.818</td><td> 6038.420</td><td>  771.2174</td><td> 6162.024</td><td> 7341.516</td><td> 5103.895</td><td> 8737.668</td><td> 9706.458</td><td>NA</td></tr>\n",
       "\t<tr><th scope=row>3</th><td>3214</td><td>150.0915</td><td>1.9750485</td><td>NA</td><td>NA</td><td>NA</td><td> NA</td><td>NA</td><td></td><td>NA</td><td>...</td><td> 1656.589</td><td> 3361.084</td><td> 4352.861</td><td> 4754.7285</td><td> 7141.970</td><td> 5365.618</td><td> 9812.270</td><td> 1868.412</td><td> 9656.993</td><td>NA</td></tr>\n",
       "\t<tr><th scope=row>4</th><td>3042</td><td>150.0915</td><td>1.8714100</td><td>NA</td><td>NA</td><td>NA</td><td>144</td><td>NA</td><td></td><td>NA</td><td>...</td><td>13241.183</td><td>37411.246</td><td>15790.604</td><td>17183.4000</td><td>20183.488</td><td>16907.220</td><td>46171.043</td><td>22879.967</td><td>49095.688</td><td>NA</td></tr>\n",
       "\t<tr><th scope=row>5</th><td>3626</td><td>150.0915</td><td>2.2835596</td><td>NA</td><td>NA</td><td>NA</td><td>271</td><td>NA</td><td></td><td>NA</td><td>...</td><td>29847.133</td><td>29131.953</td><td>25287.785</td><td>38065.9650</td><td>40818.773</td><td>24881.709</td><td>55919.880</td><td>31423.201</td><td>23706.062</td><td>NA</td></tr>\n",
       "\t<tr><th scope=row>6</th><td> 384</td><td>150.9512</td><td>0.2635833</td><td>NA</td><td>NA</td><td>NA</td><td> NA</td><td>NA</td><td></td><td>NA</td><td>...</td><td>    0.000</td><td>    0.000</td><td>    0.000</td><td>    0.0000</td><td>    0.000</td><td>    0.000</td><td>    0.000</td><td>    0.000</td><td>    0.000</td><td>NA</td></tr>\n",
       "</tbody>\n",
       "</table>\n"
      ],
      "text/latex": [
       "A data.frame: 6 × 100\n",
       "\\begin{tabular}{r|lllllllllllllllllllll}\n",
       "  & row ID & row m/z & row retention time & row ion mobility & row ion mobility unit & row CCS & correlation group ID & annotation network number & best ion & auto MS2 verify & ... & GutBac\\_Rep3\\_t240.mzML Peak area & GutBac\\_Rep3\\_t20.mzML Peak area & GutBac\\_Rep3\\_t30.mzML Peak area & GutBac\\_Rep3\\_t720.mzML Peak area & GutBac\\_Rep3\\_t180.mzML Peak area & GutBac\\_Rep2\\_t20.mzML Peak area & GutBac\\_Rep2\\_t720.mzML Peak area & GutBac\\_Rep3\\_t1.mzML Peak area & GutBac\\_Rep3\\_t120.mzML Peak area & \\\\\n",
       "  & <int> & <dbl> & <dbl> & <lgl> & <lgl> & <lgl> & <int> & <int> & <chr> & <lgl> & ... & <dbl> & <dbl> & <dbl> & <dbl> & <dbl> & <dbl> & <dbl> & <dbl> & <dbl> & <lgl>\\\\\n",
       "\\hline\n",
       "\t1 &  524 & 150.0775 & 0.3365059 & NA & NA & NA &  NA & NA &  & NA & ... &  3550.589 & 18084.871 &  8549.794 &  5532.6200 &  3984.891 & 16944.318 &  6679.828 & 29543.668 & 10915.597 & NA\\\\\n",
       "\t2 & 3485 & 150.0915 & 2.1897998 & NA & NA & NA &  NA & NA &  & NA & ... &  2634.089 & 15989.818 &  6038.420 &   771.2174 &  6162.024 &  7341.516 &  5103.895 &  8737.668 &  9706.458 & NA\\\\\n",
       "\t3 & 3214 & 150.0915 & 1.9750485 & NA & NA & NA &  NA & NA &  & NA & ... &  1656.589 &  3361.084 &  4352.861 &  4754.7285 &  7141.970 &  5365.618 &  9812.270 &  1868.412 &  9656.993 & NA\\\\\n",
       "\t4 & 3042 & 150.0915 & 1.8714100 & NA & NA & NA & 144 & NA &  & NA & ... & 13241.183 & 37411.246 & 15790.604 & 17183.4000 & 20183.488 & 16907.220 & 46171.043 & 22879.967 & 49095.688 & NA\\\\\n",
       "\t5 & 3626 & 150.0915 & 2.2835596 & NA & NA & NA & 271 & NA &  & NA & ... & 29847.133 & 29131.953 & 25287.785 & 38065.9650 & 40818.773 & 24881.709 & 55919.880 & 31423.201 & 23706.062 & NA\\\\\n",
       "\t6 &  384 & 150.9512 & 0.2635833 & NA & NA & NA &  NA & NA &  & NA & ... &     0.000 &     0.000 &     0.000 &     0.0000 &     0.000 &     0.000 &     0.000 &     0.000 &     0.000 & NA\\\\\n",
       "\\end{tabular}\n"
      ],
      "text/markdown": [
       "\n",
       "A data.frame: 6 × 100\n",
       "\n",
       "| <!--/--> | row ID &lt;int&gt; | row m/z &lt;dbl&gt; | row retention time &lt;dbl&gt; | row ion mobility &lt;lgl&gt; | row ion mobility unit &lt;lgl&gt; | row CCS &lt;lgl&gt; | correlation group ID &lt;int&gt; | annotation network number &lt;int&gt; | best ion &lt;chr&gt; | auto MS2 verify &lt;lgl&gt; | ... ... | GutBac_Rep3_t240.mzML Peak area &lt;dbl&gt; | GutBac_Rep3_t20.mzML Peak area &lt;dbl&gt; | GutBac_Rep3_t30.mzML Peak area &lt;dbl&gt; | GutBac_Rep3_t720.mzML Peak area &lt;dbl&gt; | GutBac_Rep3_t180.mzML Peak area &lt;dbl&gt; | GutBac_Rep2_t20.mzML Peak area &lt;dbl&gt; | GutBac_Rep2_t720.mzML Peak area &lt;dbl&gt; | GutBac_Rep3_t1.mzML Peak area &lt;dbl&gt; | GutBac_Rep3_t120.mzML Peak area &lt;dbl&gt; | <!----> &lt;lgl&gt; |\n",
       "|---|---|---|---|---|---|---|---|---|---|---|---|---|---|---|---|---|---|---|---|---|---|\n",
       "| 1 |  524 | 150.0775 | 0.3365059 | NA | NA | NA |  NA | NA | <!----> | NA | ... |  3550.589 | 18084.871 |  8549.794 |  5532.6200 |  3984.891 | 16944.318 |  6679.828 | 29543.668 | 10915.597 | NA |\n",
       "| 2 | 3485 | 150.0915 | 2.1897998 | NA | NA | NA |  NA | NA | <!----> | NA | ... |  2634.089 | 15989.818 |  6038.420 |   771.2174 |  6162.024 |  7341.516 |  5103.895 |  8737.668 |  9706.458 | NA |\n",
       "| 3 | 3214 | 150.0915 | 1.9750485 | NA | NA | NA |  NA | NA | <!----> | NA | ... |  1656.589 |  3361.084 |  4352.861 |  4754.7285 |  7141.970 |  5365.618 |  9812.270 |  1868.412 |  9656.993 | NA |\n",
       "| 4 | 3042 | 150.0915 | 1.8714100 | NA | NA | NA | 144 | NA | <!----> | NA | ... | 13241.183 | 37411.246 | 15790.604 | 17183.4000 | 20183.488 | 16907.220 | 46171.043 | 22879.967 | 49095.688 | NA |\n",
       "| 5 | 3626 | 150.0915 | 2.2835596 | NA | NA | NA | 271 | NA | <!----> | NA | ... | 29847.133 | 29131.953 | 25287.785 | 38065.9650 | 40818.773 | 24881.709 | 55919.880 | 31423.201 | 23706.062 | NA |\n",
       "| 6 |  384 | 150.9512 | 0.2635833 | NA | NA | NA |  NA | NA | <!----> | NA | ... |     0.000 |     0.000 |     0.000 |     0.0000 |     0.000 |     0.000 |     0.000 |     0.000 |     0.000 | NA |\n",
       "\n"
      ],
      "text/plain": [
       "  row ID row m/z  row retention time row ion mobility row ion mobility unit\n",
       "1  524   150.0775 0.3365059          NA               NA                   \n",
       "2 3485   150.0915 2.1897998          NA               NA                   \n",
       "3 3214   150.0915 1.9750485          NA               NA                   \n",
       "4 3042   150.0915 1.8714100          NA               NA                   \n",
       "5 3626   150.0915 2.2835596          NA               NA                   \n",
       "6  384   150.9512 0.2635833          NA               NA                   \n",
       "  row CCS correlation group ID annotation network number best ion\n",
       "1 NA       NA                  NA                                \n",
       "2 NA       NA                  NA                                \n",
       "3 NA       NA                  NA                                \n",
       "4 NA      144                  NA                                \n",
       "5 NA      271                  NA                                \n",
       "6 NA       NA                  NA                                \n",
       "  auto MS2 verify ... GutBac_Rep3_t240.mzML Peak area\n",
       "1 NA              ...  3550.589                      \n",
       "2 NA              ...  2634.089                      \n",
       "3 NA              ...  1656.589                      \n",
       "4 NA              ... 13241.183                      \n",
       "5 NA              ... 29847.133                      \n",
       "6 NA              ...     0.000                      \n",
       "  GutBac_Rep3_t20.mzML Peak area GutBac_Rep3_t30.mzML Peak area\n",
       "1 18084.871                       8549.794                     \n",
       "2 15989.818                       6038.420                     \n",
       "3  3361.084                       4352.861                     \n",
       "4 37411.246                      15790.604                     \n",
       "5 29131.953                      25287.785                     \n",
       "6     0.000                          0.000                     \n",
       "  GutBac_Rep3_t720.mzML Peak area GutBac_Rep3_t180.mzML Peak area\n",
       "1  5532.6200                       3984.891                      \n",
       "2   771.2174                       6162.024                      \n",
       "3  4754.7285                       7141.970                      \n",
       "4 17183.4000                      20183.488                      \n",
       "5 38065.9650                      40818.773                      \n",
       "6     0.0000                          0.000                      \n",
       "  GutBac_Rep2_t20.mzML Peak area GutBac_Rep2_t720.mzML Peak area\n",
       "1 16944.318                       6679.828                      \n",
       "2  7341.516                       5103.895                      \n",
       "3  5365.618                       9812.270                      \n",
       "4 16907.220                      46171.043                      \n",
       "5 24881.709                      55919.880                      \n",
       "6     0.000                          0.000                      \n",
       "  GutBac_Rep3_t1.mzML Peak area GutBac_Rep3_t120.mzML Peak area   \n",
       "1 29543.668                     10915.597                       NA\n",
       "2  8737.668                      9706.458                       NA\n",
       "3  1868.412                      9656.993                       NA\n",
       "4 22879.967                     49095.688                       NA\n",
       "5 31423.201                     23706.062                       NA\n",
       "6     0.000                         0.000                       NA"
      ]
     },
     "metadata": {},
     "output_type": "display_data"
    },
    {
     "data": {
      "text/html": [
       "<style>\n",
       ".list-inline {list-style: none; margin:0; padding: 0}\n",
       ".list-inline>li {display: inline-block}\n",
       ".list-inline>li:not(:last-child)::after {content: \"\\00b7\"; padding: 0 .5ex}\n",
       "</style>\n",
       "<ol class=list-inline><li>3412</li><li>100</li></ol>\n"
      ],
      "text/latex": [
       "\\begin{enumerate*}\n",
       "\\item 3412\n",
       "\\item 100\n",
       "\\end{enumerate*}\n"
      ],
      "text/markdown": [
       "1. 3412\n",
       "2. 100\n",
       "\n",
       "\n"
      ],
      "text/plain": [
       "[1] 3412  100"
      ]
     },
     "metadata": {},
     "output_type": "display_data"
    }
   ],
   "source": [
    "head(ft) #returns the first 6 rows as default\n",
    "dim(ft) # gives the number of rows and  columns"
   ]
  },
  {
   "cell_type": "code",
   "execution_count": 28,
   "id": "8b97f15f",
   "metadata": {
    "colab": {
     "base_uri": "https://localhost:8080/",
     "height": 428
    },
    "id": "a7bf0865",
    "outputId": "8e4c68a6-6e99-4deb-c169-bbc754a97c0f"
   },
   "outputs": [
    {
     "data": {
      "text/html": [
       "<table class=\"dataframe\">\n",
       "<caption>A data.frame: 2 × 4</caption>\n",
       "<thead>\n",
       "\t<tr><th></th><th scope=col>filename</th><th scope=col>ATTRIBUTE_sample</th><th scope=col>ATTRIBUTE_replicates</th><th scope=col>ATTRIBUTE_timepoint_minutes</th></tr>\n",
       "\t<tr><th></th><th scope=col>&lt;chr&gt;</th><th scope=col>&lt;chr&gt;</th><th scope=col>&lt;int&gt;</th><th scope=col>&lt;int&gt;</th></tr>\n",
       "</thead>\n",
       "<tbody>\n",
       "\t<tr><th scope=row>1</th><td>Avr_Bac_Rep1_t0.mzML Peak area</td><td>Avermectin + Gut bacteria</td><td>1</td><td>0</td></tr>\n",
       "\t<tr><th scope=row>2</th><td>Avr_Bac_Rep1_t1.mzML Peak area</td><td>Avermectin + Gut bacteria</td><td>1</td><td>1</td></tr>\n",
       "</tbody>\n",
       "</table>\n"
      ],
      "text/latex": [
       "A data.frame: 2 × 4\n",
       "\\begin{tabular}{r|llll}\n",
       "  & filename & ATTRIBUTE\\_sample & ATTRIBUTE\\_replicates & ATTRIBUTE\\_timepoint\\_minutes\\\\\n",
       "  & <chr> & <chr> & <int> & <int>\\\\\n",
       "\\hline\n",
       "\t1 & Avr\\_Bac\\_Rep1\\_t0.mzML Peak area & Avermectin + Gut bacteria & 1 & 0\\\\\n",
       "\t2 & Avr\\_Bac\\_Rep1\\_t1.mzML Peak area & Avermectin + Gut bacteria & 1 & 1\\\\\n",
       "\\end{tabular}\n"
      ],
      "text/markdown": [
       "\n",
       "A data.frame: 2 × 4\n",
       "\n",
       "| <!--/--> | filename &lt;chr&gt; | ATTRIBUTE_sample &lt;chr&gt; | ATTRIBUTE_replicates &lt;int&gt; | ATTRIBUTE_timepoint_minutes &lt;int&gt; |\n",
       "|---|---|---|---|---|\n",
       "| 1 | Avr_Bac_Rep1_t0.mzML Peak area | Avermectin + Gut bacteria | 1 | 0 |\n",
       "| 2 | Avr_Bac_Rep1_t1.mzML Peak area | Avermectin + Gut bacteria | 1 | 1 |\n",
       "\n"
      ],
      "text/plain": [
       "  filename                       ATTRIBUTE_sample          ATTRIBUTE_replicates\n",
       "1 Avr_Bac_Rep1_t0.mzML Peak area Avermectin + Gut bacteria 1                   \n",
       "2 Avr_Bac_Rep1_t1.mzML Peak area Avermectin + Gut bacteria 1                   \n",
       "  ATTRIBUTE_timepoint_minutes\n",
       "1 0                          \n",
       "2 1                          "
      ]
     },
     "metadata": {},
     "output_type": "display_data"
    },
    {
     "data": {
      "text/html": [
       "<style>\n",
       ".list-inline {list-style: none; margin:0; padding: 0}\n",
       ".list-inline>li {display: inline-block}\n",
       ".list-inline>li:not(:last-child)::after {content: \"\\00b7\"; padding: 0 .5ex}\n",
       "</style>\n",
       "<ol class=list-inline><li>86</li><li>4</li></ol>\n"
      ],
      "text/latex": [
       "\\begin{enumerate*}\n",
       "\\item 86\n",
       "\\item 4\n",
       "\\end{enumerate*}\n"
      ],
      "text/markdown": [
       "1. 86\n",
       "2. 4\n",
       "\n",
       "\n"
      ],
      "text/plain": [
       "[1] 86  4"
      ]
     },
     "metadata": {},
     "output_type": "display_data"
    }
   ],
   "source": [
    "head(md, n=2) #returns the first 2 rows of md\n",
    "dim(md)"
   ]
  },
  {
   "cell_type": "code",
   "execution_count": 29,
   "id": "f20438a9",
   "metadata": {},
   "outputs": [
    {
     "data": {
      "text/html": [
       "<table class=\"dataframe\">\n",
       "<caption>A data.frame: 2 × 5</caption>\n",
       "<thead>\n",
       "\t<tr><th></th><th scope=col>CLUSTERID1</th><th scope=col>CLUSTERID2</th><th scope=col>ComponentIndex</th><th scope=col>Cosine</th><th scope=col>DeltaMZ</th></tr>\n",
       "\t<tr><th></th><th scope=col>&lt;int&gt;</th><th scope=col>&lt;int&gt;</th><th scope=col>&lt;int&gt;</th><th scope=col>&lt;dbl&gt;</th><th scope=col>&lt;dbl&gt;</th></tr>\n",
       "</thead>\n",
       "<tbody>\n",
       "\t<tr><th scope=row>1</th><td>4665</td><td>5180</td><td>1</td><td>0.7252</td><td>18.010</td></tr>\n",
       "\t<tr><th scope=row>2</th><td>2991</td><td>3274</td><td>2</td><td>0.8399</td><td> 0.021</td></tr>\n",
       "</tbody>\n",
       "</table>\n"
      ],
      "text/latex": [
       "A data.frame: 2 × 5\n",
       "\\begin{tabular}{r|lllll}\n",
       "  & CLUSTERID1 & CLUSTERID2 & ComponentIndex & Cosine & DeltaMZ\\\\\n",
       "  & <int> & <int> & <int> & <dbl> & <dbl>\\\\\n",
       "\\hline\n",
       "\t1 & 4665 & 5180 & 1 & 0.7252 & 18.010\\\\\n",
       "\t2 & 2991 & 3274 & 2 & 0.8399 &  0.021\\\\\n",
       "\\end{tabular}\n"
      ],
      "text/markdown": [
       "\n",
       "A data.frame: 2 × 5\n",
       "\n",
       "| <!--/--> | CLUSTERID1 &lt;int&gt; | CLUSTERID2 &lt;int&gt; | ComponentIndex &lt;int&gt; | Cosine &lt;dbl&gt; | DeltaMZ &lt;dbl&gt; |\n",
       "|---|---|---|---|---|---|\n",
       "| 1 | 4665 | 5180 | 1 | 0.7252 | 18.010 |\n",
       "| 2 | 2991 | 3274 | 2 | 0.8399 |  0.021 |\n",
       "\n"
      ],
      "text/plain": [
       "  CLUSTERID1 CLUSTERID2 ComponentIndex Cosine DeltaMZ\n",
       "1 4665       5180       1              0.7252 18.010 \n",
       "2 2991       3274       2              0.8399  0.021 "
      ]
     },
     "metadata": {},
     "output_type": "display_data"
    },
    {
     "data": {
      "text/html": [
       "<style>\n",
       ".list-inline {list-style: none; margin:0; padding: 0}\n",
       ".list-inline>li {display: inline-block}\n",
       ".list-inline>li:not(:last-child)::after {content: \"\\00b7\"; padding: 0 .5ex}\n",
       "</style>\n",
       "<ol class=list-inline><li>2843</li><li>5</li></ol>\n"
      ],
      "text/latex": [
       "\\begin{enumerate*}\n",
       "\\item 2843\n",
       "\\item 5\n",
       "\\end{enumerate*}\n"
      ],
      "text/markdown": [
       "1. 2843\n",
       "2. 5\n",
       "\n",
       "\n"
      ],
      "text/plain": [
       "[1] 2843    5"
      ]
     },
     "metadata": {},
     "output_type": "display_data"
    }
   ],
   "source": [
    "head(nw, n=2) #returns the first 2 rows of an\n",
    "dim(nw)"
   ]
  },
  {
   "cell_type": "code",
   "execution_count": 387,
   "id": "535a9d23-179a-4193-b0aa-028a605eea87",
   "metadata": {},
   "outputs": [
    {
     "data": {
      "text/html": [
       "<table class=\"dataframe\">\n",
       "<caption>A data.frame: 2843 × 5</caption>\n",
       "<thead>\n",
       "\t<tr><th scope=col>CLUSTERID1</th><th scope=col>CLUSTERID2</th><th scope=col>ComponentIndex</th><th scope=col>Cosine</th><th scope=col>DeltaMZ</th></tr>\n",
       "\t<tr><th scope=col>&lt;int&gt;</th><th scope=col>&lt;int&gt;</th><th scope=col>&lt;int&gt;</th><th scope=col>&lt;dbl&gt;</th><th scope=col>&lt;dbl&gt;</th></tr>\n",
       "</thead>\n",
       "<tbody>\n",
       "\t<tr><td>4665</td><td>5180</td><td>1</td><td>0.7252</td><td>  18.010</td></tr>\n",
       "\t<tr><td>2991</td><td>3274</td><td>2</td><td>0.8399</td><td>   0.021</td></tr>\n",
       "\t<tr><td>2196</td><td>3549</td><td>2</td><td>0.8259</td><td> -48.000</td></tr>\n",
       "\t<tr><td>2991</td><td>3549</td><td>2</td><td>0.7675</td><td> -33.964</td></tr>\n",
       "\t<tr><td>3162</td><td>3549</td><td>2</td><td>0.7899</td><td>-119.037</td></tr>\n",
       "\t<tr><td>2196</td><td>3274</td><td>2</td><td>0.8067</td><td> -14.016</td></tr>\n",
       "\t<tr><td>3274</td><td>3549</td><td>2</td><td>0.8623</td><td> -33.984</td></tr>\n",
       "\t<tr><td>1487</td><td>2687</td><td>3</td><td>0.7954</td><td> -14.016</td></tr>\n",
       "\t<tr><td>2687</td><td>2703</td><td>3</td><td>0.7699</td><td>  41.027</td></tr>\n",
       "\t<tr><td>2687</td><td>3222</td><td>3</td><td>0.7818</td><td>  -2.015</td></tr>\n",
       "\t<tr><td>1487</td><td>3222</td><td>3</td><td>0.8153</td><td> -16.031</td></tr>\n",
       "\t<tr><td>1487</td><td>2458</td><td>3</td><td>0.8185</td><td> -14.016</td></tr>\n",
       "\t<tr><td>2458</td><td>2467</td><td>3</td><td>0.7704</td><td>  41.027</td></tr>\n",
       "\t<tr><td>2458</td><td>3222</td><td>3</td><td>0.7034</td><td>  -2.015</td></tr>\n",
       "\t<tr><td>1487</td><td>7292</td><td>3</td><td>0.7217</td><td>  97.053</td></tr>\n",
       "\t<tr><td>1720</td><td>3222</td><td>3</td><td>0.7829</td><td>  13.979</td></tr>\n",
       "\t<tr><td>2458</td><td>2687</td><td>3</td><td>0.7784</td><td>   0.000</td></tr>\n",
       "\t<tr><td>1720</td><td>2458</td><td>3</td><td>0.7299</td><td>  15.994</td></tr>\n",
       "\t<tr><td>1053</td><td>1487</td><td>3</td><td>0.7118</td><td> -26.016</td></tr>\n",
       "\t<tr><td>1720</td><td>2687</td><td>3</td><td>0.8340</td><td>  15.994</td></tr>\n",
       "\t<tr><td>3222</td><td>7292</td><td>3</td><td>0.7071</td><td> 113.084</td></tr>\n",
       "\t<tr><td>1487</td><td>1720</td><td>3</td><td>0.7605</td><td> -30.010</td></tr>\n",
       "\t<tr><td>7255</td><td>7275</td><td>4</td><td>0.8047</td><td>   2.997</td></tr>\n",
       "\t<tr><td>7300</td><td>7315</td><td>4</td><td>0.8176</td><td> -18.976</td></tr>\n",
       "\t<tr><td>7273</td><td>7327</td><td>4</td><td>0.7644</td><td>  15.972</td></tr>\n",
       "\t<tr><td>7320</td><td>7327</td><td>4</td><td>0.8145</td><td> 104.904</td></tr>\n",
       "\t<tr><td>7317</td><td>7331</td><td>4</td><td>0.8419</td><td>   2.998</td></tr>\n",
       "\t<tr><td>7271</td><td>7273</td><td>4</td><td>0.8156</td><td>  41.027</td></tr>\n",
       "\t<tr><td>7248</td><td>7275</td><td>4</td><td>0.7970</td><td> -31.950</td></tr>\n",
       "\t<tr><td>7248</td><td>7271</td><td>4</td><td>0.7820</td><td> -28.952</td></tr>\n",
       "\t<tr><td>...</td><td>...</td><td>...</td><td>...</td><td>...</td></tr>\n",
       "\t<tr><td>1784</td><td>2810</td><td>338</td><td>0.9203</td><td> 184.121</td></tr>\n",
       "\t<tr><td>1027</td><td>2810</td><td>338</td><td>0.8223</td><td> -42.047</td></tr>\n",
       "\t<tr><td>5526</td><td>5543</td><td>342</td><td>0.8601</td><td> -18.010</td></tr>\n",
       "\t<tr><td>5526</td><td>6048</td><td>342</td><td>0.9562</td><td>   0.000</td></tr>\n",
       "\t<tr><td>5543</td><td>6048</td><td>342</td><td>0.7942</td><td>  18.010</td></tr>\n",
       "\t<tr><td>3160</td><td>4375</td><td>343</td><td>0.7499</td><td>   0.000</td></tr>\n",
       "\t<tr><td>4394</td><td>4534</td><td>344</td><td>0.8405</td><td>   0.000</td></tr>\n",
       "\t<tr><td>4393</td><td>4394</td><td>344</td><td>0.8465</td><td>-158.095</td></tr>\n",
       "\t<tr><td>4534</td><td>4571</td><td>344</td><td>0.8534</td><td> -32.026</td></tr>\n",
       "\t<tr><td>4393</td><td>4571</td><td>344</td><td>0.7593</td><td>-190.122</td></tr>\n",
       "\t<tr><td>4260</td><td>4534</td><td>344</td><td>0.8417</td><td>  18.011</td></tr>\n",
       "\t<tr><td>4260</td><td>4393</td><td>344</td><td>0.7802</td><td> 176.106</td></tr>\n",
       "\t<tr><td>4260</td><td>4394</td><td>344</td><td>0.9492</td><td>  18.011</td></tr>\n",
       "\t<tr><td>4394</td><td>4571</td><td>344</td><td>0.8549</td><td> -32.027</td></tr>\n",
       "\t<tr><td>4260</td><td>4571</td><td>344</td><td>0.8893</td><td> -14.016</td></tr>\n",
       "\t<tr><td>4312</td><td>4551</td><td>349</td><td>0.8565</td><td> -42.010</td></tr>\n",
       "\t<tr><td>1959</td><td>1979</td><td>359</td><td>0.7979</td><td> 228.093</td></tr>\n",
       "\t<tr><td> 388</td><td> 582</td><td>360</td><td>0.9401</td><td>  -0.036</td></tr>\n",
       "\t<tr><td>1897</td><td>2110</td><td>362</td><td>0.8000</td><td>   0.000</td></tr>\n",
       "\t<tr><td> 879</td><td> 882</td><td>365</td><td>0.8152</td><td>   1.996</td></tr>\n",
       "\t<tr><td>2456</td><td>2669</td><td>366</td><td>0.8722</td><td>   0.000</td></tr>\n",
       "\t<tr><td>3595</td><td>3917</td><td>369</td><td>0.9171</td><td> -14.015</td></tr>\n",
       "\t<tr><td>3412</td><td>3595</td><td>369</td><td>0.9586</td><td>  -0.037</td></tr>\n",
       "\t<tr><td>2193</td><td>2505</td><td>371</td><td>0.7250</td><td>   0.000</td></tr>\n",
       "\t<tr><td>3733</td><td>4505</td><td>373</td><td>0.8814</td><td>   0.000</td></tr>\n",
       "\t<tr><td>5416</td><td>5569</td><td>379</td><td>0.7582</td><td>  -0.038</td></tr>\n",
       "\t<tr><td> 927</td><td>1258</td><td>381</td><td>0.7004</td><td> -34.988</td></tr>\n",
       "\t<tr><td>4636</td><td>4668</td><td>384</td><td>0.8291</td><td> -33.984</td></tr>\n",
       "\t<tr><td>3031</td><td>4216</td><td>388</td><td>0.8916</td><td> -56.063</td></tr>\n",
       "\t<tr><td> 983</td><td>1006</td><td>393</td><td>1.0000</td><td>   0.017</td></tr>\n",
       "</tbody>\n",
       "</table>\n"
      ],
      "text/latex": [
       "A data.frame: 2843 × 5\n",
       "\\begin{tabular}{lllll}\n",
       " CLUSTERID1 & CLUSTERID2 & ComponentIndex & Cosine & DeltaMZ\\\\\n",
       " <int> & <int> & <int> & <dbl> & <dbl>\\\\\n",
       "\\hline\n",
       "\t 4665 & 5180 & 1 & 0.7252 &   18.010\\\\\n",
       "\t 2991 & 3274 & 2 & 0.8399 &    0.021\\\\\n",
       "\t 2196 & 3549 & 2 & 0.8259 &  -48.000\\\\\n",
       "\t 2991 & 3549 & 2 & 0.7675 &  -33.964\\\\\n",
       "\t 3162 & 3549 & 2 & 0.7899 & -119.037\\\\\n",
       "\t 2196 & 3274 & 2 & 0.8067 &  -14.016\\\\\n",
       "\t 3274 & 3549 & 2 & 0.8623 &  -33.984\\\\\n",
       "\t 1487 & 2687 & 3 & 0.7954 &  -14.016\\\\\n",
       "\t 2687 & 2703 & 3 & 0.7699 &   41.027\\\\\n",
       "\t 2687 & 3222 & 3 & 0.7818 &   -2.015\\\\\n",
       "\t 1487 & 3222 & 3 & 0.8153 &  -16.031\\\\\n",
       "\t 1487 & 2458 & 3 & 0.8185 &  -14.016\\\\\n",
       "\t 2458 & 2467 & 3 & 0.7704 &   41.027\\\\\n",
       "\t 2458 & 3222 & 3 & 0.7034 &   -2.015\\\\\n",
       "\t 1487 & 7292 & 3 & 0.7217 &   97.053\\\\\n",
       "\t 1720 & 3222 & 3 & 0.7829 &   13.979\\\\\n",
       "\t 2458 & 2687 & 3 & 0.7784 &    0.000\\\\\n",
       "\t 1720 & 2458 & 3 & 0.7299 &   15.994\\\\\n",
       "\t 1053 & 1487 & 3 & 0.7118 &  -26.016\\\\\n",
       "\t 1720 & 2687 & 3 & 0.8340 &   15.994\\\\\n",
       "\t 3222 & 7292 & 3 & 0.7071 &  113.084\\\\\n",
       "\t 1487 & 1720 & 3 & 0.7605 &  -30.010\\\\\n",
       "\t 7255 & 7275 & 4 & 0.8047 &    2.997\\\\\n",
       "\t 7300 & 7315 & 4 & 0.8176 &  -18.976\\\\\n",
       "\t 7273 & 7327 & 4 & 0.7644 &   15.972\\\\\n",
       "\t 7320 & 7327 & 4 & 0.8145 &  104.904\\\\\n",
       "\t 7317 & 7331 & 4 & 0.8419 &    2.998\\\\\n",
       "\t 7271 & 7273 & 4 & 0.8156 &   41.027\\\\\n",
       "\t 7248 & 7275 & 4 & 0.7970 &  -31.950\\\\\n",
       "\t 7248 & 7271 & 4 & 0.7820 &  -28.952\\\\\n",
       "\t ... & ... & ... & ... & ...\\\\\n",
       "\t 1784 & 2810 & 338 & 0.9203 &  184.121\\\\\n",
       "\t 1027 & 2810 & 338 & 0.8223 &  -42.047\\\\\n",
       "\t 5526 & 5543 & 342 & 0.8601 &  -18.010\\\\\n",
       "\t 5526 & 6048 & 342 & 0.9562 &    0.000\\\\\n",
       "\t 5543 & 6048 & 342 & 0.7942 &   18.010\\\\\n",
       "\t 3160 & 4375 & 343 & 0.7499 &    0.000\\\\\n",
       "\t 4394 & 4534 & 344 & 0.8405 &    0.000\\\\\n",
       "\t 4393 & 4394 & 344 & 0.8465 & -158.095\\\\\n",
       "\t 4534 & 4571 & 344 & 0.8534 &  -32.026\\\\\n",
       "\t 4393 & 4571 & 344 & 0.7593 & -190.122\\\\\n",
       "\t 4260 & 4534 & 344 & 0.8417 &   18.011\\\\\n",
       "\t 4260 & 4393 & 344 & 0.7802 &  176.106\\\\\n",
       "\t 4260 & 4394 & 344 & 0.9492 &   18.011\\\\\n",
       "\t 4394 & 4571 & 344 & 0.8549 &  -32.027\\\\\n",
       "\t 4260 & 4571 & 344 & 0.8893 &  -14.016\\\\\n",
       "\t 4312 & 4551 & 349 & 0.8565 &  -42.010\\\\\n",
       "\t 1959 & 1979 & 359 & 0.7979 &  228.093\\\\\n",
       "\t  388 &  582 & 360 & 0.9401 &   -0.036\\\\\n",
       "\t 1897 & 2110 & 362 & 0.8000 &    0.000\\\\\n",
       "\t  879 &  882 & 365 & 0.8152 &    1.996\\\\\n",
       "\t 2456 & 2669 & 366 & 0.8722 &    0.000\\\\\n",
       "\t 3595 & 3917 & 369 & 0.9171 &  -14.015\\\\\n",
       "\t 3412 & 3595 & 369 & 0.9586 &   -0.037\\\\\n",
       "\t 2193 & 2505 & 371 & 0.7250 &    0.000\\\\\n",
       "\t 3733 & 4505 & 373 & 0.8814 &    0.000\\\\\n",
       "\t 5416 & 5569 & 379 & 0.7582 &   -0.038\\\\\n",
       "\t  927 & 1258 & 381 & 0.7004 &  -34.988\\\\\n",
       "\t 4636 & 4668 & 384 & 0.8291 &  -33.984\\\\\n",
       "\t 3031 & 4216 & 388 & 0.8916 &  -56.063\\\\\n",
       "\t  983 & 1006 & 393 & 1.0000 &    0.017\\\\\n",
       "\\end{tabular}\n"
      ],
      "text/markdown": [
       "\n",
       "A data.frame: 2843 × 5\n",
       "\n",
       "| CLUSTERID1 &lt;int&gt; | CLUSTERID2 &lt;int&gt; | ComponentIndex &lt;int&gt; | Cosine &lt;dbl&gt; | DeltaMZ &lt;dbl&gt; |\n",
       "|---|---|---|---|---|\n",
       "| 4665 | 5180 | 1 | 0.7252 |   18.010 |\n",
       "| 2991 | 3274 | 2 | 0.8399 |    0.021 |\n",
       "| 2196 | 3549 | 2 | 0.8259 |  -48.000 |\n",
       "| 2991 | 3549 | 2 | 0.7675 |  -33.964 |\n",
       "| 3162 | 3549 | 2 | 0.7899 | -119.037 |\n",
       "| 2196 | 3274 | 2 | 0.8067 |  -14.016 |\n",
       "| 3274 | 3549 | 2 | 0.8623 |  -33.984 |\n",
       "| 1487 | 2687 | 3 | 0.7954 |  -14.016 |\n",
       "| 2687 | 2703 | 3 | 0.7699 |   41.027 |\n",
       "| 2687 | 3222 | 3 | 0.7818 |   -2.015 |\n",
       "| 1487 | 3222 | 3 | 0.8153 |  -16.031 |\n",
       "| 1487 | 2458 | 3 | 0.8185 |  -14.016 |\n",
       "| 2458 | 2467 | 3 | 0.7704 |   41.027 |\n",
       "| 2458 | 3222 | 3 | 0.7034 |   -2.015 |\n",
       "| 1487 | 7292 | 3 | 0.7217 |   97.053 |\n",
       "| 1720 | 3222 | 3 | 0.7829 |   13.979 |\n",
       "| 2458 | 2687 | 3 | 0.7784 |    0.000 |\n",
       "| 1720 | 2458 | 3 | 0.7299 |   15.994 |\n",
       "| 1053 | 1487 | 3 | 0.7118 |  -26.016 |\n",
       "| 1720 | 2687 | 3 | 0.8340 |   15.994 |\n",
       "| 3222 | 7292 | 3 | 0.7071 |  113.084 |\n",
       "| 1487 | 1720 | 3 | 0.7605 |  -30.010 |\n",
       "| 7255 | 7275 | 4 | 0.8047 |    2.997 |\n",
       "| 7300 | 7315 | 4 | 0.8176 |  -18.976 |\n",
       "| 7273 | 7327 | 4 | 0.7644 |   15.972 |\n",
       "| 7320 | 7327 | 4 | 0.8145 |  104.904 |\n",
       "| 7317 | 7331 | 4 | 0.8419 |    2.998 |\n",
       "| 7271 | 7273 | 4 | 0.8156 |   41.027 |\n",
       "| 7248 | 7275 | 4 | 0.7970 |  -31.950 |\n",
       "| 7248 | 7271 | 4 | 0.7820 |  -28.952 |\n",
       "| ... | ... | ... | ... | ... |\n",
       "| 1784 | 2810 | 338 | 0.9203 |  184.121 |\n",
       "| 1027 | 2810 | 338 | 0.8223 |  -42.047 |\n",
       "| 5526 | 5543 | 342 | 0.8601 |  -18.010 |\n",
       "| 5526 | 6048 | 342 | 0.9562 |    0.000 |\n",
       "| 5543 | 6048 | 342 | 0.7942 |   18.010 |\n",
       "| 3160 | 4375 | 343 | 0.7499 |    0.000 |\n",
       "| 4394 | 4534 | 344 | 0.8405 |    0.000 |\n",
       "| 4393 | 4394 | 344 | 0.8465 | -158.095 |\n",
       "| 4534 | 4571 | 344 | 0.8534 |  -32.026 |\n",
       "| 4393 | 4571 | 344 | 0.7593 | -190.122 |\n",
       "| 4260 | 4534 | 344 | 0.8417 |   18.011 |\n",
       "| 4260 | 4393 | 344 | 0.7802 |  176.106 |\n",
       "| 4260 | 4394 | 344 | 0.9492 |   18.011 |\n",
       "| 4394 | 4571 | 344 | 0.8549 |  -32.027 |\n",
       "| 4260 | 4571 | 344 | 0.8893 |  -14.016 |\n",
       "| 4312 | 4551 | 349 | 0.8565 |  -42.010 |\n",
       "| 1959 | 1979 | 359 | 0.7979 |  228.093 |\n",
       "|  388 |  582 | 360 | 0.9401 |   -0.036 |\n",
       "| 1897 | 2110 | 362 | 0.8000 |    0.000 |\n",
       "|  879 |  882 | 365 | 0.8152 |    1.996 |\n",
       "| 2456 | 2669 | 366 | 0.8722 |    0.000 |\n",
       "| 3595 | 3917 | 369 | 0.9171 |  -14.015 |\n",
       "| 3412 | 3595 | 369 | 0.9586 |   -0.037 |\n",
       "| 2193 | 2505 | 371 | 0.7250 |    0.000 |\n",
       "| 3733 | 4505 | 373 | 0.8814 |    0.000 |\n",
       "| 5416 | 5569 | 379 | 0.7582 |   -0.038 |\n",
       "|  927 | 1258 | 381 | 0.7004 |  -34.988 |\n",
       "| 4636 | 4668 | 384 | 0.8291 |  -33.984 |\n",
       "| 3031 | 4216 | 388 | 0.8916 |  -56.063 |\n",
       "|  983 | 1006 | 393 | 1.0000 |    0.017 |\n",
       "\n"
      ],
      "text/plain": [
       "     CLUSTERID1 CLUSTERID2 ComponentIndex Cosine DeltaMZ \n",
       "1    4665       5180       1              0.7252   18.010\n",
       "2    2991       3274       2              0.8399    0.021\n",
       "3    2196       3549       2              0.8259  -48.000\n",
       "4    2991       3549       2              0.7675  -33.964\n",
       "5    3162       3549       2              0.7899 -119.037\n",
       "6    2196       3274       2              0.8067  -14.016\n",
       "7    3274       3549       2              0.8623  -33.984\n",
       "8    1487       2687       3              0.7954  -14.016\n",
       "9    2687       2703       3              0.7699   41.027\n",
       "10   2687       3222       3              0.7818   -2.015\n",
       "11   1487       3222       3              0.8153  -16.031\n",
       "12   1487       2458       3              0.8185  -14.016\n",
       "13   2458       2467       3              0.7704   41.027\n",
       "14   2458       3222       3              0.7034   -2.015\n",
       "15   1487       7292       3              0.7217   97.053\n",
       "16   1720       3222       3              0.7829   13.979\n",
       "17   2458       2687       3              0.7784    0.000\n",
       "18   1720       2458       3              0.7299   15.994\n",
       "19   1053       1487       3              0.7118  -26.016\n",
       "20   1720       2687       3              0.8340   15.994\n",
       "21   3222       7292       3              0.7071  113.084\n",
       "22   1487       1720       3              0.7605  -30.010\n",
       "23   7255       7275       4              0.8047    2.997\n",
       "24   7300       7315       4              0.8176  -18.976\n",
       "25   7273       7327       4              0.7644   15.972\n",
       "26   7320       7327       4              0.8145  104.904\n",
       "27   7317       7331       4              0.8419    2.998\n",
       "28   7271       7273       4              0.8156   41.027\n",
       "29   7248       7275       4              0.7970  -31.950\n",
       "30   7248       7271       4              0.7820  -28.952\n",
       "...  ...        ...        ...            ...    ...     \n",
       "2814 1784       2810       338            0.9203  184.121\n",
       "2815 1027       2810       338            0.8223  -42.047\n",
       "2816 5526       5543       342            0.8601  -18.010\n",
       "2817 5526       6048       342            0.9562    0.000\n",
       "2818 5543       6048       342            0.7942   18.010\n",
       "2819 3160       4375       343            0.7499    0.000\n",
       "2820 4394       4534       344            0.8405    0.000\n",
       "2821 4393       4394       344            0.8465 -158.095\n",
       "2822 4534       4571       344            0.8534  -32.026\n",
       "2823 4393       4571       344            0.7593 -190.122\n",
       "2824 4260       4534       344            0.8417   18.011\n",
       "2825 4260       4393       344            0.7802  176.106\n",
       "2826 4260       4394       344            0.9492   18.011\n",
       "2827 4394       4571       344            0.8549  -32.027\n",
       "2828 4260       4571       344            0.8893  -14.016\n",
       "2829 4312       4551       349            0.8565  -42.010\n",
       "2830 1959       1979       359            0.7979  228.093\n",
       "2831  388        582       360            0.9401   -0.036\n",
       "2832 1897       2110       362            0.8000    0.000\n",
       "2833  879        882       365            0.8152    1.996\n",
       "2834 2456       2669       366            0.8722    0.000\n",
       "2835 3595       3917       369            0.9171  -14.015\n",
       "2836 3412       3595       369            0.9586   -0.037\n",
       "2837 2193       2505       371            0.7250    0.000\n",
       "2838 3733       4505       373            0.8814    0.000\n",
       "2839 5416       5569       379            0.7582   -0.038\n",
       "2840  927       1258       381            0.7004  -34.988\n",
       "2841 4636       4668       384            0.8291  -33.984\n",
       "2842 3031       4216       388            0.8916  -56.063\n",
       "2843  983       1006       393            1.0000    0.017"
      ]
     },
     "metadata": {},
     "output_type": "display_data"
    }
   ],
   "source": [
    "nw"
   ]
  },
  {
   "cell_type": "markdown",
   "id": "bef154b6",
   "metadata": {
    "id": "7da5af06-1073-414a-b306-c9f5f6bae852",
    "tags": []
   },
   "source": [
    "---\n",
    "### 2.3.4 Exploring the metadata\n",
    "<a name='explore_md'></a>"
   ]
  },
  {
   "cell_type": "code",
   "execution_count": 215,
   "id": "8c590d59-2cd6-4407-8f51-5f916c315668",
   "metadata": {},
   "outputs": [],
   "source": [
    "#Loading in the helper functions from the additional R script:\n",
    "source('https://raw.githubusercontent.com/Functional-Metabolomics-Lab/ChemProp2/main/Helper_functions_Chemprop2.r')"
   ]
  },
  {
   "cell_type": "code",
   "execution_count": 63,
   "id": "c6208a16-a519-4fd7-a815-6936ab4ab97d",
   "metadata": {
    "tags": []
   },
   "outputs": [
    {
     "data": {
      "text/html": [
       "4"
      ],
      "text/latex": [
       "4"
      ],
      "text/markdown": [
       "4"
      ],
      "text/plain": [
       "[1] 4"
      ]
     },
     "metadata": {},
     "output_type": "display_data"
    }
   ],
   "source": [
    "ncol(md) #number of columnns of metadata"
   ]
  },
  {
   "cell_type": "code",
   "execution_count": 31,
   "id": "58a71f49",
   "metadata": {
    "colab": {
     "base_uri": "https://localhost:8080/",
     "height": 616
    },
    "id": "535d67d6-3e74-4eec-885c-06c434381110",
    "outputId": "297bf73e-ece4-426a-eb51-e7c393ab7b85"
   },
   "outputs": [
    {
     "data": {
      "text/html": [
       "<table class=\"dataframe\">\n",
       "<caption>A data.frame: 3 × 5</caption>\n",
       "<thead>\n",
       "\t<tr><th scope=col>INDEX</th><th scope=col>ATTRIBUTES</th><th scope=col>LEVELS</th><th scope=col>COUNT</th><th scope=col>ATTRIBUTE_CLASS</th></tr>\n",
       "\t<tr><th scope=col>&lt;int&gt;</th><th scope=col>&lt;chr&gt;</th><th scope=col>&lt;chr&gt;</th><th scope=col>&lt;chr&gt;</th><th scope=col>&lt;chr&gt;</th></tr>\n",
       "</thead>\n",
       "<tbody>\n",
       "\t<tr><td>1</td><td>ATTRIBUTE_sample           </td><td>Avermectin + Gut bacteria, Blank, Only Avermectin drug, Only Gut bacteria</td><td>23, 3, 30, 30               </td><td>character</td></tr>\n",
       "\t<tr><td>2</td><td>ATTRIBUTE_replicates       </td><td>1, 2, 3                                                                  </td><td>30, 30, 23                  </td><td>integer  </td></tr>\n",
       "\t<tr><td>3</td><td>ATTRIBUTE_timepoint_minutes</td><td>0, 1, 10, 20, 30, 60, 120, 180, 240, 720                                 </td><td>9, 9, 9, 8, 8, 8, 8, 8, 8, 8</td><td>integer  </td></tr>\n",
       "</tbody>\n",
       "</table>\n"
      ],
      "text/latex": [
       "A data.frame: 3 × 5\n",
       "\\begin{tabular}{lllll}\n",
       " INDEX & ATTRIBUTES & LEVELS & COUNT & ATTRIBUTE\\_CLASS\\\\\n",
       " <int> & <chr> & <chr> & <chr> & <chr>\\\\\n",
       "\\hline\n",
       "\t 1 & ATTRIBUTE\\_sample            & Avermectin + Gut bacteria, Blank, Only Avermectin drug, Only Gut bacteria & 23, 3, 30, 30                & character\\\\\n",
       "\t 2 & ATTRIBUTE\\_replicates        & 1, 2, 3                                                                   & 30, 30, 23                   & integer  \\\\\n",
       "\t 3 & ATTRIBUTE\\_timepoint\\_minutes & 0, 1, 10, 20, 30, 60, 120, 180, 240, 720                                  & 9, 9, 9, 8, 8, 8, 8, 8, 8, 8 & integer  \\\\\n",
       "\\end{tabular}\n"
      ],
      "text/markdown": [
       "\n",
       "A data.frame: 3 × 5\n",
       "\n",
       "| INDEX &lt;int&gt; | ATTRIBUTES &lt;chr&gt; | LEVELS &lt;chr&gt; | COUNT &lt;chr&gt; | ATTRIBUTE_CLASS &lt;chr&gt; |\n",
       "|---|---|---|---|---|\n",
       "| 1 | ATTRIBUTE_sample            | Avermectin + Gut bacteria, Blank, Only Avermectin drug, Only Gut bacteria | 23, 3, 30, 30                | character |\n",
       "| 2 | ATTRIBUTE_replicates        | 1, 2, 3                                                                   | 30, 30, 23                   | integer   |\n",
       "| 3 | ATTRIBUTE_timepoint_minutes | 0, 1, 10, 20, 30, 60, 120, 180, 240, 720                                  | 9, 9, 9, 8, 8, 8, 8, 8, 8, 8 | integer   |\n",
       "\n"
      ],
      "text/plain": [
       "  INDEX ATTRIBUTES                 \n",
       "1 1     ATTRIBUTE_sample           \n",
       "2 2     ATTRIBUTE_replicates       \n",
       "3 3     ATTRIBUTE_timepoint_minutes\n",
       "  LEVELS                                                                   \n",
       "1 Avermectin + Gut bacteria, Blank, Only Avermectin drug, Only Gut bacteria\n",
       "2 1, 2, 3                                                                  \n",
       "3 0, 1, 10, 20, 30, 60, 120, 180, 240, 720                                 \n",
       "  COUNT                        ATTRIBUTE_CLASS\n",
       "1 23, 3, 30, 30                character      \n",
       "2 30, 30, 23                   integer        \n",
       "3 9, 9, 9, 8, 8, 8, 8, 8, 8, 8 integer        "
      ]
     },
     "metadata": {},
     "output_type": "display_data"
    }
   ],
   "source": [
    "InsideLevels(md[,2:ncol(md)]) #excluding 1st filename"
   ]
  },
  {
   "cell_type": "markdown",
   "id": "99ae13e7",
   "metadata": {
    "id": "3rHvKfUD9kAw"
   },
   "source": [
    "<p style='text-align: justify;'> The above table is a summary of our metadata table. For example, the 1st row says the different types of samples under 'ATTRIBUTE_sample', namely \"Blank\" and \"Sample\". The number of files corresponding to each of these categories is given in the COUNT column. For example, we have 3 files belonging to the \"Blank\" sample type. </p>"
   ]
  },
  {
   "cell_type": "markdown",
   "id": "d9b973f9-ba67-48ca-8fff-4bbee4515e48",
   "metadata": {},
   "source": [
    "----\n",
    "## <font color ='darkblue'> 2.4 Merging annotations with feature table</font>\n",
    "<a name=\"merge_ft\"></a>"
   ]
  },
  {
   "cell_type": "code",
   "execution_count": null,
   "id": "0f251afb-60b5-4b8b-9a5e-7a9319d313fc",
   "metadata": {},
   "outputs": [],
   "source": [
    "# Load the SIRIUS or CANOPUS summary table\n",
    "# summary <- read.table(\"your_summary_table.txt\", header = TRUE, stringsAsFactors = FALSE) # replace with your actual summary table file"
   ]
  },
  {
   "cell_type": "code",
   "execution_count": 32,
   "id": "2da74779-e1c2-4dcc-bcac-bb30f9af8356",
   "metadata": {},
   "outputs": [
    {
     "data": {
      "text/html": [
       "<table class=\"dataframe\">\n",
       "<caption>A data.frame: 2 × 46</caption>\n",
       "<thead>\n",
       "\t<tr><th></th><th scope=col>SpectrumID</th><th scope=col>Compound_Name</th><th scope=col>Ion_Source</th><th scope=col>Instrument</th><th scope=col>Compound_Source</th><th scope=col>PI</th><th scope=col>Data_Collector</th><th scope=col>Adduct</th><th scope=col>Precursor_MZ</th><th scope=col>ExactMass</th><th scope=col>...</th><th scope=col>MoleculeExplorerDatasets</th><th scope=col>MoleculeExplorerFiles</th><th scope=col>InChIKey</th><th scope=col>InChIKey-Planar</th><th scope=col>superclass</th><th scope=col>class</th><th scope=col>subclass</th><th scope=col>npclassifier_superclass</th><th scope=col>npclassifier_class</th><th scope=col>npclassifier_pathway</th></tr>\n",
       "\t<tr><th></th><th scope=col>&lt;chr&gt;</th><th scope=col>&lt;chr&gt;</th><th scope=col>&lt;chr&gt;</th><th scope=col>&lt;chr&gt;</th><th scope=col>&lt;chr&gt;</th><th scope=col>&lt;chr&gt;</th><th scope=col>&lt;chr&gt;</th><th scope=col>&lt;chr&gt;</th><th scope=col>&lt;dbl&gt;</th><th scope=col>&lt;dbl&gt;</th><th scope=col>...</th><th scope=col>&lt;int&gt;</th><th scope=col>&lt;int&gt;</th><th scope=col>&lt;chr&gt;</th><th scope=col>&lt;chr&gt;</th><th scope=col>&lt;chr&gt;</th><th scope=col>&lt;chr&gt;</th><th scope=col>&lt;chr&gt;</th><th scope=col>&lt;chr&gt;</th><th scope=col>&lt;chr&gt;</th><th scope=col>&lt;chr&gt;</th></tr>\n",
       "</thead>\n",
       "<tbody>\n",
       "\t<tr><th scope=row>1</th><td>CCMSLIB00003135371</td><td>Spectral Match to DL-Phenylalanine from NIST14</td><td>ESI</td><td>QQQ </td><td>Isolated</td><td>Data from Pieter Dorrestein</td><td>Data deposited by lfnothias</td><td>M+H</td><td>166.083</td><td>165.079</td><td>...</td><td> 57</td><td> 2653</td><td>COLNVLDHVKWLRT-UHFFFAOYSA-N</td><td>COLNVLDHVKWLRT</td><td>Organic acids and derivatives</td><td>Carboxylic acids and derivatives   </td><td>Amino acids, peptides, and analogues</td><td>Small peptides</td><td>Aminoacids</td><td>Amino acids and Peptides|Shikimates and Phenylpropanoids</td></tr>\n",
       "\t<tr><th scope=row>2</th><td>CCMSLIB00003138938</td><td>Spectral Match to Sulfadimethoxine from NIST14</td><td>ESI</td><td>qTof</td><td>Isolated</td><td>Data from Joshua Wollam    </td><td>Data deposited by fevargas </td><td>M+H</td><td>311.080</td><td>310.074</td><td>...</td><td>133</td><td>24184</td><td>ZZORFUFYDOWNEF-UHFFFAOYSA-N</td><td>ZZORFUFYDOWNEF</td><td>Benzenoids                   </td><td>Benzene and substituted derivatives</td><td>Benzenesulfonamides                 </td><td>              </td><td>          </td><td>Alkaloids                                               </td></tr>\n",
       "</tbody>\n",
       "</table>\n"
      ],
      "text/latex": [
       "A data.frame: 2 × 46\n",
       "\\begin{tabular}{r|lllllllllllllllllllll}\n",
       "  & SpectrumID & Compound\\_Name & Ion\\_Source & Instrument & Compound\\_Source & PI & Data\\_Collector & Adduct & Precursor\\_MZ & ExactMass & ... & MoleculeExplorerDatasets & MoleculeExplorerFiles & InChIKey & InChIKey-Planar & superclass & class & subclass & npclassifier\\_superclass & npclassifier\\_class & npclassifier\\_pathway\\\\\n",
       "  & <chr> & <chr> & <chr> & <chr> & <chr> & <chr> & <chr> & <chr> & <dbl> & <dbl> & ... & <int> & <int> & <chr> & <chr> & <chr> & <chr> & <chr> & <chr> & <chr> & <chr>\\\\\n",
       "\\hline\n",
       "\t1 & CCMSLIB00003135371 & Spectral Match to DL-Phenylalanine from NIST14 & ESI & QQQ  & Isolated & Data from Pieter Dorrestein & Data deposited by lfnothias & M+H & 166.083 & 165.079 & ... &  57 &  2653 & COLNVLDHVKWLRT-UHFFFAOYSA-N & COLNVLDHVKWLRT & Organic acids and derivatives & Carboxylic acids and derivatives    & Amino acids, peptides, and analogues & Small peptides & Aminoacids & Amino acids and Peptides\\textbar{}Shikimates and Phenylpropanoids\\\\\n",
       "\t2 & CCMSLIB00003138938 & Spectral Match to Sulfadimethoxine from NIST14 & ESI & qTof & Isolated & Data from Joshua Wollam     & Data deposited by fevargas  & M+H & 311.080 & 310.074 & ... & 133 & 24184 & ZZORFUFYDOWNEF-UHFFFAOYSA-N & ZZORFUFYDOWNEF & Benzenoids                    & Benzene and substituted derivatives & Benzenesulfonamides                  &                &            & Alkaloids                                               \\\\\n",
       "\\end{tabular}\n"
      ],
      "text/markdown": [
       "\n",
       "A data.frame: 2 × 46\n",
       "\n",
       "| <!--/--> | SpectrumID &lt;chr&gt; | Compound_Name &lt;chr&gt; | Ion_Source &lt;chr&gt; | Instrument &lt;chr&gt; | Compound_Source &lt;chr&gt; | PI &lt;chr&gt; | Data_Collector &lt;chr&gt; | Adduct &lt;chr&gt; | Precursor_MZ &lt;dbl&gt; | ExactMass &lt;dbl&gt; | ... ... | MoleculeExplorerDatasets &lt;int&gt; | MoleculeExplorerFiles &lt;int&gt; | InChIKey &lt;chr&gt; | InChIKey-Planar &lt;chr&gt; | superclass &lt;chr&gt; | class &lt;chr&gt; | subclass &lt;chr&gt; | npclassifier_superclass &lt;chr&gt; | npclassifier_class &lt;chr&gt; | npclassifier_pathway &lt;chr&gt; |\n",
       "|---|---|---|---|---|---|---|---|---|---|---|---|---|---|---|---|---|---|---|---|---|---|\n",
       "| 1 | CCMSLIB00003135371 | Spectral Match to DL-Phenylalanine from NIST14 | ESI | QQQ  | Isolated | Data from Pieter Dorrestein | Data deposited by lfnothias | M+H | 166.083 | 165.079 | ... |  57 |  2653 | COLNVLDHVKWLRT-UHFFFAOYSA-N | COLNVLDHVKWLRT | Organic acids and derivatives | Carboxylic acids and derivatives    | Amino acids, peptides, and analogues | Small peptides | Aminoacids | Amino acids and Peptides|Shikimates and Phenylpropanoids |\n",
       "| 2 | CCMSLIB00003138938 | Spectral Match to Sulfadimethoxine from NIST14 | ESI | qTof | Isolated | Data from Joshua Wollam     | Data deposited by fevargas  | M+H | 311.080 | 310.074 | ... | 133 | 24184 | ZZORFUFYDOWNEF-UHFFFAOYSA-N | ZZORFUFYDOWNEF | Benzenoids                    | Benzene and substituted derivatives | Benzenesulfonamides                  | <!----> | <!----> | Alkaloids                                                |\n",
       "\n"
      ],
      "text/plain": [
       "  SpectrumID         Compound_Name                                  Ion_Source\n",
       "1 CCMSLIB00003135371 Spectral Match to DL-Phenylalanine from NIST14 ESI       \n",
       "2 CCMSLIB00003138938 Spectral Match to Sulfadimethoxine from NIST14 ESI       \n",
       "  Instrument Compound_Source PI                         \n",
       "1 QQQ        Isolated        Data from Pieter Dorrestein\n",
       "2 qTof       Isolated        Data from Joshua Wollam    \n",
       "  Data_Collector              Adduct Precursor_MZ ExactMass ...\n",
       "1 Data deposited by lfnothias M+H    166.083      165.079   ...\n",
       "2 Data deposited by fevargas  M+H    311.080      310.074   ...\n",
       "  MoleculeExplorerDatasets MoleculeExplorerFiles InChIKey                   \n",
       "1  57                       2653                 COLNVLDHVKWLRT-UHFFFAOYSA-N\n",
       "2 133                      24184                 ZZORFUFYDOWNEF-UHFFFAOYSA-N\n",
       "  InChIKey-Planar superclass                   \n",
       "1 COLNVLDHVKWLRT  Organic acids and derivatives\n",
       "2 ZZORFUFYDOWNEF  Benzenoids                   \n",
       "  class                               subclass                            \n",
       "1 Carboxylic acids and derivatives    Amino acids, peptides, and analogues\n",
       "2 Benzene and substituted derivatives Benzenesulfonamides                 \n",
       "  npclassifier_superclass npclassifier_class\n",
       "1 Small peptides          Aminoacids        \n",
       "2                                           \n",
       "  npclassifier_pathway                                    \n",
       "1 Amino acids and Peptides|Shikimates and Phenylpropanoids\n",
       "2 Alkaloids                                               "
      ]
     },
     "metadata": {},
     "output_type": "display_data"
    }
   ],
   "source": [
    "head(gnps,2)"
   ]
  },
  {
   "cell_type": "code",
   "execution_count": 33,
   "id": "57264d80-7ba6-4e9c-839b-e03f2526d7c4",
   "metadata": {},
   "outputs": [
    {
     "data": {
      "text/html": [
       "<table class=\"dataframe\">\n",
       "<caption>A data.frame: 2 × 46</caption>\n",
       "<thead>\n",
       "\t<tr><th></th><th scope=col>SpectrumID</th><th scope=col>Compound_Name</th><th scope=col>Ion_Source</th><th scope=col>Instrument</th><th scope=col>Compound_Source</th><th scope=col>PI</th><th scope=col>Data_Collector</th><th scope=col>Adduct</th><th scope=col>Precursor_MZ</th><th scope=col>ExactMass</th><th scope=col>...</th><th scope=col>MoleculeExplorerDatasets</th><th scope=col>MoleculeExplorerFiles</th><th scope=col>InChIKey</th><th scope=col>InChIKey-Planar</th><th scope=col>superclass</th><th scope=col>class</th><th scope=col>subclass</th><th scope=col>npclassifier_superclass</th><th scope=col>npclassifier_class</th><th scope=col>npclassifier_pathway</th></tr>\n",
       "\t<tr><th></th><th scope=col>&lt;chr&gt;</th><th scope=col>&lt;chr&gt;</th><th scope=col>&lt;chr&gt;</th><th scope=col>&lt;chr&gt;</th><th scope=col>&lt;chr&gt;</th><th scope=col>&lt;chr&gt;</th><th scope=col>&lt;chr&gt;</th><th scope=col>&lt;chr&gt;</th><th scope=col>&lt;dbl&gt;</th><th scope=col>&lt;dbl&gt;</th><th scope=col>...</th><th scope=col>&lt;int&gt;</th><th scope=col>&lt;int&gt;</th><th scope=col>&lt;chr&gt;</th><th scope=col>&lt;chr&gt;</th><th scope=col>&lt;chr&gt;</th><th scope=col>&lt;chr&gt;</th><th scope=col>&lt;chr&gt;</th><th scope=col>&lt;chr&gt;</th><th scope=col>&lt;chr&gt;</th><th scope=col>&lt;chr&gt;</th></tr>\n",
       "</thead>\n",
       "<tbody>\n",
       "\t<tr><th scope=row>1</th><td>CCMSLIB00003135371</td><td>Spectral Match to DL-Phenylalanine from NIST14</td><td>ESI</td><td>QQQ </td><td>Isolated</td><td>Data from Pieter Dorrestein</td><td>Data deposited by lfnothias</td><td>M+H</td><td>166.083</td><td>165.079</td><td>...</td><td> 57</td><td> 2653</td><td>COLNVLDHVKWLRT-UHFFFAOYSA-N</td><td>COLNVLDHVKWLRT</td><td>Organic acids and derivatives</td><td>Carboxylic acids and derivatives   </td><td>Amino acids, peptides, and analogues</td><td>Small peptides</td><td>Aminoacids</td><td>Amino acids and Peptides|Shikimates and Phenylpropanoids</td></tr>\n",
       "\t<tr><th scope=row>2</th><td>CCMSLIB00003138938</td><td>Spectral Match to Sulfadimethoxine from NIST14</td><td>ESI</td><td>qTof</td><td>Isolated</td><td>Data from Joshua Wollam    </td><td>Data deposited by fevargas </td><td>M+H</td><td>311.080</td><td>310.074</td><td>...</td><td>133</td><td>24184</td><td>ZZORFUFYDOWNEF-UHFFFAOYSA-N</td><td>ZZORFUFYDOWNEF</td><td>Benzenoids                   </td><td>Benzene and substituted derivatives</td><td>Benzenesulfonamides                 </td><td>              </td><td>          </td><td>Alkaloids                                               </td></tr>\n",
       "</tbody>\n",
       "</table>\n"
      ],
      "text/latex": [
       "A data.frame: 2 × 46\n",
       "\\begin{tabular}{r|lllllllllllllllllllll}\n",
       "  & SpectrumID & Compound\\_Name & Ion\\_Source & Instrument & Compound\\_Source & PI & Data\\_Collector & Adduct & Precursor\\_MZ & ExactMass & ... & MoleculeExplorerDatasets & MoleculeExplorerFiles & InChIKey & InChIKey-Planar & superclass & class & subclass & npclassifier\\_superclass & npclassifier\\_class & npclassifier\\_pathway\\\\\n",
       "  & <chr> & <chr> & <chr> & <chr> & <chr> & <chr> & <chr> & <chr> & <dbl> & <dbl> & ... & <int> & <int> & <chr> & <chr> & <chr> & <chr> & <chr> & <chr> & <chr> & <chr>\\\\\n",
       "\\hline\n",
       "\t1 & CCMSLIB00003135371 & Spectral Match to DL-Phenylalanine from NIST14 & ESI & QQQ  & Isolated & Data from Pieter Dorrestein & Data deposited by lfnothias & M+H & 166.083 & 165.079 & ... &  57 &  2653 & COLNVLDHVKWLRT-UHFFFAOYSA-N & COLNVLDHVKWLRT & Organic acids and derivatives & Carboxylic acids and derivatives    & Amino acids, peptides, and analogues & Small peptides & Aminoacids & Amino acids and Peptides\\textbar{}Shikimates and Phenylpropanoids\\\\\n",
       "\t2 & CCMSLIB00003138938 & Spectral Match to Sulfadimethoxine from NIST14 & ESI & qTof & Isolated & Data from Joshua Wollam     & Data deposited by fevargas  & M+H & 311.080 & 310.074 & ... & 133 & 24184 & ZZORFUFYDOWNEF-UHFFFAOYSA-N & ZZORFUFYDOWNEF & Benzenoids                    & Benzene and substituted derivatives & Benzenesulfonamides                  &                &            & Alkaloids                                               \\\\\n",
       "\\end{tabular}\n"
      ],
      "text/markdown": [
       "\n",
       "A data.frame: 2 × 46\n",
       "\n",
       "| <!--/--> | SpectrumID &lt;chr&gt; | Compound_Name &lt;chr&gt; | Ion_Source &lt;chr&gt; | Instrument &lt;chr&gt; | Compound_Source &lt;chr&gt; | PI &lt;chr&gt; | Data_Collector &lt;chr&gt; | Adduct &lt;chr&gt; | Precursor_MZ &lt;dbl&gt; | ExactMass &lt;dbl&gt; | ... ... | MoleculeExplorerDatasets &lt;int&gt; | MoleculeExplorerFiles &lt;int&gt; | InChIKey &lt;chr&gt; | InChIKey-Planar &lt;chr&gt; | superclass &lt;chr&gt; | class &lt;chr&gt; | subclass &lt;chr&gt; | npclassifier_superclass &lt;chr&gt; | npclassifier_class &lt;chr&gt; | npclassifier_pathway &lt;chr&gt; |\n",
       "|---|---|---|---|---|---|---|---|---|---|---|---|---|---|---|---|---|---|---|---|---|---|\n",
       "| 1 | CCMSLIB00003135371 | Spectral Match to DL-Phenylalanine from NIST14 | ESI | QQQ  | Isolated | Data from Pieter Dorrestein | Data deposited by lfnothias | M+H | 166.083 | 165.079 | ... |  57 |  2653 | COLNVLDHVKWLRT-UHFFFAOYSA-N | COLNVLDHVKWLRT | Organic acids and derivatives | Carboxylic acids and derivatives    | Amino acids, peptides, and analogues | Small peptides | Aminoacids | Amino acids and Peptides|Shikimates and Phenylpropanoids |\n",
       "| 2 | CCMSLIB00003138938 | Spectral Match to Sulfadimethoxine from NIST14 | ESI | qTof | Isolated | Data from Joshua Wollam     | Data deposited by fevargas  | M+H | 311.080 | 310.074 | ... | 133 | 24184 | ZZORFUFYDOWNEF-UHFFFAOYSA-N | ZZORFUFYDOWNEF | Benzenoids                    | Benzene and substituted derivatives | Benzenesulfonamides                  | <!----> | <!----> | Alkaloids                                                |\n",
       "\n"
      ],
      "text/plain": [
       "  SpectrumID         Compound_Name                                  Ion_Source\n",
       "1 CCMSLIB00003135371 Spectral Match to DL-Phenylalanine from NIST14 ESI       \n",
       "2 CCMSLIB00003138938 Spectral Match to Sulfadimethoxine from NIST14 ESI       \n",
       "  Instrument Compound_Source PI                         \n",
       "1 QQQ        Isolated        Data from Pieter Dorrestein\n",
       "2 qTof       Isolated        Data from Joshua Wollam    \n",
       "  Data_Collector              Adduct Precursor_MZ ExactMass ...\n",
       "1 Data deposited by lfnothias M+H    166.083      165.079   ...\n",
       "2 Data deposited by fevargas  M+H    311.080      310.074   ...\n",
       "  MoleculeExplorerDatasets MoleculeExplorerFiles InChIKey                   \n",
       "1  57                       2653                 COLNVLDHVKWLRT-UHFFFAOYSA-N\n",
       "2 133                      24184                 ZZORFUFYDOWNEF-UHFFFAOYSA-N\n",
       "  InChIKey-Planar superclass                   \n",
       "1 COLNVLDHVKWLRT  Organic acids and derivatives\n",
       "2 ZZORFUFYDOWNEF  Benzenoids                   \n",
       "  class                               subclass                            \n",
       "1 Carboxylic acids and derivatives    Amino acids, peptides, and analogues\n",
       "2 Benzene and substituted derivatives Benzenesulfonamides                 \n",
       "  npclassifier_superclass npclassifier_class\n",
       "1 Small peptides          Aminoacids        \n",
       "2                                           \n",
       "  npclassifier_pathway                                    \n",
       "1 Amino acids and Peptides|Shikimates and Phenylpropanoids\n",
       "2 Alkaloids                                               "
      ]
     },
     "metadata": {},
     "output_type": "display_data"
    }
   ],
   "source": [
    "head(gnps_an,2)"
   ]
  },
  {
   "cell_type": "code",
   "execution_count": 34,
   "id": "73d93d0a-a42c-4ac2-8261-461efe8fab80",
   "metadata": {},
   "outputs": [
    {
     "name": "stdin",
     "output_type": "stream",
     "text": [
      "Do you want to merge your feature table with other annotation tables? (Y/N)  y\n"
     ]
    },
    {
     "data": {
      "text/html": [
       "<table class=\"dataframe\">\n",
       "<caption>A data.frame: 5 × 2</caption>\n",
       "<thead>\n",
       "\t<tr><th scope=col>ID</th><th scope=col>Tables</th></tr>\n",
       "\t<tr><th scope=col>&lt;int&gt;</th><th scope=col>&lt;chr&gt;</th></tr>\n",
       "</thead>\n",
       "<tbody>\n",
       "\t<tr><td>1</td><td>GNPS annotation       </td></tr>\n",
       "\t<tr><td>2</td><td>GNPS analog annotation</td></tr>\n",
       "\t<tr><td>3</td><td>SIRIUS                </td></tr>\n",
       "\t<tr><td>4</td><td>CANOPUS               </td></tr>\n",
       "\t<tr><td>5</td><td>Escape                </td></tr>\n",
       "</tbody>\n",
       "</table>\n"
      ],
      "text/latex": [
       "A data.frame: 5 × 2\n",
       "\\begin{tabular}{ll}\n",
       " ID & Tables\\\\\n",
       " <int> & <chr>\\\\\n",
       "\\hline\n",
       "\t 1 & GNPS annotation       \\\\\n",
       "\t 2 & GNPS analog annotation\\\\\n",
       "\t 3 & SIRIUS                \\\\\n",
       "\t 4 & CANOPUS               \\\\\n",
       "\t 5 & Escape                \\\\\n",
       "\\end{tabular}\n"
      ],
      "text/markdown": [
       "\n",
       "A data.frame: 5 × 2\n",
       "\n",
       "| ID &lt;int&gt; | Tables &lt;chr&gt; |\n",
       "|---|---|\n",
       "| 1 | GNPS annotation        |\n",
       "| 2 | GNPS analog annotation |\n",
       "| 3 | SIRIUS                 |\n",
       "| 4 | CANOPUS                |\n",
       "| 5 | Escape                 |\n",
       "\n"
      ],
      "text/plain": [
       "  ID Tables                \n",
       "1 1  GNPS annotation       \n",
       "2 2  GNPS analog annotation\n",
       "3 3  SIRIUS                \n",
       "4 4  CANOPUS               \n",
       "5 5  Escape                "
      ]
     },
     "metadata": {},
     "output_type": "display_data"
    },
    {
     "name": "stdout",
     "output_type": "stream",
     "text": [
      "Please enter the numbers corresponding to the tables you want to merge with the feature table, separated by commas:\n"
     ]
    },
    {
     "name": "stdin",
     "output_type": "stream",
     "text": [
      "Your choices:  1\n"
     ]
    },
    {
     "data": {
      "text/html": [
       "<table class=\"dataframe\">\n",
       "<caption>A data.frame: 1 × 2</caption>\n",
       "<thead>\n",
       "\t<tr><th></th><th scope=col>ID</th><th scope=col>Tables</th></tr>\n",
       "\t<tr><th></th><th scope=col>&lt;int&gt;</th><th scope=col>&lt;chr&gt;</th></tr>\n",
       "</thead>\n",
       "<tbody>\n",
       "\t<tr><th scope=row>1</th><td>1</td><td>GNPS annotation</td></tr>\n",
       "</tbody>\n",
       "</table>\n"
      ],
      "text/latex": [
       "A data.frame: 1 × 2\n",
       "\\begin{tabular}{r|ll}\n",
       "  & ID & Tables\\\\\n",
       "  & <int> & <chr>\\\\\n",
       "\\hline\n",
       "\t1 & 1 & GNPS annotation\\\\\n",
       "\\end{tabular}\n"
      ],
      "text/markdown": [
       "\n",
       "A data.frame: 1 × 2\n",
       "\n",
       "| <!--/--> | ID &lt;int&gt; | Tables &lt;chr&gt; |\n",
       "|---|---|---|\n",
       "| 1 | 1 | GNPS annotation |\n",
       "\n"
      ],
      "text/plain": [
       "  ID Tables         \n",
       "1 1  GNPS annotation"
      ]
     },
     "metadata": {},
     "output_type": "display_data"
    },
    {
     "data": {
      "text/html": [
       "<table class=\"dataframe\">\n",
       "<caption>A data.frame: 2 × 145</caption>\n",
       "<thead>\n",
       "\t<tr><th></th><th scope=col>row ID</th><th scope=col>row m/z</th><th scope=col>row retention time</th><th scope=col>row ion mobility</th><th scope=col>row ion mobility unit</th><th scope=col>row CCS</th><th scope=col>correlation group ID</th><th scope=col>annotation network number</th><th scope=col>best ion</th><th scope=col>auto MS2 verify</th><th scope=col>...</th><th scope=col>MoleculeExplorerDatasets</th><th scope=col>MoleculeExplorerFiles</th><th scope=col>InChIKey</th><th scope=col>InChIKey-Planar</th><th scope=col>superclass</th><th scope=col>class</th><th scope=col>subclass</th><th scope=col>npclassifier_superclass</th><th scope=col>npclassifier_class</th><th scope=col>npclassifier_pathway</th></tr>\n",
       "\t<tr><th></th><th scope=col>&lt;int&gt;</th><th scope=col>&lt;dbl&gt;</th><th scope=col>&lt;dbl&gt;</th><th scope=col>&lt;lgl&gt;</th><th scope=col>&lt;lgl&gt;</th><th scope=col>&lt;lgl&gt;</th><th scope=col>&lt;int&gt;</th><th scope=col>&lt;int&gt;</th><th scope=col>&lt;chr&gt;</th><th scope=col>&lt;lgl&gt;</th><th scope=col>...</th><th scope=col>&lt;int&gt;</th><th scope=col>&lt;int&gt;</th><th scope=col>&lt;chr&gt;</th><th scope=col>&lt;chr&gt;</th><th scope=col>&lt;chr&gt;</th><th scope=col>&lt;chr&gt;</th><th scope=col>&lt;chr&gt;</th><th scope=col>&lt;chr&gt;</th><th scope=col>&lt;chr&gt;</th><th scope=col>&lt;chr&gt;</th></tr>\n",
       "</thead>\n",
       "<tbody>\n",
       "\t<tr><th scope=row>1</th><td>2</td><td>285.0096</td><td>0.02633856</td><td>NA</td><td>NA</td><td>NA</td><td>NA</td><td>NA</td><td></td><td>NA</td><td>...</td><td>NA</td><td>NA</td><td>NA</td><td>NA</td><td>NA</td><td>NA</td><td>NA</td><td>NA</td><td>NA</td><td>NA</td></tr>\n",
       "\t<tr><th scope=row>2</th><td>4</td><td>166.1227</td><td>0.05413009</td><td>NA</td><td>NA</td><td>NA</td><td>NA</td><td>NA</td><td></td><td>NA</td><td>...</td><td>NA</td><td>NA</td><td>NA</td><td>NA</td><td>NA</td><td>NA</td><td>NA</td><td>NA</td><td>NA</td><td>NA</td></tr>\n",
       "</tbody>\n",
       "</table>\n"
      ],
      "text/latex": [
       "A data.frame: 2 × 145\n",
       "\\begin{tabular}{r|lllllllllllllllllllll}\n",
       "  & row ID & row m/z & row retention time & row ion mobility & row ion mobility unit & row CCS & correlation group ID & annotation network number & best ion & auto MS2 verify & ... & MoleculeExplorerDatasets & MoleculeExplorerFiles & InChIKey & InChIKey-Planar & superclass & class & subclass & npclassifier\\_superclass & npclassifier\\_class & npclassifier\\_pathway\\\\\n",
       "  & <int> & <dbl> & <dbl> & <lgl> & <lgl> & <lgl> & <int> & <int> & <chr> & <lgl> & ... & <int> & <int> & <chr> & <chr> & <chr> & <chr> & <chr> & <chr> & <chr> & <chr>\\\\\n",
       "\\hline\n",
       "\t1 & 2 & 285.0096 & 0.02633856 & NA & NA & NA & NA & NA &  & NA & ... & NA & NA & NA & NA & NA & NA & NA & NA & NA & NA\\\\\n",
       "\t2 & 4 & 166.1227 & 0.05413009 & NA & NA & NA & NA & NA &  & NA & ... & NA & NA & NA & NA & NA & NA & NA & NA & NA & NA\\\\\n",
       "\\end{tabular}\n"
      ],
      "text/markdown": [
       "\n",
       "A data.frame: 2 × 145\n",
       "\n",
       "| <!--/--> | row ID &lt;int&gt; | row m/z &lt;dbl&gt; | row retention time &lt;dbl&gt; | row ion mobility &lt;lgl&gt; | row ion mobility unit &lt;lgl&gt; | row CCS &lt;lgl&gt; | correlation group ID &lt;int&gt; | annotation network number &lt;int&gt; | best ion &lt;chr&gt; | auto MS2 verify &lt;lgl&gt; | ... ... | MoleculeExplorerDatasets &lt;int&gt; | MoleculeExplorerFiles &lt;int&gt; | InChIKey &lt;chr&gt; | InChIKey-Planar &lt;chr&gt; | superclass &lt;chr&gt; | class &lt;chr&gt; | subclass &lt;chr&gt; | npclassifier_superclass &lt;chr&gt; | npclassifier_class &lt;chr&gt; | npclassifier_pathway &lt;chr&gt; |\n",
       "|---|---|---|---|---|---|---|---|---|---|---|---|---|---|---|---|---|---|---|---|---|---|\n",
       "| 1 | 2 | 285.0096 | 0.02633856 | NA | NA | NA | NA | NA | <!----> | NA | ... | NA | NA | NA | NA | NA | NA | NA | NA | NA | NA |\n",
       "| 2 | 4 | 166.1227 | 0.05413009 | NA | NA | NA | NA | NA | <!----> | NA | ... | NA | NA | NA | NA | NA | NA | NA | NA | NA | NA |\n",
       "\n"
      ],
      "text/plain": [
       "  row ID row m/z  row retention time row ion mobility row ion mobility unit\n",
       "1 2      285.0096 0.02633856         NA               NA                   \n",
       "2 4      166.1227 0.05413009         NA               NA                   \n",
       "  row CCS correlation group ID annotation network number best ion\n",
       "1 NA      NA                   NA                                \n",
       "2 NA      NA                   NA                                \n",
       "  auto MS2 verify ... MoleculeExplorerDatasets MoleculeExplorerFiles InChIKey\n",
       "1 NA              ... NA                       NA                    NA      \n",
       "2 NA              ... NA                       NA                    NA      \n",
       "  InChIKey-Planar superclass class subclass npclassifier_superclass\n",
       "1 NA              NA         NA    NA       NA                     \n",
       "2 NA              NA         NA    NA       NA                     \n",
       "  npclassifier_class npclassifier_pathway\n",
       "1 NA                 NA                  \n",
       "2 NA                 NA                  "
      ]
     },
     "metadata": {},
     "output_type": "display_data"
    },
    {
     "name": "stdout",
     "output_type": "stream",
     "text": [
      "This is the merged table 'merge_table'"
     ]
    }
   ],
   "source": [
    "merge_annotation <- readline(\"Do you want to merge your feature table with other annotation tables? (Y/N) \")\n",
    "\n",
    "# Check if the response is 'Y' or 'y'\n",
    "if (toupper(merge_annotation) == \"Y\") {\n",
    "  # Source your R script\n",
    "  source(\"C:/Users/abzer/OneDrive/Documents/GitHub/ChemProp2/ChemProp2_scripts/datacleanup_scripts/merge_annotations.r\")\n",
    "}\n"
   ]
  },
  {
   "cell_type": "markdown",
   "id": "81940757",
   "metadata": {
    "id": "0ebcf409-e945-480d-9501-a70da21454c9",
    "tags": []
   },
   "source": [
    "---\n",
    "\n",
    "## <font color ='darkblue'> 2.5 Arranging metadata and feature table in the same order</font>\n",
    "<a name=\"arr_input_files\"></a>"
   ]
  },
  {
   "cell_type": "code",
   "execution_count": 35,
   "id": "83615ee7-52d5-41ed-8111-3503b9921eae",
   "metadata": {},
   "outputs": [
    {
     "name": "stderr",
     "output_type": "stream",
     "text": [
      "Your new_ft table:\n",
      "\n"
     ]
    },
    {
     "data": {
      "text/html": [
       "<table class=\"dataframe\">\n",
       "<caption>A data.frame: 2 × 95</caption>\n",
       "<thead>\n",
       "\t<tr><th></th><th scope=col>row ID</th><th scope=col>row m/z</th><th scope=col>row retention time</th><th scope=col>correlation group ID</th><th scope=col>annotation network number</th><th scope=col>best ion</th><th scope=col>identified by n=</th><th scope=col>partners</th><th scope=col>neutral M mass</th><th scope=col>Avr_Bac_Rep2_t10.mzML</th><th scope=col>...</th><th scope=col>GutBac_Rep2_t180.mzML</th><th scope=col>GutBac_Rep3_t240.mzML</th><th scope=col>GutBac_Rep3_t20.mzML</th><th scope=col>GutBac_Rep3_t30.mzML</th><th scope=col>GutBac_Rep3_t720.mzML</th><th scope=col>GutBac_Rep3_t180.mzML</th><th scope=col>GutBac_Rep2_t20.mzML</th><th scope=col>GutBac_Rep2_t720.mzML</th><th scope=col>GutBac_Rep3_t1.mzML</th><th scope=col>GutBac_Rep3_t120.mzML</th></tr>\n",
       "\t<tr><th></th><th scope=col>&lt;int&gt;</th><th scope=col>&lt;dbl&gt;</th><th scope=col>&lt;dbl&gt;</th><th scope=col>&lt;int&gt;</th><th scope=col>&lt;int&gt;</th><th scope=col>&lt;chr&gt;</th><th scope=col>&lt;int&gt;</th><th scope=col>&lt;chr&gt;</th><th scope=col>&lt;dbl&gt;</th><th scope=col>&lt;dbl&gt;</th><th scope=col>...</th><th scope=col>&lt;dbl&gt;</th><th scope=col>&lt;dbl&gt;</th><th scope=col>&lt;dbl&gt;</th><th scope=col>&lt;dbl&gt;</th><th scope=col>&lt;dbl&gt;</th><th scope=col>&lt;dbl&gt;</th><th scope=col>&lt;dbl&gt;</th><th scope=col>&lt;dbl&gt;</th><th scope=col>&lt;dbl&gt;</th><th scope=col>&lt;dbl&gt;</th></tr>\n",
       "</thead>\n",
       "<tbody>\n",
       "\t<tr><th scope=row>X2_285.01_0.026_NA</th><td>2</td><td>285.0096</td><td>0.02633856</td><td>NA</td><td>NA</td><td></td><td>NA</td><td></td><td>NA</td><td>31352.27</td><td>...</td><td>21206.94</td><td> 7105.003</td><td>19034.215</td><td>27222.57</td><td> 5091.567</td><td>18300.857</td><td>27369.81</td><td>29424.068</td><td>31372.82</td><td>8301.374</td></tr>\n",
       "\t<tr><th scope=row>X4_166.123_0.054_NA</th><td>4</td><td>166.1227</td><td>0.05413009</td><td>NA</td><td>NA</td><td></td><td>NA</td><td></td><td>NA</td><td>35725.56</td><td>...</td><td>28648.79</td><td>36226.734</td><td> 2841.817</td><td>33543.08</td><td>29613.550</td><td> 1586.277</td><td>31765.92</td><td> 4924.068</td><td>41463.85</td><td>9741.186</td></tr>\n",
       "</tbody>\n",
       "</table>\n"
      ],
      "text/latex": [
       "A data.frame: 2 × 95\n",
       "\\begin{tabular}{r|lllllllllllllllllllll}\n",
       "  & row ID & row m/z & row retention time & correlation group ID & annotation network number & best ion & identified by n= & partners & neutral M mass & Avr\\_Bac\\_Rep2\\_t10.mzML & ... & GutBac\\_Rep2\\_t180.mzML & GutBac\\_Rep3\\_t240.mzML & GutBac\\_Rep3\\_t20.mzML & GutBac\\_Rep3\\_t30.mzML & GutBac\\_Rep3\\_t720.mzML & GutBac\\_Rep3\\_t180.mzML & GutBac\\_Rep2\\_t20.mzML & GutBac\\_Rep2\\_t720.mzML & GutBac\\_Rep3\\_t1.mzML & GutBac\\_Rep3\\_t120.mzML\\\\\n",
       "  & <int> & <dbl> & <dbl> & <int> & <int> & <chr> & <int> & <chr> & <dbl> & <dbl> & ... & <dbl> & <dbl> & <dbl> & <dbl> & <dbl> & <dbl> & <dbl> & <dbl> & <dbl> & <dbl>\\\\\n",
       "\\hline\n",
       "\tX2\\_285.01\\_0.026\\_NA & 2 & 285.0096 & 0.02633856 & NA & NA &  & NA &  & NA & 31352.27 & ... & 21206.94 &  7105.003 & 19034.215 & 27222.57 &  5091.567 & 18300.857 & 27369.81 & 29424.068 & 31372.82 & 8301.374\\\\\n",
       "\tX4\\_166.123\\_0.054\\_NA & 4 & 166.1227 & 0.05413009 & NA & NA &  & NA &  & NA & 35725.56 & ... & 28648.79 & 36226.734 &  2841.817 & 33543.08 & 29613.550 &  1586.277 & 31765.92 &  4924.068 & 41463.85 & 9741.186\\\\\n",
       "\\end{tabular}\n"
      ],
      "text/markdown": [
       "\n",
       "A data.frame: 2 × 95\n",
       "\n",
       "| <!--/--> | row ID &lt;int&gt; | row m/z &lt;dbl&gt; | row retention time &lt;dbl&gt; | correlation group ID &lt;int&gt; | annotation network number &lt;int&gt; | best ion &lt;chr&gt; | identified by n= &lt;int&gt; | partners &lt;chr&gt; | neutral M mass &lt;dbl&gt; | Avr_Bac_Rep2_t10.mzML &lt;dbl&gt; | ... ... | GutBac_Rep2_t180.mzML &lt;dbl&gt; | GutBac_Rep3_t240.mzML &lt;dbl&gt; | GutBac_Rep3_t20.mzML &lt;dbl&gt; | GutBac_Rep3_t30.mzML &lt;dbl&gt; | GutBac_Rep3_t720.mzML &lt;dbl&gt; | GutBac_Rep3_t180.mzML &lt;dbl&gt; | GutBac_Rep2_t20.mzML &lt;dbl&gt; | GutBac_Rep2_t720.mzML &lt;dbl&gt; | GutBac_Rep3_t1.mzML &lt;dbl&gt; | GutBac_Rep3_t120.mzML &lt;dbl&gt; |\n",
       "|---|---|---|---|---|---|---|---|---|---|---|---|---|---|---|---|---|---|---|---|---|---|\n",
       "| X2_285.01_0.026_NA | 2 | 285.0096 | 0.02633856 | NA | NA | <!----> | NA | <!----> | NA | 31352.27 | ... | 21206.94 |  7105.003 | 19034.215 | 27222.57 |  5091.567 | 18300.857 | 27369.81 | 29424.068 | 31372.82 | 8301.374 |\n",
       "| X4_166.123_0.054_NA | 4 | 166.1227 | 0.05413009 | NA | NA | <!----> | NA | <!----> | NA | 35725.56 | ... | 28648.79 | 36226.734 |  2841.817 | 33543.08 | 29613.550 |  1586.277 | 31765.92 |  4924.068 | 41463.85 | 9741.186 |\n",
       "\n"
      ],
      "text/plain": [
       "                    row ID row m/z  row retention time correlation group ID\n",
       "X2_285.01_0.026_NA  2      285.0096 0.02633856         NA                  \n",
       "X4_166.123_0.054_NA 4      166.1227 0.05413009         NA                  \n",
       "                    annotation network number best ion identified by n=\n",
       "X2_285.01_0.026_NA  NA                                 NA              \n",
       "X4_166.123_0.054_NA NA                                 NA              \n",
       "                    partners neutral M mass Avr_Bac_Rep2_t10.mzML ...\n",
       "X2_285.01_0.026_NA           NA             31352.27              ...\n",
       "X4_166.123_0.054_NA          NA             35725.56              ...\n",
       "                    GutBac_Rep2_t180.mzML GutBac_Rep3_t240.mzML\n",
       "X2_285.01_0.026_NA  21206.94               7105.003            \n",
       "X4_166.123_0.054_NA 28648.79              36226.734            \n",
       "                    GutBac_Rep3_t20.mzML GutBac_Rep3_t30.mzML\n",
       "X2_285.01_0.026_NA  19034.215            27222.57            \n",
       "X4_166.123_0.054_NA  2841.817            33543.08            \n",
       "                    GutBac_Rep3_t720.mzML GutBac_Rep3_t180.mzML\n",
       "X2_285.01_0.026_NA   5091.567             18300.857            \n",
       "X4_166.123_0.054_NA 29613.550              1586.277            \n",
       "                    GutBac_Rep2_t20.mzML GutBac_Rep2_t720.mzML\n",
       "X2_285.01_0.026_NA  27369.81             29424.068            \n",
       "X4_166.123_0.054_NA 31765.92              4924.068            \n",
       "                    GutBac_Rep3_t1.mzML GutBac_Rep3_t120.mzML\n",
       "X2_285.01_0.026_NA  31372.82            8301.374             \n",
       "X4_166.123_0.054_NA 41463.85            9741.186             "
      ]
     },
     "metadata": {},
     "output_type": "display_data"
    },
    {
     "name": "stderr",
     "output_type": "stream",
     "text": [
      "Your new_md table:\n",
      "\n"
     ]
    },
    {
     "data": {
      "text/html": [
       "<table class=\"dataframe\">\n",
       "<caption>A data.frame: 2 × 4</caption>\n",
       "<thead>\n",
       "\t<tr><th></th><th scope=col>filename</th><th scope=col>ATTRIBUTE_sample</th><th scope=col>ATTRIBUTE_replicates</th><th scope=col>ATTRIBUTE_timepoint_minutes</th></tr>\n",
       "\t<tr><th></th><th scope=col>&lt;chr&gt;</th><th scope=col>&lt;chr&gt;</th><th scope=col>&lt;chr&gt;</th><th scope=col>&lt;chr&gt;</th></tr>\n",
       "</thead>\n",
       "<tbody>\n",
       "\t<tr><th scope=row>1</th><td>Avr_Bac_Rep1_t0.mzML</td><td>Avermectin + Gut bacteria</td><td>1</td><td>0</td></tr>\n",
       "\t<tr><th scope=row>2</th><td>Avr_Bac_Rep1_t1.mzML</td><td>Avermectin + Gut bacteria</td><td>1</td><td>1</td></tr>\n",
       "</tbody>\n",
       "</table>\n"
      ],
      "text/latex": [
       "A data.frame: 2 × 4\n",
       "\\begin{tabular}{r|llll}\n",
       "  & filename & ATTRIBUTE\\_sample & ATTRIBUTE\\_replicates & ATTRIBUTE\\_timepoint\\_minutes\\\\\n",
       "  & <chr> & <chr> & <chr> & <chr>\\\\\n",
       "\\hline\n",
       "\t1 & Avr\\_Bac\\_Rep1\\_t0.mzML & Avermectin + Gut bacteria & 1 & 0\\\\\n",
       "\t2 & Avr\\_Bac\\_Rep1\\_t1.mzML & Avermectin + Gut bacteria & 1 & 1\\\\\n",
       "\\end{tabular}\n"
      ],
      "text/markdown": [
       "\n",
       "A data.frame: 2 × 4\n",
       "\n",
       "| <!--/--> | filename &lt;chr&gt; | ATTRIBUTE_sample &lt;chr&gt; | ATTRIBUTE_replicates &lt;chr&gt; | ATTRIBUTE_timepoint_minutes &lt;chr&gt; |\n",
       "|---|---|---|---|---|\n",
       "| 1 | Avr_Bac_Rep1_t0.mzML | Avermectin + Gut bacteria | 1 | 0 |\n",
       "| 2 | Avr_Bac_Rep1_t1.mzML | Avermectin + Gut bacteria | 1 | 1 |\n",
       "\n"
      ],
      "text/plain": [
       "  filename             ATTRIBUTE_sample          ATTRIBUTE_replicates\n",
       "1 Avr_Bac_Rep1_t0.mzML Avermectin + Gut bacteria 1                   \n",
       "2 Avr_Bac_Rep1_t1.mzML Avermectin + Gut bacteria 1                   \n",
       "  ATTRIBUTE_timepoint_minutes\n",
       "1 0                          \n",
       "2 1                          "
      ]
     },
     "metadata": {},
     "output_type": "display_data"
    },
    {
     "name": "stdout",
     "output_type": "stream",
     "text": [
      "[1] \"You have all mzML files.\"\n"
     ]
    },
    {
     "name": "stderr",
     "output_type": "stream",
     "text": [
      "Number of files in the metadata also present in the feature table: 86\n",
      "\n",
      "All filenames in the metadata match those in the feature table.\n",
      "\n",
      "The number of rows and columns in our original feature table is: 3412 x 100\n",
      "\n",
      "\n",
      "The number of rows and columns in our new feature table is: 3412 x 86\n",
      "\n",
      "\n",
      "The number of rows and columns in our new metadata is: 86 x 4\n",
      "\n"
     ]
    }
   ],
   "source": [
    "source(\"C:/Users/abzer/OneDrive/Documents/GitHub/ChemProp2/ChemProp2_scripts/datacleanup_scripts/arrange_ft_md.r\")"
   ]
  },
  {
   "cell_type": "markdown",
   "id": "5df9f459",
   "metadata": {
    "id": "ed594448"
   },
   "source": [
    "Notice that the number of columns of the new feature table is the same as the number of rows in our new metadata. Now, we have both our feature table and metadata in the same order.\n",
    "\n",
    "---"
   ]
  },
  {
   "cell_type": "markdown",
   "id": "b2f05b50",
   "metadata": {
    "tags": []
   },
   "source": [
    "# <font color ='blue'> 3. Data-cleanup </font>\n",
    "<a name =\"data_cleanup\"></a>"
   ]
  },
  {
   "cell_type": "code",
   "execution_count": 36,
   "id": "235b7689",
   "metadata": {
    "tags": []
   },
   "outputs": [
    {
     "data": {
      "text/html": [
       "TRUE"
      ],
      "text/latex": [
       "TRUE"
      ],
      "text/markdown": [
       "TRUE"
      ],
      "text/plain": [
       "[1] TRUE"
      ]
     },
     "metadata": {},
     "output_type": "display_data"
    }
   ],
   "source": [
    "ft_t <- as.data.frame(t(new_ft)) #transposing the ft\n",
    "ft_t <- ft_t %>% mutate_all(as.numeric)  #converting all values to numeric\n",
    "identical(new_md$filename,rownames(ft_t)) #should return TRUE now"
   ]
  },
  {
   "cell_type": "code",
   "execution_count": 84,
   "id": "ebc8b054-9cc2-4659-8ae1-7923f733b12e",
   "metadata": {},
   "outputs": [
    {
     "data": {
      "text/html": [
       "<table class=\"dataframe\">\n",
       "<caption>A data.frame: 3 × 3412</caption>\n",
       "<thead>\n",
       "\t<tr><th></th><th scope=col>X2_285.01_0.026_NA</th><th scope=col>X4_166.123_0.054_NA</th><th scope=col>X5_227.04_0.023_NA</th><th scope=col>X6_223.084_0.078_NA</th><th scope=col>X7_207.032_0.096_NA</th><th scope=col>X8_209.048_0.149_NA</th><th scope=col>X13_248.059_0.067_NA</th><th scope=col>X14_300.062_0.14_NA</th><th scope=col>X20_267.035_0.094_NA</th><th scope=col>X22_209.031_0.103_NA</th><th scope=col>...</th><th scope=col>X7570_371.101_8.9_Spectral Match to Cyclopentasiloxane, decamethyl- from NIST14</th><th scope=col>X7574_166.123_8.912_NA</th><th scope=col>X7576_207.032_8.933_NA</th><th scope=col>X7580_227.04_8.942_NA</th><th scope=col>X7582_226.043_8.944_NA</th><th scope=col>X7585_300.062_8.895_NA</th><th scope=col>X7588_188.092_8.931_NA</th><th scope=col>X7599_175.913_8.948_NA</th><th scope=col>X7607_272.929_8.945_NA</th><th scope=col>X7608_276.935_8.948_NA</th></tr>\n",
       "\t<tr><th></th><th scope=col>&lt;dbl&gt;</th><th scope=col>&lt;dbl&gt;</th><th scope=col>&lt;dbl&gt;</th><th scope=col>&lt;dbl&gt;</th><th scope=col>&lt;dbl&gt;</th><th scope=col>&lt;dbl&gt;</th><th scope=col>&lt;dbl&gt;</th><th scope=col>&lt;dbl&gt;</th><th scope=col>&lt;dbl&gt;</th><th scope=col>&lt;dbl&gt;</th><th scope=col>...</th><th scope=col>&lt;dbl&gt;</th><th scope=col>&lt;dbl&gt;</th><th scope=col>&lt;dbl&gt;</th><th scope=col>&lt;dbl&gt;</th><th scope=col>&lt;dbl&gt;</th><th scope=col>&lt;dbl&gt;</th><th scope=col>&lt;dbl&gt;</th><th scope=col>&lt;dbl&gt;</th><th scope=col>&lt;dbl&gt;</th><th scope=col>&lt;dbl&gt;</th></tr>\n",
       "</thead>\n",
       "<tbody>\n",
       "\t<tr><th scope=row>Avr_Bac_Rep1_t0.mzML</th><td> 9121.137</td><td> 8585.590</td><td> 4739.735</td><td>4993.8193</td><td>277412.66</td><td>284921.84</td><td>15773.963</td><td>26200.02</td><td>35928.750</td><td>2344.3015</td><td>...</td><td>88692.57</td><td>41169.8630</td><td>404023.2</td><td> 71099.31</td><td>118227.420</td><td>202519.8</td><td>77821.67</td><td>0</td><td>  0.000</td><td>0</td></tr>\n",
       "\t<tr><th scope=row>Avr_Bac_Rep1_t1.mzML</th><td>18667.346</td><td>67654.586</td><td>47169.016</td><td> 933.2120</td><td> 45147.84</td><td> 45506.29</td><td>17384.234</td><td>25071.03</td><td>37784.785</td><td>5642.0100</td><td>...</td><td>12294.03</td><td>  583.6107</td><td>149986.9</td><td> 14805.44</td><td>  6482.815</td><td> 92694.0</td><td>23892.14</td><td>0</td><td>229.752</td><td>0</td></tr>\n",
       "\t<tr><th scope=row>Avr_Bac_Rep1_t10.mzML</th><td>25429.777</td><td> 1015.399</td><td>40111.543</td><td> 584.7465</td><td> 26532.36</td><td> 80316.74</td><td> 4655.406</td><td>45884.57</td><td> 9347.388</td><td> 370.4404</td><td>...</td><td>89136.30</td><td>17914.6720</td><td>375890.5</td><td>149315.52</td><td> 76691.830</td><td>197675.8</td><td>77878.05</td><td>0</td><td>  0.000</td><td>0</td></tr>\n",
       "</tbody>\n",
       "</table>\n"
      ],
      "text/latex": [
       "A data.frame: 3 × 3412\n",
       "\\begin{tabular}{r|lllllllllllllllllllll}\n",
       "  & X2\\_285.01\\_0.026\\_NA & X4\\_166.123\\_0.054\\_NA & X5\\_227.04\\_0.023\\_NA & X6\\_223.084\\_0.078\\_NA & X7\\_207.032\\_0.096\\_NA & X8\\_209.048\\_0.149\\_NA & X13\\_248.059\\_0.067\\_NA & X14\\_300.062\\_0.14\\_NA & X20\\_267.035\\_0.094\\_NA & X22\\_209.031\\_0.103\\_NA & ... & X7570\\_371.101\\_8.9\\_Spectral Match to Cyclopentasiloxane, decamethyl- from NIST14 & X7574\\_166.123\\_8.912\\_NA & X7576\\_207.032\\_8.933\\_NA & X7580\\_227.04\\_8.942\\_NA & X7582\\_226.043\\_8.944\\_NA & X7585\\_300.062\\_8.895\\_NA & X7588\\_188.092\\_8.931\\_NA & X7599\\_175.913\\_8.948\\_NA & X7607\\_272.929\\_8.945\\_NA & X7608\\_276.935\\_8.948\\_NA\\\\\n",
       "  & <dbl> & <dbl> & <dbl> & <dbl> & <dbl> & <dbl> & <dbl> & <dbl> & <dbl> & <dbl> & ... & <dbl> & <dbl> & <dbl> & <dbl> & <dbl> & <dbl> & <dbl> & <dbl> & <dbl> & <dbl>\\\\\n",
       "\\hline\n",
       "\tAvr\\_Bac\\_Rep1\\_t0.mzML &  9121.137 &  8585.590 &  4739.735 & 4993.8193 & 277412.66 & 284921.84 & 15773.963 & 26200.02 & 35928.750 & 2344.3015 & ... & 88692.57 & 41169.8630 & 404023.2 &  71099.31 & 118227.420 & 202519.8 & 77821.67 & 0 &   0.000 & 0\\\\\n",
       "\tAvr\\_Bac\\_Rep1\\_t1.mzML & 18667.346 & 67654.586 & 47169.016 &  933.2120 &  45147.84 &  45506.29 & 17384.234 & 25071.03 & 37784.785 & 5642.0100 & ... & 12294.03 &   583.6107 & 149986.9 &  14805.44 &   6482.815 &  92694.0 & 23892.14 & 0 & 229.752 & 0\\\\\n",
       "\tAvr\\_Bac\\_Rep1\\_t10.mzML & 25429.777 &  1015.399 & 40111.543 &  584.7465 &  26532.36 &  80316.74 &  4655.406 & 45884.57 &  9347.388 &  370.4404 & ... & 89136.30 & 17914.6720 & 375890.5 & 149315.52 &  76691.830 & 197675.8 & 77878.05 & 0 &   0.000 & 0\\\\\n",
       "\\end{tabular}\n"
      ],
      "text/markdown": [
       "\n",
       "A data.frame: 3 × 3412\n",
       "\n",
       "| <!--/--> | X2_285.01_0.026_NA &lt;dbl&gt; | X4_166.123_0.054_NA &lt;dbl&gt; | X5_227.04_0.023_NA &lt;dbl&gt; | X6_223.084_0.078_NA &lt;dbl&gt; | X7_207.032_0.096_NA &lt;dbl&gt; | X8_209.048_0.149_NA &lt;dbl&gt; | X13_248.059_0.067_NA &lt;dbl&gt; | X14_300.062_0.14_NA &lt;dbl&gt; | X20_267.035_0.094_NA &lt;dbl&gt; | X22_209.031_0.103_NA &lt;dbl&gt; | ... ... | X7570_371.101_8.9_Spectral Match to Cyclopentasiloxane, decamethyl- from NIST14 &lt;dbl&gt; | X7574_166.123_8.912_NA &lt;dbl&gt; | X7576_207.032_8.933_NA &lt;dbl&gt; | X7580_227.04_8.942_NA &lt;dbl&gt; | X7582_226.043_8.944_NA &lt;dbl&gt; | X7585_300.062_8.895_NA &lt;dbl&gt; | X7588_188.092_8.931_NA &lt;dbl&gt; | X7599_175.913_8.948_NA &lt;dbl&gt; | X7607_272.929_8.945_NA &lt;dbl&gt; | X7608_276.935_8.948_NA &lt;dbl&gt; |\n",
       "|---|---|---|---|---|---|---|---|---|---|---|---|---|---|---|---|---|---|---|---|---|---|\n",
       "| Avr_Bac_Rep1_t0.mzML |  9121.137 |  8585.590 |  4739.735 | 4993.8193 | 277412.66 | 284921.84 | 15773.963 | 26200.02 | 35928.750 | 2344.3015 | ... | 88692.57 | 41169.8630 | 404023.2 |  71099.31 | 118227.420 | 202519.8 | 77821.67 | 0 |   0.000 | 0 |\n",
       "| Avr_Bac_Rep1_t1.mzML | 18667.346 | 67654.586 | 47169.016 |  933.2120 |  45147.84 |  45506.29 | 17384.234 | 25071.03 | 37784.785 | 5642.0100 | ... | 12294.03 |   583.6107 | 149986.9 |  14805.44 |   6482.815 |  92694.0 | 23892.14 | 0 | 229.752 | 0 |\n",
       "| Avr_Bac_Rep1_t10.mzML | 25429.777 |  1015.399 | 40111.543 |  584.7465 |  26532.36 |  80316.74 |  4655.406 | 45884.57 |  9347.388 |  370.4404 | ... | 89136.30 | 17914.6720 | 375890.5 | 149315.52 |  76691.830 | 197675.8 | 77878.05 | 0 |   0.000 | 0 |\n",
       "\n"
      ],
      "text/plain": [
       "                      X2_285.01_0.026_NA X4_166.123_0.054_NA X5_227.04_0.023_NA\n",
       "Avr_Bac_Rep1_t0.mzML   9121.137           8585.590            4739.735         \n",
       "Avr_Bac_Rep1_t1.mzML  18667.346          67654.586           47169.016         \n",
       "Avr_Bac_Rep1_t10.mzML 25429.777           1015.399           40111.543         \n",
       "                      X6_223.084_0.078_NA X7_207.032_0.096_NA\n",
       "Avr_Bac_Rep1_t0.mzML  4993.8193           277412.66          \n",
       "Avr_Bac_Rep1_t1.mzML   933.2120            45147.84          \n",
       "Avr_Bac_Rep1_t10.mzML  584.7465            26532.36          \n",
       "                      X8_209.048_0.149_NA X13_248.059_0.067_NA\n",
       "Avr_Bac_Rep1_t0.mzML  284921.84           15773.963           \n",
       "Avr_Bac_Rep1_t1.mzML   45506.29           17384.234           \n",
       "Avr_Bac_Rep1_t10.mzML  80316.74            4655.406           \n",
       "                      X14_300.062_0.14_NA X20_267.035_0.094_NA\n",
       "Avr_Bac_Rep1_t0.mzML  26200.02            35928.750           \n",
       "Avr_Bac_Rep1_t1.mzML  25071.03            37784.785           \n",
       "Avr_Bac_Rep1_t10.mzML 45884.57             9347.388           \n",
       "                      X22_209.031_0.103_NA ...\n",
       "Avr_Bac_Rep1_t0.mzML  2344.3015            ...\n",
       "Avr_Bac_Rep1_t1.mzML  5642.0100            ...\n",
       "Avr_Bac_Rep1_t10.mzML  370.4404            ...\n",
       "                      X7570_371.101_8.9_Spectral Match to Cyclopentasiloxane, decamethyl- from NIST14\n",
       "Avr_Bac_Rep1_t0.mzML  88692.57                                                                       \n",
       "Avr_Bac_Rep1_t1.mzML  12294.03                                                                       \n",
       "Avr_Bac_Rep1_t10.mzML 89136.30                                                                       \n",
       "                      X7574_166.123_8.912_NA X7576_207.032_8.933_NA\n",
       "Avr_Bac_Rep1_t0.mzML  41169.8630             404023.2              \n",
       "Avr_Bac_Rep1_t1.mzML    583.6107             149986.9              \n",
       "Avr_Bac_Rep1_t10.mzML 17914.6720             375890.5              \n",
       "                      X7580_227.04_8.942_NA X7582_226.043_8.944_NA\n",
       "Avr_Bac_Rep1_t0.mzML   71099.31             118227.420            \n",
       "Avr_Bac_Rep1_t1.mzML   14805.44               6482.815            \n",
       "Avr_Bac_Rep1_t10.mzML 149315.52              76691.830            \n",
       "                      X7585_300.062_8.895_NA X7588_188.092_8.931_NA\n",
       "Avr_Bac_Rep1_t0.mzML  202519.8               77821.67              \n",
       "Avr_Bac_Rep1_t1.mzML   92694.0               23892.14              \n",
       "Avr_Bac_Rep1_t10.mzML 197675.8               77878.05              \n",
       "                      X7599_175.913_8.948_NA X7607_272.929_8.945_NA\n",
       "Avr_Bac_Rep1_t0.mzML  0                        0.000               \n",
       "Avr_Bac_Rep1_t1.mzML  0                      229.752               \n",
       "Avr_Bac_Rep1_t10.mzML 0                        0.000               \n",
       "                      X7608_276.935_8.948_NA\n",
       "Avr_Bac_Rep1_t0.mzML  0                     \n",
       "Avr_Bac_Rep1_t1.mzML  0                     \n",
       "Avr_Bac_Rep1_t10.mzML 0                     "
      ]
     },
     "metadata": {},
     "output_type": "display_data"
    }
   ],
   "source": [
    "head(ft_t,3)"
   ]
  },
  {
   "cell_type": "code",
   "execution_count": 37,
   "id": "c27edf0f-cd18-4acd-b4fb-51f4241e39a6",
   "metadata": {},
   "outputs": [],
   "source": [
    "source(\"C:/Users/abzer/OneDrive/Documents/GitHub/ChemProp2/ChemProp2_scripts/datacleanup_scripts/plot_PCoA.r\")"
   ]
  },
  {
   "cell_type": "markdown",
   "id": "4d634377-e9cc-40bd-a4ee-babf6d1203fe",
   "metadata": {},
   "source": [
    "Use the function as follows:  \n",
    "`plotPCoA(ft, md, distmetric = c(\"bray\",\"euclidean\", \"maximum\", \"manhattan\",\"canberra\", \"binary\", \"minkowski\"), title = 'Principal coordinates plot')`"
   ]
  },
  {
   "cell_type": "code",
   "execution_count": 38,
   "id": "b24df962-ace2-4b6e-94c2-6cd16205423b",
   "metadata": {},
   "outputs": [
    {
     "data": {
      "text/html": [
       "<table class=\"dataframe\">\n",
       "<caption>A data.frame: 4 × 2</caption>\n",
       "<thead>\n",
       "\t<tr><th scope=col>ID</th><th scope=col>Column_Names_Metadata</th></tr>\n",
       "\t<tr><th scope=col>&lt;int&gt;</th><th scope=col>&lt;chr&gt;</th></tr>\n",
       "</thead>\n",
       "<tbody>\n",
       "\t<tr><td>1</td><td>filename                   </td></tr>\n",
       "\t<tr><td>2</td><td>ATTRIBUTE_sample           </td></tr>\n",
       "\t<tr><td>3</td><td>ATTRIBUTE_replicates       </td></tr>\n",
       "\t<tr><td>4</td><td>ATTRIBUTE_timepoint_minutes</td></tr>\n",
       "</tbody>\n",
       "</table>\n"
      ],
      "text/latex": [
       "A data.frame: 4 × 2\n",
       "\\begin{tabular}{ll}\n",
       " ID & Column\\_Names\\_Metadata\\\\\n",
       " <int> & <chr>\\\\\n",
       "\\hline\n",
       "\t 1 & filename                   \\\\\n",
       "\t 2 & ATTRIBUTE\\_sample           \\\\\n",
       "\t 3 & ATTRIBUTE\\_replicates       \\\\\n",
       "\t 4 & ATTRIBUTE\\_timepoint\\_minutes\\\\\n",
       "\\end{tabular}\n"
      ],
      "text/markdown": [
       "\n",
       "A data.frame: 4 × 2\n",
       "\n",
       "| ID &lt;int&gt; | Column_Names_Metadata &lt;chr&gt; |\n",
       "|---|---|\n",
       "| 1 | filename                    |\n",
       "| 2 | ATTRIBUTE_sample            |\n",
       "| 3 | ATTRIBUTE_replicates        |\n",
       "| 4 | ATTRIBUTE_timepoint_minutes |\n",
       "\n"
      ],
      "text/plain": [
       "  ID Column_Names_Metadata      \n",
       "1 1  filename                   \n",
       "2 2  ATTRIBUTE_sample           \n",
       "3 3  ATTRIBUTE_replicates       \n",
       "4 4  ATTRIBUTE_timepoint_minutes"
      ]
     },
     "metadata": {},
     "output_type": "display_data"
    },
    {
     "name": "stdin",
     "output_type": "stream",
     "text": [
      "Enter the number corresponding to the metadata column you want to use for PCoA:  2\n"
     ]
    },
    {
     "data": {
      "image/png": "[encoded data removed]",
      "text/plain": [
       "plot without title"
      ]
     },
     "metadata": {
      "image/png": {
       "height": 600,
       "width": 600
      }
     },
     "output_type": "display_data"
    }
   ],
   "source": [
    "before_cleanup <- plotPCoA(ft_t, new_md, distmetric = 'canberra', title = \"Scores plot - Before Data Cleanup\")\n",
    "before_cleanup"
   ]
  },
  {
   "cell_type": "code",
   "execution_count": 40,
   "id": "cf89f638-fa3d-4e57-bdda-e5a273df4d25",
   "metadata": {},
   "outputs": [],
   "source": [
    "# Save the plot\n",
    "ggsave(filename = paste0(fName,'/PCoA_plot_before_blankremoval.svg'), plot = before_cleanup, width = 10, height = 10)"
   ]
  },
  {
   "cell_type": "markdown",
   "id": "13b7311d",
   "metadata": {},
   "source": [
    "As a first step of data-cleanup step, lets merge the metadata and feature table (transposed) together."
   ]
  },
  {
   "cell_type": "code",
   "execution_count": 41,
   "id": "4f19221f",
   "metadata": {},
   "outputs": [
    {
     "data": {
      "text/html": [
       "<table class=\"dataframe\">\n",
       "<caption>A data.frame: 3 × 3416</caption>\n",
       "<thead>\n",
       "\t<tr><th></th><th scope=col>filename</th><th scope=col>ATTRIBUTE_sample</th><th scope=col>ATTRIBUTE_replicates</th><th scope=col>ATTRIBUTE_timepoint_minutes</th><th scope=col>X2_285.01_0.026_NA</th><th scope=col>X4_166.123_0.054_NA</th><th scope=col>X5_227.04_0.023_NA</th><th scope=col>X6_223.084_0.078_NA</th><th scope=col>X7_207.032_0.096_NA</th><th scope=col>X8_209.048_0.149_NA</th><th scope=col>...</th><th scope=col>X7570_371.101_8.9_Spectral Match to Cyclopentasiloxane, decamethyl- from NIST14</th><th scope=col>X7574_166.123_8.912_NA</th><th scope=col>X7576_207.032_8.933_NA</th><th scope=col>X7580_227.04_8.942_NA</th><th scope=col>X7582_226.043_8.944_NA</th><th scope=col>X7585_300.062_8.895_NA</th><th scope=col>X7588_188.092_8.931_NA</th><th scope=col>X7599_175.913_8.948_NA</th><th scope=col>X7607_272.929_8.945_NA</th><th scope=col>X7608_276.935_8.948_NA</th></tr>\n",
       "\t<tr><th></th><th scope=col>&lt;chr&gt;</th><th scope=col>&lt;chr&gt;</th><th scope=col>&lt;chr&gt;</th><th scope=col>&lt;chr&gt;</th><th scope=col>&lt;dbl&gt;</th><th scope=col>&lt;dbl&gt;</th><th scope=col>&lt;dbl&gt;</th><th scope=col>&lt;dbl&gt;</th><th scope=col>&lt;dbl&gt;</th><th scope=col>&lt;dbl&gt;</th><th scope=col>...</th><th scope=col>&lt;dbl&gt;</th><th scope=col>&lt;dbl&gt;</th><th scope=col>&lt;dbl&gt;</th><th scope=col>&lt;dbl&gt;</th><th scope=col>&lt;dbl&gt;</th><th scope=col>&lt;dbl&gt;</th><th scope=col>&lt;dbl&gt;</th><th scope=col>&lt;dbl&gt;</th><th scope=col>&lt;dbl&gt;</th><th scope=col>&lt;dbl&gt;</th></tr>\n",
       "</thead>\n",
       "<tbody>\n",
       "\t<tr><th scope=row>1</th><td>Avr_Bac_Rep1_t0.mzML </td><td>Avermectin + Gut bacteria</td><td>1</td><td>0 </td><td> 9121.137</td><td> 8585.590</td><td> 4739.735</td><td>4993.8193</td><td>277412.66</td><td>284921.84</td><td>...</td><td>88692.57</td><td>41169.8630</td><td>404023.2</td><td> 71099.31</td><td>118227.420</td><td>202519.8</td><td>77821.67</td><td>0</td><td>  0.000</td><td>0</td></tr>\n",
       "\t<tr><th scope=row>2</th><td>Avr_Bac_Rep1_t1.mzML </td><td>Avermectin + Gut bacteria</td><td>1</td><td>1 </td><td>18667.346</td><td>67654.586</td><td>47169.016</td><td> 933.2120</td><td> 45147.84</td><td> 45506.29</td><td>...</td><td>12294.03</td><td>  583.6107</td><td>149986.9</td><td> 14805.44</td><td>  6482.815</td><td> 92694.0</td><td>23892.14</td><td>0</td><td>229.752</td><td>0</td></tr>\n",
       "\t<tr><th scope=row>3</th><td>Avr_Bac_Rep1_t10.mzML</td><td>Avermectin + Gut bacteria</td><td>1</td><td>10</td><td>25429.777</td><td> 1015.399</td><td>40111.543</td><td> 584.7465</td><td> 26532.36</td><td> 80316.74</td><td>...</td><td>89136.30</td><td>17914.6720</td><td>375890.5</td><td>149315.52</td><td> 76691.830</td><td>197675.8</td><td>77878.05</td><td>0</td><td>  0.000</td><td>0</td></tr>\n",
       "</tbody>\n",
       "</table>\n"
      ],
      "text/latex": [
       "A data.frame: 3 × 3416\n",
       "\\begin{tabular}{r|lllllllllllllllllllll}\n",
       "  & filename & ATTRIBUTE\\_sample & ATTRIBUTE\\_replicates & ATTRIBUTE\\_timepoint\\_minutes & X2\\_285.01\\_0.026\\_NA & X4\\_166.123\\_0.054\\_NA & X5\\_227.04\\_0.023\\_NA & X6\\_223.084\\_0.078\\_NA & X7\\_207.032\\_0.096\\_NA & X8\\_209.048\\_0.149\\_NA & ... & X7570\\_371.101\\_8.9\\_Spectral Match to Cyclopentasiloxane, decamethyl- from NIST14 & X7574\\_166.123\\_8.912\\_NA & X7576\\_207.032\\_8.933\\_NA & X7580\\_227.04\\_8.942\\_NA & X7582\\_226.043\\_8.944\\_NA & X7585\\_300.062\\_8.895\\_NA & X7588\\_188.092\\_8.931\\_NA & X7599\\_175.913\\_8.948\\_NA & X7607\\_272.929\\_8.945\\_NA & X7608\\_276.935\\_8.948\\_NA\\\\\n",
       "  & <chr> & <chr> & <chr> & <chr> & <dbl> & <dbl> & <dbl> & <dbl> & <dbl> & <dbl> & ... & <dbl> & <dbl> & <dbl> & <dbl> & <dbl> & <dbl> & <dbl> & <dbl> & <dbl> & <dbl>\\\\\n",
       "\\hline\n",
       "\t1 & Avr\\_Bac\\_Rep1\\_t0.mzML  & Avermectin + Gut bacteria & 1 & 0  &  9121.137 &  8585.590 &  4739.735 & 4993.8193 & 277412.66 & 284921.84 & ... & 88692.57 & 41169.8630 & 404023.2 &  71099.31 & 118227.420 & 202519.8 & 77821.67 & 0 &   0.000 & 0\\\\\n",
       "\t2 & Avr\\_Bac\\_Rep1\\_t1.mzML  & Avermectin + Gut bacteria & 1 & 1  & 18667.346 & 67654.586 & 47169.016 &  933.2120 &  45147.84 &  45506.29 & ... & 12294.03 &   583.6107 & 149986.9 &  14805.44 &   6482.815 &  92694.0 & 23892.14 & 0 & 229.752 & 0\\\\\n",
       "\t3 & Avr\\_Bac\\_Rep1\\_t10.mzML & Avermectin + Gut bacteria & 1 & 10 & 25429.777 &  1015.399 & 40111.543 &  584.7465 &  26532.36 &  80316.74 & ... & 89136.30 & 17914.6720 & 375890.5 & 149315.52 &  76691.830 & 197675.8 & 77878.05 & 0 &   0.000 & 0\\\\\n",
       "\\end{tabular}\n"
      ],
      "text/markdown": [
       "\n",
       "A data.frame: 3 × 3416\n",
       "\n",
       "| <!--/--> | filename &lt;chr&gt; | ATTRIBUTE_sample &lt;chr&gt; | ATTRIBUTE_replicates &lt;chr&gt; | ATTRIBUTE_timepoint_minutes &lt;chr&gt; | X2_285.01_0.026_NA &lt;dbl&gt; | X4_166.123_0.054_NA &lt;dbl&gt; | X5_227.04_0.023_NA &lt;dbl&gt; | X6_223.084_0.078_NA &lt;dbl&gt; | X7_207.032_0.096_NA &lt;dbl&gt; | X8_209.048_0.149_NA &lt;dbl&gt; | ... ... | X7570_371.101_8.9_Spectral Match to Cyclopentasiloxane, decamethyl- from NIST14 &lt;dbl&gt; | X7574_166.123_8.912_NA &lt;dbl&gt; | X7576_207.032_8.933_NA &lt;dbl&gt; | X7580_227.04_8.942_NA &lt;dbl&gt; | X7582_226.043_8.944_NA &lt;dbl&gt; | X7585_300.062_8.895_NA &lt;dbl&gt; | X7588_188.092_8.931_NA &lt;dbl&gt; | X7599_175.913_8.948_NA &lt;dbl&gt; | X7607_272.929_8.945_NA &lt;dbl&gt; | X7608_276.935_8.948_NA &lt;dbl&gt; |\n",
       "|---|---|---|---|---|---|---|---|---|---|---|---|---|---|---|---|---|---|---|---|---|---|\n",
       "| 1 | Avr_Bac_Rep1_t0.mzML  | Avermectin + Gut bacteria | 1 | 0  |  9121.137 |  8585.590 |  4739.735 | 4993.8193 | 277412.66 | 284921.84 | ... | 88692.57 | 41169.8630 | 404023.2 |  71099.31 | 118227.420 | 202519.8 | 77821.67 | 0 |   0.000 | 0 |\n",
       "| 2 | Avr_Bac_Rep1_t1.mzML  | Avermectin + Gut bacteria | 1 | 1  | 18667.346 | 67654.586 | 47169.016 |  933.2120 |  45147.84 |  45506.29 | ... | 12294.03 |   583.6107 | 149986.9 |  14805.44 |   6482.815 |  92694.0 | 23892.14 | 0 | 229.752 | 0 |\n",
       "| 3 | Avr_Bac_Rep1_t10.mzML | Avermectin + Gut bacteria | 1 | 10 | 25429.777 |  1015.399 | 40111.543 |  584.7465 |  26532.36 |  80316.74 | ... | 89136.30 | 17914.6720 | 375890.5 | 149315.52 |  76691.830 | 197675.8 | 77878.05 | 0 |   0.000 | 0 |\n",
       "\n"
      ],
      "text/plain": [
       "  filename              ATTRIBUTE_sample          ATTRIBUTE_replicates\n",
       "1 Avr_Bac_Rep1_t0.mzML  Avermectin + Gut bacteria 1                   \n",
       "2 Avr_Bac_Rep1_t1.mzML  Avermectin + Gut bacteria 1                   \n",
       "3 Avr_Bac_Rep1_t10.mzML Avermectin + Gut bacteria 1                   \n",
       "  ATTRIBUTE_timepoint_minutes X2_285.01_0.026_NA X4_166.123_0.054_NA\n",
       "1 0                            9121.137           8585.590          \n",
       "2 1                           18667.346          67654.586          \n",
       "3 10                          25429.777           1015.399          \n",
       "  X5_227.04_0.023_NA X6_223.084_0.078_NA X7_207.032_0.096_NA\n",
       "1  4739.735          4993.8193           277412.66          \n",
       "2 47169.016           933.2120            45147.84          \n",
       "3 40111.543           584.7465            26532.36          \n",
       "  X8_209.048_0.149_NA ...\n",
       "1 284921.84           ...\n",
       "2  45506.29           ...\n",
       "3  80316.74           ...\n",
       "  X7570_371.101_8.9_Spectral Match to Cyclopentasiloxane, decamethyl- from NIST14\n",
       "1 88692.57                                                                       \n",
       "2 12294.03                                                                       \n",
       "3 89136.30                                                                       \n",
       "  X7574_166.123_8.912_NA X7576_207.032_8.933_NA X7580_227.04_8.942_NA\n",
       "1 41169.8630             404023.2                71099.31            \n",
       "2   583.6107             149986.9                14805.44            \n",
       "3 17914.6720             375890.5               149315.52            \n",
       "  X7582_226.043_8.944_NA X7585_300.062_8.895_NA X7588_188.092_8.931_NA\n",
       "1 118227.420             202519.8               77821.67              \n",
       "2   6482.815              92694.0               23892.14              \n",
       "3  76691.830             197675.8               77878.05              \n",
       "  X7599_175.913_8.948_NA X7607_272.929_8.945_NA X7608_276.935_8.948_NA\n",
       "1 0                        0.000                0                     \n",
       "2 0                      229.752                0                     \n",
       "3 0                        0.000                0                     "
      ]
     },
     "metadata": {},
     "output_type": "display_data"
    }
   ],
   "source": [
    "#merging metadata (new_md) and transposed feature table based on the sample names\n",
    "ft_merged <- merge(new_md,ft_t, by.x= \"filename\", by.y=0,all.x=TRUE) #by.x=\"filename\" picks the filename column of new_md, by.y =0 indicates the rownames of ft_t\n",
    "head(ft_merged, 3)"
   ]
  },
  {
   "cell_type": "code",
   "execution_count": 42,
   "id": "27de3214-dbba-40c1-8a52-0a0059d96289",
   "metadata": {},
   "outputs": [],
   "source": [
    "write.csv(ft_merged,paste0(fName,'/Ft_md_merged.csv'),row.names =TRUE) # This file can be used for batch correction"
   ]
  },
  {
   "cell_type": "markdown",
   "id": "cdb72dc2-3449-4f07-b35e-80120ecae9a6",
   "metadata": {},
   "source": [
    "You can completely skip the data cleanup step and go to the section 4 as well."
   ]
  },
  {
   "cell_type": "markdown",
   "id": "def44fab-20ec-40b5-bef9-16487e26457f",
   "metadata": {},
   "source": [
    "<div class=\"alert alert-block alert-warning\">\n",
    "<b><font size=3> Skip the Batch correction section if you do not have multiple batches !! </font> </b> </div>"
   ]
  },
  {
   "cell_type": "markdown",
   "id": "446b2784-61d5-4ee8-b16d-d9154a1aee22",
   "metadata": {
    "tags": [],
    "toc-hr-collapsed": true
   },
   "source": [
    "## <font color ='darkblue'> 3.1. Batch Correction (Optional) </font>\n",
    "<a name=\"batch_corr\"></a>"
   ]
  },
  {
   "cell_type": "markdown",
   "id": "af0d396d-5ddd-4fa6-9f83-8b2412812436",
   "metadata": {},
   "source": [
    "Follow the notebook for Batch Correction: [![Open in Colab](https://colab.research.google.com/assets/colab-badge.svg)](https://colab.research.google.com/github/Functional-Metabolomics-Lab/FBMN-STATS/blob/main/Individual_Notebooks/R-Notebooks/Batch_Correction.ipynb)"
   ]
  },
  {
   "cell_type": "markdown",
   "id": "aa48ace4",
   "metadata": {
    "id": "4f45b589",
    "tags": []
   },
   "source": [
    "## <font color ='darkblue'> 3.2 Blank removal </font>  \n",
    "<a name=\"blank_rem\"></a>"
   ]
  },
  {
   "cell_type": "markdown",
   "id": "6ef76ce7-424e-4380-a615-d17862ae1e91",
   "metadata": {},
   "source": [
    "<p style='text-align: justify;'> Blank samples contain no analytes of interest and consist, for example, of the solvent, matrix, tissue or growth media that was used to prepare or dissolve the samples and analytes of interest. Such as the analytes, the mass spectral features deriving from blank samples are also detected by the LC-MS/MS instrument.\n",
    "We need to remove these blank features to obtain accurate results.</p>\n",
    "\n",
    "<p style='text-align: justify;'>To eliminate these blank features, we initially split the feature table into blanks and samples, and then employ a cutoff filter. Next, we compute the average feature intensities for the blanks and samples, and subsequently calculate the ratio of average_feature_blanks to average_feature_sample. We compare this ratio against the user-defined cutoff to determine which features to be removed. When the cutoff is set to 0.3, it implies that for any feature, up to 30% contribution from the blank and 70% from the sample are allowed. Hence any feature with a ratio greater than 0.3 is removed. By using a lower cutoff, such as 10% (0.1), we would demand a greater contribution from the sample (90%) and restrict the blank's contribution to 10%. Raising the cutoff leads to fewer background features being identified and more analyte features being observed. Conversely, lowering the cutoff is more rigorous and leads to the removal of more features.</p>"
   ]
  },
  {
   "cell_type": "markdown",
   "id": "703a7b69-b623-4011-9011-6af6c6e9efbf",
   "metadata": {},
   "source": [
    "In order to remove blank features from our samples, we first split our feature table into blanks and samples using the metadata and our InsideLevels function created in [Section 2.3.2](#explore_md)."
   ]
  },
  {
   "cell_type": "markdown",
   "id": "097ea422",
   "metadata": {
    "id": "74eaf47e"
   },
   "source": [
    "**<font color='red'> We use a cutoff of 0.3 </font>**, meaning that in order for a feature to be considered of interest, it needs to have a ratio of average_feature_blanks vs average_feature_sample <30%. <b>In the below cell you can interactively change the threshold to any value between 0.1 and 1. </b>"
   ]
  },
  {
   "cell_type": "code",
   "execution_count": 50,
   "id": "12b8d859-6790-4d35-a6d0-1cd2f9308d60",
   "metadata": {},
   "outputs": [],
   "source": [
    "source(\"C:/Users/abzer/OneDrive/Documents/GitHub/ChemProp2/ChemProp2_scripts/datacleanup_scripts/remove_blanks.r\")"
   ]
  },
  {
   "cell_type": "code",
   "execution_count": 45,
   "id": "d8f51b95",
   "metadata": {
    "colab": {
     "base_uri": "https://localhost:8080/",
     "height": 616
    },
    "id": "bad9deff-ec2d-4ea6-a60d-079364afbfb9",
    "outputId": "8ec2ae9b-9454-4470-e699-99424507bee6"
   },
   "outputs": [
    {
     "data": {
      "text/html": [
       "<table class=\"dataframe\">\n",
       "<caption>A data.frame: 3 × 5</caption>\n",
       "<thead>\n",
       "\t<tr><th scope=col>INDEX</th><th scope=col>ATTRIBUTES</th><th scope=col>LEVELS</th><th scope=col>COUNT</th><th scope=col>ATTRIBUTE_CLASS</th></tr>\n",
       "\t<tr><th scope=col>&lt;int&gt;</th><th scope=col>&lt;chr&gt;</th><th scope=col>&lt;chr&gt;</th><th scope=col>&lt;chr&gt;</th><th scope=col>&lt;chr&gt;</th></tr>\n",
       "</thead>\n",
       "<tbody>\n",
       "\t<tr><td>1</td><td>ATTRIBUTE_sample           </td><td>Avermectin + Gut bacteria, Blank, Only Avermectin drug, Only Gut bacteria</td><td>23, 3, 30, 30               </td><td>character</td></tr>\n",
       "\t<tr><td>2</td><td>ATTRIBUTE_replicates       </td><td>1, 2, 3                                                                  </td><td>30, 30, 23                  </td><td>character</td></tr>\n",
       "\t<tr><td>3</td><td>ATTRIBUTE_timepoint_minutes</td><td>0, 1, 10, 120, 180, 20, 240, 30, 60, 720                                 </td><td>9, 9, 9, 8, 8, 8, 8, 8, 8, 8</td><td>character</td></tr>\n",
       "</tbody>\n",
       "</table>\n"
      ],
      "text/latex": [
       "A data.frame: 3 × 5\n",
       "\\begin{tabular}{lllll}\n",
       " INDEX & ATTRIBUTES & LEVELS & COUNT & ATTRIBUTE\\_CLASS\\\\\n",
       " <int> & <chr> & <chr> & <chr> & <chr>\\\\\n",
       "\\hline\n",
       "\t 1 & ATTRIBUTE\\_sample            & Avermectin + Gut bacteria, Blank, Only Avermectin drug, Only Gut bacteria & 23, 3, 30, 30                & character\\\\\n",
       "\t 2 & ATTRIBUTE\\_replicates        & 1, 2, 3                                                                   & 30, 30, 23                   & character\\\\\n",
       "\t 3 & ATTRIBUTE\\_timepoint\\_minutes & 0, 1, 10, 120, 180, 20, 240, 30, 60, 720                                  & 9, 9, 9, 8, 8, 8, 8, 8, 8, 8 & character\\\\\n",
       "\\end{tabular}\n"
      ],
      "text/markdown": [
       "\n",
       "A data.frame: 3 × 5\n",
       "\n",
       "| INDEX &lt;int&gt; | ATTRIBUTES &lt;chr&gt; | LEVELS &lt;chr&gt; | COUNT &lt;chr&gt; | ATTRIBUTE_CLASS &lt;chr&gt; |\n",
       "|---|---|---|---|---|\n",
       "| 1 | ATTRIBUTE_sample            | Avermectin + Gut bacteria, Blank, Only Avermectin drug, Only Gut bacteria | 23, 3, 30, 30                | character |\n",
       "| 2 | ATTRIBUTE_replicates        | 1, 2, 3                                                                   | 30, 30, 23                   | character |\n",
       "| 3 | ATTRIBUTE_timepoint_minutes | 0, 1, 10, 120, 180, 20, 240, 30, 60, 720                                  | 9, 9, 9, 8, 8, 8, 8, 8, 8, 8 | character |\n",
       "\n"
      ],
      "text/plain": [
       "  INDEX ATTRIBUTES                 \n",
       "1 1     ATTRIBUTE_sample           \n",
       "2 2     ATTRIBUTE_replicates       \n",
       "3 3     ATTRIBUTE_timepoint_minutes\n",
       "  LEVELS                                                                   \n",
       "1 Avermectin + Gut bacteria, Blank, Only Avermectin drug, Only Gut bacteria\n",
       "2 1, 2, 3                                                                  \n",
       "3 0, 1, 10, 120, 180, 20, 240, 30, 60, 720                                 \n",
       "  COUNT                        ATTRIBUTE_CLASS\n",
       "1 23, 3, 30, 30                character      \n",
       "2 30, 30, 23                   character      \n",
       "3 9, 9, 9, 8, 8, 8, 8, 8, 8, 8 character      "
      ]
     },
     "metadata": {},
     "output_type": "display_data"
    }
   ],
   "source": [
    "InsideLevels(new_md[2:ncol(new_md)])"
   ]
  },
  {
   "cell_type": "code",
   "execution_count": 51,
   "id": "afc1ffb6-9d42-4000-8420-67e7ea3d2cc2",
   "metadata": {},
   "outputs": [
    {
     "name": "stdin",
     "output_type": "stream",
     "text": [
      "Enter the column name for Sample Type in metadata:  ATTRIBUTE_sample\n"
     ]
    },
    {
     "name": "stderr",
     "output_type": "stream",
     "text": [
      "Please enter the ID numbers corresponding to the labels for blanks and samples, separated by commas:\n",
      "\n",
      "\n"
     ]
    },
    {
     "data": {
      "text/html": [
       "<table class=\"dataframe\">\n",
       "<caption>A data.frame: 4 × 2</caption>\n",
       "<thead>\n",
       "\t<tr><th scope=col>ID</th><th scope=col>levels</th></tr>\n",
       "\t<tr><th scope=col>&lt;int&gt;</th><th scope=col>&lt;chr&gt;</th></tr>\n",
       "</thead>\n",
       "<tbody>\n",
       "\t<tr><td>1</td><td>Avermectin + Gut bacteria</td></tr>\n",
       "\t<tr><td>2</td><td>Only Avermectin drug     </td></tr>\n",
       "\t<tr><td>3</td><td>Blank                    </td></tr>\n",
       "\t<tr><td>4</td><td>Only Gut bacteria        </td></tr>\n",
       "</tbody>\n",
       "</table>\n"
      ],
      "text/latex": [
       "A data.frame: 4 × 2\n",
       "\\begin{tabular}{ll}\n",
       " ID & levels\\\\\n",
       " <int> & <chr>\\\\\n",
       "\\hline\n",
       "\t 1 & Avermectin + Gut bacteria\\\\\n",
       "\t 2 & Only Avermectin drug     \\\\\n",
       "\t 3 & Blank                    \\\\\n",
       "\t 4 & Only Gut bacteria        \\\\\n",
       "\\end{tabular}\n"
      ],
      "text/markdown": [
       "\n",
       "A data.frame: 4 × 2\n",
       "\n",
       "| ID &lt;int&gt; | levels &lt;chr&gt; |\n",
       "|---|---|\n",
       "| 1 | Avermectin + Gut bacteria |\n",
       "| 2 | Only Avermectin drug      |\n",
       "| 3 | Blank                     |\n",
       "| 4 | Only Gut bacteria         |\n",
       "\n"
      ],
      "text/plain": [
       "  ID levels                   \n",
       "1 1  Avermectin + Gut bacteria\n",
       "2 2  Only Avermectin drug     \n",
       "3 3  Blank                    \n",
       "4 4  Only Gut bacteria        "
      ]
     },
     "metadata": {},
     "output_type": "display_data"
    },
    {
     "name": "stdin",
     "output_type": "stream",
     "text": [
      "Enter the numbers for blanks:  3\n",
      "Enter the numbers for samples:  1,2,4\n",
      "Enter Cutoff value between 0.1 & 1:  0.3\n"
     ]
    },
    {
     "name": "stdout",
     "output_type": "stream",
     "text": [
      "[1] \"Total no.of features: 3412\"\n",
      "[1] \"No.of Background or noise features: 903\"\n",
      "[1] \"No.of features after excluding noise: 2509\"\n"
     ]
    },
    {
     "name": "stderr",
     "output_type": "stream",
     "text": [
      "Your Blank removed table: head(blk_rem,3)\n",
      "\n"
     ]
    },
    {
     "data": {
      "text/html": [
       "<table class=\"dataframe\">\n",
       "<caption>A data.frame: 3 × 83</caption>\n",
       "<thead>\n",
       "\t<tr><th></th><th scope=col>Avr_Bac_Rep1_t0.mzML</th><th scope=col>Avr_Bac_Rep1_t1.mzML</th><th scope=col>Avr_Bac_Rep1_t10.mzML</th><th scope=col>Avr_Bac_Rep1_t120.mzML</th><th scope=col>Avr_Bac_Rep1_t180.mzML</th><th scope=col>Avr_Bac_Rep1_t20.mzML</th><th scope=col>Avr_Bac_Rep1_t240.mzML</th><th scope=col>Avr_Bac_Rep1_t30.mzML</th><th scope=col>Avr_Bac_Rep1_t60.mzML</th><th scope=col>Avr_Bac_Rep1_t720.mzML</th><th scope=col>...</th><th scope=col>GutBac_Rep3_t0.mzML</th><th scope=col>GutBac_Rep3_t1.mzML</th><th scope=col>GutBac_Rep3_t10.mzML</th><th scope=col>GutBac_Rep3_t120.mzML</th><th scope=col>GutBac_Rep3_t180.mzML</th><th scope=col>GutBac_Rep3_t20.mzML</th><th scope=col>GutBac_Rep3_t240.mzML</th><th scope=col>GutBac_Rep3_t30.mzML</th><th scope=col>GutBac_Rep3_t60.mzML</th><th scope=col>GutBac_Rep3_t720.mzML</th></tr>\n",
       "\t<tr><th></th><th scope=col>&lt;dbl&gt;</th><th scope=col>&lt;dbl&gt;</th><th scope=col>&lt;dbl&gt;</th><th scope=col>&lt;dbl&gt;</th><th scope=col>&lt;dbl&gt;</th><th scope=col>&lt;dbl&gt;</th><th scope=col>&lt;dbl&gt;</th><th scope=col>&lt;dbl&gt;</th><th scope=col>&lt;dbl&gt;</th><th scope=col>&lt;dbl&gt;</th><th scope=col>...</th><th scope=col>&lt;dbl&gt;</th><th scope=col>&lt;dbl&gt;</th><th scope=col>&lt;dbl&gt;</th><th scope=col>&lt;dbl&gt;</th><th scope=col>&lt;dbl&gt;</th><th scope=col>&lt;dbl&gt;</th><th scope=col>&lt;dbl&gt;</th><th scope=col>&lt;dbl&gt;</th><th scope=col>&lt;dbl&gt;</th><th scope=col>&lt;dbl&gt;</th></tr>\n",
       "</thead>\n",
       "<tbody>\n",
       "\t<tr><th scope=row>X1002_231.17_0.715_NA</th><td>50298.31</td><td>21635.83</td><td>20397.348</td><td>13253.05</td><td> 3267.277</td><td>34023.77</td><td>  222.8398</td><td>27353.08</td><td>15001.777</td><td> 4962.125</td><td>...</td><td> 57204.70</td><td>52072.95</td><td>45729.56</td><td>    0.00</td><td>12095.42</td><td>38591.56</td><td> 6135.828</td><td>29454.15</td><td>20424.07</td><td> 6025.128</td></tr>\n",
       "\t<tr><th scope=row>X1003_175.025_0.717_NA</th><td>27311.99</td><td>12652.35</td><td> 9864.077</td><td>21843.31</td><td>23645.285</td><td>17389.87</td><td>12652.0980</td><td>15746.20</td><td> 9692.443</td><td>19453.031</td><td>...</td><td> 32019.19</td><td>30412.88</td><td>25575.12</td><td>30980.42</td><td>25124.41</td><td>22108.58</td><td>15796.289</td><td>20447.47</td><td>24534.11</td><td>19263.518</td></tr>\n",
       "\t<tr><th scope=row>X1006_206.064_0.733_NA</th><td>96254.45</td><td>20015.02</td><td>19539.650</td><td>36158.43</td><td>45152.387</td><td>38794.57</td><td>16259.9180</td><td>29461.41</td><td>18119.111</td><td>21798.707</td><td>...</td><td>100331.62</td><td>87393.12</td><td>74795.55</td><td>74507.01</td><td>52874.42</td><td>56854.07</td><td>31590.785</td><td>45773.31</td><td>69054.88</td><td>23354.123</td></tr>\n",
       "</tbody>\n",
       "</table>\n"
      ],
      "text/latex": [
       "A data.frame: 3 × 83\n",
       "\\begin{tabular}{r|lllllllllllllllllllll}\n",
       "  & Avr\\_Bac\\_Rep1\\_t0.mzML & Avr\\_Bac\\_Rep1\\_t1.mzML & Avr\\_Bac\\_Rep1\\_t10.mzML & Avr\\_Bac\\_Rep1\\_t120.mzML & Avr\\_Bac\\_Rep1\\_t180.mzML & Avr\\_Bac\\_Rep1\\_t20.mzML & Avr\\_Bac\\_Rep1\\_t240.mzML & Avr\\_Bac\\_Rep1\\_t30.mzML & Avr\\_Bac\\_Rep1\\_t60.mzML & Avr\\_Bac\\_Rep1\\_t720.mzML & ... & GutBac\\_Rep3\\_t0.mzML & GutBac\\_Rep3\\_t1.mzML & GutBac\\_Rep3\\_t10.mzML & GutBac\\_Rep3\\_t120.mzML & GutBac\\_Rep3\\_t180.mzML & GutBac\\_Rep3\\_t20.mzML & GutBac\\_Rep3\\_t240.mzML & GutBac\\_Rep3\\_t30.mzML & GutBac\\_Rep3\\_t60.mzML & GutBac\\_Rep3\\_t720.mzML\\\\\n",
       "  & <dbl> & <dbl> & <dbl> & <dbl> & <dbl> & <dbl> & <dbl> & <dbl> & <dbl> & <dbl> & ... & <dbl> & <dbl> & <dbl> & <dbl> & <dbl> & <dbl> & <dbl> & <dbl> & <dbl> & <dbl>\\\\\n",
       "\\hline\n",
       "\tX1002\\_231.17\\_0.715\\_NA & 50298.31 & 21635.83 & 20397.348 & 13253.05 &  3267.277 & 34023.77 &   222.8398 & 27353.08 & 15001.777 &  4962.125 & ... &  57204.70 & 52072.95 & 45729.56 &     0.00 & 12095.42 & 38591.56 &  6135.828 & 29454.15 & 20424.07 &  6025.128\\\\\n",
       "\tX1003\\_175.025\\_0.717\\_NA & 27311.99 & 12652.35 &  9864.077 & 21843.31 & 23645.285 & 17389.87 & 12652.0980 & 15746.20 &  9692.443 & 19453.031 & ... &  32019.19 & 30412.88 & 25575.12 & 30980.42 & 25124.41 & 22108.58 & 15796.289 & 20447.47 & 24534.11 & 19263.518\\\\\n",
       "\tX1006\\_206.064\\_0.733\\_NA & 96254.45 & 20015.02 & 19539.650 & 36158.43 & 45152.387 & 38794.57 & 16259.9180 & 29461.41 & 18119.111 & 21798.707 & ... & 100331.62 & 87393.12 & 74795.55 & 74507.01 & 52874.42 & 56854.07 & 31590.785 & 45773.31 & 69054.88 & 23354.123\\\\\n",
       "\\end{tabular}\n"
      ],
      "text/markdown": [
       "\n",
       "A data.frame: 3 × 83\n",
       "\n",
       "| <!--/--> | Avr_Bac_Rep1_t0.mzML &lt;dbl&gt; | Avr_Bac_Rep1_t1.mzML &lt;dbl&gt; | Avr_Bac_Rep1_t10.mzML &lt;dbl&gt; | Avr_Bac_Rep1_t120.mzML &lt;dbl&gt; | Avr_Bac_Rep1_t180.mzML &lt;dbl&gt; | Avr_Bac_Rep1_t20.mzML &lt;dbl&gt; | Avr_Bac_Rep1_t240.mzML &lt;dbl&gt; | Avr_Bac_Rep1_t30.mzML &lt;dbl&gt; | Avr_Bac_Rep1_t60.mzML &lt;dbl&gt; | Avr_Bac_Rep1_t720.mzML &lt;dbl&gt; | ... ... | GutBac_Rep3_t0.mzML &lt;dbl&gt; | GutBac_Rep3_t1.mzML &lt;dbl&gt; | GutBac_Rep3_t10.mzML &lt;dbl&gt; | GutBac_Rep3_t120.mzML &lt;dbl&gt; | GutBac_Rep3_t180.mzML &lt;dbl&gt; | GutBac_Rep3_t20.mzML &lt;dbl&gt; | GutBac_Rep3_t240.mzML &lt;dbl&gt; | GutBac_Rep3_t30.mzML &lt;dbl&gt; | GutBac_Rep3_t60.mzML &lt;dbl&gt; | GutBac_Rep3_t720.mzML &lt;dbl&gt; |\n",
       "|---|---|---|---|---|---|---|---|---|---|---|---|---|---|---|---|---|---|---|---|---|---|\n",
       "| X1002_231.17_0.715_NA | 50298.31 | 21635.83 | 20397.348 | 13253.05 |  3267.277 | 34023.77 |   222.8398 | 27353.08 | 15001.777 |  4962.125 | ... |  57204.70 | 52072.95 | 45729.56 |     0.00 | 12095.42 | 38591.56 |  6135.828 | 29454.15 | 20424.07 |  6025.128 |\n",
       "| X1003_175.025_0.717_NA | 27311.99 | 12652.35 |  9864.077 | 21843.31 | 23645.285 | 17389.87 | 12652.0980 | 15746.20 |  9692.443 | 19453.031 | ... |  32019.19 | 30412.88 | 25575.12 | 30980.42 | 25124.41 | 22108.58 | 15796.289 | 20447.47 | 24534.11 | 19263.518 |\n",
       "| X1006_206.064_0.733_NA | 96254.45 | 20015.02 | 19539.650 | 36158.43 | 45152.387 | 38794.57 | 16259.9180 | 29461.41 | 18119.111 | 21798.707 | ... | 100331.62 | 87393.12 | 74795.55 | 74507.01 | 52874.42 | 56854.07 | 31590.785 | 45773.31 | 69054.88 | 23354.123 |\n",
       "\n"
      ],
      "text/plain": [
       "                       Avr_Bac_Rep1_t0.mzML Avr_Bac_Rep1_t1.mzML\n",
       "X1002_231.17_0.715_NA  50298.31             21635.83            \n",
       "X1003_175.025_0.717_NA 27311.99             12652.35            \n",
       "X1006_206.064_0.733_NA 96254.45             20015.02            \n",
       "                       Avr_Bac_Rep1_t10.mzML Avr_Bac_Rep1_t120.mzML\n",
       "X1002_231.17_0.715_NA  20397.348             13253.05              \n",
       "X1003_175.025_0.717_NA  9864.077             21843.31              \n",
       "X1006_206.064_0.733_NA 19539.650             36158.43              \n",
       "                       Avr_Bac_Rep1_t180.mzML Avr_Bac_Rep1_t20.mzML\n",
       "X1002_231.17_0.715_NA   3267.277              34023.77             \n",
       "X1003_175.025_0.717_NA 23645.285              17389.87             \n",
       "X1006_206.064_0.733_NA 45152.387              38794.57             \n",
       "                       Avr_Bac_Rep1_t240.mzML Avr_Bac_Rep1_t30.mzML\n",
       "X1002_231.17_0.715_NA    222.8398             27353.08             \n",
       "X1003_175.025_0.717_NA 12652.0980             15746.20             \n",
       "X1006_206.064_0.733_NA 16259.9180             29461.41             \n",
       "                       Avr_Bac_Rep1_t60.mzML Avr_Bac_Rep1_t720.mzML ...\n",
       "X1002_231.17_0.715_NA  15001.777              4962.125              ...\n",
       "X1003_175.025_0.717_NA  9692.443             19453.031              ...\n",
       "X1006_206.064_0.733_NA 18119.111             21798.707              ...\n",
       "                       GutBac_Rep3_t0.mzML GutBac_Rep3_t1.mzML\n",
       "X1002_231.17_0.715_NA   57204.70           52072.95           \n",
       "X1003_175.025_0.717_NA  32019.19           30412.88           \n",
       "X1006_206.064_0.733_NA 100331.62           87393.12           \n",
       "                       GutBac_Rep3_t10.mzML GutBac_Rep3_t120.mzML\n",
       "X1002_231.17_0.715_NA  45729.56                 0.00             \n",
       "X1003_175.025_0.717_NA 25575.12             30980.42             \n",
       "X1006_206.064_0.733_NA 74795.55             74507.01             \n",
       "                       GutBac_Rep3_t180.mzML GutBac_Rep3_t20.mzML\n",
       "X1002_231.17_0.715_NA  12095.42              38591.56            \n",
       "X1003_175.025_0.717_NA 25124.41              22108.58            \n",
       "X1006_206.064_0.733_NA 52874.42              56854.07            \n",
       "                       GutBac_Rep3_t240.mzML GutBac_Rep3_t30.mzML\n",
       "X1002_231.17_0.715_NA   6135.828             29454.15            \n",
       "X1003_175.025_0.717_NA 15796.289             20447.47            \n",
       "X1006_206.064_0.733_NA 31590.785             45773.31            \n",
       "                       GutBac_Rep3_t60.mzML GutBac_Rep3_t720.mzML\n",
       "X1002_231.17_0.715_NA  20424.07              6025.128            \n",
       "X1003_175.025_0.717_NA 24534.11             19263.518            \n",
       "X1006_206.064_0.733_NA 69054.88             23354.123            "
      ]
     },
     "metadata": {},
     "output_type": "display_data"
    },
    {
     "name": "stderr",
     "output_type": "stream",
     "text": [
      "head(md_Samples,3)\n",
      "\n"
     ]
    },
    {
     "data": {
      "text/html": [
       "<table class=\"dataframe\">\n",
       "<caption>A data.frame: 3 × 4</caption>\n",
       "<thead>\n",
       "\t<tr><th></th><th scope=col>filename</th><th scope=col>ATTRIBUTE_sample</th><th scope=col>ATTRIBUTE_replicates</th><th scope=col>ATTRIBUTE_timepoint_minutes</th></tr>\n",
       "\t<tr><th></th><th scope=col>&lt;chr&gt;</th><th scope=col>&lt;chr&gt;</th><th scope=col>&lt;chr&gt;</th><th scope=col>&lt;chr&gt;</th></tr>\n",
       "</thead>\n",
       "<tbody>\n",
       "\t<tr><th scope=row>1</th><td>Avr_Bac_Rep1_t0.mzML </td><td>Avermectin + Gut bacteria</td><td>1</td><td>0 </td></tr>\n",
       "\t<tr><th scope=row>2</th><td>Avr_Bac_Rep1_t1.mzML </td><td>Avermectin + Gut bacteria</td><td>1</td><td>1 </td></tr>\n",
       "\t<tr><th scope=row>3</th><td>Avr_Bac_Rep1_t10.mzML</td><td>Avermectin + Gut bacteria</td><td>1</td><td>10</td></tr>\n",
       "</tbody>\n",
       "</table>\n"
      ],
      "text/latex": [
       "A data.frame: 3 × 4\n",
       "\\begin{tabular}{r|llll}\n",
       "  & filename & ATTRIBUTE\\_sample & ATTRIBUTE\\_replicates & ATTRIBUTE\\_timepoint\\_minutes\\\\\n",
       "  & <chr> & <chr> & <chr> & <chr>\\\\\n",
       "\\hline\n",
       "\t1 & Avr\\_Bac\\_Rep1\\_t0.mzML  & Avermectin + Gut bacteria & 1 & 0 \\\\\n",
       "\t2 & Avr\\_Bac\\_Rep1\\_t1.mzML  & Avermectin + Gut bacteria & 1 & 1 \\\\\n",
       "\t3 & Avr\\_Bac\\_Rep1\\_t10.mzML & Avermectin + Gut bacteria & 1 & 10\\\\\n",
       "\\end{tabular}\n"
      ],
      "text/markdown": [
       "\n",
       "A data.frame: 3 × 4\n",
       "\n",
       "| <!--/--> | filename &lt;chr&gt; | ATTRIBUTE_sample &lt;chr&gt; | ATTRIBUTE_replicates &lt;chr&gt; | ATTRIBUTE_timepoint_minutes &lt;chr&gt; |\n",
       "|---|---|---|---|---|\n",
       "| 1 | Avr_Bac_Rep1_t0.mzML  | Avermectin + Gut bacteria | 1 | 0  |\n",
       "| 2 | Avr_Bac_Rep1_t1.mzML  | Avermectin + Gut bacteria | 1 | 1  |\n",
       "| 3 | Avr_Bac_Rep1_t10.mzML | Avermectin + Gut bacteria | 1 | 10 |\n",
       "\n"
      ],
      "text/plain": [
       "  filename              ATTRIBUTE_sample          ATTRIBUTE_replicates\n",
       "1 Avr_Bac_Rep1_t0.mzML  Avermectin + Gut bacteria 1                   \n",
       "2 Avr_Bac_Rep1_t1.mzML  Avermectin + Gut bacteria 1                   \n",
       "3 Avr_Bac_Rep1_t10.mzML Avermectin + Gut bacteria 1                   \n",
       "  ATTRIBUTE_timepoint_minutes\n",
       "1 0                          \n",
       "2 1                          \n",
       "3 10                         "
      ]
     },
     "metadata": {},
     "output_type": "display_data"
    }
   ],
   "source": [
    "blk_rem_results <- remove_blanks(ft_t,new_md)"
   ]
  },
  {
   "cell_type": "code",
   "execution_count": 52,
   "id": "bdfa4482-4541-4b9f-91e4-438fba8b516d",
   "metadata": {},
   "outputs": [
    {
     "data": {
      "text/html": [
       "<style>\n",
       ".dl-inline {width: auto; margin:0; padding: 0}\n",
       ".dl-inline>dt, .dl-inline>dd {float: none; width: auto; display: inline-block}\n",
       ".dl-inline>dt::after {content: \":\\0020\"; padding-right: .5ex}\n",
       ".dl-inline>dt:not(:first-of-type) {padding-left: .5ex}\n",
       "</style><dl class=dl-inline><dt>blk_rem</dt><dd>83</dd><dt>md_Samples</dt><dd>4</dd><dt>Cutoff</dt><dd>1</dd></dl>\n"
      ],
      "text/latex": [
       "\\begin{description*}\n",
       "\\item[blk\\textbackslash{}\\_rem] 83\n",
       "\\item[md\\textbackslash{}\\_Samples] 4\n",
       "\\item[Cutoff] 1\n",
       "\\end{description*}\n"
      ],
      "text/markdown": [
       "blk_rem\n",
       ":   83md_Samples\n",
       ":   4Cutoff\n",
       ":   1\n",
       "\n"
      ],
      "text/plain": [
       "   blk_rem md_Samples     Cutoff \n",
       "        83          4          1 "
      ]
     },
     "metadata": {},
     "output_type": "display_data"
    }
   ],
   "source": [
    "lengths(blk_rem_results)"
   ]
  },
  {
   "cell_type": "code",
   "execution_count": 53,
   "id": "46eb78e1-2786-43bf-a460-770d5d244a40",
   "metadata": {},
   "outputs": [],
   "source": [
    "blk_rem <- blk_rem_results$blk_rem\n",
    "md_Samples <- blk_rem_results$md_Samples\n",
    "Cutoff <- blk_rem_results$Cutoff"
   ]
  },
  {
   "cell_type": "code",
   "execution_count": 54,
   "id": "791e273d",
   "metadata": {
    "id": "80ac7878"
   },
   "outputs": [],
   "source": [
    "write.csv(blk_rem, paste0(fName,'/Blanks_Removed_with_cutoff_',Cutoff,'.csv'),row.names =TRUE)"
   ]
  },
  {
   "cell_type": "code",
   "execution_count": 57,
   "id": "28af5b88-07be-4bdd-b889-b0d4640c175b",
   "metadata": {},
   "outputs": [
    {
     "data": {
      "text/html": [
       "<table class=\"dataframe\">\n",
       "<caption>A data.frame: 4 × 2</caption>\n",
       "<thead>\n",
       "\t<tr><th scope=col>ID</th><th scope=col>Column_Names_Metadata</th></tr>\n",
       "\t<tr><th scope=col>&lt;int&gt;</th><th scope=col>&lt;chr&gt;</th></tr>\n",
       "</thead>\n",
       "<tbody>\n",
       "\t<tr><td>1</td><td>filename                   </td></tr>\n",
       "\t<tr><td>2</td><td>ATTRIBUTE_sample           </td></tr>\n",
       "\t<tr><td>3</td><td>ATTRIBUTE_replicates       </td></tr>\n",
       "\t<tr><td>4</td><td>ATTRIBUTE_timepoint_minutes</td></tr>\n",
       "</tbody>\n",
       "</table>\n"
      ],
      "text/latex": [
       "A data.frame: 4 × 2\n",
       "\\begin{tabular}{ll}\n",
       " ID & Column\\_Names\\_Metadata\\\\\n",
       " <int> & <chr>\\\\\n",
       "\\hline\n",
       "\t 1 & filename                   \\\\\n",
       "\t 2 & ATTRIBUTE\\_sample           \\\\\n",
       "\t 3 & ATTRIBUTE\\_replicates       \\\\\n",
       "\t 4 & ATTRIBUTE\\_timepoint\\_minutes\\\\\n",
       "\\end{tabular}\n"
      ],
      "text/markdown": [
       "\n",
       "A data.frame: 4 × 2\n",
       "\n",
       "| ID &lt;int&gt; | Column_Names_Metadata &lt;chr&gt; |\n",
       "|---|---|\n",
       "| 1 | filename                    |\n",
       "| 2 | ATTRIBUTE_sample            |\n",
       "| 3 | ATTRIBUTE_replicates        |\n",
       "| 4 | ATTRIBUTE_timepoint_minutes |\n",
       "\n"
      ],
      "text/plain": [
       "  ID Column_Names_Metadata      \n",
       "1 1  filename                   \n",
       "2 2  ATTRIBUTE_sample           \n",
       "3 3  ATTRIBUTE_replicates       \n",
       "4 4  ATTRIBUTE_timepoint_minutes"
      ]
     },
     "metadata": {},
     "output_type": "display_data"
    },
    {
     "name": "stdin",
     "output_type": "stream",
     "text": [
      "Enter the number corresponding to the metadata column you want to use for PCoA:  2\n"
     ]
    },
    {
     "data": {
      "image/png": "[encoded data removed]",
      "text/plain": [
       "plot without title"
      ]
     },
     "metadata": {
      "image/png": {
       "height": 600,
       "width": 600
      }
     },
     "output_type": "display_data"
    }
   ],
   "source": [
    "after_blk_rem <- plotPCoA(data.frame(t(blk_rem)), \n",
    "                          md_Samples, \n",
    "                          distmetric = 'canberra', \n",
    "                          title = \"Scores plot - After Blank Removal\")\n",
    "after_blk_rem"
   ]
  },
  {
   "cell_type": "code",
   "execution_count": 60,
   "id": "4800e565-ecad-4fef-88db-adba3830764b",
   "metadata": {},
   "outputs": [],
   "source": [
    "# Save the plot\n",
    "ggsave(filename = paste0(fName,'/PCoA_plot_after_blankremoval.svg'), plot = after_blk_rem, width = 10, height = 10)"
   ]
  },
  {
   "cell_type": "markdown",
   "id": "8035dcd3",
   "metadata": {
    "id": "b4210007",
    "tags": [],
    "toc-hr-collapsed": true
   },
   "source": [
    "## <font color ='darkblue'> 3.3 Imputation </font>\n",
    "<a name = 'imp'></a>\n",
    "\n",
    "<p style='text-align: justify;'> For several reasons, real world datasets might have some missing values in it, in the form of NA, NANs or 0s. Eventhough the gapfilling step of MZmine fills the missing values, we still end up with some missing values or 0s in our feature table. This could be problematic for statistical analysis. We cannot simply discard those rows or columns with missing values as we will lose valuable data. Instead we can try imputing or replacing the missing values in the data with a meaningful, reasonable guess. Here, first, we use the blank-removed feature table to assess frequencies across relative intensities. The plot from the below cell shows us how many features have which relative intensities. We then create random values between 0 and the minimum value in our blank-removed table and randomly replace all 0s with these random values. </p>"
   ]
  },
  {
   "cell_type": "code",
   "execution_count": 61,
   "id": "a437bdc6-729e-4370-ae27-ac62624f236d",
   "metadata": {},
   "outputs": [
    {
     "name": "stderr",
     "output_type": "stream",
     "text": [
      "The limit of detection (LOD) is: 118\n",
      "\n",
      "Creating random variables (between 0 and LOD) to replace all zeros...\n",
      "\n",
      "The first 10 of the generated random values: 102.2, 24.2, 33.4, 26.8, 17.4, 15.1, 69, 107.6, 105.9, 27.6\n",
      "\n",
      "Resulting imputed table: head(imp,3)\n",
      "\n"
     ]
    },
    {
     "data": {
      "text/html": [
       "<table class=\"dataframe\">\n",
       "<caption>A data.frame: 3 × 83</caption>\n",
       "<thead>\n",
       "\t<tr><th></th><th scope=col>Avr_Bac_Rep1_t0.mzML</th><th scope=col>Avr_Bac_Rep1_t1.mzML</th><th scope=col>Avr_Bac_Rep1_t10.mzML</th><th scope=col>Avr_Bac_Rep1_t120.mzML</th><th scope=col>Avr_Bac_Rep1_t180.mzML</th><th scope=col>Avr_Bac_Rep1_t20.mzML</th><th scope=col>Avr_Bac_Rep1_t240.mzML</th><th scope=col>Avr_Bac_Rep1_t30.mzML</th><th scope=col>Avr_Bac_Rep1_t60.mzML</th><th scope=col>Avr_Bac_Rep1_t720.mzML</th><th scope=col>...</th><th scope=col>GutBac_Rep3_t0.mzML</th><th scope=col>GutBac_Rep3_t1.mzML</th><th scope=col>GutBac_Rep3_t10.mzML</th><th scope=col>GutBac_Rep3_t120.mzML</th><th scope=col>GutBac_Rep3_t180.mzML</th><th scope=col>GutBac_Rep3_t20.mzML</th><th scope=col>GutBac_Rep3_t240.mzML</th><th scope=col>GutBac_Rep3_t30.mzML</th><th scope=col>GutBac_Rep3_t60.mzML</th><th scope=col>GutBac_Rep3_t720.mzML</th></tr>\n",
       "\t<tr><th></th><th scope=col>&lt;dbl&gt;</th><th scope=col>&lt;dbl&gt;</th><th scope=col>&lt;dbl&gt;</th><th scope=col>&lt;dbl&gt;</th><th scope=col>&lt;dbl&gt;</th><th scope=col>&lt;dbl&gt;</th><th scope=col>&lt;dbl&gt;</th><th scope=col>&lt;dbl&gt;</th><th scope=col>&lt;dbl&gt;</th><th scope=col>&lt;dbl&gt;</th><th scope=col>...</th><th scope=col>&lt;dbl&gt;</th><th scope=col>&lt;dbl&gt;</th><th scope=col>&lt;dbl&gt;</th><th scope=col>&lt;dbl&gt;</th><th scope=col>&lt;dbl&gt;</th><th scope=col>&lt;dbl&gt;</th><th scope=col>&lt;dbl&gt;</th><th scope=col>&lt;dbl&gt;</th><th scope=col>&lt;dbl&gt;</th><th scope=col>&lt;dbl&gt;</th></tr>\n",
       "</thead>\n",
       "<tbody>\n",
       "\t<tr><th scope=row>X1002_231.17_0.715_NA</th><td>50298.31</td><td>21635.83</td><td>20397.348</td><td>13253.05</td><td> 3267.277</td><td>34023.77</td><td>  222.8398</td><td>27353.08</td><td>15001.777</td><td> 4962.125</td><td>...</td><td> 57204.70</td><td>52072.95</td><td>45729.56</td><td>  102.20</td><td>12095.42</td><td>38591.56</td><td> 6135.828</td><td>29454.15</td><td>20424.07</td><td> 6025.128</td></tr>\n",
       "\t<tr><th scope=row>X1003_175.025_0.717_NA</th><td>27311.99</td><td>12652.35</td><td> 9864.077</td><td>21843.31</td><td>23645.285</td><td>17389.87</td><td>12652.0980</td><td>15746.20</td><td> 9692.443</td><td>19453.031</td><td>...</td><td> 32019.19</td><td>30412.88</td><td>25575.12</td><td>30980.42</td><td>25124.41</td><td>22108.58</td><td>15796.289</td><td>20447.47</td><td>24534.11</td><td>19263.518</td></tr>\n",
       "\t<tr><th scope=row>X1006_206.064_0.733_NA</th><td>96254.45</td><td>20015.02</td><td>19539.650</td><td>36158.43</td><td>45152.387</td><td>38794.57</td><td>16259.9180</td><td>29461.41</td><td>18119.111</td><td>21798.707</td><td>...</td><td>100331.62</td><td>87393.12</td><td>74795.55</td><td>74507.01</td><td>52874.42</td><td>56854.07</td><td>31590.785</td><td>45773.31</td><td>69054.88</td><td>23354.123</td></tr>\n",
       "</tbody>\n",
       "</table>\n"
      ],
      "text/latex": [
       "A data.frame: 3 × 83\n",
       "\\begin{tabular}{r|lllllllllllllllllllll}\n",
       "  & Avr\\_Bac\\_Rep1\\_t0.mzML & Avr\\_Bac\\_Rep1\\_t1.mzML & Avr\\_Bac\\_Rep1\\_t10.mzML & Avr\\_Bac\\_Rep1\\_t120.mzML & Avr\\_Bac\\_Rep1\\_t180.mzML & Avr\\_Bac\\_Rep1\\_t20.mzML & Avr\\_Bac\\_Rep1\\_t240.mzML & Avr\\_Bac\\_Rep1\\_t30.mzML & Avr\\_Bac\\_Rep1\\_t60.mzML & Avr\\_Bac\\_Rep1\\_t720.mzML & ... & GutBac\\_Rep3\\_t0.mzML & GutBac\\_Rep3\\_t1.mzML & GutBac\\_Rep3\\_t10.mzML & GutBac\\_Rep3\\_t120.mzML & GutBac\\_Rep3\\_t180.mzML & GutBac\\_Rep3\\_t20.mzML & GutBac\\_Rep3\\_t240.mzML & GutBac\\_Rep3\\_t30.mzML & GutBac\\_Rep3\\_t60.mzML & GutBac\\_Rep3\\_t720.mzML\\\\\n",
       "  & <dbl> & <dbl> & <dbl> & <dbl> & <dbl> & <dbl> & <dbl> & <dbl> & <dbl> & <dbl> & ... & <dbl> & <dbl> & <dbl> & <dbl> & <dbl> & <dbl> & <dbl> & <dbl> & <dbl> & <dbl>\\\\\n",
       "\\hline\n",
       "\tX1002\\_231.17\\_0.715\\_NA & 50298.31 & 21635.83 & 20397.348 & 13253.05 &  3267.277 & 34023.77 &   222.8398 & 27353.08 & 15001.777 &  4962.125 & ... &  57204.70 & 52072.95 & 45729.56 &   102.20 & 12095.42 & 38591.56 &  6135.828 & 29454.15 & 20424.07 &  6025.128\\\\\n",
       "\tX1003\\_175.025\\_0.717\\_NA & 27311.99 & 12652.35 &  9864.077 & 21843.31 & 23645.285 & 17389.87 & 12652.0980 & 15746.20 &  9692.443 & 19453.031 & ... &  32019.19 & 30412.88 & 25575.12 & 30980.42 & 25124.41 & 22108.58 & 15796.289 & 20447.47 & 24534.11 & 19263.518\\\\\n",
       "\tX1006\\_206.064\\_0.733\\_NA & 96254.45 & 20015.02 & 19539.650 & 36158.43 & 45152.387 & 38794.57 & 16259.9180 & 29461.41 & 18119.111 & 21798.707 & ... & 100331.62 & 87393.12 & 74795.55 & 74507.01 & 52874.42 & 56854.07 & 31590.785 & 45773.31 & 69054.88 & 23354.123\\\\\n",
       "\\end{tabular}\n"
      ],
      "text/markdown": [
       "\n",
       "A data.frame: 3 × 83\n",
       "\n",
       "| <!--/--> | Avr_Bac_Rep1_t0.mzML &lt;dbl&gt; | Avr_Bac_Rep1_t1.mzML &lt;dbl&gt; | Avr_Bac_Rep1_t10.mzML &lt;dbl&gt; | Avr_Bac_Rep1_t120.mzML &lt;dbl&gt; | Avr_Bac_Rep1_t180.mzML &lt;dbl&gt; | Avr_Bac_Rep1_t20.mzML &lt;dbl&gt; | Avr_Bac_Rep1_t240.mzML &lt;dbl&gt; | Avr_Bac_Rep1_t30.mzML &lt;dbl&gt; | Avr_Bac_Rep1_t60.mzML &lt;dbl&gt; | Avr_Bac_Rep1_t720.mzML &lt;dbl&gt; | ... ... | GutBac_Rep3_t0.mzML &lt;dbl&gt; | GutBac_Rep3_t1.mzML &lt;dbl&gt; | GutBac_Rep3_t10.mzML &lt;dbl&gt; | GutBac_Rep3_t120.mzML &lt;dbl&gt; | GutBac_Rep3_t180.mzML &lt;dbl&gt; | GutBac_Rep3_t20.mzML &lt;dbl&gt; | GutBac_Rep3_t240.mzML &lt;dbl&gt; | GutBac_Rep3_t30.mzML &lt;dbl&gt; | GutBac_Rep3_t60.mzML &lt;dbl&gt; | GutBac_Rep3_t720.mzML &lt;dbl&gt; |\n",
       "|---|---|---|---|---|---|---|---|---|---|---|---|---|---|---|---|---|---|---|---|---|---|\n",
       "| X1002_231.17_0.715_NA | 50298.31 | 21635.83 | 20397.348 | 13253.05 |  3267.277 | 34023.77 |   222.8398 | 27353.08 | 15001.777 |  4962.125 | ... |  57204.70 | 52072.95 | 45729.56 |   102.20 | 12095.42 | 38591.56 |  6135.828 | 29454.15 | 20424.07 |  6025.128 |\n",
       "| X1003_175.025_0.717_NA | 27311.99 | 12652.35 |  9864.077 | 21843.31 | 23645.285 | 17389.87 | 12652.0980 | 15746.20 |  9692.443 | 19453.031 | ... |  32019.19 | 30412.88 | 25575.12 | 30980.42 | 25124.41 | 22108.58 | 15796.289 | 20447.47 | 24534.11 | 19263.518 |\n",
       "| X1006_206.064_0.733_NA | 96254.45 | 20015.02 | 19539.650 | 36158.43 | 45152.387 | 38794.57 | 16259.9180 | 29461.41 | 18119.111 | 21798.707 | ... | 100331.62 | 87393.12 | 74795.55 | 74507.01 | 52874.42 | 56854.07 | 31590.785 | 45773.31 | 69054.88 | 23354.123 |\n",
       "\n"
      ],
      "text/plain": [
       "                       Avr_Bac_Rep1_t0.mzML Avr_Bac_Rep1_t1.mzML\n",
       "X1002_231.17_0.715_NA  50298.31             21635.83            \n",
       "X1003_175.025_0.717_NA 27311.99             12652.35            \n",
       "X1006_206.064_0.733_NA 96254.45             20015.02            \n",
       "                       Avr_Bac_Rep1_t10.mzML Avr_Bac_Rep1_t120.mzML\n",
       "X1002_231.17_0.715_NA  20397.348             13253.05              \n",
       "X1003_175.025_0.717_NA  9864.077             21843.31              \n",
       "X1006_206.064_0.733_NA 19539.650             36158.43              \n",
       "                       Avr_Bac_Rep1_t180.mzML Avr_Bac_Rep1_t20.mzML\n",
       "X1002_231.17_0.715_NA   3267.277              34023.77             \n",
       "X1003_175.025_0.717_NA 23645.285              17389.87             \n",
       "X1006_206.064_0.733_NA 45152.387              38794.57             \n",
       "                       Avr_Bac_Rep1_t240.mzML Avr_Bac_Rep1_t30.mzML\n",
       "X1002_231.17_0.715_NA    222.8398             27353.08             \n",
       "X1003_175.025_0.717_NA 12652.0980             15746.20             \n",
       "X1006_206.064_0.733_NA 16259.9180             29461.41             \n",
       "                       Avr_Bac_Rep1_t60.mzML Avr_Bac_Rep1_t720.mzML ...\n",
       "X1002_231.17_0.715_NA  15001.777              4962.125              ...\n",
       "X1003_175.025_0.717_NA  9692.443             19453.031              ...\n",
       "X1006_206.064_0.733_NA 18119.111             21798.707              ...\n",
       "                       GutBac_Rep3_t0.mzML GutBac_Rep3_t1.mzML\n",
       "X1002_231.17_0.715_NA   57204.70           52072.95           \n",
       "X1003_175.025_0.717_NA  32019.19           30412.88           \n",
       "X1006_206.064_0.733_NA 100331.62           87393.12           \n",
       "                       GutBac_Rep3_t10.mzML GutBac_Rep3_t120.mzML\n",
       "X1002_231.17_0.715_NA  45729.56               102.20             \n",
       "X1003_175.025_0.717_NA 25575.12             30980.42             \n",
       "X1006_206.064_0.733_NA 74795.55             74507.01             \n",
       "                       GutBac_Rep3_t180.mzML GutBac_Rep3_t20.mzML\n",
       "X1002_231.17_0.715_NA  12095.42              38591.56            \n",
       "X1003_175.025_0.717_NA 25124.41              22108.58            \n",
       "X1006_206.064_0.733_NA 52874.42              56854.07            \n",
       "                       GutBac_Rep3_t240.mzML GutBac_Rep3_t30.mzML\n",
       "X1002_231.17_0.715_NA   6135.828             29454.15            \n",
       "X1003_175.025_0.717_NA 15796.289             20447.47            \n",
       "X1006_206.064_0.733_NA 31590.785             45773.31            \n",
       "                       GutBac_Rep3_t60.mzML GutBac_Rep3_t720.mzML\n",
       "X1002_231.17_0.715_NA  20424.07              6025.128            \n",
       "X1003_175.025_0.717_NA 24534.11             19263.518            \n",
       "X1006_206.064_0.733_NA 69054.88             23354.123            "
      ]
     },
     "metadata": {},
     "output_type": "display_data"
    }
   ],
   "source": [
    "impute_results <- impute_table(blk_rem_results$blk_rem)"
   ]
  },
  {
   "cell_type": "code",
   "execution_count": 62,
   "id": "10750d0e-6af4-4478-8f3a-d30435c28a3b",
   "metadata": {},
   "outputs": [
    {
     "data": {
      "text/html": [
       "<style>\n",
       ".dl-inline {width: auto; margin:0; padding: 0}\n",
       ".dl-inline>dt, .dl-inline>dd {float: none; width: auto; display: inline-block}\n",
       ".dl-inline>dt::after {content: \":\\0020\"; padding-right: .5ex}\n",
       ".dl-inline>dt:not(:first-of-type) {padding-left: .5ex}\n",
       "</style><dl class=dl-inline><dt>Plot</dt><dd>9</dd><dt>Table</dt><dd>83</dd></dl>\n"
      ],
      "text/latex": [
       "\\begin{description*}\n",
       "\\item[Plot] 9\n",
       "\\item[Table] 83\n",
       "\\end{description*}\n"
      ],
      "text/markdown": [
       "Plot\n",
       ":   9Table\n",
       ":   83\n",
       "\n"
      ],
      "text/plain": [
       " Plot Table \n",
       "    9    83 "
      ]
     },
     "metadata": {},
     "output_type": "display_data"
    }
   ],
   "source": [
    "lengths(impute_results)"
   ]
  },
  {
   "cell_type": "code",
   "execution_count": 63,
   "id": "b9e94198-2e0a-4837-95d7-9dfe2945e824",
   "metadata": {},
   "outputs": [
    {
     "data": {
      "image/png": "[encoded data removed]",
      "text/plain": [
       "plot without title"
      ]
     },
     "metadata": {
      "image/png": {
       "height": 600,
       "width": 600
      }
     },
     "output_type": "display_data"
    }
   ],
   "source": [
    "impute_results$Plot"
   ]
  },
  {
   "cell_type": "markdown",
   "id": "5b7a4152",
   "metadata": {
    "id": "ecf06fcf"
   },
   "source": [
    "The above histogram shows that, in our, blank-removed feature table, there are many zeros present. And no values in the range between 0 to 1E2. The minimum value greater than 0 in our dataframe is in between 1E2 & 1E3 (and that value is 892)."
   ]
  },
  {
   "cell_type": "code",
   "execution_count": 197,
   "id": "ef4f3148-b01b-4edd-9fb3-d7cc8ea34624",
   "metadata": {},
   "outputs": [
    {
     "data": {
      "text/html": [
       "0"
      ],
      "text/latex": [
       "0"
      ],
      "text/markdown": [
       "0"
      ],
      "text/plain": [
       "[1] 0"
      ]
     },
     "metadata": {},
     "output_type": "display_data"
    }
   ],
   "source": [
    "imp <- impute_results$Table\n",
    "\n",
    "sum(imp==0) # checking if there are any zeros in our imputed table "
   ]
  },
  {
   "cell_type": "code",
   "execution_count": 66,
   "id": "598313a2",
   "metadata": {
    "id": "ed071fa7"
   },
   "outputs": [],
   "source": [
    "write.csv(imp,paste0(fName,'/Imputed_QuantTable.csv'),row.names =T)"
   ]
  },
  {
   "cell_type": "code",
   "execution_count": 67,
   "id": "4cc30151-4b4b-44e7-95cb-a352c05e35f2",
   "metadata": {},
   "outputs": [
    {
     "data": {
      "text/html": [
       "<table class=\"dataframe\">\n",
       "<caption>A data.frame: 4 × 2</caption>\n",
       "<thead>\n",
       "\t<tr><th scope=col>ID</th><th scope=col>Column_Names_Metadata</th></tr>\n",
       "\t<tr><th scope=col>&lt;int&gt;</th><th scope=col>&lt;chr&gt;</th></tr>\n",
       "</thead>\n",
       "<tbody>\n",
       "\t<tr><td>1</td><td>filename                   </td></tr>\n",
       "\t<tr><td>2</td><td>ATTRIBUTE_sample           </td></tr>\n",
       "\t<tr><td>3</td><td>ATTRIBUTE_replicates       </td></tr>\n",
       "\t<tr><td>4</td><td>ATTRIBUTE_timepoint_minutes</td></tr>\n",
       "</tbody>\n",
       "</table>\n"
      ],
      "text/latex": [
       "A data.frame: 4 × 2\n",
       "\\begin{tabular}{ll}\n",
       " ID & Column\\_Names\\_Metadata\\\\\n",
       " <int> & <chr>\\\\\n",
       "\\hline\n",
       "\t 1 & filename                   \\\\\n",
       "\t 2 & ATTRIBUTE\\_sample           \\\\\n",
       "\t 3 & ATTRIBUTE\\_replicates       \\\\\n",
       "\t 4 & ATTRIBUTE\\_timepoint\\_minutes\\\\\n",
       "\\end{tabular}\n"
      ],
      "text/markdown": [
       "\n",
       "A data.frame: 4 × 2\n",
       "\n",
       "| ID &lt;int&gt; | Column_Names_Metadata &lt;chr&gt; |\n",
       "|---|---|\n",
       "| 1 | filename                    |\n",
       "| 2 | ATTRIBUTE_sample            |\n",
       "| 3 | ATTRIBUTE_replicates        |\n",
       "| 4 | ATTRIBUTE_timepoint_minutes |\n",
       "\n"
      ],
      "text/plain": [
       "  ID Column_Names_Metadata      \n",
       "1 1  filename                   \n",
       "2 2  ATTRIBUTE_sample           \n",
       "3 3  ATTRIBUTE_replicates       \n",
       "4 4  ATTRIBUTE_timepoint_minutes"
      ]
     },
     "metadata": {},
     "output_type": "display_data"
    },
    {
     "name": "stdin",
     "output_type": "stream",
     "text": [
      "Enter the number corresponding to the metadata column you want to use for PCoA:  2\n"
     ]
    },
    {
     "data": {
      "image/png": "[encoded data removed]",
      "text/plain": [
       "plot without title"
      ]
     },
     "metadata": {
      "image/png": {
       "height": 600,
       "width": 600
      }
     },
     "output_type": "display_data"
    }
   ],
   "source": [
    "after_imp <- plotPCoA(data.frame(t(imp)), \n",
    "                      md_Samples, \n",
    "                      distmetric = 'canberra', \n",
    "                      title = \"Scores plot - After Imputation\")\n",
    "after_imp"
   ]
  },
  {
   "cell_type": "code",
   "execution_count": 68,
   "id": "2441f400-10d0-40a6-a596-64aa815041dc",
   "metadata": {},
   "outputs": [],
   "source": [
    "# Save the plot\n",
    "ggsave(filename = paste0(fName,'/PCoA_plot_after_imputation.svg'), plot = after_imp, width = 10, height = 10)"
   ]
  },
  {
   "cell_type": "markdown",
   "id": "ff917cf1",
   "metadata": {
    "id": "f06a2dd7",
    "tags": []
   },
   "source": [
    "## <font color ='darkblue'> 3.4 Normalization </font>\n",
    "<a name=\"norm\"></a>\n",
    "\n",
    "Normalization is performed to compensate for differences in total metabolite concentrations among samples (Y. Wu & Li,2016). Many normalization techniques can also correct the batch effects, such as those caused by sample pipetting or extraction. Here, we present 2 types of normalization: Total Ion Current(TIC) or (Probabilistic Quotient Normalization) PQN."
   ]
  },
  {
   "cell_type": "markdown",
   "id": "52170398",
   "metadata": {
    "id": "cd0d3561"
   },
   "source": [
    "### 3.4.1 Total Ion Current (TIC) or sample-centric normalization\n",
    "<a name=\"tic\"></a>"
   ]
  },
  {
   "cell_type": "code",
   "execution_count": 69,
   "id": "9b967ed2",
   "metadata": {
    "colab": {
     "base_uri": "https://localhost:8080/",
     "height": 233
    },
    "id": "13777a5d",
    "outputId": "ad499a9e-9ec2-405a-ebc7-02442a169b09"
   },
   "outputs": [
    {
     "data": {
      "text/html": [
       "<table class=\"dataframe\">\n",
       "<caption>A matrix: 3 × 2509 of type dbl</caption>\n",
       "<thead>\n",
       "\t<tr><th></th><th scope=col>X1002_231.17_0.715_NA</th><th scope=col>X1003_175.025_0.717_NA</th><th scope=col>X1006_206.064_0.733_NA</th><th scope=col>X1008_264.169_0.726_NA</th><th scope=col>X1010_242.186_0.714_NA</th><th scope=col>X1011_201.069_0.737_NA</th><th scope=col>X1013_261.073_0.745_NA</th><th scope=col>X1015_214.127_0.748_NA</th><th scope=col>X1018_188.074_0.755_NA</th><th scope=col>X1020_327.239_0.763_NA</th><th scope=col>...</th><th scope=col>X984_184.049_0.687_NA</th><th scope=col>X985_162.066_0.687_NA</th><th scope=col>X988_250.116_0.69_NA</th><th scope=col>X990_212.111_0.696_NA</th><th scope=col>X991_477.244_0.693_NA</th><th scope=col>X993_266.09_0.694_NA</th><th scope=col>X995_211.108_0.697_NA</th><th scope=col>X996_228.134_0.697_NA</th><th scope=col>X997_308.074_0.698_NA</th><th scope=col>X998_535.202_0.695_NA</th></tr>\n",
       "</thead>\n",
       "<tbody>\n",
       "\t<tr><th scope=row>Avr_Bac_Rep1_t0.mzML</th><td>5.281936e-05</td><td>2.868092e-05</td><td>1.010789e-04</td><td>7.359051e-06</td><td>6.507367e-06</td><td>4.832970e-06</td><td>0.0001597003</td><td>6.171221e-05</td><td>0.0001426357</td><td>3.937957e-08</td><td>...</td><td>2.193869e-05</td><td>0.0004126553</td><td>0.0007553028</td><td>9.388949e-05</td><td>4.134954e-05</td><td>2.549555e-05</td><td>0.0008784881</td><td>0.0009209826</td><td>1.629638e-05</td><td>6.532060e-06</td></tr>\n",
       "\t<tr><th scope=row>Avr_Bac_Rep1_t1.mzML</th><td>3.813996e-05</td><td>2.230375e-05</td><td>3.528277e-05</td><td>1.561854e-07</td><td>1.561854e-07</td><td>1.561854e-07</td><td>0.0001331831</td><td>5.149541e-05</td><td>0.0001237447</td><td>1.561854e-07</td><td>...</td><td>2.017202e-05</td><td>0.0003548161</td><td>0.0005609289</td><td>7.452204e-05</td><td>1.027298e-05</td><td>1.505827e-05</td><td>0.0007201014</td><td>0.0007365246</td><td>1.340015e-05</td><td>1.561854e-07</td></tr>\n",
       "\t<tr><th scope=row>Avr_Bac_Rep1_t10.mzML</th><td>4.173284e-05</td><td>2.018184e-05</td><td>3.997800e-05</td><td>2.966691e-08</td><td>2.966691e-08</td><td>2.966691e-08</td><td>0.0001346336</td><td>4.776691e-05</td><td>0.0001075647</td><td>2.966691e-08</td><td>...</td><td>2.304655e-05</td><td>0.0003248614</td><td>0.0005197907</td><td>6.757471e-05</td><td>1.956084e-06</td><td>2.134550e-05</td><td>0.0006867955</td><td>0.0006983581</td><td>1.095416e-05</td><td>2.966691e-08</td></tr>\n",
       "</tbody>\n",
       "</table>\n"
      ],
      "text/latex": [
       "A matrix: 3 × 2509 of type dbl\n",
       "\\begin{tabular}{r|lllllllllllllllllllll}\n",
       "  & X1002\\_231.17\\_0.715\\_NA & X1003\\_175.025\\_0.717\\_NA & X1006\\_206.064\\_0.733\\_NA & X1008\\_264.169\\_0.726\\_NA & X1010\\_242.186\\_0.714\\_NA & X1011\\_201.069\\_0.737\\_NA & X1013\\_261.073\\_0.745\\_NA & X1015\\_214.127\\_0.748\\_NA & X1018\\_188.074\\_0.755\\_NA & X1020\\_327.239\\_0.763\\_NA & ... & X984\\_184.049\\_0.687\\_NA & X985\\_162.066\\_0.687\\_NA & X988\\_250.116\\_0.69\\_NA & X990\\_212.111\\_0.696\\_NA & X991\\_477.244\\_0.693\\_NA & X993\\_266.09\\_0.694\\_NA & X995\\_211.108\\_0.697\\_NA & X996\\_228.134\\_0.697\\_NA & X997\\_308.074\\_0.698\\_NA & X998\\_535.202\\_0.695\\_NA\\\\\n",
       "\\hline\n",
       "\tAvr\\_Bac\\_Rep1\\_t0.mzML & 5.281936e-05 & 2.868092e-05 & 1.010789e-04 & 7.359051e-06 & 6.507367e-06 & 4.832970e-06 & 0.0001597003 & 6.171221e-05 & 0.0001426357 & 3.937957e-08 & ... & 2.193869e-05 & 0.0004126553 & 0.0007553028 & 9.388949e-05 & 4.134954e-05 & 2.549555e-05 & 0.0008784881 & 0.0009209826 & 1.629638e-05 & 6.532060e-06\\\\\n",
       "\tAvr\\_Bac\\_Rep1\\_t1.mzML & 3.813996e-05 & 2.230375e-05 & 3.528277e-05 & 1.561854e-07 & 1.561854e-07 & 1.561854e-07 & 0.0001331831 & 5.149541e-05 & 0.0001237447 & 1.561854e-07 & ... & 2.017202e-05 & 0.0003548161 & 0.0005609289 & 7.452204e-05 & 1.027298e-05 & 1.505827e-05 & 0.0007201014 & 0.0007365246 & 1.340015e-05 & 1.561854e-07\\\\\n",
       "\tAvr\\_Bac\\_Rep1\\_t10.mzML & 4.173284e-05 & 2.018184e-05 & 3.997800e-05 & 2.966691e-08 & 2.966691e-08 & 2.966691e-08 & 0.0001346336 & 4.776691e-05 & 0.0001075647 & 2.966691e-08 & ... & 2.304655e-05 & 0.0003248614 & 0.0005197907 & 6.757471e-05 & 1.956084e-06 & 2.134550e-05 & 0.0006867955 & 0.0006983581 & 1.095416e-05 & 2.966691e-08\\\\\n",
       "\\end{tabular}\n"
      ],
      "text/markdown": [
       "\n",
       "A matrix: 3 × 2509 of type dbl\n",
       "\n",
       "| <!--/--> | X1002_231.17_0.715_NA | X1003_175.025_0.717_NA | X1006_206.064_0.733_NA | X1008_264.169_0.726_NA | X1010_242.186_0.714_NA | X1011_201.069_0.737_NA | X1013_261.073_0.745_NA | X1015_214.127_0.748_NA | X1018_188.074_0.755_NA | X1020_327.239_0.763_NA | ... | X984_184.049_0.687_NA | X985_162.066_0.687_NA | X988_250.116_0.69_NA | X990_212.111_0.696_NA | X991_477.244_0.693_NA | X993_266.09_0.694_NA | X995_211.108_0.697_NA | X996_228.134_0.697_NA | X997_308.074_0.698_NA | X998_535.202_0.695_NA |\n",
       "|---|---|---|---|---|---|---|---|---|---|---|---|---|---|---|---|---|---|---|---|---|---|\n",
       "| Avr_Bac_Rep1_t0.mzML | 5.281936e-05 | 2.868092e-05 | 1.010789e-04 | 7.359051e-06 | 6.507367e-06 | 4.832970e-06 | 0.0001597003 | 6.171221e-05 | 0.0001426357 | 3.937957e-08 | ... | 2.193869e-05 | 0.0004126553 | 0.0007553028 | 9.388949e-05 | 4.134954e-05 | 2.549555e-05 | 0.0008784881 | 0.0009209826 | 1.629638e-05 | 6.532060e-06 |\n",
       "| Avr_Bac_Rep1_t1.mzML | 3.813996e-05 | 2.230375e-05 | 3.528277e-05 | 1.561854e-07 | 1.561854e-07 | 1.561854e-07 | 0.0001331831 | 5.149541e-05 | 0.0001237447 | 1.561854e-07 | ... | 2.017202e-05 | 0.0003548161 | 0.0005609289 | 7.452204e-05 | 1.027298e-05 | 1.505827e-05 | 0.0007201014 | 0.0007365246 | 1.340015e-05 | 1.561854e-07 |\n",
       "| Avr_Bac_Rep1_t10.mzML | 4.173284e-05 | 2.018184e-05 | 3.997800e-05 | 2.966691e-08 | 2.966691e-08 | 2.966691e-08 | 0.0001346336 | 4.776691e-05 | 0.0001075647 | 2.966691e-08 | ... | 2.304655e-05 | 0.0003248614 | 0.0005197907 | 6.757471e-05 | 1.956084e-06 | 2.134550e-05 | 0.0006867955 | 0.0006983581 | 1.095416e-05 | 2.966691e-08 |\n",
       "\n"
      ],
      "text/plain": [
       "                      X1002_231.17_0.715_NA X1003_175.025_0.717_NA\n",
       "Avr_Bac_Rep1_t0.mzML  5.281936e-05          2.868092e-05          \n",
       "Avr_Bac_Rep1_t1.mzML  3.813996e-05          2.230375e-05          \n",
       "Avr_Bac_Rep1_t10.mzML 4.173284e-05          2.018184e-05          \n",
       "                      X1006_206.064_0.733_NA X1008_264.169_0.726_NA\n",
       "Avr_Bac_Rep1_t0.mzML  1.010789e-04           7.359051e-06          \n",
       "Avr_Bac_Rep1_t1.mzML  3.528277e-05           1.561854e-07          \n",
       "Avr_Bac_Rep1_t10.mzML 3.997800e-05           2.966691e-08          \n",
       "                      X1010_242.186_0.714_NA X1011_201.069_0.737_NA\n",
       "Avr_Bac_Rep1_t0.mzML  6.507367e-06           4.832970e-06          \n",
       "Avr_Bac_Rep1_t1.mzML  1.561854e-07           1.561854e-07          \n",
       "Avr_Bac_Rep1_t10.mzML 2.966691e-08           2.966691e-08          \n",
       "                      X1013_261.073_0.745_NA X1015_214.127_0.748_NA\n",
       "Avr_Bac_Rep1_t0.mzML  0.0001597003           6.171221e-05          \n",
       "Avr_Bac_Rep1_t1.mzML  0.0001331831           5.149541e-05          \n",
       "Avr_Bac_Rep1_t10.mzML 0.0001346336           4.776691e-05          \n",
       "                      X1018_188.074_0.755_NA X1020_327.239_0.763_NA ...\n",
       "Avr_Bac_Rep1_t0.mzML  0.0001426357           3.937957e-08           ...\n",
       "Avr_Bac_Rep1_t1.mzML  0.0001237447           1.561854e-07           ...\n",
       "Avr_Bac_Rep1_t10.mzML 0.0001075647           2.966691e-08           ...\n",
       "                      X984_184.049_0.687_NA X985_162.066_0.687_NA\n",
       "Avr_Bac_Rep1_t0.mzML  2.193869e-05          0.0004126553         \n",
       "Avr_Bac_Rep1_t1.mzML  2.017202e-05          0.0003548161         \n",
       "Avr_Bac_Rep1_t10.mzML 2.304655e-05          0.0003248614         \n",
       "                      X988_250.116_0.69_NA X990_212.111_0.696_NA\n",
       "Avr_Bac_Rep1_t0.mzML  0.0007553028         9.388949e-05         \n",
       "Avr_Bac_Rep1_t1.mzML  0.0005609289         7.452204e-05         \n",
       "Avr_Bac_Rep1_t10.mzML 0.0005197907         6.757471e-05         \n",
       "                      X991_477.244_0.693_NA X993_266.09_0.694_NA\n",
       "Avr_Bac_Rep1_t0.mzML  4.134954e-05          2.549555e-05        \n",
       "Avr_Bac_Rep1_t1.mzML  1.027298e-05          1.505827e-05        \n",
       "Avr_Bac_Rep1_t10.mzML 1.956084e-06          2.134550e-05        \n",
       "                      X995_211.108_0.697_NA X996_228.134_0.697_NA\n",
       "Avr_Bac_Rep1_t0.mzML  0.0008784881          0.0009209826         \n",
       "Avr_Bac_Rep1_t1.mzML  0.0007201014          0.0007365246         \n",
       "Avr_Bac_Rep1_t10.mzML 0.0006867955          0.0006983581         \n",
       "                      X997_308.074_0.698_NA X998_535.202_0.695_NA\n",
       "Avr_Bac_Rep1_t0.mzML  1.629638e-05          6.532060e-06         \n",
       "Avr_Bac_Rep1_t1.mzML  1.340015e-05          1.561854e-07         \n",
       "Avr_Bac_Rep1_t10.mzML 1.095416e-05          2.966691e-08         "
      ]
     },
     "metadata": {},
     "output_type": "display_data"
    },
    {
     "data": {
      "text/html": [
       "<style>\n",
       ".list-inline {list-style: none; margin:0; padding: 0}\n",
       ".list-inline>li {display: inline-block}\n",
       ".list-inline>li:not(:last-child)::after {content: \"\\00b7\"; padding: 0 .5ex}\n",
       "</style>\n",
       "<ol class=list-inline><li>83</li><li>2509</li></ol>\n"
      ],
      "text/latex": [
       "\\begin{enumerate*}\n",
       "\\item 83\n",
       "\\item 2509\n",
       "\\end{enumerate*}\n"
      ],
      "text/markdown": [
       "1. 83\n",
       "2. 2509\n",
       "\n",
       "\n"
      ],
      "text/plain": [
       "[1]   83 2509"
      ]
     },
     "metadata": {},
     "output_type": "display_data"
    },
    {
     "name": "stdout",
     "output_type": "stream",
     "text": [
      "[1] \"No.of NA values in Normalized data: 0\"\n"
     ]
    }
   ],
   "source": [
    "norm_TIC <- normalization(t(imp), #performing normalization on transformed imputed data\n",
    "                            method = \"sum\")$newXtrain #here, samples are normalized to the sum of the absolute value of all variables for a given sample\n",
    "head(norm_TIC,n=3)\n",
    "dim(norm_TIC)\n",
    "print(paste('No.of NA values in Normalized data:',sum(is.na(norm_TIC)== T)))"
   ]
  },
  {
   "cell_type": "code",
   "execution_count": 70,
   "id": "ec03acff",
   "metadata": {
    "id": "631760ca"
   },
   "outputs": [],
   "source": [
    "write.csv(norm_TIC, paste0(fName,'/TIC_Normalised_table.csv'),row.names =T)"
   ]
  },
  {
   "cell_type": "code",
   "execution_count": 71,
   "id": "30ecf5ef-c8c4-497a-ad62-987024f74747",
   "metadata": {},
   "outputs": [
    {
     "data": {
      "text/html": [
       "<table class=\"dataframe\">\n",
       "<caption>A data.frame: 4 × 2</caption>\n",
       "<thead>\n",
       "\t<tr><th scope=col>ID</th><th scope=col>Column_Names_Metadata</th></tr>\n",
       "\t<tr><th scope=col>&lt;int&gt;</th><th scope=col>&lt;chr&gt;</th></tr>\n",
       "</thead>\n",
       "<tbody>\n",
       "\t<tr><td>1</td><td>filename                   </td></tr>\n",
       "\t<tr><td>2</td><td>ATTRIBUTE_sample           </td></tr>\n",
       "\t<tr><td>3</td><td>ATTRIBUTE_replicates       </td></tr>\n",
       "\t<tr><td>4</td><td>ATTRIBUTE_timepoint_minutes</td></tr>\n",
       "</tbody>\n",
       "</table>\n"
      ],
      "text/latex": [
       "A data.frame: 4 × 2\n",
       "\\begin{tabular}{ll}\n",
       " ID & Column\\_Names\\_Metadata\\\\\n",
       " <int> & <chr>\\\\\n",
       "\\hline\n",
       "\t 1 & filename                   \\\\\n",
       "\t 2 & ATTRIBUTE\\_sample           \\\\\n",
       "\t 3 & ATTRIBUTE\\_replicates       \\\\\n",
       "\t 4 & ATTRIBUTE\\_timepoint\\_minutes\\\\\n",
       "\\end{tabular}\n"
      ],
      "text/markdown": [
       "\n",
       "A data.frame: 4 × 2\n",
       "\n",
       "| ID &lt;int&gt; | Column_Names_Metadata &lt;chr&gt; |\n",
       "|---|---|\n",
       "| 1 | filename                    |\n",
       "| 2 | ATTRIBUTE_sample            |\n",
       "| 3 | ATTRIBUTE_replicates        |\n",
       "| 4 | ATTRIBUTE_timepoint_minutes |\n",
       "\n"
      ],
      "text/plain": [
       "  ID Column_Names_Metadata      \n",
       "1 1  filename                   \n",
       "2 2  ATTRIBUTE_sample           \n",
       "3 3  ATTRIBUTE_replicates       \n",
       "4 4  ATTRIBUTE_timepoint_minutes"
      ]
     },
     "metadata": {},
     "output_type": "display_data"
    },
    {
     "name": "stdin",
     "output_type": "stream",
     "text": [
      "Enter the number corresponding to the metadata column you want to use for PCoA:  2\n"
     ]
    },
    {
     "data": {
      "image/png": "[encoded data removed]",
      "text/plain": [
       "plot without title"
      ]
     },
     "metadata": {
      "image/png": {
       "height": 600,
       "width": 600
      }
     },
     "output_type": "display_data"
    }
   ],
   "source": [
    "after_tic <- plotPCoA(norm_TIC, \n",
    "                      md_Samples, \n",
    "                      distmetric = 'canberra', \n",
    "                      title = \"Scores plot - After TIC normalization\")\n",
    "after_tic"
   ]
  },
  {
   "cell_type": "code",
   "execution_count": 72,
   "id": "0e174cc4-a6a7-4801-987f-fecb958209ca",
   "metadata": {},
   "outputs": [],
   "source": [
    "# Save the plot\n",
    "ggsave(filename = paste0(fName,'/PCoA_plot_after_tic_normalisation.svg'), plot = after_tic, width = 10, height = 10)"
   ]
  },
  {
   "cell_type": "markdown",
   "id": "39ad265b",
   "metadata": {
    "id": "51790f90"
   },
   "source": [
    "### 3.4.2 Probabilistic Quotient Normalization (PQN)\n",
    "<a name=\"pqn\"></a>"
   ]
  },
  {
   "cell_type": "code",
   "execution_count": 73,
   "id": "450b6347",
   "metadata": {
    "colab": {
     "base_uri": "https://localhost:8080/",
     "height": 233
    },
    "id": "856368aa",
    "outputId": "8ba3d2ed-4347-4c4a-fe85-e0e92361e6f9"
   },
   "outputs": [
    {
     "data": {
      "text/html": [
       "<table class=\"dataframe\">\n",
       "<caption>A matrix: 3 × 2509 of type dbl</caption>\n",
       "<thead>\n",
       "\t<tr><th></th><th scope=col>X1002_231.17_0.715_NA</th><th scope=col>X1003_175.025_0.717_NA</th><th scope=col>X1006_206.064_0.733_NA</th><th scope=col>X1008_264.169_0.726_NA</th><th scope=col>X1010_242.186_0.714_NA</th><th scope=col>X1011_201.069_0.737_NA</th><th scope=col>X1013_261.073_0.745_NA</th><th scope=col>X1015_214.127_0.748_NA</th><th scope=col>X1018_188.074_0.755_NA</th><th scope=col>X1020_327.239_0.763_NA</th><th scope=col>...</th><th scope=col>X984_184.049_0.687_NA</th><th scope=col>X985_162.066_0.687_NA</th><th scope=col>X988_250.116_0.69_NA</th><th scope=col>X990_212.111_0.696_NA</th><th scope=col>X991_477.244_0.693_NA</th><th scope=col>X993_266.09_0.694_NA</th><th scope=col>X995_211.108_0.697_NA</th><th scope=col>X996_228.134_0.697_NA</th><th scope=col>X997_308.074_0.698_NA</th><th scope=col>X998_535.202_0.695_NA</th></tr>\n",
       "</thead>\n",
       "<tbody>\n",
       "\t<tr><th scope=row>Avr_Bac_Rep1_t0.mzML</th><td>4.975795e-05</td><td>2.701858e-05</td><td>9.522038e-05</td><td>6.932521e-06</td><td>6.130201e-06</td><td>4.552852e-06</td><td>0.0001504441</td><td>5.813538e-05</td><td>0.0001343685</td><td>3.709713e-08</td><td>...</td><td>2.066712e-05</td><td>0.0003887379</td><td>0.0007115256</td><td>8.844766e-05</td><td>3.895292e-05</td><td>2.401783e-05</td><td>0.0008275710</td><td>0.0008676026</td><td>1.535185e-05</td><td>6.153463e-06</td></tr>\n",
       "\t<tr><th scope=row>Avr_Bac_Rep1_t1.mzML</th><td>4.441159e-05</td><td>2.597132e-05</td><td>4.108457e-05</td><td>1.818681e-07</td><td>1.818681e-07</td><td>1.818681e-07</td><td>0.0001550833</td><td>5.996318e-05</td><td>0.0001440929</td><td>1.818681e-07</td><td>...</td><td>2.348905e-05</td><td>0.0004131611</td><td>0.0006531666</td><td>8.677624e-05</td><td>1.196224e-05</td><td>1.753441e-05</td><td>0.0008385129</td><td>0.0008576367</td><td>1.560363e-05</td><td>1.818681e-07</td></tr>\n",
       "\t<tr><th scope=row>Avr_Bac_Rep1_t10.mzML</th><td>5.299916e-05</td><td>2.563018e-05</td><td>5.077057e-05</td><td>3.767587e-08</td><td>3.767587e-08</td><td>3.767587e-08</td><td>0.0001709796</td><td>6.066220e-05</td><td>0.0001366031</td><td>3.767587e-08</td><td>...</td><td>2.926826e-05</td><td>0.0004125620</td><td>0.0006601149</td><td>8.581738e-05</td><td>2.484155e-06</td><td>2.710800e-05</td><td>0.0008722048</td><td>0.0008868888</td><td>1.391137e-05</td><td>3.767587e-08</td></tr>\n",
       "</tbody>\n",
       "</table>\n"
      ],
      "text/latex": [
       "A matrix: 3 × 2509 of type dbl\n",
       "\\begin{tabular}{r|lllllllllllllllllllll}\n",
       "  & X1002\\_231.17\\_0.715\\_NA & X1003\\_175.025\\_0.717\\_NA & X1006\\_206.064\\_0.733\\_NA & X1008\\_264.169\\_0.726\\_NA & X1010\\_242.186\\_0.714\\_NA & X1011\\_201.069\\_0.737\\_NA & X1013\\_261.073\\_0.745\\_NA & X1015\\_214.127\\_0.748\\_NA & X1018\\_188.074\\_0.755\\_NA & X1020\\_327.239\\_0.763\\_NA & ... & X984\\_184.049\\_0.687\\_NA & X985\\_162.066\\_0.687\\_NA & X988\\_250.116\\_0.69\\_NA & X990\\_212.111\\_0.696\\_NA & X991\\_477.244\\_0.693\\_NA & X993\\_266.09\\_0.694\\_NA & X995\\_211.108\\_0.697\\_NA & X996\\_228.134\\_0.697\\_NA & X997\\_308.074\\_0.698\\_NA & X998\\_535.202\\_0.695\\_NA\\\\\n",
       "\\hline\n",
       "\tAvr\\_Bac\\_Rep1\\_t0.mzML & 4.975795e-05 & 2.701858e-05 & 9.522038e-05 & 6.932521e-06 & 6.130201e-06 & 4.552852e-06 & 0.0001504441 & 5.813538e-05 & 0.0001343685 & 3.709713e-08 & ... & 2.066712e-05 & 0.0003887379 & 0.0007115256 & 8.844766e-05 & 3.895292e-05 & 2.401783e-05 & 0.0008275710 & 0.0008676026 & 1.535185e-05 & 6.153463e-06\\\\\n",
       "\tAvr\\_Bac\\_Rep1\\_t1.mzML & 4.441159e-05 & 2.597132e-05 & 4.108457e-05 & 1.818681e-07 & 1.818681e-07 & 1.818681e-07 & 0.0001550833 & 5.996318e-05 & 0.0001440929 & 1.818681e-07 & ... & 2.348905e-05 & 0.0004131611 & 0.0006531666 & 8.677624e-05 & 1.196224e-05 & 1.753441e-05 & 0.0008385129 & 0.0008576367 & 1.560363e-05 & 1.818681e-07\\\\\n",
       "\tAvr\\_Bac\\_Rep1\\_t10.mzML & 5.299916e-05 & 2.563018e-05 & 5.077057e-05 & 3.767587e-08 & 3.767587e-08 & 3.767587e-08 & 0.0001709796 & 6.066220e-05 & 0.0001366031 & 3.767587e-08 & ... & 2.926826e-05 & 0.0004125620 & 0.0006601149 & 8.581738e-05 & 2.484155e-06 & 2.710800e-05 & 0.0008722048 & 0.0008868888 & 1.391137e-05 & 3.767587e-08\\\\\n",
       "\\end{tabular}\n"
      ],
      "text/markdown": [
       "\n",
       "A matrix: 3 × 2509 of type dbl\n",
       "\n",
       "| <!--/--> | X1002_231.17_0.715_NA | X1003_175.025_0.717_NA | X1006_206.064_0.733_NA | X1008_264.169_0.726_NA | X1010_242.186_0.714_NA | X1011_201.069_0.737_NA | X1013_261.073_0.745_NA | X1015_214.127_0.748_NA | X1018_188.074_0.755_NA | X1020_327.239_0.763_NA | ... | X984_184.049_0.687_NA | X985_162.066_0.687_NA | X988_250.116_0.69_NA | X990_212.111_0.696_NA | X991_477.244_0.693_NA | X993_266.09_0.694_NA | X995_211.108_0.697_NA | X996_228.134_0.697_NA | X997_308.074_0.698_NA | X998_535.202_0.695_NA |\n",
       "|---|---|---|---|---|---|---|---|---|---|---|---|---|---|---|---|---|---|---|---|---|---|\n",
       "| Avr_Bac_Rep1_t0.mzML | 4.975795e-05 | 2.701858e-05 | 9.522038e-05 | 6.932521e-06 | 6.130201e-06 | 4.552852e-06 | 0.0001504441 | 5.813538e-05 | 0.0001343685 | 3.709713e-08 | ... | 2.066712e-05 | 0.0003887379 | 0.0007115256 | 8.844766e-05 | 3.895292e-05 | 2.401783e-05 | 0.0008275710 | 0.0008676026 | 1.535185e-05 | 6.153463e-06 |\n",
       "| Avr_Bac_Rep1_t1.mzML | 4.441159e-05 | 2.597132e-05 | 4.108457e-05 | 1.818681e-07 | 1.818681e-07 | 1.818681e-07 | 0.0001550833 | 5.996318e-05 | 0.0001440929 | 1.818681e-07 | ... | 2.348905e-05 | 0.0004131611 | 0.0006531666 | 8.677624e-05 | 1.196224e-05 | 1.753441e-05 | 0.0008385129 | 0.0008576367 | 1.560363e-05 | 1.818681e-07 |\n",
       "| Avr_Bac_Rep1_t10.mzML | 5.299916e-05 | 2.563018e-05 | 5.077057e-05 | 3.767587e-08 | 3.767587e-08 | 3.767587e-08 | 0.0001709796 | 6.066220e-05 | 0.0001366031 | 3.767587e-08 | ... | 2.926826e-05 | 0.0004125620 | 0.0006601149 | 8.581738e-05 | 2.484155e-06 | 2.710800e-05 | 0.0008722048 | 0.0008868888 | 1.391137e-05 | 3.767587e-08 |\n",
       "\n"
      ],
      "text/plain": [
       "                      X1002_231.17_0.715_NA X1003_175.025_0.717_NA\n",
       "Avr_Bac_Rep1_t0.mzML  4.975795e-05          2.701858e-05          \n",
       "Avr_Bac_Rep1_t1.mzML  4.441159e-05          2.597132e-05          \n",
       "Avr_Bac_Rep1_t10.mzML 5.299916e-05          2.563018e-05          \n",
       "                      X1006_206.064_0.733_NA X1008_264.169_0.726_NA\n",
       "Avr_Bac_Rep1_t0.mzML  9.522038e-05           6.932521e-06          \n",
       "Avr_Bac_Rep1_t1.mzML  4.108457e-05           1.818681e-07          \n",
       "Avr_Bac_Rep1_t10.mzML 5.077057e-05           3.767587e-08          \n",
       "                      X1010_242.186_0.714_NA X1011_201.069_0.737_NA\n",
       "Avr_Bac_Rep1_t0.mzML  6.130201e-06           4.552852e-06          \n",
       "Avr_Bac_Rep1_t1.mzML  1.818681e-07           1.818681e-07          \n",
       "Avr_Bac_Rep1_t10.mzML 3.767587e-08           3.767587e-08          \n",
       "                      X1013_261.073_0.745_NA X1015_214.127_0.748_NA\n",
       "Avr_Bac_Rep1_t0.mzML  0.0001504441           5.813538e-05          \n",
       "Avr_Bac_Rep1_t1.mzML  0.0001550833           5.996318e-05          \n",
       "Avr_Bac_Rep1_t10.mzML 0.0001709796           6.066220e-05          \n",
       "                      X1018_188.074_0.755_NA X1020_327.239_0.763_NA ...\n",
       "Avr_Bac_Rep1_t0.mzML  0.0001343685           3.709713e-08           ...\n",
       "Avr_Bac_Rep1_t1.mzML  0.0001440929           1.818681e-07           ...\n",
       "Avr_Bac_Rep1_t10.mzML 0.0001366031           3.767587e-08           ...\n",
       "                      X984_184.049_0.687_NA X985_162.066_0.687_NA\n",
       "Avr_Bac_Rep1_t0.mzML  2.066712e-05          0.0003887379         \n",
       "Avr_Bac_Rep1_t1.mzML  2.348905e-05          0.0004131611         \n",
       "Avr_Bac_Rep1_t10.mzML 2.926826e-05          0.0004125620         \n",
       "                      X988_250.116_0.69_NA X990_212.111_0.696_NA\n",
       "Avr_Bac_Rep1_t0.mzML  0.0007115256         8.844766e-05         \n",
       "Avr_Bac_Rep1_t1.mzML  0.0006531666         8.677624e-05         \n",
       "Avr_Bac_Rep1_t10.mzML 0.0006601149         8.581738e-05         \n",
       "                      X991_477.244_0.693_NA X993_266.09_0.694_NA\n",
       "Avr_Bac_Rep1_t0.mzML  3.895292e-05          2.401783e-05        \n",
       "Avr_Bac_Rep1_t1.mzML  1.196224e-05          1.753441e-05        \n",
       "Avr_Bac_Rep1_t10.mzML 2.484155e-06          2.710800e-05        \n",
       "                      X995_211.108_0.697_NA X996_228.134_0.697_NA\n",
       "Avr_Bac_Rep1_t0.mzML  0.0008275710          0.0008676026         \n",
       "Avr_Bac_Rep1_t1.mzML  0.0008385129          0.0008576367         \n",
       "Avr_Bac_Rep1_t10.mzML 0.0008722048          0.0008868888         \n",
       "                      X997_308.074_0.698_NA X998_535.202_0.695_NA\n",
       "Avr_Bac_Rep1_t0.mzML  1.535185e-05          6.153463e-06         \n",
       "Avr_Bac_Rep1_t1.mzML  1.560363e-05          1.818681e-07         \n",
       "Avr_Bac_Rep1_t10.mzML 1.391137e-05          3.767587e-08         "
      ]
     },
     "metadata": {},
     "output_type": "display_data"
    },
    {
     "data": {
      "text/html": [
       "<style>\n",
       ".list-inline {list-style: none; margin:0; padding: 0}\n",
       ".list-inline>li {display: inline-block}\n",
       ".list-inline>li:not(:last-child)::after {content: \"\\00b7\"; padding: 0 .5ex}\n",
       "</style>\n",
       "<ol class=list-inline><li>83</li><li>2509</li></ol>\n"
      ],
      "text/latex": [
       "\\begin{enumerate*}\n",
       "\\item 83\n",
       "\\item 2509\n",
       "\\end{enumerate*}\n"
      ],
      "text/markdown": [
       "1. 83\n",
       "2. 2509\n",
       "\n",
       "\n"
      ],
      "text/plain": [
       "[1]   83 2509"
      ]
     },
     "metadata": {},
     "output_type": "display_data"
    },
    {
     "name": "stdout",
     "output_type": "stream",
     "text": [
      "[1] \"No.of NA values in Normalized data: 0\"\n"
     ]
    }
   ],
   "source": [
    "norm_pqn <- normalization(t(imp), \n",
    "                            method = \"pqn\")$newXtrain\n",
    "head(norm_pqn,n=3)\n",
    "dim(norm_pqn)\n",
    "print(paste('No.of NA values in Normalized data:',sum(is.na(norm_pqn)== T)))"
   ]
  },
  {
   "cell_type": "code",
   "execution_count": 74,
   "id": "38e4c920",
   "metadata": {
    "id": "58fc407e"
   },
   "outputs": [],
   "source": [
    "write.csv(norm_pqn, paste0(fName,'/PQN_Normalised_Quant_table.csv'),row.names =T)"
   ]
  },
  {
   "cell_type": "code",
   "execution_count": 75,
   "id": "f792387a-16cc-4675-9630-27674b48fd5f",
   "metadata": {},
   "outputs": [
    {
     "data": {
      "text/html": [
       "<table class=\"dataframe\">\n",
       "<caption>A data.frame: 4 × 2</caption>\n",
       "<thead>\n",
       "\t<tr><th scope=col>ID</th><th scope=col>Column_Names_Metadata</th></tr>\n",
       "\t<tr><th scope=col>&lt;int&gt;</th><th scope=col>&lt;chr&gt;</th></tr>\n",
       "</thead>\n",
       "<tbody>\n",
       "\t<tr><td>1</td><td>filename                   </td></tr>\n",
       "\t<tr><td>2</td><td>ATTRIBUTE_sample           </td></tr>\n",
       "\t<tr><td>3</td><td>ATTRIBUTE_replicates       </td></tr>\n",
       "\t<tr><td>4</td><td>ATTRIBUTE_timepoint_minutes</td></tr>\n",
       "</tbody>\n",
       "</table>\n"
      ],
      "text/latex": [
       "A data.frame: 4 × 2\n",
       "\\begin{tabular}{ll}\n",
       " ID & Column\\_Names\\_Metadata\\\\\n",
       " <int> & <chr>\\\\\n",
       "\\hline\n",
       "\t 1 & filename                   \\\\\n",
       "\t 2 & ATTRIBUTE\\_sample           \\\\\n",
       "\t 3 & ATTRIBUTE\\_replicates       \\\\\n",
       "\t 4 & ATTRIBUTE\\_timepoint\\_minutes\\\\\n",
       "\\end{tabular}\n"
      ],
      "text/markdown": [
       "\n",
       "A data.frame: 4 × 2\n",
       "\n",
       "| ID &lt;int&gt; | Column_Names_Metadata &lt;chr&gt; |\n",
       "|---|---|\n",
       "| 1 | filename                    |\n",
       "| 2 | ATTRIBUTE_sample            |\n",
       "| 3 | ATTRIBUTE_replicates        |\n",
       "| 4 | ATTRIBUTE_timepoint_minutes |\n",
       "\n"
      ],
      "text/plain": [
       "  ID Column_Names_Metadata      \n",
       "1 1  filename                   \n",
       "2 2  ATTRIBUTE_sample           \n",
       "3 3  ATTRIBUTE_replicates       \n",
       "4 4  ATTRIBUTE_timepoint_minutes"
      ]
     },
     "metadata": {},
     "output_type": "display_data"
    },
    {
     "name": "stdin",
     "output_type": "stream",
     "text": [
      "Enter the number corresponding to the metadata column you want to use for PCoA:  2\n"
     ]
    },
    {
     "data": {
      "image/png": "[encoded data removed]",
      "text/plain": [
       "plot without title"
      ]
     },
     "metadata": {
      "image/png": {
       "height": 600,
       "width": 600
      }
     },
     "output_type": "display_data"
    }
   ],
   "source": [
    "after_pqn <- plotPCoA(norm_pqn, \n",
    "                      md_Samples, \n",
    "                      distmetric = 'canberra', \n",
    "                      title = \"Scores plot - After PQN normalization\")\n",
    "after_pqn"
   ]
  },
  {
   "cell_type": "code",
   "execution_count": 76,
   "id": "dfdcb7f4-7922-416f-81a4-02121e8b3a46",
   "metadata": {},
   "outputs": [],
   "source": [
    "# Save the plot\n",
    "ggsave(filename = paste0(fName,'/PCoA_plot_after_pqn_normalisation.svg'), plot = after_pqn, width = 10, height = 10)"
   ]
  },
  {
   "cell_type": "markdown",
   "id": "266488d1",
   "metadata": {
    "id": "w7rYinojzPVx",
    "tags": []
   },
   "source": [
    "## <font color ='darkblue'> 3.5 Scaling </font>\n",
    "<a name='scaling'></a>"
   ]
  },
  {
   "cell_type": "markdown",
   "id": "27f571c9",
   "metadata": {},
   "source": [
    "One can also perform center-scaling after imputation. Scaling is typically done to make sure that the data is centered around 0 and has a consistent spread to adjust for differences in offset between high and low-abundant metabolites, thus leaving only relevant variation for analysis. "
   ]
  },
  {
   "cell_type": "code",
   "execution_count": 77,
   "id": "aa457708",
   "metadata": {
    "colab": {
     "base_uri": "https://localhost:8080/",
     "height": 264
    },
    "id": "il-MRXsvdUzg",
    "outputId": "f0aef6ab-3ff3-466e-bebb-797d838c6df4"
   },
   "outputs": [
    {
     "data": {
      "text/html": [
       "TRUE"
      ],
      "text/latex": [
       "TRUE"
      ],
      "text/markdown": [
       "TRUE"
      ],
      "text/plain": [
       "[1] TRUE"
      ]
     },
     "metadata": {},
     "output_type": "display_data"
    }
   ],
   "source": [
    "Imp_t <- as.data.frame(t(imp)) #transposing the imputed table\n",
    "Imp_t <- Imp_t[match(md_Samples$filename,rownames(Imp_t)),] # ordering the rows in the Imp_t table according to the order of fiilenames column of md_Samples\n",
    "identical(rownames(Imp_t),md_Samples$filename) #should return TRUE"
   ]
  },
  {
   "cell_type": "markdown",
   "id": "b43d00c7-201d-431b-bfee-bb9f7f5ed14b",
   "metadata": {},
   "source": [
    "When <b>center = TRUE</b>, then centering is done by subtracting the column means (omitting NAs) of x from their corresponding columns. No centering is done for <b>center=FALSE</b>.\n",
    "\n",
    "* If scale = TRUE, center=TRUE,  then scaling is performed by dividing the centered columns of x by their standard deviations.\n",
    "* If scale = TRUE, center=FALSE, then scaling is performed by dividing the columns of x by their root mean squares\n",
    "* If scale is FALSE, no scaling is done."
   ]
  },
  {
   "cell_type": "code",
   "execution_count": 78,
   "id": "b3f13b06",
   "metadata": {
    "colab": {
     "base_uri": "https://localhost:8080/",
     "height": 233
    },
    "id": "xhmUsvEddvfA",
    "outputId": "3d5cb5a1-2acc-425b-e47c-5b515e457008"
   },
   "outputs": [
    {
     "data": {
      "text/html": [
       "<table class=\"dataframe\">\n",
       "<caption>A matrix: 2 × 2509 of type dbl</caption>\n",
       "<thead>\n",
       "\t<tr><th></th><th scope=col>X1002_231.17_0.715_NA</th><th scope=col>X1003_175.025_0.717_NA</th><th scope=col>X1006_206.064_0.733_NA</th><th scope=col>X1008_264.169_0.726_NA</th><th scope=col>X1010_242.186_0.714_NA</th><th scope=col>X1011_201.069_0.737_NA</th><th scope=col>X1013_261.073_0.745_NA</th><th scope=col>X1015_214.127_0.748_NA</th><th scope=col>X1018_188.074_0.755_NA</th><th scope=col>X1020_327.239_0.763_NA</th><th scope=col>...</th><th scope=col>X984_184.049_0.687_NA</th><th scope=col>X985_162.066_0.687_NA</th><th scope=col>X988_250.116_0.69_NA</th><th scope=col>X990_212.111_0.696_NA</th><th scope=col>X991_477.244_0.693_NA</th><th scope=col>X993_266.09_0.694_NA</th><th scope=col>X995_211.108_0.697_NA</th><th scope=col>X996_228.134_0.697_NA</th><th scope=col>X997_308.074_0.698_NA</th><th scope=col>X998_535.202_0.695_NA</th></tr>\n",
       "</thead>\n",
       "<tbody>\n",
       "\t<tr><th scope=row>Avr_Bac_Rep1_t0.mzML</th><td> 0.6019828</td><td> 0.8251427</td><td> 0.9603077</td><td> 0.8219562</td><td> 0.1680056</td><td> 0.007047286</td><td> 0.9885284</td><td> 0.4250855</td><td> 0.9495693</td><td>-0.3376301</td><td>...</td><td> 2.0932190</td><td> 1.063210</td><td> 0.6607994</td><td> 0.640043</td><td> 0.418559</td><td> 0.6428811</td><td> 0.5322297</td><td> 0.5411257</td><td> 0.5300093</td><td> 0.8422322</td></tr>\n",
       "\t<tr><th scope=row>Avr_Bac_Rep1_t1.mzML</th><td>-0.5725842</td><td>-1.3688723</td><td>-1.2259120</td><td>-0.7134991</td><td>-0.6875722</td><td>-0.627402610</td><td>-1.2838121</td><td>-1.5168536</td><td>-1.3332662</td><td>-0.3329958</td><td>...</td><td>-0.7142478</td><td>-1.273661</td><td>-1.4421605</td><td>-1.523291</td><td>-1.429370</td><td>-1.7009221</td><td>-1.5478118</td><td>-1.5633228</td><td>-1.2902031</td><td>-0.9705360</td></tr>\n",
       "</tbody>\n",
       "</table>\n"
      ],
      "text/latex": [
       "A matrix: 2 × 2509 of type dbl\n",
       "\\begin{tabular}{r|lllllllllllllllllllll}\n",
       "  & X1002\\_231.17\\_0.715\\_NA & X1003\\_175.025\\_0.717\\_NA & X1006\\_206.064\\_0.733\\_NA & X1008\\_264.169\\_0.726\\_NA & X1010\\_242.186\\_0.714\\_NA & X1011\\_201.069\\_0.737\\_NA & X1013\\_261.073\\_0.745\\_NA & X1015\\_214.127\\_0.748\\_NA & X1018\\_188.074\\_0.755\\_NA & X1020\\_327.239\\_0.763\\_NA & ... & X984\\_184.049\\_0.687\\_NA & X985\\_162.066\\_0.687\\_NA & X988\\_250.116\\_0.69\\_NA & X990\\_212.111\\_0.696\\_NA & X991\\_477.244\\_0.693\\_NA & X993\\_266.09\\_0.694\\_NA & X995\\_211.108\\_0.697\\_NA & X996\\_228.134\\_0.697\\_NA & X997\\_308.074\\_0.698\\_NA & X998\\_535.202\\_0.695\\_NA\\\\\n",
       "\\hline\n",
       "\tAvr\\_Bac\\_Rep1\\_t0.mzML &  0.6019828 &  0.8251427 &  0.9603077 &  0.8219562 &  0.1680056 &  0.007047286 &  0.9885284 &  0.4250855 &  0.9495693 & -0.3376301 & ... &  2.0932190 &  1.063210 &  0.6607994 &  0.640043 &  0.418559 &  0.6428811 &  0.5322297 &  0.5411257 &  0.5300093 &  0.8422322\\\\\n",
       "\tAvr\\_Bac\\_Rep1\\_t1.mzML & -0.5725842 & -1.3688723 & -1.2259120 & -0.7134991 & -0.6875722 & -0.627402610 & -1.2838121 & -1.5168536 & -1.3332662 & -0.3329958 & ... & -0.7142478 & -1.273661 & -1.4421605 & -1.523291 & -1.429370 & -1.7009221 & -1.5478118 & -1.5633228 & -1.2902031 & -0.9705360\\\\\n",
       "\\end{tabular}\n"
      ],
      "text/markdown": [
       "\n",
       "A matrix: 2 × 2509 of type dbl\n",
       "\n",
       "| <!--/--> | X1002_231.17_0.715_NA | X1003_175.025_0.717_NA | X1006_206.064_0.733_NA | X1008_264.169_0.726_NA | X1010_242.186_0.714_NA | X1011_201.069_0.737_NA | X1013_261.073_0.745_NA | X1015_214.127_0.748_NA | X1018_188.074_0.755_NA | X1020_327.239_0.763_NA | ... | X984_184.049_0.687_NA | X985_162.066_0.687_NA | X988_250.116_0.69_NA | X990_212.111_0.696_NA | X991_477.244_0.693_NA | X993_266.09_0.694_NA | X995_211.108_0.697_NA | X996_228.134_0.697_NA | X997_308.074_0.698_NA | X998_535.202_0.695_NA |\n",
       "|---|---|---|---|---|---|---|---|---|---|---|---|---|---|---|---|---|---|---|---|---|---|\n",
       "| Avr_Bac_Rep1_t0.mzML |  0.6019828 |  0.8251427 |  0.9603077 |  0.8219562 |  0.1680056 |  0.007047286 |  0.9885284 |  0.4250855 |  0.9495693 | -0.3376301 | ... |  2.0932190 |  1.063210 |  0.6607994 |  0.640043 |  0.418559 |  0.6428811 |  0.5322297 |  0.5411257 |  0.5300093 |  0.8422322 |\n",
       "| Avr_Bac_Rep1_t1.mzML | -0.5725842 | -1.3688723 | -1.2259120 | -0.7134991 | -0.6875722 | -0.627402610 | -1.2838121 | -1.5168536 | -1.3332662 | -0.3329958 | ... | -0.7142478 | -1.273661 | -1.4421605 | -1.523291 | -1.429370 | -1.7009221 | -1.5478118 | -1.5633228 | -1.2902031 | -0.9705360 |\n",
       "\n"
      ],
      "text/plain": [
       "                     X1002_231.17_0.715_NA X1003_175.025_0.717_NA\n",
       "Avr_Bac_Rep1_t0.mzML  0.6019828             0.8251427            \n",
       "Avr_Bac_Rep1_t1.mzML -0.5725842            -1.3688723            \n",
       "                     X1006_206.064_0.733_NA X1008_264.169_0.726_NA\n",
       "Avr_Bac_Rep1_t0.mzML  0.9603077              0.8219562            \n",
       "Avr_Bac_Rep1_t1.mzML -1.2259120             -0.7134991            \n",
       "                     X1010_242.186_0.714_NA X1011_201.069_0.737_NA\n",
       "Avr_Bac_Rep1_t0.mzML  0.1680056              0.007047286          \n",
       "Avr_Bac_Rep1_t1.mzML -0.6875722             -0.627402610          \n",
       "                     X1013_261.073_0.745_NA X1015_214.127_0.748_NA\n",
       "Avr_Bac_Rep1_t0.mzML  0.9885284              0.4250855            \n",
       "Avr_Bac_Rep1_t1.mzML -1.2838121             -1.5168536            \n",
       "                     X1018_188.074_0.755_NA X1020_327.239_0.763_NA ...\n",
       "Avr_Bac_Rep1_t0.mzML  0.9495693             -0.3376301             ...\n",
       "Avr_Bac_Rep1_t1.mzML -1.3332662             -0.3329958             ...\n",
       "                     X984_184.049_0.687_NA X985_162.066_0.687_NA\n",
       "Avr_Bac_Rep1_t0.mzML  2.0932190             1.063210            \n",
       "Avr_Bac_Rep1_t1.mzML -0.7142478            -1.273661            \n",
       "                     X988_250.116_0.69_NA X990_212.111_0.696_NA\n",
       "Avr_Bac_Rep1_t0.mzML  0.6607994            0.640043            \n",
       "Avr_Bac_Rep1_t1.mzML -1.4421605           -1.523291            \n",
       "                     X991_477.244_0.693_NA X993_266.09_0.694_NA\n",
       "Avr_Bac_Rep1_t0.mzML  0.418559              0.6428811          \n",
       "Avr_Bac_Rep1_t1.mzML -1.429370             -1.7009221          \n",
       "                     X995_211.108_0.697_NA X996_228.134_0.697_NA\n",
       "Avr_Bac_Rep1_t0.mzML  0.5322297             0.5411257           \n",
       "Avr_Bac_Rep1_t1.mzML -1.5478118            -1.5633228           \n",
       "                     X997_308.074_0.698_NA X998_535.202_0.695_NA\n",
       "Avr_Bac_Rep1_t0.mzML  0.5300093             0.8422322           \n",
       "Avr_Bac_Rep1_t1.mzML -1.2902031            -0.9705360           "
      ]
     },
     "metadata": {},
     "output_type": "display_data"
    }
   ],
   "source": [
    "Imp_s <- scale(Imp_t, center = T, scale = T) # center and scale data\n",
    "head(Imp_s, n=2)"
   ]
  },
  {
   "cell_type": "code",
   "execution_count": 79,
   "id": "6207ad81",
   "metadata": {
    "id": "5de82a5c"
   },
   "outputs": [],
   "source": [
    "write.csv(Imp_s, paste0(fName,'/scaled_table.csv'),row.names =T)"
   ]
  },
  {
   "cell_type": "code",
   "execution_count": 80,
   "id": "0906f21e-b328-479b-aa89-9bcc300fd6ca",
   "metadata": {},
   "outputs": [
    {
     "data": {
      "text/html": [
       "<table class=\"dataframe\">\n",
       "<caption>A data.frame: 4 × 2</caption>\n",
       "<thead>\n",
       "\t<tr><th scope=col>ID</th><th scope=col>Column_Names_Metadata</th></tr>\n",
       "\t<tr><th scope=col>&lt;int&gt;</th><th scope=col>&lt;chr&gt;</th></tr>\n",
       "</thead>\n",
       "<tbody>\n",
       "\t<tr><td>1</td><td>filename                   </td></tr>\n",
       "\t<tr><td>2</td><td>ATTRIBUTE_sample           </td></tr>\n",
       "\t<tr><td>3</td><td>ATTRIBUTE_replicates       </td></tr>\n",
       "\t<tr><td>4</td><td>ATTRIBUTE_timepoint_minutes</td></tr>\n",
       "</tbody>\n",
       "</table>\n"
      ],
      "text/latex": [
       "A data.frame: 4 × 2\n",
       "\\begin{tabular}{ll}\n",
       " ID & Column\\_Names\\_Metadata\\\\\n",
       " <int> & <chr>\\\\\n",
       "\\hline\n",
       "\t 1 & filename                   \\\\\n",
       "\t 2 & ATTRIBUTE\\_sample           \\\\\n",
       "\t 3 & ATTRIBUTE\\_replicates       \\\\\n",
       "\t 4 & ATTRIBUTE\\_timepoint\\_minutes\\\\\n",
       "\\end{tabular}\n"
      ],
      "text/markdown": [
       "\n",
       "A data.frame: 4 × 2\n",
       "\n",
       "| ID &lt;int&gt; | Column_Names_Metadata &lt;chr&gt; |\n",
       "|---|---|\n",
       "| 1 | filename                    |\n",
       "| 2 | ATTRIBUTE_sample            |\n",
       "| 3 | ATTRIBUTE_replicates        |\n",
       "| 4 | ATTRIBUTE_timepoint_minutes |\n",
       "\n"
      ],
      "text/plain": [
       "  ID Column_Names_Metadata      \n",
       "1 1  filename                   \n",
       "2 2  ATTRIBUTE_sample           \n",
       "3 3  ATTRIBUTE_replicates       \n",
       "4 4  ATTRIBUTE_timepoint_minutes"
      ]
     },
     "metadata": {},
     "output_type": "display_data"
    },
    {
     "name": "stdin",
     "output_type": "stream",
     "text": [
      "Enter the number corresponding to the metadata column you want to use for PCoA:  2\n"
     ]
    },
    {
     "data": {
      "image/png": "[encoded data removed]",
      "text/plain": [
       "plot without title"
      ]
     },
     "metadata": {
      "image/png": {
       "height": 600,
       "width": 600
      }
     },
     "output_type": "display_data"
    }
   ],
   "source": [
    "after_scaling <- plotPCoA(Imp_s, \n",
    "                      blk_rem_results$md_Samples, \n",
    "                      distmetric = 'canberra', \n",
    "                      title = \"Scores plot - After TIC normalization\")\n",
    "after_scaling"
   ]
  },
  {
   "cell_type": "code",
   "execution_count": 81,
   "id": "8612a5c5-7eae-4898-92d3-2fb6ba3a82b4",
   "metadata": {},
   "outputs": [],
   "source": [
    "# Save the plot\n",
    "ggsave(filename = paste0(fName,'/PCoA_plot_after_scaling.svg'), plot = after_scaling, width = 10, height = 10)"
   ]
  },
  {
   "cell_type": "markdown",
   "id": "d15576cd-2397-4243-8b1e-1662a8365b4c",
   "metadata": {},
   "source": [
    "# <font color = 'blue'>  4. Subsetting the feature table and metadata based on user-defined condition</font>"
   ]
  },
  {
   "cell_type": "code",
   "execution_count": 171,
   "id": "b852d313-e1d2-4162-89a2-bb694c400b1e",
   "metadata": {},
   "outputs": [
    {
     "data": {
      "text/html": [
       "<table class=\"dataframe\">\n",
       "<caption>A data.frame: 3 × 5</caption>\n",
       "<thead>\n",
       "\t<tr><th scope=col>INDEX</th><th scope=col>ATTRIBUTES</th><th scope=col>LEVELS</th><th scope=col>COUNT</th><th scope=col>ATTRIBUTE_CLASS</th></tr>\n",
       "\t<tr><th scope=col>&lt;int&gt;</th><th scope=col>&lt;chr&gt;</th><th scope=col>&lt;chr&gt;</th><th scope=col>&lt;chr&gt;</th><th scope=col>&lt;chr&gt;</th></tr>\n",
       "</thead>\n",
       "<tbody>\n",
       "\t<tr><td>1</td><td>ATTRIBUTE_sample           </td><td>Avermectin + Gut bacteria, Blank, Only Avermectin drug, Only Gut bacteria</td><td>23, 3, 30, 30               </td><td>character</td></tr>\n",
       "\t<tr><td>2</td><td>ATTRIBUTE_replicates       </td><td>1, 2, 3                                                                  </td><td>30, 30, 23                  </td><td>character</td></tr>\n",
       "\t<tr><td>3</td><td>ATTRIBUTE_timepoint_minutes</td><td>0, 1, 10, 120, 180, 20, 240, 30, 60, 720                                 </td><td>9, 9, 9, 8, 8, 8, 8, 8, 8, 8</td><td>character</td></tr>\n",
       "</tbody>\n",
       "</table>\n"
      ],
      "text/latex": [
       "A data.frame: 3 × 5\n",
       "\\begin{tabular}{lllll}\n",
       " INDEX & ATTRIBUTES & LEVELS & COUNT & ATTRIBUTE\\_CLASS\\\\\n",
       " <int> & <chr> & <chr> & <chr> & <chr>\\\\\n",
       "\\hline\n",
       "\t 1 & ATTRIBUTE\\_sample            & Avermectin + Gut bacteria, Blank, Only Avermectin drug, Only Gut bacteria & 23, 3, 30, 30                & character\\\\\n",
       "\t 2 & ATTRIBUTE\\_replicates        & 1, 2, 3                                                                   & 30, 30, 23                   & character\\\\\n",
       "\t 3 & ATTRIBUTE\\_timepoint\\_minutes & 0, 1, 10, 120, 180, 20, 240, 30, 60, 720                                  & 9, 9, 9, 8, 8, 8, 8, 8, 8, 8 & character\\\\\n",
       "\\end{tabular}\n"
      ],
      "text/markdown": [
       "\n",
       "A data.frame: 3 × 5\n",
       "\n",
       "| INDEX &lt;int&gt; | ATTRIBUTES &lt;chr&gt; | LEVELS &lt;chr&gt; | COUNT &lt;chr&gt; | ATTRIBUTE_CLASS &lt;chr&gt; |\n",
       "|---|---|---|---|---|\n",
       "| 1 | ATTRIBUTE_sample            | Avermectin + Gut bacteria, Blank, Only Avermectin drug, Only Gut bacteria | 23, 3, 30, 30                | character |\n",
       "| 2 | ATTRIBUTE_replicates        | 1, 2, 3                                                                   | 30, 30, 23                   | character |\n",
       "| 3 | ATTRIBUTE_timepoint_minutes | 0, 1, 10, 120, 180, 20, 240, 30, 60, 720                                  | 9, 9, 9, 8, 8, 8, 8, 8, 8, 8 | character |\n",
       "\n"
      ],
      "text/plain": [
       "  INDEX ATTRIBUTES                 \n",
       "1 1     ATTRIBUTE_sample           \n",
       "2 2     ATTRIBUTE_replicates       \n",
       "3 3     ATTRIBUTE_timepoint_minutes\n",
       "  LEVELS                                                                   \n",
       "1 Avermectin + Gut bacteria, Blank, Only Avermectin drug, Only Gut bacteria\n",
       "2 1, 2, 3                                                                  \n",
       "3 0, 1, 10, 120, 180, 20, 240, 30, 60, 720                                 \n",
       "  COUNT                        ATTRIBUTE_CLASS\n",
       "1 23, 3, 30, 30                character      \n",
       "2 30, 30, 23                   character      \n",
       "3 9, 9, 9, 8, 8, 8, 8, 8, 8, 8 character      "
      ]
     },
     "metadata": {},
     "output_type": "display_data"
    }
   ],
   "source": [
    "InsideLevels(new_md[,2:ncol(new_md)])"
   ]
  },
  {
   "cell_type": "code",
   "execution_count": 172,
   "id": "bf1f31d9-b0a6-4bb1-a290-a822bff535db",
   "metadata": {},
   "outputs": [
    {
     "data": {
      "text/html": [
       "<table class=\"dataframe\">\n",
       "<caption>A data.frame: 3 × 5</caption>\n",
       "<thead>\n",
       "\t<tr><th scope=col>INDEX</th><th scope=col>ATTRIBUTES</th><th scope=col>LEVELS</th><th scope=col>COUNT</th><th scope=col>ATTRIBUTE_CLASS</th></tr>\n",
       "\t<tr><th scope=col>&lt;int&gt;</th><th scope=col>&lt;chr&gt;</th><th scope=col>&lt;chr&gt;</th><th scope=col>&lt;chr&gt;</th><th scope=col>&lt;chr&gt;</th></tr>\n",
       "</thead>\n",
       "<tbody>\n",
       "\t<tr><td>1</td><td>ATTRIBUTE_sample           </td><td>Avermectin + Gut bacteria, Only Avermectin drug, Only Gut bacteria</td><td>23, 30, 30                  </td><td>character</td></tr>\n",
       "\t<tr><td>2</td><td>ATTRIBUTE_replicates       </td><td>1, 2, 3                                                           </td><td>30, 30, 23                  </td><td>character</td></tr>\n",
       "\t<tr><td>3</td><td>ATTRIBUTE_timepoint_minutes</td><td>0, 1, 10, 120, 180, 20, 240, 30, 60, 720                          </td><td>9, 9, 9, 8, 8, 8, 8, 8, 8, 8</td><td>character</td></tr>\n",
       "</tbody>\n",
       "</table>\n"
      ],
      "text/latex": [
       "A data.frame: 3 × 5\n",
       "\\begin{tabular}{lllll}\n",
       " INDEX & ATTRIBUTES & LEVELS & COUNT & ATTRIBUTE\\_CLASS\\\\\n",
       " <int> & <chr> & <chr> & <chr> & <chr>\\\\\n",
       "\\hline\n",
       "\t 1 & ATTRIBUTE\\_sample            & Avermectin + Gut bacteria, Only Avermectin drug, Only Gut bacteria & 23, 30, 30                   & character\\\\\n",
       "\t 2 & ATTRIBUTE\\_replicates        & 1, 2, 3                                                            & 30, 30, 23                   & character\\\\\n",
       "\t 3 & ATTRIBUTE\\_timepoint\\_minutes & 0, 1, 10, 120, 180, 20, 240, 30, 60, 720                           & 9, 9, 9, 8, 8, 8, 8, 8, 8, 8 & character\\\\\n",
       "\\end{tabular}\n"
      ],
      "text/markdown": [
       "\n",
       "A data.frame: 3 × 5\n",
       "\n",
       "| INDEX &lt;int&gt; | ATTRIBUTES &lt;chr&gt; | LEVELS &lt;chr&gt; | COUNT &lt;chr&gt; | ATTRIBUTE_CLASS &lt;chr&gt; |\n",
       "|---|---|---|---|---|\n",
       "| 1 | ATTRIBUTE_sample            | Avermectin + Gut bacteria, Only Avermectin drug, Only Gut bacteria | 23, 30, 30                   | character |\n",
       "| 2 | ATTRIBUTE_replicates        | 1, 2, 3                                                            | 30, 30, 23                   | character |\n",
       "| 3 | ATTRIBUTE_timepoint_minutes | 0, 1, 10, 120, 180, 20, 240, 30, 60, 720                           | 9, 9, 9, 8, 8, 8, 8, 8, 8, 8 | character |\n",
       "\n"
      ],
      "text/plain": [
       "  INDEX ATTRIBUTES                 \n",
       "1 1     ATTRIBUTE_sample           \n",
       "2 2     ATTRIBUTE_replicates       \n",
       "3 3     ATTRIBUTE_timepoint_minutes\n",
       "  LEVELS                                                            \n",
       "1 Avermectin + Gut bacteria, Only Avermectin drug, Only Gut bacteria\n",
       "2 1, 2, 3                                                           \n",
       "3 0, 1, 10, 120, 180, 20, 240, 30, 60, 720                          \n",
       "  COUNT                        ATTRIBUTE_CLASS\n",
       "1 23, 30, 30                   character      \n",
       "2 30, 30, 23                   character      \n",
       "3 9, 9, 9, 8, 8, 8, 8, 8, 8, 8 character      "
      ]
     },
     "metadata": {},
     "output_type": "display_data"
    }
   ],
   "source": [
    "InsideLevels(md_Samples[,2:ncol(md_Samples)])"
   ]
  },
  {
   "cell_type": "markdown",
   "id": "731f1f87-d6d7-4f9c-9ec7-c0b4204aa13f",
   "metadata": {},
   "source": [
    "Here, <b>new_md</b> is the metadata for the original ft without any blanks removed. And <b>md_Samples</b> is the metadata after blanks were removed. The corresponding ft are <b>new_ft</b> and <b>blk_rem</b> respectively. "
   ]
  },
  {
   "cell_type": "markdown",
   "id": "dcce99c4-60ba-4626-90c0-06a8e7c4e7f3",
   "metadata": {},
   "source": [
    "<font color = 'red'> The function <b>'SubsetLevels'</b> can be used to subset a dataframe using multiple attributes at a time as defined by the user. In addition to that, we can mention whether we want to keep or exclude certain levels within each selected attribute. It takes metadata table as its input. </font>"
   ]
  },
  {
   "cell_type": "code",
   "execution_count": 221,
   "id": "cde1e5c3-68b6-4e42-9855-3cd2cfbf8a75",
   "metadata": {},
   "outputs": [],
   "source": [
    "subset_md <- new_md %>% filter(ATTRIBUTE_sample == \"Avermectin + Gut bacteria\",\n",
    "                                    ATTRIBUTE_replicates != \"3\") #since 3rd replicate only have few samples"
   ]
  },
  {
   "cell_type": "code",
   "execution_count": 222,
   "id": "43ff4669-23d2-4c89-813b-c3cd8219e045",
   "metadata": {},
   "outputs": [
    {
     "data": {
      "text/html": [
       "<table class=\"dataframe\">\n",
       "<caption>A data.frame: 4 × 5</caption>\n",
       "<thead>\n",
       "\t<tr><th scope=col>INDEX</th><th scope=col>ATTRIBUTES</th><th scope=col>LEVELS</th><th scope=col>COUNT</th><th scope=col>ATTRIBUTE_CLASS</th></tr>\n",
       "\t<tr><th scope=col>&lt;int&gt;</th><th scope=col>&lt;chr&gt;</th><th scope=col>&lt;chr&gt;</th><th scope=col>&lt;chr&gt;</th><th scope=col>&lt;chr&gt;</th></tr>\n",
       "</thead>\n",
       "<tbody>\n",
       "\t<tr><td>1</td><td>filename                   </td><td>Avr_Bac_Rep1_t0.mzML, Avr_Bac_Rep1_t1.mzML, Avr_Bac_Rep1_t10.mzML, Avr_Bac_Rep1_t120.mzML, Avr_Bac_Rep1_t180.mzML, Avr_Bac_Rep1_t20.mzML, Avr_Bac_Rep1_t240.mzML, Avr_Bac_Rep1_t30.mzML, Avr_Bac_Rep1_t60.mzML, Avr_Bac_Rep1_t720.mzML, Avr_Bac_Rep2_t0.mzML, Avr_Bac_Rep2_t1.mzML, Avr_Bac_Rep2_t10.mzML, Avr_Bac_Rep2_t120.mzML, Avr_Bac_Rep2_t180.mzML, Avr_Bac_Rep2_t20.mzML, Avr_Bac_Rep2_t240.mzML, Avr_Bac_Rep2_t30.mzML, Avr_Bac_Rep2_t60.mzML, Avr_Bac_Rep2_t720.mzML</td><td>1, 1, 1, 1, 1, 1, 1, 1, 1, 1, 1, 1, 1, 1, 1, 1, 1, 1, 1, 1</td><td>character</td></tr>\n",
       "\t<tr><td>2</td><td>ATTRIBUTE_sample           </td><td>Avermectin + Gut bacteria                                                                                                                                                                                                                                                                                                                                                                                                                                                     </td><td>20                                                        </td><td>character</td></tr>\n",
       "\t<tr><td>3</td><td>ATTRIBUTE_replicates       </td><td>1, 2                                                                                                                                                                                                                                                                                                                                                                                                                                                                          </td><td>10, 10                                                    </td><td>character</td></tr>\n",
       "\t<tr><td>4</td><td>ATTRIBUTE_timepoint_minutes</td><td>0, 1, 10, 120, 180, 20, 240, 30, 60, 720                                                                                                                                                                                                                                                                                                                                                                                                                                      </td><td>2, 2, 2, 2, 2, 2, 2, 2, 2, 2                              </td><td>character</td></tr>\n",
       "</tbody>\n",
       "</table>\n"
      ],
      "text/latex": [
       "A data.frame: 4 × 5\n",
       "\\begin{tabular}{lllll}\n",
       " INDEX & ATTRIBUTES & LEVELS & COUNT & ATTRIBUTE\\_CLASS\\\\\n",
       " <int> & <chr> & <chr> & <chr> & <chr>\\\\\n",
       "\\hline\n",
       "\t 1 & filename                    & Avr\\_Bac\\_Rep1\\_t0.mzML, Avr\\_Bac\\_Rep1\\_t1.mzML, Avr\\_Bac\\_Rep1\\_t10.mzML, Avr\\_Bac\\_Rep1\\_t120.mzML, Avr\\_Bac\\_Rep1\\_t180.mzML, Avr\\_Bac\\_Rep1\\_t20.mzML, Avr\\_Bac\\_Rep1\\_t240.mzML, Avr\\_Bac\\_Rep1\\_t30.mzML, Avr\\_Bac\\_Rep1\\_t60.mzML, Avr\\_Bac\\_Rep1\\_t720.mzML, Avr\\_Bac\\_Rep2\\_t0.mzML, Avr\\_Bac\\_Rep2\\_t1.mzML, Avr\\_Bac\\_Rep2\\_t10.mzML, Avr\\_Bac\\_Rep2\\_t120.mzML, Avr\\_Bac\\_Rep2\\_t180.mzML, Avr\\_Bac\\_Rep2\\_t20.mzML, Avr\\_Bac\\_Rep2\\_t240.mzML, Avr\\_Bac\\_Rep2\\_t30.mzML, Avr\\_Bac\\_Rep2\\_t60.mzML, Avr\\_Bac\\_Rep2\\_t720.mzML & 1, 1, 1, 1, 1, 1, 1, 1, 1, 1, 1, 1, 1, 1, 1, 1, 1, 1, 1, 1 & character\\\\\n",
       "\t 2 & ATTRIBUTE\\_sample            & Avermectin + Gut bacteria                                                                                                                                                                                                                                                                                                                                                                                                                                                      & 20                                                         & character\\\\\n",
       "\t 3 & ATTRIBUTE\\_replicates        & 1, 2                                                                                                                                                                                                                                                                                                                                                                                                                                                                           & 10, 10                                                     & character\\\\\n",
       "\t 4 & ATTRIBUTE\\_timepoint\\_minutes & 0, 1, 10, 120, 180, 20, 240, 30, 60, 720                                                                                                                                                                                                                                                                                                                                                                                                                                       & 2, 2, 2, 2, 2, 2, 2, 2, 2, 2                               & character\\\\\n",
       "\\end{tabular}\n"
      ],
      "text/markdown": [
       "\n",
       "A data.frame: 4 × 5\n",
       "\n",
       "| INDEX &lt;int&gt; | ATTRIBUTES &lt;chr&gt; | LEVELS &lt;chr&gt; | COUNT &lt;chr&gt; | ATTRIBUTE_CLASS &lt;chr&gt; |\n",
       "|---|---|---|---|---|\n",
       "| 1 | filename                    | Avr_Bac_Rep1_t0.mzML, Avr_Bac_Rep1_t1.mzML, Avr_Bac_Rep1_t10.mzML, Avr_Bac_Rep1_t120.mzML, Avr_Bac_Rep1_t180.mzML, Avr_Bac_Rep1_t20.mzML, Avr_Bac_Rep1_t240.mzML, Avr_Bac_Rep1_t30.mzML, Avr_Bac_Rep1_t60.mzML, Avr_Bac_Rep1_t720.mzML, Avr_Bac_Rep2_t0.mzML, Avr_Bac_Rep2_t1.mzML, Avr_Bac_Rep2_t10.mzML, Avr_Bac_Rep2_t120.mzML, Avr_Bac_Rep2_t180.mzML, Avr_Bac_Rep2_t20.mzML, Avr_Bac_Rep2_t240.mzML, Avr_Bac_Rep2_t30.mzML, Avr_Bac_Rep2_t60.mzML, Avr_Bac_Rep2_t720.mzML | 1, 1, 1, 1, 1, 1, 1, 1, 1, 1, 1, 1, 1, 1, 1, 1, 1, 1, 1, 1 | character |\n",
       "| 2 | ATTRIBUTE_sample            | Avermectin + Gut bacteria                                                                                                                                                                                                                                                                                                                                                                                                                                                      | 20                                                         | character |\n",
       "| 3 | ATTRIBUTE_replicates        | 1, 2                                                                                                                                                                                                                                                                                                                                                                                                                                                                           | 10, 10                                                     | character |\n",
       "| 4 | ATTRIBUTE_timepoint_minutes | 0, 1, 10, 120, 180, 20, 240, 30, 60, 720                                                                                                                                                                                                                                                                                                                                                                                                                                       | 2, 2, 2, 2, 2, 2, 2, 2, 2, 2                               | character |\n",
       "\n"
      ],
      "text/plain": [
       "  INDEX ATTRIBUTES                 \n",
       "1 1     filename                   \n",
       "2 2     ATTRIBUTE_sample           \n",
       "3 3     ATTRIBUTE_replicates       \n",
       "4 4     ATTRIBUTE_timepoint_minutes\n",
       "  LEVELS                                                                                                                                                                                                                                                                                                                                                                                                                                                                        \n",
       "1 Avr_Bac_Rep1_t0.mzML, Avr_Bac_Rep1_t1.mzML, Avr_Bac_Rep1_t10.mzML, Avr_Bac_Rep1_t120.mzML, Avr_Bac_Rep1_t180.mzML, Avr_Bac_Rep1_t20.mzML, Avr_Bac_Rep1_t240.mzML, Avr_Bac_Rep1_t30.mzML, Avr_Bac_Rep1_t60.mzML, Avr_Bac_Rep1_t720.mzML, Avr_Bac_Rep2_t0.mzML, Avr_Bac_Rep2_t1.mzML, Avr_Bac_Rep2_t10.mzML, Avr_Bac_Rep2_t120.mzML, Avr_Bac_Rep2_t180.mzML, Avr_Bac_Rep2_t20.mzML, Avr_Bac_Rep2_t240.mzML, Avr_Bac_Rep2_t30.mzML, Avr_Bac_Rep2_t60.mzML, Avr_Bac_Rep2_t720.mzML\n",
       "2 Avermectin + Gut bacteria                                                                                                                                                                                                                                                                                                                                                                                                                                                     \n",
       "3 1, 2                                                                                                                                                                                                                                                                                                                                                                                                                                                                          \n",
       "4 0, 1, 10, 120, 180, 20, 240, 30, 60, 720                                                                                                                                                                                                                                                                                                                                                                                                                                      \n",
       "  COUNT                                                      ATTRIBUTE_CLASS\n",
       "1 1, 1, 1, 1, 1, 1, 1, 1, 1, 1, 1, 1, 1, 1, 1, 1, 1, 1, 1, 1 character      \n",
       "2 20                                                         character      \n",
       "3 10, 10                                                     character      \n",
       "4 2, 2, 2, 2, 2, 2, 2, 2, 2, 2                               character      "
      ]
     },
     "metadata": {},
     "output_type": "display_data"
    },
    {
     "data": {
      "text/html": [
       "<style>\n",
       ".list-inline {list-style: none; margin:0; padding: 0}\n",
       ".list-inline>li {display: inline-block}\n",
       ".list-inline>li:not(:last-child)::after {content: \"\\00b7\"; padding: 0 .5ex}\n",
       "</style>\n",
       "<ol class=list-inline><li>20</li><li>4</li></ol>\n"
      ],
      "text/latex": [
       "\\begin{enumerate*}\n",
       "\\item 20\n",
       "\\item 4\n",
       "\\end{enumerate*}\n"
      ],
      "text/markdown": [
       "1. 20\n",
       "2. 4\n",
       "\n",
       "\n"
      ],
      "text/plain": [
       "[1] 20  4"
      ]
     },
     "metadata": {},
     "output_type": "display_data"
    }
   ],
   "source": [
    "InsideLevels(subset_md) #checking once again to see if it has been subsetted properly\n",
    "dim(subset_md)"
   ]
  },
  {
   "cell_type": "code",
   "execution_count": 203,
   "id": "6113e787-0139-45da-9bcf-347116caf87c",
   "metadata": {},
   "outputs": [
    {
     "data": {
      "text/html": [
       "<table class=\"dataframe\">\n",
       "<caption>A data.frame: 6 × 20</caption>\n",
       "<thead>\n",
       "\t<tr><th></th><th scope=col>Avr_Bac_Rep1_t0.mzML</th><th scope=col>Avr_Bac_Rep1_t1.mzML</th><th scope=col>Avr_Bac_Rep1_t10.mzML</th><th scope=col>Avr_Bac_Rep1_t120.mzML</th><th scope=col>Avr_Bac_Rep1_t180.mzML</th><th scope=col>Avr_Bac_Rep1_t20.mzML</th><th scope=col>Avr_Bac_Rep1_t240.mzML</th><th scope=col>Avr_Bac_Rep1_t30.mzML</th><th scope=col>Avr_Bac_Rep1_t60.mzML</th><th scope=col>Avr_Bac_Rep1_t720.mzML</th><th scope=col>Avr_Bac_Rep2_t0.mzML</th><th scope=col>Avr_Bac_Rep2_t1.mzML</th><th scope=col>Avr_Bac_Rep2_t10.mzML</th><th scope=col>Avr_Bac_Rep2_t120.mzML</th><th scope=col>Avr_Bac_Rep2_t180.mzML</th><th scope=col>Avr_Bac_Rep2_t20.mzML</th><th scope=col>Avr_Bac_Rep2_t240.mzML</th><th scope=col>Avr_Bac_Rep2_t30.mzML</th><th scope=col>Avr_Bac_Rep2_t60.mzML</th><th scope=col>Avr_Bac_Rep2_t720.mzML</th></tr>\n",
       "\t<tr><th></th><th scope=col>&lt;dbl&gt;</th><th scope=col>&lt;dbl&gt;</th><th scope=col>&lt;dbl&gt;</th><th scope=col>&lt;dbl&gt;</th><th scope=col>&lt;dbl&gt;</th><th scope=col>&lt;dbl&gt;</th><th scope=col>&lt;dbl&gt;</th><th scope=col>&lt;dbl&gt;</th><th scope=col>&lt;dbl&gt;</th><th scope=col>&lt;dbl&gt;</th><th scope=col>&lt;dbl&gt;</th><th scope=col>&lt;dbl&gt;</th><th scope=col>&lt;dbl&gt;</th><th scope=col>&lt;dbl&gt;</th><th scope=col>&lt;dbl&gt;</th><th scope=col>&lt;dbl&gt;</th><th scope=col>&lt;dbl&gt;</th><th scope=col>&lt;dbl&gt;</th><th scope=col>&lt;dbl&gt;</th><th scope=col>&lt;dbl&gt;</th></tr>\n",
       "</thead>\n",
       "<tbody>\n",
       "\t<tr><th scope=row>X2_285.01_0.026_NA</th><td>  9121.137</td><td>18667.346</td><td>25429.7770</td><td> 27301.24</td><td> 2013.300</td><td> 24217.570</td><td> 26353.895</td><td> 18983.656</td><td> 30068.7170</td><td> 31323.8180</td><td> 25410.354</td><td>  5928.108</td><td> 31352.2700</td><td> 12484.52</td><td> 26422.2810</td><td> 24630.494</td><td> 25786.926</td><td> 12890.741</td><td> 21232.090</td><td> 20753.9530</td></tr>\n",
       "\t<tr><th scope=row>X4_166.123_0.054_NA</th><td>  8585.590</td><td>67654.586</td><td> 1015.3992</td><td> 18595.92</td><td> 7988.774</td><td> 24399.871</td><td> 24849.357</td><td> 10173.353</td><td>  5813.8400</td><td> 64197.8320</td><td> 39053.590</td><td> 14575.035</td><td> 35725.5550</td><td> 14507.89</td><td>  6925.3480</td><td> 68890.610</td><td>  3260.068</td><td> 38766.047</td><td> 29892.348</td><td> 65203.0160</td></tr>\n",
       "\t<tr><th scope=row>X5_227.04_0.023_NA</th><td>  4739.735</td><td>47169.016</td><td>40111.5430</td><td> 41518.71</td><td>62059.920</td><td> 10455.167</td><td> 55855.168</td><td> 20212.295</td><td>  7875.3720</td><td> 66344.4900</td><td> 62068.543</td><td> 61343.254</td><td> 53365.9650</td><td> 16530.40</td><td> 48577.1680</td><td> 47231.234</td><td> 31173.605</td><td>  9802.307</td><td> 36497.850</td><td> 67497.2200</td></tr>\n",
       "\t<tr><th scope=row>X6_223.084_0.078_NA</th><td>  4993.819</td><td>  933.212</td><td>  584.7465</td><td>  5018.85</td><td> 2562.420</td><td>  1124.187</td><td>  1308.476</td><td>  1620.751</td><td>   498.6828</td><td>   613.2769</td><td>  9932.812</td><td>  1185.877</td><td>   910.9628</td><td>  7880.31</td><td>   559.7695</td><td>  2726.511</td><td>   758.238</td><td>  1211.007</td><td>  1903.311</td><td>   579.7617</td></tr>\n",
       "\t<tr><th scope=row>X7_207.032_0.096_NA</th><td>277412.660</td><td>45147.836</td><td>26532.3570</td><td>315136.72</td><td>48802.863</td><td>299953.340</td><td>311148.100</td><td>209402.470</td><td>303704.5000</td><td>329759.1600</td><td>142347.270</td><td>306603.600</td><td>289811.9700</td><td>308932.10</td><td>298298.5300</td><td>316544.300</td><td>197985.780</td><td>236100.230</td><td>307221.100</td><td>305603.6000</td></tr>\n",
       "\t<tr><th scope=row>X8_209.048_0.149_NA</th><td>284921.840</td><td>45506.290</td><td>80316.7400</td><td> 95323.01</td><td>58428.970</td><td> 54777.560</td><td>330467.780</td><td>234668.550</td><td> 57229.3160</td><td> 55122.3440</td><td>332273.470</td><td> 59460.418</td><td>337354.4700</td><td>345356.10</td><td> 60737.0080</td><td>290081.750</td><td>226970.730</td><td> 77018.460</td><td> 54337.830</td><td> 41226.5100</td></tr>\n",
       "</tbody>\n",
       "</table>\n"
      ],
      "text/latex": [
       "A data.frame: 6 × 20\n",
       "\\begin{tabular}{r|llllllllllllllllllll}\n",
       "  & Avr\\_Bac\\_Rep1\\_t0.mzML & Avr\\_Bac\\_Rep1\\_t1.mzML & Avr\\_Bac\\_Rep1\\_t10.mzML & Avr\\_Bac\\_Rep1\\_t120.mzML & Avr\\_Bac\\_Rep1\\_t180.mzML & Avr\\_Bac\\_Rep1\\_t20.mzML & Avr\\_Bac\\_Rep1\\_t240.mzML & Avr\\_Bac\\_Rep1\\_t30.mzML & Avr\\_Bac\\_Rep1\\_t60.mzML & Avr\\_Bac\\_Rep1\\_t720.mzML & Avr\\_Bac\\_Rep2\\_t0.mzML & Avr\\_Bac\\_Rep2\\_t1.mzML & Avr\\_Bac\\_Rep2\\_t10.mzML & Avr\\_Bac\\_Rep2\\_t120.mzML & Avr\\_Bac\\_Rep2\\_t180.mzML & Avr\\_Bac\\_Rep2\\_t20.mzML & Avr\\_Bac\\_Rep2\\_t240.mzML & Avr\\_Bac\\_Rep2\\_t30.mzML & Avr\\_Bac\\_Rep2\\_t60.mzML & Avr\\_Bac\\_Rep2\\_t720.mzML\\\\\n",
       "  & <dbl> & <dbl> & <dbl> & <dbl> & <dbl> & <dbl> & <dbl> & <dbl> & <dbl> & <dbl> & <dbl> & <dbl> & <dbl> & <dbl> & <dbl> & <dbl> & <dbl> & <dbl> & <dbl> & <dbl>\\\\\n",
       "\\hline\n",
       "\tX2\\_285.01\\_0.026\\_NA &   9121.137 & 18667.346 & 25429.7770 &  27301.24 &  2013.300 &  24217.570 &  26353.895 &  18983.656 &  30068.7170 &  31323.8180 &  25410.354 &   5928.108 &  31352.2700 &  12484.52 &  26422.2810 &  24630.494 &  25786.926 &  12890.741 &  21232.090 &  20753.9530\\\\\n",
       "\tX4\\_166.123\\_0.054\\_NA &   8585.590 & 67654.586 &  1015.3992 &  18595.92 &  7988.774 &  24399.871 &  24849.357 &  10173.353 &   5813.8400 &  64197.8320 &  39053.590 &  14575.035 &  35725.5550 &  14507.89 &   6925.3480 &  68890.610 &   3260.068 &  38766.047 &  29892.348 &  65203.0160\\\\\n",
       "\tX5\\_227.04\\_0.023\\_NA &   4739.735 & 47169.016 & 40111.5430 &  41518.71 & 62059.920 &  10455.167 &  55855.168 &  20212.295 &   7875.3720 &  66344.4900 &  62068.543 &  61343.254 &  53365.9650 &  16530.40 &  48577.1680 &  47231.234 &  31173.605 &   9802.307 &  36497.850 &  67497.2200\\\\\n",
       "\tX6\\_223.084\\_0.078\\_NA &   4993.819 &   933.212 &   584.7465 &   5018.85 &  2562.420 &   1124.187 &   1308.476 &   1620.751 &    498.6828 &    613.2769 &   9932.812 &   1185.877 &    910.9628 &   7880.31 &    559.7695 &   2726.511 &    758.238 &   1211.007 &   1903.311 &    579.7617\\\\\n",
       "\tX7\\_207.032\\_0.096\\_NA & 277412.660 & 45147.836 & 26532.3570 & 315136.72 & 48802.863 & 299953.340 & 311148.100 & 209402.470 & 303704.5000 & 329759.1600 & 142347.270 & 306603.600 & 289811.9700 & 308932.10 & 298298.5300 & 316544.300 & 197985.780 & 236100.230 & 307221.100 & 305603.6000\\\\\n",
       "\tX8\\_209.048\\_0.149\\_NA & 284921.840 & 45506.290 & 80316.7400 &  95323.01 & 58428.970 &  54777.560 & 330467.780 & 234668.550 &  57229.3160 &  55122.3440 & 332273.470 &  59460.418 & 337354.4700 & 345356.10 &  60737.0080 & 290081.750 & 226970.730 &  77018.460 &  54337.830 &  41226.5100\\\\\n",
       "\\end{tabular}\n"
      ],
      "text/markdown": [
       "\n",
       "A data.frame: 6 × 20\n",
       "\n",
       "| <!--/--> | Avr_Bac_Rep1_t0.mzML &lt;dbl&gt; | Avr_Bac_Rep1_t1.mzML &lt;dbl&gt; | Avr_Bac_Rep1_t10.mzML &lt;dbl&gt; | Avr_Bac_Rep1_t120.mzML &lt;dbl&gt; | Avr_Bac_Rep1_t180.mzML &lt;dbl&gt; | Avr_Bac_Rep1_t20.mzML &lt;dbl&gt; | Avr_Bac_Rep1_t240.mzML &lt;dbl&gt; | Avr_Bac_Rep1_t30.mzML &lt;dbl&gt; | Avr_Bac_Rep1_t60.mzML &lt;dbl&gt; | Avr_Bac_Rep1_t720.mzML &lt;dbl&gt; | Avr_Bac_Rep2_t0.mzML &lt;dbl&gt; | Avr_Bac_Rep2_t1.mzML &lt;dbl&gt; | Avr_Bac_Rep2_t10.mzML &lt;dbl&gt; | Avr_Bac_Rep2_t120.mzML &lt;dbl&gt; | Avr_Bac_Rep2_t180.mzML &lt;dbl&gt; | Avr_Bac_Rep2_t20.mzML &lt;dbl&gt; | Avr_Bac_Rep2_t240.mzML &lt;dbl&gt; | Avr_Bac_Rep2_t30.mzML &lt;dbl&gt; | Avr_Bac_Rep2_t60.mzML &lt;dbl&gt; | Avr_Bac_Rep2_t720.mzML &lt;dbl&gt; |\n",
       "|---|---|---|---|---|---|---|---|---|---|---|---|---|---|---|---|---|---|---|---|---|\n",
       "| X2_285.01_0.026_NA |   9121.137 | 18667.346 | 25429.7770 |  27301.24 |  2013.300 |  24217.570 |  26353.895 |  18983.656 |  30068.7170 |  31323.8180 |  25410.354 |   5928.108 |  31352.2700 |  12484.52 |  26422.2810 |  24630.494 |  25786.926 |  12890.741 |  21232.090 |  20753.9530 |\n",
       "| X4_166.123_0.054_NA |   8585.590 | 67654.586 |  1015.3992 |  18595.92 |  7988.774 |  24399.871 |  24849.357 |  10173.353 |   5813.8400 |  64197.8320 |  39053.590 |  14575.035 |  35725.5550 |  14507.89 |   6925.3480 |  68890.610 |   3260.068 |  38766.047 |  29892.348 |  65203.0160 |\n",
       "| X5_227.04_0.023_NA |   4739.735 | 47169.016 | 40111.5430 |  41518.71 | 62059.920 |  10455.167 |  55855.168 |  20212.295 |   7875.3720 |  66344.4900 |  62068.543 |  61343.254 |  53365.9650 |  16530.40 |  48577.1680 |  47231.234 |  31173.605 |   9802.307 |  36497.850 |  67497.2200 |\n",
       "| X6_223.084_0.078_NA |   4993.819 |   933.212 |   584.7465 |   5018.85 |  2562.420 |   1124.187 |   1308.476 |   1620.751 |    498.6828 |    613.2769 |   9932.812 |   1185.877 |    910.9628 |   7880.31 |    559.7695 |   2726.511 |    758.238 |   1211.007 |   1903.311 |    579.7617 |\n",
       "| X7_207.032_0.096_NA | 277412.660 | 45147.836 | 26532.3570 | 315136.72 | 48802.863 | 299953.340 | 311148.100 | 209402.470 | 303704.5000 | 329759.1600 | 142347.270 | 306603.600 | 289811.9700 | 308932.10 | 298298.5300 | 316544.300 | 197985.780 | 236100.230 | 307221.100 | 305603.6000 |\n",
       "| X8_209.048_0.149_NA | 284921.840 | 45506.290 | 80316.7400 |  95323.01 | 58428.970 |  54777.560 | 330467.780 | 234668.550 |  57229.3160 |  55122.3440 | 332273.470 |  59460.418 | 337354.4700 | 345356.10 |  60737.0080 | 290081.750 | 226970.730 |  77018.460 |  54337.830 |  41226.5100 |\n",
       "\n"
      ],
      "text/plain": [
       "                    Avr_Bac_Rep1_t0.mzML Avr_Bac_Rep1_t1.mzML\n",
       "X2_285.01_0.026_NA    9121.137           18667.346           \n",
       "X4_166.123_0.054_NA   8585.590           67654.586           \n",
       "X5_227.04_0.023_NA    4739.735           47169.016           \n",
       "X6_223.084_0.078_NA   4993.819             933.212           \n",
       "X7_207.032_0.096_NA 277412.660           45147.836           \n",
       "X8_209.048_0.149_NA 284921.840           45506.290           \n",
       "                    Avr_Bac_Rep1_t10.mzML Avr_Bac_Rep1_t120.mzML\n",
       "X2_285.01_0.026_NA  25429.7770             27301.24             \n",
       "X4_166.123_0.054_NA  1015.3992             18595.92             \n",
       "X5_227.04_0.023_NA  40111.5430             41518.71             \n",
       "X6_223.084_0.078_NA   584.7465              5018.85             \n",
       "X7_207.032_0.096_NA 26532.3570            315136.72             \n",
       "X8_209.048_0.149_NA 80316.7400             95323.01             \n",
       "                    Avr_Bac_Rep1_t180.mzML Avr_Bac_Rep1_t20.mzML\n",
       "X2_285.01_0.026_NA   2013.300               24217.570           \n",
       "X4_166.123_0.054_NA  7988.774               24399.871           \n",
       "X5_227.04_0.023_NA  62059.920               10455.167           \n",
       "X6_223.084_0.078_NA  2562.420                1124.187           \n",
       "X7_207.032_0.096_NA 48802.863              299953.340           \n",
       "X8_209.048_0.149_NA 58428.970               54777.560           \n",
       "                    Avr_Bac_Rep1_t240.mzML Avr_Bac_Rep1_t30.mzML\n",
       "X2_285.01_0.026_NA   26353.895              18983.656           \n",
       "X4_166.123_0.054_NA  24849.357              10173.353           \n",
       "X5_227.04_0.023_NA   55855.168              20212.295           \n",
       "X6_223.084_0.078_NA   1308.476               1620.751           \n",
       "X7_207.032_0.096_NA 311148.100             209402.470           \n",
       "X8_209.048_0.149_NA 330467.780             234668.550           \n",
       "                    Avr_Bac_Rep1_t60.mzML Avr_Bac_Rep1_t720.mzML\n",
       "X2_285.01_0.026_NA   30068.7170            31323.8180           \n",
       "X4_166.123_0.054_NA   5813.8400            64197.8320           \n",
       "X5_227.04_0.023_NA    7875.3720            66344.4900           \n",
       "X6_223.084_0.078_NA    498.6828              613.2769           \n",
       "X7_207.032_0.096_NA 303704.5000           329759.1600           \n",
       "X8_209.048_0.149_NA  57229.3160            55122.3440           \n",
       "                    Avr_Bac_Rep2_t0.mzML Avr_Bac_Rep2_t1.mzML\n",
       "X2_285.01_0.026_NA   25410.354             5928.108          \n",
       "X4_166.123_0.054_NA  39053.590            14575.035          \n",
       "X5_227.04_0.023_NA   62068.543            61343.254          \n",
       "X6_223.084_0.078_NA   9932.812             1185.877          \n",
       "X7_207.032_0.096_NA 142347.270           306603.600          \n",
       "X8_209.048_0.149_NA 332273.470            59460.418          \n",
       "                    Avr_Bac_Rep2_t10.mzML Avr_Bac_Rep2_t120.mzML\n",
       "X2_285.01_0.026_NA   31352.2700            12484.52             \n",
       "X4_166.123_0.054_NA  35725.5550            14507.89             \n",
       "X5_227.04_0.023_NA   53365.9650            16530.40             \n",
       "X6_223.084_0.078_NA    910.9628             7880.31             \n",
       "X7_207.032_0.096_NA 289811.9700           308932.10             \n",
       "X8_209.048_0.149_NA 337354.4700           345356.10             \n",
       "                    Avr_Bac_Rep2_t180.mzML Avr_Bac_Rep2_t20.mzML\n",
       "X2_285.01_0.026_NA   26422.2810             24630.494           \n",
       "X4_166.123_0.054_NA   6925.3480             68890.610           \n",
       "X5_227.04_0.023_NA   48577.1680             47231.234           \n",
       "X6_223.084_0.078_NA    559.7695              2726.511           \n",
       "X7_207.032_0.096_NA 298298.5300            316544.300           \n",
       "X8_209.048_0.149_NA  60737.0080            290081.750           \n",
       "                    Avr_Bac_Rep2_t240.mzML Avr_Bac_Rep2_t30.mzML\n",
       "X2_285.01_0.026_NA   25786.926              12890.741           \n",
       "X4_166.123_0.054_NA   3260.068              38766.047           \n",
       "X5_227.04_0.023_NA   31173.605               9802.307           \n",
       "X6_223.084_0.078_NA    758.238               1211.007           \n",
       "X7_207.032_0.096_NA 197985.780             236100.230           \n",
       "X8_209.048_0.149_NA 226970.730              77018.460           \n",
       "                    Avr_Bac_Rep2_t60.mzML Avr_Bac_Rep2_t720.mzML\n",
       "X2_285.01_0.026_NA   21232.090             20753.9530           \n",
       "X4_166.123_0.054_NA  29892.348             65203.0160           \n",
       "X5_227.04_0.023_NA   36497.850             67497.2200           \n",
       "X6_223.084_0.078_NA   1903.311               579.7617           \n",
       "X7_207.032_0.096_NA 307221.100            305603.6000           \n",
       "X8_209.048_0.149_NA  54337.830             41226.5100           "
      ]
     },
     "metadata": {},
     "output_type": "display_data"
    },
    {
     "data": {
      "text/html": [
       "<style>\n",
       ".list-inline {list-style: none; margin:0; padding: 0}\n",
       ".list-inline>li {display: inline-block}\n",
       ".list-inline>li:not(:last-child)::after {content: \"\\00b7\"; padding: 0 .5ex}\n",
       "</style>\n",
       "<ol class=list-inline><li>3412</li><li>20</li></ol>\n"
      ],
      "text/latex": [
       "\\begin{enumerate*}\n",
       "\\item 3412\n",
       "\\item 20\n",
       "\\end{enumerate*}\n"
      ],
      "text/markdown": [
       "1. 3412\n",
       "2. 20\n",
       "\n",
       "\n"
      ],
      "text/plain": [
       "[1] 3412   20"
      ]
     },
     "metadata": {},
     "output_type": "display_data"
    }
   ],
   "source": [
    "#Picking only the columns in ft that corresponds to the subset metadata\n",
    "subset_ft <- new_ft[,which(colnames(new_ft)%in%subset_md$filename),drop=F] \n",
    "head(subset_ft)\n",
    "dim(subset_ft)"
   ]
  },
  {
   "cell_type": "code",
   "execution_count": 204,
   "id": "30efdf0d-d756-41fe-8e90-da18f37c83f5",
   "metadata": {},
   "outputs": [],
   "source": [
    "source(\"C:/Users/abzer/OneDrive/Documents/GitHub/ChemProp2/ChemProp2_scripts/datacleanup_scripts/calculate_chemprop_scores.r\")"
   ]
  },
  {
   "cell_type": "markdown",
   "id": "cec6f356-8e32-44b1-b021-c3876f1e37ee",
   "metadata": {},
   "source": [
    "### Selecting the metadata attribute to be used for ChemProp2 correlation calculation:\n",
    "- <b><font color='red'>It is important to have the attribute in a numeric form as it is used in calculating ChemProp scores </font></b>. Hence, any letters, if present in the attribute, should be removed.\n",
    "- The below lines pick the attribute containing the longitudinal data and does the above mentioned."
   ]
  },
  {
   "cell_type": "code",
   "execution_count": 205,
   "id": "9209f635-45d0-4787-93cf-8acc19aa8942",
   "metadata": {},
   "outputs": [
    {
     "data": {
      "text/html": [
       "<table class=\"dataframe\">\n",
       "<caption>A data.frame: 3 × 1</caption>\n",
       "<thead>\n",
       "\t<tr><th></th><th scope=col>ATTRIBUTE_timepoint_minutes</th></tr>\n",
       "\t<tr><th></th><th scope=col>&lt;dbl&gt;</th></tr>\n",
       "</thead>\n",
       "<tbody>\n",
       "\t<tr><th scope=row>Avr_Bac_Rep1_t0.mzML</th><td> 0</td></tr>\n",
       "\t<tr><th scope=row>Avr_Bac_Rep1_t1.mzML</th><td> 1</td></tr>\n",
       "\t<tr><th scope=row>Avr_Bac_Rep1_t10.mzML</th><td>10</td></tr>\n",
       "</tbody>\n",
       "</table>\n"
      ],
      "text/latex": [
       "A data.frame: 3 × 1\n",
       "\\begin{tabular}{r|l}\n",
       "  & ATTRIBUTE\\_timepoint\\_minutes\\\\\n",
       "  & <dbl>\\\\\n",
       "\\hline\n",
       "\tAvr\\_Bac\\_Rep1\\_t0.mzML &  0\\\\\n",
       "\tAvr\\_Bac\\_Rep1\\_t1.mzML &  1\\\\\n",
       "\tAvr\\_Bac\\_Rep1\\_t10.mzML & 10\\\\\n",
       "\\end{tabular}\n"
      ],
      "text/markdown": [
       "\n",
       "A data.frame: 3 × 1\n",
       "\n",
       "| <!--/--> | ATTRIBUTE_timepoint_minutes &lt;dbl&gt; |\n",
       "|---|---|\n",
       "| Avr_Bac_Rep1_t0.mzML |  0 |\n",
       "| Avr_Bac_Rep1_t1.mzML |  1 |\n",
       "| Avr_Bac_Rep1_t10.mzML | 10 |\n",
       "\n"
      ],
      "text/plain": [
       "                      ATTRIBUTE_timepoint_minutes\n",
       "Avr_Bac_Rep1_t0.mzML   0                         \n",
       "Avr_Bac_Rep1_t1.mzML   1                         \n",
       "Avr_Bac_Rep1_t10.mzML 10                         "
      ]
     },
     "metadata": {},
     "output_type": "display_data"
    },
    {
     "name": "stderr",
     "output_type": "stream",
     "text": [
      "The number of rows and columns in Meta_ChemProp column is: 20 x 1\n",
      "\n",
      "\n",
      "The levels in the Meta_ChemProp column is:0, 1, 10, 20, 30, 60, 120, 180, 240, 720\n",
      "\n"
     ]
    }
   ],
   "source": [
    "Meta_ChemProp <- prepare_meta_chemprop(subset_md, new_md, md_sequence=4) #here 4 is the column number of ATTRIBUTE_time_point"
   ]
  },
  {
   "cell_type": "code",
   "execution_count": 206,
   "id": "1d0370ba-2357-464a-bc87-5627a4aca7da",
   "metadata": {},
   "outputs": [
    {
     "name": "stderr",
     "output_type": "stream",
     "text": [
      "Your Feature file had combined row names (ID_mz_RT_annotation). Only the 'ID' info was taken as row names.\n",
      "\n",
      "The number of rows and columns in the Feature_table is: 3412 x 20\n",
      "\n"
     ]
    },
    {
     "data": {
      "text/html": [
       "<table class=\"dataframe\">\n",
       "<caption>A data.frame: 6 × 20</caption>\n",
       "<thead>\n",
       "\t<tr><th></th><th scope=col>Avr_Bac_Rep1_t0.mzML</th><th scope=col>Avr_Bac_Rep1_t1.mzML</th><th scope=col>Avr_Bac_Rep1_t10.mzML</th><th scope=col>Avr_Bac_Rep1_t120.mzML</th><th scope=col>Avr_Bac_Rep1_t180.mzML</th><th scope=col>Avr_Bac_Rep1_t20.mzML</th><th scope=col>Avr_Bac_Rep1_t240.mzML</th><th scope=col>Avr_Bac_Rep1_t30.mzML</th><th scope=col>Avr_Bac_Rep1_t60.mzML</th><th scope=col>Avr_Bac_Rep1_t720.mzML</th><th scope=col>Avr_Bac_Rep2_t0.mzML</th><th scope=col>Avr_Bac_Rep2_t1.mzML</th><th scope=col>Avr_Bac_Rep2_t10.mzML</th><th scope=col>Avr_Bac_Rep2_t120.mzML</th><th scope=col>Avr_Bac_Rep2_t180.mzML</th><th scope=col>Avr_Bac_Rep2_t20.mzML</th><th scope=col>Avr_Bac_Rep2_t240.mzML</th><th scope=col>Avr_Bac_Rep2_t30.mzML</th><th scope=col>Avr_Bac_Rep2_t60.mzML</th><th scope=col>Avr_Bac_Rep2_t720.mzML</th></tr>\n",
       "\t<tr><th></th><th scope=col>&lt;dbl&gt;</th><th scope=col>&lt;dbl&gt;</th><th scope=col>&lt;dbl&gt;</th><th scope=col>&lt;dbl&gt;</th><th scope=col>&lt;dbl&gt;</th><th scope=col>&lt;dbl&gt;</th><th scope=col>&lt;dbl&gt;</th><th scope=col>&lt;dbl&gt;</th><th scope=col>&lt;dbl&gt;</th><th scope=col>&lt;dbl&gt;</th><th scope=col>&lt;dbl&gt;</th><th scope=col>&lt;dbl&gt;</th><th scope=col>&lt;dbl&gt;</th><th scope=col>&lt;dbl&gt;</th><th scope=col>&lt;dbl&gt;</th><th scope=col>&lt;dbl&gt;</th><th scope=col>&lt;dbl&gt;</th><th scope=col>&lt;dbl&gt;</th><th scope=col>&lt;dbl&gt;</th><th scope=col>&lt;dbl&gt;</th></tr>\n",
       "</thead>\n",
       "<tbody>\n",
       "\t<tr><th scope=row>2</th><td>  9121.137</td><td>18667.346</td><td>25429.7770</td><td> 27301.24</td><td> 2013.300</td><td> 24217.570</td><td> 26353.895</td><td> 18983.656</td><td> 30068.7170</td><td> 31323.8180</td><td> 25410.354</td><td>  5928.108</td><td> 31352.2700</td><td> 12484.52</td><td> 26422.2810</td><td> 24630.494</td><td> 25786.926</td><td> 12890.741</td><td> 21232.090</td><td> 20753.9530</td></tr>\n",
       "\t<tr><th scope=row>4</th><td>  8585.590</td><td>67654.586</td><td> 1015.3992</td><td> 18595.92</td><td> 7988.774</td><td> 24399.871</td><td> 24849.357</td><td> 10173.353</td><td>  5813.8400</td><td> 64197.8320</td><td> 39053.590</td><td> 14575.035</td><td> 35725.5550</td><td> 14507.89</td><td>  6925.3480</td><td> 68890.610</td><td>  3260.068</td><td> 38766.047</td><td> 29892.348</td><td> 65203.0160</td></tr>\n",
       "\t<tr><th scope=row>5</th><td>  4739.735</td><td>47169.016</td><td>40111.5430</td><td> 41518.71</td><td>62059.920</td><td> 10455.167</td><td> 55855.168</td><td> 20212.295</td><td>  7875.3720</td><td> 66344.4900</td><td> 62068.543</td><td> 61343.254</td><td> 53365.9650</td><td> 16530.40</td><td> 48577.1680</td><td> 47231.234</td><td> 31173.605</td><td>  9802.307</td><td> 36497.850</td><td> 67497.2200</td></tr>\n",
       "\t<tr><th scope=row>6</th><td>  4993.819</td><td>  933.212</td><td>  584.7465</td><td>  5018.85</td><td> 2562.420</td><td>  1124.187</td><td>  1308.476</td><td>  1620.751</td><td>   498.6828</td><td>   613.2769</td><td>  9932.812</td><td>  1185.877</td><td>   910.9628</td><td>  7880.31</td><td>   559.7695</td><td>  2726.511</td><td>   758.238</td><td>  1211.007</td><td>  1903.311</td><td>   579.7617</td></tr>\n",
       "\t<tr><th scope=row>7</th><td>277412.660</td><td>45147.836</td><td>26532.3570</td><td>315136.72</td><td>48802.863</td><td>299953.340</td><td>311148.100</td><td>209402.470</td><td>303704.5000</td><td>329759.1600</td><td>142347.270</td><td>306603.600</td><td>289811.9700</td><td>308932.10</td><td>298298.5300</td><td>316544.300</td><td>197985.780</td><td>236100.230</td><td>307221.100</td><td>305603.6000</td></tr>\n",
       "\t<tr><th scope=row>8</th><td>284921.840</td><td>45506.290</td><td>80316.7400</td><td> 95323.01</td><td>58428.970</td><td> 54777.560</td><td>330467.780</td><td>234668.550</td><td> 57229.3160</td><td> 55122.3440</td><td>332273.470</td><td> 59460.418</td><td>337354.4700</td><td>345356.10</td><td> 60737.0080</td><td>290081.750</td><td>226970.730</td><td> 77018.460</td><td> 54337.830</td><td> 41226.5100</td></tr>\n",
       "</tbody>\n",
       "</table>\n"
      ],
      "text/latex": [
       "A data.frame: 6 × 20\n",
       "\\begin{tabular}{r|llllllllllllllllllll}\n",
       "  & Avr\\_Bac\\_Rep1\\_t0.mzML & Avr\\_Bac\\_Rep1\\_t1.mzML & Avr\\_Bac\\_Rep1\\_t10.mzML & Avr\\_Bac\\_Rep1\\_t120.mzML & Avr\\_Bac\\_Rep1\\_t180.mzML & Avr\\_Bac\\_Rep1\\_t20.mzML & Avr\\_Bac\\_Rep1\\_t240.mzML & Avr\\_Bac\\_Rep1\\_t30.mzML & Avr\\_Bac\\_Rep1\\_t60.mzML & Avr\\_Bac\\_Rep1\\_t720.mzML & Avr\\_Bac\\_Rep2\\_t0.mzML & Avr\\_Bac\\_Rep2\\_t1.mzML & Avr\\_Bac\\_Rep2\\_t10.mzML & Avr\\_Bac\\_Rep2\\_t120.mzML & Avr\\_Bac\\_Rep2\\_t180.mzML & Avr\\_Bac\\_Rep2\\_t20.mzML & Avr\\_Bac\\_Rep2\\_t240.mzML & Avr\\_Bac\\_Rep2\\_t30.mzML & Avr\\_Bac\\_Rep2\\_t60.mzML & Avr\\_Bac\\_Rep2\\_t720.mzML\\\\\n",
       "  & <dbl> & <dbl> & <dbl> & <dbl> & <dbl> & <dbl> & <dbl> & <dbl> & <dbl> & <dbl> & <dbl> & <dbl> & <dbl> & <dbl> & <dbl> & <dbl> & <dbl> & <dbl> & <dbl> & <dbl>\\\\\n",
       "\\hline\n",
       "\t2 &   9121.137 & 18667.346 & 25429.7770 &  27301.24 &  2013.300 &  24217.570 &  26353.895 &  18983.656 &  30068.7170 &  31323.8180 &  25410.354 &   5928.108 &  31352.2700 &  12484.52 &  26422.2810 &  24630.494 &  25786.926 &  12890.741 &  21232.090 &  20753.9530\\\\\n",
       "\t4 &   8585.590 & 67654.586 &  1015.3992 &  18595.92 &  7988.774 &  24399.871 &  24849.357 &  10173.353 &   5813.8400 &  64197.8320 &  39053.590 &  14575.035 &  35725.5550 &  14507.89 &   6925.3480 &  68890.610 &   3260.068 &  38766.047 &  29892.348 &  65203.0160\\\\\n",
       "\t5 &   4739.735 & 47169.016 & 40111.5430 &  41518.71 & 62059.920 &  10455.167 &  55855.168 &  20212.295 &   7875.3720 &  66344.4900 &  62068.543 &  61343.254 &  53365.9650 &  16530.40 &  48577.1680 &  47231.234 &  31173.605 &   9802.307 &  36497.850 &  67497.2200\\\\\n",
       "\t6 &   4993.819 &   933.212 &   584.7465 &   5018.85 &  2562.420 &   1124.187 &   1308.476 &   1620.751 &    498.6828 &    613.2769 &   9932.812 &   1185.877 &    910.9628 &   7880.31 &    559.7695 &   2726.511 &    758.238 &   1211.007 &   1903.311 &    579.7617\\\\\n",
       "\t7 & 277412.660 & 45147.836 & 26532.3570 & 315136.72 & 48802.863 & 299953.340 & 311148.100 & 209402.470 & 303704.5000 & 329759.1600 & 142347.270 & 306603.600 & 289811.9700 & 308932.10 & 298298.5300 & 316544.300 & 197985.780 & 236100.230 & 307221.100 & 305603.6000\\\\\n",
       "\t8 & 284921.840 & 45506.290 & 80316.7400 &  95323.01 & 58428.970 &  54777.560 & 330467.780 & 234668.550 &  57229.3160 &  55122.3440 & 332273.470 &  59460.418 & 337354.4700 & 345356.10 &  60737.0080 & 290081.750 & 226970.730 &  77018.460 &  54337.830 &  41226.5100\\\\\n",
       "\\end{tabular}\n"
      ],
      "text/markdown": [
       "\n",
       "A data.frame: 6 × 20\n",
       "\n",
       "| <!--/--> | Avr_Bac_Rep1_t0.mzML &lt;dbl&gt; | Avr_Bac_Rep1_t1.mzML &lt;dbl&gt; | Avr_Bac_Rep1_t10.mzML &lt;dbl&gt; | Avr_Bac_Rep1_t120.mzML &lt;dbl&gt; | Avr_Bac_Rep1_t180.mzML &lt;dbl&gt; | Avr_Bac_Rep1_t20.mzML &lt;dbl&gt; | Avr_Bac_Rep1_t240.mzML &lt;dbl&gt; | Avr_Bac_Rep1_t30.mzML &lt;dbl&gt; | Avr_Bac_Rep1_t60.mzML &lt;dbl&gt; | Avr_Bac_Rep1_t720.mzML &lt;dbl&gt; | Avr_Bac_Rep2_t0.mzML &lt;dbl&gt; | Avr_Bac_Rep2_t1.mzML &lt;dbl&gt; | Avr_Bac_Rep2_t10.mzML &lt;dbl&gt; | Avr_Bac_Rep2_t120.mzML &lt;dbl&gt; | Avr_Bac_Rep2_t180.mzML &lt;dbl&gt; | Avr_Bac_Rep2_t20.mzML &lt;dbl&gt; | Avr_Bac_Rep2_t240.mzML &lt;dbl&gt; | Avr_Bac_Rep2_t30.mzML &lt;dbl&gt; | Avr_Bac_Rep2_t60.mzML &lt;dbl&gt; | Avr_Bac_Rep2_t720.mzML &lt;dbl&gt; |\n",
       "|---|---|---|---|---|---|---|---|---|---|---|---|---|---|---|---|---|---|---|---|---|\n",
       "| 2 |   9121.137 | 18667.346 | 25429.7770 |  27301.24 |  2013.300 |  24217.570 |  26353.895 |  18983.656 |  30068.7170 |  31323.8180 |  25410.354 |   5928.108 |  31352.2700 |  12484.52 |  26422.2810 |  24630.494 |  25786.926 |  12890.741 |  21232.090 |  20753.9530 |\n",
       "| 4 |   8585.590 | 67654.586 |  1015.3992 |  18595.92 |  7988.774 |  24399.871 |  24849.357 |  10173.353 |   5813.8400 |  64197.8320 |  39053.590 |  14575.035 |  35725.5550 |  14507.89 |   6925.3480 |  68890.610 |   3260.068 |  38766.047 |  29892.348 |  65203.0160 |\n",
       "| 5 |   4739.735 | 47169.016 | 40111.5430 |  41518.71 | 62059.920 |  10455.167 |  55855.168 |  20212.295 |   7875.3720 |  66344.4900 |  62068.543 |  61343.254 |  53365.9650 |  16530.40 |  48577.1680 |  47231.234 |  31173.605 |   9802.307 |  36497.850 |  67497.2200 |\n",
       "| 6 |   4993.819 |   933.212 |   584.7465 |   5018.85 |  2562.420 |   1124.187 |   1308.476 |   1620.751 |    498.6828 |    613.2769 |   9932.812 |   1185.877 |    910.9628 |   7880.31 |    559.7695 |   2726.511 |    758.238 |   1211.007 |   1903.311 |    579.7617 |\n",
       "| 7 | 277412.660 | 45147.836 | 26532.3570 | 315136.72 | 48802.863 | 299953.340 | 311148.100 | 209402.470 | 303704.5000 | 329759.1600 | 142347.270 | 306603.600 | 289811.9700 | 308932.10 | 298298.5300 | 316544.300 | 197985.780 | 236100.230 | 307221.100 | 305603.6000 |\n",
       "| 8 | 284921.840 | 45506.290 | 80316.7400 |  95323.01 | 58428.970 |  54777.560 | 330467.780 | 234668.550 |  57229.3160 |  55122.3440 | 332273.470 |  59460.418 | 337354.4700 | 345356.10 |  60737.0080 | 290081.750 | 226970.730 |  77018.460 |  54337.830 |  41226.5100 |\n",
       "\n"
      ],
      "text/plain": [
       "  Avr_Bac_Rep1_t0.mzML Avr_Bac_Rep1_t1.mzML Avr_Bac_Rep1_t10.mzML\n",
       "2   9121.137           18667.346            25429.7770           \n",
       "4   8585.590           67654.586             1015.3992           \n",
       "5   4739.735           47169.016            40111.5430           \n",
       "6   4993.819             933.212              584.7465           \n",
       "7 277412.660           45147.836            26532.3570           \n",
       "8 284921.840           45506.290            80316.7400           \n",
       "  Avr_Bac_Rep1_t120.mzML Avr_Bac_Rep1_t180.mzML Avr_Bac_Rep1_t20.mzML\n",
       "2  27301.24               2013.300               24217.570           \n",
       "4  18595.92               7988.774               24399.871           \n",
       "5  41518.71              62059.920               10455.167           \n",
       "6   5018.85               2562.420                1124.187           \n",
       "7 315136.72              48802.863              299953.340           \n",
       "8  95323.01              58428.970               54777.560           \n",
       "  Avr_Bac_Rep1_t240.mzML Avr_Bac_Rep1_t30.mzML Avr_Bac_Rep1_t60.mzML\n",
       "2  26353.895              18983.656             30068.7170          \n",
       "4  24849.357              10173.353              5813.8400          \n",
       "5  55855.168              20212.295              7875.3720          \n",
       "6   1308.476               1620.751               498.6828          \n",
       "7 311148.100             209402.470            303704.5000          \n",
       "8 330467.780             234668.550             57229.3160          \n",
       "  Avr_Bac_Rep1_t720.mzML Avr_Bac_Rep2_t0.mzML Avr_Bac_Rep2_t1.mzML\n",
       "2  31323.8180             25410.354             5928.108          \n",
       "4  64197.8320             39053.590            14575.035          \n",
       "5  66344.4900             62068.543            61343.254          \n",
       "6    613.2769              9932.812             1185.877          \n",
       "7 329759.1600            142347.270           306603.600          \n",
       "8  55122.3440            332273.470            59460.418          \n",
       "  Avr_Bac_Rep2_t10.mzML Avr_Bac_Rep2_t120.mzML Avr_Bac_Rep2_t180.mzML\n",
       "2  31352.2700            12484.52               26422.2810           \n",
       "4  35725.5550            14507.89                6925.3480           \n",
       "5  53365.9650            16530.40               48577.1680           \n",
       "6    910.9628             7880.31                 559.7695           \n",
       "7 289811.9700           308932.10              298298.5300           \n",
       "8 337354.4700           345356.10               60737.0080           \n",
       "  Avr_Bac_Rep2_t20.mzML Avr_Bac_Rep2_t240.mzML Avr_Bac_Rep2_t30.mzML\n",
       "2  24630.494             25786.926              12890.741           \n",
       "4  68890.610              3260.068              38766.047           \n",
       "5  47231.234             31173.605               9802.307           \n",
       "6   2726.511               758.238               1211.007           \n",
       "7 316544.300            197985.780             236100.230           \n",
       "8 290081.750            226970.730              77018.460           \n",
       "  Avr_Bac_Rep2_t60.mzML Avr_Bac_Rep2_t720.mzML\n",
       "2  21232.090             20753.9530           \n",
       "4  29892.348             65203.0160           \n",
       "5  36497.850             67497.2200           \n",
       "6   1903.311               579.7617           \n",
       "7 307221.100            305603.6000           \n",
       "8  54337.830             41226.5100           "
      ]
     },
     "metadata": {},
     "output_type": "display_data"
    }
   ],
   "source": [
    "ChemProp_Feature_table <- prepare_ChemProp2_feature_table(subset_ft, new_ft)"
   ]
  },
  {
   "cell_type": "code",
   "execution_count": 207,
   "id": "6367cd65-cc3e-44c3-8602-5fad6b63d400",
   "metadata": {},
   "outputs": [
    {
     "data": {
      "text/html": [
       "<table class=\"dataframe\">\n",
       "<caption>A data.frame: 6 × 5</caption>\n",
       "<thead>\n",
       "\t<tr><th></th><th scope=col>CLUSTERID1</th><th scope=col>CLUSTERID2</th><th scope=col>ComponentIndex</th><th scope=col>Cosine</th><th scope=col>DeltaMZ</th></tr>\n",
       "\t<tr><th></th><th scope=col>&lt;int&gt;</th><th scope=col>&lt;int&gt;</th><th scope=col>&lt;int&gt;</th><th scope=col>&lt;dbl&gt;</th><th scope=col>&lt;dbl&gt;</th></tr>\n",
       "</thead>\n",
       "<tbody>\n",
       "\t<tr><th scope=row>1</th><td>4665</td><td>5180</td><td>1</td><td>0.7252</td><td>  18.010</td></tr>\n",
       "\t<tr><th scope=row>2</th><td>2991</td><td>3274</td><td>2</td><td>0.8399</td><td>   0.021</td></tr>\n",
       "\t<tr><th scope=row>3</th><td>2196</td><td>3549</td><td>2</td><td>0.8259</td><td> -48.000</td></tr>\n",
       "\t<tr><th scope=row>4</th><td>2991</td><td>3549</td><td>2</td><td>0.7675</td><td> -33.964</td></tr>\n",
       "\t<tr><th scope=row>5</th><td>3162</td><td>3549</td><td>2</td><td>0.7899</td><td>-119.037</td></tr>\n",
       "\t<tr><th scope=row>6</th><td>2196</td><td>3274</td><td>2</td><td>0.8067</td><td> -14.016</td></tr>\n",
       "</tbody>\n",
       "</table>\n"
      ],
      "text/latex": [
       "A data.frame: 6 × 5\n",
       "\\begin{tabular}{r|lllll}\n",
       "  & CLUSTERID1 & CLUSTERID2 & ComponentIndex & Cosine & DeltaMZ\\\\\n",
       "  & <int> & <int> & <int> & <dbl> & <dbl>\\\\\n",
       "\\hline\n",
       "\t1 & 4665 & 5180 & 1 & 0.7252 &   18.010\\\\\n",
       "\t2 & 2991 & 3274 & 2 & 0.8399 &    0.021\\\\\n",
       "\t3 & 2196 & 3549 & 2 & 0.8259 &  -48.000\\\\\n",
       "\t4 & 2991 & 3549 & 2 & 0.7675 &  -33.964\\\\\n",
       "\t5 & 3162 & 3549 & 2 & 0.7899 & -119.037\\\\\n",
       "\t6 & 2196 & 3274 & 2 & 0.8067 &  -14.016\\\\\n",
       "\\end{tabular}\n"
      ],
      "text/markdown": [
       "\n",
       "A data.frame: 6 × 5\n",
       "\n",
       "| <!--/--> | CLUSTERID1 &lt;int&gt; | CLUSTERID2 &lt;int&gt; | ComponentIndex &lt;int&gt; | Cosine &lt;dbl&gt; | DeltaMZ &lt;dbl&gt; |\n",
       "|---|---|---|---|---|---|\n",
       "| 1 | 4665 | 5180 | 1 | 0.7252 |   18.010 |\n",
       "| 2 | 2991 | 3274 | 2 | 0.8399 |    0.021 |\n",
       "| 3 | 2196 | 3549 | 2 | 0.8259 |  -48.000 |\n",
       "| 4 | 2991 | 3549 | 2 | 0.7675 |  -33.964 |\n",
       "| 5 | 3162 | 3549 | 2 | 0.7899 | -119.037 |\n",
       "| 6 | 2196 | 3274 | 2 | 0.8067 |  -14.016 |\n",
       "\n"
      ],
      "text/plain": [
       "  CLUSTERID1 CLUSTERID2 ComponentIndex Cosine DeltaMZ \n",
       "1 4665       5180       1              0.7252   18.010\n",
       "2 2991       3274       2              0.8399    0.021\n",
       "3 2196       3549       2              0.8259  -48.000\n",
       "4 2991       3549       2              0.7675  -33.964\n",
       "5 3162       3549       2              0.7899 -119.037\n",
       "6 2196       3274       2              0.8067  -14.016"
      ]
     },
     "metadata": {},
     "output_type": "display_data"
    }
   ],
   "source": [
    "head(nw)"
   ]
  },
  {
   "cell_type": "code",
   "execution_count": 208,
   "id": "0d92ea7b-bc4e-4323-acf9-60ed47560a7c",
   "metadata": {},
   "outputs": [
    {
     "name": "stderr",
     "output_type": "stream",
     "text": [
      "Warning message in cor(reordered_x, method = \"pearson\"):\n",
      "\"the standard deviation is zero\"\n",
      "Warning message in cor(reordered_x, method = \"spearman\"):\n",
      "\"the standard deviation is zero\"\n",
      "Warning message in cor(log_reorderedX):\n",
      "\"the standard deviation is zero\"\n",
      "Warning message in cor(sqrt_reorderedX):\n",
      "\"the standard deviation is zero\"\n",
      "Warning message in cor(reordered_x, method = \"pearson\"):\n",
      "\"the standard deviation is zero\"\n",
      "Warning message in cor(reordered_x, method = \"spearman\"):\n",
      "\"the standard deviation is zero\"\n",
      "Warning message in cor(log_reorderedX):\n",
      "\"the standard deviation is zero\"\n",
      "Warning message in cor(sqrt_reorderedX):\n",
      "\"the standard deviation is zero\"\n",
      "Warning message in cor(reordered_x, method = \"pearson\"):\n",
      "\"the standard deviation is zero\"\n",
      "Warning message in cor(reordered_x, method = \"spearman\"):\n",
      "\"the standard deviation is zero\"\n",
      "Warning message in cor(log_reorderedX):\n",
      "\"the standard deviation is zero\"\n",
      "Warning message in cor(sqrt_reorderedX):\n",
      "\"the standard deviation is zero\"\n",
      "Warning message in cor(reordered_x, method = \"pearson\"):\n",
      "\"the standard deviation is zero\"\n",
      "Warning message in cor(reordered_x, method = \"spearman\"):\n",
      "\"the standard deviation is zero\"\n",
      "Warning message in cor(log_reorderedX):\n",
      "\"the standard deviation is zero\"\n",
      "Warning message in cor(sqrt_reorderedX):\n",
      "\"the standard deviation is zero\"\n",
      "Warning message in cor(reordered_x, method = \"pearson\"):\n",
      "\"the standard deviation is zero\"\n",
      "Warning message in cor(reordered_x, method = \"spearman\"):\n",
      "\"the standard deviation is zero\"\n",
      "Warning message in cor(log_reorderedX):\n",
      "\"the standard deviation is zero\"\n",
      "Warning message in cor(sqrt_reorderedX):\n",
      "\"the standard deviation is zero\"\n",
      "Warning message in cor(reordered_x, method = \"pearson\"):\n",
      "\"the standard deviation is zero\"\n",
      "Warning message in cor(reordered_x, method = \"spearman\"):\n",
      "\"the standard deviation is zero\"\n",
      "Warning message in cor(log_reorderedX):\n",
      "\"the standard deviation is zero\"\n",
      "Warning message in cor(sqrt_reorderedX):\n",
      "\"the standard deviation is zero\"\n",
      "Warning message in cor(reordered_x, method = \"pearson\"):\n",
      "\"the standard deviation is zero\"\n",
      "Warning message in cor(reordered_x, method = \"spearman\"):\n",
      "\"the standard deviation is zero\"\n",
      "Warning message in cor(log_reorderedX):\n",
      "\"the standard deviation is zero\"\n",
      "Warning message in cor(sqrt_reorderedX):\n",
      "\"the standard deviation is zero\"\n",
      "Warning message in cor(reordered_x, method = \"pearson\"):\n",
      "\"the standard deviation is zero\"\n",
      "Warning message in cor(reordered_x, method = \"spearman\"):\n",
      "\"the standard deviation is zero\"\n",
      "Warning message in cor(log_reorderedX):\n",
      "\"the standard deviation is zero\"\n",
      "Warning message in cor(sqrt_reorderedX):\n",
      "\"the standard deviation is zero\"\n",
      "Warning message in cor(reordered_x, method = \"pearson\"):\n",
      "\"the standard deviation is zero\"\n",
      "Warning message in cor(reordered_x, method = \"spearman\"):\n",
      "\"the standard deviation is zero\"\n",
      "Warning message in cor(log_reorderedX):\n",
      "\"the standard deviation is zero\"\n",
      "Warning message in cor(sqrt_reorderedX):\n",
      "\"the standard deviation is zero\"\n",
      "Warning message in cor(reordered_x, method = \"pearson\"):\n",
      "\"the standard deviation is zero\"\n",
      "Warning message in cor(reordered_x, method = \"spearman\"):\n",
      "\"the standard deviation is zero\"\n",
      "Warning message in cor(log_reorderedX):\n",
      "\"the standard deviation is zero\"\n",
      "Warning message in cor(sqrt_reorderedX):\n",
      "\"the standard deviation is zero\"\n",
      "Warning message in cor(reordered_x, method = \"pearson\"):\n",
      "\"the standard deviation is zero\"\n",
      "Warning message in cor(reordered_x, method = \"spearman\"):\n",
      "\"the standard deviation is zero\"\n",
      "Warning message in cor(log_reorderedX):\n",
      "\"the standard deviation is zero\"\n",
      "Warning message in cor(sqrt_reorderedX):\n",
      "\"the standard deviation is zero\"\n"
     ]
    }
   ],
   "source": [
    "result <- calculate_chemprop2_scores(ChemProp_Feature_table, Meta_ChemProp, nw)"
   ]
  },
  {
   "cell_type": "code",
   "execution_count": 209,
   "id": "aa6cb1a1-697f-4960-bf09-1be71885980b",
   "metadata": {},
   "outputs": [
    {
     "data": {
      "text/html": [
       "<table class=\"dataframe\">\n",
       "<caption>A data.frame: 6 × 14</caption>\n",
       "<thead>\n",
       "\t<tr><th></th><th scope=col>CLUSTERID1</th><th scope=col>CLUSTERID2</th><th scope=col>ComponentIndex</th><th scope=col>Cosine</th><th scope=col>DeltaMZ</th><th scope=col>ChemProp2</th><th scope=col>ChemProp_spearman</th><th scope=col>ChemProp_log</th><th scope=col>ChemProp_sqrt</th><th scope=col>abs_ChemProp2</th><th scope=col>abs_ChemProp_spearman</th><th scope=col>abs_ChemProp_log</th><th scope=col>abs_ChemProp_sqrt</th><th scope=col>Sign_ChemProp2</th></tr>\n",
       "\t<tr><th></th><th scope=col>&lt;int&gt;</th><th scope=col>&lt;int&gt;</th><th scope=col>&lt;int&gt;</th><th scope=col>&lt;dbl&gt;</th><th scope=col>&lt;dbl&gt;</th><th scope=col>&lt;dbl&gt;</th><th scope=col>&lt;dbl&gt;</th><th scope=col>&lt;dbl&gt;</th><th scope=col>&lt;dbl&gt;</th><th scope=col>&lt;dbl&gt;</th><th scope=col>&lt;dbl&gt;</th><th scope=col>&lt;dbl&gt;</th><th scope=col>&lt;dbl&gt;</th><th scope=col>&lt;dbl&gt;</th></tr>\n",
       "</thead>\n",
       "<tbody>\n",
       "\t<tr><th scope=row>1</th><td>4665</td><td>5180</td><td>1</td><td>0.7252</td><td>  18.010</td><td>-0.08655895</td><td> 0.02017037</td><td>-0.04980143</td><td>-0.061806689</td><td>0.08655895</td><td>0.02017037</td><td>0.04980143</td><td>0.061806689</td><td>-1</td></tr>\n",
       "\t<tr><th scope=row>2</th><td>2991</td><td>3274</td><td>2</td><td>0.8399</td><td>   0.021</td><td> 0.02225235</td><td> 0.17003872</td><td> 0.16355969</td><td> 0.087175514</td><td>0.02225235</td><td>0.17003872</td><td>0.16355969</td><td>0.087175514</td><td> 1</td></tr>\n",
       "\t<tr><th scope=row>3</th><td>2196</td><td>3549</td><td>2</td><td>0.8259</td><td> -48.000</td><td> 0.19751705</td><td> 0.25811505</td><td> 0.10416864</td><td> 0.202030160</td><td>0.19751705</td><td>0.25811505</td><td>0.10416864</td><td>0.202030160</td><td> 1</td></tr>\n",
       "\t<tr><th scope=row>4</th><td>2991</td><td>3549</td><td>2</td><td>0.7675</td><td> -33.964</td><td> 0.20889307</td><td> 0.36022875</td><td> 0.34858765</td><td> 0.286565260</td><td>0.20889307</td><td>0.36022875</td><td>0.34858765</td><td>0.286565260</td><td> 1</td></tr>\n",
       "\t<tr><th scope=row>5</th><td>3162</td><td>3549</td><td>2</td><td>0.7899</td><td>-119.037</td><td>-0.27443994</td><td>-0.24905838</td><td>-0.19215434</td><td>-0.231741764</td><td>0.27443994</td><td>0.24905838</td><td>0.19215434</td><td>0.231741764</td><td>-1</td></tr>\n",
       "\t<tr><th scope=row>6</th><td>2196</td><td>3274</td><td>2</td><td>0.8067</td><td> -14.016</td><td> 0.01087633</td><td> 0.06792501</td><td>-0.08085932</td><td> 0.002640415</td><td>0.01087633</td><td>0.06792501</td><td>0.08085932</td><td>0.002640415</td><td> 1</td></tr>\n",
       "</tbody>\n",
       "</table>\n"
      ],
      "text/latex": [
       "A data.frame: 6 × 14\n",
       "\\begin{tabular}{r|llllllllllllll}\n",
       "  & CLUSTERID1 & CLUSTERID2 & ComponentIndex & Cosine & DeltaMZ & ChemProp2 & ChemProp\\_spearman & ChemProp\\_log & ChemProp\\_sqrt & abs\\_ChemProp2 & abs\\_ChemProp\\_spearman & abs\\_ChemProp\\_log & abs\\_ChemProp\\_sqrt & Sign\\_ChemProp2\\\\\n",
       "  & <int> & <int> & <int> & <dbl> & <dbl> & <dbl> & <dbl> & <dbl> & <dbl> & <dbl> & <dbl> & <dbl> & <dbl> & <dbl>\\\\\n",
       "\\hline\n",
       "\t1 & 4665 & 5180 & 1 & 0.7252 &   18.010 & -0.08655895 &  0.02017037 & -0.04980143 & -0.061806689 & 0.08655895 & 0.02017037 & 0.04980143 & 0.061806689 & -1\\\\\n",
       "\t2 & 2991 & 3274 & 2 & 0.8399 &    0.021 &  0.02225235 &  0.17003872 &  0.16355969 &  0.087175514 & 0.02225235 & 0.17003872 & 0.16355969 & 0.087175514 &  1\\\\\n",
       "\t3 & 2196 & 3549 & 2 & 0.8259 &  -48.000 &  0.19751705 &  0.25811505 &  0.10416864 &  0.202030160 & 0.19751705 & 0.25811505 & 0.10416864 & 0.202030160 &  1\\\\\n",
       "\t4 & 2991 & 3549 & 2 & 0.7675 &  -33.964 &  0.20889307 &  0.36022875 &  0.34858765 &  0.286565260 & 0.20889307 & 0.36022875 & 0.34858765 & 0.286565260 &  1\\\\\n",
       "\t5 & 3162 & 3549 & 2 & 0.7899 & -119.037 & -0.27443994 & -0.24905838 & -0.19215434 & -0.231741764 & 0.27443994 & 0.24905838 & 0.19215434 & 0.231741764 & -1\\\\\n",
       "\t6 & 2196 & 3274 & 2 & 0.8067 &  -14.016 &  0.01087633 &  0.06792501 & -0.08085932 &  0.002640415 & 0.01087633 & 0.06792501 & 0.08085932 & 0.002640415 &  1\\\\\n",
       "\\end{tabular}\n"
      ],
      "text/markdown": [
       "\n",
       "A data.frame: 6 × 14\n",
       "\n",
       "| <!--/--> | CLUSTERID1 &lt;int&gt; | CLUSTERID2 &lt;int&gt; | ComponentIndex &lt;int&gt; | Cosine &lt;dbl&gt; | DeltaMZ &lt;dbl&gt; | ChemProp2 &lt;dbl&gt; | ChemProp_spearman &lt;dbl&gt; | ChemProp_log &lt;dbl&gt; | ChemProp_sqrt &lt;dbl&gt; | abs_ChemProp2 &lt;dbl&gt; | abs_ChemProp_spearman &lt;dbl&gt; | abs_ChemProp_log &lt;dbl&gt; | abs_ChemProp_sqrt &lt;dbl&gt; | Sign_ChemProp2 &lt;dbl&gt; |\n",
       "|---|---|---|---|---|---|---|---|---|---|---|---|---|---|---|\n",
       "| 1 | 4665 | 5180 | 1 | 0.7252 |   18.010 | -0.08655895 |  0.02017037 | -0.04980143 | -0.061806689 | 0.08655895 | 0.02017037 | 0.04980143 | 0.061806689 | -1 |\n",
       "| 2 | 2991 | 3274 | 2 | 0.8399 |    0.021 |  0.02225235 |  0.17003872 |  0.16355969 |  0.087175514 | 0.02225235 | 0.17003872 | 0.16355969 | 0.087175514 |  1 |\n",
       "| 3 | 2196 | 3549 | 2 | 0.8259 |  -48.000 |  0.19751705 |  0.25811505 |  0.10416864 |  0.202030160 | 0.19751705 | 0.25811505 | 0.10416864 | 0.202030160 |  1 |\n",
       "| 4 | 2991 | 3549 | 2 | 0.7675 |  -33.964 |  0.20889307 |  0.36022875 |  0.34858765 |  0.286565260 | 0.20889307 | 0.36022875 | 0.34858765 | 0.286565260 |  1 |\n",
       "| 5 | 3162 | 3549 | 2 | 0.7899 | -119.037 | -0.27443994 | -0.24905838 | -0.19215434 | -0.231741764 | 0.27443994 | 0.24905838 | 0.19215434 | 0.231741764 | -1 |\n",
       "| 6 | 2196 | 3274 | 2 | 0.8067 |  -14.016 |  0.01087633 |  0.06792501 | -0.08085932 |  0.002640415 | 0.01087633 | 0.06792501 | 0.08085932 | 0.002640415 |  1 |\n",
       "\n"
      ],
      "text/plain": [
       "  CLUSTERID1 CLUSTERID2 ComponentIndex Cosine DeltaMZ  ChemProp2  \n",
       "1 4665       5180       1              0.7252   18.010 -0.08655895\n",
       "2 2991       3274       2              0.8399    0.021  0.02225235\n",
       "3 2196       3549       2              0.8259  -48.000  0.19751705\n",
       "4 2991       3549       2              0.7675  -33.964  0.20889307\n",
       "5 3162       3549       2              0.7899 -119.037 -0.27443994\n",
       "6 2196       3274       2              0.8067  -14.016  0.01087633\n",
       "  ChemProp_spearman ChemProp_log ChemProp_sqrt abs_ChemProp2\n",
       "1  0.02017037       -0.04980143  -0.061806689  0.08655895   \n",
       "2  0.17003872        0.16355969   0.087175514  0.02225235   \n",
       "3  0.25811505        0.10416864   0.202030160  0.19751705   \n",
       "4  0.36022875        0.34858765   0.286565260  0.20889307   \n",
       "5 -0.24905838       -0.19215434  -0.231741764  0.27443994   \n",
       "6  0.06792501       -0.08085932   0.002640415  0.01087633   \n",
       "  abs_ChemProp_spearman abs_ChemProp_log abs_ChemProp_sqrt Sign_ChemProp2\n",
       "1 0.02017037            0.04980143       0.061806689       -1            \n",
       "2 0.17003872            0.16355969       0.087175514        1            \n",
       "3 0.25811505            0.10416864       0.202030160        1            \n",
       "4 0.36022875            0.34858765       0.286565260        1            \n",
       "5 0.24905838            0.19215434       0.231741764       -1            \n",
       "6 0.06792501            0.08085932       0.002640415        1            "
      ]
     },
     "metadata": {},
     "output_type": "display_data"
    }
   ],
   "source": [
    "head(result)"
   ]
  },
  {
   "cell_type": "markdown",
   "id": "da53a8f9-0cc3-42f5-ab19-5566ffdb5434",
   "metadata": {},
   "source": [
    "---\n",
    "# Case study: Effect of replicates on the scores:\n",
    "Here for looking at the effect of including/excluding replicates info, I took only the samples: 'Avermectrin + Bacteria' samples."
   ]
  },
  {
   "cell_type": "markdown",
   "id": "5e2e5b90-eff3-43c4-abf8-7d0b7d503612",
   "metadata": {},
   "source": [
    "### 1. Not including Replicates info:\n",
    "Here, we have 2 replicates."
   ]
  },
  {
   "cell_type": "code",
   "execution_count": 210,
   "id": "13d51b9f-cc90-4fbc-b108-669a999734e5",
   "metadata": {},
   "outputs": [
    {
     "data": {
      "text/html": [
       "<table class=\"dataframe\">\n",
       "<caption>A data.frame: 6 × 14</caption>\n",
       "<thead>\n",
       "\t<tr><th></th><th scope=col>CLUSTERID1</th><th scope=col>CLUSTERID2</th><th scope=col>ComponentIndex</th><th scope=col>Cosine</th><th scope=col>DeltaMZ</th><th scope=col>ChemProp2</th><th scope=col>ChemProp_spearman</th><th scope=col>ChemProp_log</th><th scope=col>ChemProp_sqrt</th><th scope=col>abs_ChemProp2</th><th scope=col>abs_ChemProp_spearman</th><th scope=col>abs_ChemProp_log</th><th scope=col>abs_ChemProp_sqrt</th><th scope=col>Sign_ChemProp2</th></tr>\n",
       "\t<tr><th></th><th scope=col>&lt;int&gt;</th><th scope=col>&lt;int&gt;</th><th scope=col>&lt;int&gt;</th><th scope=col>&lt;dbl&gt;</th><th scope=col>&lt;dbl&gt;</th><th scope=col>&lt;dbl&gt;</th><th scope=col>&lt;dbl&gt;</th><th scope=col>&lt;dbl&gt;</th><th scope=col>&lt;dbl&gt;</th><th scope=col>&lt;dbl&gt;</th><th scope=col>&lt;dbl&gt;</th><th scope=col>&lt;dbl&gt;</th><th scope=col>&lt;dbl&gt;</th><th scope=col>&lt;dbl&gt;</th></tr>\n",
       "</thead>\n",
       "<tbody>\n",
       "\t<tr><th scope=row>1</th><td>4665</td><td>5180</td><td>1</td><td>0.7252</td><td>  18.010</td><td>-0.08655895</td><td> 0.02017037</td><td>-0.04980143</td><td>-0.061806689</td><td>0.08655895</td><td>0.02017037</td><td>0.04980143</td><td>0.061806689</td><td>-1</td></tr>\n",
       "\t<tr><th scope=row>2</th><td>2991</td><td>3274</td><td>2</td><td>0.8399</td><td>   0.021</td><td> 0.02225235</td><td> 0.17003872</td><td> 0.16355969</td><td> 0.087175514</td><td>0.02225235</td><td>0.17003872</td><td>0.16355969</td><td>0.087175514</td><td> 1</td></tr>\n",
       "\t<tr><th scope=row>3</th><td>2196</td><td>3549</td><td>2</td><td>0.8259</td><td> -48.000</td><td> 0.19751705</td><td> 0.25811505</td><td> 0.10416864</td><td> 0.202030160</td><td>0.19751705</td><td>0.25811505</td><td>0.10416864</td><td>0.202030160</td><td> 1</td></tr>\n",
       "\t<tr><th scope=row>4</th><td>2991</td><td>3549</td><td>2</td><td>0.7675</td><td> -33.964</td><td> 0.20889307</td><td> 0.36022875</td><td> 0.34858765</td><td> 0.286565260</td><td>0.20889307</td><td>0.36022875</td><td>0.34858765</td><td>0.286565260</td><td> 1</td></tr>\n",
       "\t<tr><th scope=row>5</th><td>3162</td><td>3549</td><td>2</td><td>0.7899</td><td>-119.037</td><td>-0.27443994</td><td>-0.24905838</td><td>-0.19215434</td><td>-0.231741764</td><td>0.27443994</td><td>0.24905838</td><td>0.19215434</td><td>0.231741764</td><td>-1</td></tr>\n",
       "\t<tr><th scope=row>6</th><td>2196</td><td>3274</td><td>2</td><td>0.8067</td><td> -14.016</td><td> 0.01087633</td><td> 0.06792501</td><td>-0.08085932</td><td> 0.002640415</td><td>0.01087633</td><td>0.06792501</td><td>0.08085932</td><td>0.002640415</td><td> 1</td></tr>\n",
       "</tbody>\n",
       "</table>\n"
      ],
      "text/latex": [
       "A data.frame: 6 × 14\n",
       "\\begin{tabular}{r|llllllllllllll}\n",
       "  & CLUSTERID1 & CLUSTERID2 & ComponentIndex & Cosine & DeltaMZ & ChemProp2 & ChemProp\\_spearman & ChemProp\\_log & ChemProp\\_sqrt & abs\\_ChemProp2 & abs\\_ChemProp\\_spearman & abs\\_ChemProp\\_log & abs\\_ChemProp\\_sqrt & Sign\\_ChemProp2\\\\\n",
       "  & <int> & <int> & <int> & <dbl> & <dbl> & <dbl> & <dbl> & <dbl> & <dbl> & <dbl> & <dbl> & <dbl> & <dbl> & <dbl>\\\\\n",
       "\\hline\n",
       "\t1 & 4665 & 5180 & 1 & 0.7252 &   18.010 & -0.08655895 &  0.02017037 & -0.04980143 & -0.061806689 & 0.08655895 & 0.02017037 & 0.04980143 & 0.061806689 & -1\\\\\n",
       "\t2 & 2991 & 3274 & 2 & 0.8399 &    0.021 &  0.02225235 &  0.17003872 &  0.16355969 &  0.087175514 & 0.02225235 & 0.17003872 & 0.16355969 & 0.087175514 &  1\\\\\n",
       "\t3 & 2196 & 3549 & 2 & 0.8259 &  -48.000 &  0.19751705 &  0.25811505 &  0.10416864 &  0.202030160 & 0.19751705 & 0.25811505 & 0.10416864 & 0.202030160 &  1\\\\\n",
       "\t4 & 2991 & 3549 & 2 & 0.7675 &  -33.964 &  0.20889307 &  0.36022875 &  0.34858765 &  0.286565260 & 0.20889307 & 0.36022875 & 0.34858765 & 0.286565260 &  1\\\\\n",
       "\t5 & 3162 & 3549 & 2 & 0.7899 & -119.037 & -0.27443994 & -0.24905838 & -0.19215434 & -0.231741764 & 0.27443994 & 0.24905838 & 0.19215434 & 0.231741764 & -1\\\\\n",
       "\t6 & 2196 & 3274 & 2 & 0.8067 &  -14.016 &  0.01087633 &  0.06792501 & -0.08085932 &  0.002640415 & 0.01087633 & 0.06792501 & 0.08085932 & 0.002640415 &  1\\\\\n",
       "\\end{tabular}\n"
      ],
      "text/markdown": [
       "\n",
       "A data.frame: 6 × 14\n",
       "\n",
       "| <!--/--> | CLUSTERID1 &lt;int&gt; | CLUSTERID2 &lt;int&gt; | ComponentIndex &lt;int&gt; | Cosine &lt;dbl&gt; | DeltaMZ &lt;dbl&gt; | ChemProp2 &lt;dbl&gt; | ChemProp_spearman &lt;dbl&gt; | ChemProp_log &lt;dbl&gt; | ChemProp_sqrt &lt;dbl&gt; | abs_ChemProp2 &lt;dbl&gt; | abs_ChemProp_spearman &lt;dbl&gt; | abs_ChemProp_log &lt;dbl&gt; | abs_ChemProp_sqrt &lt;dbl&gt; | Sign_ChemProp2 &lt;dbl&gt; |\n",
       "|---|---|---|---|---|---|---|---|---|---|---|---|---|---|---|\n",
       "| 1 | 4665 | 5180 | 1 | 0.7252 |   18.010 | -0.08655895 |  0.02017037 | -0.04980143 | -0.061806689 | 0.08655895 | 0.02017037 | 0.04980143 | 0.061806689 | -1 |\n",
       "| 2 | 2991 | 3274 | 2 | 0.8399 |    0.021 |  0.02225235 |  0.17003872 |  0.16355969 |  0.087175514 | 0.02225235 | 0.17003872 | 0.16355969 | 0.087175514 |  1 |\n",
       "| 3 | 2196 | 3549 | 2 | 0.8259 |  -48.000 |  0.19751705 |  0.25811505 |  0.10416864 |  0.202030160 | 0.19751705 | 0.25811505 | 0.10416864 | 0.202030160 |  1 |\n",
       "| 4 | 2991 | 3549 | 2 | 0.7675 |  -33.964 |  0.20889307 |  0.36022875 |  0.34858765 |  0.286565260 | 0.20889307 | 0.36022875 | 0.34858765 | 0.286565260 |  1 |\n",
       "| 5 | 3162 | 3549 | 2 | 0.7899 | -119.037 | -0.27443994 | -0.24905838 | -0.19215434 | -0.231741764 | 0.27443994 | 0.24905838 | 0.19215434 | 0.231741764 | -1 |\n",
       "| 6 | 2196 | 3274 | 2 | 0.8067 |  -14.016 |  0.01087633 |  0.06792501 | -0.08085932 |  0.002640415 | 0.01087633 | 0.06792501 | 0.08085932 | 0.002640415 |  1 |\n",
       "\n"
      ],
      "text/plain": [
       "  CLUSTERID1 CLUSTERID2 ComponentIndex Cosine DeltaMZ  ChemProp2  \n",
       "1 4665       5180       1              0.7252   18.010 -0.08655895\n",
       "2 2991       3274       2              0.8399    0.021  0.02225235\n",
       "3 2196       3549       2              0.8259  -48.000  0.19751705\n",
       "4 2991       3549       2              0.7675  -33.964  0.20889307\n",
       "5 3162       3549       2              0.7899 -119.037 -0.27443994\n",
       "6 2196       3274       2              0.8067  -14.016  0.01087633\n",
       "  ChemProp_spearman ChemProp_log ChemProp_sqrt abs_ChemProp2\n",
       "1  0.02017037       -0.04980143  -0.061806689  0.08655895   \n",
       "2  0.17003872        0.16355969   0.087175514  0.02225235   \n",
       "3  0.25811505        0.10416864   0.202030160  0.19751705   \n",
       "4  0.36022875        0.34858765   0.286565260  0.20889307   \n",
       "5 -0.24905838       -0.19215434  -0.231741764  0.27443994   \n",
       "6  0.06792501       -0.08085932   0.002640415  0.01087633   \n",
       "  abs_ChemProp_spearman abs_ChemProp_log abs_ChemProp_sqrt Sign_ChemProp2\n",
       "1 0.02017037            0.04980143       0.061806689       -1            \n",
       "2 0.17003872            0.16355969       0.087175514        1            \n",
       "3 0.25811505            0.10416864       0.202030160        1            \n",
       "4 0.36022875            0.34858765       0.286565260        1            \n",
       "5 0.24905838            0.19215434       0.231741764       -1            \n",
       "6 0.06792501            0.08085932       0.002640415        1            "
      ]
     },
     "metadata": {},
     "output_type": "display_data"
    }
   ],
   "source": [
    "case1_result <- result\n",
    "head(case1_result)"
   ]
  },
  {
   "cell_type": "code",
   "execution_count": 370,
   "id": "2a4d4be0-884a-4dbf-97aa-1ead850e0e68",
   "metadata": {},
   "outputs": [],
   "source": [
    "write.csv(case1_result, paste0(fName,'/WithoutRepsInfo_ChemProp2_scores.csv'),row.names =T)"
   ]
  },
  {
   "cell_type": "markdown",
   "id": "ea77f750-c6e2-49a8-aec5-723f8e56d2aa",
   "metadata": {},
   "source": [
    "### 2. Run ChemProp2 individually on replicates and finally average the ChemProp2 scores:"
   ]
  },
  {
   "cell_type": "code",
   "execution_count": 223,
   "id": "1650f19c-aa28-422b-bfd9-0c9e37d6119a",
   "metadata": {},
   "outputs": [
    {
     "data": {
      "text/html": [
       "<table class=\"dataframe\">\n",
       "<caption>A data.frame: 3 × 5</caption>\n",
       "<thead>\n",
       "\t<tr><th scope=col>INDEX</th><th scope=col>ATTRIBUTES</th><th scope=col>LEVELS</th><th scope=col>COUNT</th><th scope=col>ATTRIBUTE_CLASS</th></tr>\n",
       "\t<tr><th scope=col>&lt;int&gt;</th><th scope=col>&lt;chr&gt;</th><th scope=col>&lt;chr&gt;</th><th scope=col>&lt;chr&gt;</th><th scope=col>&lt;chr&gt;</th></tr>\n",
       "</thead>\n",
       "<tbody>\n",
       "\t<tr><td>1</td><td>ATTRIBUTE_sample           </td><td>Avermectin + Gut bacteria, Blank, Only Avermectin drug, Only Gut bacteria</td><td>23, 3, 30, 30               </td><td>character</td></tr>\n",
       "\t<tr><td>2</td><td>ATTRIBUTE_replicates       </td><td>1, 2, 3                                                                  </td><td>30, 30, 23                  </td><td>character</td></tr>\n",
       "\t<tr><td>3</td><td>ATTRIBUTE_timepoint_minutes</td><td>0, 1, 10, 120, 180, 20, 240, 30, 60, 720                                 </td><td>9, 9, 9, 8, 8, 8, 8, 8, 8, 8</td><td>character</td></tr>\n",
       "</tbody>\n",
       "</table>\n"
      ],
      "text/latex": [
       "A data.frame: 3 × 5\n",
       "\\begin{tabular}{lllll}\n",
       " INDEX & ATTRIBUTES & LEVELS & COUNT & ATTRIBUTE\\_CLASS\\\\\n",
       " <int> & <chr> & <chr> & <chr> & <chr>\\\\\n",
       "\\hline\n",
       "\t 1 & ATTRIBUTE\\_sample            & Avermectin + Gut bacteria, Blank, Only Avermectin drug, Only Gut bacteria & 23, 3, 30, 30                & character\\\\\n",
       "\t 2 & ATTRIBUTE\\_replicates        & 1, 2, 3                                                                   & 30, 30, 23                   & character\\\\\n",
       "\t 3 & ATTRIBUTE\\_timepoint\\_minutes & 0, 1, 10, 120, 180, 20, 240, 30, 60, 720                                  & 9, 9, 9, 8, 8, 8, 8, 8, 8, 8 & character\\\\\n",
       "\\end{tabular}\n"
      ],
      "text/markdown": [
       "\n",
       "A data.frame: 3 × 5\n",
       "\n",
       "| INDEX &lt;int&gt; | ATTRIBUTES &lt;chr&gt; | LEVELS &lt;chr&gt; | COUNT &lt;chr&gt; | ATTRIBUTE_CLASS &lt;chr&gt; |\n",
       "|---|---|---|---|---|\n",
       "| 1 | ATTRIBUTE_sample            | Avermectin + Gut bacteria, Blank, Only Avermectin drug, Only Gut bacteria | 23, 3, 30, 30                | character |\n",
       "| 2 | ATTRIBUTE_replicates        | 1, 2, 3                                                                   | 30, 30, 23                   | character |\n",
       "| 3 | ATTRIBUTE_timepoint_minutes | 0, 1, 10, 120, 180, 20, 240, 30, 60, 720                                  | 9, 9, 9, 8, 8, 8, 8, 8, 8, 8 | character |\n",
       "\n"
      ],
      "text/plain": [
       "  INDEX ATTRIBUTES                 \n",
       "1 1     ATTRIBUTE_sample           \n",
       "2 2     ATTRIBUTE_replicates       \n",
       "3 3     ATTRIBUTE_timepoint_minutes\n",
       "  LEVELS                                                                   \n",
       "1 Avermectin + Gut bacteria, Blank, Only Avermectin drug, Only Gut bacteria\n",
       "2 1, 2, 3                                                                  \n",
       "3 0, 1, 10, 120, 180, 20, 240, 30, 60, 720                                 \n",
       "  COUNT                        ATTRIBUTE_CLASS\n",
       "1 23, 3, 30, 30                character      \n",
       "2 30, 30, 23                   character      \n",
       "3 9, 9, 9, 8, 8, 8, 8, 8, 8, 8 character      "
      ]
     },
     "metadata": {},
     "output_type": "display_data"
    }
   ],
   "source": [
    "InsideLevels(new_md[,2:ncol(new_md)])"
   ]
  },
  {
   "cell_type": "code",
   "execution_count": 219,
   "id": "d65af1dd-673b-4dd9-8b60-8b3c9c003837",
   "metadata": {},
   "outputs": [],
   "source": [
    "subset_Rep1_md <- new_md %>% filter(ATTRIBUTE_sample == \"Avermectin + Gut bacteria\",\n",
    "                                    ATTRIBUTE_replicates == \"1\")"
   ]
  },
  {
   "cell_type": "code",
   "execution_count": 220,
   "id": "207edd25-76ae-40ce-83cd-b6cc327b5dd3",
   "metadata": {},
   "outputs": [
    {
     "data": {
      "text/html": [
       "<table class=\"dataframe\">\n",
       "<caption>A data.frame: 4 × 5</caption>\n",
       "<thead>\n",
       "\t<tr><th scope=col>INDEX</th><th scope=col>ATTRIBUTES</th><th scope=col>LEVELS</th><th scope=col>COUNT</th><th scope=col>ATTRIBUTE_CLASS</th></tr>\n",
       "\t<tr><th scope=col>&lt;int&gt;</th><th scope=col>&lt;chr&gt;</th><th scope=col>&lt;chr&gt;</th><th scope=col>&lt;chr&gt;</th><th scope=col>&lt;chr&gt;</th></tr>\n",
       "</thead>\n",
       "<tbody>\n",
       "\t<tr><td>1</td><td>filename                   </td><td>Avr_Bac_Rep1_t0.mzML, Avr_Bac_Rep1_t1.mzML, Avr_Bac_Rep1_t10.mzML, Avr_Bac_Rep1_t120.mzML, Avr_Bac_Rep1_t180.mzML, Avr_Bac_Rep1_t20.mzML, Avr_Bac_Rep1_t240.mzML, Avr_Bac_Rep1_t30.mzML, Avr_Bac_Rep1_t60.mzML, Avr_Bac_Rep1_t720.mzML</td><td>1, 1, 1, 1, 1, 1, 1, 1, 1, 1</td><td>character</td></tr>\n",
       "\t<tr><td>2</td><td>ATTRIBUTE_sample           </td><td>Avermectin + Gut bacteria                                                                                                                                                                                                             </td><td>10                          </td><td>character</td></tr>\n",
       "\t<tr><td>3</td><td>ATTRIBUTE_replicates       </td><td>1                                                                                                                                                                                                                                     </td><td>10                          </td><td>character</td></tr>\n",
       "\t<tr><td>4</td><td>ATTRIBUTE_timepoint_minutes</td><td>0, 1, 10, 120, 180, 20, 240, 30, 60, 720                                                                                                                                                                                              </td><td>1, 1, 1, 1, 1, 1, 1, 1, 1, 1</td><td>character</td></tr>\n",
       "</tbody>\n",
       "</table>\n"
      ],
      "text/latex": [
       "A data.frame: 4 × 5\n",
       "\\begin{tabular}{lllll}\n",
       " INDEX & ATTRIBUTES & LEVELS & COUNT & ATTRIBUTE\\_CLASS\\\\\n",
       " <int> & <chr> & <chr> & <chr> & <chr>\\\\\n",
       "\\hline\n",
       "\t 1 & filename                    & Avr\\_Bac\\_Rep1\\_t0.mzML, Avr\\_Bac\\_Rep1\\_t1.mzML, Avr\\_Bac\\_Rep1\\_t10.mzML, Avr\\_Bac\\_Rep1\\_t120.mzML, Avr\\_Bac\\_Rep1\\_t180.mzML, Avr\\_Bac\\_Rep1\\_t20.mzML, Avr\\_Bac\\_Rep1\\_t240.mzML, Avr\\_Bac\\_Rep1\\_t30.mzML, Avr\\_Bac\\_Rep1\\_t60.mzML, Avr\\_Bac\\_Rep1\\_t720.mzML & 1, 1, 1, 1, 1, 1, 1, 1, 1, 1 & character\\\\\n",
       "\t 2 & ATTRIBUTE\\_sample            & Avermectin + Gut bacteria                                                                                                                                                                                                              & 10                           & character\\\\\n",
       "\t 3 & ATTRIBUTE\\_replicates        & 1                                                                                                                                                                                                                                      & 10                           & character\\\\\n",
       "\t 4 & ATTRIBUTE\\_timepoint\\_minutes & 0, 1, 10, 120, 180, 20, 240, 30, 60, 720                                                                                                                                                                                               & 1, 1, 1, 1, 1, 1, 1, 1, 1, 1 & character\\\\\n",
       "\\end{tabular}\n"
      ],
      "text/markdown": [
       "\n",
       "A data.frame: 4 × 5\n",
       "\n",
       "| INDEX &lt;int&gt; | ATTRIBUTES &lt;chr&gt; | LEVELS &lt;chr&gt; | COUNT &lt;chr&gt; | ATTRIBUTE_CLASS &lt;chr&gt; |\n",
       "|---|---|---|---|---|\n",
       "| 1 | filename                    | Avr_Bac_Rep1_t0.mzML, Avr_Bac_Rep1_t1.mzML, Avr_Bac_Rep1_t10.mzML, Avr_Bac_Rep1_t120.mzML, Avr_Bac_Rep1_t180.mzML, Avr_Bac_Rep1_t20.mzML, Avr_Bac_Rep1_t240.mzML, Avr_Bac_Rep1_t30.mzML, Avr_Bac_Rep1_t60.mzML, Avr_Bac_Rep1_t720.mzML | 1, 1, 1, 1, 1, 1, 1, 1, 1, 1 | character |\n",
       "| 2 | ATTRIBUTE_sample            | Avermectin + Gut bacteria                                                                                                                                                                                                              | 10                           | character |\n",
       "| 3 | ATTRIBUTE_replicates        | 1                                                                                                                                                                                                                                      | 10                           | character |\n",
       "| 4 | ATTRIBUTE_timepoint_minutes | 0, 1, 10, 120, 180, 20, 240, 30, 60, 720                                                                                                                                                                                               | 1, 1, 1, 1, 1, 1, 1, 1, 1, 1 | character |\n",
       "\n"
      ],
      "text/plain": [
       "  INDEX ATTRIBUTES                 \n",
       "1 1     filename                   \n",
       "2 2     ATTRIBUTE_sample           \n",
       "3 3     ATTRIBUTE_replicates       \n",
       "4 4     ATTRIBUTE_timepoint_minutes\n",
       "  LEVELS                                                                                                                                                                                                                                \n",
       "1 Avr_Bac_Rep1_t0.mzML, Avr_Bac_Rep1_t1.mzML, Avr_Bac_Rep1_t10.mzML, Avr_Bac_Rep1_t120.mzML, Avr_Bac_Rep1_t180.mzML, Avr_Bac_Rep1_t20.mzML, Avr_Bac_Rep1_t240.mzML, Avr_Bac_Rep1_t30.mzML, Avr_Bac_Rep1_t60.mzML, Avr_Bac_Rep1_t720.mzML\n",
       "2 Avermectin + Gut bacteria                                                                                                                                                                                                             \n",
       "3 1                                                                                                                                                                                                                                     \n",
       "4 0, 1, 10, 120, 180, 20, 240, 30, 60, 720                                                                                                                                                                                              \n",
       "  COUNT                        ATTRIBUTE_CLASS\n",
       "1 1, 1, 1, 1, 1, 1, 1, 1, 1, 1 character      \n",
       "2 10                           character      \n",
       "3 10                           character      \n",
       "4 1, 1, 1, 1, 1, 1, 1, 1, 1, 1 character      "
      ]
     },
     "metadata": {},
     "output_type": "display_data"
    }
   ],
   "source": [
    "InsideLevels(subset_Rep1_md)"
   ]
  },
  {
   "cell_type": "code",
   "execution_count": 224,
   "id": "fc407860-8d6b-41cd-a6d8-184da43ee40e",
   "metadata": {},
   "outputs": [
    {
     "data": {
      "text/html": [
       "<table class=\"dataframe\">\n",
       "<caption>A data.frame: 6 × 10</caption>\n",
       "<thead>\n",
       "\t<tr><th></th><th scope=col>Avr_Bac_Rep1_t0.mzML</th><th scope=col>Avr_Bac_Rep1_t1.mzML</th><th scope=col>Avr_Bac_Rep1_t10.mzML</th><th scope=col>Avr_Bac_Rep1_t120.mzML</th><th scope=col>Avr_Bac_Rep1_t180.mzML</th><th scope=col>Avr_Bac_Rep1_t20.mzML</th><th scope=col>Avr_Bac_Rep1_t240.mzML</th><th scope=col>Avr_Bac_Rep1_t30.mzML</th><th scope=col>Avr_Bac_Rep1_t60.mzML</th><th scope=col>Avr_Bac_Rep1_t720.mzML</th></tr>\n",
       "\t<tr><th></th><th scope=col>&lt;dbl&gt;</th><th scope=col>&lt;dbl&gt;</th><th scope=col>&lt;dbl&gt;</th><th scope=col>&lt;dbl&gt;</th><th scope=col>&lt;dbl&gt;</th><th scope=col>&lt;dbl&gt;</th><th scope=col>&lt;dbl&gt;</th><th scope=col>&lt;dbl&gt;</th><th scope=col>&lt;dbl&gt;</th><th scope=col>&lt;dbl&gt;</th></tr>\n",
       "</thead>\n",
       "<tbody>\n",
       "\t<tr><th scope=row>X2_285.01_0.026_NA</th><td>  9121.137</td><td>18667.346</td><td>25429.7770</td><td> 27301.24</td><td> 2013.300</td><td> 24217.570</td><td> 26353.895</td><td> 18983.656</td><td> 30068.7170</td><td> 31323.8180</td></tr>\n",
       "\t<tr><th scope=row>X4_166.123_0.054_NA</th><td>  8585.590</td><td>67654.586</td><td> 1015.3992</td><td> 18595.92</td><td> 7988.774</td><td> 24399.871</td><td> 24849.357</td><td> 10173.353</td><td>  5813.8400</td><td> 64197.8320</td></tr>\n",
       "\t<tr><th scope=row>X5_227.04_0.023_NA</th><td>  4739.735</td><td>47169.016</td><td>40111.5430</td><td> 41518.71</td><td>62059.920</td><td> 10455.167</td><td> 55855.168</td><td> 20212.295</td><td>  7875.3720</td><td> 66344.4900</td></tr>\n",
       "\t<tr><th scope=row>X6_223.084_0.078_NA</th><td>  4993.819</td><td>  933.212</td><td>  584.7465</td><td>  5018.85</td><td> 2562.420</td><td>  1124.187</td><td>  1308.476</td><td>  1620.751</td><td>   498.6828</td><td>   613.2769</td></tr>\n",
       "\t<tr><th scope=row>X7_207.032_0.096_NA</th><td>277412.660</td><td>45147.836</td><td>26532.3570</td><td>315136.72</td><td>48802.863</td><td>299953.340</td><td>311148.100</td><td>209402.470</td><td>303704.5000</td><td>329759.1600</td></tr>\n",
       "\t<tr><th scope=row>X8_209.048_0.149_NA</th><td>284921.840</td><td>45506.290</td><td>80316.7400</td><td> 95323.01</td><td>58428.970</td><td> 54777.560</td><td>330467.780</td><td>234668.550</td><td> 57229.3160</td><td> 55122.3440</td></tr>\n",
       "</tbody>\n",
       "</table>\n"
      ],
      "text/latex": [
       "A data.frame: 6 × 10\n",
       "\\begin{tabular}{r|llllllllll}\n",
       "  & Avr\\_Bac\\_Rep1\\_t0.mzML & Avr\\_Bac\\_Rep1\\_t1.mzML & Avr\\_Bac\\_Rep1\\_t10.mzML & Avr\\_Bac\\_Rep1\\_t120.mzML & Avr\\_Bac\\_Rep1\\_t180.mzML & Avr\\_Bac\\_Rep1\\_t20.mzML & Avr\\_Bac\\_Rep1\\_t240.mzML & Avr\\_Bac\\_Rep1\\_t30.mzML & Avr\\_Bac\\_Rep1\\_t60.mzML & Avr\\_Bac\\_Rep1\\_t720.mzML\\\\\n",
       "  & <dbl> & <dbl> & <dbl> & <dbl> & <dbl> & <dbl> & <dbl> & <dbl> & <dbl> & <dbl>\\\\\n",
       "\\hline\n",
       "\tX2\\_285.01\\_0.026\\_NA &   9121.137 & 18667.346 & 25429.7770 &  27301.24 &  2013.300 &  24217.570 &  26353.895 &  18983.656 &  30068.7170 &  31323.8180\\\\\n",
       "\tX4\\_166.123\\_0.054\\_NA &   8585.590 & 67654.586 &  1015.3992 &  18595.92 &  7988.774 &  24399.871 &  24849.357 &  10173.353 &   5813.8400 &  64197.8320\\\\\n",
       "\tX5\\_227.04\\_0.023\\_NA &   4739.735 & 47169.016 & 40111.5430 &  41518.71 & 62059.920 &  10455.167 &  55855.168 &  20212.295 &   7875.3720 &  66344.4900\\\\\n",
       "\tX6\\_223.084\\_0.078\\_NA &   4993.819 &   933.212 &   584.7465 &   5018.85 &  2562.420 &   1124.187 &   1308.476 &   1620.751 &    498.6828 &    613.2769\\\\\n",
       "\tX7\\_207.032\\_0.096\\_NA & 277412.660 & 45147.836 & 26532.3570 & 315136.72 & 48802.863 & 299953.340 & 311148.100 & 209402.470 & 303704.5000 & 329759.1600\\\\\n",
       "\tX8\\_209.048\\_0.149\\_NA & 284921.840 & 45506.290 & 80316.7400 &  95323.01 & 58428.970 &  54777.560 & 330467.780 & 234668.550 &  57229.3160 &  55122.3440\\\\\n",
       "\\end{tabular}\n"
      ],
      "text/markdown": [
       "\n",
       "A data.frame: 6 × 10\n",
       "\n",
       "| <!--/--> | Avr_Bac_Rep1_t0.mzML &lt;dbl&gt; | Avr_Bac_Rep1_t1.mzML &lt;dbl&gt; | Avr_Bac_Rep1_t10.mzML &lt;dbl&gt; | Avr_Bac_Rep1_t120.mzML &lt;dbl&gt; | Avr_Bac_Rep1_t180.mzML &lt;dbl&gt; | Avr_Bac_Rep1_t20.mzML &lt;dbl&gt; | Avr_Bac_Rep1_t240.mzML &lt;dbl&gt; | Avr_Bac_Rep1_t30.mzML &lt;dbl&gt; | Avr_Bac_Rep1_t60.mzML &lt;dbl&gt; | Avr_Bac_Rep1_t720.mzML &lt;dbl&gt; |\n",
       "|---|---|---|---|---|---|---|---|---|---|---|\n",
       "| X2_285.01_0.026_NA |   9121.137 | 18667.346 | 25429.7770 |  27301.24 |  2013.300 |  24217.570 |  26353.895 |  18983.656 |  30068.7170 |  31323.8180 |\n",
       "| X4_166.123_0.054_NA |   8585.590 | 67654.586 |  1015.3992 |  18595.92 |  7988.774 |  24399.871 |  24849.357 |  10173.353 |   5813.8400 |  64197.8320 |\n",
       "| X5_227.04_0.023_NA |   4739.735 | 47169.016 | 40111.5430 |  41518.71 | 62059.920 |  10455.167 |  55855.168 |  20212.295 |   7875.3720 |  66344.4900 |\n",
       "| X6_223.084_0.078_NA |   4993.819 |   933.212 |   584.7465 |   5018.85 |  2562.420 |   1124.187 |   1308.476 |   1620.751 |    498.6828 |    613.2769 |\n",
       "| X7_207.032_0.096_NA | 277412.660 | 45147.836 | 26532.3570 | 315136.72 | 48802.863 | 299953.340 | 311148.100 | 209402.470 | 303704.5000 | 329759.1600 |\n",
       "| X8_209.048_0.149_NA | 284921.840 | 45506.290 | 80316.7400 |  95323.01 | 58428.970 |  54777.560 | 330467.780 | 234668.550 |  57229.3160 |  55122.3440 |\n",
       "\n"
      ],
      "text/plain": [
       "                    Avr_Bac_Rep1_t0.mzML Avr_Bac_Rep1_t1.mzML\n",
       "X2_285.01_0.026_NA    9121.137           18667.346           \n",
       "X4_166.123_0.054_NA   8585.590           67654.586           \n",
       "X5_227.04_0.023_NA    4739.735           47169.016           \n",
       "X6_223.084_0.078_NA   4993.819             933.212           \n",
       "X7_207.032_0.096_NA 277412.660           45147.836           \n",
       "X8_209.048_0.149_NA 284921.840           45506.290           \n",
       "                    Avr_Bac_Rep1_t10.mzML Avr_Bac_Rep1_t120.mzML\n",
       "X2_285.01_0.026_NA  25429.7770             27301.24             \n",
       "X4_166.123_0.054_NA  1015.3992             18595.92             \n",
       "X5_227.04_0.023_NA  40111.5430             41518.71             \n",
       "X6_223.084_0.078_NA   584.7465              5018.85             \n",
       "X7_207.032_0.096_NA 26532.3570            315136.72             \n",
       "X8_209.048_0.149_NA 80316.7400             95323.01             \n",
       "                    Avr_Bac_Rep1_t180.mzML Avr_Bac_Rep1_t20.mzML\n",
       "X2_285.01_0.026_NA   2013.300               24217.570           \n",
       "X4_166.123_0.054_NA  7988.774               24399.871           \n",
       "X5_227.04_0.023_NA  62059.920               10455.167           \n",
       "X6_223.084_0.078_NA  2562.420                1124.187           \n",
       "X7_207.032_0.096_NA 48802.863              299953.340           \n",
       "X8_209.048_0.149_NA 58428.970               54777.560           \n",
       "                    Avr_Bac_Rep1_t240.mzML Avr_Bac_Rep1_t30.mzML\n",
       "X2_285.01_0.026_NA   26353.895              18983.656           \n",
       "X4_166.123_0.054_NA  24849.357              10173.353           \n",
       "X5_227.04_0.023_NA   55855.168              20212.295           \n",
       "X6_223.084_0.078_NA   1308.476               1620.751           \n",
       "X7_207.032_0.096_NA 311148.100             209402.470           \n",
       "X8_209.048_0.149_NA 330467.780             234668.550           \n",
       "                    Avr_Bac_Rep1_t60.mzML Avr_Bac_Rep1_t720.mzML\n",
       "X2_285.01_0.026_NA   30068.7170            31323.8180           \n",
       "X4_166.123_0.054_NA   5813.8400            64197.8320           \n",
       "X5_227.04_0.023_NA    7875.3720            66344.4900           \n",
       "X6_223.084_0.078_NA    498.6828              613.2769           \n",
       "X7_207.032_0.096_NA 303704.5000           329759.1600           \n",
       "X8_209.048_0.149_NA  57229.3160            55122.3440           "
      ]
     },
     "metadata": {},
     "output_type": "display_data"
    },
    {
     "data": {
      "text/html": [
       "<style>\n",
       ".list-inline {list-style: none; margin:0; padding: 0}\n",
       ".list-inline>li {display: inline-block}\n",
       ".list-inline>li:not(:last-child)::after {content: \"\\00b7\"; padding: 0 .5ex}\n",
       "</style>\n",
       "<ol class=list-inline><li>3412</li><li>10</li></ol>\n"
      ],
      "text/latex": [
       "\\begin{enumerate*}\n",
       "\\item 3412\n",
       "\\item 10\n",
       "\\end{enumerate*}\n"
      ],
      "text/markdown": [
       "1. 3412\n",
       "2. 10\n",
       "\n",
       "\n"
      ],
      "text/plain": [
       "[1] 3412   10"
      ]
     },
     "metadata": {},
     "output_type": "display_data"
    }
   ],
   "source": [
    "#Picking only the columns in ft that corresponds to the subset metadata\n",
    "subset_Rep1_ft <- new_ft[,which(colnames(new_ft)%in%subset_Rep1_md$filename),drop=F] \n",
    "head(subset_Rep1_ft)\n",
    "dim(subset_Rep1_ft)"
   ]
  },
  {
   "cell_type": "code",
   "execution_count": 226,
   "id": "cddd6247-b25f-4a0b-9cbf-ff3d5a9e06b8",
   "metadata": {},
   "outputs": [
    {
     "data": {
      "text/html": [
       "<table class=\"dataframe\">\n",
       "<caption>A data.frame: 3 × 1</caption>\n",
       "<thead>\n",
       "\t<tr><th></th><th scope=col>ATTRIBUTE_timepoint_minutes</th></tr>\n",
       "\t<tr><th></th><th scope=col>&lt;dbl&gt;</th></tr>\n",
       "</thead>\n",
       "<tbody>\n",
       "\t<tr><th scope=row>Avr_Bac_Rep1_t0.mzML</th><td> 0</td></tr>\n",
       "\t<tr><th scope=row>Avr_Bac_Rep1_t1.mzML</th><td> 1</td></tr>\n",
       "\t<tr><th scope=row>Avr_Bac_Rep1_t10.mzML</th><td>10</td></tr>\n",
       "</tbody>\n",
       "</table>\n"
      ],
      "text/latex": [
       "A data.frame: 3 × 1\n",
       "\\begin{tabular}{r|l}\n",
       "  & ATTRIBUTE\\_timepoint\\_minutes\\\\\n",
       "  & <dbl>\\\\\n",
       "\\hline\n",
       "\tAvr\\_Bac\\_Rep1\\_t0.mzML &  0\\\\\n",
       "\tAvr\\_Bac\\_Rep1\\_t1.mzML &  1\\\\\n",
       "\tAvr\\_Bac\\_Rep1\\_t10.mzML & 10\\\\\n",
       "\\end{tabular}\n"
      ],
      "text/markdown": [
       "\n",
       "A data.frame: 3 × 1\n",
       "\n",
       "| <!--/--> | ATTRIBUTE_timepoint_minutes &lt;dbl&gt; |\n",
       "|---|---|\n",
       "| Avr_Bac_Rep1_t0.mzML |  0 |\n",
       "| Avr_Bac_Rep1_t1.mzML |  1 |\n",
       "| Avr_Bac_Rep1_t10.mzML | 10 |\n",
       "\n"
      ],
      "text/plain": [
       "                      ATTRIBUTE_timepoint_minutes\n",
       "Avr_Bac_Rep1_t0.mzML   0                         \n",
       "Avr_Bac_Rep1_t1.mzML   1                         \n",
       "Avr_Bac_Rep1_t10.mzML 10                         "
      ]
     },
     "metadata": {},
     "output_type": "display_data"
    },
    {
     "name": "stderr",
     "output_type": "stream",
     "text": [
      "The number of rows and columns in Meta_ChemProp column is: 10 x 1\n",
      "\n",
      "\n",
      "The levels in the Meta_ChemProp column is:0, 1, 10, 20, 30, 60, 120, 180, 240, 720\n",
      "\n"
     ]
    }
   ],
   "source": [
    "Rep1_md_ChemProp <- prepare_meta_chemprop(subset_md = subset_Rep1_md, new_md, md_sequence=4) #here 4 is the column number of ATTRIBUTE_time_point"
   ]
  },
  {
   "cell_type": "code",
   "execution_count": 227,
   "id": "714fd403-14cd-4252-a9d1-33b03914b6b9",
   "metadata": {},
   "outputs": [
    {
     "name": "stderr",
     "output_type": "stream",
     "text": [
      "Your Feature file had combined row names (ID_mz_RT_annotation). Only the 'ID' info was taken as row names.\n",
      "\n",
      "The number of rows and columns in the Feature_table is: 3412 x 10\n",
      "\n"
     ]
    },
    {
     "data": {
      "text/html": [
       "<table class=\"dataframe\">\n",
       "<caption>A data.frame: 6 × 10</caption>\n",
       "<thead>\n",
       "\t<tr><th></th><th scope=col>Avr_Bac_Rep1_t0.mzML</th><th scope=col>Avr_Bac_Rep1_t1.mzML</th><th scope=col>Avr_Bac_Rep1_t10.mzML</th><th scope=col>Avr_Bac_Rep1_t120.mzML</th><th scope=col>Avr_Bac_Rep1_t180.mzML</th><th scope=col>Avr_Bac_Rep1_t20.mzML</th><th scope=col>Avr_Bac_Rep1_t240.mzML</th><th scope=col>Avr_Bac_Rep1_t30.mzML</th><th scope=col>Avr_Bac_Rep1_t60.mzML</th><th scope=col>Avr_Bac_Rep1_t720.mzML</th></tr>\n",
       "\t<tr><th></th><th scope=col>&lt;dbl&gt;</th><th scope=col>&lt;dbl&gt;</th><th scope=col>&lt;dbl&gt;</th><th scope=col>&lt;dbl&gt;</th><th scope=col>&lt;dbl&gt;</th><th scope=col>&lt;dbl&gt;</th><th scope=col>&lt;dbl&gt;</th><th scope=col>&lt;dbl&gt;</th><th scope=col>&lt;dbl&gt;</th><th scope=col>&lt;dbl&gt;</th></tr>\n",
       "</thead>\n",
       "<tbody>\n",
       "\t<tr><th scope=row>2</th><td>  9121.137</td><td>18667.346</td><td>25429.7770</td><td> 27301.24</td><td> 2013.300</td><td> 24217.570</td><td> 26353.895</td><td> 18983.656</td><td> 30068.7170</td><td> 31323.8180</td></tr>\n",
       "\t<tr><th scope=row>4</th><td>  8585.590</td><td>67654.586</td><td> 1015.3992</td><td> 18595.92</td><td> 7988.774</td><td> 24399.871</td><td> 24849.357</td><td> 10173.353</td><td>  5813.8400</td><td> 64197.8320</td></tr>\n",
       "\t<tr><th scope=row>5</th><td>  4739.735</td><td>47169.016</td><td>40111.5430</td><td> 41518.71</td><td>62059.920</td><td> 10455.167</td><td> 55855.168</td><td> 20212.295</td><td>  7875.3720</td><td> 66344.4900</td></tr>\n",
       "\t<tr><th scope=row>6</th><td>  4993.819</td><td>  933.212</td><td>  584.7465</td><td>  5018.85</td><td> 2562.420</td><td>  1124.187</td><td>  1308.476</td><td>  1620.751</td><td>   498.6828</td><td>   613.2769</td></tr>\n",
       "\t<tr><th scope=row>7</th><td>277412.660</td><td>45147.836</td><td>26532.3570</td><td>315136.72</td><td>48802.863</td><td>299953.340</td><td>311148.100</td><td>209402.470</td><td>303704.5000</td><td>329759.1600</td></tr>\n",
       "\t<tr><th scope=row>8</th><td>284921.840</td><td>45506.290</td><td>80316.7400</td><td> 95323.01</td><td>58428.970</td><td> 54777.560</td><td>330467.780</td><td>234668.550</td><td> 57229.3160</td><td> 55122.3440</td></tr>\n",
       "</tbody>\n",
       "</table>\n"
      ],
      "text/latex": [
       "A data.frame: 6 × 10\n",
       "\\begin{tabular}{r|llllllllll}\n",
       "  & Avr\\_Bac\\_Rep1\\_t0.mzML & Avr\\_Bac\\_Rep1\\_t1.mzML & Avr\\_Bac\\_Rep1\\_t10.mzML & Avr\\_Bac\\_Rep1\\_t120.mzML & Avr\\_Bac\\_Rep1\\_t180.mzML & Avr\\_Bac\\_Rep1\\_t20.mzML & Avr\\_Bac\\_Rep1\\_t240.mzML & Avr\\_Bac\\_Rep1\\_t30.mzML & Avr\\_Bac\\_Rep1\\_t60.mzML & Avr\\_Bac\\_Rep1\\_t720.mzML\\\\\n",
       "  & <dbl> & <dbl> & <dbl> & <dbl> & <dbl> & <dbl> & <dbl> & <dbl> & <dbl> & <dbl>\\\\\n",
       "\\hline\n",
       "\t2 &   9121.137 & 18667.346 & 25429.7770 &  27301.24 &  2013.300 &  24217.570 &  26353.895 &  18983.656 &  30068.7170 &  31323.8180\\\\\n",
       "\t4 &   8585.590 & 67654.586 &  1015.3992 &  18595.92 &  7988.774 &  24399.871 &  24849.357 &  10173.353 &   5813.8400 &  64197.8320\\\\\n",
       "\t5 &   4739.735 & 47169.016 & 40111.5430 &  41518.71 & 62059.920 &  10455.167 &  55855.168 &  20212.295 &   7875.3720 &  66344.4900\\\\\n",
       "\t6 &   4993.819 &   933.212 &   584.7465 &   5018.85 &  2562.420 &   1124.187 &   1308.476 &   1620.751 &    498.6828 &    613.2769\\\\\n",
       "\t7 & 277412.660 & 45147.836 & 26532.3570 & 315136.72 & 48802.863 & 299953.340 & 311148.100 & 209402.470 & 303704.5000 & 329759.1600\\\\\n",
       "\t8 & 284921.840 & 45506.290 & 80316.7400 &  95323.01 & 58428.970 &  54777.560 & 330467.780 & 234668.550 &  57229.3160 &  55122.3440\\\\\n",
       "\\end{tabular}\n"
      ],
      "text/markdown": [
       "\n",
       "A data.frame: 6 × 10\n",
       "\n",
       "| <!--/--> | Avr_Bac_Rep1_t0.mzML &lt;dbl&gt; | Avr_Bac_Rep1_t1.mzML &lt;dbl&gt; | Avr_Bac_Rep1_t10.mzML &lt;dbl&gt; | Avr_Bac_Rep1_t120.mzML &lt;dbl&gt; | Avr_Bac_Rep1_t180.mzML &lt;dbl&gt; | Avr_Bac_Rep1_t20.mzML &lt;dbl&gt; | Avr_Bac_Rep1_t240.mzML &lt;dbl&gt; | Avr_Bac_Rep1_t30.mzML &lt;dbl&gt; | Avr_Bac_Rep1_t60.mzML &lt;dbl&gt; | Avr_Bac_Rep1_t720.mzML &lt;dbl&gt; |\n",
       "|---|---|---|---|---|---|---|---|---|---|---|\n",
       "| 2 |   9121.137 | 18667.346 | 25429.7770 |  27301.24 |  2013.300 |  24217.570 |  26353.895 |  18983.656 |  30068.7170 |  31323.8180 |\n",
       "| 4 |   8585.590 | 67654.586 |  1015.3992 |  18595.92 |  7988.774 |  24399.871 |  24849.357 |  10173.353 |   5813.8400 |  64197.8320 |\n",
       "| 5 |   4739.735 | 47169.016 | 40111.5430 |  41518.71 | 62059.920 |  10455.167 |  55855.168 |  20212.295 |   7875.3720 |  66344.4900 |\n",
       "| 6 |   4993.819 |   933.212 |   584.7465 |   5018.85 |  2562.420 |   1124.187 |   1308.476 |   1620.751 |    498.6828 |    613.2769 |\n",
       "| 7 | 277412.660 | 45147.836 | 26532.3570 | 315136.72 | 48802.863 | 299953.340 | 311148.100 | 209402.470 | 303704.5000 | 329759.1600 |\n",
       "| 8 | 284921.840 | 45506.290 | 80316.7400 |  95323.01 | 58428.970 |  54777.560 | 330467.780 | 234668.550 |  57229.3160 |  55122.3440 |\n",
       "\n"
      ],
      "text/plain": [
       "  Avr_Bac_Rep1_t0.mzML Avr_Bac_Rep1_t1.mzML Avr_Bac_Rep1_t10.mzML\n",
       "2   9121.137           18667.346            25429.7770           \n",
       "4   8585.590           67654.586             1015.3992           \n",
       "5   4739.735           47169.016            40111.5430           \n",
       "6   4993.819             933.212              584.7465           \n",
       "7 277412.660           45147.836            26532.3570           \n",
       "8 284921.840           45506.290            80316.7400           \n",
       "  Avr_Bac_Rep1_t120.mzML Avr_Bac_Rep1_t180.mzML Avr_Bac_Rep1_t20.mzML\n",
       "2  27301.24               2013.300               24217.570           \n",
       "4  18595.92               7988.774               24399.871           \n",
       "5  41518.71              62059.920               10455.167           \n",
       "6   5018.85               2562.420                1124.187           \n",
       "7 315136.72              48802.863              299953.340           \n",
       "8  95323.01              58428.970               54777.560           \n",
       "  Avr_Bac_Rep1_t240.mzML Avr_Bac_Rep1_t30.mzML Avr_Bac_Rep1_t60.mzML\n",
       "2  26353.895              18983.656             30068.7170          \n",
       "4  24849.357              10173.353              5813.8400          \n",
       "5  55855.168              20212.295              7875.3720          \n",
       "6   1308.476               1620.751               498.6828          \n",
       "7 311148.100             209402.470            303704.5000          \n",
       "8 330467.780             234668.550             57229.3160          \n",
       "  Avr_Bac_Rep1_t720.mzML\n",
       "2  31323.8180           \n",
       "4  64197.8320           \n",
       "5  66344.4900           \n",
       "6    613.2769           \n",
       "7 329759.1600           \n",
       "8  55122.3440           "
      ]
     },
     "metadata": {},
     "output_type": "display_data"
    }
   ],
   "source": [
    "ChemProp_ft_rep1 <- prepare_ChemProp2_feature_table(subset_ft = subset_Rep1_ft, new_ft)"
   ]
  },
  {
   "cell_type": "code",
   "execution_count": 305,
   "id": "80d91ef4-05c3-42df-91e1-2c8732a7f4cb",
   "metadata": {},
   "outputs": [],
   "source": [
    "Rep1_result <- suppressWarnings(calculate_chemprop2_scores(ChemProp_ft_rep1, Rep1_md_ChemProp, nw))"
   ]
  },
  {
   "cell_type": "code",
   "execution_count": 229,
   "id": "a376c420-4ace-44cf-aa20-a32f96510271",
   "metadata": {},
   "outputs": [
    {
     "data": {
      "text/html": [
       "<table class=\"dataframe\">\n",
       "<caption>A data.frame: 6 × 14</caption>\n",
       "<thead>\n",
       "\t<tr><th></th><th scope=col>CLUSTERID1</th><th scope=col>CLUSTERID2</th><th scope=col>ComponentIndex</th><th scope=col>Cosine</th><th scope=col>DeltaMZ</th><th scope=col>ChemProp2</th><th scope=col>ChemProp_spearman</th><th scope=col>ChemProp_log</th><th scope=col>ChemProp_sqrt</th><th scope=col>abs_ChemProp2</th><th scope=col>abs_ChemProp_spearman</th><th scope=col>abs_ChemProp_log</th><th scope=col>abs_ChemProp_sqrt</th><th scope=col>Sign_ChemProp2</th></tr>\n",
       "\t<tr><th></th><th scope=col>&lt;int&gt;</th><th scope=col>&lt;int&gt;</th><th scope=col>&lt;int&gt;</th><th scope=col>&lt;dbl&gt;</th><th scope=col>&lt;dbl&gt;</th><th scope=col>&lt;dbl&gt;</th><th scope=col>&lt;dbl&gt;</th><th scope=col>&lt;dbl&gt;</th><th scope=col>&lt;dbl&gt;</th><th scope=col>&lt;dbl&gt;</th><th scope=col>&lt;dbl&gt;</th><th scope=col>&lt;dbl&gt;</th><th scope=col>&lt;dbl&gt;</th><th scope=col>&lt;dbl&gt;</th></tr>\n",
       "</thead>\n",
       "<tbody>\n",
       "\t<tr><th scope=row>1</th><td>4665</td><td>5180</td><td>1</td><td>0.7252</td><td>  18.010</td><td>-0.02459069</td><td> 0.02787879</td><td>-0.07661085</td><td>-0.07218814</td><td>0.02459069</td><td>0.02787879</td><td>0.07661085</td><td>0.07218814</td><td>-1</td></tr>\n",
       "\t<tr><th scope=row>2</th><td>2991</td><td>3274</td><td>2</td><td>0.8399</td><td>   0.021</td><td>-0.00269769</td><td> 0.08125927</td><td> 0.05847063</td><td> 0.03013104</td><td>0.00269769</td><td>0.08125927</td><td>0.05847063</td><td>0.03013104</td><td>-1</td></tr>\n",
       "\t<tr><th scope=row>3</th><td>2196</td><td>3549</td><td>2</td><td>0.8259</td><td> -48.000</td><td> 0.24095002</td><td> 0.32727273</td><td> 0.27659803</td><td> 0.26733470</td><td>0.24095002</td><td>0.32727273</td><td>0.27659803</td><td>0.26733470</td><td> 1</td></tr>\n",
       "\t<tr><th scope=row>4</th><td>2991</td><td>3549</td><td>2</td><td>0.7675</td><td> -33.964</td><td> 0.20054556</td><td> 0.30550170</td><td> 0.28528652</td><td> 0.24936380</td><td>0.20054556</td><td>0.30550170</td><td>0.28528652</td><td>0.24936380</td><td> 1</td></tr>\n",
       "\t<tr><th scope=row>5</th><td>3162</td><td>3549</td><td>2</td><td>0.7899</td><td>-119.037</td><td>-0.36446573</td><td>-0.26666667</td><td>-0.26071489</td><td>-0.31351278</td><td>0.36446573</td><td>0.26666667</td><td>0.26071489</td><td>0.31351278</td><td>-1</td></tr>\n",
       "\t<tr><th scope=row>6</th><td>2196</td><td>3274</td><td>2</td><td>0.8067</td><td> -14.016</td><td> 0.03770677</td><td> 0.10303030</td><td> 0.04978214</td><td> 0.04810194</td><td>0.03770677</td><td>0.10303030</td><td>0.04978214</td><td>0.04810194</td><td> 1</td></tr>\n",
       "</tbody>\n",
       "</table>\n"
      ],
      "text/latex": [
       "A data.frame: 6 × 14\n",
       "\\begin{tabular}{r|llllllllllllll}\n",
       "  & CLUSTERID1 & CLUSTERID2 & ComponentIndex & Cosine & DeltaMZ & ChemProp2 & ChemProp\\_spearman & ChemProp\\_log & ChemProp\\_sqrt & abs\\_ChemProp2 & abs\\_ChemProp\\_spearman & abs\\_ChemProp\\_log & abs\\_ChemProp\\_sqrt & Sign\\_ChemProp2\\\\\n",
       "  & <int> & <int> & <int> & <dbl> & <dbl> & <dbl> & <dbl> & <dbl> & <dbl> & <dbl> & <dbl> & <dbl> & <dbl> & <dbl>\\\\\n",
       "\\hline\n",
       "\t1 & 4665 & 5180 & 1 & 0.7252 &   18.010 & -0.02459069 &  0.02787879 & -0.07661085 & -0.07218814 & 0.02459069 & 0.02787879 & 0.07661085 & 0.07218814 & -1\\\\\n",
       "\t2 & 2991 & 3274 & 2 & 0.8399 &    0.021 & -0.00269769 &  0.08125927 &  0.05847063 &  0.03013104 & 0.00269769 & 0.08125927 & 0.05847063 & 0.03013104 & -1\\\\\n",
       "\t3 & 2196 & 3549 & 2 & 0.8259 &  -48.000 &  0.24095002 &  0.32727273 &  0.27659803 &  0.26733470 & 0.24095002 & 0.32727273 & 0.27659803 & 0.26733470 &  1\\\\\n",
       "\t4 & 2991 & 3549 & 2 & 0.7675 &  -33.964 &  0.20054556 &  0.30550170 &  0.28528652 &  0.24936380 & 0.20054556 & 0.30550170 & 0.28528652 & 0.24936380 &  1\\\\\n",
       "\t5 & 3162 & 3549 & 2 & 0.7899 & -119.037 & -0.36446573 & -0.26666667 & -0.26071489 & -0.31351278 & 0.36446573 & 0.26666667 & 0.26071489 & 0.31351278 & -1\\\\\n",
       "\t6 & 2196 & 3274 & 2 & 0.8067 &  -14.016 &  0.03770677 &  0.10303030 &  0.04978214 &  0.04810194 & 0.03770677 & 0.10303030 & 0.04978214 & 0.04810194 &  1\\\\\n",
       "\\end{tabular}\n"
      ],
      "text/markdown": [
       "\n",
       "A data.frame: 6 × 14\n",
       "\n",
       "| <!--/--> | CLUSTERID1 &lt;int&gt; | CLUSTERID2 &lt;int&gt; | ComponentIndex &lt;int&gt; | Cosine &lt;dbl&gt; | DeltaMZ &lt;dbl&gt; | ChemProp2 &lt;dbl&gt; | ChemProp_spearman &lt;dbl&gt; | ChemProp_log &lt;dbl&gt; | ChemProp_sqrt &lt;dbl&gt; | abs_ChemProp2 &lt;dbl&gt; | abs_ChemProp_spearman &lt;dbl&gt; | abs_ChemProp_log &lt;dbl&gt; | abs_ChemProp_sqrt &lt;dbl&gt; | Sign_ChemProp2 &lt;dbl&gt; |\n",
       "|---|---|---|---|---|---|---|---|---|---|---|---|---|---|---|\n",
       "| 1 | 4665 | 5180 | 1 | 0.7252 |   18.010 | -0.02459069 |  0.02787879 | -0.07661085 | -0.07218814 | 0.02459069 | 0.02787879 | 0.07661085 | 0.07218814 | -1 |\n",
       "| 2 | 2991 | 3274 | 2 | 0.8399 |    0.021 | -0.00269769 |  0.08125927 |  0.05847063 |  0.03013104 | 0.00269769 | 0.08125927 | 0.05847063 | 0.03013104 | -1 |\n",
       "| 3 | 2196 | 3549 | 2 | 0.8259 |  -48.000 |  0.24095002 |  0.32727273 |  0.27659803 |  0.26733470 | 0.24095002 | 0.32727273 | 0.27659803 | 0.26733470 |  1 |\n",
       "| 4 | 2991 | 3549 | 2 | 0.7675 |  -33.964 |  0.20054556 |  0.30550170 |  0.28528652 |  0.24936380 | 0.20054556 | 0.30550170 | 0.28528652 | 0.24936380 |  1 |\n",
       "| 5 | 3162 | 3549 | 2 | 0.7899 | -119.037 | -0.36446573 | -0.26666667 | -0.26071489 | -0.31351278 | 0.36446573 | 0.26666667 | 0.26071489 | 0.31351278 | -1 |\n",
       "| 6 | 2196 | 3274 | 2 | 0.8067 |  -14.016 |  0.03770677 |  0.10303030 |  0.04978214 |  0.04810194 | 0.03770677 | 0.10303030 | 0.04978214 | 0.04810194 |  1 |\n",
       "\n"
      ],
      "text/plain": [
       "  CLUSTERID1 CLUSTERID2 ComponentIndex Cosine DeltaMZ  ChemProp2  \n",
       "1 4665       5180       1              0.7252   18.010 -0.02459069\n",
       "2 2991       3274       2              0.8399    0.021 -0.00269769\n",
       "3 2196       3549       2              0.8259  -48.000  0.24095002\n",
       "4 2991       3549       2              0.7675  -33.964  0.20054556\n",
       "5 3162       3549       2              0.7899 -119.037 -0.36446573\n",
       "6 2196       3274       2              0.8067  -14.016  0.03770677\n",
       "  ChemProp_spearman ChemProp_log ChemProp_sqrt abs_ChemProp2\n",
       "1  0.02787879       -0.07661085  -0.07218814   0.02459069   \n",
       "2  0.08125927        0.05847063   0.03013104   0.00269769   \n",
       "3  0.32727273        0.27659803   0.26733470   0.24095002   \n",
       "4  0.30550170        0.28528652   0.24936380   0.20054556   \n",
       "5 -0.26666667       -0.26071489  -0.31351278   0.36446573   \n",
       "6  0.10303030        0.04978214   0.04810194   0.03770677   \n",
       "  abs_ChemProp_spearman abs_ChemProp_log abs_ChemProp_sqrt Sign_ChemProp2\n",
       "1 0.02787879            0.07661085       0.07218814        -1            \n",
       "2 0.08125927            0.05847063       0.03013104        -1            \n",
       "3 0.32727273            0.27659803       0.26733470         1            \n",
       "4 0.30550170            0.28528652       0.24936380         1            \n",
       "5 0.26666667            0.26071489       0.31351278        -1            \n",
       "6 0.10303030            0.04978214       0.04810194         1            "
      ]
     },
     "metadata": {},
     "output_type": "display_data"
    }
   ],
   "source": [
    "head(Rep1_result)"
   ]
  },
  {
   "cell_type": "code",
   "execution_count": 371,
   "id": "7cc8b57a-23f2-4bca-bbac-02ab7c2002e0",
   "metadata": {},
   "outputs": [],
   "source": [
    "write.csv(Rep1_result, paste0(fName,'/Rep1Alone_ChemProp2_scores.csv'),row.names =T)"
   ]
  },
  {
   "cell_type": "code",
   "execution_count": 388,
   "id": "aca11fff-c2d2-4b52-aefd-3ca89388571a",
   "metadata": {},
   "outputs": [
    {
     "data": {
      "text/html": [
       "<table class=\"dataframe\">\n",
       "<caption>A data.frame: 4 × 5</caption>\n",
       "<thead>\n",
       "\t<tr><th scope=col>INDEX</th><th scope=col>ATTRIBUTES</th><th scope=col>LEVELS</th><th scope=col>COUNT</th><th scope=col>ATTRIBUTE_CLASS</th></tr>\n",
       "\t<tr><th scope=col>&lt;int&gt;</th><th scope=col>&lt;chr&gt;</th><th scope=col>&lt;chr&gt;</th><th scope=col>&lt;chr&gt;</th><th scope=col>&lt;chr&gt;</th></tr>\n",
       "</thead>\n",
       "<tbody>\n",
       "\t<tr><td>1</td><td>filename                   </td><td>Avr_Bac_Rep2_t0.mzML, Avr_Bac_Rep2_t1.mzML, Avr_Bac_Rep2_t10.mzML, Avr_Bac_Rep2_t120.mzML, Avr_Bac_Rep2_t180.mzML, Avr_Bac_Rep2_t20.mzML, Avr_Bac_Rep2_t240.mzML, Avr_Bac_Rep2_t30.mzML, Avr_Bac_Rep2_t60.mzML, Avr_Bac_Rep2_t720.mzML</td><td>1, 1, 1, 1, 1, 1, 1, 1, 1, 1</td><td>character</td></tr>\n",
       "\t<tr><td>2</td><td>ATTRIBUTE_sample           </td><td>Avermectin + Gut bacteria                                                                                                                                                                                                             </td><td>10                          </td><td>character</td></tr>\n",
       "\t<tr><td>3</td><td>ATTRIBUTE_replicates       </td><td>2                                                                                                                                                                                                                                     </td><td>10                          </td><td>character</td></tr>\n",
       "\t<tr><td>4</td><td>ATTRIBUTE_timepoint_minutes</td><td>0, 1, 10, 120, 180, 20, 240, 30, 60, 720                                                                                                                                                                                              </td><td>1, 1, 1, 1, 1, 1, 1, 1, 1, 1</td><td>character</td></tr>\n",
       "</tbody>\n",
       "</table>\n"
      ],
      "text/latex": [
       "A data.frame: 4 × 5\n",
       "\\begin{tabular}{lllll}\n",
       " INDEX & ATTRIBUTES & LEVELS & COUNT & ATTRIBUTE\\_CLASS\\\\\n",
       " <int> & <chr> & <chr> & <chr> & <chr>\\\\\n",
       "\\hline\n",
       "\t 1 & filename                    & Avr\\_Bac\\_Rep2\\_t0.mzML, Avr\\_Bac\\_Rep2\\_t1.mzML, Avr\\_Bac\\_Rep2\\_t10.mzML, Avr\\_Bac\\_Rep2\\_t120.mzML, Avr\\_Bac\\_Rep2\\_t180.mzML, Avr\\_Bac\\_Rep2\\_t20.mzML, Avr\\_Bac\\_Rep2\\_t240.mzML, Avr\\_Bac\\_Rep2\\_t30.mzML, Avr\\_Bac\\_Rep2\\_t60.mzML, Avr\\_Bac\\_Rep2\\_t720.mzML & 1, 1, 1, 1, 1, 1, 1, 1, 1, 1 & character\\\\\n",
       "\t 2 & ATTRIBUTE\\_sample            & Avermectin + Gut bacteria                                                                                                                                                                                                              & 10                           & character\\\\\n",
       "\t 3 & ATTRIBUTE\\_replicates        & 2                                                                                                                                                                                                                                      & 10                           & character\\\\\n",
       "\t 4 & ATTRIBUTE\\_timepoint\\_minutes & 0, 1, 10, 120, 180, 20, 240, 30, 60, 720                                                                                                                                                                                               & 1, 1, 1, 1, 1, 1, 1, 1, 1, 1 & character\\\\\n",
       "\\end{tabular}\n"
      ],
      "text/markdown": [
       "\n",
       "A data.frame: 4 × 5\n",
       "\n",
       "| INDEX &lt;int&gt; | ATTRIBUTES &lt;chr&gt; | LEVELS &lt;chr&gt; | COUNT &lt;chr&gt; | ATTRIBUTE_CLASS &lt;chr&gt; |\n",
       "|---|---|---|---|---|\n",
       "| 1 | filename                    | Avr_Bac_Rep2_t0.mzML, Avr_Bac_Rep2_t1.mzML, Avr_Bac_Rep2_t10.mzML, Avr_Bac_Rep2_t120.mzML, Avr_Bac_Rep2_t180.mzML, Avr_Bac_Rep2_t20.mzML, Avr_Bac_Rep2_t240.mzML, Avr_Bac_Rep2_t30.mzML, Avr_Bac_Rep2_t60.mzML, Avr_Bac_Rep2_t720.mzML | 1, 1, 1, 1, 1, 1, 1, 1, 1, 1 | character |\n",
       "| 2 | ATTRIBUTE_sample            | Avermectin + Gut bacteria                                                                                                                                                                                                              | 10                           | character |\n",
       "| 3 | ATTRIBUTE_replicates        | 2                                                                                                                                                                                                                                      | 10                           | character |\n",
       "| 4 | ATTRIBUTE_timepoint_minutes | 0, 1, 10, 120, 180, 20, 240, 30, 60, 720                                                                                                                                                                                               | 1, 1, 1, 1, 1, 1, 1, 1, 1, 1 | character |\n",
       "\n"
      ],
      "text/plain": [
       "  INDEX ATTRIBUTES                 \n",
       "1 1     filename                   \n",
       "2 2     ATTRIBUTE_sample           \n",
       "3 3     ATTRIBUTE_replicates       \n",
       "4 4     ATTRIBUTE_timepoint_minutes\n",
       "  LEVELS                                                                                                                                                                                                                                \n",
       "1 Avr_Bac_Rep2_t0.mzML, Avr_Bac_Rep2_t1.mzML, Avr_Bac_Rep2_t10.mzML, Avr_Bac_Rep2_t120.mzML, Avr_Bac_Rep2_t180.mzML, Avr_Bac_Rep2_t20.mzML, Avr_Bac_Rep2_t240.mzML, Avr_Bac_Rep2_t30.mzML, Avr_Bac_Rep2_t60.mzML, Avr_Bac_Rep2_t720.mzML\n",
       "2 Avermectin + Gut bacteria                                                                                                                                                                                                             \n",
       "3 2                                                                                                                                                                                                                                     \n",
       "4 0, 1, 10, 120, 180, 20, 240, 30, 60, 720                                                                                                                                                                                              \n",
       "  COUNT                        ATTRIBUTE_CLASS\n",
       "1 1, 1, 1, 1, 1, 1, 1, 1, 1, 1 character      \n",
       "2 10                           character      \n",
       "3 10                           character      \n",
       "4 1, 1, 1, 1, 1, 1, 1, 1, 1, 1 character      "
      ]
     },
     "metadata": {},
     "output_type": "display_data"
    }
   ],
   "source": [
    "InsideLevels(subset_Rep2_md)"
   ]
  },
  {
   "cell_type": "code",
   "execution_count": 298,
   "id": "7492d929-3b1c-467b-929f-e2bf07cb7fd0",
   "metadata": {},
   "outputs": [
    {
     "data": {
      "text/html": [
       "<table class=\"dataframe\">\n",
       "<caption>A data.frame: 3 × 1</caption>\n",
       "<thead>\n",
       "\t<tr><th></th><th scope=col>ATTRIBUTE_timepoint_minutes</th></tr>\n",
       "\t<tr><th></th><th scope=col>&lt;dbl&gt;</th></tr>\n",
       "</thead>\n",
       "<tbody>\n",
       "\t<tr><th scope=row>Avr_Bac_Rep2_t0.mzML</th><td> 0</td></tr>\n",
       "\t<tr><th scope=row>Avr_Bac_Rep2_t1.mzML</th><td> 1</td></tr>\n",
       "\t<tr><th scope=row>Avr_Bac_Rep2_t10.mzML</th><td>10</td></tr>\n",
       "</tbody>\n",
       "</table>\n"
      ],
      "text/latex": [
       "A data.frame: 3 × 1\n",
       "\\begin{tabular}{r|l}\n",
       "  & ATTRIBUTE\\_timepoint\\_minutes\\\\\n",
       "  & <dbl>\\\\\n",
       "\\hline\n",
       "\tAvr\\_Bac\\_Rep2\\_t0.mzML &  0\\\\\n",
       "\tAvr\\_Bac\\_Rep2\\_t1.mzML &  1\\\\\n",
       "\tAvr\\_Bac\\_Rep2\\_t10.mzML & 10\\\\\n",
       "\\end{tabular}\n"
      ],
      "text/markdown": [
       "\n",
       "A data.frame: 3 × 1\n",
       "\n",
       "| <!--/--> | ATTRIBUTE_timepoint_minutes &lt;dbl&gt; |\n",
       "|---|---|\n",
       "| Avr_Bac_Rep2_t0.mzML |  0 |\n",
       "| Avr_Bac_Rep2_t1.mzML |  1 |\n",
       "| Avr_Bac_Rep2_t10.mzML | 10 |\n",
       "\n"
      ],
      "text/plain": [
       "                      ATTRIBUTE_timepoint_minutes\n",
       "Avr_Bac_Rep2_t0.mzML   0                         \n",
       "Avr_Bac_Rep2_t1.mzML   1                         \n",
       "Avr_Bac_Rep2_t10.mzML 10                         "
      ]
     },
     "metadata": {},
     "output_type": "display_data"
    },
    {
     "name": "stderr",
     "output_type": "stream",
     "text": [
      "The number of rows and columns in Meta_ChemProp column is: 10 x 1\n",
      "\n",
      "\n",
      "The levels in the Meta_ChemProp column is:0, 1, 10, 20, 30, 60, 120, 180, 240, 720\n",
      "\n",
      "Your Feature file had combined row names (ID_mz_RT_annotation). Only the 'ID' info was taken as row names.\n",
      "\n",
      "The number of rows and columns in the Feature_table is: 3412 x 10\n",
      "\n"
     ]
    },
    {
     "data": {
      "text/html": [
       "<table class=\"dataframe\">\n",
       "<caption>A data.frame: 6 × 10</caption>\n",
       "<thead>\n",
       "\t<tr><th></th><th scope=col>Avr_Bac_Rep2_t0.mzML</th><th scope=col>Avr_Bac_Rep2_t1.mzML</th><th scope=col>Avr_Bac_Rep2_t10.mzML</th><th scope=col>Avr_Bac_Rep2_t120.mzML</th><th scope=col>Avr_Bac_Rep2_t180.mzML</th><th scope=col>Avr_Bac_Rep2_t20.mzML</th><th scope=col>Avr_Bac_Rep2_t240.mzML</th><th scope=col>Avr_Bac_Rep2_t30.mzML</th><th scope=col>Avr_Bac_Rep2_t60.mzML</th><th scope=col>Avr_Bac_Rep2_t720.mzML</th></tr>\n",
       "\t<tr><th></th><th scope=col>&lt;dbl&gt;</th><th scope=col>&lt;dbl&gt;</th><th scope=col>&lt;dbl&gt;</th><th scope=col>&lt;dbl&gt;</th><th scope=col>&lt;dbl&gt;</th><th scope=col>&lt;dbl&gt;</th><th scope=col>&lt;dbl&gt;</th><th scope=col>&lt;dbl&gt;</th><th scope=col>&lt;dbl&gt;</th><th scope=col>&lt;dbl&gt;</th></tr>\n",
       "</thead>\n",
       "<tbody>\n",
       "\t<tr><th scope=row>2</th><td> 25410.354</td><td>  5928.108</td><td> 31352.2700</td><td> 12484.52</td><td> 26422.2810</td><td> 24630.494</td><td> 25786.926</td><td> 12890.741</td><td> 21232.090</td><td> 20753.9530</td></tr>\n",
       "\t<tr><th scope=row>4</th><td> 39053.590</td><td> 14575.035</td><td> 35725.5550</td><td> 14507.89</td><td>  6925.3480</td><td> 68890.610</td><td>  3260.068</td><td> 38766.047</td><td> 29892.348</td><td> 65203.0160</td></tr>\n",
       "\t<tr><th scope=row>5</th><td> 62068.543</td><td> 61343.254</td><td> 53365.9650</td><td> 16530.40</td><td> 48577.1680</td><td> 47231.234</td><td> 31173.605</td><td>  9802.307</td><td> 36497.850</td><td> 67497.2200</td></tr>\n",
       "\t<tr><th scope=row>6</th><td>  9932.812</td><td>  1185.877</td><td>   910.9628</td><td>  7880.31</td><td>   559.7695</td><td>  2726.511</td><td>   758.238</td><td>  1211.007</td><td>  1903.311</td><td>   579.7617</td></tr>\n",
       "\t<tr><th scope=row>7</th><td>142347.270</td><td>306603.600</td><td>289811.9700</td><td>308932.10</td><td>298298.5300</td><td>316544.300</td><td>197985.780</td><td>236100.230</td><td>307221.100</td><td>305603.6000</td></tr>\n",
       "\t<tr><th scope=row>8</th><td>332273.470</td><td> 59460.418</td><td>337354.4700</td><td>345356.10</td><td> 60737.0080</td><td>290081.750</td><td>226970.730</td><td> 77018.460</td><td> 54337.830</td><td> 41226.5100</td></tr>\n",
       "</tbody>\n",
       "</table>\n"
      ],
      "text/latex": [
       "A data.frame: 6 × 10\n",
       "\\begin{tabular}{r|llllllllll}\n",
       "  & Avr\\_Bac\\_Rep2\\_t0.mzML & Avr\\_Bac\\_Rep2\\_t1.mzML & Avr\\_Bac\\_Rep2\\_t10.mzML & Avr\\_Bac\\_Rep2\\_t120.mzML & Avr\\_Bac\\_Rep2\\_t180.mzML & Avr\\_Bac\\_Rep2\\_t20.mzML & Avr\\_Bac\\_Rep2\\_t240.mzML & Avr\\_Bac\\_Rep2\\_t30.mzML & Avr\\_Bac\\_Rep2\\_t60.mzML & Avr\\_Bac\\_Rep2\\_t720.mzML\\\\\n",
       "  & <dbl> & <dbl> & <dbl> & <dbl> & <dbl> & <dbl> & <dbl> & <dbl> & <dbl> & <dbl>\\\\\n",
       "\\hline\n",
       "\t2 &  25410.354 &   5928.108 &  31352.2700 &  12484.52 &  26422.2810 &  24630.494 &  25786.926 &  12890.741 &  21232.090 &  20753.9530\\\\\n",
       "\t4 &  39053.590 &  14575.035 &  35725.5550 &  14507.89 &   6925.3480 &  68890.610 &   3260.068 &  38766.047 &  29892.348 &  65203.0160\\\\\n",
       "\t5 &  62068.543 &  61343.254 &  53365.9650 &  16530.40 &  48577.1680 &  47231.234 &  31173.605 &   9802.307 &  36497.850 &  67497.2200\\\\\n",
       "\t6 &   9932.812 &   1185.877 &    910.9628 &   7880.31 &    559.7695 &   2726.511 &    758.238 &   1211.007 &   1903.311 &    579.7617\\\\\n",
       "\t7 & 142347.270 & 306603.600 & 289811.9700 & 308932.10 & 298298.5300 & 316544.300 & 197985.780 & 236100.230 & 307221.100 & 305603.6000\\\\\n",
       "\t8 & 332273.470 &  59460.418 & 337354.4700 & 345356.10 &  60737.0080 & 290081.750 & 226970.730 &  77018.460 &  54337.830 &  41226.5100\\\\\n",
       "\\end{tabular}\n"
      ],
      "text/markdown": [
       "\n",
       "A data.frame: 6 × 10\n",
       "\n",
       "| <!--/--> | Avr_Bac_Rep2_t0.mzML &lt;dbl&gt; | Avr_Bac_Rep2_t1.mzML &lt;dbl&gt; | Avr_Bac_Rep2_t10.mzML &lt;dbl&gt; | Avr_Bac_Rep2_t120.mzML &lt;dbl&gt; | Avr_Bac_Rep2_t180.mzML &lt;dbl&gt; | Avr_Bac_Rep2_t20.mzML &lt;dbl&gt; | Avr_Bac_Rep2_t240.mzML &lt;dbl&gt; | Avr_Bac_Rep2_t30.mzML &lt;dbl&gt; | Avr_Bac_Rep2_t60.mzML &lt;dbl&gt; | Avr_Bac_Rep2_t720.mzML &lt;dbl&gt; |\n",
       "|---|---|---|---|---|---|---|---|---|---|---|\n",
       "| 2 |  25410.354 |   5928.108 |  31352.2700 |  12484.52 |  26422.2810 |  24630.494 |  25786.926 |  12890.741 |  21232.090 |  20753.9530 |\n",
       "| 4 |  39053.590 |  14575.035 |  35725.5550 |  14507.89 |   6925.3480 |  68890.610 |   3260.068 |  38766.047 |  29892.348 |  65203.0160 |\n",
       "| 5 |  62068.543 |  61343.254 |  53365.9650 |  16530.40 |  48577.1680 |  47231.234 |  31173.605 |   9802.307 |  36497.850 |  67497.2200 |\n",
       "| 6 |   9932.812 |   1185.877 |    910.9628 |   7880.31 |    559.7695 |   2726.511 |    758.238 |   1211.007 |   1903.311 |    579.7617 |\n",
       "| 7 | 142347.270 | 306603.600 | 289811.9700 | 308932.10 | 298298.5300 | 316544.300 | 197985.780 | 236100.230 | 307221.100 | 305603.6000 |\n",
       "| 8 | 332273.470 |  59460.418 | 337354.4700 | 345356.10 |  60737.0080 | 290081.750 | 226970.730 |  77018.460 |  54337.830 |  41226.5100 |\n",
       "\n"
      ],
      "text/plain": [
       "  Avr_Bac_Rep2_t0.mzML Avr_Bac_Rep2_t1.mzML Avr_Bac_Rep2_t10.mzML\n",
       "2  25410.354             5928.108            31352.2700          \n",
       "4  39053.590            14575.035            35725.5550          \n",
       "5  62068.543            61343.254            53365.9650          \n",
       "6   9932.812             1185.877              910.9628          \n",
       "7 142347.270           306603.600           289811.9700          \n",
       "8 332273.470            59460.418           337354.4700          \n",
       "  Avr_Bac_Rep2_t120.mzML Avr_Bac_Rep2_t180.mzML Avr_Bac_Rep2_t20.mzML\n",
       "2  12484.52               26422.2810             24630.494           \n",
       "4  14507.89                6925.3480             68890.610           \n",
       "5  16530.40               48577.1680             47231.234           \n",
       "6   7880.31                 559.7695              2726.511           \n",
       "7 308932.10              298298.5300            316544.300           \n",
       "8 345356.10               60737.0080            290081.750           \n",
       "  Avr_Bac_Rep2_t240.mzML Avr_Bac_Rep2_t30.mzML Avr_Bac_Rep2_t60.mzML\n",
       "2  25786.926              12890.741             21232.090           \n",
       "4   3260.068              38766.047             29892.348           \n",
       "5  31173.605               9802.307             36497.850           \n",
       "6    758.238               1211.007              1903.311           \n",
       "7 197985.780             236100.230            307221.100           \n",
       "8 226970.730              77018.460             54337.830           \n",
       "  Avr_Bac_Rep2_t720.mzML\n",
       "2  20753.9530           \n",
       "4  65203.0160           \n",
       "5  67497.2200           \n",
       "6    579.7617           \n",
       "7 305603.6000           \n",
       "8  41226.5100           "
      ]
     },
     "metadata": {},
     "output_type": "display_data"
    },
    {
     "data": {
      "text/html": [
       "<table class=\"dataframe\">\n",
       "<caption>A data.frame: 6 × 14</caption>\n",
       "<thead>\n",
       "\t<tr><th></th><th scope=col>CLUSTERID1</th><th scope=col>CLUSTERID2</th><th scope=col>ComponentIndex</th><th scope=col>Cosine</th><th scope=col>DeltaMZ</th><th scope=col>ChemProp2</th><th scope=col>ChemProp_spearman</th><th scope=col>ChemProp_log</th><th scope=col>ChemProp_sqrt</th><th scope=col>abs_ChemProp2</th><th scope=col>abs_ChemProp_spearman</th><th scope=col>abs_ChemProp_log</th><th scope=col>abs_ChemProp_sqrt</th><th scope=col>Sign_ChemProp2</th></tr>\n",
       "\t<tr><th></th><th scope=col>&lt;int&gt;</th><th scope=col>&lt;int&gt;</th><th scope=col>&lt;int&gt;</th><th scope=col>&lt;dbl&gt;</th><th scope=col>&lt;dbl&gt;</th><th scope=col>&lt;dbl&gt;</th><th scope=col>&lt;dbl&gt;</th><th scope=col>&lt;dbl&gt;</th><th scope=col>&lt;dbl&gt;</th><th scope=col>&lt;dbl&gt;</th><th scope=col>&lt;dbl&gt;</th><th scope=col>&lt;dbl&gt;</th><th scope=col>&lt;dbl&gt;</th><th scope=col>&lt;dbl&gt;</th></tr>\n",
       "</thead>\n",
       "<tbody>\n",
       "\t<tr><th scope=row>1</th><td>4665</td><td>5180</td><td>1</td><td>0.7252</td><td>  18.010</td><td>-0.073046914</td><td> 0.01756942</td><td>-0.03184384</td><td>-0.04213830</td><td>0.073046914</td><td>0.01756942</td><td>0.03184384</td><td>0.04213830</td><td>-1</td></tr>\n",
       "\t<tr><th scope=row>2</th><td>2991</td><td>3274</td><td>2</td><td>0.8399</td><td>   0.021</td><td> 0.030177290</td><td> 0.24466845</td><td> 0.24839391</td><td> 0.12227962</td><td>0.030177290</td><td>0.24466845</td><td>0.24839391</td><td>0.12227962</td><td> 1</td></tr>\n",
       "\t<tr><th scope=row>3</th><td>2196</td><td>3549</td><td>2</td><td>0.8259</td><td> -48.000</td><td> 0.202690210</td><td> 0.29696970</td><td> 0.07545058</td><td> 0.18323522</td><td>0.202690210</td><td>0.29696970</td><td>0.07545058</td><td>0.18323522</td><td> 1</td></tr>\n",
       "\t<tr><th scope=row>4</th><td>2991</td><td>3549</td><td>2</td><td>0.7675</td><td> -33.964</td><td> 0.227994891</td><td> 0.45678966</td><td> 0.41560332</td><td> 0.32471043</td><td>0.227994891</td><td>0.45678966</td><td>0.41560332</td><td>0.32471043</td><td> 1</td></tr>\n",
       "\t<tr><th scope=row>5</th><td>3162</td><td>3549</td><td>2</td><td>0.7899</td><td>-119.037</td><td>-0.185295830</td><td>-0.20606061</td><td>-0.13474445</td><td>-0.15504847</td><td>0.185295830</td><td>0.20606061</td><td>0.13474445</td><td>0.15504847</td><td>-1</td></tr>\n",
       "\t<tr><th scope=row>6</th><td>2196</td><td>3274</td><td>2</td><td>0.8067</td><td> -14.016</td><td> 0.004872608</td><td> 0.08484848</td><td>-0.09175883</td><td>-0.01919559</td><td>0.004872608</td><td>0.08484848</td><td>0.09175883</td><td>0.01919559</td><td> 1</td></tr>\n",
       "</tbody>\n",
       "</table>\n"
      ],
      "text/latex": [
       "A data.frame: 6 × 14\n",
       "\\begin{tabular}{r|llllllllllllll}\n",
       "  & CLUSTERID1 & CLUSTERID2 & ComponentIndex & Cosine & DeltaMZ & ChemProp2 & ChemProp\\_spearman & ChemProp\\_log & ChemProp\\_sqrt & abs\\_ChemProp2 & abs\\_ChemProp\\_spearman & abs\\_ChemProp\\_log & abs\\_ChemProp\\_sqrt & Sign\\_ChemProp2\\\\\n",
       "  & <int> & <int> & <int> & <dbl> & <dbl> & <dbl> & <dbl> & <dbl> & <dbl> & <dbl> & <dbl> & <dbl> & <dbl> & <dbl>\\\\\n",
       "\\hline\n",
       "\t1 & 4665 & 5180 & 1 & 0.7252 &   18.010 & -0.073046914 &  0.01756942 & -0.03184384 & -0.04213830 & 0.073046914 & 0.01756942 & 0.03184384 & 0.04213830 & -1\\\\\n",
       "\t2 & 2991 & 3274 & 2 & 0.8399 &    0.021 &  0.030177290 &  0.24466845 &  0.24839391 &  0.12227962 & 0.030177290 & 0.24466845 & 0.24839391 & 0.12227962 &  1\\\\\n",
       "\t3 & 2196 & 3549 & 2 & 0.8259 &  -48.000 &  0.202690210 &  0.29696970 &  0.07545058 &  0.18323522 & 0.202690210 & 0.29696970 & 0.07545058 & 0.18323522 &  1\\\\\n",
       "\t4 & 2991 & 3549 & 2 & 0.7675 &  -33.964 &  0.227994891 &  0.45678966 &  0.41560332 &  0.32471043 & 0.227994891 & 0.45678966 & 0.41560332 & 0.32471043 &  1\\\\\n",
       "\t5 & 3162 & 3549 & 2 & 0.7899 & -119.037 & -0.185295830 & -0.20606061 & -0.13474445 & -0.15504847 & 0.185295830 & 0.20606061 & 0.13474445 & 0.15504847 & -1\\\\\n",
       "\t6 & 2196 & 3274 & 2 & 0.8067 &  -14.016 &  0.004872608 &  0.08484848 & -0.09175883 & -0.01919559 & 0.004872608 & 0.08484848 & 0.09175883 & 0.01919559 &  1\\\\\n",
       "\\end{tabular}\n"
      ],
      "text/markdown": [
       "\n",
       "A data.frame: 6 × 14\n",
       "\n",
       "| <!--/--> | CLUSTERID1 &lt;int&gt; | CLUSTERID2 &lt;int&gt; | ComponentIndex &lt;int&gt; | Cosine &lt;dbl&gt; | DeltaMZ &lt;dbl&gt; | ChemProp2 &lt;dbl&gt; | ChemProp_spearman &lt;dbl&gt; | ChemProp_log &lt;dbl&gt; | ChemProp_sqrt &lt;dbl&gt; | abs_ChemProp2 &lt;dbl&gt; | abs_ChemProp_spearman &lt;dbl&gt; | abs_ChemProp_log &lt;dbl&gt; | abs_ChemProp_sqrt &lt;dbl&gt; | Sign_ChemProp2 &lt;dbl&gt; |\n",
       "|---|---|---|---|---|---|---|---|---|---|---|---|---|---|---|\n",
       "| 1 | 4665 | 5180 | 1 | 0.7252 |   18.010 | -0.073046914 |  0.01756942 | -0.03184384 | -0.04213830 | 0.073046914 | 0.01756942 | 0.03184384 | 0.04213830 | -1 |\n",
       "| 2 | 2991 | 3274 | 2 | 0.8399 |    0.021 |  0.030177290 |  0.24466845 |  0.24839391 |  0.12227962 | 0.030177290 | 0.24466845 | 0.24839391 | 0.12227962 |  1 |\n",
       "| 3 | 2196 | 3549 | 2 | 0.8259 |  -48.000 |  0.202690210 |  0.29696970 |  0.07545058 |  0.18323522 | 0.202690210 | 0.29696970 | 0.07545058 | 0.18323522 |  1 |\n",
       "| 4 | 2991 | 3549 | 2 | 0.7675 |  -33.964 |  0.227994891 |  0.45678966 |  0.41560332 |  0.32471043 | 0.227994891 | 0.45678966 | 0.41560332 | 0.32471043 |  1 |\n",
       "| 5 | 3162 | 3549 | 2 | 0.7899 | -119.037 | -0.185295830 | -0.20606061 | -0.13474445 | -0.15504847 | 0.185295830 | 0.20606061 | 0.13474445 | 0.15504847 | -1 |\n",
       "| 6 | 2196 | 3274 | 2 | 0.8067 |  -14.016 |  0.004872608 |  0.08484848 | -0.09175883 | -0.01919559 | 0.004872608 | 0.08484848 | 0.09175883 | 0.01919559 |  1 |\n",
       "\n"
      ],
      "text/plain": [
       "  CLUSTERID1 CLUSTERID2 ComponentIndex Cosine DeltaMZ  ChemProp2   \n",
       "1 4665       5180       1              0.7252   18.010 -0.073046914\n",
       "2 2991       3274       2              0.8399    0.021  0.030177290\n",
       "3 2196       3549       2              0.8259  -48.000  0.202690210\n",
       "4 2991       3549       2              0.7675  -33.964  0.227994891\n",
       "5 3162       3549       2              0.7899 -119.037 -0.185295830\n",
       "6 2196       3274       2              0.8067  -14.016  0.004872608\n",
       "  ChemProp_spearman ChemProp_log ChemProp_sqrt abs_ChemProp2\n",
       "1  0.01756942       -0.03184384  -0.04213830   0.073046914  \n",
       "2  0.24466845        0.24839391   0.12227962   0.030177290  \n",
       "3  0.29696970        0.07545058   0.18323522   0.202690210  \n",
       "4  0.45678966        0.41560332   0.32471043   0.227994891  \n",
       "5 -0.20606061       -0.13474445  -0.15504847   0.185295830  \n",
       "6  0.08484848       -0.09175883  -0.01919559   0.004872608  \n",
       "  abs_ChemProp_spearman abs_ChemProp_log abs_ChemProp_sqrt Sign_ChemProp2\n",
       "1 0.01756942            0.03184384       0.04213830        -1            \n",
       "2 0.24466845            0.24839391       0.12227962         1            \n",
       "3 0.29696970            0.07545058       0.18323522         1            \n",
       "4 0.45678966            0.41560332       0.32471043         1            \n",
       "5 0.20606061            0.13474445       0.15504847        -1            \n",
       "6 0.08484848            0.09175883       0.01919559         1            "
      ]
     },
     "metadata": {},
     "output_type": "display_data"
    }
   ],
   "source": [
    "# Repeat the same for Rep2:\n",
    "subset_Rep2_md <- new_md %>% filter(ATTRIBUTE_sample == \"Avermectin + Gut bacteria\",\n",
    "                                    ATTRIBUTE_replicates == \"2\")\n",
    "\n",
    "Rep2_md_ChemProp <- invisible(prepare_meta_chemprop(subset_md = subset_Rep2_md, new_md, md_sequence=4)) #here 4 is the column number of ATTRIBUTE_time_point\n",
    "\n",
    "subset_Rep2_ft <- new_ft[,which(colnames(new_ft)%in%subset_Rep2_md$filename),drop=F] \n",
    "\n",
    "ChemProp_ft_rep2 <- invisible(prepare_ChemProp2_feature_table(subset_ft = subset_Rep2_ft, new_ft))\n",
    "\n",
    "Rep2_result <- suppressWarnings((calculate_chemprop2_scores(ChemProp_ft_rep2, Rep2_md_ChemProp, nw)))\n",
    "\n",
    "head(Rep2_result)"
   ]
  },
  {
   "cell_type": "code",
   "execution_count": 299,
   "id": "2fbbe705-4e47-432e-9e85-9af5420ecd87",
   "metadata": {},
   "outputs": [
    {
     "data": {
      "text/html": [
       "<table class=\"dataframe\">\n",
       "<caption>A data.frame: 6 × 14</caption>\n",
       "<thead>\n",
       "\t<tr><th></th><th scope=col>CLUSTERID1</th><th scope=col>CLUSTERID2</th><th scope=col>ComponentIndex</th><th scope=col>Cosine</th><th scope=col>DeltaMZ</th><th scope=col>ChemProp2</th><th scope=col>ChemProp_spearman</th><th scope=col>ChemProp_log</th><th scope=col>ChemProp_sqrt</th><th scope=col>abs_ChemProp2</th><th scope=col>abs_ChemProp_spearman</th><th scope=col>abs_ChemProp_log</th><th scope=col>abs_ChemProp_sqrt</th><th scope=col>Sign_ChemProp2</th></tr>\n",
       "\t<tr><th></th><th scope=col>&lt;int&gt;</th><th scope=col>&lt;int&gt;</th><th scope=col>&lt;int&gt;</th><th scope=col>&lt;dbl&gt;</th><th scope=col>&lt;dbl&gt;</th><th scope=col>&lt;dbl&gt;</th><th scope=col>&lt;dbl&gt;</th><th scope=col>&lt;dbl&gt;</th><th scope=col>&lt;dbl&gt;</th><th scope=col>&lt;dbl&gt;</th><th scope=col>&lt;dbl&gt;</th><th scope=col>&lt;dbl&gt;</th><th scope=col>&lt;dbl&gt;</th><th scope=col>&lt;dbl&gt;</th></tr>\n",
       "</thead>\n",
       "<tbody>\n",
       "\t<tr><th scope=row>1</th><td>4665</td><td>5180</td><td>1</td><td>0.7252</td><td>  18.010</td><td>-0.073046914</td><td> 0.01756942</td><td>-0.03184384</td><td>-0.04213830</td><td>0.073046914</td><td>0.01756942</td><td>0.03184384</td><td>0.04213830</td><td>-1</td></tr>\n",
       "\t<tr><th scope=row>2</th><td>2991</td><td>3274</td><td>2</td><td>0.8399</td><td>   0.021</td><td> 0.030177290</td><td> 0.24466845</td><td> 0.24839391</td><td> 0.12227962</td><td>0.030177290</td><td>0.24466845</td><td>0.24839391</td><td>0.12227962</td><td> 1</td></tr>\n",
       "\t<tr><th scope=row>3</th><td>2196</td><td>3549</td><td>2</td><td>0.8259</td><td> -48.000</td><td> 0.202690210</td><td> 0.29696970</td><td> 0.07545058</td><td> 0.18323522</td><td>0.202690210</td><td>0.29696970</td><td>0.07545058</td><td>0.18323522</td><td> 1</td></tr>\n",
       "\t<tr><th scope=row>4</th><td>2991</td><td>3549</td><td>2</td><td>0.7675</td><td> -33.964</td><td> 0.227994891</td><td> 0.45678966</td><td> 0.41560332</td><td> 0.32471043</td><td>0.227994891</td><td>0.45678966</td><td>0.41560332</td><td>0.32471043</td><td> 1</td></tr>\n",
       "\t<tr><th scope=row>5</th><td>3162</td><td>3549</td><td>2</td><td>0.7899</td><td>-119.037</td><td>-0.185295830</td><td>-0.20606061</td><td>-0.13474445</td><td>-0.15504847</td><td>0.185295830</td><td>0.20606061</td><td>0.13474445</td><td>0.15504847</td><td>-1</td></tr>\n",
       "\t<tr><th scope=row>6</th><td>2196</td><td>3274</td><td>2</td><td>0.8067</td><td> -14.016</td><td> 0.004872608</td><td> 0.08484848</td><td>-0.09175883</td><td>-0.01919559</td><td>0.004872608</td><td>0.08484848</td><td>0.09175883</td><td>0.01919559</td><td> 1</td></tr>\n",
       "</tbody>\n",
       "</table>\n"
      ],
      "text/latex": [
       "A data.frame: 6 × 14\n",
       "\\begin{tabular}{r|llllllllllllll}\n",
       "  & CLUSTERID1 & CLUSTERID2 & ComponentIndex & Cosine & DeltaMZ & ChemProp2 & ChemProp\\_spearman & ChemProp\\_log & ChemProp\\_sqrt & abs\\_ChemProp2 & abs\\_ChemProp\\_spearman & abs\\_ChemProp\\_log & abs\\_ChemProp\\_sqrt & Sign\\_ChemProp2\\\\\n",
       "  & <int> & <int> & <int> & <dbl> & <dbl> & <dbl> & <dbl> & <dbl> & <dbl> & <dbl> & <dbl> & <dbl> & <dbl> & <dbl>\\\\\n",
       "\\hline\n",
       "\t1 & 4665 & 5180 & 1 & 0.7252 &   18.010 & -0.073046914 &  0.01756942 & -0.03184384 & -0.04213830 & 0.073046914 & 0.01756942 & 0.03184384 & 0.04213830 & -1\\\\\n",
       "\t2 & 2991 & 3274 & 2 & 0.8399 &    0.021 &  0.030177290 &  0.24466845 &  0.24839391 &  0.12227962 & 0.030177290 & 0.24466845 & 0.24839391 & 0.12227962 &  1\\\\\n",
       "\t3 & 2196 & 3549 & 2 & 0.8259 &  -48.000 &  0.202690210 &  0.29696970 &  0.07545058 &  0.18323522 & 0.202690210 & 0.29696970 & 0.07545058 & 0.18323522 &  1\\\\\n",
       "\t4 & 2991 & 3549 & 2 & 0.7675 &  -33.964 &  0.227994891 &  0.45678966 &  0.41560332 &  0.32471043 & 0.227994891 & 0.45678966 & 0.41560332 & 0.32471043 &  1\\\\\n",
       "\t5 & 3162 & 3549 & 2 & 0.7899 & -119.037 & -0.185295830 & -0.20606061 & -0.13474445 & -0.15504847 & 0.185295830 & 0.20606061 & 0.13474445 & 0.15504847 & -1\\\\\n",
       "\t6 & 2196 & 3274 & 2 & 0.8067 &  -14.016 &  0.004872608 &  0.08484848 & -0.09175883 & -0.01919559 & 0.004872608 & 0.08484848 & 0.09175883 & 0.01919559 &  1\\\\\n",
       "\\end{tabular}\n"
      ],
      "text/markdown": [
       "\n",
       "A data.frame: 6 × 14\n",
       "\n",
       "| <!--/--> | CLUSTERID1 &lt;int&gt; | CLUSTERID2 &lt;int&gt; | ComponentIndex &lt;int&gt; | Cosine &lt;dbl&gt; | DeltaMZ &lt;dbl&gt; | ChemProp2 &lt;dbl&gt; | ChemProp_spearman &lt;dbl&gt; | ChemProp_log &lt;dbl&gt; | ChemProp_sqrt &lt;dbl&gt; | abs_ChemProp2 &lt;dbl&gt; | abs_ChemProp_spearman &lt;dbl&gt; | abs_ChemProp_log &lt;dbl&gt; | abs_ChemProp_sqrt &lt;dbl&gt; | Sign_ChemProp2 &lt;dbl&gt; |\n",
       "|---|---|---|---|---|---|---|---|---|---|---|---|---|---|---|\n",
       "| 1 | 4665 | 5180 | 1 | 0.7252 |   18.010 | -0.073046914 |  0.01756942 | -0.03184384 | -0.04213830 | 0.073046914 | 0.01756942 | 0.03184384 | 0.04213830 | -1 |\n",
       "| 2 | 2991 | 3274 | 2 | 0.8399 |    0.021 |  0.030177290 |  0.24466845 |  0.24839391 |  0.12227962 | 0.030177290 | 0.24466845 | 0.24839391 | 0.12227962 |  1 |\n",
       "| 3 | 2196 | 3549 | 2 | 0.8259 |  -48.000 |  0.202690210 |  0.29696970 |  0.07545058 |  0.18323522 | 0.202690210 | 0.29696970 | 0.07545058 | 0.18323522 |  1 |\n",
       "| 4 | 2991 | 3549 | 2 | 0.7675 |  -33.964 |  0.227994891 |  0.45678966 |  0.41560332 |  0.32471043 | 0.227994891 | 0.45678966 | 0.41560332 | 0.32471043 |  1 |\n",
       "| 5 | 3162 | 3549 | 2 | 0.7899 | -119.037 | -0.185295830 | -0.20606061 | -0.13474445 | -0.15504847 | 0.185295830 | 0.20606061 | 0.13474445 | 0.15504847 | -1 |\n",
       "| 6 | 2196 | 3274 | 2 | 0.8067 |  -14.016 |  0.004872608 |  0.08484848 | -0.09175883 | -0.01919559 | 0.004872608 | 0.08484848 | 0.09175883 | 0.01919559 |  1 |\n",
       "\n"
      ],
      "text/plain": [
       "  CLUSTERID1 CLUSTERID2 ComponentIndex Cosine DeltaMZ  ChemProp2   \n",
       "1 4665       5180       1              0.7252   18.010 -0.073046914\n",
       "2 2991       3274       2              0.8399    0.021  0.030177290\n",
       "3 2196       3549       2              0.8259  -48.000  0.202690210\n",
       "4 2991       3549       2              0.7675  -33.964  0.227994891\n",
       "5 3162       3549       2              0.7899 -119.037 -0.185295830\n",
       "6 2196       3274       2              0.8067  -14.016  0.004872608\n",
       "  ChemProp_spearman ChemProp_log ChemProp_sqrt abs_ChemProp2\n",
       "1  0.01756942       -0.03184384  -0.04213830   0.073046914  \n",
       "2  0.24466845        0.24839391   0.12227962   0.030177290  \n",
       "3  0.29696970        0.07545058   0.18323522   0.202690210  \n",
       "4  0.45678966        0.41560332   0.32471043   0.227994891  \n",
       "5 -0.20606061       -0.13474445  -0.15504847   0.185295830  \n",
       "6  0.08484848       -0.09175883  -0.01919559   0.004872608  \n",
       "  abs_ChemProp_spearman abs_ChemProp_log abs_ChemProp_sqrt Sign_ChemProp2\n",
       "1 0.01756942            0.03184384       0.04213830        -1            \n",
       "2 0.24466845            0.24839391       0.12227962         1            \n",
       "3 0.29696970            0.07545058       0.18323522         1            \n",
       "4 0.45678966            0.41560332       0.32471043         1            \n",
       "5 0.20606061            0.13474445       0.15504847        -1            \n",
       "6 0.08484848            0.09175883       0.01919559         1            "
      ]
     },
     "metadata": {},
     "output_type": "display_data"
    }
   ],
   "source": [
    "head(Rep2_result)"
   ]
  },
  {
   "cell_type": "code",
   "execution_count": 372,
   "id": "49c9cb80-7fb5-4e0d-9042-bb073048da17",
   "metadata": {},
   "outputs": [],
   "source": [
    "write.csv(Rep2_result, paste0(fName,'/Rep2Alone_ChemProp2_scores.csv'),row.names =T)"
   ]
  },
  {
   "cell_type": "code",
   "execution_count": 300,
   "id": "94a35cf1-0cea-4d56-86d0-245b2302f154",
   "metadata": {},
   "outputs": [
    {
     "data": {
      "text/html": [
       "<style>\n",
       ".list-inline {list-style: none; margin:0; padding: 0}\n",
       ".list-inline>li {display: inline-block}\n",
       ".list-inline>li:not(:last-child)::after {content: \"\\00b7\"; padding: 0 .5ex}\n",
       "</style>\n",
       "<ol class=list-inline><li>2843</li><li>14</li></ol>\n"
      ],
      "text/latex": [
       "\\begin{enumerate*}\n",
       "\\item 2843\n",
       "\\item 14\n",
       "\\end{enumerate*}\n"
      ],
      "text/markdown": [
       "1. 2843\n",
       "2. 14\n",
       "\n",
       "\n"
      ],
      "text/plain": [
       "[1] 2843   14"
      ]
     },
     "metadata": {},
     "output_type": "display_data"
    },
    {
     "data": {
      "text/html": [
       "<style>\n",
       ".list-inline {list-style: none; margin:0; padding: 0}\n",
       ".list-inline>li {display: inline-block}\n",
       ".list-inline>li:not(:last-child)::after {content: \"\\00b7\"; padding: 0 .5ex}\n",
       "</style>\n",
       "<ol class=list-inline><li>2843</li><li>14</li></ol>\n"
      ],
      "text/latex": [
       "\\begin{enumerate*}\n",
       "\\item 2843\n",
       "\\item 14\n",
       "\\end{enumerate*}\n"
      ],
      "text/markdown": [
       "1. 2843\n",
       "2. 14\n",
       "\n",
       "\n"
      ],
      "text/plain": [
       "[1] 2843   14"
      ]
     },
     "metadata": {},
     "output_type": "display_data"
    }
   ],
   "source": [
    "dim(Rep1_result)\n",
    "dim(Rep2_result)"
   ]
  },
  {
   "cell_type": "code",
   "execution_count": 301,
   "id": "72a3bc32-2c33-425f-8f9d-3715ece16c90",
   "metadata": {},
   "outputs": [
    {
     "data": {
      "text/html": [
       "TRUE"
      ],
      "text/latex": [
       "TRUE"
      ],
      "text/markdown": [
       "TRUE"
      ],
      "text/plain": [
       "[1] TRUE"
      ]
     },
     "metadata": {},
     "output_type": "display_data"
    }
   ],
   "source": [
    "# Extract selected columns from the two dataframes\n",
    "columns_to_check <- c(\"CLUSTERID1\", \"CLUSTERID2\", \"ComponentIndex\", \"Cosine\", \"DeltaMZ\")\n",
    "df1 <- Rep1_result[columns_to_check]\n",
    "df2 <- Rep2_result[columns_to_check]\n",
    "\n",
    "# Check if selected columns are identical\n",
    "identical(df1, df2)"
   ]
  },
  {
   "cell_type": "code",
   "execution_count": 376,
   "id": "e3637959-1670-40a2-8d46-0a6b99ee70e5",
   "metadata": {},
   "outputs": [
    {
     "name": "stdout",
     "output_type": "stream",
     "text": [
      " [1] \"CLUSTERID1\"            \"CLUSTERID2\"            \"ComponentIndex\"       \n",
      " [4] \"Cosine\"                \"DeltaMZ\"               \"ChemProp2\"            \n",
      " [7] \"ChemProp_spearman\"     \"ChemProp_log\"          \"ChemProp_sqrt\"        \n",
      "[10] \"abs_ChemProp2\"         \"abs_ChemProp_spearman\" \"abs_ChemProp_log\"     \n",
      "[13] \"abs_ChemProp_sqrt\"     \"Sign_ChemProp2\"       \n"
     ]
    }
   ],
   "source": [
    "print(colnames(Rep1_result))"
   ]
  },
  {
   "cell_type": "code",
   "execution_count": 384,
   "id": "bdf611ce-4072-4b48-818d-8edd58f09895",
   "metadata": {},
   "outputs": [],
   "source": [
    "# Create a copy of Rep1_result for the combined dataframe\n",
    "combined_ChemProp <- Rep1_result[,1:5]\n",
    "\n",
    "# List of column names to calculate the mean and absolute value\n",
    "column_names <- c(\"ChemProp2\", \"ChemProp_spearman\", \"ChemProp_log\", \"ChemProp_sqrt\")\n",
    "\n",
    "# Calculate the mean value for each column\n",
    "for (j in column_names) {\n",
    "    combined_ChemProp[[j]] <- rowMeans(cbind(Rep1_result[[j]], Rep2_result[[j]]))\n",
    "}\n",
    "\n",
    "#Calculate the absolute value for each column\n",
    "for (j in column_names) {\n",
    "combined_ChemProp[[paste0(\"abs_\",  j)]] <- abs(combined_ChemProp[[j]])\n",
    "}\n",
    "\n",
    "# Calculate the sign for the ChemProp2 column\n",
    "combined_ChemProp$Sign_ChemProp2 <- sign(combined_ChemProp$ChemProp2)"
   ]
  },
  {
   "cell_type": "code",
   "execution_count": 385,
   "id": "9852593a-487d-4295-ace3-5a56de238372",
   "metadata": {},
   "outputs": [
    {
     "data": {
      "text/html": [
       "<table class=\"dataframe\">\n",
       "<caption>A data.frame: 6 × 14</caption>\n",
       "<thead>\n",
       "\t<tr><th></th><th scope=col>CLUSTERID1</th><th scope=col>CLUSTERID2</th><th scope=col>ComponentIndex</th><th scope=col>Cosine</th><th scope=col>DeltaMZ</th><th scope=col>ChemProp2</th><th scope=col>ChemProp_spearman</th><th scope=col>ChemProp_log</th><th scope=col>ChemProp_sqrt</th><th scope=col>abs_ChemProp2</th><th scope=col>abs_ChemProp_spearman</th><th scope=col>abs_ChemProp_log</th><th scope=col>abs_ChemProp_sqrt</th><th scope=col>Sign_ChemProp2</th></tr>\n",
       "\t<tr><th></th><th scope=col>&lt;int&gt;</th><th scope=col>&lt;int&gt;</th><th scope=col>&lt;int&gt;</th><th scope=col>&lt;dbl&gt;</th><th scope=col>&lt;dbl&gt;</th><th scope=col>&lt;dbl&gt;</th><th scope=col>&lt;dbl&gt;</th><th scope=col>&lt;dbl&gt;</th><th scope=col>&lt;dbl&gt;</th><th scope=col>&lt;dbl&gt;</th><th scope=col>&lt;dbl&gt;</th><th scope=col>&lt;dbl&gt;</th><th scope=col>&lt;dbl&gt;</th><th scope=col>&lt;dbl&gt;</th></tr>\n",
       "</thead>\n",
       "<tbody>\n",
       "\t<tr><th scope=row>1</th><td>4665</td><td>5180</td><td>1</td><td>0.7252</td><td>  18.010</td><td>-0.04881880</td><td> 0.02272411</td><td>-0.05422734</td><td>-0.05716322</td><td>0.04881880</td><td>0.02272411</td><td>0.05422734</td><td>0.05716322</td><td>-1</td></tr>\n",
       "\t<tr><th scope=row>2</th><td>2991</td><td>3274</td><td>2</td><td>0.8399</td><td>   0.021</td><td> 0.01373980</td><td> 0.16296386</td><td> 0.15343227</td><td> 0.07620533</td><td>0.01373980</td><td>0.16296386</td><td>0.15343227</td><td>0.07620533</td><td> 1</td></tr>\n",
       "\t<tr><th scope=row>3</th><td>2196</td><td>3549</td><td>2</td><td>0.8259</td><td> -48.000</td><td> 0.22182011</td><td> 0.31212121</td><td> 0.17602430</td><td> 0.22528496</td><td>0.22182011</td><td>0.31212121</td><td>0.17602430</td><td>0.22528496</td><td> 1</td></tr>\n",
       "\t<tr><th scope=row>4</th><td>2991</td><td>3549</td><td>2</td><td>0.7675</td><td> -33.964</td><td> 0.21427022</td><td> 0.38114568</td><td> 0.35044492</td><td> 0.28703711</td><td>0.21427022</td><td>0.38114568</td><td>0.35044492</td><td>0.28703711</td><td> 1</td></tr>\n",
       "\t<tr><th scope=row>5</th><td>3162</td><td>3549</td><td>2</td><td>0.7899</td><td>-119.037</td><td>-0.27488078</td><td>-0.23636364</td><td>-0.19772967</td><td>-0.23428063</td><td>0.27488078</td><td>0.23636364</td><td>0.19772967</td><td>0.23428063</td><td>-1</td></tr>\n",
       "\t<tr><th scope=row>6</th><td>2196</td><td>3274</td><td>2</td><td>0.8067</td><td> -14.016</td><td> 0.02128969</td><td> 0.09393939</td><td>-0.02098835</td><td> 0.01445318</td><td>0.02128969</td><td>0.09393939</td><td>0.02098835</td><td>0.01445318</td><td> 1</td></tr>\n",
       "</tbody>\n",
       "</table>\n"
      ],
      "text/latex": [
       "A data.frame: 6 × 14\n",
       "\\begin{tabular}{r|llllllllllllll}\n",
       "  & CLUSTERID1 & CLUSTERID2 & ComponentIndex & Cosine & DeltaMZ & ChemProp2 & ChemProp\\_spearman & ChemProp\\_log & ChemProp\\_sqrt & abs\\_ChemProp2 & abs\\_ChemProp\\_spearman & abs\\_ChemProp\\_log & abs\\_ChemProp\\_sqrt & Sign\\_ChemProp2\\\\\n",
       "  & <int> & <int> & <int> & <dbl> & <dbl> & <dbl> & <dbl> & <dbl> & <dbl> & <dbl> & <dbl> & <dbl> & <dbl> & <dbl>\\\\\n",
       "\\hline\n",
       "\t1 & 4665 & 5180 & 1 & 0.7252 &   18.010 & -0.04881880 &  0.02272411 & -0.05422734 & -0.05716322 & 0.04881880 & 0.02272411 & 0.05422734 & 0.05716322 & -1\\\\\n",
       "\t2 & 2991 & 3274 & 2 & 0.8399 &    0.021 &  0.01373980 &  0.16296386 &  0.15343227 &  0.07620533 & 0.01373980 & 0.16296386 & 0.15343227 & 0.07620533 &  1\\\\\n",
       "\t3 & 2196 & 3549 & 2 & 0.8259 &  -48.000 &  0.22182011 &  0.31212121 &  0.17602430 &  0.22528496 & 0.22182011 & 0.31212121 & 0.17602430 & 0.22528496 &  1\\\\\n",
       "\t4 & 2991 & 3549 & 2 & 0.7675 &  -33.964 &  0.21427022 &  0.38114568 &  0.35044492 &  0.28703711 & 0.21427022 & 0.38114568 & 0.35044492 & 0.28703711 &  1\\\\\n",
       "\t5 & 3162 & 3549 & 2 & 0.7899 & -119.037 & -0.27488078 & -0.23636364 & -0.19772967 & -0.23428063 & 0.27488078 & 0.23636364 & 0.19772967 & 0.23428063 & -1\\\\\n",
       "\t6 & 2196 & 3274 & 2 & 0.8067 &  -14.016 &  0.02128969 &  0.09393939 & -0.02098835 &  0.01445318 & 0.02128969 & 0.09393939 & 0.02098835 & 0.01445318 &  1\\\\\n",
       "\\end{tabular}\n"
      ],
      "text/markdown": [
       "\n",
       "A data.frame: 6 × 14\n",
       "\n",
       "| <!--/--> | CLUSTERID1 &lt;int&gt; | CLUSTERID2 &lt;int&gt; | ComponentIndex &lt;int&gt; | Cosine &lt;dbl&gt; | DeltaMZ &lt;dbl&gt; | ChemProp2 &lt;dbl&gt; | ChemProp_spearman &lt;dbl&gt; | ChemProp_log &lt;dbl&gt; | ChemProp_sqrt &lt;dbl&gt; | abs_ChemProp2 &lt;dbl&gt; | abs_ChemProp_spearman &lt;dbl&gt; | abs_ChemProp_log &lt;dbl&gt; | abs_ChemProp_sqrt &lt;dbl&gt; | Sign_ChemProp2 &lt;dbl&gt; |\n",
       "|---|---|---|---|---|---|---|---|---|---|---|---|---|---|---|\n",
       "| 1 | 4665 | 5180 | 1 | 0.7252 |   18.010 | -0.04881880 |  0.02272411 | -0.05422734 | -0.05716322 | 0.04881880 | 0.02272411 | 0.05422734 | 0.05716322 | -1 |\n",
       "| 2 | 2991 | 3274 | 2 | 0.8399 |    0.021 |  0.01373980 |  0.16296386 |  0.15343227 |  0.07620533 | 0.01373980 | 0.16296386 | 0.15343227 | 0.07620533 |  1 |\n",
       "| 3 | 2196 | 3549 | 2 | 0.8259 |  -48.000 |  0.22182011 |  0.31212121 |  0.17602430 |  0.22528496 | 0.22182011 | 0.31212121 | 0.17602430 | 0.22528496 |  1 |\n",
       "| 4 | 2991 | 3549 | 2 | 0.7675 |  -33.964 |  0.21427022 |  0.38114568 |  0.35044492 |  0.28703711 | 0.21427022 | 0.38114568 | 0.35044492 | 0.28703711 |  1 |\n",
       "| 5 | 3162 | 3549 | 2 | 0.7899 | -119.037 | -0.27488078 | -0.23636364 | -0.19772967 | -0.23428063 | 0.27488078 | 0.23636364 | 0.19772967 | 0.23428063 | -1 |\n",
       "| 6 | 2196 | 3274 | 2 | 0.8067 |  -14.016 |  0.02128969 |  0.09393939 | -0.02098835 |  0.01445318 | 0.02128969 | 0.09393939 | 0.02098835 | 0.01445318 |  1 |\n",
       "\n"
      ],
      "text/plain": [
       "  CLUSTERID1 CLUSTERID2 ComponentIndex Cosine DeltaMZ  ChemProp2  \n",
       "1 4665       5180       1              0.7252   18.010 -0.04881880\n",
       "2 2991       3274       2              0.8399    0.021  0.01373980\n",
       "3 2196       3549       2              0.8259  -48.000  0.22182011\n",
       "4 2991       3549       2              0.7675  -33.964  0.21427022\n",
       "5 3162       3549       2              0.7899 -119.037 -0.27488078\n",
       "6 2196       3274       2              0.8067  -14.016  0.02128969\n",
       "  ChemProp_spearman ChemProp_log ChemProp_sqrt abs_ChemProp2\n",
       "1  0.02272411       -0.05422734  -0.05716322   0.04881880   \n",
       "2  0.16296386        0.15343227   0.07620533   0.01373980   \n",
       "3  0.31212121        0.17602430   0.22528496   0.22182011   \n",
       "4  0.38114568        0.35044492   0.28703711   0.21427022   \n",
       "5 -0.23636364       -0.19772967  -0.23428063   0.27488078   \n",
       "6  0.09393939       -0.02098835   0.01445318   0.02128969   \n",
       "  abs_ChemProp_spearman abs_ChemProp_log abs_ChemProp_sqrt Sign_ChemProp2\n",
       "1 0.02272411            0.05422734       0.05716322        -1            \n",
       "2 0.16296386            0.15343227       0.07620533         1            \n",
       "3 0.31212121            0.17602430       0.22528496         1            \n",
       "4 0.38114568            0.35044492       0.28703711         1            \n",
       "5 0.23636364            0.19772967       0.23428063        -1            \n",
       "6 0.09393939            0.02098835       0.01445318         1            "
      ]
     },
     "metadata": {},
     "output_type": "display_data"
    }
   ],
   "source": [
    "head(combined_ChemProp)"
   ]
  },
  {
   "cell_type": "code",
   "execution_count": 386,
   "id": "0a18920e-73a1-4131-8888-3bad0e4e364b",
   "metadata": {},
   "outputs": [],
   "source": [
    "write.csv(combined_ChemProp, paste0(fName,'/Case2_Averaged_ChemProp2_scores.csv'),row.names =T)"
   ]
  },
  {
   "cell_type": "markdown",
   "id": "68736baf-ecc8-40d2-85d6-e77f567498b8",
   "metadata": {},
   "source": [
    "### 3. Get averaged value of Replicates and perform ChemProp2:"
   ]
  },
  {
   "cell_type": "code",
   "execution_count": 320,
   "id": "84c89e38-b6e0-4711-902a-fb6ad01dde9a",
   "metadata": {},
   "outputs": [
    {
     "data": {
      "text/html": [
       "<table class=\"dataframe\">\n",
       "<caption>A data.frame: 3 × 1</caption>\n",
       "<thead>\n",
       "\t<tr><th></th><th scope=col>ATTRIBUTE_timepoint_minutes</th></tr>\n",
       "\t<tr><th></th><th scope=col>&lt;dbl&gt;</th></tr>\n",
       "</thead>\n",
       "<tbody>\n",
       "\t<tr><th scope=row>Avr_Bac_Rep1_t0.mzML</th><td> 0</td></tr>\n",
       "\t<tr><th scope=row>Avr_Bac_Rep1_t1.mzML</th><td> 1</td></tr>\n",
       "\t<tr><th scope=row>Avr_Bac_Rep1_t10.mzML</th><td>10</td></tr>\n",
       "</tbody>\n",
       "</table>\n"
      ],
      "text/latex": [
       "A data.frame: 3 × 1\n",
       "\\begin{tabular}{r|l}\n",
       "  & ATTRIBUTE\\_timepoint\\_minutes\\\\\n",
       "  & <dbl>\\\\\n",
       "\\hline\n",
       "\tAvr\\_Bac\\_Rep1\\_t0.mzML &  0\\\\\n",
       "\tAvr\\_Bac\\_Rep1\\_t1.mzML &  1\\\\\n",
       "\tAvr\\_Bac\\_Rep1\\_t10.mzML & 10\\\\\n",
       "\\end{tabular}\n"
      ],
      "text/markdown": [
       "\n",
       "A data.frame: 3 × 1\n",
       "\n",
       "| <!--/--> | ATTRIBUTE_timepoint_minutes &lt;dbl&gt; |\n",
       "|---|---|\n",
       "| Avr_Bac_Rep1_t0.mzML |  0 |\n",
       "| Avr_Bac_Rep1_t1.mzML |  1 |\n",
       "| Avr_Bac_Rep1_t10.mzML | 10 |\n",
       "\n"
      ],
      "text/plain": [
       "                      ATTRIBUTE_timepoint_minutes\n",
       "Avr_Bac_Rep1_t0.mzML   0                         \n",
       "Avr_Bac_Rep1_t1.mzML   1                         \n",
       "Avr_Bac_Rep1_t10.mzML 10                         "
      ]
     },
     "metadata": {},
     "output_type": "display_data"
    },
    {
     "name": "stderr",
     "output_type": "stream",
     "text": [
      "The number of rows and columns in Meta_ChemProp column is: 20 x 1\n",
      "\n",
      "\n",
      "The levels in the Meta_ChemProp column is:0, 1, 10, 20, 30, 60, 120, 180, 240, 720\n",
      "\n"
     ]
    }
   ],
   "source": [
    "case3_md <- new_md %>% filter(ATTRIBUTE_sample == \"Avermectin + Gut bacteria\",\n",
    "                                    ATTRIBUTE_replicates != \"3\")\n",
    "\n",
    "case3_md_ChemProp <- invisible(prepare_meta_chemprop(subset_md = case3_md, new_md, md_sequence=4)) #here 4 is the column number of ATTRIBUTE_time_point"
   ]
  },
  {
   "cell_type": "code",
   "execution_count": 321,
   "id": "a7881fe0-f4cb-4023-bc68-b8cd4f53d17c",
   "metadata": {},
   "outputs": [
    {
     "data": {
      "text/html": [
       "<table class=\"dataframe\">\n",
       "<caption>A data.frame: 4 × 5</caption>\n",
       "<thead>\n",
       "\t<tr><th scope=col>INDEX</th><th scope=col>ATTRIBUTES</th><th scope=col>LEVELS</th><th scope=col>COUNT</th><th scope=col>ATTRIBUTE_CLASS</th></tr>\n",
       "\t<tr><th scope=col>&lt;int&gt;</th><th scope=col>&lt;chr&gt;</th><th scope=col>&lt;chr&gt;</th><th scope=col>&lt;chr&gt;</th><th scope=col>&lt;chr&gt;</th></tr>\n",
       "</thead>\n",
       "<tbody>\n",
       "\t<tr><td>1</td><td>filename                   </td><td>Avr_Bac_Rep1_t0.mzML, Avr_Bac_Rep1_t1.mzML, Avr_Bac_Rep1_t10.mzML, Avr_Bac_Rep1_t120.mzML, Avr_Bac_Rep1_t180.mzML, Avr_Bac_Rep1_t20.mzML, Avr_Bac_Rep1_t240.mzML, Avr_Bac_Rep1_t30.mzML, Avr_Bac_Rep1_t60.mzML, Avr_Bac_Rep1_t720.mzML, Avr_Bac_Rep2_t0.mzML, Avr_Bac_Rep2_t1.mzML, Avr_Bac_Rep2_t10.mzML, Avr_Bac_Rep2_t120.mzML, Avr_Bac_Rep2_t180.mzML, Avr_Bac_Rep2_t20.mzML, Avr_Bac_Rep2_t240.mzML, Avr_Bac_Rep2_t30.mzML, Avr_Bac_Rep2_t60.mzML, Avr_Bac_Rep2_t720.mzML</td><td>1, 1, 1, 1, 1, 1, 1, 1, 1, 1, 1, 1, 1, 1, 1, 1, 1, 1, 1, 1</td><td>character</td></tr>\n",
       "\t<tr><td>2</td><td>ATTRIBUTE_sample           </td><td>Avermectin + Gut bacteria                                                                                                                                                                                                                                                                                                                                                                                                                                                     </td><td>20                                                        </td><td>character</td></tr>\n",
       "\t<tr><td>3</td><td>ATTRIBUTE_replicates       </td><td>1, 2                                                                                                                                                                                                                                                                                                                                                                                                                                                                          </td><td>10, 10                                                    </td><td>character</td></tr>\n",
       "\t<tr><td>4</td><td>ATTRIBUTE_timepoint_minutes</td><td>0, 1, 10, 120, 180, 20, 240, 30, 60, 720                                                                                                                                                                                                                                                                                                                                                                                                                                      </td><td>2, 2, 2, 2, 2, 2, 2, 2, 2, 2                              </td><td>character</td></tr>\n",
       "</tbody>\n",
       "</table>\n"
      ],
      "text/latex": [
       "A data.frame: 4 × 5\n",
       "\\begin{tabular}{lllll}\n",
       " INDEX & ATTRIBUTES & LEVELS & COUNT & ATTRIBUTE\\_CLASS\\\\\n",
       " <int> & <chr> & <chr> & <chr> & <chr>\\\\\n",
       "\\hline\n",
       "\t 1 & filename                    & Avr\\_Bac\\_Rep1\\_t0.mzML, Avr\\_Bac\\_Rep1\\_t1.mzML, Avr\\_Bac\\_Rep1\\_t10.mzML, Avr\\_Bac\\_Rep1\\_t120.mzML, Avr\\_Bac\\_Rep1\\_t180.mzML, Avr\\_Bac\\_Rep1\\_t20.mzML, Avr\\_Bac\\_Rep1\\_t240.mzML, Avr\\_Bac\\_Rep1\\_t30.mzML, Avr\\_Bac\\_Rep1\\_t60.mzML, Avr\\_Bac\\_Rep1\\_t720.mzML, Avr\\_Bac\\_Rep2\\_t0.mzML, Avr\\_Bac\\_Rep2\\_t1.mzML, Avr\\_Bac\\_Rep2\\_t10.mzML, Avr\\_Bac\\_Rep2\\_t120.mzML, Avr\\_Bac\\_Rep2\\_t180.mzML, Avr\\_Bac\\_Rep2\\_t20.mzML, Avr\\_Bac\\_Rep2\\_t240.mzML, Avr\\_Bac\\_Rep2\\_t30.mzML, Avr\\_Bac\\_Rep2\\_t60.mzML, Avr\\_Bac\\_Rep2\\_t720.mzML & 1, 1, 1, 1, 1, 1, 1, 1, 1, 1, 1, 1, 1, 1, 1, 1, 1, 1, 1, 1 & character\\\\\n",
       "\t 2 & ATTRIBUTE\\_sample            & Avermectin + Gut bacteria                                                                                                                                                                                                                                                                                                                                                                                                                                                      & 20                                                         & character\\\\\n",
       "\t 3 & ATTRIBUTE\\_replicates        & 1, 2                                                                                                                                                                                                                                                                                                                                                                                                                                                                           & 10, 10                                                     & character\\\\\n",
       "\t 4 & ATTRIBUTE\\_timepoint\\_minutes & 0, 1, 10, 120, 180, 20, 240, 30, 60, 720                                                                                                                                                                                                                                                                                                                                                                                                                                       & 2, 2, 2, 2, 2, 2, 2, 2, 2, 2                               & character\\\\\n",
       "\\end{tabular}\n"
      ],
      "text/markdown": [
       "\n",
       "A data.frame: 4 × 5\n",
       "\n",
       "| INDEX &lt;int&gt; | ATTRIBUTES &lt;chr&gt; | LEVELS &lt;chr&gt; | COUNT &lt;chr&gt; | ATTRIBUTE_CLASS &lt;chr&gt; |\n",
       "|---|---|---|---|---|\n",
       "| 1 | filename                    | Avr_Bac_Rep1_t0.mzML, Avr_Bac_Rep1_t1.mzML, Avr_Bac_Rep1_t10.mzML, Avr_Bac_Rep1_t120.mzML, Avr_Bac_Rep1_t180.mzML, Avr_Bac_Rep1_t20.mzML, Avr_Bac_Rep1_t240.mzML, Avr_Bac_Rep1_t30.mzML, Avr_Bac_Rep1_t60.mzML, Avr_Bac_Rep1_t720.mzML, Avr_Bac_Rep2_t0.mzML, Avr_Bac_Rep2_t1.mzML, Avr_Bac_Rep2_t10.mzML, Avr_Bac_Rep2_t120.mzML, Avr_Bac_Rep2_t180.mzML, Avr_Bac_Rep2_t20.mzML, Avr_Bac_Rep2_t240.mzML, Avr_Bac_Rep2_t30.mzML, Avr_Bac_Rep2_t60.mzML, Avr_Bac_Rep2_t720.mzML | 1, 1, 1, 1, 1, 1, 1, 1, 1, 1, 1, 1, 1, 1, 1, 1, 1, 1, 1, 1 | character |\n",
       "| 2 | ATTRIBUTE_sample            | Avermectin + Gut bacteria                                                                                                                                                                                                                                                                                                                                                                                                                                                      | 20                                                         | character |\n",
       "| 3 | ATTRIBUTE_replicates        | 1, 2                                                                                                                                                                                                                                                                                                                                                                                                                                                                           | 10, 10                                                     | character |\n",
       "| 4 | ATTRIBUTE_timepoint_minutes | 0, 1, 10, 120, 180, 20, 240, 30, 60, 720                                                                                                                                                                                                                                                                                                                                                                                                                                       | 2, 2, 2, 2, 2, 2, 2, 2, 2, 2                               | character |\n",
       "\n"
      ],
      "text/plain": [
       "  INDEX ATTRIBUTES                 \n",
       "1 1     filename                   \n",
       "2 2     ATTRIBUTE_sample           \n",
       "3 3     ATTRIBUTE_replicates       \n",
       "4 4     ATTRIBUTE_timepoint_minutes\n",
       "  LEVELS                                                                                                                                                                                                                                                                                                                                                                                                                                                                        \n",
       "1 Avr_Bac_Rep1_t0.mzML, Avr_Bac_Rep1_t1.mzML, Avr_Bac_Rep1_t10.mzML, Avr_Bac_Rep1_t120.mzML, Avr_Bac_Rep1_t180.mzML, Avr_Bac_Rep1_t20.mzML, Avr_Bac_Rep1_t240.mzML, Avr_Bac_Rep1_t30.mzML, Avr_Bac_Rep1_t60.mzML, Avr_Bac_Rep1_t720.mzML, Avr_Bac_Rep2_t0.mzML, Avr_Bac_Rep2_t1.mzML, Avr_Bac_Rep2_t10.mzML, Avr_Bac_Rep2_t120.mzML, Avr_Bac_Rep2_t180.mzML, Avr_Bac_Rep2_t20.mzML, Avr_Bac_Rep2_t240.mzML, Avr_Bac_Rep2_t30.mzML, Avr_Bac_Rep2_t60.mzML, Avr_Bac_Rep2_t720.mzML\n",
       "2 Avermectin + Gut bacteria                                                                                                                                                                                                                                                                                                                                                                                                                                                     \n",
       "3 1, 2                                                                                                                                                                                                                                                                                                                                                                                                                                                                          \n",
       "4 0, 1, 10, 120, 180, 20, 240, 30, 60, 720                                                                                                                                                                                                                                                                                                                                                                                                                                      \n",
       "  COUNT                                                      ATTRIBUTE_CLASS\n",
       "1 1, 1, 1, 1, 1, 1, 1, 1, 1, 1, 1, 1, 1, 1, 1, 1, 1, 1, 1, 1 character      \n",
       "2 20                                                         character      \n",
       "3 10, 10                                                     character      \n",
       "4 2, 2, 2, 2, 2, 2, 2, 2, 2, 2                               character      "
      ]
     },
     "metadata": {},
     "output_type": "display_data"
    }
   ],
   "source": [
    "InsideLevels(case3_md)"
   ]
  },
  {
   "cell_type": "code",
   "execution_count": 323,
   "id": "9c61bff1-920b-4989-9fa6-508b4e96fcce",
   "metadata": {},
   "outputs": [
    {
     "data": {
      "text/html": [
       "<table class=\"dataframe\">\n",
       "<caption>A data.frame: 6 × 3412</caption>\n",
       "<thead>\n",
       "\t<tr><th></th><th scope=col>X2_285.01_0.026_NA</th><th scope=col>X4_166.123_0.054_NA</th><th scope=col>X5_227.04_0.023_NA</th><th scope=col>X6_223.084_0.078_NA</th><th scope=col>X7_207.032_0.096_NA</th><th scope=col>X8_209.048_0.149_NA</th><th scope=col>X13_248.059_0.067_NA</th><th scope=col>X14_300.062_0.14_NA</th><th scope=col>X20_267.035_0.094_NA</th><th scope=col>X22_209.031_0.103_NA</th><th scope=col>...</th><th scope=col>X7570_371.101_8.9_Spectral.Match.to.Cyclopentasiloxane..decamethyl..from.NIST14</th><th scope=col>X7574_166.123_8.912_NA</th><th scope=col>X7576_207.032_8.933_NA</th><th scope=col>X7580_227.04_8.942_NA</th><th scope=col>X7582_226.043_8.944_NA</th><th scope=col>X7585_300.062_8.895_NA</th><th scope=col>X7588_188.092_8.931_NA</th><th scope=col>X7599_175.913_8.948_NA</th><th scope=col>X7607_272.929_8.945_NA</th><th scope=col>X7608_276.935_8.948_NA</th></tr>\n",
       "\t<tr><th></th><th scope=col>&lt;dbl&gt;</th><th scope=col>&lt;dbl&gt;</th><th scope=col>&lt;dbl&gt;</th><th scope=col>&lt;dbl&gt;</th><th scope=col>&lt;dbl&gt;</th><th scope=col>&lt;dbl&gt;</th><th scope=col>&lt;dbl&gt;</th><th scope=col>&lt;dbl&gt;</th><th scope=col>&lt;dbl&gt;</th><th scope=col>&lt;dbl&gt;</th><th scope=col>...</th><th scope=col>&lt;dbl&gt;</th><th scope=col>&lt;dbl&gt;</th><th scope=col>&lt;dbl&gt;</th><th scope=col>&lt;dbl&gt;</th><th scope=col>&lt;dbl&gt;</th><th scope=col>&lt;dbl&gt;</th><th scope=col>&lt;dbl&gt;</th><th scope=col>&lt;dbl&gt;</th><th scope=col>&lt;dbl&gt;</th><th scope=col>&lt;dbl&gt;</th></tr>\n",
       "</thead>\n",
       "<tbody>\n",
       "\t<tr><th scope=row>Avr_Bac_Rep1_t0.mzML</th><td> 9121.137</td><td> 8585.590</td><td> 4739.735</td><td>4993.8193</td><td>277412.66</td><td>284921.84</td><td>15773.963</td><td>26200.02</td><td>35928.750</td><td> 2344.3015</td><td>...</td><td>88692.57</td><td>41169.8630</td><td>404023.16</td><td> 71099.310</td><td>118227.420</td><td>202519.78</td><td>77821.67</td><td>0</td><td>  0.000</td><td>0</td></tr>\n",
       "\t<tr><th scope=row>Avr_Bac_Rep1_t1.mzML</th><td>18667.346</td><td>67654.586</td><td>47169.016</td><td> 933.2120</td><td> 45147.84</td><td> 45506.29</td><td>17384.234</td><td>25071.03</td><td>37784.785</td><td> 5642.0100</td><td>...</td><td>12294.03</td><td>  583.6107</td><td>149986.89</td><td> 14805.444</td><td>  6482.815</td><td> 92694.00</td><td>23892.14</td><td>0</td><td>229.752</td><td>0</td></tr>\n",
       "\t<tr><th scope=row>Avr_Bac_Rep1_t10.mzML</th><td>25429.777</td><td> 1015.399</td><td>40111.543</td><td> 584.7465</td><td> 26532.36</td><td> 80316.74</td><td> 4655.406</td><td>45884.57</td><td> 9347.388</td><td>  370.4404</td><td>...</td><td>89136.30</td><td>17914.6720</td><td>375890.47</td><td>149315.520</td><td> 76691.830</td><td>197675.84</td><td>77878.05</td><td>0</td><td>  0.000</td><td>0</td></tr>\n",
       "\t<tr><th scope=row>Avr_Bac_Rep1_t120.mzML</th><td>27301.236</td><td>18595.920</td><td>41518.715</td><td>5018.8496</td><td>315136.72</td><td> 95323.01</td><td>20420.691</td><td>41566.60</td><td>39559.210</td><td> 6991.6772</td><td>...</td><td>90454.90</td><td>30330.6110</td><td>415146.30</td><td> 65725.700</td><td>121881.580</td><td>201129.17</td><td>80747.99</td><td>0</td><td>  0.000</td><td>0</td></tr>\n",
       "\t<tr><th scope=row>Avr_Bac_Rep1_t180.mzML</th><td> 2013.300</td><td> 7988.774</td><td>62059.920</td><td>2562.4202</td><td> 48802.86</td><td> 58428.97</td><td> 6983.032</td><td>28648.47</td><td>40181.777</td><td> 1149.6554</td><td>...</td><td>25554.42</td><td>  582.0281</td><td>134631.45</td><td>  4735.077</td><td> 52773.402</td><td> 77070.30</td><td>17369.86</td><td>0</td><td>  0.000</td><td>0</td></tr>\n",
       "\t<tr><th scope=row>Avr_Bac_Rep1_t20.mzML</th><td>24217.570</td><td>24399.871</td><td>10455.167</td><td>1124.1868</td><td>299953.34</td><td> 54777.56</td><td> 2815.054</td><td>29214.45</td><td>30765.969</td><td>10829.3730</td><td>...</td><td>56148.76</td><td>  981.9916</td><td> 96594.13</td><td>  3818.379</td><td> 21382.110</td><td> 18258.64</td><td>25608.76</td><td>0</td><td>  0.000</td><td>0</td></tr>\n",
       "</tbody>\n",
       "</table>\n"
      ],
      "text/latex": [
       "A data.frame: 6 × 3412\n",
       "\\begin{tabular}{r|lllllllllllllllllllll}\n",
       "  & X2\\_285.01\\_0.026\\_NA & X4\\_166.123\\_0.054\\_NA & X5\\_227.04\\_0.023\\_NA & X6\\_223.084\\_0.078\\_NA & X7\\_207.032\\_0.096\\_NA & X8\\_209.048\\_0.149\\_NA & X13\\_248.059\\_0.067\\_NA & X14\\_300.062\\_0.14\\_NA & X20\\_267.035\\_0.094\\_NA & X22\\_209.031\\_0.103\\_NA & ... & X7570\\_371.101\\_8.9\\_Spectral.Match.to.Cyclopentasiloxane..decamethyl..from.NIST14 & X7574\\_166.123\\_8.912\\_NA & X7576\\_207.032\\_8.933\\_NA & X7580\\_227.04\\_8.942\\_NA & X7582\\_226.043\\_8.944\\_NA & X7585\\_300.062\\_8.895\\_NA & X7588\\_188.092\\_8.931\\_NA & X7599\\_175.913\\_8.948\\_NA & X7607\\_272.929\\_8.945\\_NA & X7608\\_276.935\\_8.948\\_NA\\\\\n",
       "  & <dbl> & <dbl> & <dbl> & <dbl> & <dbl> & <dbl> & <dbl> & <dbl> & <dbl> & <dbl> & ... & <dbl> & <dbl> & <dbl> & <dbl> & <dbl> & <dbl> & <dbl> & <dbl> & <dbl> & <dbl>\\\\\n",
       "\\hline\n",
       "\tAvr\\_Bac\\_Rep1\\_t0.mzML &  9121.137 &  8585.590 &  4739.735 & 4993.8193 & 277412.66 & 284921.84 & 15773.963 & 26200.02 & 35928.750 &  2344.3015 & ... & 88692.57 & 41169.8630 & 404023.16 &  71099.310 & 118227.420 & 202519.78 & 77821.67 & 0 &   0.000 & 0\\\\\n",
       "\tAvr\\_Bac\\_Rep1\\_t1.mzML & 18667.346 & 67654.586 & 47169.016 &  933.2120 &  45147.84 &  45506.29 & 17384.234 & 25071.03 & 37784.785 &  5642.0100 & ... & 12294.03 &   583.6107 & 149986.89 &  14805.444 &   6482.815 &  92694.00 & 23892.14 & 0 & 229.752 & 0\\\\\n",
       "\tAvr\\_Bac\\_Rep1\\_t10.mzML & 25429.777 &  1015.399 & 40111.543 &  584.7465 &  26532.36 &  80316.74 &  4655.406 & 45884.57 &  9347.388 &   370.4404 & ... & 89136.30 & 17914.6720 & 375890.47 & 149315.520 &  76691.830 & 197675.84 & 77878.05 & 0 &   0.000 & 0\\\\\n",
       "\tAvr\\_Bac\\_Rep1\\_t120.mzML & 27301.236 & 18595.920 & 41518.715 & 5018.8496 & 315136.72 &  95323.01 & 20420.691 & 41566.60 & 39559.210 &  6991.6772 & ... & 90454.90 & 30330.6110 & 415146.30 &  65725.700 & 121881.580 & 201129.17 & 80747.99 & 0 &   0.000 & 0\\\\\n",
       "\tAvr\\_Bac\\_Rep1\\_t180.mzML &  2013.300 &  7988.774 & 62059.920 & 2562.4202 &  48802.86 &  58428.97 &  6983.032 & 28648.47 & 40181.777 &  1149.6554 & ... & 25554.42 &   582.0281 & 134631.45 &   4735.077 &  52773.402 &  77070.30 & 17369.86 & 0 &   0.000 & 0\\\\\n",
       "\tAvr\\_Bac\\_Rep1\\_t20.mzML & 24217.570 & 24399.871 & 10455.167 & 1124.1868 & 299953.34 &  54777.56 &  2815.054 & 29214.45 & 30765.969 & 10829.3730 & ... & 56148.76 &   981.9916 &  96594.13 &   3818.379 &  21382.110 &  18258.64 & 25608.76 & 0 &   0.000 & 0\\\\\n",
       "\\end{tabular}\n"
      ],
      "text/markdown": [
       "\n",
       "A data.frame: 6 × 3412\n",
       "\n",
       "| <!--/--> | X2_285.01_0.026_NA &lt;dbl&gt; | X4_166.123_0.054_NA &lt;dbl&gt; | X5_227.04_0.023_NA &lt;dbl&gt; | X6_223.084_0.078_NA &lt;dbl&gt; | X7_207.032_0.096_NA &lt;dbl&gt; | X8_209.048_0.149_NA &lt;dbl&gt; | X13_248.059_0.067_NA &lt;dbl&gt; | X14_300.062_0.14_NA &lt;dbl&gt; | X20_267.035_0.094_NA &lt;dbl&gt; | X22_209.031_0.103_NA &lt;dbl&gt; | ... ... | X7570_371.101_8.9_Spectral.Match.to.Cyclopentasiloxane..decamethyl..from.NIST14 &lt;dbl&gt; | X7574_166.123_8.912_NA &lt;dbl&gt; | X7576_207.032_8.933_NA &lt;dbl&gt; | X7580_227.04_8.942_NA &lt;dbl&gt; | X7582_226.043_8.944_NA &lt;dbl&gt; | X7585_300.062_8.895_NA &lt;dbl&gt; | X7588_188.092_8.931_NA &lt;dbl&gt; | X7599_175.913_8.948_NA &lt;dbl&gt; | X7607_272.929_8.945_NA &lt;dbl&gt; | X7608_276.935_8.948_NA &lt;dbl&gt; |\n",
       "|---|---|---|---|---|---|---|---|---|---|---|---|---|---|---|---|---|---|---|---|---|---|\n",
       "| Avr_Bac_Rep1_t0.mzML |  9121.137 |  8585.590 |  4739.735 | 4993.8193 | 277412.66 | 284921.84 | 15773.963 | 26200.02 | 35928.750 |  2344.3015 | ... | 88692.57 | 41169.8630 | 404023.16 |  71099.310 | 118227.420 | 202519.78 | 77821.67 | 0 |   0.000 | 0 |\n",
       "| Avr_Bac_Rep1_t1.mzML | 18667.346 | 67654.586 | 47169.016 |  933.2120 |  45147.84 |  45506.29 | 17384.234 | 25071.03 | 37784.785 |  5642.0100 | ... | 12294.03 |   583.6107 | 149986.89 |  14805.444 |   6482.815 |  92694.00 | 23892.14 | 0 | 229.752 | 0 |\n",
       "| Avr_Bac_Rep1_t10.mzML | 25429.777 |  1015.399 | 40111.543 |  584.7465 |  26532.36 |  80316.74 |  4655.406 | 45884.57 |  9347.388 |   370.4404 | ... | 89136.30 | 17914.6720 | 375890.47 | 149315.520 |  76691.830 | 197675.84 | 77878.05 | 0 |   0.000 | 0 |\n",
       "| Avr_Bac_Rep1_t120.mzML | 27301.236 | 18595.920 | 41518.715 | 5018.8496 | 315136.72 |  95323.01 | 20420.691 | 41566.60 | 39559.210 |  6991.6772 | ... | 90454.90 | 30330.6110 | 415146.30 |  65725.700 | 121881.580 | 201129.17 | 80747.99 | 0 |   0.000 | 0 |\n",
       "| Avr_Bac_Rep1_t180.mzML |  2013.300 |  7988.774 | 62059.920 | 2562.4202 |  48802.86 |  58428.97 |  6983.032 | 28648.47 | 40181.777 |  1149.6554 | ... | 25554.42 |   582.0281 | 134631.45 |   4735.077 |  52773.402 |  77070.30 | 17369.86 | 0 |   0.000 | 0 |\n",
       "| Avr_Bac_Rep1_t20.mzML | 24217.570 | 24399.871 | 10455.167 | 1124.1868 | 299953.34 |  54777.56 |  2815.054 | 29214.45 | 30765.969 | 10829.3730 | ... | 56148.76 |   981.9916 |  96594.13 |   3818.379 |  21382.110 |  18258.64 | 25608.76 | 0 |   0.000 | 0 |\n",
       "\n"
      ],
      "text/plain": [
       "                       X2_285.01_0.026_NA X4_166.123_0.054_NA\n",
       "Avr_Bac_Rep1_t0.mzML    9121.137           8585.590          \n",
       "Avr_Bac_Rep1_t1.mzML   18667.346          67654.586          \n",
       "Avr_Bac_Rep1_t10.mzML  25429.777           1015.399          \n",
       "Avr_Bac_Rep1_t120.mzML 27301.236          18595.920          \n",
       "Avr_Bac_Rep1_t180.mzML  2013.300           7988.774          \n",
       "Avr_Bac_Rep1_t20.mzML  24217.570          24399.871          \n",
       "                       X5_227.04_0.023_NA X6_223.084_0.078_NA\n",
       "Avr_Bac_Rep1_t0.mzML    4739.735          4993.8193          \n",
       "Avr_Bac_Rep1_t1.mzML   47169.016           933.2120          \n",
       "Avr_Bac_Rep1_t10.mzML  40111.543           584.7465          \n",
       "Avr_Bac_Rep1_t120.mzML 41518.715          5018.8496          \n",
       "Avr_Bac_Rep1_t180.mzML 62059.920          2562.4202          \n",
       "Avr_Bac_Rep1_t20.mzML  10455.167          1124.1868          \n",
       "                       X7_207.032_0.096_NA X8_209.048_0.149_NA\n",
       "Avr_Bac_Rep1_t0.mzML   277412.66           284921.84          \n",
       "Avr_Bac_Rep1_t1.mzML    45147.84            45506.29          \n",
       "Avr_Bac_Rep1_t10.mzML   26532.36            80316.74          \n",
       "Avr_Bac_Rep1_t120.mzML 315136.72            95323.01          \n",
       "Avr_Bac_Rep1_t180.mzML  48802.86            58428.97          \n",
       "Avr_Bac_Rep1_t20.mzML  299953.34            54777.56          \n",
       "                       X13_248.059_0.067_NA X14_300.062_0.14_NA\n",
       "Avr_Bac_Rep1_t0.mzML   15773.963            26200.02           \n",
       "Avr_Bac_Rep1_t1.mzML   17384.234            25071.03           \n",
       "Avr_Bac_Rep1_t10.mzML   4655.406            45884.57           \n",
       "Avr_Bac_Rep1_t120.mzML 20420.691            41566.60           \n",
       "Avr_Bac_Rep1_t180.mzML  6983.032            28648.47           \n",
       "Avr_Bac_Rep1_t20.mzML   2815.054            29214.45           \n",
       "                       X20_267.035_0.094_NA X22_209.031_0.103_NA ...\n",
       "Avr_Bac_Rep1_t0.mzML   35928.750             2344.3015           ...\n",
       "Avr_Bac_Rep1_t1.mzML   37784.785             5642.0100           ...\n",
       "Avr_Bac_Rep1_t10.mzML   9347.388              370.4404           ...\n",
       "Avr_Bac_Rep1_t120.mzML 39559.210             6991.6772           ...\n",
       "Avr_Bac_Rep1_t180.mzML 40181.777             1149.6554           ...\n",
       "Avr_Bac_Rep1_t20.mzML  30765.969            10829.3730           ...\n",
       "                       X7570_371.101_8.9_Spectral.Match.to.Cyclopentasiloxane..decamethyl..from.NIST14\n",
       "Avr_Bac_Rep1_t0.mzML   88692.57                                                                       \n",
       "Avr_Bac_Rep1_t1.mzML   12294.03                                                                       \n",
       "Avr_Bac_Rep1_t10.mzML  89136.30                                                                       \n",
       "Avr_Bac_Rep1_t120.mzML 90454.90                                                                       \n",
       "Avr_Bac_Rep1_t180.mzML 25554.42                                                                       \n",
       "Avr_Bac_Rep1_t20.mzML  56148.76                                                                       \n",
       "                       X7574_166.123_8.912_NA X7576_207.032_8.933_NA\n",
       "Avr_Bac_Rep1_t0.mzML   41169.8630             404023.16             \n",
       "Avr_Bac_Rep1_t1.mzML     583.6107             149986.89             \n",
       "Avr_Bac_Rep1_t10.mzML  17914.6720             375890.47             \n",
       "Avr_Bac_Rep1_t120.mzML 30330.6110             415146.30             \n",
       "Avr_Bac_Rep1_t180.mzML   582.0281             134631.45             \n",
       "Avr_Bac_Rep1_t20.mzML    981.9916              96594.13             \n",
       "                       X7580_227.04_8.942_NA X7582_226.043_8.944_NA\n",
       "Avr_Bac_Rep1_t0.mzML    71099.310            118227.420            \n",
       "Avr_Bac_Rep1_t1.mzML    14805.444              6482.815            \n",
       "Avr_Bac_Rep1_t10.mzML  149315.520             76691.830            \n",
       "Avr_Bac_Rep1_t120.mzML  65725.700            121881.580            \n",
       "Avr_Bac_Rep1_t180.mzML   4735.077             52773.402            \n",
       "Avr_Bac_Rep1_t20.mzML    3818.379             21382.110            \n",
       "                       X7585_300.062_8.895_NA X7588_188.092_8.931_NA\n",
       "Avr_Bac_Rep1_t0.mzML   202519.78              77821.67              \n",
       "Avr_Bac_Rep1_t1.mzML    92694.00              23892.14              \n",
       "Avr_Bac_Rep1_t10.mzML  197675.84              77878.05              \n",
       "Avr_Bac_Rep1_t120.mzML 201129.17              80747.99              \n",
       "Avr_Bac_Rep1_t180.mzML  77070.30              17369.86              \n",
       "Avr_Bac_Rep1_t20.mzML   18258.64              25608.76              \n",
       "                       X7599_175.913_8.948_NA X7607_272.929_8.945_NA\n",
       "Avr_Bac_Rep1_t0.mzML   0                        0.000               \n",
       "Avr_Bac_Rep1_t1.mzML   0                      229.752               \n",
       "Avr_Bac_Rep1_t10.mzML  0                        0.000               \n",
       "Avr_Bac_Rep1_t120.mzML 0                        0.000               \n",
       "Avr_Bac_Rep1_t180.mzML 0                        0.000               \n",
       "Avr_Bac_Rep1_t20.mzML  0                        0.000               \n",
       "                       X7608_276.935_8.948_NA\n",
       "Avr_Bac_Rep1_t0.mzML   0                     \n",
       "Avr_Bac_Rep1_t1.mzML   0                     \n",
       "Avr_Bac_Rep1_t10.mzML  0                     \n",
       "Avr_Bac_Rep1_t120.mzML 0                     \n",
       "Avr_Bac_Rep1_t180.mzML 0                     \n",
       "Avr_Bac_Rep1_t20.mzML  0                     "
      ]
     },
     "metadata": {},
     "output_type": "display_data"
    }
   ],
   "source": [
    "case3_ft <- new_ft[,which(colnames(new_ft)%in%case3_md$filename),drop=F] #subset the corresponding ft\n",
    "case3_ft <- data.frame(t(case3_ft)) # transpose it to combine with the md\n",
    "head(case3_ft)"
   ]
  },
  {
   "cell_type": "code",
   "execution_count": 324,
   "id": "bbefb0d2-2a88-493e-bcd9-42e8bb6fa6b1",
   "metadata": {},
   "outputs": [
    {
     "data": {
      "text/html": [
       "<table class=\"dataframe\">\n",
       "<caption>A data.frame: 20 × 3416</caption>\n",
       "<thead>\n",
       "\t<tr><th scope=col>filename</th><th scope=col>ATTRIBUTE_sample</th><th scope=col>ATTRIBUTE_replicates</th><th scope=col>ATTRIBUTE_timepoint_minutes</th><th scope=col>X2_285.01_0.026_NA</th><th scope=col>X4_166.123_0.054_NA</th><th scope=col>X5_227.04_0.023_NA</th><th scope=col>X6_223.084_0.078_NA</th><th scope=col>X7_207.032_0.096_NA</th><th scope=col>X8_209.048_0.149_NA</th><th scope=col>...</th><th scope=col>X7570_371.101_8.9_Spectral.Match.to.Cyclopentasiloxane..decamethyl..from.NIST14</th><th scope=col>X7574_166.123_8.912_NA</th><th scope=col>X7576_207.032_8.933_NA</th><th scope=col>X7580_227.04_8.942_NA</th><th scope=col>X7582_226.043_8.944_NA</th><th scope=col>X7585_300.062_8.895_NA</th><th scope=col>X7588_188.092_8.931_NA</th><th scope=col>X7599_175.913_8.948_NA</th><th scope=col>X7607_272.929_8.945_NA</th><th scope=col>X7608_276.935_8.948_NA</th></tr>\n",
       "\t<tr><th scope=col>&lt;chr&gt;</th><th scope=col>&lt;chr&gt;</th><th scope=col>&lt;chr&gt;</th><th scope=col>&lt;chr&gt;</th><th scope=col>&lt;dbl&gt;</th><th scope=col>&lt;dbl&gt;</th><th scope=col>&lt;dbl&gt;</th><th scope=col>&lt;dbl&gt;</th><th scope=col>&lt;dbl&gt;</th><th scope=col>&lt;dbl&gt;</th><th scope=col>...</th><th scope=col>&lt;dbl&gt;</th><th scope=col>&lt;dbl&gt;</th><th scope=col>&lt;dbl&gt;</th><th scope=col>&lt;dbl&gt;</th><th scope=col>&lt;dbl&gt;</th><th scope=col>&lt;dbl&gt;</th><th scope=col>&lt;dbl&gt;</th><th scope=col>&lt;dbl&gt;</th><th scope=col>&lt;dbl&gt;</th><th scope=col>&lt;dbl&gt;</th></tr>\n",
       "</thead>\n",
       "<tbody>\n",
       "\t<tr><td>Avr_Bac_Rep1_t0.mzML  </td><td>Avermectin + Gut bacteria</td><td>1</td><td>0  </td><td> 9121.137</td><td> 8585.590</td><td> 4739.735</td><td>4993.8193</td><td>277412.66</td><td>284921.84</td><td>...</td><td>88692.570</td><td> 41169.8630</td><td>404023.16</td><td> 71099.310</td><td>118227.420</td><td>202519.78</td><td>77821.67</td><td>0</td><td>  0.000</td><td>0</td></tr>\n",
       "\t<tr><td>Avr_Bac_Rep1_t1.mzML  </td><td>Avermectin + Gut bacteria</td><td>1</td><td>1  </td><td>18667.346</td><td>67654.586</td><td>47169.016</td><td> 933.2120</td><td> 45147.84</td><td> 45506.29</td><td>...</td><td>12294.029</td><td>   583.6107</td><td>149986.89</td><td> 14805.444</td><td>  6482.815</td><td> 92694.00</td><td>23892.14</td><td>0</td><td>229.752</td><td>0</td></tr>\n",
       "\t<tr><td>Avr_Bac_Rep1_t10.mzML </td><td>Avermectin + Gut bacteria</td><td>1</td><td>10 </td><td>25429.777</td><td> 1015.399</td><td>40111.543</td><td> 584.7465</td><td> 26532.36</td><td> 80316.74</td><td>...</td><td>89136.305</td><td> 17914.6720</td><td>375890.47</td><td>149315.520</td><td> 76691.830</td><td>197675.84</td><td>77878.05</td><td>0</td><td>  0.000</td><td>0</td></tr>\n",
       "\t<tr><td>Avr_Bac_Rep1_t120.mzML</td><td>Avermectin + Gut bacteria</td><td>1</td><td>120</td><td>27301.236</td><td>18595.920</td><td>41518.715</td><td>5018.8496</td><td>315136.72</td><td> 95323.01</td><td>...</td><td>90454.900</td><td> 30330.6110</td><td>415146.30</td><td> 65725.700</td><td>121881.580</td><td>201129.17</td><td>80747.99</td><td>0</td><td>  0.000</td><td>0</td></tr>\n",
       "\t<tr><td>Avr_Bac_Rep1_t180.mzML</td><td>Avermectin + Gut bacteria</td><td>1</td><td>180</td><td> 2013.300</td><td> 7988.774</td><td>62059.920</td><td>2562.4202</td><td> 48802.86</td><td> 58428.97</td><td>...</td><td>25554.418</td><td>   582.0281</td><td>134631.45</td><td>  4735.077</td><td> 52773.402</td><td> 77070.30</td><td>17369.86</td><td>0</td><td>  0.000</td><td>0</td></tr>\n",
       "\t<tr><td>Avr_Bac_Rep1_t20.mzML </td><td>Avermectin + Gut bacteria</td><td>1</td><td>20 </td><td>24217.570</td><td>24399.871</td><td>10455.167</td><td>1124.1868</td><td>299953.34</td><td> 54777.56</td><td>...</td><td>56148.760</td><td>   981.9916</td><td> 96594.13</td><td>  3818.379</td><td> 21382.110</td><td> 18258.64</td><td>25608.76</td><td>0</td><td>  0.000</td><td>0</td></tr>\n",
       "\t<tr><td>Avr_Bac_Rep1_t240.mzML</td><td>Avermectin + Gut bacteria</td><td>1</td><td>240</td><td>26353.895</td><td>24849.357</td><td>55855.168</td><td>1308.4764</td><td>311148.10</td><td>330467.78</td><td>...</td><td>89240.305</td><td> 64629.8120</td><td>410430.20</td><td> 70619.240</td><td>120356.086</td><td>206086.40</td><td>81148.58</td><td>0</td><td>  0.000</td><td>0</td></tr>\n",
       "\t<tr><td>Avr_Bac_Rep1_t30.mzML </td><td>Avermectin + Gut bacteria</td><td>1</td><td>30 </td><td>18983.656</td><td>10173.353</td><td>20212.295</td><td>1620.7507</td><td>209402.47</td><td>234668.55</td><td>...</td><td>89191.480</td><td> 10387.1080</td><td>397986.44</td><td> 69472.850</td><td>117828.390</td><td>201887.97</td><td>78890.84</td><td>0</td><td>  0.000</td><td>0</td></tr>\n",
       "\t<tr><td>Avr_Bac_Rep1_t60.mzML </td><td>Avermectin + Gut bacteria</td><td>1</td><td>60 </td><td>30068.717</td><td> 5813.840</td><td> 7875.372</td><td> 498.6828</td><td>303704.50</td><td> 57229.32</td><td>...</td><td>72086.020</td><td>   388.1049</td><td>120570.52</td><td> 10075.527</td><td> 17968.309</td><td>143938.33</td><td>40747.49</td><td>0</td><td>  0.000</td><td>0</td></tr>\n",
       "\t<tr><td>Avr_Bac_Rep1_t720.mzML</td><td>Avermectin + Gut bacteria</td><td>1</td><td>720</td><td>31323.818</td><td>64197.832</td><td>66344.490</td><td> 613.2769</td><td>329759.16</td><td> 55122.34</td><td>...</td><td>52991.656</td><td>   263.2274</td><td>167766.27</td><td>  2687.402</td><td> 49385.426</td><td> 67671.95</td><td>66840.66</td><td>0</td><td>  0.000</td><td>0</td></tr>\n",
       "\t<tr><td>Avr_Bac_Rep2_t0.mzML  </td><td>Avermectin + Gut bacteria</td><td>2</td><td>0  </td><td>25410.354</td><td>39053.590</td><td>62068.543</td><td>9932.8125</td><td>142347.27</td><td>332273.47</td><td>...</td><td>88377.695</td><td> 49753.0660</td><td>403990.66</td><td> 68348.664</td><td>107126.910</td><td>198906.12</td><td>78262.29</td><td>0</td><td>  0.000</td><td>0</td></tr>\n",
       "\t<tr><td>Avr_Bac_Rep2_t1.mzML  </td><td>Avermectin + Gut bacteria</td><td>2</td><td>1  </td><td> 5928.108</td><td>14575.035</td><td>61343.254</td><td>1185.8774</td><td>306603.60</td><td> 59460.42</td><td>...</td><td>33916.246</td><td>  6332.4970</td><td>133827.00</td><td> 34380.254</td><td> 60835.930</td><td>119852.12</td><td>67396.02</td><td>0</td><td>  0.000</td><td>0</td></tr>\n",
       "\t<tr><td>Avr_Bac_Rep2_t10.mzML </td><td>Avermectin + Gut bacteria</td><td>2</td><td>10 </td><td>31352.270</td><td>35725.555</td><td>53365.965</td><td> 910.9628</td><td>289811.97</td><td>337354.47</td><td>...</td><td>81131.950</td><td>114744.6800</td><td>396009.90</td><td> 62113.680</td><td> 75778.170</td><td>203939.73</td><td>50498.76</td><td>0</td><td>  0.000</td><td>0</td></tr>\n",
       "\t<tr><td>Avr_Bac_Rep2_t120.mzML</td><td>Avermectin + Gut bacteria</td><td>2</td><td>120</td><td>12484.519</td><td>14507.892</td><td>16530.402</td><td>7880.3096</td><td>308932.10</td><td>345356.10</td><td>...</td><td>65848.870</td><td> 35999.4380</td><td>386116.78</td><td> 59217.176</td><td>113917.805</td><td>198498.80</td><td>46363.19</td><td>0</td><td>  0.000</td><td>0</td></tr>\n",
       "\t<tr><td>Avr_Bac_Rep2_t180.mzML</td><td>Avermectin + Gut bacteria</td><td>2</td><td>180</td><td>26422.281</td><td> 6925.348</td><td>48577.168</td><td> 559.7695</td><td>298298.53</td><td> 60737.01</td><td>...</td><td> 4971.085</td><td>  1414.3191</td><td> 61751.99</td><td>  9082.296</td><td> 19462.354</td><td> 15292.61</td><td>37786.39</td><td>0</td><td>  0.000</td><td>0</td></tr>\n",
       "\t<tr><td>Avr_Bac_Rep2_t20.mzML </td><td>Avermectin + Gut bacteria</td><td>2</td><td>20 </td><td>24630.494</td><td>68890.610</td><td>47231.234</td><td>2726.5110</td><td>316544.30</td><td>290081.75</td><td>...</td><td>58976.734</td><td>   470.6903</td><td>155609.60</td><td>  9103.325</td><td> 54977.777</td><td> 20944.17</td><td>41156.82</td><td>0</td><td>  0.000</td><td>0</td></tr>\n",
       "\t<tr><td>Avr_Bac_Rep2_t240.mzML</td><td>Avermectin + Gut bacteria</td><td>2</td><td>240</td><td>25786.926</td><td> 3260.068</td><td>31173.605</td><td> 758.2380</td><td>197985.78</td><td>226970.73</td><td>...</td><td>84056.180</td><td> 39347.0500</td><td>392942.53</td><td> 68043.900</td><td>113977.520</td><td>205776.64</td><td>79471.87</td><td>0</td><td>  0.000</td><td>0</td></tr>\n",
       "\t<tr><td>Avr_Bac_Rep2_t30.mzML </td><td>Avermectin + Gut bacteria</td><td>2</td><td>30 </td><td>12890.741</td><td>38766.047</td><td> 9802.307</td><td>1211.0074</td><td>236100.23</td><td> 77018.46</td><td>...</td><td>41839.312</td><td> 80504.7500</td><td>392633.75</td><td> 66937.055</td><td>117918.160</td><td>198995.20</td><td>78627.31</td><td>0</td><td>  0.000</td><td>0</td></tr>\n",
       "\t<tr><td>Avr_Bac_Rep2_t60.mzML </td><td>Avermectin + Gut bacteria</td><td>2</td><td>60 </td><td>21232.090</td><td>29892.348</td><td>36497.850</td><td>1903.3108</td><td>307221.10</td><td> 54337.83</td><td>...</td><td>42351.527</td><td>   556.8678</td><td> 88981.57</td><td>  4738.093</td><td> 47087.766</td><td> 79434.06</td><td>42078.16</td><td>0</td><td>  0.000</td><td>0</td></tr>\n",
       "\t<tr><td>Avr_Bac_Rep2_t720.mzML</td><td>Avermectin + Gut bacteria</td><td>2</td><td>720</td><td>20753.953</td><td>65203.016</td><td>67497.220</td><td> 579.7617</td><td>305603.60</td><td> 41226.51</td><td>...</td><td>49120.125</td><td>  1349.4368</td><td> 73769.75</td><td>  4918.456</td><td> 25904.420</td><td> 91153.62</td><td>63762.50</td><td>0</td><td>  0.000</td><td>0</td></tr>\n",
       "</tbody>\n",
       "</table>\n"
      ],
      "text/latex": [
       "A data.frame: 20 × 3416\n",
       "\\begin{tabular}{lllllllllllllllllllll}\n",
       " filename & ATTRIBUTE\\_sample & ATTRIBUTE\\_replicates & ATTRIBUTE\\_timepoint\\_minutes & X2\\_285.01\\_0.026\\_NA & X4\\_166.123\\_0.054\\_NA & X5\\_227.04\\_0.023\\_NA & X6\\_223.084\\_0.078\\_NA & X7\\_207.032\\_0.096\\_NA & X8\\_209.048\\_0.149\\_NA & ... & X7570\\_371.101\\_8.9\\_Spectral.Match.to.Cyclopentasiloxane..decamethyl..from.NIST14 & X7574\\_166.123\\_8.912\\_NA & X7576\\_207.032\\_8.933\\_NA & X7580\\_227.04\\_8.942\\_NA & X7582\\_226.043\\_8.944\\_NA & X7585\\_300.062\\_8.895\\_NA & X7588\\_188.092\\_8.931\\_NA & X7599\\_175.913\\_8.948\\_NA & X7607\\_272.929\\_8.945\\_NA & X7608\\_276.935\\_8.948\\_NA\\\\\n",
       " <chr> & <chr> & <chr> & <chr> & <dbl> & <dbl> & <dbl> & <dbl> & <dbl> & <dbl> & ... & <dbl> & <dbl> & <dbl> & <dbl> & <dbl> & <dbl> & <dbl> & <dbl> & <dbl> & <dbl>\\\\\n",
       "\\hline\n",
       "\t Avr\\_Bac\\_Rep1\\_t0.mzML   & Avermectin + Gut bacteria & 1 & 0   &  9121.137 &  8585.590 &  4739.735 & 4993.8193 & 277412.66 & 284921.84 & ... & 88692.570 &  41169.8630 & 404023.16 &  71099.310 & 118227.420 & 202519.78 & 77821.67 & 0 &   0.000 & 0\\\\\n",
       "\t Avr\\_Bac\\_Rep1\\_t1.mzML   & Avermectin + Gut bacteria & 1 & 1   & 18667.346 & 67654.586 & 47169.016 &  933.2120 &  45147.84 &  45506.29 & ... & 12294.029 &    583.6107 & 149986.89 &  14805.444 &   6482.815 &  92694.00 & 23892.14 & 0 & 229.752 & 0\\\\\n",
       "\t Avr\\_Bac\\_Rep1\\_t10.mzML  & Avermectin + Gut bacteria & 1 & 10  & 25429.777 &  1015.399 & 40111.543 &  584.7465 &  26532.36 &  80316.74 & ... & 89136.305 &  17914.6720 & 375890.47 & 149315.520 &  76691.830 & 197675.84 & 77878.05 & 0 &   0.000 & 0\\\\\n",
       "\t Avr\\_Bac\\_Rep1\\_t120.mzML & Avermectin + Gut bacteria & 1 & 120 & 27301.236 & 18595.920 & 41518.715 & 5018.8496 & 315136.72 &  95323.01 & ... & 90454.900 &  30330.6110 & 415146.30 &  65725.700 & 121881.580 & 201129.17 & 80747.99 & 0 &   0.000 & 0\\\\\n",
       "\t Avr\\_Bac\\_Rep1\\_t180.mzML & Avermectin + Gut bacteria & 1 & 180 &  2013.300 &  7988.774 & 62059.920 & 2562.4202 &  48802.86 &  58428.97 & ... & 25554.418 &    582.0281 & 134631.45 &   4735.077 &  52773.402 &  77070.30 & 17369.86 & 0 &   0.000 & 0\\\\\n",
       "\t Avr\\_Bac\\_Rep1\\_t20.mzML  & Avermectin + Gut bacteria & 1 & 20  & 24217.570 & 24399.871 & 10455.167 & 1124.1868 & 299953.34 &  54777.56 & ... & 56148.760 &    981.9916 &  96594.13 &   3818.379 &  21382.110 &  18258.64 & 25608.76 & 0 &   0.000 & 0\\\\\n",
       "\t Avr\\_Bac\\_Rep1\\_t240.mzML & Avermectin + Gut bacteria & 1 & 240 & 26353.895 & 24849.357 & 55855.168 & 1308.4764 & 311148.10 & 330467.78 & ... & 89240.305 &  64629.8120 & 410430.20 &  70619.240 & 120356.086 & 206086.40 & 81148.58 & 0 &   0.000 & 0\\\\\n",
       "\t Avr\\_Bac\\_Rep1\\_t30.mzML  & Avermectin + Gut bacteria & 1 & 30  & 18983.656 & 10173.353 & 20212.295 & 1620.7507 & 209402.47 & 234668.55 & ... & 89191.480 &  10387.1080 & 397986.44 &  69472.850 & 117828.390 & 201887.97 & 78890.84 & 0 &   0.000 & 0\\\\\n",
       "\t Avr\\_Bac\\_Rep1\\_t60.mzML  & Avermectin + Gut bacteria & 1 & 60  & 30068.717 &  5813.840 &  7875.372 &  498.6828 & 303704.50 &  57229.32 & ... & 72086.020 &    388.1049 & 120570.52 &  10075.527 &  17968.309 & 143938.33 & 40747.49 & 0 &   0.000 & 0\\\\\n",
       "\t Avr\\_Bac\\_Rep1\\_t720.mzML & Avermectin + Gut bacteria & 1 & 720 & 31323.818 & 64197.832 & 66344.490 &  613.2769 & 329759.16 &  55122.34 & ... & 52991.656 &    263.2274 & 167766.27 &   2687.402 &  49385.426 &  67671.95 & 66840.66 & 0 &   0.000 & 0\\\\\n",
       "\t Avr\\_Bac\\_Rep2\\_t0.mzML   & Avermectin + Gut bacteria & 2 & 0   & 25410.354 & 39053.590 & 62068.543 & 9932.8125 & 142347.27 & 332273.47 & ... & 88377.695 &  49753.0660 & 403990.66 &  68348.664 & 107126.910 & 198906.12 & 78262.29 & 0 &   0.000 & 0\\\\\n",
       "\t Avr\\_Bac\\_Rep2\\_t1.mzML   & Avermectin + Gut bacteria & 2 & 1   &  5928.108 & 14575.035 & 61343.254 & 1185.8774 & 306603.60 &  59460.42 & ... & 33916.246 &   6332.4970 & 133827.00 &  34380.254 &  60835.930 & 119852.12 & 67396.02 & 0 &   0.000 & 0\\\\\n",
       "\t Avr\\_Bac\\_Rep2\\_t10.mzML  & Avermectin + Gut bacteria & 2 & 10  & 31352.270 & 35725.555 & 53365.965 &  910.9628 & 289811.97 & 337354.47 & ... & 81131.950 & 114744.6800 & 396009.90 &  62113.680 &  75778.170 & 203939.73 & 50498.76 & 0 &   0.000 & 0\\\\\n",
       "\t Avr\\_Bac\\_Rep2\\_t120.mzML & Avermectin + Gut bacteria & 2 & 120 & 12484.519 & 14507.892 & 16530.402 & 7880.3096 & 308932.10 & 345356.10 & ... & 65848.870 &  35999.4380 & 386116.78 &  59217.176 & 113917.805 & 198498.80 & 46363.19 & 0 &   0.000 & 0\\\\\n",
       "\t Avr\\_Bac\\_Rep2\\_t180.mzML & Avermectin + Gut bacteria & 2 & 180 & 26422.281 &  6925.348 & 48577.168 &  559.7695 & 298298.53 &  60737.01 & ... &  4971.085 &   1414.3191 &  61751.99 &   9082.296 &  19462.354 &  15292.61 & 37786.39 & 0 &   0.000 & 0\\\\\n",
       "\t Avr\\_Bac\\_Rep2\\_t20.mzML  & Avermectin + Gut bacteria & 2 & 20  & 24630.494 & 68890.610 & 47231.234 & 2726.5110 & 316544.30 & 290081.75 & ... & 58976.734 &    470.6903 & 155609.60 &   9103.325 &  54977.777 &  20944.17 & 41156.82 & 0 &   0.000 & 0\\\\\n",
       "\t Avr\\_Bac\\_Rep2\\_t240.mzML & Avermectin + Gut bacteria & 2 & 240 & 25786.926 &  3260.068 & 31173.605 &  758.2380 & 197985.78 & 226970.73 & ... & 84056.180 &  39347.0500 & 392942.53 &  68043.900 & 113977.520 & 205776.64 & 79471.87 & 0 &   0.000 & 0\\\\\n",
       "\t Avr\\_Bac\\_Rep2\\_t30.mzML  & Avermectin + Gut bacteria & 2 & 30  & 12890.741 & 38766.047 &  9802.307 & 1211.0074 & 236100.23 &  77018.46 & ... & 41839.312 &  80504.7500 & 392633.75 &  66937.055 & 117918.160 & 198995.20 & 78627.31 & 0 &   0.000 & 0\\\\\n",
       "\t Avr\\_Bac\\_Rep2\\_t60.mzML  & Avermectin + Gut bacteria & 2 & 60  & 21232.090 & 29892.348 & 36497.850 & 1903.3108 & 307221.10 &  54337.83 & ... & 42351.527 &    556.8678 &  88981.57 &   4738.093 &  47087.766 &  79434.06 & 42078.16 & 0 &   0.000 & 0\\\\\n",
       "\t Avr\\_Bac\\_Rep2\\_t720.mzML & Avermectin + Gut bacteria & 2 & 720 & 20753.953 & 65203.016 & 67497.220 &  579.7617 & 305603.60 &  41226.51 & ... & 49120.125 &   1349.4368 &  73769.75 &   4918.456 &  25904.420 &  91153.62 & 63762.50 & 0 &   0.000 & 0\\\\\n",
       "\\end{tabular}\n"
      ],
      "text/markdown": [
       "\n",
       "A data.frame: 20 × 3416\n",
       "\n",
       "| filename &lt;chr&gt; | ATTRIBUTE_sample &lt;chr&gt; | ATTRIBUTE_replicates &lt;chr&gt; | ATTRIBUTE_timepoint_minutes &lt;chr&gt; | X2_285.01_0.026_NA &lt;dbl&gt; | X4_166.123_0.054_NA &lt;dbl&gt; | X5_227.04_0.023_NA &lt;dbl&gt; | X6_223.084_0.078_NA &lt;dbl&gt; | X7_207.032_0.096_NA &lt;dbl&gt; | X8_209.048_0.149_NA &lt;dbl&gt; | ... ... | X7570_371.101_8.9_Spectral.Match.to.Cyclopentasiloxane..decamethyl..from.NIST14 &lt;dbl&gt; | X7574_166.123_8.912_NA &lt;dbl&gt; | X7576_207.032_8.933_NA &lt;dbl&gt; | X7580_227.04_8.942_NA &lt;dbl&gt; | X7582_226.043_8.944_NA &lt;dbl&gt; | X7585_300.062_8.895_NA &lt;dbl&gt; | X7588_188.092_8.931_NA &lt;dbl&gt; | X7599_175.913_8.948_NA &lt;dbl&gt; | X7607_272.929_8.945_NA &lt;dbl&gt; | X7608_276.935_8.948_NA &lt;dbl&gt; |\n",
       "|---|---|---|---|---|---|---|---|---|---|---|---|---|---|---|---|---|---|---|---|---|\n",
       "| Avr_Bac_Rep1_t0.mzML   | Avermectin + Gut bacteria | 1 | 0   |  9121.137 |  8585.590 |  4739.735 | 4993.8193 | 277412.66 | 284921.84 | ... | 88692.570 |  41169.8630 | 404023.16 |  71099.310 | 118227.420 | 202519.78 | 77821.67 | 0 |   0.000 | 0 |\n",
       "| Avr_Bac_Rep1_t1.mzML   | Avermectin + Gut bacteria | 1 | 1   | 18667.346 | 67654.586 | 47169.016 |  933.2120 |  45147.84 |  45506.29 | ... | 12294.029 |    583.6107 | 149986.89 |  14805.444 |   6482.815 |  92694.00 | 23892.14 | 0 | 229.752 | 0 |\n",
       "| Avr_Bac_Rep1_t10.mzML  | Avermectin + Gut bacteria | 1 | 10  | 25429.777 |  1015.399 | 40111.543 |  584.7465 |  26532.36 |  80316.74 | ... | 89136.305 |  17914.6720 | 375890.47 | 149315.520 |  76691.830 | 197675.84 | 77878.05 | 0 |   0.000 | 0 |\n",
       "| Avr_Bac_Rep1_t120.mzML | Avermectin + Gut bacteria | 1 | 120 | 27301.236 | 18595.920 | 41518.715 | 5018.8496 | 315136.72 |  95323.01 | ... | 90454.900 |  30330.6110 | 415146.30 |  65725.700 | 121881.580 | 201129.17 | 80747.99 | 0 |   0.000 | 0 |\n",
       "| Avr_Bac_Rep1_t180.mzML | Avermectin + Gut bacteria | 1 | 180 |  2013.300 |  7988.774 | 62059.920 | 2562.4202 |  48802.86 |  58428.97 | ... | 25554.418 |    582.0281 | 134631.45 |   4735.077 |  52773.402 |  77070.30 | 17369.86 | 0 |   0.000 | 0 |\n",
       "| Avr_Bac_Rep1_t20.mzML  | Avermectin + Gut bacteria | 1 | 20  | 24217.570 | 24399.871 | 10455.167 | 1124.1868 | 299953.34 |  54777.56 | ... | 56148.760 |    981.9916 |  96594.13 |   3818.379 |  21382.110 |  18258.64 | 25608.76 | 0 |   0.000 | 0 |\n",
       "| Avr_Bac_Rep1_t240.mzML | Avermectin + Gut bacteria | 1 | 240 | 26353.895 | 24849.357 | 55855.168 | 1308.4764 | 311148.10 | 330467.78 | ... | 89240.305 |  64629.8120 | 410430.20 |  70619.240 | 120356.086 | 206086.40 | 81148.58 | 0 |   0.000 | 0 |\n",
       "| Avr_Bac_Rep1_t30.mzML  | Avermectin + Gut bacteria | 1 | 30  | 18983.656 | 10173.353 | 20212.295 | 1620.7507 | 209402.47 | 234668.55 | ... | 89191.480 |  10387.1080 | 397986.44 |  69472.850 | 117828.390 | 201887.97 | 78890.84 | 0 |   0.000 | 0 |\n",
       "| Avr_Bac_Rep1_t60.mzML  | Avermectin + Gut bacteria | 1 | 60  | 30068.717 |  5813.840 |  7875.372 |  498.6828 | 303704.50 |  57229.32 | ... | 72086.020 |    388.1049 | 120570.52 |  10075.527 |  17968.309 | 143938.33 | 40747.49 | 0 |   0.000 | 0 |\n",
       "| Avr_Bac_Rep1_t720.mzML | Avermectin + Gut bacteria | 1 | 720 | 31323.818 | 64197.832 | 66344.490 |  613.2769 | 329759.16 |  55122.34 | ... | 52991.656 |    263.2274 | 167766.27 |   2687.402 |  49385.426 |  67671.95 | 66840.66 | 0 |   0.000 | 0 |\n",
       "| Avr_Bac_Rep2_t0.mzML   | Avermectin + Gut bacteria | 2 | 0   | 25410.354 | 39053.590 | 62068.543 | 9932.8125 | 142347.27 | 332273.47 | ... | 88377.695 |  49753.0660 | 403990.66 |  68348.664 | 107126.910 | 198906.12 | 78262.29 | 0 |   0.000 | 0 |\n",
       "| Avr_Bac_Rep2_t1.mzML   | Avermectin + Gut bacteria | 2 | 1   |  5928.108 | 14575.035 | 61343.254 | 1185.8774 | 306603.60 |  59460.42 | ... | 33916.246 |   6332.4970 | 133827.00 |  34380.254 |  60835.930 | 119852.12 | 67396.02 | 0 |   0.000 | 0 |\n",
       "| Avr_Bac_Rep2_t10.mzML  | Avermectin + Gut bacteria | 2 | 10  | 31352.270 | 35725.555 | 53365.965 |  910.9628 | 289811.97 | 337354.47 | ... | 81131.950 | 114744.6800 | 396009.90 |  62113.680 |  75778.170 | 203939.73 | 50498.76 | 0 |   0.000 | 0 |\n",
       "| Avr_Bac_Rep2_t120.mzML | Avermectin + Gut bacteria | 2 | 120 | 12484.519 | 14507.892 | 16530.402 | 7880.3096 | 308932.10 | 345356.10 | ... | 65848.870 |  35999.4380 | 386116.78 |  59217.176 | 113917.805 | 198498.80 | 46363.19 | 0 |   0.000 | 0 |\n",
       "| Avr_Bac_Rep2_t180.mzML | Avermectin + Gut bacteria | 2 | 180 | 26422.281 |  6925.348 | 48577.168 |  559.7695 | 298298.53 |  60737.01 | ... |  4971.085 |   1414.3191 |  61751.99 |   9082.296 |  19462.354 |  15292.61 | 37786.39 | 0 |   0.000 | 0 |\n",
       "| Avr_Bac_Rep2_t20.mzML  | Avermectin + Gut bacteria | 2 | 20  | 24630.494 | 68890.610 | 47231.234 | 2726.5110 | 316544.30 | 290081.75 | ... | 58976.734 |    470.6903 | 155609.60 |   9103.325 |  54977.777 |  20944.17 | 41156.82 | 0 |   0.000 | 0 |\n",
       "| Avr_Bac_Rep2_t240.mzML | Avermectin + Gut bacteria | 2 | 240 | 25786.926 |  3260.068 | 31173.605 |  758.2380 | 197985.78 | 226970.73 | ... | 84056.180 |  39347.0500 | 392942.53 |  68043.900 | 113977.520 | 205776.64 | 79471.87 | 0 |   0.000 | 0 |\n",
       "| Avr_Bac_Rep2_t30.mzML  | Avermectin + Gut bacteria | 2 | 30  | 12890.741 | 38766.047 |  9802.307 | 1211.0074 | 236100.23 |  77018.46 | ... | 41839.312 |  80504.7500 | 392633.75 |  66937.055 | 117918.160 | 198995.20 | 78627.31 | 0 |   0.000 | 0 |\n",
       "| Avr_Bac_Rep2_t60.mzML  | Avermectin + Gut bacteria | 2 | 60  | 21232.090 | 29892.348 | 36497.850 | 1903.3108 | 307221.10 |  54337.83 | ... | 42351.527 |    556.8678 |  88981.57 |   4738.093 |  47087.766 |  79434.06 | 42078.16 | 0 |   0.000 | 0 |\n",
       "| Avr_Bac_Rep2_t720.mzML | Avermectin + Gut bacteria | 2 | 720 | 20753.953 | 65203.016 | 67497.220 |  579.7617 | 305603.60 |  41226.51 | ... | 49120.125 |   1349.4368 |  73769.75 |   4918.456 |  25904.420 |  91153.62 | 63762.50 | 0 |   0.000 | 0 |\n",
       "\n"
      ],
      "text/plain": [
       "   filename               ATTRIBUTE_sample          ATTRIBUTE_replicates\n",
       "1  Avr_Bac_Rep1_t0.mzML   Avermectin + Gut bacteria 1                   \n",
       "2  Avr_Bac_Rep1_t1.mzML   Avermectin + Gut bacteria 1                   \n",
       "3  Avr_Bac_Rep1_t10.mzML  Avermectin + Gut bacteria 1                   \n",
       "4  Avr_Bac_Rep1_t120.mzML Avermectin + Gut bacteria 1                   \n",
       "5  Avr_Bac_Rep1_t180.mzML Avermectin + Gut bacteria 1                   \n",
       "6  Avr_Bac_Rep1_t20.mzML  Avermectin + Gut bacteria 1                   \n",
       "7  Avr_Bac_Rep1_t240.mzML Avermectin + Gut bacteria 1                   \n",
       "8  Avr_Bac_Rep1_t30.mzML  Avermectin + Gut bacteria 1                   \n",
       "9  Avr_Bac_Rep1_t60.mzML  Avermectin + Gut bacteria 1                   \n",
       "10 Avr_Bac_Rep1_t720.mzML Avermectin + Gut bacteria 1                   \n",
       "11 Avr_Bac_Rep2_t0.mzML   Avermectin + Gut bacteria 2                   \n",
       "12 Avr_Bac_Rep2_t1.mzML   Avermectin + Gut bacteria 2                   \n",
       "13 Avr_Bac_Rep2_t10.mzML  Avermectin + Gut bacteria 2                   \n",
       "14 Avr_Bac_Rep2_t120.mzML Avermectin + Gut bacteria 2                   \n",
       "15 Avr_Bac_Rep2_t180.mzML Avermectin + Gut bacteria 2                   \n",
       "16 Avr_Bac_Rep2_t20.mzML  Avermectin + Gut bacteria 2                   \n",
       "17 Avr_Bac_Rep2_t240.mzML Avermectin + Gut bacteria 2                   \n",
       "18 Avr_Bac_Rep2_t30.mzML  Avermectin + Gut bacteria 2                   \n",
       "19 Avr_Bac_Rep2_t60.mzML  Avermectin + Gut bacteria 2                   \n",
       "20 Avr_Bac_Rep2_t720.mzML Avermectin + Gut bacteria 2                   \n",
       "   ATTRIBUTE_timepoint_minutes X2_285.01_0.026_NA X4_166.123_0.054_NA\n",
       "1  0                            9121.137           8585.590          \n",
       "2  1                           18667.346          67654.586          \n",
       "3  10                          25429.777           1015.399          \n",
       "4  120                         27301.236          18595.920          \n",
       "5  180                          2013.300           7988.774          \n",
       "6  20                          24217.570          24399.871          \n",
       "7  240                         26353.895          24849.357          \n",
       "8  30                          18983.656          10173.353          \n",
       "9  60                          30068.717           5813.840          \n",
       "10 720                         31323.818          64197.832          \n",
       "11 0                           25410.354          39053.590          \n",
       "12 1                            5928.108          14575.035          \n",
       "13 10                          31352.270          35725.555          \n",
       "14 120                         12484.519          14507.892          \n",
       "15 180                         26422.281           6925.348          \n",
       "16 20                          24630.494          68890.610          \n",
       "17 240                         25786.926           3260.068          \n",
       "18 30                          12890.741          38766.047          \n",
       "19 60                          21232.090          29892.348          \n",
       "20 720                         20753.953          65203.016          \n",
       "   X5_227.04_0.023_NA X6_223.084_0.078_NA X7_207.032_0.096_NA\n",
       "1   4739.735          4993.8193           277412.66          \n",
       "2  47169.016           933.2120            45147.84          \n",
       "3  40111.543           584.7465            26532.36          \n",
       "4  41518.715          5018.8496           315136.72          \n",
       "5  62059.920          2562.4202            48802.86          \n",
       "6  10455.167          1124.1868           299953.34          \n",
       "7  55855.168          1308.4764           311148.10          \n",
       "8  20212.295          1620.7507           209402.47          \n",
       "9   7875.372           498.6828           303704.50          \n",
       "10 66344.490           613.2769           329759.16          \n",
       "11 62068.543          9932.8125           142347.27          \n",
       "12 61343.254          1185.8774           306603.60          \n",
       "13 53365.965           910.9628           289811.97          \n",
       "14 16530.402          7880.3096           308932.10          \n",
       "15 48577.168           559.7695           298298.53          \n",
       "16 47231.234          2726.5110           316544.30          \n",
       "17 31173.605           758.2380           197985.78          \n",
       "18  9802.307          1211.0074           236100.23          \n",
       "19 36497.850          1903.3108           307221.10          \n",
       "20 67497.220           579.7617           305603.60          \n",
       "   X8_209.048_0.149_NA ...\n",
       "1  284921.84           ...\n",
       "2   45506.29           ...\n",
       "3   80316.74           ...\n",
       "4   95323.01           ...\n",
       "5   58428.97           ...\n",
       "6   54777.56           ...\n",
       "7  330467.78           ...\n",
       "8  234668.55           ...\n",
       "9   57229.32           ...\n",
       "10  55122.34           ...\n",
       "11 332273.47           ...\n",
       "12  59460.42           ...\n",
       "13 337354.47           ...\n",
       "14 345356.10           ...\n",
       "15  60737.01           ...\n",
       "16 290081.75           ...\n",
       "17 226970.73           ...\n",
       "18  77018.46           ...\n",
       "19  54337.83           ...\n",
       "20  41226.51           ...\n",
       "   X7570_371.101_8.9_Spectral.Match.to.Cyclopentasiloxane..decamethyl..from.NIST14\n",
       "1  88692.570                                                                      \n",
       "2  12294.029                                                                      \n",
       "3  89136.305                                                                      \n",
       "4  90454.900                                                                      \n",
       "5  25554.418                                                                      \n",
       "6  56148.760                                                                      \n",
       "7  89240.305                                                                      \n",
       "8  89191.480                                                                      \n",
       "9  72086.020                                                                      \n",
       "10 52991.656                                                                      \n",
       "11 88377.695                                                                      \n",
       "12 33916.246                                                                      \n",
       "13 81131.950                                                                      \n",
       "14 65848.870                                                                      \n",
       "15  4971.085                                                                      \n",
       "16 58976.734                                                                      \n",
       "17 84056.180                                                                      \n",
       "18 41839.312                                                                      \n",
       "19 42351.527                                                                      \n",
       "20 49120.125                                                                      \n",
       "   X7574_166.123_8.912_NA X7576_207.032_8.933_NA X7580_227.04_8.942_NA\n",
       "1   41169.8630            404023.16               71099.310           \n",
       "2     583.6107            149986.89               14805.444           \n",
       "3   17914.6720            375890.47              149315.520           \n",
       "4   30330.6110            415146.30               65725.700           \n",
       "5     582.0281            134631.45                4735.077           \n",
       "6     981.9916             96594.13                3818.379           \n",
       "7   64629.8120            410430.20               70619.240           \n",
       "8   10387.1080            397986.44               69472.850           \n",
       "9     388.1049            120570.52               10075.527           \n",
       "10    263.2274            167766.27                2687.402           \n",
       "11  49753.0660            403990.66               68348.664           \n",
       "12   6332.4970            133827.00               34380.254           \n",
       "13 114744.6800            396009.90               62113.680           \n",
       "14  35999.4380            386116.78               59217.176           \n",
       "15   1414.3191             61751.99                9082.296           \n",
       "16    470.6903            155609.60                9103.325           \n",
       "17  39347.0500            392942.53               68043.900           \n",
       "18  80504.7500            392633.75               66937.055           \n",
       "19    556.8678             88981.57                4738.093           \n",
       "20   1349.4368             73769.75                4918.456           \n",
       "   X7582_226.043_8.944_NA X7585_300.062_8.895_NA X7588_188.092_8.931_NA\n",
       "1  118227.420             202519.78              77821.67              \n",
       "2    6482.815              92694.00              23892.14              \n",
       "3   76691.830             197675.84              77878.05              \n",
       "4  121881.580             201129.17              80747.99              \n",
       "5   52773.402              77070.30              17369.86              \n",
       "6   21382.110              18258.64              25608.76              \n",
       "7  120356.086             206086.40              81148.58              \n",
       "8  117828.390             201887.97              78890.84              \n",
       "9   17968.309             143938.33              40747.49              \n",
       "10  49385.426              67671.95              66840.66              \n",
       "11 107126.910             198906.12              78262.29              \n",
       "12  60835.930             119852.12              67396.02              \n",
       "13  75778.170             203939.73              50498.76              \n",
       "14 113917.805             198498.80              46363.19              \n",
       "15  19462.354              15292.61              37786.39              \n",
       "16  54977.777              20944.17              41156.82              \n",
       "17 113977.520             205776.64              79471.87              \n",
       "18 117918.160             198995.20              78627.31              \n",
       "19  47087.766              79434.06              42078.16              \n",
       "20  25904.420              91153.62              63762.50              \n",
       "   X7599_175.913_8.948_NA X7607_272.929_8.945_NA X7608_276.935_8.948_NA\n",
       "1  0                        0.000                0                     \n",
       "2  0                      229.752                0                     \n",
       "3  0                        0.000                0                     \n",
       "4  0                        0.000                0                     \n",
       "5  0                        0.000                0                     \n",
       "6  0                        0.000                0                     \n",
       "7  0                        0.000                0                     \n",
       "8  0                        0.000                0                     \n",
       "9  0                        0.000                0                     \n",
       "10 0                        0.000                0                     \n",
       "11 0                        0.000                0                     \n",
       "12 0                        0.000                0                     \n",
       "13 0                        0.000                0                     \n",
       "14 0                        0.000                0                     \n",
       "15 0                        0.000                0                     \n",
       "16 0                        0.000                0                     \n",
       "17 0                        0.000                0                     \n",
       "18 0                        0.000                0                     \n",
       "19 0                        0.000                0                     \n",
       "20 0                        0.000                0                     "
      ]
     },
     "metadata": {},
     "output_type": "display_data"
    }
   ],
   "source": [
    "case3_ft$filename = rownames(case3_ft)\n",
    "df_avg <- merge(case3_md,case3_ft, by=\"filename\")\n",
    "df_avg"
   ]
  },
  {
   "cell_type": "markdown",
   "id": "38849739-7ac1-4eaa-a749-b870dae4114f",
   "metadata": {},
   "source": [
    "Now, I want to average both the replicates based on their timepoints and at the end have only 10 files."
   ]
  },
  {
   "cell_type": "code",
   "execution_count": 362,
   "id": "f81aa145-1044-4294-b266-a9cf984ed9de",
   "metadata": {},
   "outputs": [
    {
     "name": "stderr",
     "output_type": "stream",
     "text": [
      "Warning message:\n",
      "\"\u001b[1m\u001b[22mThere were 30 warnings in `summarise()`.\n",
      "The first warning was:\n",
      "\u001b[1m\u001b[22m\u001b[36mi\u001b[39m In argument: `filename = (function (x, ...) ...`.\n",
      "\u001b[36mi\u001b[39m In group 1: `ATTRIBUTE_timepoint_minutes = \"0\"`.\n",
      "Caused by warning in `mean.default()`:\n",
      "\u001b[33m!\u001b[39m argument is not numeric or logical: returning NA\n",
      "\u001b[1m\u001b[22m\u001b[36mi\u001b[39m Run `dplyr::last_dplyr_warnings()` to see the 29 remaining warnings.\"\n"
     ]
    },
    {
     "data": {
      "text/html": [
       "<table class=\"dataframe\">\n",
       "<caption>A tibble: 10 × 3416</caption>\n",
       "<thead>\n",
       "\t<tr><th scope=col>ATTRIBUTE_timepoint_minutes</th><th scope=col>filename</th><th scope=col>ATTRIBUTE_sample</th><th scope=col>ATTRIBUTE_replicates</th><th scope=col>X2_285.01_0.026_NA</th><th scope=col>X4_166.123_0.054_NA</th><th scope=col>X5_227.04_0.023_NA</th><th scope=col>X6_223.084_0.078_NA</th><th scope=col>X7_207.032_0.096_NA</th><th scope=col>X8_209.048_0.149_NA</th><th scope=col>...</th><th scope=col>X7570_371.101_8.9_Spectral.Match.to.Cyclopentasiloxane..decamethyl..from.NIST14</th><th scope=col>X7574_166.123_8.912_NA</th><th scope=col>X7576_207.032_8.933_NA</th><th scope=col>X7580_227.04_8.942_NA</th><th scope=col>X7582_226.043_8.944_NA</th><th scope=col>X7585_300.062_8.895_NA</th><th scope=col>X7588_188.092_8.931_NA</th><th scope=col>X7599_175.913_8.948_NA</th><th scope=col>X7607_272.929_8.945_NA</th><th scope=col>X7608_276.935_8.948_NA</th></tr>\n",
       "\t<tr><th scope=col>&lt;chr&gt;</th><th scope=col>&lt;dbl&gt;</th><th scope=col>&lt;dbl&gt;</th><th scope=col>&lt;dbl&gt;</th><th scope=col>&lt;dbl&gt;</th><th scope=col>&lt;dbl&gt;</th><th scope=col>&lt;dbl&gt;</th><th scope=col>&lt;dbl&gt;</th><th scope=col>&lt;dbl&gt;</th><th scope=col>&lt;dbl&gt;</th><th scope=col>...</th><th scope=col>&lt;dbl&gt;</th><th scope=col>&lt;dbl&gt;</th><th scope=col>&lt;dbl&gt;</th><th scope=col>&lt;dbl&gt;</th><th scope=col>&lt;dbl&gt;</th><th scope=col>&lt;dbl&gt;</th><th scope=col>&lt;dbl&gt;</th><th scope=col>&lt;dbl&gt;</th><th scope=col>&lt;dbl&gt;</th><th scope=col>&lt;dbl&gt;</th></tr>\n",
       "</thead>\n",
       "<tbody>\n",
       "\t<tr><td>0  </td><td>NA</td><td>NA</td><td>NA</td><td>17265.75</td><td>23819.590</td><td>33404.14</td><td>7463.3159</td><td>209880.0</td><td>308597.66</td><td>...</td><td>88535.13</td><td>45461.4645</td><td>404006.91</td><td> 69723.987</td><td>112677.17</td><td>200712.95</td><td>78041.98</td><td>0</td><td>  0.000</td><td>0</td></tr>\n",
       "\t<tr><td>1  </td><td>NA</td><td>NA</td><td>NA</td><td>12297.73</td><td>41114.810</td><td>54256.14</td><td>1059.5447</td><td>175875.7</td><td> 52483.35</td><td>...</td><td>23105.14</td><td> 3458.0538</td><td>141906.95</td><td> 24592.849</td><td> 33659.37</td><td>106273.06</td><td>45644.08</td><td>0</td><td>114.876</td><td>0</td></tr>\n",
       "\t<tr><td>10 </td><td>NA</td><td>NA</td><td>NA</td><td>28391.02</td><td>18370.477</td><td>46738.75</td><td> 747.8546</td><td>158172.2</td><td>208835.60</td><td>...</td><td>85134.13</td><td>66329.6760</td><td>385950.18</td><td>105714.600</td><td> 76235.00</td><td>200807.79</td><td>64188.41</td><td>0</td><td>  0.000</td><td>0</td></tr>\n",
       "\t<tr><td>120</td><td>NA</td><td>NA</td><td>NA</td><td>19892.88</td><td>16551.906</td><td>29024.56</td><td>6449.5796</td><td>312034.4</td><td>220339.55</td><td>...</td><td>78151.88</td><td>33165.0245</td><td>400631.54</td><td> 62471.438</td><td>117899.69</td><td>199813.98</td><td>63555.59</td><td>0</td><td>  0.000</td><td>0</td></tr>\n",
       "\t<tr><td>180</td><td>NA</td><td>NA</td><td>NA</td><td>14217.79</td><td> 7457.061</td><td>55318.54</td><td>1561.0949</td><td>173550.7</td><td> 59582.99</td><td>...</td><td>15262.75</td><td>  998.1736</td><td> 98191.72</td><td>  6908.686</td><td> 36117.88</td><td> 46181.45</td><td>27578.12</td><td>0</td><td>  0.000</td><td>0</td></tr>\n",
       "\t<tr><td>20 </td><td>NA</td><td>NA</td><td>NA</td><td>24424.03</td><td>46645.240</td><td>28843.20</td><td>1925.3489</td><td>308248.8</td><td>172429.65</td><td>...</td><td>57562.75</td><td>  726.3410</td><td>126101.87</td><td>  6460.852</td><td> 38179.94</td><td> 19601.40</td><td>33382.79</td><td>0</td><td>  0.000</td><td>0</td></tr>\n",
       "\t<tr><td>240</td><td>NA</td><td>NA</td><td>NA</td><td>26070.41</td><td>14054.712</td><td>43514.39</td><td>1033.3572</td><td>254566.9</td><td>278719.26</td><td>...</td><td>86648.24</td><td>51988.4310</td><td>401686.36</td><td> 69331.570</td><td>117166.80</td><td>205931.52</td><td>80310.23</td><td>0</td><td>  0.000</td><td>0</td></tr>\n",
       "\t<tr><td>30 </td><td>NA</td><td>NA</td><td>NA</td><td>15937.20</td><td>24469.700</td><td>15007.30</td><td>1415.8791</td><td>222751.4</td><td>155843.51</td><td>...</td><td>65515.40</td><td>45445.9290</td><td>395310.09</td><td> 68204.952</td><td>117873.27</td><td>200441.59</td><td>78759.07</td><td>0</td><td>  0.000</td><td>0</td></tr>\n",
       "\t<tr><td>60 </td><td>NA</td><td>NA</td><td>NA</td><td>25650.40</td><td>17853.094</td><td>22186.61</td><td>1200.9968</td><td>305462.8</td><td> 55783.57</td><td>...</td><td>57218.77</td><td>  472.4863</td><td>104776.05</td><td>  7406.810</td><td> 32528.04</td><td>111686.19</td><td>41412.83</td><td>0</td><td>  0.000</td><td>0</td></tr>\n",
       "\t<tr><td>720</td><td>NA</td><td>NA</td><td>NA</td><td>26038.89</td><td>64700.424</td><td>66920.86</td><td> 596.5193</td><td>317681.4</td><td> 48174.43</td><td>...</td><td>51055.89</td><td>  806.3321</td><td>120768.01</td><td>  3802.929</td><td> 37644.92</td><td> 79412.79</td><td>65301.58</td><td>0</td><td>  0.000</td><td>0</td></tr>\n",
       "</tbody>\n",
       "</table>\n"
      ],
      "text/latex": [
       "A tibble: 10 × 3416\n",
       "\\begin{tabular}{lllllllllllllllllllll}\n",
       " ATTRIBUTE\\_timepoint\\_minutes & filename & ATTRIBUTE\\_sample & ATTRIBUTE\\_replicates & X2\\_285.01\\_0.026\\_NA & X4\\_166.123\\_0.054\\_NA & X5\\_227.04\\_0.023\\_NA & X6\\_223.084\\_0.078\\_NA & X7\\_207.032\\_0.096\\_NA & X8\\_209.048\\_0.149\\_NA & ... & X7570\\_371.101\\_8.9\\_Spectral.Match.to.Cyclopentasiloxane..decamethyl..from.NIST14 & X7574\\_166.123\\_8.912\\_NA & X7576\\_207.032\\_8.933\\_NA & X7580\\_227.04\\_8.942\\_NA & X7582\\_226.043\\_8.944\\_NA & X7585\\_300.062\\_8.895\\_NA & X7588\\_188.092\\_8.931\\_NA & X7599\\_175.913\\_8.948\\_NA & X7607\\_272.929\\_8.945\\_NA & X7608\\_276.935\\_8.948\\_NA\\\\\n",
       " <chr> & <dbl> & <dbl> & <dbl> & <dbl> & <dbl> & <dbl> & <dbl> & <dbl> & <dbl> & ... & <dbl> & <dbl> & <dbl> & <dbl> & <dbl> & <dbl> & <dbl> & <dbl> & <dbl> & <dbl>\\\\\n",
       "\\hline\n",
       "\t 0   & NA & NA & NA & 17265.75 & 23819.590 & 33404.14 & 7463.3159 & 209880.0 & 308597.66 & ... & 88535.13 & 45461.4645 & 404006.91 &  69723.987 & 112677.17 & 200712.95 & 78041.98 & 0 &   0.000 & 0\\\\\n",
       "\t 1   & NA & NA & NA & 12297.73 & 41114.810 & 54256.14 & 1059.5447 & 175875.7 &  52483.35 & ... & 23105.14 &  3458.0538 & 141906.95 &  24592.849 &  33659.37 & 106273.06 & 45644.08 & 0 & 114.876 & 0\\\\\n",
       "\t 10  & NA & NA & NA & 28391.02 & 18370.477 & 46738.75 &  747.8546 & 158172.2 & 208835.60 & ... & 85134.13 & 66329.6760 & 385950.18 & 105714.600 &  76235.00 & 200807.79 & 64188.41 & 0 &   0.000 & 0\\\\\n",
       "\t 120 & NA & NA & NA & 19892.88 & 16551.906 & 29024.56 & 6449.5796 & 312034.4 & 220339.55 & ... & 78151.88 & 33165.0245 & 400631.54 &  62471.438 & 117899.69 & 199813.98 & 63555.59 & 0 &   0.000 & 0\\\\\n",
       "\t 180 & NA & NA & NA & 14217.79 &  7457.061 & 55318.54 & 1561.0949 & 173550.7 &  59582.99 & ... & 15262.75 &   998.1736 &  98191.72 &   6908.686 &  36117.88 &  46181.45 & 27578.12 & 0 &   0.000 & 0\\\\\n",
       "\t 20  & NA & NA & NA & 24424.03 & 46645.240 & 28843.20 & 1925.3489 & 308248.8 & 172429.65 & ... & 57562.75 &   726.3410 & 126101.87 &   6460.852 &  38179.94 &  19601.40 & 33382.79 & 0 &   0.000 & 0\\\\\n",
       "\t 240 & NA & NA & NA & 26070.41 & 14054.712 & 43514.39 & 1033.3572 & 254566.9 & 278719.26 & ... & 86648.24 & 51988.4310 & 401686.36 &  69331.570 & 117166.80 & 205931.52 & 80310.23 & 0 &   0.000 & 0\\\\\n",
       "\t 30  & NA & NA & NA & 15937.20 & 24469.700 & 15007.30 & 1415.8791 & 222751.4 & 155843.51 & ... & 65515.40 & 45445.9290 & 395310.09 &  68204.952 & 117873.27 & 200441.59 & 78759.07 & 0 &   0.000 & 0\\\\\n",
       "\t 60  & NA & NA & NA & 25650.40 & 17853.094 & 22186.61 & 1200.9968 & 305462.8 &  55783.57 & ... & 57218.77 &   472.4863 & 104776.05 &   7406.810 &  32528.04 & 111686.19 & 41412.83 & 0 &   0.000 & 0\\\\\n",
       "\t 720 & NA & NA & NA & 26038.89 & 64700.424 & 66920.86 &  596.5193 & 317681.4 &  48174.43 & ... & 51055.89 &   806.3321 & 120768.01 &   3802.929 &  37644.92 &  79412.79 & 65301.58 & 0 &   0.000 & 0\\\\\n",
       "\\end{tabular}\n"
      ],
      "text/markdown": [
       "\n",
       "A tibble: 10 × 3416\n",
       "\n",
       "| ATTRIBUTE_timepoint_minutes &lt;chr&gt; | filename &lt;dbl&gt; | ATTRIBUTE_sample &lt;dbl&gt; | ATTRIBUTE_replicates &lt;dbl&gt; | X2_285.01_0.026_NA &lt;dbl&gt; | X4_166.123_0.054_NA &lt;dbl&gt; | X5_227.04_0.023_NA &lt;dbl&gt; | X6_223.084_0.078_NA &lt;dbl&gt; | X7_207.032_0.096_NA &lt;dbl&gt; | X8_209.048_0.149_NA &lt;dbl&gt; | ... ... | X7570_371.101_8.9_Spectral.Match.to.Cyclopentasiloxane..decamethyl..from.NIST14 &lt;dbl&gt; | X7574_166.123_8.912_NA &lt;dbl&gt; | X7576_207.032_8.933_NA &lt;dbl&gt; | X7580_227.04_8.942_NA &lt;dbl&gt; | X7582_226.043_8.944_NA &lt;dbl&gt; | X7585_300.062_8.895_NA &lt;dbl&gt; | X7588_188.092_8.931_NA &lt;dbl&gt; | X7599_175.913_8.948_NA &lt;dbl&gt; | X7607_272.929_8.945_NA &lt;dbl&gt; | X7608_276.935_8.948_NA &lt;dbl&gt; |\n",
       "|---|---|---|---|---|---|---|---|---|---|---|---|---|---|---|---|---|---|---|---|---|\n",
       "| 0   | NA | NA | NA | 17265.75 | 23819.590 | 33404.14 | 7463.3159 | 209880.0 | 308597.66 | ... | 88535.13 | 45461.4645 | 404006.91 |  69723.987 | 112677.17 | 200712.95 | 78041.98 | 0 |   0.000 | 0 |\n",
       "| 1   | NA | NA | NA | 12297.73 | 41114.810 | 54256.14 | 1059.5447 | 175875.7 |  52483.35 | ... | 23105.14 |  3458.0538 | 141906.95 |  24592.849 |  33659.37 | 106273.06 | 45644.08 | 0 | 114.876 | 0 |\n",
       "| 10  | NA | NA | NA | 28391.02 | 18370.477 | 46738.75 |  747.8546 | 158172.2 | 208835.60 | ... | 85134.13 | 66329.6760 | 385950.18 | 105714.600 |  76235.00 | 200807.79 | 64188.41 | 0 |   0.000 | 0 |\n",
       "| 120 | NA | NA | NA | 19892.88 | 16551.906 | 29024.56 | 6449.5796 | 312034.4 | 220339.55 | ... | 78151.88 | 33165.0245 | 400631.54 |  62471.438 | 117899.69 | 199813.98 | 63555.59 | 0 |   0.000 | 0 |\n",
       "| 180 | NA | NA | NA | 14217.79 |  7457.061 | 55318.54 | 1561.0949 | 173550.7 |  59582.99 | ... | 15262.75 |   998.1736 |  98191.72 |   6908.686 |  36117.88 |  46181.45 | 27578.12 | 0 |   0.000 | 0 |\n",
       "| 20  | NA | NA | NA | 24424.03 | 46645.240 | 28843.20 | 1925.3489 | 308248.8 | 172429.65 | ... | 57562.75 |   726.3410 | 126101.87 |   6460.852 |  38179.94 |  19601.40 | 33382.79 | 0 |   0.000 | 0 |\n",
       "| 240 | NA | NA | NA | 26070.41 | 14054.712 | 43514.39 | 1033.3572 | 254566.9 | 278719.26 | ... | 86648.24 | 51988.4310 | 401686.36 |  69331.570 | 117166.80 | 205931.52 | 80310.23 | 0 |   0.000 | 0 |\n",
       "| 30  | NA | NA | NA | 15937.20 | 24469.700 | 15007.30 | 1415.8791 | 222751.4 | 155843.51 | ... | 65515.40 | 45445.9290 | 395310.09 |  68204.952 | 117873.27 | 200441.59 | 78759.07 | 0 |   0.000 | 0 |\n",
       "| 60  | NA | NA | NA | 25650.40 | 17853.094 | 22186.61 | 1200.9968 | 305462.8 |  55783.57 | ... | 57218.77 |   472.4863 | 104776.05 |   7406.810 |  32528.04 | 111686.19 | 41412.83 | 0 |   0.000 | 0 |\n",
       "| 720 | NA | NA | NA | 26038.89 | 64700.424 | 66920.86 |  596.5193 | 317681.4 |  48174.43 | ... | 51055.89 |   806.3321 | 120768.01 |   3802.929 |  37644.92 |  79412.79 | 65301.58 | 0 |   0.000 | 0 |\n",
       "\n"
      ],
      "text/plain": [
       "   ATTRIBUTE_timepoint_minutes filename ATTRIBUTE_sample ATTRIBUTE_replicates\n",
       "1  0                           NA       NA               NA                  \n",
       "2  1                           NA       NA               NA                  \n",
       "3  10                          NA       NA               NA                  \n",
       "4  120                         NA       NA               NA                  \n",
       "5  180                         NA       NA               NA                  \n",
       "6  20                          NA       NA               NA                  \n",
       "7  240                         NA       NA               NA                  \n",
       "8  30                          NA       NA               NA                  \n",
       "9  60                          NA       NA               NA                  \n",
       "10 720                         NA       NA               NA                  \n",
       "   X2_285.01_0.026_NA X4_166.123_0.054_NA X5_227.04_0.023_NA\n",
       "1  17265.75           23819.590           33404.14          \n",
       "2  12297.73           41114.810           54256.14          \n",
       "3  28391.02           18370.477           46738.75          \n",
       "4  19892.88           16551.906           29024.56          \n",
       "5  14217.79            7457.061           55318.54          \n",
       "6  24424.03           46645.240           28843.20          \n",
       "7  26070.41           14054.712           43514.39          \n",
       "8  15937.20           24469.700           15007.30          \n",
       "9  25650.40           17853.094           22186.61          \n",
       "10 26038.89           64700.424           66920.86          \n",
       "   X6_223.084_0.078_NA X7_207.032_0.096_NA X8_209.048_0.149_NA ...\n",
       "1  7463.3159           209880.0            308597.66           ...\n",
       "2  1059.5447           175875.7             52483.35           ...\n",
       "3   747.8546           158172.2            208835.60           ...\n",
       "4  6449.5796           312034.4            220339.55           ...\n",
       "5  1561.0949           173550.7             59582.99           ...\n",
       "6  1925.3489           308248.8            172429.65           ...\n",
       "7  1033.3572           254566.9            278719.26           ...\n",
       "8  1415.8791           222751.4            155843.51           ...\n",
       "9  1200.9968           305462.8             55783.57           ...\n",
       "10  596.5193           317681.4             48174.43           ...\n",
       "   X7570_371.101_8.9_Spectral.Match.to.Cyclopentasiloxane..decamethyl..from.NIST14\n",
       "1  88535.13                                                                       \n",
       "2  23105.14                                                                       \n",
       "3  85134.13                                                                       \n",
       "4  78151.88                                                                       \n",
       "5  15262.75                                                                       \n",
       "6  57562.75                                                                       \n",
       "7  86648.24                                                                       \n",
       "8  65515.40                                                                       \n",
       "9  57218.77                                                                       \n",
       "10 51055.89                                                                       \n",
       "   X7574_166.123_8.912_NA X7576_207.032_8.933_NA X7580_227.04_8.942_NA\n",
       "1  45461.4645             404006.91               69723.987           \n",
       "2   3458.0538             141906.95               24592.849           \n",
       "3  66329.6760             385950.18              105714.600           \n",
       "4  33165.0245             400631.54               62471.438           \n",
       "5    998.1736              98191.72                6908.686           \n",
       "6    726.3410             126101.87                6460.852           \n",
       "7  51988.4310             401686.36               69331.570           \n",
       "8  45445.9290             395310.09               68204.952           \n",
       "9    472.4863             104776.05                7406.810           \n",
       "10   806.3321             120768.01                3802.929           \n",
       "   X7582_226.043_8.944_NA X7585_300.062_8.895_NA X7588_188.092_8.931_NA\n",
       "1  112677.17              200712.95              78041.98              \n",
       "2   33659.37              106273.06              45644.08              \n",
       "3   76235.00              200807.79              64188.41              \n",
       "4  117899.69              199813.98              63555.59              \n",
       "5   36117.88               46181.45              27578.12              \n",
       "6   38179.94               19601.40              33382.79              \n",
       "7  117166.80              205931.52              80310.23              \n",
       "8  117873.27              200441.59              78759.07              \n",
       "9   32528.04              111686.19              41412.83              \n",
       "10  37644.92               79412.79              65301.58              \n",
       "   X7599_175.913_8.948_NA X7607_272.929_8.945_NA X7608_276.935_8.948_NA\n",
       "1  0                        0.000                0                     \n",
       "2  0                      114.876                0                     \n",
       "3  0                        0.000                0                     \n",
       "4  0                        0.000                0                     \n",
       "5  0                        0.000                0                     \n",
       "6  0                        0.000                0                     \n",
       "7  0                        0.000                0                     \n",
       "8  0                        0.000                0                     \n",
       "9  0                        0.000                0                     \n",
       "10 0                        0.000                0                     "
      ]
     },
     "metadata": {},
     "output_type": "display_data"
    }
   ],
   "source": [
    "# Load necessary library\n",
    "library(dplyr)\n",
    "\n",
    "# Assuming 'df' is your dataframe and 'ATTRIBUTE_Replicates' is your column with replicates\n",
    "case3_avg <- df_avg %>%\n",
    "  group_by(ATTRIBUTE_timepoint_minutes) %>%\n",
    "  summarise_all(mean, na.rm = TRUE)\n",
    "\n",
    "case3_avg"
   ]
  },
  {
   "cell_type": "code",
   "execution_count": 363,
   "id": "aafbbd34-305b-4ce1-9db6-f521ef8d64e6",
   "metadata": {},
   "outputs": [],
   "source": [
    "case3_avg$ATTRIBUTE_sample <- \"Avermectin + Gut bacteria\"\n",
    "case3_avg$ATTRIBUTE_replicates <- \"Average(1,2)\"\n",
    "case3_avg$filename <-paste0(\"Avr_Bac_AvgRep_t\",case3_avg$ATTRIBUTE_timepoint_minutes,\".mzML\")\n",
    "case3_avg <- data.frame(case3_avg)"
   ]
  },
  {
   "cell_type": "code",
   "execution_count": 364,
   "id": "5b2c0537-0c48-49fb-a2fd-72af2ccf22a6",
   "metadata": {},
   "outputs": [
    {
     "data": {
      "text/html": [
       "<table class=\"dataframe\">\n",
       "<caption>A data.frame: 10 × 4</caption>\n",
       "<thead>\n",
       "\t<tr><th scope=col>ATTRIBUTE_timepoint_minutes</th><th scope=col>filename</th><th scope=col>ATTRIBUTE_sample</th><th scope=col>ATTRIBUTE_replicates</th></tr>\n",
       "\t<tr><th scope=col>&lt;chr&gt;</th><th scope=col>&lt;chr&gt;</th><th scope=col>&lt;chr&gt;</th><th scope=col>&lt;chr&gt;</th></tr>\n",
       "</thead>\n",
       "<tbody>\n",
       "\t<tr><td>0  </td><td>Avr_Bac_AvgRep_t0.mzML  </td><td>Avermectin + Gut bacteria</td><td>Average(1,2)</td></tr>\n",
       "\t<tr><td>1  </td><td>Avr_Bac_AvgRep_t1.mzML  </td><td>Avermectin + Gut bacteria</td><td>Average(1,2)</td></tr>\n",
       "\t<tr><td>10 </td><td>Avr_Bac_AvgRep_t10.mzML </td><td>Avermectin + Gut bacteria</td><td>Average(1,2)</td></tr>\n",
       "\t<tr><td>120</td><td>Avr_Bac_AvgRep_t120.mzML</td><td>Avermectin + Gut bacteria</td><td>Average(1,2)</td></tr>\n",
       "\t<tr><td>180</td><td>Avr_Bac_AvgRep_t180.mzML</td><td>Avermectin + Gut bacteria</td><td>Average(1,2)</td></tr>\n",
       "\t<tr><td>20 </td><td>Avr_Bac_AvgRep_t20.mzML </td><td>Avermectin + Gut bacteria</td><td>Average(1,2)</td></tr>\n",
       "\t<tr><td>240</td><td>Avr_Bac_AvgRep_t240.mzML</td><td>Avermectin + Gut bacteria</td><td>Average(1,2)</td></tr>\n",
       "\t<tr><td>30 </td><td>Avr_Bac_AvgRep_t30.mzML </td><td>Avermectin + Gut bacteria</td><td>Average(1,2)</td></tr>\n",
       "\t<tr><td>60 </td><td>Avr_Bac_AvgRep_t60.mzML </td><td>Avermectin + Gut bacteria</td><td>Average(1,2)</td></tr>\n",
       "\t<tr><td>720</td><td>Avr_Bac_AvgRep_t720.mzML</td><td>Avermectin + Gut bacteria</td><td>Average(1,2)</td></tr>\n",
       "</tbody>\n",
       "</table>\n"
      ],
      "text/latex": [
       "A data.frame: 10 × 4\n",
       "\\begin{tabular}{llll}\n",
       " ATTRIBUTE\\_timepoint\\_minutes & filename & ATTRIBUTE\\_sample & ATTRIBUTE\\_replicates\\\\\n",
       " <chr> & <chr> & <chr> & <chr>\\\\\n",
       "\\hline\n",
       "\t 0   & Avr\\_Bac\\_AvgRep\\_t0.mzML   & Avermectin + Gut bacteria & Average(1,2)\\\\\n",
       "\t 1   & Avr\\_Bac\\_AvgRep\\_t1.mzML   & Avermectin + Gut bacteria & Average(1,2)\\\\\n",
       "\t 10  & Avr\\_Bac\\_AvgRep\\_t10.mzML  & Avermectin + Gut bacteria & Average(1,2)\\\\\n",
       "\t 120 & Avr\\_Bac\\_AvgRep\\_t120.mzML & Avermectin + Gut bacteria & Average(1,2)\\\\\n",
       "\t 180 & Avr\\_Bac\\_AvgRep\\_t180.mzML & Avermectin + Gut bacteria & Average(1,2)\\\\\n",
       "\t 20  & Avr\\_Bac\\_AvgRep\\_t20.mzML  & Avermectin + Gut bacteria & Average(1,2)\\\\\n",
       "\t 240 & Avr\\_Bac\\_AvgRep\\_t240.mzML & Avermectin + Gut bacteria & Average(1,2)\\\\\n",
       "\t 30  & Avr\\_Bac\\_AvgRep\\_t30.mzML  & Avermectin + Gut bacteria & Average(1,2)\\\\\n",
       "\t 60  & Avr\\_Bac\\_AvgRep\\_t60.mzML  & Avermectin + Gut bacteria & Average(1,2)\\\\\n",
       "\t 720 & Avr\\_Bac\\_AvgRep\\_t720.mzML & Avermectin + Gut bacteria & Average(1,2)\\\\\n",
       "\\end{tabular}\n"
      ],
      "text/markdown": [
       "\n",
       "A data.frame: 10 × 4\n",
       "\n",
       "| ATTRIBUTE_timepoint_minutes &lt;chr&gt; | filename &lt;chr&gt; | ATTRIBUTE_sample &lt;chr&gt; | ATTRIBUTE_replicates &lt;chr&gt; |\n",
       "|---|---|---|---|\n",
       "| 0   | Avr_Bac_AvgRep_t0.mzML   | Avermectin + Gut bacteria | Average(1,2) |\n",
       "| 1   | Avr_Bac_AvgRep_t1.mzML   | Avermectin + Gut bacteria | Average(1,2) |\n",
       "| 10  | Avr_Bac_AvgRep_t10.mzML  | Avermectin + Gut bacteria | Average(1,2) |\n",
       "| 120 | Avr_Bac_AvgRep_t120.mzML | Avermectin + Gut bacteria | Average(1,2) |\n",
       "| 180 | Avr_Bac_AvgRep_t180.mzML | Avermectin + Gut bacteria | Average(1,2) |\n",
       "| 20  | Avr_Bac_AvgRep_t20.mzML  | Avermectin + Gut bacteria | Average(1,2) |\n",
       "| 240 | Avr_Bac_AvgRep_t240.mzML | Avermectin + Gut bacteria | Average(1,2) |\n",
       "| 30  | Avr_Bac_AvgRep_t30.mzML  | Avermectin + Gut bacteria | Average(1,2) |\n",
       "| 60  | Avr_Bac_AvgRep_t60.mzML  | Avermectin + Gut bacteria | Average(1,2) |\n",
       "| 720 | Avr_Bac_AvgRep_t720.mzML | Avermectin + Gut bacteria | Average(1,2) |\n",
       "\n"
      ],
      "text/plain": [
       "   ATTRIBUTE_timepoint_minutes filename                \n",
       "1  0                           Avr_Bac_AvgRep_t0.mzML  \n",
       "2  1                           Avr_Bac_AvgRep_t1.mzML  \n",
       "3  10                          Avr_Bac_AvgRep_t10.mzML \n",
       "4  120                         Avr_Bac_AvgRep_t120.mzML\n",
       "5  180                         Avr_Bac_AvgRep_t180.mzML\n",
       "6  20                          Avr_Bac_AvgRep_t20.mzML \n",
       "7  240                         Avr_Bac_AvgRep_t240.mzML\n",
       "8  30                          Avr_Bac_AvgRep_t30.mzML \n",
       "9  60                          Avr_Bac_AvgRep_t60.mzML \n",
       "10 720                         Avr_Bac_AvgRep_t720.mzML\n",
       "   ATTRIBUTE_sample          ATTRIBUTE_replicates\n",
       "1  Avermectin + Gut bacteria Average(1,2)        \n",
       "2  Avermectin + Gut bacteria Average(1,2)        \n",
       "3  Avermectin + Gut bacteria Average(1,2)        \n",
       "4  Avermectin + Gut bacteria Average(1,2)        \n",
       "5  Avermectin + Gut bacteria Average(1,2)        \n",
       "6  Avermectin + Gut bacteria Average(1,2)        \n",
       "7  Avermectin + Gut bacteria Average(1,2)        \n",
       "8  Avermectin + Gut bacteria Average(1,2)        \n",
       "9  Avermectin + Gut bacteria Average(1,2)        \n",
       "10 Avermectin + Gut bacteria Average(1,2)        "
      ]
     },
     "metadata": {},
     "output_type": "display_data"
    }
   ],
   "source": [
    "case3_avg_md <- data.frame(case3_avg[,1:4])\n",
    "case3_avg_md"
   ]
  },
  {
   "cell_type": "code",
   "execution_count": 365,
   "id": "cd369f58-af43-4854-8d9b-e614abcf6a41",
   "metadata": {},
   "outputs": [
    {
     "data": {
      "text/html": [
       "<table class=\"dataframe\">\n",
       "<caption>A data.frame: 6 × 3412</caption>\n",
       "<thead>\n",
       "\t<tr><th></th><th scope=col>X2_285.01_0.026_NA</th><th scope=col>X4_166.123_0.054_NA</th><th scope=col>X5_227.04_0.023_NA</th><th scope=col>X6_223.084_0.078_NA</th><th scope=col>X7_207.032_0.096_NA</th><th scope=col>X8_209.048_0.149_NA</th><th scope=col>X13_248.059_0.067_NA</th><th scope=col>X14_300.062_0.14_NA</th><th scope=col>X20_267.035_0.094_NA</th><th scope=col>X22_209.031_0.103_NA</th><th scope=col>...</th><th scope=col>X7570_371.101_8.9_Spectral.Match.to.Cyclopentasiloxane..decamethyl..from.NIST14</th><th scope=col>X7574_166.123_8.912_NA</th><th scope=col>X7576_207.032_8.933_NA</th><th scope=col>X7580_227.04_8.942_NA</th><th scope=col>X7582_226.043_8.944_NA</th><th scope=col>X7585_300.062_8.895_NA</th><th scope=col>X7588_188.092_8.931_NA</th><th scope=col>X7599_175.913_8.948_NA</th><th scope=col>X7607_272.929_8.945_NA</th><th scope=col>X7608_276.935_8.948_NA</th></tr>\n",
       "\t<tr><th></th><th scope=col>&lt;dbl&gt;</th><th scope=col>&lt;dbl&gt;</th><th scope=col>&lt;dbl&gt;</th><th scope=col>&lt;dbl&gt;</th><th scope=col>&lt;dbl&gt;</th><th scope=col>&lt;dbl&gt;</th><th scope=col>&lt;dbl&gt;</th><th scope=col>&lt;dbl&gt;</th><th scope=col>&lt;dbl&gt;</th><th scope=col>&lt;dbl&gt;</th><th scope=col>...</th><th scope=col>&lt;dbl&gt;</th><th scope=col>&lt;dbl&gt;</th><th scope=col>&lt;dbl&gt;</th><th scope=col>&lt;dbl&gt;</th><th scope=col>&lt;dbl&gt;</th><th scope=col>&lt;dbl&gt;</th><th scope=col>&lt;dbl&gt;</th><th scope=col>&lt;dbl&gt;</th><th scope=col>&lt;dbl&gt;</th><th scope=col>&lt;dbl&gt;</th></tr>\n",
       "</thead>\n",
       "<tbody>\n",
       "\t<tr><th scope=row>Avr_Bac_AvgRep_t0.mzML</th><td>17265.75</td><td>23819.590</td><td>33404.14</td><td>7463.3159</td><td>209880.0</td><td>308597.66</td><td>11215.536</td><td>27138.38</td><td>27713.94</td><td> 2603.861</td><td>...</td><td>88535.13</td><td>45461.4645</td><td>404006.91</td><td> 69723.987</td><td>112677.17</td><td>200712.95</td><td>78041.98</td><td>0</td><td>  0.000</td><td>0</td></tr>\n",
       "\t<tr><th scope=row>Avr_Bac_AvgRep_t1.mzML</th><td>12297.73</td><td>41114.810</td><td>54256.14</td><td>1059.5447</td><td>175875.7</td><td> 52483.35</td><td>10222.343</td><td>27817.74</td><td>38051.83</td><td> 5872.505</td><td>...</td><td>23105.14</td><td> 3458.0538</td><td>141906.95</td><td> 24592.849</td><td> 33659.37</td><td>106273.06</td><td>45644.08</td><td>0</td><td>114.876</td><td>0</td></tr>\n",
       "\t<tr><th scope=row>Avr_Bac_AvgRep_t10.mzML</th><td>28391.02</td><td>18370.477</td><td>46738.75</td><td> 747.8546</td><td>158172.2</td><td>208835.60</td><td>11051.090</td><td>39046.88</td><td>23733.66</td><td> 1376.436</td><td>...</td><td>85134.13</td><td>66329.6760</td><td>385950.18</td><td>105714.600</td><td> 76235.00</td><td>200807.79</td><td>64188.41</td><td>0</td><td>  0.000</td><td>0</td></tr>\n",
       "\t<tr><th scope=row>Avr_Bac_AvgRep_t120.mzML</th><td>19892.88</td><td>16551.906</td><td>29024.56</td><td>6449.5796</td><td>312034.4</td><td>220339.55</td><td>16026.655</td><td>40790.98</td><td>39726.91</td><td> 5387.671</td><td>...</td><td>78151.88</td><td>33165.0245</td><td>400631.54</td><td> 62471.438</td><td>117899.69</td><td>199813.98</td><td>63555.59</td><td>0</td><td>  0.000</td><td>0</td></tr>\n",
       "\t<tr><th scope=row>Avr_Bac_AvgRep_t180.mzML</th><td>14217.79</td><td> 7457.061</td><td>55318.54</td><td>1561.0949</td><td>173550.7</td><td> 59582.99</td><td> 6049.507</td><td>29612.56</td><td>34300.56</td><td> 4946.319</td><td>...</td><td>15262.75</td><td>  998.1736</td><td> 98191.72</td><td>  6908.686</td><td> 36117.88</td><td> 46181.45</td><td>27578.12</td><td>0</td><td>  0.000</td><td>0</td></tr>\n",
       "\t<tr><th scope=row>Avr_Bac_AvgRep_t20.mzML</th><td>24424.03</td><td>46645.240</td><td>28843.20</td><td>1925.3489</td><td>308248.8</td><td>172429.65</td><td>31490.779</td><td>27511.29</td><td>29242.67</td><td>11262.413</td><td>...</td><td>57562.75</td><td>  726.3410</td><td>126101.87</td><td>  6460.852</td><td> 38179.94</td><td> 19601.40</td><td>33382.79</td><td>0</td><td>  0.000</td><td>0</td></tr>\n",
       "</tbody>\n",
       "</table>\n"
      ],
      "text/latex": [
       "A data.frame: 6 × 3412\n",
       "\\begin{tabular}{r|lllllllllllllllllllll}\n",
       "  & X2\\_285.01\\_0.026\\_NA & X4\\_166.123\\_0.054\\_NA & X5\\_227.04\\_0.023\\_NA & X6\\_223.084\\_0.078\\_NA & X7\\_207.032\\_0.096\\_NA & X8\\_209.048\\_0.149\\_NA & X13\\_248.059\\_0.067\\_NA & X14\\_300.062\\_0.14\\_NA & X20\\_267.035\\_0.094\\_NA & X22\\_209.031\\_0.103\\_NA & ... & X7570\\_371.101\\_8.9\\_Spectral.Match.to.Cyclopentasiloxane..decamethyl..from.NIST14 & X7574\\_166.123\\_8.912\\_NA & X7576\\_207.032\\_8.933\\_NA & X7580\\_227.04\\_8.942\\_NA & X7582\\_226.043\\_8.944\\_NA & X7585\\_300.062\\_8.895\\_NA & X7588\\_188.092\\_8.931\\_NA & X7599\\_175.913\\_8.948\\_NA & X7607\\_272.929\\_8.945\\_NA & X7608\\_276.935\\_8.948\\_NA\\\\\n",
       "  & <dbl> & <dbl> & <dbl> & <dbl> & <dbl> & <dbl> & <dbl> & <dbl> & <dbl> & <dbl> & ... & <dbl> & <dbl> & <dbl> & <dbl> & <dbl> & <dbl> & <dbl> & <dbl> & <dbl> & <dbl>\\\\\n",
       "\\hline\n",
       "\tAvr\\_Bac\\_AvgRep\\_t0.mzML & 17265.75 & 23819.590 & 33404.14 & 7463.3159 & 209880.0 & 308597.66 & 11215.536 & 27138.38 & 27713.94 &  2603.861 & ... & 88535.13 & 45461.4645 & 404006.91 &  69723.987 & 112677.17 & 200712.95 & 78041.98 & 0 &   0.000 & 0\\\\\n",
       "\tAvr\\_Bac\\_AvgRep\\_t1.mzML & 12297.73 & 41114.810 & 54256.14 & 1059.5447 & 175875.7 &  52483.35 & 10222.343 & 27817.74 & 38051.83 &  5872.505 & ... & 23105.14 &  3458.0538 & 141906.95 &  24592.849 &  33659.37 & 106273.06 & 45644.08 & 0 & 114.876 & 0\\\\\n",
       "\tAvr\\_Bac\\_AvgRep\\_t10.mzML & 28391.02 & 18370.477 & 46738.75 &  747.8546 & 158172.2 & 208835.60 & 11051.090 & 39046.88 & 23733.66 &  1376.436 & ... & 85134.13 & 66329.6760 & 385950.18 & 105714.600 &  76235.00 & 200807.79 & 64188.41 & 0 &   0.000 & 0\\\\\n",
       "\tAvr\\_Bac\\_AvgRep\\_t120.mzML & 19892.88 & 16551.906 & 29024.56 & 6449.5796 & 312034.4 & 220339.55 & 16026.655 & 40790.98 & 39726.91 &  5387.671 & ... & 78151.88 & 33165.0245 & 400631.54 &  62471.438 & 117899.69 & 199813.98 & 63555.59 & 0 &   0.000 & 0\\\\\n",
       "\tAvr\\_Bac\\_AvgRep\\_t180.mzML & 14217.79 &  7457.061 & 55318.54 & 1561.0949 & 173550.7 &  59582.99 &  6049.507 & 29612.56 & 34300.56 &  4946.319 & ... & 15262.75 &   998.1736 &  98191.72 &   6908.686 &  36117.88 &  46181.45 & 27578.12 & 0 &   0.000 & 0\\\\\n",
       "\tAvr\\_Bac\\_AvgRep\\_t20.mzML & 24424.03 & 46645.240 & 28843.20 & 1925.3489 & 308248.8 & 172429.65 & 31490.779 & 27511.29 & 29242.67 & 11262.413 & ... & 57562.75 &   726.3410 & 126101.87 &   6460.852 &  38179.94 &  19601.40 & 33382.79 & 0 &   0.000 & 0\\\\\n",
       "\\end{tabular}\n"
      ],
      "text/markdown": [
       "\n",
       "A data.frame: 6 × 3412\n",
       "\n",
       "| <!--/--> | X2_285.01_0.026_NA &lt;dbl&gt; | X4_166.123_0.054_NA &lt;dbl&gt; | X5_227.04_0.023_NA &lt;dbl&gt; | X6_223.084_0.078_NA &lt;dbl&gt; | X7_207.032_0.096_NA &lt;dbl&gt; | X8_209.048_0.149_NA &lt;dbl&gt; | X13_248.059_0.067_NA &lt;dbl&gt; | X14_300.062_0.14_NA &lt;dbl&gt; | X20_267.035_0.094_NA &lt;dbl&gt; | X22_209.031_0.103_NA &lt;dbl&gt; | ... ... | X7570_371.101_8.9_Spectral.Match.to.Cyclopentasiloxane..decamethyl..from.NIST14 &lt;dbl&gt; | X7574_166.123_8.912_NA &lt;dbl&gt; | X7576_207.032_8.933_NA &lt;dbl&gt; | X7580_227.04_8.942_NA &lt;dbl&gt; | X7582_226.043_8.944_NA &lt;dbl&gt; | X7585_300.062_8.895_NA &lt;dbl&gt; | X7588_188.092_8.931_NA &lt;dbl&gt; | X7599_175.913_8.948_NA &lt;dbl&gt; | X7607_272.929_8.945_NA &lt;dbl&gt; | X7608_276.935_8.948_NA &lt;dbl&gt; |\n",
       "|---|---|---|---|---|---|---|---|---|---|---|---|---|---|---|---|---|---|---|---|---|---|\n",
       "| Avr_Bac_AvgRep_t0.mzML | 17265.75 | 23819.590 | 33404.14 | 7463.3159 | 209880.0 | 308597.66 | 11215.536 | 27138.38 | 27713.94 |  2603.861 | ... | 88535.13 | 45461.4645 | 404006.91 |  69723.987 | 112677.17 | 200712.95 | 78041.98 | 0 |   0.000 | 0 |\n",
       "| Avr_Bac_AvgRep_t1.mzML | 12297.73 | 41114.810 | 54256.14 | 1059.5447 | 175875.7 |  52483.35 | 10222.343 | 27817.74 | 38051.83 |  5872.505 | ... | 23105.14 |  3458.0538 | 141906.95 |  24592.849 |  33659.37 | 106273.06 | 45644.08 | 0 | 114.876 | 0 |\n",
       "| Avr_Bac_AvgRep_t10.mzML | 28391.02 | 18370.477 | 46738.75 |  747.8546 | 158172.2 | 208835.60 | 11051.090 | 39046.88 | 23733.66 |  1376.436 | ... | 85134.13 | 66329.6760 | 385950.18 | 105714.600 |  76235.00 | 200807.79 | 64188.41 | 0 |   0.000 | 0 |\n",
       "| Avr_Bac_AvgRep_t120.mzML | 19892.88 | 16551.906 | 29024.56 | 6449.5796 | 312034.4 | 220339.55 | 16026.655 | 40790.98 | 39726.91 |  5387.671 | ... | 78151.88 | 33165.0245 | 400631.54 |  62471.438 | 117899.69 | 199813.98 | 63555.59 | 0 |   0.000 | 0 |\n",
       "| Avr_Bac_AvgRep_t180.mzML | 14217.79 |  7457.061 | 55318.54 | 1561.0949 | 173550.7 |  59582.99 |  6049.507 | 29612.56 | 34300.56 |  4946.319 | ... | 15262.75 |   998.1736 |  98191.72 |   6908.686 |  36117.88 |  46181.45 | 27578.12 | 0 |   0.000 | 0 |\n",
       "| Avr_Bac_AvgRep_t20.mzML | 24424.03 | 46645.240 | 28843.20 | 1925.3489 | 308248.8 | 172429.65 | 31490.779 | 27511.29 | 29242.67 | 11262.413 | ... | 57562.75 |   726.3410 | 126101.87 |   6460.852 |  38179.94 |  19601.40 | 33382.79 | 0 |   0.000 | 0 |\n",
       "\n"
      ],
      "text/plain": [
       "                         X2_285.01_0.026_NA X4_166.123_0.054_NA\n",
       "Avr_Bac_AvgRep_t0.mzML   17265.75           23819.590          \n",
       "Avr_Bac_AvgRep_t1.mzML   12297.73           41114.810          \n",
       "Avr_Bac_AvgRep_t10.mzML  28391.02           18370.477          \n",
       "Avr_Bac_AvgRep_t120.mzML 19892.88           16551.906          \n",
       "Avr_Bac_AvgRep_t180.mzML 14217.79            7457.061          \n",
       "Avr_Bac_AvgRep_t20.mzML  24424.03           46645.240          \n",
       "                         X5_227.04_0.023_NA X6_223.084_0.078_NA\n",
       "Avr_Bac_AvgRep_t0.mzML   33404.14           7463.3159          \n",
       "Avr_Bac_AvgRep_t1.mzML   54256.14           1059.5447          \n",
       "Avr_Bac_AvgRep_t10.mzML  46738.75            747.8546          \n",
       "Avr_Bac_AvgRep_t120.mzML 29024.56           6449.5796          \n",
       "Avr_Bac_AvgRep_t180.mzML 55318.54           1561.0949          \n",
       "Avr_Bac_AvgRep_t20.mzML  28843.20           1925.3489          \n",
       "                         X7_207.032_0.096_NA X8_209.048_0.149_NA\n",
       "Avr_Bac_AvgRep_t0.mzML   209880.0            308597.66          \n",
       "Avr_Bac_AvgRep_t1.mzML   175875.7             52483.35          \n",
       "Avr_Bac_AvgRep_t10.mzML  158172.2            208835.60          \n",
       "Avr_Bac_AvgRep_t120.mzML 312034.4            220339.55          \n",
       "Avr_Bac_AvgRep_t180.mzML 173550.7             59582.99          \n",
       "Avr_Bac_AvgRep_t20.mzML  308248.8            172429.65          \n",
       "                         X13_248.059_0.067_NA X14_300.062_0.14_NA\n",
       "Avr_Bac_AvgRep_t0.mzML   11215.536            27138.38           \n",
       "Avr_Bac_AvgRep_t1.mzML   10222.343            27817.74           \n",
       "Avr_Bac_AvgRep_t10.mzML  11051.090            39046.88           \n",
       "Avr_Bac_AvgRep_t120.mzML 16026.655            40790.98           \n",
       "Avr_Bac_AvgRep_t180.mzML  6049.507            29612.56           \n",
       "Avr_Bac_AvgRep_t20.mzML  31490.779            27511.29           \n",
       "                         X20_267.035_0.094_NA X22_209.031_0.103_NA ...\n",
       "Avr_Bac_AvgRep_t0.mzML   27713.94              2603.861            ...\n",
       "Avr_Bac_AvgRep_t1.mzML   38051.83              5872.505            ...\n",
       "Avr_Bac_AvgRep_t10.mzML  23733.66              1376.436            ...\n",
       "Avr_Bac_AvgRep_t120.mzML 39726.91              5387.671            ...\n",
       "Avr_Bac_AvgRep_t180.mzML 34300.56              4946.319            ...\n",
       "Avr_Bac_AvgRep_t20.mzML  29242.67             11262.413            ...\n",
       "                         X7570_371.101_8.9_Spectral.Match.to.Cyclopentasiloxane..decamethyl..from.NIST14\n",
       "Avr_Bac_AvgRep_t0.mzML   88535.13                                                                       \n",
       "Avr_Bac_AvgRep_t1.mzML   23105.14                                                                       \n",
       "Avr_Bac_AvgRep_t10.mzML  85134.13                                                                       \n",
       "Avr_Bac_AvgRep_t120.mzML 78151.88                                                                       \n",
       "Avr_Bac_AvgRep_t180.mzML 15262.75                                                                       \n",
       "Avr_Bac_AvgRep_t20.mzML  57562.75                                                                       \n",
       "                         X7574_166.123_8.912_NA X7576_207.032_8.933_NA\n",
       "Avr_Bac_AvgRep_t0.mzML   45461.4645             404006.91             \n",
       "Avr_Bac_AvgRep_t1.mzML    3458.0538             141906.95             \n",
       "Avr_Bac_AvgRep_t10.mzML  66329.6760             385950.18             \n",
       "Avr_Bac_AvgRep_t120.mzML 33165.0245             400631.54             \n",
       "Avr_Bac_AvgRep_t180.mzML   998.1736              98191.72             \n",
       "Avr_Bac_AvgRep_t20.mzML    726.3410             126101.87             \n",
       "                         X7580_227.04_8.942_NA X7582_226.043_8.944_NA\n",
       "Avr_Bac_AvgRep_t0.mzML    69723.987            112677.17             \n",
       "Avr_Bac_AvgRep_t1.mzML    24592.849             33659.37             \n",
       "Avr_Bac_AvgRep_t10.mzML  105714.600             76235.00             \n",
       "Avr_Bac_AvgRep_t120.mzML  62471.438            117899.69             \n",
       "Avr_Bac_AvgRep_t180.mzML   6908.686             36117.88             \n",
       "Avr_Bac_AvgRep_t20.mzML    6460.852             38179.94             \n",
       "                         X7585_300.062_8.895_NA X7588_188.092_8.931_NA\n",
       "Avr_Bac_AvgRep_t0.mzML   200712.95              78041.98              \n",
       "Avr_Bac_AvgRep_t1.mzML   106273.06              45644.08              \n",
       "Avr_Bac_AvgRep_t10.mzML  200807.79              64188.41              \n",
       "Avr_Bac_AvgRep_t120.mzML 199813.98              63555.59              \n",
       "Avr_Bac_AvgRep_t180.mzML  46181.45              27578.12              \n",
       "Avr_Bac_AvgRep_t20.mzML   19601.40              33382.79              \n",
       "                         X7599_175.913_8.948_NA X7607_272.929_8.945_NA\n",
       "Avr_Bac_AvgRep_t0.mzML   0                        0.000               \n",
       "Avr_Bac_AvgRep_t1.mzML   0                      114.876               \n",
       "Avr_Bac_AvgRep_t10.mzML  0                        0.000               \n",
       "Avr_Bac_AvgRep_t120.mzML 0                        0.000               \n",
       "Avr_Bac_AvgRep_t180.mzML 0                        0.000               \n",
       "Avr_Bac_AvgRep_t20.mzML  0                        0.000               \n",
       "                         X7608_276.935_8.948_NA\n",
       "Avr_Bac_AvgRep_t0.mzML   0                     \n",
       "Avr_Bac_AvgRep_t1.mzML   0                     \n",
       "Avr_Bac_AvgRep_t10.mzML  0                     \n",
       "Avr_Bac_AvgRep_t120.mzML 0                     \n",
       "Avr_Bac_AvgRep_t180.mzML 0                     \n",
       "Avr_Bac_AvgRep_t20.mzML  0                     "
      ]
     },
     "metadata": {},
     "output_type": "display_data"
    }
   ],
   "source": [
    "rownames(case3_avg) <- case3_avg$filename\n",
    "case3_avg <- case3_avg[,-1:-4]\n",
    "head(case3_avg)"
   ]
  },
  {
   "cell_type": "code",
   "execution_count": 366,
   "id": "c8d2b57f-a9e7-40ad-a92e-0ac284f79787",
   "metadata": {},
   "outputs": [
    {
     "data": {
      "text/html": [
       "<table class=\"dataframe\">\n",
       "<caption>A data.frame: 6 × 10</caption>\n",
       "<thead>\n",
       "\t<tr><th></th><th scope=col>Avr_Bac_AvgRep_t0.mzML</th><th scope=col>Avr_Bac_AvgRep_t1.mzML</th><th scope=col>Avr_Bac_AvgRep_t10.mzML</th><th scope=col>Avr_Bac_AvgRep_t120.mzML</th><th scope=col>Avr_Bac_AvgRep_t180.mzML</th><th scope=col>Avr_Bac_AvgRep_t20.mzML</th><th scope=col>Avr_Bac_AvgRep_t240.mzML</th><th scope=col>Avr_Bac_AvgRep_t30.mzML</th><th scope=col>Avr_Bac_AvgRep_t60.mzML</th><th scope=col>Avr_Bac_AvgRep_t720.mzML</th></tr>\n",
       "\t<tr><th></th><th scope=col>&lt;dbl&gt;</th><th scope=col>&lt;dbl&gt;</th><th scope=col>&lt;dbl&gt;</th><th scope=col>&lt;dbl&gt;</th><th scope=col>&lt;dbl&gt;</th><th scope=col>&lt;dbl&gt;</th><th scope=col>&lt;dbl&gt;</th><th scope=col>&lt;dbl&gt;</th><th scope=col>&lt;dbl&gt;</th><th scope=col>&lt;dbl&gt;</th></tr>\n",
       "</thead>\n",
       "<tbody>\n",
       "\t<tr><th scope=row>X2_285.01_0.026_NA</th><td> 17265.746</td><td> 12297.727</td><td> 28391.0235</td><td> 19892.88</td><td> 14217.791</td><td> 24424.032</td><td> 26070.410</td><td> 15937.198</td><td> 25650.404</td><td> 26038.8855</td></tr>\n",
       "\t<tr><th scope=row>X4_166.123_0.054_NA</th><td> 23819.590</td><td> 41114.810</td><td> 18370.4771</td><td> 16551.91</td><td>  7457.061</td><td> 46645.240</td><td> 14054.712</td><td> 24469.700</td><td> 17853.094</td><td> 64700.4240</td></tr>\n",
       "\t<tr><th scope=row>X5_227.04_0.023_NA</th><td> 33404.139</td><td> 54256.135</td><td> 46738.7540</td><td> 29024.56</td><td> 55318.544</td><td> 28843.200</td><td> 43514.387</td><td> 15007.301</td><td> 22186.611</td><td> 66920.8550</td></tr>\n",
       "\t<tr><th scope=row>X6_223.084_0.078_NA</th><td>  7463.316</td><td>  1059.545</td><td>   747.8546</td><td>  6449.58</td><td>  1561.095</td><td>  1925.349</td><td>  1033.357</td><td>  1415.879</td><td>  1200.997</td><td>   596.5193</td></tr>\n",
       "\t<tr><th scope=row>X7_207.032_0.096_NA</th><td>209879.965</td><td>175875.718</td><td>158172.1635</td><td>312034.41</td><td>173550.697</td><td>308248.820</td><td>254566.940</td><td>222751.350</td><td>305462.800</td><td>317681.3800</td></tr>\n",
       "\t<tr><th scope=row>X8_209.048_0.149_NA</th><td>308597.655</td><td> 52483.354</td><td>208835.6050</td><td>220339.55</td><td> 59582.989</td><td>172429.655</td><td>278719.255</td><td>155843.505</td><td> 55783.573</td><td> 48174.4270</td></tr>\n",
       "</tbody>\n",
       "</table>\n"
      ],
      "text/latex": [
       "A data.frame: 6 × 10\n",
       "\\begin{tabular}{r|llllllllll}\n",
       "  & Avr\\_Bac\\_AvgRep\\_t0.mzML & Avr\\_Bac\\_AvgRep\\_t1.mzML & Avr\\_Bac\\_AvgRep\\_t10.mzML & Avr\\_Bac\\_AvgRep\\_t120.mzML & Avr\\_Bac\\_AvgRep\\_t180.mzML & Avr\\_Bac\\_AvgRep\\_t20.mzML & Avr\\_Bac\\_AvgRep\\_t240.mzML & Avr\\_Bac\\_AvgRep\\_t30.mzML & Avr\\_Bac\\_AvgRep\\_t60.mzML & Avr\\_Bac\\_AvgRep\\_t720.mzML\\\\\n",
       "  & <dbl> & <dbl> & <dbl> & <dbl> & <dbl> & <dbl> & <dbl> & <dbl> & <dbl> & <dbl>\\\\\n",
       "\\hline\n",
       "\tX2\\_285.01\\_0.026\\_NA &  17265.746 &  12297.727 &  28391.0235 &  19892.88 &  14217.791 &  24424.032 &  26070.410 &  15937.198 &  25650.404 &  26038.8855\\\\\n",
       "\tX4\\_166.123\\_0.054\\_NA &  23819.590 &  41114.810 &  18370.4771 &  16551.91 &   7457.061 &  46645.240 &  14054.712 &  24469.700 &  17853.094 &  64700.4240\\\\\n",
       "\tX5\\_227.04\\_0.023\\_NA &  33404.139 &  54256.135 &  46738.7540 &  29024.56 &  55318.544 &  28843.200 &  43514.387 &  15007.301 &  22186.611 &  66920.8550\\\\\n",
       "\tX6\\_223.084\\_0.078\\_NA &   7463.316 &   1059.545 &    747.8546 &   6449.58 &   1561.095 &   1925.349 &   1033.357 &   1415.879 &   1200.997 &    596.5193\\\\\n",
       "\tX7\\_207.032\\_0.096\\_NA & 209879.965 & 175875.718 & 158172.1635 & 312034.41 & 173550.697 & 308248.820 & 254566.940 & 222751.350 & 305462.800 & 317681.3800\\\\\n",
       "\tX8\\_209.048\\_0.149\\_NA & 308597.655 &  52483.354 & 208835.6050 & 220339.55 &  59582.989 & 172429.655 & 278719.255 & 155843.505 &  55783.573 &  48174.4270\\\\\n",
       "\\end{tabular}\n"
      ],
      "text/markdown": [
       "\n",
       "A data.frame: 6 × 10\n",
       "\n",
       "| <!--/--> | Avr_Bac_AvgRep_t0.mzML &lt;dbl&gt; | Avr_Bac_AvgRep_t1.mzML &lt;dbl&gt; | Avr_Bac_AvgRep_t10.mzML &lt;dbl&gt; | Avr_Bac_AvgRep_t120.mzML &lt;dbl&gt; | Avr_Bac_AvgRep_t180.mzML &lt;dbl&gt; | Avr_Bac_AvgRep_t20.mzML &lt;dbl&gt; | Avr_Bac_AvgRep_t240.mzML &lt;dbl&gt; | Avr_Bac_AvgRep_t30.mzML &lt;dbl&gt; | Avr_Bac_AvgRep_t60.mzML &lt;dbl&gt; | Avr_Bac_AvgRep_t720.mzML &lt;dbl&gt; |\n",
       "|---|---|---|---|---|---|---|---|---|---|---|\n",
       "| X2_285.01_0.026_NA |  17265.746 |  12297.727 |  28391.0235 |  19892.88 |  14217.791 |  24424.032 |  26070.410 |  15937.198 |  25650.404 |  26038.8855 |\n",
       "| X4_166.123_0.054_NA |  23819.590 |  41114.810 |  18370.4771 |  16551.91 |   7457.061 |  46645.240 |  14054.712 |  24469.700 |  17853.094 |  64700.4240 |\n",
       "| X5_227.04_0.023_NA |  33404.139 |  54256.135 |  46738.7540 |  29024.56 |  55318.544 |  28843.200 |  43514.387 |  15007.301 |  22186.611 |  66920.8550 |\n",
       "| X6_223.084_0.078_NA |   7463.316 |   1059.545 |    747.8546 |   6449.58 |   1561.095 |   1925.349 |   1033.357 |   1415.879 |   1200.997 |    596.5193 |\n",
       "| X7_207.032_0.096_NA | 209879.965 | 175875.718 | 158172.1635 | 312034.41 | 173550.697 | 308248.820 | 254566.940 | 222751.350 | 305462.800 | 317681.3800 |\n",
       "| X8_209.048_0.149_NA | 308597.655 |  52483.354 | 208835.6050 | 220339.55 |  59582.989 | 172429.655 | 278719.255 | 155843.505 |  55783.573 |  48174.4270 |\n",
       "\n"
      ],
      "text/plain": [
       "                    Avr_Bac_AvgRep_t0.mzML Avr_Bac_AvgRep_t1.mzML\n",
       "X2_285.01_0.026_NA   17265.746              12297.727            \n",
       "X4_166.123_0.054_NA  23819.590              41114.810            \n",
       "X5_227.04_0.023_NA   33404.139              54256.135            \n",
       "X6_223.084_0.078_NA   7463.316               1059.545            \n",
       "X7_207.032_0.096_NA 209879.965             175875.718            \n",
       "X8_209.048_0.149_NA 308597.655              52483.354            \n",
       "                    Avr_Bac_AvgRep_t10.mzML Avr_Bac_AvgRep_t120.mzML\n",
       "X2_285.01_0.026_NA   28391.0235              19892.88               \n",
       "X4_166.123_0.054_NA  18370.4771              16551.91               \n",
       "X5_227.04_0.023_NA   46738.7540              29024.56               \n",
       "X6_223.084_0.078_NA    747.8546               6449.58               \n",
       "X7_207.032_0.096_NA 158172.1635             312034.41               \n",
       "X8_209.048_0.149_NA 208835.6050             220339.55               \n",
       "                    Avr_Bac_AvgRep_t180.mzML Avr_Bac_AvgRep_t20.mzML\n",
       "X2_285.01_0.026_NA   14217.791                24424.032             \n",
       "X4_166.123_0.054_NA   7457.061                46645.240             \n",
       "X5_227.04_0.023_NA   55318.544                28843.200             \n",
       "X6_223.084_0.078_NA   1561.095                 1925.349             \n",
       "X7_207.032_0.096_NA 173550.697               308248.820             \n",
       "X8_209.048_0.149_NA  59582.989               172429.655             \n",
       "                    Avr_Bac_AvgRep_t240.mzML Avr_Bac_AvgRep_t30.mzML\n",
       "X2_285.01_0.026_NA   26070.410                15937.198             \n",
       "X4_166.123_0.054_NA  14054.712                24469.700             \n",
       "X5_227.04_0.023_NA   43514.387                15007.301             \n",
       "X6_223.084_0.078_NA   1033.357                 1415.879             \n",
       "X7_207.032_0.096_NA 254566.940               222751.350             \n",
       "X8_209.048_0.149_NA 278719.255               155843.505             \n",
       "                    Avr_Bac_AvgRep_t60.mzML Avr_Bac_AvgRep_t720.mzML\n",
       "X2_285.01_0.026_NA   25650.404               26038.8855             \n",
       "X4_166.123_0.054_NA  17853.094               64700.4240             \n",
       "X5_227.04_0.023_NA   22186.611               66920.8550             \n",
       "X6_223.084_0.078_NA   1200.997                 596.5193             \n",
       "X7_207.032_0.096_NA 305462.800              317681.3800             \n",
       "X8_209.048_0.149_NA  55783.573               48174.4270             "
      ]
     },
     "metadata": {},
     "output_type": "display_data"
    }
   ],
   "source": [
    "case3_avg <- data.frame(t(case3_avg))\n",
    "head(case3_avg)"
   ]
  },
  {
   "cell_type": "markdown",
   "id": "ab852186-acb2-44e3-9965-5f7ecf8928db",
   "metadata": {},
   "source": [
    "Now repeat the workflow with these new averaged md and ft:"
   ]
  },
  {
   "cell_type": "code",
   "execution_count": 367,
   "id": "1639e595-275b-4c44-a7bf-9a34fe497924",
   "metadata": {},
   "outputs": [
    {
     "data": {
      "text/html": [
       "<table class=\"dataframe\">\n",
       "<caption>A data.frame: 3 × 1</caption>\n",
       "<thead>\n",
       "\t<tr><th></th><th scope=col>ATTRIBUTE_timepoint_minutes</th></tr>\n",
       "\t<tr><th></th><th scope=col>&lt;dbl&gt;</th></tr>\n",
       "</thead>\n",
       "<tbody>\n",
       "\t<tr><th scope=row>Avr_Bac_AvgRep_t0.mzML</th><td> 0</td></tr>\n",
       "\t<tr><th scope=row>Avr_Bac_AvgRep_t1.mzML</th><td> 1</td></tr>\n",
       "\t<tr><th scope=row>Avr_Bac_AvgRep_t10.mzML</th><td>10</td></tr>\n",
       "</tbody>\n",
       "</table>\n"
      ],
      "text/latex": [
       "A data.frame: 3 × 1\n",
       "\\begin{tabular}{r|l}\n",
       "  & ATTRIBUTE\\_timepoint\\_minutes\\\\\n",
       "  & <dbl>\\\\\n",
       "\\hline\n",
       "\tAvr\\_Bac\\_AvgRep\\_t0.mzML &  0\\\\\n",
       "\tAvr\\_Bac\\_AvgRep\\_t1.mzML &  1\\\\\n",
       "\tAvr\\_Bac\\_AvgRep\\_t10.mzML & 10\\\\\n",
       "\\end{tabular}\n"
      ],
      "text/markdown": [
       "\n",
       "A data.frame: 3 × 1\n",
       "\n",
       "| <!--/--> | ATTRIBUTE_timepoint_minutes &lt;dbl&gt; |\n",
       "|---|---|\n",
       "| Avr_Bac_AvgRep_t0.mzML |  0 |\n",
       "| Avr_Bac_AvgRep_t1.mzML |  1 |\n",
       "| Avr_Bac_AvgRep_t10.mzML | 10 |\n",
       "\n"
      ],
      "text/plain": [
       "                        ATTRIBUTE_timepoint_minutes\n",
       "Avr_Bac_AvgRep_t0.mzML   0                         \n",
       "Avr_Bac_AvgRep_t1.mzML   1                         \n",
       "Avr_Bac_AvgRep_t10.mzML 10                         "
      ]
     },
     "metadata": {},
     "output_type": "display_data"
    },
    {
     "name": "stderr",
     "output_type": "stream",
     "text": [
      "The number of rows and columns in Meta_ChemProp column is: 10 x 1\n",
      "\n",
      "\n",
      "The levels in the Meta_ChemProp column is:0, 1, 10, 20, 30, 60, 120, 180, 240, 720\n",
      "\n"
     ]
    }
   ],
   "source": [
    "AvgRep_md_ChemProp <- invisible(prepare_meta_chemprop(subset_md = case3_avg_md, new_md, md_sequence=1)) #here 1 is the column number of ATTRIBUTE_time_point"
   ]
  },
  {
   "cell_type": "code",
   "execution_count": 368,
   "id": "3af21b22-0963-48b3-98e5-a3239d57d912",
   "metadata": {},
   "outputs": [
    {
     "name": "stderr",
     "output_type": "stream",
     "text": [
      "Your Feature file had combined row names (ID_mz_RT_annotation). Only the 'ID' info was taken as row names.\n",
      "\n",
      "The number of rows and columns in the Feature_table is: 3412 x 10\n",
      "\n"
     ]
    },
    {
     "data": {
      "text/html": [
       "<table class=\"dataframe\">\n",
       "<caption>A data.frame: 6 × 10</caption>\n",
       "<thead>\n",
       "\t<tr><th></th><th scope=col>Avr_Bac_AvgRep_t0.mzML</th><th scope=col>Avr_Bac_AvgRep_t1.mzML</th><th scope=col>Avr_Bac_AvgRep_t10.mzML</th><th scope=col>Avr_Bac_AvgRep_t120.mzML</th><th scope=col>Avr_Bac_AvgRep_t180.mzML</th><th scope=col>Avr_Bac_AvgRep_t20.mzML</th><th scope=col>Avr_Bac_AvgRep_t240.mzML</th><th scope=col>Avr_Bac_AvgRep_t30.mzML</th><th scope=col>Avr_Bac_AvgRep_t60.mzML</th><th scope=col>Avr_Bac_AvgRep_t720.mzML</th></tr>\n",
       "\t<tr><th></th><th scope=col>&lt;dbl&gt;</th><th scope=col>&lt;dbl&gt;</th><th scope=col>&lt;dbl&gt;</th><th scope=col>&lt;dbl&gt;</th><th scope=col>&lt;dbl&gt;</th><th scope=col>&lt;dbl&gt;</th><th scope=col>&lt;dbl&gt;</th><th scope=col>&lt;dbl&gt;</th><th scope=col>&lt;dbl&gt;</th><th scope=col>&lt;dbl&gt;</th></tr>\n",
       "</thead>\n",
       "<tbody>\n",
       "\t<tr><th scope=row>2</th><td> 17265.746</td><td> 12297.727</td><td> 28391.0235</td><td> 19892.88</td><td> 14217.791</td><td> 24424.032</td><td> 26070.410</td><td> 15937.198</td><td> 25650.404</td><td> 26038.8855</td></tr>\n",
       "\t<tr><th scope=row>4</th><td> 23819.590</td><td> 41114.810</td><td> 18370.4771</td><td> 16551.91</td><td>  7457.061</td><td> 46645.240</td><td> 14054.712</td><td> 24469.700</td><td> 17853.094</td><td> 64700.4240</td></tr>\n",
       "\t<tr><th scope=row>5</th><td> 33404.139</td><td> 54256.135</td><td> 46738.7540</td><td> 29024.56</td><td> 55318.544</td><td> 28843.200</td><td> 43514.387</td><td> 15007.301</td><td> 22186.611</td><td> 66920.8550</td></tr>\n",
       "\t<tr><th scope=row>6</th><td>  7463.316</td><td>  1059.545</td><td>   747.8546</td><td>  6449.58</td><td>  1561.095</td><td>  1925.349</td><td>  1033.357</td><td>  1415.879</td><td>  1200.997</td><td>   596.5193</td></tr>\n",
       "\t<tr><th scope=row>7</th><td>209879.965</td><td>175875.718</td><td>158172.1635</td><td>312034.41</td><td>173550.697</td><td>308248.820</td><td>254566.940</td><td>222751.350</td><td>305462.800</td><td>317681.3800</td></tr>\n",
       "\t<tr><th scope=row>8</th><td>308597.655</td><td> 52483.354</td><td>208835.6050</td><td>220339.55</td><td> 59582.989</td><td>172429.655</td><td>278719.255</td><td>155843.505</td><td> 55783.573</td><td> 48174.4270</td></tr>\n",
       "</tbody>\n",
       "</table>\n"
      ],
      "text/latex": [
       "A data.frame: 6 × 10\n",
       "\\begin{tabular}{r|llllllllll}\n",
       "  & Avr\\_Bac\\_AvgRep\\_t0.mzML & Avr\\_Bac\\_AvgRep\\_t1.mzML & Avr\\_Bac\\_AvgRep\\_t10.mzML & Avr\\_Bac\\_AvgRep\\_t120.mzML & Avr\\_Bac\\_AvgRep\\_t180.mzML & Avr\\_Bac\\_AvgRep\\_t20.mzML & Avr\\_Bac\\_AvgRep\\_t240.mzML & Avr\\_Bac\\_AvgRep\\_t30.mzML & Avr\\_Bac\\_AvgRep\\_t60.mzML & Avr\\_Bac\\_AvgRep\\_t720.mzML\\\\\n",
       "  & <dbl> & <dbl> & <dbl> & <dbl> & <dbl> & <dbl> & <dbl> & <dbl> & <dbl> & <dbl>\\\\\n",
       "\\hline\n",
       "\t2 &  17265.746 &  12297.727 &  28391.0235 &  19892.88 &  14217.791 &  24424.032 &  26070.410 &  15937.198 &  25650.404 &  26038.8855\\\\\n",
       "\t4 &  23819.590 &  41114.810 &  18370.4771 &  16551.91 &   7457.061 &  46645.240 &  14054.712 &  24469.700 &  17853.094 &  64700.4240\\\\\n",
       "\t5 &  33404.139 &  54256.135 &  46738.7540 &  29024.56 &  55318.544 &  28843.200 &  43514.387 &  15007.301 &  22186.611 &  66920.8550\\\\\n",
       "\t6 &   7463.316 &   1059.545 &    747.8546 &   6449.58 &   1561.095 &   1925.349 &   1033.357 &   1415.879 &   1200.997 &    596.5193\\\\\n",
       "\t7 & 209879.965 & 175875.718 & 158172.1635 & 312034.41 & 173550.697 & 308248.820 & 254566.940 & 222751.350 & 305462.800 & 317681.3800\\\\\n",
       "\t8 & 308597.655 &  52483.354 & 208835.6050 & 220339.55 &  59582.989 & 172429.655 & 278719.255 & 155843.505 &  55783.573 &  48174.4270\\\\\n",
       "\\end{tabular}\n"
      ],
      "text/markdown": [
       "\n",
       "A data.frame: 6 × 10\n",
       "\n",
       "| <!--/--> | Avr_Bac_AvgRep_t0.mzML &lt;dbl&gt; | Avr_Bac_AvgRep_t1.mzML &lt;dbl&gt; | Avr_Bac_AvgRep_t10.mzML &lt;dbl&gt; | Avr_Bac_AvgRep_t120.mzML &lt;dbl&gt; | Avr_Bac_AvgRep_t180.mzML &lt;dbl&gt; | Avr_Bac_AvgRep_t20.mzML &lt;dbl&gt; | Avr_Bac_AvgRep_t240.mzML &lt;dbl&gt; | Avr_Bac_AvgRep_t30.mzML &lt;dbl&gt; | Avr_Bac_AvgRep_t60.mzML &lt;dbl&gt; | Avr_Bac_AvgRep_t720.mzML &lt;dbl&gt; |\n",
       "|---|---|---|---|---|---|---|---|---|---|---|\n",
       "| 2 |  17265.746 |  12297.727 |  28391.0235 |  19892.88 |  14217.791 |  24424.032 |  26070.410 |  15937.198 |  25650.404 |  26038.8855 |\n",
       "| 4 |  23819.590 |  41114.810 |  18370.4771 |  16551.91 |   7457.061 |  46645.240 |  14054.712 |  24469.700 |  17853.094 |  64700.4240 |\n",
       "| 5 |  33404.139 |  54256.135 |  46738.7540 |  29024.56 |  55318.544 |  28843.200 |  43514.387 |  15007.301 |  22186.611 |  66920.8550 |\n",
       "| 6 |   7463.316 |   1059.545 |    747.8546 |   6449.58 |   1561.095 |   1925.349 |   1033.357 |   1415.879 |   1200.997 |    596.5193 |\n",
       "| 7 | 209879.965 | 175875.718 | 158172.1635 | 312034.41 | 173550.697 | 308248.820 | 254566.940 | 222751.350 | 305462.800 | 317681.3800 |\n",
       "| 8 | 308597.655 |  52483.354 | 208835.6050 | 220339.55 |  59582.989 | 172429.655 | 278719.255 | 155843.505 |  55783.573 |  48174.4270 |\n",
       "\n"
      ],
      "text/plain": [
       "  Avr_Bac_AvgRep_t0.mzML Avr_Bac_AvgRep_t1.mzML Avr_Bac_AvgRep_t10.mzML\n",
       "2  17265.746              12297.727              28391.0235            \n",
       "4  23819.590              41114.810              18370.4771            \n",
       "5  33404.139              54256.135              46738.7540            \n",
       "6   7463.316               1059.545                747.8546            \n",
       "7 209879.965             175875.718             158172.1635            \n",
       "8 308597.655              52483.354             208835.6050            \n",
       "  Avr_Bac_AvgRep_t120.mzML Avr_Bac_AvgRep_t180.mzML Avr_Bac_AvgRep_t20.mzML\n",
       "2  19892.88                 14217.791                24424.032             \n",
       "4  16551.91                  7457.061                46645.240             \n",
       "5  29024.56                 55318.544                28843.200             \n",
       "6   6449.58                  1561.095                 1925.349             \n",
       "7 312034.41                173550.697               308248.820             \n",
       "8 220339.55                 59582.989               172429.655             \n",
       "  Avr_Bac_AvgRep_t240.mzML Avr_Bac_AvgRep_t30.mzML Avr_Bac_AvgRep_t60.mzML\n",
       "2  26070.410                15937.198               25650.404             \n",
       "4  14054.712                24469.700               17853.094             \n",
       "5  43514.387                15007.301               22186.611             \n",
       "6   1033.357                 1415.879                1200.997             \n",
       "7 254566.940               222751.350              305462.800             \n",
       "8 278719.255               155843.505               55783.573             \n",
       "  Avr_Bac_AvgRep_t720.mzML\n",
       "2  26038.8855             \n",
       "4  64700.4240             \n",
       "5  66920.8550             \n",
       "6    596.5193             \n",
       "7 317681.3800             \n",
       "8  48174.4270             "
      ]
     },
     "metadata": {},
     "output_type": "display_data"
    }
   ],
   "source": [
    "ChemProp_ft_AvgRep <- invisible(prepare_ChemProp2_feature_table(subset_ft = case3_avg, new_ft))"
   ]
  },
  {
   "cell_type": "code",
   "execution_count": 369,
   "id": "9047e4d2-2232-4a9c-9d94-dd59f6260953",
   "metadata": {},
   "outputs": [
    {
     "data": {
      "text/html": [
       "<table class=\"dataframe\">\n",
       "<caption>A data.frame: 6 × 14</caption>\n",
       "<thead>\n",
       "\t<tr><th></th><th scope=col>CLUSTERID1</th><th scope=col>CLUSTERID2</th><th scope=col>ComponentIndex</th><th scope=col>Cosine</th><th scope=col>DeltaMZ</th><th scope=col>ChemProp2</th><th scope=col>ChemProp_spearman</th><th scope=col>ChemProp_log</th><th scope=col>ChemProp_sqrt</th><th scope=col>abs_ChemProp2</th><th scope=col>abs_ChemProp_spearman</th><th scope=col>abs_ChemProp_log</th><th scope=col>abs_ChemProp_sqrt</th><th scope=col>Sign_ChemProp2</th></tr>\n",
       "\t<tr><th></th><th scope=col>&lt;int&gt;</th><th scope=col>&lt;int&gt;</th><th scope=col>&lt;int&gt;</th><th scope=col>&lt;dbl&gt;</th><th scope=col>&lt;dbl&gt;</th><th scope=col>&lt;dbl&gt;</th><th scope=col>&lt;dbl&gt;</th><th scope=col>&lt;dbl&gt;</th><th scope=col>&lt;dbl&gt;</th><th scope=col>&lt;dbl&gt;</th><th scope=col>&lt;dbl&gt;</th><th scope=col>&lt;dbl&gt;</th><th scope=col>&lt;dbl&gt;</th><th scope=col>&lt;dbl&gt;</th></tr>\n",
       "</thead>\n",
       "<tbody>\n",
       "\t<tr><th scope=row>1</th><td>4665</td><td>5180</td><td>1</td><td>0.7252</td><td>  18.010</td><td>-0.07279578</td><td> 0.03805308</td><td>-0.04024248</td><td>-0.06134123</td><td>0.07279578</td><td>0.03805308</td><td>0.04024248</td><td>0.06134123</td><td>-1</td></tr>\n",
       "\t<tr><th scope=row>2</th><td>2991</td><td>3274</td><td>2</td><td>0.8399</td><td>   0.021</td><td> 0.01123600</td><td> 0.15416384</td><td> 0.16557195</td><td> 0.07549082</td><td>0.01123600</td><td>0.15416384</td><td>0.16557195</td><td>0.07549082</td><td> 1</td></tr>\n",
       "\t<tr><th scope=row>3</th><td>2196</td><td>3549</td><td>2</td><td>0.8259</td><td> -48.000</td><td> 0.22617748</td><td> 0.36969697</td><td> 0.28884364</td><td> 0.26453007</td><td>0.22617748</td><td>0.36969697</td><td>0.28884364</td><td>0.26453007</td><td> 1</td></tr>\n",
       "\t<tr><th scope=row>4</th><td>2991</td><td>3549</td><td>2</td><td>0.7675</td><td> -33.964</td><td> 0.22558611</td><td> 0.49355778</td><td> 0.42619483</td><td> 0.31935196</td><td>0.22558611</td><td>0.49355778</td><td>0.42619483</td><td>0.31935196</td><td> 1</td></tr>\n",
       "\t<tr><th scope=row>5</th><td>3162</td><td>3549</td><td>2</td><td>0.7899</td><td>-119.037</td><td>-0.28200055</td><td>-0.20000000</td><td>-0.17620705</td><td>-0.22773627</td><td>0.28200055</td><td>0.20000000</td><td>0.17620705</td><td>0.22773627</td><td>-1</td></tr>\n",
       "\t<tr><th scope=row>6</th><td>2196</td><td>3274</td><td>2</td><td>0.8067</td><td> -14.016</td><td> 0.01182737</td><td> 0.03030303</td><td> 0.02822077</td><td> 0.02066893</td><td>0.01182737</td><td>0.03030303</td><td>0.02822077</td><td>0.02066893</td><td> 1</td></tr>\n",
       "</tbody>\n",
       "</table>\n"
      ],
      "text/latex": [
       "A data.frame: 6 × 14\n",
       "\\begin{tabular}{r|llllllllllllll}\n",
       "  & CLUSTERID1 & CLUSTERID2 & ComponentIndex & Cosine & DeltaMZ & ChemProp2 & ChemProp\\_spearman & ChemProp\\_log & ChemProp\\_sqrt & abs\\_ChemProp2 & abs\\_ChemProp\\_spearman & abs\\_ChemProp\\_log & abs\\_ChemProp\\_sqrt & Sign\\_ChemProp2\\\\\n",
       "  & <int> & <int> & <int> & <dbl> & <dbl> & <dbl> & <dbl> & <dbl> & <dbl> & <dbl> & <dbl> & <dbl> & <dbl> & <dbl>\\\\\n",
       "\\hline\n",
       "\t1 & 4665 & 5180 & 1 & 0.7252 &   18.010 & -0.07279578 &  0.03805308 & -0.04024248 & -0.06134123 & 0.07279578 & 0.03805308 & 0.04024248 & 0.06134123 & -1\\\\\n",
       "\t2 & 2991 & 3274 & 2 & 0.8399 &    0.021 &  0.01123600 &  0.15416384 &  0.16557195 &  0.07549082 & 0.01123600 & 0.15416384 & 0.16557195 & 0.07549082 &  1\\\\\n",
       "\t3 & 2196 & 3549 & 2 & 0.8259 &  -48.000 &  0.22617748 &  0.36969697 &  0.28884364 &  0.26453007 & 0.22617748 & 0.36969697 & 0.28884364 & 0.26453007 &  1\\\\\n",
       "\t4 & 2991 & 3549 & 2 & 0.7675 &  -33.964 &  0.22558611 &  0.49355778 &  0.42619483 &  0.31935196 & 0.22558611 & 0.49355778 & 0.42619483 & 0.31935196 &  1\\\\\n",
       "\t5 & 3162 & 3549 & 2 & 0.7899 & -119.037 & -0.28200055 & -0.20000000 & -0.17620705 & -0.22773627 & 0.28200055 & 0.20000000 & 0.17620705 & 0.22773627 & -1\\\\\n",
       "\t6 & 2196 & 3274 & 2 & 0.8067 &  -14.016 &  0.01182737 &  0.03030303 &  0.02822077 &  0.02066893 & 0.01182737 & 0.03030303 & 0.02822077 & 0.02066893 &  1\\\\\n",
       "\\end{tabular}\n"
      ],
      "text/markdown": [
       "\n",
       "A data.frame: 6 × 14\n",
       "\n",
       "| <!--/--> | CLUSTERID1 &lt;int&gt; | CLUSTERID2 &lt;int&gt; | ComponentIndex &lt;int&gt; | Cosine &lt;dbl&gt; | DeltaMZ &lt;dbl&gt; | ChemProp2 &lt;dbl&gt; | ChemProp_spearman &lt;dbl&gt; | ChemProp_log &lt;dbl&gt; | ChemProp_sqrt &lt;dbl&gt; | abs_ChemProp2 &lt;dbl&gt; | abs_ChemProp_spearman &lt;dbl&gt; | abs_ChemProp_log &lt;dbl&gt; | abs_ChemProp_sqrt &lt;dbl&gt; | Sign_ChemProp2 &lt;dbl&gt; |\n",
       "|---|---|---|---|---|---|---|---|---|---|---|---|---|---|---|\n",
       "| 1 | 4665 | 5180 | 1 | 0.7252 |   18.010 | -0.07279578 |  0.03805308 | -0.04024248 | -0.06134123 | 0.07279578 | 0.03805308 | 0.04024248 | 0.06134123 | -1 |\n",
       "| 2 | 2991 | 3274 | 2 | 0.8399 |    0.021 |  0.01123600 |  0.15416384 |  0.16557195 |  0.07549082 | 0.01123600 | 0.15416384 | 0.16557195 | 0.07549082 |  1 |\n",
       "| 3 | 2196 | 3549 | 2 | 0.8259 |  -48.000 |  0.22617748 |  0.36969697 |  0.28884364 |  0.26453007 | 0.22617748 | 0.36969697 | 0.28884364 | 0.26453007 |  1 |\n",
       "| 4 | 2991 | 3549 | 2 | 0.7675 |  -33.964 |  0.22558611 |  0.49355778 |  0.42619483 |  0.31935196 | 0.22558611 | 0.49355778 | 0.42619483 | 0.31935196 |  1 |\n",
       "| 5 | 3162 | 3549 | 2 | 0.7899 | -119.037 | -0.28200055 | -0.20000000 | -0.17620705 | -0.22773627 | 0.28200055 | 0.20000000 | 0.17620705 | 0.22773627 | -1 |\n",
       "| 6 | 2196 | 3274 | 2 | 0.8067 |  -14.016 |  0.01182737 |  0.03030303 |  0.02822077 |  0.02066893 | 0.01182737 | 0.03030303 | 0.02822077 | 0.02066893 |  1 |\n",
       "\n"
      ],
      "text/plain": [
       "  CLUSTERID1 CLUSTERID2 ComponentIndex Cosine DeltaMZ  ChemProp2  \n",
       "1 4665       5180       1              0.7252   18.010 -0.07279578\n",
       "2 2991       3274       2              0.8399    0.021  0.01123600\n",
       "3 2196       3549       2              0.8259  -48.000  0.22617748\n",
       "4 2991       3549       2              0.7675  -33.964  0.22558611\n",
       "5 3162       3549       2              0.7899 -119.037 -0.28200055\n",
       "6 2196       3274       2              0.8067  -14.016  0.01182737\n",
       "  ChemProp_spearman ChemProp_log ChemProp_sqrt abs_ChemProp2\n",
       "1  0.03805308       -0.04024248  -0.06134123   0.07279578   \n",
       "2  0.15416384        0.16557195   0.07549082   0.01123600   \n",
       "3  0.36969697        0.28884364   0.26453007   0.22617748   \n",
       "4  0.49355778        0.42619483   0.31935196   0.22558611   \n",
       "5 -0.20000000       -0.17620705  -0.22773627   0.28200055   \n",
       "6  0.03030303        0.02822077   0.02066893   0.01182737   \n",
       "  abs_ChemProp_spearman abs_ChemProp_log abs_ChemProp_sqrt Sign_ChemProp2\n",
       "1 0.03805308            0.04024248       0.06134123        -1            \n",
       "2 0.15416384            0.16557195       0.07549082         1            \n",
       "3 0.36969697            0.28884364       0.26453007         1            \n",
       "4 0.49355778            0.42619483       0.31935196         1            \n",
       "5 0.20000000            0.17620705       0.22773627        -1            \n",
       "6 0.03030303            0.02822077       0.02066893         1            "
      ]
     },
     "metadata": {},
     "output_type": "display_data"
    }
   ],
   "source": [
    "AvgRep_result <- suppressWarnings((calculate_chemprop2_scores(ChemProp_ft_AvgRep, AvgRep_md_ChemProp, nw)))\n",
    "\n",
    "head(AvgRep_result)"
   ]
  },
  {
   "cell_type": "code",
   "execution_count": 375,
   "id": "77de7a50-1479-42d8-a774-bbd491a882aa",
   "metadata": {},
   "outputs": [],
   "source": [
    "write.csv(AvgRep_result, paste0(fName,'/Case3_AveragedRep_ChemProp2_scores.csv'),row.names =T)"
   ]
  },
  {
   "cell_type": "markdown",
   "id": "aaf3a659-0d91-4839-8c6b-b32a214019f0",
   "metadata": {},
   "source": [
    "# Case study: Effect of Control on the scores:\n",
    "\n",
    "(To be added)  \n",
    "Here, we repeat the same process as above with control samples."
   ]
  },
  {
   "cell_type": "code",
   "execution_count": null,
   "id": "23e0d635-1d13-4db7-981d-786a5e4401da",
   "metadata": {
    "jupyter": {
     "source_hidden": true
    },
    "tags": []
   },
   "outputs": [],
   "source": []
  },
  {
   "cell_type": "markdown",
   "id": "d9353bac-b69e-499a-af96-337f2beb6d9f",
   "metadata": {},
   "source": [
    "# <font color = 'blue'>  7. Conclusion </font>\n",
    "<a name=\"outro\"></a># Subsetting the feature table and metadata based on user-defined condition: "
   ]
  },
  {
   "cell_type": "code",
   "execution_count": null,
   "id": "d5244fc5-cf13-4811-9e41-87858801d842",
   "metadata": {},
   "outputs": [],
   "source": [
    "sessionInfo() # to see all the information about the current R session"
   ]
  },
  {
   "cell_type": "markdown",
   "id": "80b8d2f8-a242-4180-9dfa-9973587c4248",
   "metadata": {},
   "source": [
    "### Getting output files from Google Colab\n",
    "For Google Collab users, we can zip the result folder which contains all the output files using the next cell and download the zip file directly from the folder \"/content/My_TestData\" into the local system."
   ]
  },
  {
   "cell_type": "code",
   "execution_count": null,
   "id": "6eee3890-19e1-457d-8aea-4694a388a196",
   "metadata": {},
   "outputs": [],
   "source": [
    "#Only for Google Colab\n",
    "utils::zip(zipfile = 'TestData_Workflow_Results', files = \"/content/My_TestData_Workflow_Results/\")"
   ]
  }
 ],
 "metadata": {
  "colab": {
   "provenance": []
  },
  "kernelspec": {
   "display_name": "R",
   "language": "R",
   "name": "ir"
  },
  "language_info": {
   "codemirror_mode": "r",
   "file_extension": ".r",
   "mimetype": "text/x-r-source",
   "name": "R",
   "pygments_lexer": "r",
   "version": "4.1.3"
  },
  "toc": {
   "base_numbering": 1,
   "nav_menu": {},
   "number_sections": true,
   "sideBar": true,
   "skip_h1_title": false,
   "title_cell": "Table of Contents",
   "title_sidebar": "Contents",
   "toc_cell": false,
   "toc_position": {
    "height": "calc(100% - 180px)",
    "left": "10px",
    "top": "150px",
    "width": "301.797px"
   },
   "toc_section_display": true,
   "toc_window_display": true
  },
  "toc-autonumbering": false,
  "toc-showcode": false,
  "toc-showmarkdowntxt": false,
  "toc-showtags": false
 },
 "nbformat": 4,
 "nbformat_minor": 5
}
