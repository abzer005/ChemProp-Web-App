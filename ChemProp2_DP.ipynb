{
 "cells": [
  {
   "cell_type": "markdown",
   "id": "2dc69c1a",
   "metadata": {},
   "source": [
    "## ChemProp2\n",
    "Authors: Abzer Kelminal (abzer.shah@uni-tuebingen.de) <br>\n",
    "Edited by: Daniel Petras (daniel.petras@uni-tuebingen.de) <br>\n",
    "Input file format: .txt files or .csv files <br>\n",
    "Outputs: .csv files  <br>\n",
    "Dependencies: library(ggplot2), library(dplyr)"
   ]
  },
  {
   "cell_type": "markdown",
   "id": "5c043b6b",
   "metadata": {},
   "source": [
    "### About Input files:\n",
    "\n",
    "- **Feature_file** is obtained by performing Feature based Molecular Networking on the data using MZmine software.\n",
    "- **Nw_edge file** has the information of Feature IDs that are similar (not the same) in the columns 'Feature_ID_1' & 'Feature_ID_2'\n",
    "- **Nw_edge file** is an output of GNPS. "
   ]
  },
  {
   "cell_type": "code",
   "execution_count": null,
   "id": "944aee80",
   "metadata": {},
   "outputs": [],
   "source": [
    "# setting the current directory as the working directory\n",
    "setwd('Downloads/ChemProp2_Test') #Example"
   ]
  },
  {
   "cell_type": "code",
   "execution_count": null,
   "id": "6beacfa9",
   "metadata": {},
   "outputs": [],
   "source": [
    "# install the package if not present\n",
    "install.packages('ggplot2')\n",
    "install.packages('dplyr')"
   ]
  },
  {
   "cell_type": "code",
   "execution_count": null,
   "id": "af397ed3",
   "metadata": {},
   "outputs": [],
   "source": [
    "library(ggplot2)\n",
    "library(dplyr)\n",
    "\n",
    "Feature_file <- read.table(\"feature_table_ChemProp2.txt\", sep=\"\\t\", header=TRUE, row.names = 1) # By applying 'row.names = 1', the 1st column 'ID' becomes the row names\n",
    "Meta_File <-read.table(\"metadata_ChemProp2.txt\", sep=\"\\t\",header=TRUE, row.names = 1)\n",
    "Nw_edge <-read.table(\"Network_Edges_ChemProp2.txt\", sep=\"\\t\", header = TRUE)\n",
    "\n",
    "# In case of .csv files, use 'read.csv' instead of 'read.table'"
   ]
  },
  {
   "cell_type": "code",
   "execution_count": null,
   "id": "8f6aecc7",
   "metadata": {
    "scrolled": false
   },
   "outputs": [],
   "source": [
    "# head function returns the header (upto first 6 rows)of each files. This gives an idea about the content of the files.\n",
    "head(Feature_file)\n",
    "head(Meta_File)\n",
    "head(Nw_edge)"
   ]
  },
  {
   "cell_type": "code",
   "execution_count": null,
   "id": "2a94899a",
   "metadata": {},
   "outputs": [],
   "source": [
    "# If Meta_File information given in Column-wise\n",
    "Meta_Data <- Meta_File %>% select(contains(readline('Enter the MetaData Name:')))"
   ]
  },
  {
   "cell_type": "code",
   "execution_count": null,
   "id": "d1413146",
   "metadata": {},
   "outputs": [],
   "source": [
    "# If Meta_File information given in Row-wise\n",
    "Meta_Data <- Meta_File[(readline('Enter the MetaData Name:')),]"
   ]
  },
  {
   "cell_type": "markdown",
   "id": "3831156e",
   "metadata": {},
   "source": [
    "### Chemical Proportionality score:\n",
    "\n",
    "- The below code adds a column of **Chemical Proportionality score** to the Nw_edge file. In addition to that, columns with information such as absolute values of ChemProp score and the sign of Chemprop scores are also added.\n",
    "- In addition to ChemProp score using Pearson correlation method (which is ideal for linear transformations), the below code also generates scores using other methods such as spearman correlation, natural log transformation, square root transformations, for supporting non-linear data "
   ]
  },
  {
   "cell_type": "markdown",
   "id": "98395a0e",
   "metadata": {},
   "source": [
    "### <font color = red> To Note: </font>\n",
    "- For Feature table extracted using MZmine 3, it might contain several columns in addition to **Row m/z** and **Row Retention Time**. Change the line in the below code `x<-x[,c(-1:-2)]` accordingly to exclude all these columns.\n",
    "- Similarly, the Nw_edge file may contain the first 2 columns in different names such as ID1, ID2 or Cluster_ID1 , Cluster_ID2. Change the lines in the below code `x<- subset(Feature_file, rownames(Feature_file) == Nw_edge$Feature_ID_1[i])` accordingly to `x<- subset(Feature_file, rownames(Feature_file) == Nw_edge$ID_1[i])`"
   ]
  },
  {
   "cell_type": "code",
   "execution_count": null,
   "id": "c0a7503b",
   "metadata": {},
   "outputs": [],
   "source": [
    "ChemProp2 <- c()\n",
    "ChemProp_spearman <-c()\n",
    "ChemProp_log <- c()\n",
    "ChemProp_sqrt <- c()\n",
    "\n",
    "for (i in 1:NROW(Nw_edge)) {\n",
    "  \n",
    "  x<- subset(Feature_file, rownames(Feature_file) == Nw_edge$Feature_ID_1[i]) # rownames(Feature_file) is the feature ID. This line gets the 'Feature ID 1' from the first column of Nw_edge i.e., Feature_ID_1. Then picks the corresponding \n",
    "  x<- rbind(x,subset(Feature_file, rownames(Feature_file) == Nw_edge$Feature_ID_2[i]))\n",
    "  # x is the subset data which has the Feature ID 1 and 2 which are similar according to Nw_edge file.\n",
    "  x<-x[,c(-1:-2)] # Removing the first two columns --> Row m/z and Row Retention Time information\n",
    "  A<-colnames(x) \n",
    "  B<-colnames(Meta_Data)\n",
    "  A==B # Checking the column names of the subset data x against that of meta data.\n",
    "  reorder_id<-match(B,A) #Match gives the position in which B (the column names of Meta data) is present in A (subset data) and store the position info in reorder_id \n",
    "  reordered_x <- x[reorder_id] #Rearranging x (subset data) with respect to the new positions\n",
    "  reordered_x <- rbind(Meta_Data[1,],reordered_x) # With positions of both x and meta data being the same now, it can be combined\n",
    "  \n",
    "  reordered_x <-data.frame(t(reordered_x))  # Transposing the data, thus it contains 3 columns, 'Metadata info. For ex: Time', 'Feature ID 1', 'Feature ID 2'\n",
    "  \n",
    "  corr_result<-cor(reordered_x, method = \"pearson\") # Performing Pearson correlation\n",
    "  ChemProp_score <- (corr_result[1,3] - corr_result[1,2]) / 2 # ChemProp2 score is obtained by: (Pearson(Feature ID 2) - Pearson(Feature ID 1)) / 2\n",
    "  \n",
    "  corr_2 <- cor(reordered_x, method = \"spearman\") # Performing Spearman correlation\n",
    "  Score_spearman <- (corr_2[1,3] - corr_2[1,2]) / 2\n",
    "  \n",
    "  log_reorderedX <- cbind(reordered_x[,1],log(reordered_x[,2:3]+1)) # Performing natural log transformations on Feature IDs 1 and 2\n",
    "  corr_3 <- cor(log_reorderedX) # performing (pearson) correlation on the log transformed data\n",
    "  Score_log <-(corr_3[1,3] - corr_3[1,2]) / 2\n",
    "  \n",
    "  sqrt_reorderedX <- cbind(reordered_x[,1],sqrt(reordered_x[,2:3])) # Taking square roots of Feature IDs 1 and 2\n",
    "  corr_4 <- cor(sqrt_reorderedX) # performing (pearson) correlation on the square roots\n",
    "  Score_sqrt <- (corr_4[1,3] - corr_4[1,2])/2\n",
    "  \n",
    "  ChemProp2 <- rbind(ChemProp2, ChemProp_score, deparse.level = 0) # deparse.level = 0 constructs no labels; if not given, the resultant matrix has row names (for all rows) created from the input arguments such as 'ChemProp_score' here.\n",
    "  ChemProp_spearman <- rbind(ChemProp_spearman,Score_spearman,  deparse.level = 0)\n",
    "  ChemProp_log <- rbind(ChemProp_log,Score_log,  deparse.level = 0)\n",
    "  ChemProp_sqrt <- rbind(ChemProp_sqrt, Score_sqrt, deparse.level = 0)\n",
    "}\n",
    "\n",
    "Nw_edge_new <- cbind (Nw_edge, ChemProp2,ChemProp_spearman,ChemProp_log,ChemProp_sqrt )\n",
    "rownames(Nw_edge_new) <- NULL\n",
    "Nw_edge_new <- Nw_edge_new[order(Nw_edge_new$ChemProp2, decreasing = TRUE), ] # Rearranging Nw_edge_new in the decreasing order of ChemProp2 score\n",
    "Abs_ChemProp2 <- abs(Nw_edge_new$ChemProp2)\n",
    "Sign_ChemProp2 <- sign(Nw_edge_new$ChemProp2)\n",
    "\n",
    "ChemProp2_file <- cbind(Nw_edge_new,Abs_ChemProp2,Sign_ChemProp2)\n",
    "write.csv(ChemProp2_file, 'With_ChemProp2_score.csv')"
   ]
  },
  {
   "cell_type": "markdown",
   "id": "3a2e3349",
   "metadata": {},
   "source": [
    "### Visualizing the distribution of ChemProp2 score of the sample data:"
   ]
  },
  {
   "cell_type": "code",
   "execution_count": null,
   "id": "4bb82115",
   "metadata": {},
   "outputs": [],
   "source": [
    "qplot(ChemProp2_file$ChemProp2,\n",
    "      geom=\"histogram\",\n",
    "      binwidth=0.05,  \n",
    "      main=\"Histogram for distribution of ChemProp2 score in sample data\", \n",
    "      xlab= 'ChemProp2 Score',\n",
    "      ylab= 'Density',\n",
    "      fill=I(\"#56B4E9\"))"
   ]
  }
 ],
 "metadata": {
  "kernelspec": {
   "display_name": "R",
   "language": "R",
   "name": "ir"
  },
  "language_info": {
   "codemirror_mode": "r",
   "file_extension": ".r",
   "mimetype": "text/x-r-source",
   "name": "R",
   "pygments_lexer": "r",
   "version": "3.6.1"
  }
 },
 "nbformat": 4,
 "nbformat_minor": 5
}
