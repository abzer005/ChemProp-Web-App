{
 "cells": [
  {
   "cell_type": "markdown",
   "id": "2dc69c1a",
   "metadata": {},
   "source": [
    "## ChemProp2\n",
    "Authors: Abzer Kelminal (abzer.shah@uni-tuebingen.de) <br>\n",
    "Edited by: Daniel Petras (daniel.petras@uni-tuebingen.de) <br>\n",
    "Input file format: .txt files or .csv files <br>\n",
    "Outputs: .csv files  <br>\n",
    "Dependencies: library(ggplot2), library(dplyr)"
   ]
  },
  {
   "cell_type": "markdown",
   "id": "5c043b6b",
   "metadata": {},
   "source": [
    "### About Input files:\n",
    "\n",
    "- **Feature_file** is obtained by performing Feature based Molecular Networking on the data using MZmine software.\n",
    "- **Nw_edge file** has the information of Feature IDs that are similar (not the same) in the columns 'Feature_ID_1' & 'Feature_ID_2'\n",
    "- **Nw_edge file** is an output of GNPS. "
   ]
  },
  {
   "cell_type": "code",
   "execution_count": null,
   "id": "944aee80",
   "metadata": {},
   "outputs": [],
   "source": [
    "# setting the current directory as the working directory\n",
    "Directory <- normalizePath(readline(\"Enter the link of the folder with input files: \"),\"/\",mustWork=FALSE)\n",
    "setwd(Directory)"
   ]
  },
  {
   "cell_type": "code",
   "execution_count": null,
   "id": "6beacfa9",
   "metadata": {},
   "outputs": [],
   "source": [
    "# install the package if not present\n",
    "\n",
    "#install.packages('ggplot2')\n",
    "#install.packages('dplyr')"
   ]
  },
  {
   "cell_type": "code",
   "execution_count": null,
   "id": "55682f69",
   "metadata": {},
   "outputs": [],
   "source": [
    "library('ggplot2')\n",
    "library('dplyr')"
   ]
  },
  {
   "cell_type": "code",
   "execution_count": null,
   "id": "b24ba215",
   "metadata": {},
   "outputs": [],
   "source": [
    "# Getting all the files in the folder\n",
    "dirs <- dir(path=paste(getwd(), sep=\"\"), full.names=TRUE, recursive=TRUE)\n",
    "folders <- unique(dirname(dirs))\n",
    "files = list.files(folders, full.names=TRUE)\n",
    "files_1 <- basename((files))\n",
    "files_2 <- dirname((files))"
   ]
  },
  {
   "cell_type": "code",
   "execution_count": null,
   "id": "2a598170",
   "metadata": {},
   "outputs": [],
   "source": [
    "# Creating a Result folder\n",
    "dir.create(path=paste(files_2[[1]], \"_Results\", sep=\"\"), showWarnings = TRUE)\n",
    "fName <-paste(files_2[[1]], \"_Results\", sep=\"\")\n",
    "\n",
    "print(files_1)"
   ]
  },
  {
   "cell_type": "code",
   "execution_count": null,
   "id": "a058c584",
   "metadata": {},
   "outputs": [],
   "source": [
    "Feature_file <- read.csv(files_1[(as.double(readline(\"Number of Feature file:\")))], header=TRUE, row.names = 1,check.names = FALSE) # By applying 'row.names = 1', the 1st column 'ID' becomes the row names\n",
    "Meta_File <-read.table(files_1[(as.double(readline(\"Number of Meta file:\")))], sep=\"\\t\",header=TRUE, row.names = 1,check.names = FALSE)\n",
    "Nw_edge <-read.table(files_1[(as.double(readline(\"Number of Network edge file:\")))], sep=\"\\t\", header = TRUE,check.names = FALSE)\n",
    "# In case of .csv files, use 'read.csv' instead of 'read.table'"
   ]
  },
  {
   "cell_type": "code",
   "execution_count": null,
   "id": "08164351",
   "metadata": {},
   "outputs": [],
   "source": [
    "print(colnames(Feature_file))\n",
    "Info_columns <- as.double(1):as.double(readline('No.of columns to skip:'))"
   ]
  },
  {
   "cell_type": "code",
   "execution_count": null,
   "id": "8f6aecc7",
   "metadata": {
    "scrolled": false
   },
   "outputs": [],
   "source": [
    "# head function returns the header (upto first 6 rows)of each files. This gives an idea about the content of the files.\n",
    "head(Meta_File)"
   ]
  },
  {
   "cell_type": "code",
   "execution_count": null,
   "id": "2a94899a",
   "metadata": {},
   "outputs": [],
   "source": [
    "if(readline(\"Is Metadata information given column-wise? YES/NO:\") == \"NO\"){\n",
    "  Meta_File <- as.data.frame(t(Meta_File))\n",
    "} "
   ]
  },
  {
   "cell_type": "code",
   "execution_count": null,
   "id": "d1413146",
   "metadata": {},
   "outputs": [],
   "source": [
    "\n",
    "Meta_Filtered <- Meta_File %>% filter(ATTRIBUTE_species == \"E.coli\")\n",
    "MetaData_Name <- readline('Enter the MetaData Name:')\n",
    "Meta_Data <- Meta_Filtered %>% select(contains(MetaData_Name)) ##Meta_Filtered or Meta_File"
   ]
  },
  {
   "cell_type": "markdown",
   "id": "3831156e",
   "metadata": {},
   "source": [
    "### Chemical Proportionality score:\n",
    "\n",
    "- The below code adds a column of **Chemical Proportionality score** to the Nw_edge file. In addition to that, columns with information such as absolute values of ChemProp score and the sign of Chemprop scores are also added.\n",
    "- In addition to ChemProp score using Pearson correlation method (which is ideal for linear transformations), the below code also generates scores using other methods such as spearman correlation, natural log transformation, square root transformations, for supporting non-linear data "
   ]
  },
  {
   "cell_type": "code",
   "execution_count": null,
   "id": "c0a7503b",
   "metadata": {},
   "outputs": [],
   "source": [
    "ChemProp2 <- c()\n",
    "ChemProp_spearman <-c()\n",
    "ChemProp_log <- c()\n",
    "ChemProp_sqrt <- c()\n",
    "\n",
    "for (i in 1:NROW(Nw_edge)) {\n",
    "  \n",
    "  x<- subset(Feature_file, rownames(Feature_file) == Nw_edge[i,1]) # rownames(Feature_file) is the feature ID or cluster ID. The subset command gets the 'Feature ID 1' from the first column of Nw_edge. Then picks the row from the Feature_file corresponding to the 'Feature ID 1'\n",
    "  x<- rbind(x,subset(Feature_file, rownames(Feature_file) == Nw_edge[i,2]))\n",
    "  # x is the subset data which has the Feature ID 1 and 2 specified according to Nw_edge file.\n",
    "  x<-x[,-(Info_columns)] # Removing the columns other than feature intensities\n",
    "  A<-colnames(x) \n",
    "  B<-rownames(Meta_Data)\n",
    "  A==B # Checking the column names of the subset data x against that of meta data.\n",
    "  reorder_id<-match(B,A) #Match gives the position in which B (the column names of Meta data) is present in A (subset data) and store the position info in reorder_id \n",
    "  reordered_x <- data.frame(t(x[reorder_id])) #Rearranging x (subset data) with respect to the new positions and transposing it\n",
    "  reordered_x <- cbind(Meta_Data[,1],reordered_x) # Combining the metadata column (here, timepoint) with reordered_x\n",
    "  #Thus, the resulting reordered_x contains 3 columns, such as: 'Metadata info(eg., Timepoint)', 'Feature ID 1', 'Feature ID 2'\n",
    "  \n",
    "  corr_result<-cor(reordered_x, method = \"pearson\") # Performing Pearson correlation\n",
    "  ChemProp_score <- (corr_result[1,3] - corr_result[1,2]) / 2 # ChemProp2 score is obtained by: (Pearson(Feature ID 2) - Pearson(Feature ID 1)) / 2\n",
    "  \n",
    "  corr_2 <- cor(reordered_x, method = \"spearman\") # Performing Spearman correlation\n",
    "  Score_spearman <- (corr_2[1,3] - corr_2[1,2]) / 2\n",
    "  \n",
    "  log_reorderedX <- cbind(reordered_x[,1],log(reordered_x[,2:3]+1)) # Performing natural log transformations on Feature IDs 1 and 2\n",
    "  corr_3 <- cor(log_reorderedX) # performing (pearson) correlation on the log transformed data\n",
    "  Score_log <-(corr_3[1,3] - corr_3[1,2]) / 2\n",
    "  \n",
    "  sqrt_reorderedX <- cbind(reordered_x[,1],sqrt(reordered_x[,2:3])) # Taking square roots of Feature IDs 1 and 2\n",
    "  corr_4 <- cor(sqrt_reorderedX) # performing (pearson) correlation on the square roots\n",
    "  Score_sqrt <- (corr_4[1,3] - corr_4[1,2])/2\n",
    "  \n",
    "  ChemProp2 <- rbind(ChemProp2, ChemProp_score, deparse.level = 0) # deparse.level = 0 constructs no labels; if not given, the resultant matrix has row names (for all rows) created from the input arguments such as 'ChemProp_score' here.\n",
    "  ChemProp_spearman <- rbind(ChemProp_spearman,Score_spearman,  deparse.level = 0)\n",
    "  ChemProp_log <- rbind(ChemProp_log,Score_log,  deparse.level = 0)\n",
    "  ChemProp_sqrt <- rbind(ChemProp_sqrt, Score_sqrt, deparse.level = 0)\n",
    "    \n",
    "  Max_Y_Axis= max(max(reordered_x[,2]),max(reordered_x[,3]))\n",
    "  \n",
    "  #Plotting scatterplots\n",
    "  if(is.na(ChemProp_score)==FALSE){\n",
    "     \n",
    "    \n",
    "     Col_names <- colnames(reordered_x)\n",
    "     png(filename=paste0(fName, \"/ScatterPlot_\",i,\"_ChemProp_\",ChemProp_score, \".png\", sep=\"\"), width=20, height=20, units='cm', bg='white', res=600)\n",
    "     layout(matrix(1:1, nrow=1, byrow=FALSE))\n",
    "     par(mar=c(5,4,4,8), mgp=c(2, 1, 0), cex.axis=1, cex.lab=1, cex.main=1,xpd=TRUE)\n",
    "     plot(reordered_x[,1],reordered_x[,2],main=paste0(\"Scatter Plot of Cluster IDs: \",Col_names[2],\" vs \",Col_names[3]), sub=paste0(\"ChemProp2 score: \",ChemProp_score),col=\"red\",xlab = \"Hours\",ylab=\"Abundance\",ylim=c(0,Max_Y_Axis))\n",
    "     points(reordered_x[,1],reordered_x[,3],col=\"blue\")\n",
    "     xtick<-seq(0, 50, by=5)\n",
    "     axis(side=1, at=xtick, labels = TRUE)\n",
    "     \n",
    "     legend(\"topright\",inset=c(-0.2,0),legend=c(Col_names[2], Col_names[3]),col=c(\"red\", \"blue\"), lty=1:2, cex=0.8,pch=1)\n",
    "     dev.off()\n",
    "}\n",
    "\n",
    "Nw_edge_new <- cbind (Nw_edge, ChemProp2,ChemProp_spearman,ChemProp_log,ChemProp_sqrt )\n",
    "rownames(Nw_edge_new) <- NULL\n",
    "Nw_edge_new <- Nw_edge_new[order(Nw_edge_new$ChemProp2, decreasing = TRUE), ] # Rearranging Nw_edge_new in the decreasing order of ChemProp2 score\n",
    "Abs_ChemProp2 <- abs(Nw_edge_new$ChemProp2) #getting only the absolute value of ChemProp2\n",
    "Sign_ChemProp2 <- sign(Nw_edge_new$ChemProp2) #getting only the sign of ChemProp2 as 1 or -1\n",
    "\n",
    "ChemProp2_file <- cbind(Nw_edge_new,Abs_ChemProp2,Sign_ChemProp2)\n",
    "write.csv(ChemProp2_file, 'NetworkEdge_File_With_ChemProp2_score.csv')"
   ]
  },
  {
   "cell_type": "markdown",
   "id": "3a2e3349",
   "metadata": {},
   "source": [
    "### Visualizing the distribution of ChemProp2 score of the sample data:"
   ]
  },
  {
   "cell_type": "code",
   "execution_count": null,
   "id": "4bb82115",
   "metadata": {},
   "outputs": [],
   "source": [
    "qplot(ChemProp2_file$ChemProp2,\n",
    "      geom=\"histogram\",\n",
    "      binwidth=0.05,  \n",
    "      main=\"Histogram for distribution of ChemProp2 score in sample data\", \n",
    "      xlab= 'ChemProp2 Score',\n",
    "      ylab= 'Density',\n",
    "      fill=I(\"#56B4E9\"))"
   ]
  }
 ],
 "metadata": {
  "kernelspec": {
   "display_name": "R",
   "language": "R",
   "name": "ir"
  },
  "language_info": {
   "codemirror_mode": "r",
   "file_extension": ".r",
   "mimetype": "text/x-r-source",
   "name": "R",
   "pygments_lexer": "r",
   "version": "3.6.1"
  }
 },
 "nbformat": 4,
 "nbformat_minor": 5
}
